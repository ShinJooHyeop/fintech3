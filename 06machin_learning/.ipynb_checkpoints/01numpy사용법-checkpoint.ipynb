{
 "cells": [
  {
   "cell_type": "markdown",
   "id": "bf8d1b65",
   "metadata": {},
   "source": [
    "# numpy\n",
    "* Nemerical Python 과학적, 선업적 연상을 위한 패키지\n",
    "* 다차원 배열,행렬 연산에 주로 사용\n",
    "* numpy는 python의 list와 비슷한 자료형\n",
    "* 순서가 있는 자료형\n",
    "* 인덱싱, 슬라이싱 가능\n",
    "* 반복문에 넣어서 한개씩 꺼내는 것도 가능\n",
    "* 파이썬 list와의 차이점은 자료형이 1개만 들어간다는 점이 다르다."
   ]
  },
  {
   "cell_type": "markdown",
   "id": "3d49a201",
   "metadata": {},
   "source": [
    "# 차원\n",
    "* 0차원 = 점 . 스칼라 a = 10\n",
    "* 1차원 = 선 ------ 방향이 없는 백터,배열,list,tuple\n",
    "    * 벡터(vector): 방향을 가진 데이터\n",
    "* 2차원 = 면, 가로,세로,DB테이블, Excel의 sheet, 행렬, DataFrame, matrix\n",
    "    * 행벡터 : 행이 1개인 벡터 [[1,2,3,4]]\n",
    "    * 열벡터 : 열이 1개인 백터 <br>\n",
    "                  [[1]<br>,\n",
    "                   [2]<br>,\n",
    "                   [3]<br>,\n",
    "                   [4]]'\n",
    "* 3차원 = 입체, 가로, 세로, 깊이, 정육면체, 주사위\n",
    "* 4차원 = 3차원 요소가 2개 이상 묶여 있는 상태\n",
    "* 5차원 = 4차원 요소가 2개 이상 묶여 있는 상태"
   ]
  },
  {
   "cell_type": "code",
   "execution_count": 1,
   "id": "b5a3a1ee",
   "metadata": {},
   "outputs": [],
   "source": [
    "import pandas as pd\n",
    "import numpy as  np"
   ]
  },
  {
   "cell_type": "code",
   "execution_count": 4,
   "id": "44c5f7ce",
   "metadata": {},
   "outputs": [
    {
     "data": {
      "text/plain": [
       "array([1, 2, 3, 4, 5])"
      ]
     },
     "execution_count": 4,
     "metadata": {},
     "output_type": "execute_result"
    }
   ],
   "source": [
    "# numpy의 기본 자료형 nd.array\n",
    "a= np.array([1,2,3,4,5])\n",
    "a"
   ]
  },
  {
   "cell_type": "code",
   "execution_count": 5,
   "id": "1d8b0fa4",
   "metadata": {},
   "outputs": [
    {
     "data": {
      "text/plain": [
       "np.int64(1)"
      ]
     },
     "execution_count": 5,
     "metadata": {},
     "output_type": "execute_result"
    }
   ],
   "source": [
    "a[0]"
   ]
  },
  {
   "cell_type": "code",
   "execution_count": 13,
   "id": "a8ef815f",
   "metadata": {},
   "outputs": [
    {
     "name": "stdout",
     "output_type": "stream",
     "text": [
      "5\n"
     ]
    }
   ],
   "source": [
    "print(a[-1])"
   ]
  },
  {
   "cell_type": "markdown",
   "id": "a2789e9f",
   "metadata": {},
   "source": [
    "* 차원을 출력하는 메서드 .ndim\n",
    "* 차원의 형태를 출력하는 메서드 .shape"
   ]
  },
  {
   "cell_type": "code",
   "execution_count": 14,
   "id": "689a18d1",
   "metadata": {},
   "outputs": [],
   "source": [
    "# 스칼라, 0차원\n",
    "s = 10"
   ]
  },
  {
   "cell_type": "code",
   "execution_count": 15,
   "id": "80568632",
   "metadata": {},
   "outputs": [
    {
     "data": {
      "text/plain": [
       "1"
      ]
     },
     "execution_count": 15,
     "metadata": {},
     "output_type": "execute_result"
    }
   ],
   "source": [
    "# a는 방향이 없는 벡터\n",
    "a.ndim"
   ]
  },
  {
   "cell_type": "code",
   "execution_count": 16,
   "id": "ff9c8d19",
   "metadata": {},
   "outputs": [
    {
     "data": {
      "text/plain": [
       "(5,)"
      ]
     },
     "execution_count": 16,
     "metadata": {},
     "output_type": "execute_result"
    }
   ],
   "source": [
    "# 데이터가 5개 있는 방향 없는 백터\n",
    "a.shape"
   ]
  },
  {
   "cell_type": "code",
   "execution_count": 17,
   "id": "53aee13e",
   "metadata": {},
   "outputs": [
    {
     "data": {
      "text/plain": [
       "array([[1],\n",
       "       [2],\n",
       "       [3],\n",
       "       [4],\n",
       "       [5]])"
      ]
     },
     "execution_count": 17,
     "metadata": {},
     "output_type": "execute_result"
    }
   ],
   "source": [
    "# 세로로 방향을 가진 열벡터\n",
    "a2 = np.array([[1],[2],[3],[4],[5]])\n",
    "a2"
   ]
  },
  {
   "cell_type": "code",
   "execution_count": 18,
   "id": "3d98813e",
   "metadata": {},
   "outputs": [
    {
     "name": "stdout",
     "output_type": "stream",
     "text": [
      "2\n",
      "(5, 1)\n"
     ]
    }
   ],
   "source": [
    "print(a2.ndim)\n",
    "print(a2.shape)"
   ]
  },
  {
   "cell_type": "code",
   "execution_count": 19,
   "id": "b7f1f7b2",
   "metadata": {},
   "outputs": [
    {
     "name": "stdout",
     "output_type": "stream",
     "text": [
      "2\n",
      "(1, 5)\n"
     ]
    }
   ],
   "source": [
    "# 행벡터 2차원 행이 1개인 벡터\n",
    "a3 =  np.array([[1,2,3,4,5]])\n",
    "print(a3.ndim)\n",
    "print(a3.shape)"
   ]
  },
  {
   "cell_type": "code",
   "execution_count": 20,
   "id": "b944c606",
   "metadata": {},
   "outputs": [
    {
     "data": {
      "text/plain": [
       "array([[ 1,  2,  3,  4,  5],\n",
       "       [ 6,  7,  8,  9, 10]])"
      ]
     },
     "execution_count": 20,
     "metadata": {},
     "output_type": "execute_result"
    }
   ],
   "source": [
    "# 2차원 데이터 matrix, DataFrame\n",
    "c = np.array([[1,2,3,4,5],[6,7,8,9,10]])\n",
    "c"
   ]
  },
  {
   "cell_type": "code",
   "execution_count": 21,
   "id": "fd21cb25",
   "metadata": {},
   "outputs": [
    {
     "name": "stdout",
     "output_type": "stream",
     "text": [
      "2\n",
      "(2, 5)\n"
     ]
    }
   ],
   "source": [
    "print(c.ndim)\n",
    "print(c.shape)"
   ]
  },
  {
   "cell_type": "code",
   "execution_count": 22,
   "id": "c5f7d451",
   "metadata": {},
   "outputs": [
    {
     "data": {
      "text/plain": [
       "array([[[ 1,  2,  3,  4,  5],\n",
       "        [ 6,  7,  8,  9, 10]],\n",
       "\n",
       "       [[ 1,  2,  3,  4,  5],\n",
       "        [ 6,  7,  8,  9, 10]]])"
      ]
     },
     "execution_count": 22,
     "metadata": {},
     "output_type": "execute_result"
    }
   ],
   "source": [
    "# 3차원 데이터\n",
    "d = np.array([[[1,2,3,4,5],[6,7,8,9,10]],[[1,2,3,4,5],[6,7,8,9,10]]])\n",
    "d"
   ]
  },
  {
   "cell_type": "code",
   "execution_count": 23,
   "id": "291bc6f6",
   "metadata": {},
   "outputs": [
    {
     "name": "stdout",
     "output_type": "stream",
     "text": [
      "3\n",
      "(2, 2, 5)\n"
     ]
    }
   ],
   "source": [
    "print(d.ndim)\n",
    "print(d.shape)"
   ]
  },
  {
   "cell_type": "code",
   "execution_count": 24,
   "id": "5380d55c",
   "metadata": {},
   "outputs": [
    {
     "data": {
      "text/plain": [
       "array([[[[ 1,  2,  3,  4,  5],\n",
       "         [ 6,  7,  8,  9, 10]],\n",
       "\n",
       "        [[ 1,  2,  3,  4,  5],\n",
       "         [ 6,  7,  8,  9, 10]]],\n",
       "\n",
       "\n",
       "       [[[ 1,  2,  3,  4,  5],\n",
       "         [ 6,  7,  8,  9, 10]],\n",
       "\n",
       "        [[ 1,  2,  3,  4,  5],\n",
       "         [ 6,  7,  8,  9, 10]]]])"
      ]
     },
     "execution_count": 24,
     "metadata": {},
     "output_type": "execute_result"
    }
   ],
   "source": [
    "# 4차원 데이터\n",
    "e = np.array([[[[1,2,3,4,5],[6,7,8,9,10]],[[1,2,3,4,5],[6,7,8,9,10]]],[[[1,2,3,4,5],[6,7,8,9,10]],[[1,2,3,4,5],[6,7,8,9,10]]]])\n",
    "e"
   ]
  },
  {
   "cell_type": "code",
   "execution_count": 25,
   "id": "6eab7e92",
   "metadata": {},
   "outputs": [
    {
     "name": "stdout",
     "output_type": "stream",
     "text": [
      "4\n",
      "(2, 2, 2, 5)\n"
     ]
    }
   ],
   "source": [
    "print(e.ndim)\n",
    "print(e.shape)"
   ]
  },
  {
   "cell_type": "code",
   "execution_count": 26,
   "id": "b37baaaf",
   "metadata": {},
   "outputs": [
    {
     "data": {
      "text/plain": [
       "array([[[[[ 1,  2,  3,  4,  5],\n",
       "          [ 6,  7,  8,  9, 10]],\n",
       "\n",
       "         [[ 1,  2,  3,  4,  5],\n",
       "          [ 6,  7,  8,  9, 10]]],\n",
       "\n",
       "\n",
       "        [[[ 1,  2,  3,  4,  5],\n",
       "          [ 6,  7,  8,  9, 10]],\n",
       "\n",
       "         [[ 1,  2,  3,  4,  5],\n",
       "          [ 6,  7,  8,  9, 10]]]],\n",
       "\n",
       "\n",
       "\n",
       "       [[[[ 1,  2,  3,  4,  5],\n",
       "          [ 6,  7,  8,  9, 10]],\n",
       "\n",
       "         [[ 1,  2,  3,  4,  5],\n",
       "          [ 6,  7,  8,  9, 10]]],\n",
       "\n",
       "\n",
       "        [[[ 1,  2,  3,  4,  5],\n",
       "          [ 6,  7,  8,  9, 10]],\n",
       "\n",
       "         [[ 1,  2,  3,  4,  5],\n",
       "          [ 6,  7,  8,  9, 10]]]]])"
      ]
     },
     "execution_count": 26,
     "metadata": {},
     "output_type": "execute_result"
    }
   ],
   "source": [
    "# 5차원 데이터\n",
    "f = np.array([[[[[1,2,3,4,5],[6,7,8,9,10]],[[1,2,3,4,5],[6,7,8,9,10]]],[[[1,2,3,4,5],[6,7,8,9,10]],[[1,2,3,4,5],[6,7,8,9,10]]]],[[[[1,2,3,4,5],[6,7,8,9,10]],[[1,2,3,4,5],[6,7,8,9,10]]],[[[1,2,3,4,5],[6,7,8,9,10]],[[1,2,3,4,5],[6,7,8,9,10]]]]])\n",
    "f"
   ]
  },
  {
   "cell_type": "code",
   "execution_count": 27,
   "id": "322cc43d",
   "metadata": {},
   "outputs": [
    {
     "name": "stdout",
     "output_type": "stream",
     "text": [
      "5\n",
      "(2, 2, 2, 2, 5)\n"
     ]
    }
   ],
   "source": [
    "print(f.ndim)\n",
    "print(f.shape)"
   ]
  },
  {
   "cell_type": "markdown",
   "id": "d60d2a50",
   "metadata": {},
   "source": [
    "# 넘파이를 사용하는 이유\n",
    "* 행렬 연산이 쉽고 빠르기 때문"
   ]
  },
  {
   "cell_type": "code",
   "execution_count": 28,
   "id": "56711cb1",
   "metadata": {},
   "outputs": [
    {
     "name": "stdout",
     "output_type": "stream",
     "text": [
      "15\n"
     ]
    }
   ],
   "source": [
    "# 스칼라 연산\n",
    "a = 10\n",
    "b = 5\n",
    "scalar = a+b\n",
    "print(scalar)"
   ]
  },
  {
   "cell_type": "code",
   "execution_count": 29,
   "id": "f5427925",
   "metadata": {},
   "outputs": [],
   "source": [
    "# 1차원 벡터 데이터의 연산\n",
    "b1 = [1,2,3,4,5]"
   ]
  },
  {
   "cell_type": "code",
   "execution_count": 30,
   "id": "812a1194",
   "metadata": {},
   "outputs": [],
   "source": [
    "# b1의 모든 요소에 10을 곱한 후 다시 리스트로 만드세요"
   ]
  },
  {
   "cell_type": "code",
   "execution_count": 31,
   "id": "849da1c2",
   "metadata": {},
   "outputs": [
    {
     "data": {
      "text/plain": [
       "[10, 20, 30, 40, 50]"
      ]
     },
     "execution_count": 31,
     "metadata": {},
     "output_type": "execute_result"
    }
   ],
   "source": [
    "result = []\n",
    "for num in b1:\n",
    "    result.append(num*10)\n",
    "    \n",
    "result"
   ]
  },
  {
   "cell_type": "code",
   "execution_count": 32,
   "id": "461c8089",
   "metadata": {},
   "outputs": [
    {
     "data": {
      "text/plain": [
       "[10, 20, 30, 40, 50]"
      ]
     },
     "execution_count": 32,
     "metadata": {},
     "output_type": "execute_result"
    }
   ],
   "source": [
    "result2 = [num*10 for num in b1]\n",
    "result2"
   ]
  },
  {
   "cell_type": "code",
   "execution_count": 33,
   "id": "d2a04145",
   "metadata": {},
   "outputs": [
    {
     "data": {
      "text/plain": [
       "array([[10],\n",
       "       [20],\n",
       "       [30],\n",
       "       [40],\n",
       "       [50]])"
      ]
     },
     "execution_count": 33,
     "metadata": {},
     "output_type": "execute_result"
    }
   ],
   "source": [
    "a2*10"
   ]
  },
  {
   "cell_type": "code",
   "execution_count": 34,
   "id": "2bcf158d",
   "metadata": {},
   "outputs": [
    {
     "data": {
      "text/plain": [
       "array([[10, 20, 30, 40, 50]])"
      ]
     },
     "execution_count": 34,
     "metadata": {},
     "output_type": "execute_result"
    }
   ],
   "source": [
    "a3 * 10"
   ]
  },
  {
   "cell_type": "markdown",
   "id": "18083a2e",
   "metadata": {},
   "source": [
    "# 2차원 데이터에 10을 곱하는 경우"
   ]
  },
  {
   "cell_type": "markdown",
   "id": "ac1dbc07",
   "metadata": {},
   "source": [
    "* 파이썬 기본 문법으로 했을 때"
   ]
  },
  {
   "cell_type": "code",
   "execution_count": 35,
   "id": "d240cbce",
   "metadata": {},
   "outputs": [
    {
     "data": {
      "text/plain": [
       "[[np.int64(10), np.int64(20), np.int64(30), np.int64(40), np.int64(50)],\n",
       " [np.int64(60), np.int64(70), np.int64(80), np.int64(90), np.int64(100)]]"
      ]
     },
     "execution_count": 35,
     "metadata": {},
     "output_type": "execute_result"
    }
   ],
   "source": [
    "result = []\n",
    "for num1 in c:\n",
    "    temp = []\n",
    "    for num2 in num1:\n",
    "        temp.append(num2*10)\n",
    "    result.append(temp)\n",
    "result"
   ]
  },
  {
   "cell_type": "markdown",
   "id": "1a29ddec",
   "metadata": {},
   "source": [
    "* 넘파이를 사용했을 때"
   ]
  },
  {
   "cell_type": "code",
   "execution_count": 36,
   "id": "21be2b31",
   "metadata": {
    "scrolled": true
   },
   "outputs": [
    {
     "data": {
      "text/plain": [
       "array([[ 10,  20,  30,  40,  50],\n",
       "       [ 60,  70,  80,  90, 100]])"
      ]
     },
     "execution_count": 36,
     "metadata": {},
     "output_type": "execute_result"
    }
   ],
   "source": [
    "c*10"
   ]
  },
  {
   "cell_type": "code",
   "execution_count": null,
   "id": "e78c09ff",
   "metadata": {},
   "outputs": [],
   "source": []
  },
  {
   "cell_type": "code",
   "execution_count": 37,
   "id": "62fdfe0d",
   "metadata": {
    "scrolled": true
   },
   "outputs": [
    {
     "data": {
      "text/plain": [
       "array([[[ 10,  20,  30,  40,  50],\n",
       "        [ 60,  70,  80,  90, 100]],\n",
       "\n",
       "       [[ 10,  20,  30,  40,  50],\n",
       "        [ 60,  70,  80,  90, 100]]])"
      ]
     },
     "execution_count": 37,
     "metadata": {},
     "output_type": "execute_result"
    }
   ],
   "source": [
    "d * 10"
   ]
  },
  {
   "cell_type": "markdown",
   "id": "20b73957",
   "metadata": {},
   "source": [
    "# .size\n",
    "* 배열 안에 있는 요소의 총 개수가 몇 개인지"
   ]
  },
  {
   "cell_type": "code",
   "execution_count": 42,
   "id": "e5bbf34f",
   "metadata": {},
   "outputs": [
    {
     "data": {
      "text/plain": [
       "20"
      ]
     },
     "execution_count": 42,
     "metadata": {},
     "output_type": "execute_result"
    }
   ],
   "source": [
    "d.size"
   ]
  },
  {
   "cell_type": "code",
   "execution_count": 43,
   "id": "246d6d37",
   "metadata": {},
   "outputs": [
    {
     "data": {
      "text/plain": [
       "5"
      ]
     },
     "execution_count": 43,
     "metadata": {},
     "output_type": "execute_result"
    }
   ],
   "source": [
    "a3.size"
   ]
  },
  {
   "cell_type": "markdown",
   "id": "0d75505c",
   "metadata": {},
   "source": [
    "# .dtype\n",
    "* 데이터 타입이 무엇인지 출력"
   ]
  },
  {
   "cell_type": "code",
   "execution_count": 44,
   "id": "76c4fe7e",
   "metadata": {},
   "outputs": [
    {
     "data": {
      "text/plain": [
       "dtype('int64')"
      ]
     },
     "execution_count": 44,
     "metadata": {},
     "output_type": "execute_result"
    }
   ],
   "source": [
    "d.dtype"
   ]
  },
  {
   "cell_type": "code",
   "execution_count": 46,
   "id": "48dcb171",
   "metadata": {},
   "outputs": [
    {
     "data": {
      "text/plain": [
       "array([[[0.5, 1. , 1.5, 2. , 2.5],\n",
       "        [3. , 3.5, 4. , 4.5, 5. ]],\n",
       "\n",
       "       [[0.5, 1. , 1.5, 2. , 2.5],\n",
       "        [3. , 3.5, 4. , 4.5, 5. ]]])"
      ]
     },
     "execution_count": 46,
     "metadata": {},
     "output_type": "execute_result"
    }
   ],
   "source": [
    "d2 = d/2\n",
    "d2"
   ]
  },
  {
   "cell_type": "code",
   "execution_count": 47,
   "id": "2013ae5f",
   "metadata": {},
   "outputs": [
    {
     "data": {
      "text/plain": [
       "dtype('float64')"
      ]
     },
     "execution_count": 47,
     "metadata": {},
     "output_type": "execute_result"
    }
   ],
   "source": [
    "d2.dtype"
   ]
  },
  {
   "cell_type": "markdown",
   "id": "03923979",
   "metadata": {},
   "source": [
    "# .astype(데이터타입명)\n",
    "* 데이터 타입을 바꾸고 싶을 때\n",
    "* 재할당 해줘야 바뀐 데이터가 저장됨"
   ]
  },
  {
   "cell_type": "code",
   "execution_count": 48,
   "id": "adb37efc",
   "metadata": {},
   "outputs": [
    {
     "data": {
      "text/plain": [
       "array([[[0, 1, 1, 2, 2],\n",
       "        [3, 3, 4, 4, 5]],\n",
       "\n",
       "       [[0, 1, 1, 2, 2],\n",
       "        [3, 3, 4, 4, 5]]])"
      ]
     },
     "execution_count": 48,
     "metadata": {},
     "output_type": "execute_result"
    }
   ],
   "source": [
    "d2.astype(int)"
   ]
  },
  {
   "cell_type": "code",
   "execution_count": 49,
   "id": "1f8d76f3",
   "metadata": {},
   "outputs": [
    {
     "data": {
      "text/plain": [
       "array([[[0.5, 1. , 1.5, 2. , 2.5],\n",
       "        [3. , 3.5, 4. , 4.5, 5. ]],\n",
       "\n",
       "       [[0.5, 1. , 1.5, 2. , 2.5],\n",
       "        [3. , 3.5, 4. , 4.5, 5. ]]])"
      ]
     },
     "execution_count": 49,
     "metadata": {},
     "output_type": "execute_result"
    }
   ],
   "source": [
    "d2"
   ]
  },
  {
   "cell_type": "code",
   "execution_count": 50,
   "id": "3161629c",
   "metadata": {},
   "outputs": [
    {
     "data": {
      "text/plain": [
       "array([[['0.5', '1.0', '1.5', '2.0', '2.5'],\n",
       "        ['3.0', '3.5', '4.0', '4.5', '5.0']],\n",
       "\n",
       "       [['0.5', '1.0', '1.5', '2.0', '2.5'],\n",
       "        ['3.0', '3.5', '4.0', '4.5', '5.0']]], dtype='<U32')"
      ]
     },
     "execution_count": 50,
     "metadata": {},
     "output_type": "execute_result"
    }
   ],
   "source": [
    "d2.astype(str)"
   ]
  },
  {
   "cell_type": "code",
   "execution_count": 51,
   "id": "22cc498a",
   "metadata": {},
   "outputs": [
    {
     "data": {
      "text/plain": [
       "dtype('float64')"
      ]
     },
     "execution_count": 51,
     "metadata": {},
     "output_type": "execute_result"
    }
   ],
   "source": [
    "d2.dtype"
   ]
  },
  {
   "cell_type": "code",
   "execution_count": 52,
   "id": "d6d1eb83",
   "metadata": {},
   "outputs": [
    {
     "data": {
      "text/plain": [
       "array([[[0.5, 1. , 1.5, 2. , 2.5],\n",
       "        [3. , 3.5, 4. , 4.5, 5. ]],\n",
       "\n",
       "       [[0.5, 1. , 1.5, 2. , 2.5],\n",
       "        [3. , 3.5, 4. , 4.5, 5. ]]], dtype=float32)"
      ]
     },
     "execution_count": 52,
     "metadata": {},
     "output_type": "execute_result"
    }
   ],
   "source": [
    "d2.astype('float32')"
   ]
  },
  {
   "cell_type": "code",
   "execution_count": 53,
   "id": "2b539859",
   "metadata": {},
   "outputs": [
    {
     "data": {
      "text/plain": [
       "array([[[0.5, 1. , 1.5, 2. , 2.5],\n",
       "        [3. , 3.5, 4. , 4.5, 5. ]],\n",
       "\n",
       "       [[0.5, 1. , 1.5, 2. , 2.5],\n",
       "        [3. , 3.5, 4. , 4.5, 5. ]]], dtype=float16)"
      ]
     },
     "execution_count": 53,
     "metadata": {},
     "output_type": "execute_result"
    }
   ],
   "source": [
    "d2.astype('float16')"
   ]
  },
  {
   "cell_type": "markdown",
   "id": "563cfed0",
   "metadata": {},
   "source": [
    "# ndarray 만들기\n",
    "* ndarray는 numpy의 기본 자료형\n",
    "* 자료형은 반드시 1가지만 넣을 수 있다.\n",
    "* 2개 이상의 자료형이 있는 경우 문자 -> 실수 -> 정수 순으로 우선 순위가 매겨진다."
   ]
  },
  {
   "cell_type": "code",
   "execution_count": 55,
   "id": "3c0f50ad",
   "metadata": {},
   "outputs": [
    {
     "data": {
      "text/plain": [
       "array([1, 2, 3, 4, 5])"
      ]
     },
     "execution_count": 55,
     "metadata": {},
     "output_type": "execute_result"
    }
   ],
   "source": [
    "e = np.array([1,2,3,4,5])\n",
    "e"
   ]
  },
  {
   "cell_type": "code",
   "execution_count": 56,
   "id": "5b6d1638",
   "metadata": {},
   "outputs": [
    {
     "data": {
      "text/plain": [
       "array([1.  , 2.  , 3.14, 4.  , 5.  ])"
      ]
     },
     "execution_count": 56,
     "metadata": {},
     "output_type": "execute_result"
    }
   ],
   "source": [
    "e2 = np.array([1,2,3.14,4,5])\n",
    "e2"
   ]
  },
  {
   "cell_type": "code",
   "execution_count": 58,
   "id": "8e982b59",
   "metadata": {},
   "outputs": [
    {
     "data": {
      "text/plain": [
       "array(['1', '2', '3.14', '4', '5'], dtype='<U32')"
      ]
     },
     "execution_count": 58,
     "metadata": {},
     "output_type": "execute_result"
    }
   ],
   "source": [
    "e3 = np.array([1,2,3.14,'4',5])\n",
    "e3"
   ]
  },
  {
   "cell_type": "markdown",
   "id": "bbb5f86c",
   "metadata": {},
   "source": [
    "# np.arange(시작,끝,step)"
   ]
  },
  {
   "cell_type": "code",
   "execution_count": 59,
   "id": "4773a7a3",
   "metadata": {},
   "outputs": [
    {
     "data": {
      "text/plain": [
       "array([1, 3, 5, 7, 9])"
      ]
     },
     "execution_count": 59,
     "metadata": {},
     "output_type": "execute_result"
    }
   ],
   "source": [
    "a = np.arange(1,11,2)\n",
    "a"
   ]
  },
  {
   "cell_type": "code",
   "execution_count": 60,
   "id": "a82ffa1e",
   "metadata": {},
   "outputs": [
    {
     "data": {
      "text/plain": [
       "array([11,  8,  5,  2])"
      ]
     },
     "execution_count": 60,
     "metadata": {},
     "output_type": "execute_result"
    }
   ],
   "source": [
    "a2 = np.arange(11,1,-3)\n",
    "a2"
   ]
  },
  {
   "cell_type": "code",
   "execution_count": 61,
   "id": "2f975db1",
   "metadata": {},
   "outputs": [],
   "source": [
    "# 1-100까지 있는 array"
   ]
  },
  {
   "cell_type": "code",
   "execution_count": 62,
   "id": "3b3f02ee",
   "metadata": {},
   "outputs": [
    {
     "data": {
      "text/plain": [
       "array([  1,   2,   3,   4,   5,   6,   7,   8,   9,  10,  11,  12,  13,\n",
       "        14,  15,  16,  17,  18,  19,  20,  21,  22,  23,  24,  25,  26,\n",
       "        27,  28,  29,  30,  31,  32,  33,  34,  35,  36,  37,  38,  39,\n",
       "        40,  41,  42,  43,  44,  45,  46,  47,  48,  49,  50,  51,  52,\n",
       "        53,  54,  55,  56,  57,  58,  59,  60,  61,  62,  63,  64,  65,\n",
       "        66,  67,  68,  69,  70,  71,  72,  73,  74,  75,  76,  77,  78,\n",
       "        79,  80,  81,  82,  83,  84,  85,  86,  87,  88,  89,  90,  91,\n",
       "        92,  93,  94,  95,  96,  97,  98,  99, 100])"
      ]
     },
     "execution_count": 62,
     "metadata": {},
     "output_type": "execute_result"
    }
   ],
   "source": [
    "a3 = np.arange(1,101)\n",
    "a3"
   ]
  },
  {
   "cell_type": "code",
   "execution_count": 64,
   "id": "64a532d4",
   "metadata": {},
   "outputs": [
    {
     "name": "stdout",
     "output_type": "stream",
     "text": [
      "1 (100,)\n"
     ]
    }
   ],
   "source": [
    "print(a3.ndim,a3.shape)"
   ]
  },
  {
   "cell_type": "markdown",
   "id": "0e360962",
   "metadata": {},
   "source": [
    "# .reshape(행,열)\n",
    "* ndarray의 모양을 자유롭게 변형시켜주는 메서드"
   ]
  },
  {
   "cell_type": "code",
   "execution_count": 68,
   "id": "6861773d",
   "metadata": {},
   "outputs": [
    {
     "data": {
      "text/plain": [
       "array([[  1,   2,   3,   4,   5],\n",
       "       [  6,   7,   8,   9,  10],\n",
       "       [ 11,  12,  13,  14,  15],\n",
       "       [ 16,  17,  18,  19,  20],\n",
       "       [ 21,  22,  23,  24,  25],\n",
       "       [ 26,  27,  28,  29,  30],\n",
       "       [ 31,  32,  33,  34,  35],\n",
       "       [ 36,  37,  38,  39,  40],\n",
       "       [ 41,  42,  43,  44,  45],\n",
       "       [ 46,  47,  48,  49,  50],\n",
       "       [ 51,  52,  53,  54,  55],\n",
       "       [ 56,  57,  58,  59,  60],\n",
       "       [ 61,  62,  63,  64,  65],\n",
       "       [ 66,  67,  68,  69,  70],\n",
       "       [ 71,  72,  73,  74,  75],\n",
       "       [ 76,  77,  78,  79,  80],\n",
       "       [ 81,  82,  83,  84,  85],\n",
       "       [ 86,  87,  88,  89,  90],\n",
       "       [ 91,  92,  93,  94,  95],\n",
       "       [ 96,  97,  98,  99, 100]])"
      ]
     },
     "execution_count": 68,
     "metadata": {},
     "output_type": "execute_result"
    }
   ],
   "source": [
    "a3 = a3.reshape(20,5)\n",
    "a3  "
   ]
  },
  {
   "cell_type": "code",
   "execution_count": 76,
   "id": "de28dd6f",
   "metadata": {},
   "outputs": [
    {
     "data": {
      "text/plain": [
       "array([[[[  1,   2,   3,   4,   5],\n",
       "         [  6,   7,   8,   9,  10]],\n",
       "\n",
       "        [[ 11,  12,  13,  14,  15],\n",
       "         [ 16,  17,  18,  19,  20]]],\n",
       "\n",
       "\n",
       "       [[[ 21,  22,  23,  24,  25],\n",
       "         [ 26,  27,  28,  29,  30]],\n",
       "\n",
       "        [[ 31,  32,  33,  34,  35],\n",
       "         [ 36,  37,  38,  39,  40]]],\n",
       "\n",
       "\n",
       "       [[[ 41,  42,  43,  44,  45],\n",
       "         [ 46,  47,  48,  49,  50]],\n",
       "\n",
       "        [[ 51,  52,  53,  54,  55],\n",
       "         [ 56,  57,  58,  59,  60]]],\n",
       "\n",
       "\n",
       "       [[[ 61,  62,  63,  64,  65],\n",
       "         [ 66,  67,  68,  69,  70]],\n",
       "\n",
       "        [[ 71,  72,  73,  74,  75],\n",
       "         [ 76,  77,  78,  79,  80]]],\n",
       "\n",
       "\n",
       "       [[[ 81,  82,  83,  84,  85],\n",
       "         [ 86,  87,  88,  89,  90]],\n",
       "\n",
       "        [[ 91,  92,  93,  94,  95],\n",
       "         [ 96,  97,  98,  99, 100]]]])"
      ]
     },
     "execution_count": 76,
     "metadata": {},
     "output_type": "execute_result"
    }
   ],
   "source": [
    "a4 = a3.reshape(5,2,2,5)\n",
    "a4  "
   ]
  },
  {
   "cell_type": "code",
   "execution_count": 77,
   "id": "469fb009",
   "metadata": {
    "scrolled": true
   },
   "outputs": [
    {
     "data": {
      "text/plain": [
       "array([[[  1,   2],\n",
       "        [  3,   4]],\n",
       "\n",
       "       [[  5,   6],\n",
       "        [  7,   8]],\n",
       "\n",
       "       [[  9,  10],\n",
       "        [ 11,  12]],\n",
       "\n",
       "       [[ 13,  14],\n",
       "        [ 15,  16]],\n",
       "\n",
       "       [[ 17,  18],\n",
       "        [ 19,  20]],\n",
       "\n",
       "       [[ 21,  22],\n",
       "        [ 23,  24]],\n",
       "\n",
       "       [[ 25,  26],\n",
       "        [ 27,  28]],\n",
       "\n",
       "       [[ 29,  30],\n",
       "        [ 31,  32]],\n",
       "\n",
       "       [[ 33,  34],\n",
       "        [ 35,  36]],\n",
       "\n",
       "       [[ 37,  38],\n",
       "        [ 39,  40]],\n",
       "\n",
       "       [[ 41,  42],\n",
       "        [ 43,  44]],\n",
       "\n",
       "       [[ 45,  46],\n",
       "        [ 47,  48]],\n",
       "\n",
       "       [[ 49,  50],\n",
       "        [ 51,  52]],\n",
       "\n",
       "       [[ 53,  54],\n",
       "        [ 55,  56]],\n",
       "\n",
       "       [[ 57,  58],\n",
       "        [ 59,  60]],\n",
       "\n",
       "       [[ 61,  62],\n",
       "        [ 63,  64]],\n",
       "\n",
       "       [[ 65,  66],\n",
       "        [ 67,  68]],\n",
       "\n",
       "       [[ 69,  70],\n",
       "        [ 71,  72]],\n",
       "\n",
       "       [[ 73,  74],\n",
       "        [ 75,  76]],\n",
       "\n",
       "       [[ 77,  78],\n",
       "        [ 79,  80]],\n",
       "\n",
       "       [[ 81,  82],\n",
       "        [ 83,  84]],\n",
       "\n",
       "       [[ 85,  86],\n",
       "        [ 87,  88]],\n",
       "\n",
       "       [[ 89,  90],\n",
       "        [ 91,  92]],\n",
       "\n",
       "       [[ 93,  94],\n",
       "        [ 95,  96]],\n",
       "\n",
       "       [[ 97,  98],\n",
       "        [ 99, 100]]])"
      ]
     },
     "execution_count": 77,
     "metadata": {},
     "output_type": "execute_result"
    }
   ],
   "source": [
    "a5 = a3.reshape(-1,2,2)\n",
    "a5"
   ]
  },
  {
   "cell_type": "code",
   "execution_count": 78,
   "id": "47d75b13",
   "metadata": {
    "scrolled": true
   },
   "outputs": [
    {
     "data": {
      "text/plain": [
       "array([[[  1,   2,   3,   4,   5,   6,   7,   8,   9,  10,  11,  12,\n",
       "          13,  14,  15,  16,  17,  18,  19,  20,  21,  22,  23,  24,\n",
       "          25],\n",
       "        [ 26,  27,  28,  29,  30,  31,  32,  33,  34,  35,  36,  37,\n",
       "          38,  39,  40,  41,  42,  43,  44,  45,  46,  47,  48,  49,\n",
       "          50]],\n",
       "\n",
       "       [[ 51,  52,  53,  54,  55,  56,  57,  58,  59,  60,  61,  62,\n",
       "          63,  64,  65,  66,  67,  68,  69,  70,  71,  72,  73,  74,\n",
       "          75],\n",
       "        [ 76,  77,  78,  79,  80,  81,  82,  83,  84,  85,  86,  87,\n",
       "          88,  89,  90,  91,  92,  93,  94,  95,  96,  97,  98,  99,\n",
       "         100]]])"
      ]
     },
     "execution_count": 78,
     "metadata": {},
     "output_type": "execute_result"
    }
   ],
   "source": [
    "a5 = a3.reshape(2,2,-1)\n",
    "a5"
   ]
  },
  {
   "cell_type": "markdown",
   "id": "fb05b536",
   "metadata": {},
   "source": [
    "# flatten()\n",
    "* 다차원 배열을 1차원으로 펼쳐줌"
   ]
  },
  {
   "cell_type": "code",
   "execution_count": 79,
   "id": "63f3cdbd",
   "metadata": {},
   "outputs": [
    {
     "data": {
      "text/plain": [
       "(2, 2, 25)"
      ]
     },
     "execution_count": 79,
     "metadata": {},
     "output_type": "execute_result"
    }
   ],
   "source": [
    "a5.shape"
   ]
  },
  {
   "cell_type": "code",
   "execution_count": 80,
   "id": "747d4760",
   "metadata": {},
   "outputs": [
    {
     "name": "stdout",
     "output_type": "stream",
     "text": [
      "(100,)\n"
     ]
    },
    {
     "data": {
      "text/plain": [
       "array([  1,   2,   3,   4,   5,   6,   7,   8,   9,  10,  11,  12,  13,\n",
       "        14,  15,  16,  17,  18,  19,  20,  21,  22,  23,  24,  25,  26,\n",
       "        27,  28,  29,  30,  31,  32,  33,  34,  35,  36,  37,  38,  39,\n",
       "        40,  41,  42,  43,  44,  45,  46,  47,  48,  49,  50,  51,  52,\n",
       "        53,  54,  55,  56,  57,  58,  59,  60,  61,  62,  63,  64,  65,\n",
       "        66,  67,  68,  69,  70,  71,  72,  73,  74,  75,  76,  77,  78,\n",
       "        79,  80,  81,  82,  83,  84,  85,  86,  87,  88,  89,  90,  91,\n",
       "        92,  93,  94,  95,  96,  97,  98,  99, 100])"
      ]
     },
     "execution_count": 80,
     "metadata": {},
     "output_type": "execute_result"
    }
   ],
   "source": [
    "a6 = a5.flatten()\n",
    "print(a6.shape)\n",
    "a6"
   ]
  },
  {
   "cell_type": "markdown",
   "id": "e023f1a6",
   "metadata": {},
   "source": [
    "# np.flip()\n",
    "* 행열의 순서를 뒤집을 떄"
   ]
  },
  {
   "cell_type": "code",
   "execution_count": 83,
   "id": "dc1fa171",
   "metadata": {},
   "outputs": [
    {
     "data": {
      "text/plain": [
       "array([[[ 1,  2],\n",
       "        [ 3,  4]],\n",
       "\n",
       "       [[ 5,  6],\n",
       "        [ 7,  8]],\n",
       "\n",
       "       [[ 9, 10],\n",
       "        [11, 12]],\n",
       "\n",
       "       [[13, 14],\n",
       "        [15, 16]],\n",
       "\n",
       "       [[17, 18],\n",
       "        [19, 20]]])"
      ]
     },
     "execution_count": 83,
     "metadata": {},
     "output_type": "execute_result"
    }
   ],
   "source": [
    "a5 = np.arange(1,21)\n",
    "a5= a5.reshape(-1,2,2)\n",
    "a5"
   ]
  },
  {
   "cell_type": "code",
   "execution_count": 85,
   "id": "bc426cdb",
   "metadata": {},
   "outputs": [
    {
     "data": {
      "text/plain": [
       "array([[[20, 19],\n",
       "        [18, 17]],\n",
       "\n",
       "       [[16, 15],\n",
       "        [14, 13]],\n",
       "\n",
       "       [[12, 11],\n",
       "        [10,  9]],\n",
       "\n",
       "       [[ 8,  7],\n",
       "        [ 6,  5]],\n",
       "\n",
       "       [[ 4,  3],\n",
       "        [ 2,  1]]])"
      ]
     },
     "execution_count": 85,
     "metadata": {},
     "output_type": "execute_result"
    }
   ],
   "source": [
    "np.flip(a5)"
   ]
  },
  {
   "cell_type": "markdown",
   "id": "ab8ca347",
   "metadata": {},
   "source": [
    "# np.linstace(시작,끝,구간 수)\n",
    "* 정해진 숫자 범위 안에서 균등하게 구간을 나눌 때"
   ]
  },
  {
   "cell_type": "code",
   "execution_count": 86,
   "id": "47083ce2",
   "metadata": {},
   "outputs": [
    {
     "data": {
      "text/plain": [
       "array([ 1.,  2.,  3.,  4.,  5.,  6.,  7.,  8.,  9., 10.])"
      ]
     },
     "execution_count": 86,
     "metadata": {},
     "output_type": "execute_result"
    }
   ],
   "source": [
    "# 1에서 10까지 10개로 균등하게 나누기\n",
    "np.linspace(1,10,10)"
   ]
  },
  {
   "cell_type": "code",
   "execution_count": 87,
   "id": "f2e3ad81",
   "metadata": {},
   "outputs": [
    {
     "data": {
      "text/plain": [
       "array([ 1.     ,  1.28125,  1.5625 ,  1.84375,  2.125  ,  2.40625,\n",
       "        2.6875 ,  2.96875,  3.25   ,  3.53125,  3.8125 ,  4.09375,\n",
       "        4.375  ,  4.65625,  4.9375 ,  5.21875,  5.5    ,  5.78125,\n",
       "        6.0625 ,  6.34375,  6.625  ,  6.90625,  7.1875 ,  7.46875,\n",
       "        7.75   ,  8.03125,  8.3125 ,  8.59375,  8.875  ,  9.15625,\n",
       "        9.4375 ,  9.71875, 10.     ])"
      ]
     },
     "execution_count": 87,
     "metadata": {},
     "output_type": "execute_result"
    }
   ],
   "source": [
    "# 1에서 10까지 33개로 균등하게 나누기\n",
    "np.linspace(1,10,33)"
   ]
  },
  {
   "cell_type": "code",
   "execution_count": 88,
   "id": "ae3dfcf7",
   "metadata": {},
   "outputs": [
    {
     "data": {
      "text/plain": [
       "array([ 1.        ,  1.01672862,  1.03345725,  1.05018587,  1.0669145 ,\n",
       "        1.08364312,  1.10037175,  1.11710037,  1.133829  ,  1.15055762,\n",
       "        1.16728625,  1.18401487,  1.20074349,  1.21747212,  1.23420074,\n",
       "        1.25092937,  1.26765799,  1.28438662,  1.30111524,  1.31784387,\n",
       "        1.33457249,  1.35130112,  1.36802974,  1.38475836,  1.40148699,\n",
       "        1.41821561,  1.43494424,  1.45167286,  1.46840149,  1.48513011,\n",
       "        1.50185874,  1.51858736,  1.53531599,  1.55204461,  1.56877323,\n",
       "        1.58550186,  1.60223048,  1.61895911,  1.63568773,  1.65241636,\n",
       "        1.66914498,  1.68587361,  1.70260223,  1.71933086,  1.73605948,\n",
       "        1.7527881 ,  1.76951673,  1.78624535,  1.80297398,  1.8197026 ,\n",
       "        1.83643123,  1.85315985,  1.86988848,  1.8866171 ,  1.90334572,\n",
       "        1.92007435,  1.93680297,  1.9535316 ,  1.97026022,  1.98698885,\n",
       "        2.00371747,  2.0204461 ,  2.03717472,  2.05390335,  2.07063197,\n",
       "        2.08736059,  2.10408922,  2.12081784,  2.13754647,  2.15427509,\n",
       "        2.17100372,  2.18773234,  2.20446097,  2.22118959,  2.23791822,\n",
       "        2.25464684,  2.27137546,  2.28810409,  2.30483271,  2.32156134,\n",
       "        2.33828996,  2.35501859,  2.37174721,  2.38847584,  2.40520446,\n",
       "        2.42193309,  2.43866171,  2.45539033,  2.47211896,  2.48884758,\n",
       "        2.50557621,  2.52230483,  2.53903346,  2.55576208,  2.57249071,\n",
       "        2.58921933,  2.60594796,  2.62267658,  2.6394052 ,  2.65613383,\n",
       "        2.67286245,  2.68959108,  2.7063197 ,  2.72304833,  2.73977695,\n",
       "        2.75650558,  2.7732342 ,  2.78996283,  2.80669145,  2.82342007,\n",
       "        2.8401487 ,  2.85687732,  2.87360595,  2.89033457,  2.9070632 ,\n",
       "        2.92379182,  2.94052045,  2.95724907,  2.9739777 ,  2.99070632,\n",
       "        3.00743494,  3.02416357,  3.04089219,  3.05762082,  3.07434944,\n",
       "        3.09107807,  3.10780669,  3.12453532,  3.14126394,  3.15799257,\n",
       "        3.17472119,  3.19144981,  3.20817844,  3.22490706,  3.24163569,\n",
       "        3.25836431,  3.27509294,  3.29182156,  3.30855019,  3.32527881,\n",
       "        3.34200743,  3.35873606,  3.37546468,  3.39219331,  3.40892193,\n",
       "        3.42565056,  3.44237918,  3.45910781,  3.47583643,  3.49256506,\n",
       "        3.50929368,  3.5260223 ,  3.54275093,  3.55947955,  3.57620818,\n",
       "        3.5929368 ,  3.60966543,  3.62639405,  3.64312268,  3.6598513 ,\n",
       "        3.67657993,  3.69330855,  3.71003717,  3.7267658 ,  3.74349442,\n",
       "        3.76022305,  3.77695167,  3.7936803 ,  3.81040892,  3.82713755,\n",
       "        3.84386617,  3.8605948 ,  3.87732342,  3.89405204,  3.91078067,\n",
       "        3.92750929,  3.94423792,  3.96096654,  3.97769517,  3.99442379,\n",
       "        4.01115242,  4.02788104,  4.04460967,  4.06133829,  4.07806691,\n",
       "        4.09479554,  4.11152416,  4.12825279,  4.14498141,  4.16171004,\n",
       "        4.17843866,  4.19516729,  4.21189591,  4.22862454,  4.24535316,\n",
       "        4.26208178,  4.27881041,  4.29553903,  4.31226766,  4.32899628,\n",
       "        4.34572491,  4.36245353,  4.37918216,  4.39591078,  4.41263941,\n",
       "        4.42936803,  4.44609665,  4.46282528,  4.4795539 ,  4.49628253,\n",
       "        4.51301115,  4.52973978,  4.5464684 ,  4.56319703,  4.57992565,\n",
       "        4.59665428,  4.6133829 ,  4.63011152,  4.64684015,  4.66356877,\n",
       "        4.6802974 ,  4.69702602,  4.71375465,  4.73048327,  4.7472119 ,\n",
       "        4.76394052,  4.78066914,  4.79739777,  4.81412639,  4.83085502,\n",
       "        4.84758364,  4.86431227,  4.88104089,  4.89776952,  4.91449814,\n",
       "        4.93122677,  4.94795539,  4.96468401,  4.98141264,  4.99814126,\n",
       "        5.01486989,  5.03159851,  5.04832714,  5.06505576,  5.08178439,\n",
       "        5.09851301,  5.11524164,  5.13197026,  5.14869888,  5.16542751,\n",
       "        5.18215613,  5.19888476,  5.21561338,  5.23234201,  5.24907063,\n",
       "        5.26579926,  5.28252788,  5.29925651,  5.31598513,  5.33271375,\n",
       "        5.34944238,  5.366171  ,  5.38289963,  5.39962825,  5.41635688,\n",
       "        5.4330855 ,  5.44981413,  5.46654275,  5.48327138,  5.5       ,\n",
       "        5.51672862,  5.53345725,  5.55018587,  5.5669145 ,  5.58364312,\n",
       "        5.60037175,  5.61710037,  5.633829  ,  5.65055762,  5.66728625,\n",
       "        5.68401487,  5.70074349,  5.71747212,  5.73420074,  5.75092937,\n",
       "        5.76765799,  5.78438662,  5.80111524,  5.81784387,  5.83457249,\n",
       "        5.85130112,  5.86802974,  5.88475836,  5.90148699,  5.91821561,\n",
       "        5.93494424,  5.95167286,  5.96840149,  5.98513011,  6.00185874,\n",
       "        6.01858736,  6.03531599,  6.05204461,  6.06877323,  6.08550186,\n",
       "        6.10223048,  6.11895911,  6.13568773,  6.15241636,  6.16914498,\n",
       "        6.18587361,  6.20260223,  6.21933086,  6.23605948,  6.2527881 ,\n",
       "        6.26951673,  6.28624535,  6.30297398,  6.3197026 ,  6.33643123,\n",
       "        6.35315985,  6.36988848,  6.3866171 ,  6.40334572,  6.42007435,\n",
       "        6.43680297,  6.4535316 ,  6.47026022,  6.48698885,  6.50371747,\n",
       "        6.5204461 ,  6.53717472,  6.55390335,  6.57063197,  6.58736059,\n",
       "        6.60408922,  6.62081784,  6.63754647,  6.65427509,  6.67100372,\n",
       "        6.68773234,  6.70446097,  6.72118959,  6.73791822,  6.75464684,\n",
       "        6.77137546,  6.78810409,  6.80483271,  6.82156134,  6.83828996,\n",
       "        6.85501859,  6.87174721,  6.88847584,  6.90520446,  6.92193309,\n",
       "        6.93866171,  6.95539033,  6.97211896,  6.98884758,  7.00557621,\n",
       "        7.02230483,  7.03903346,  7.05576208,  7.07249071,  7.08921933,\n",
       "        7.10594796,  7.12267658,  7.1394052 ,  7.15613383,  7.17286245,\n",
       "        7.18959108,  7.2063197 ,  7.22304833,  7.23977695,  7.25650558,\n",
       "        7.2732342 ,  7.28996283,  7.30669145,  7.32342007,  7.3401487 ,\n",
       "        7.35687732,  7.37360595,  7.39033457,  7.4070632 ,  7.42379182,\n",
       "        7.44052045,  7.45724907,  7.4739777 ,  7.49070632,  7.50743494,\n",
       "        7.52416357,  7.54089219,  7.55762082,  7.57434944,  7.59107807,\n",
       "        7.60780669,  7.62453532,  7.64126394,  7.65799257,  7.67472119,\n",
       "        7.69144981,  7.70817844,  7.72490706,  7.74163569,  7.75836431,\n",
       "        7.77509294,  7.79182156,  7.80855019,  7.82527881,  7.84200743,\n",
       "        7.85873606,  7.87546468,  7.89219331,  7.90892193,  7.92565056,\n",
       "        7.94237918,  7.95910781,  7.97583643,  7.99256506,  8.00929368,\n",
       "        8.0260223 ,  8.04275093,  8.05947955,  8.07620818,  8.0929368 ,\n",
       "        8.10966543,  8.12639405,  8.14312268,  8.1598513 ,  8.17657993,\n",
       "        8.19330855,  8.21003717,  8.2267658 ,  8.24349442,  8.26022305,\n",
       "        8.27695167,  8.2936803 ,  8.31040892,  8.32713755,  8.34386617,\n",
       "        8.3605948 ,  8.37732342,  8.39405204,  8.41078067,  8.42750929,\n",
       "        8.44423792,  8.46096654,  8.47769517,  8.49442379,  8.51115242,\n",
       "        8.52788104,  8.54460967,  8.56133829,  8.57806691,  8.59479554,\n",
       "        8.61152416,  8.62825279,  8.64498141,  8.66171004,  8.67843866,\n",
       "        8.69516729,  8.71189591,  8.72862454,  8.74535316,  8.76208178,\n",
       "        8.77881041,  8.79553903,  8.81226766,  8.82899628,  8.84572491,\n",
       "        8.86245353,  8.87918216,  8.89591078,  8.91263941,  8.92936803,\n",
       "        8.94609665,  8.96282528,  8.9795539 ,  8.99628253,  9.01301115,\n",
       "        9.02973978,  9.0464684 ,  9.06319703,  9.07992565,  9.09665428,\n",
       "        9.1133829 ,  9.13011152,  9.14684015,  9.16356877,  9.1802974 ,\n",
       "        9.19702602,  9.21375465,  9.23048327,  9.2472119 ,  9.26394052,\n",
       "        9.28066914,  9.29739777,  9.31412639,  9.33085502,  9.34758364,\n",
       "        9.36431227,  9.38104089,  9.39776952,  9.41449814,  9.43122677,\n",
       "        9.44795539,  9.46468401,  9.48141264,  9.49814126,  9.51486989,\n",
       "        9.53159851,  9.54832714,  9.56505576,  9.58178439,  9.59851301,\n",
       "        9.61524164,  9.63197026,  9.64869888,  9.66542751,  9.68215613,\n",
       "        9.69888476,  9.71561338,  9.73234201,  9.74907063,  9.76579926,\n",
       "        9.78252788,  9.79925651,  9.81598513,  9.83271375,  9.84944238,\n",
       "        9.866171  ,  9.88289963,  9.89962825,  9.91635688,  9.9330855 ,\n",
       "        9.94981413,  9.96654275,  9.98327138, 10.        ])"
      ]
     },
     "execution_count": 88,
     "metadata": {},
     "output_type": "execute_result"
    }
   ],
   "source": [
    "# 1에서 10까지 539개로 균등하게 나누기\n",
    "np.linspace(1,10,539)"
   ]
  },
  {
   "cell_type": "markdown",
   "id": "24d76ff1",
   "metadata": {},
   "source": [
    "# 정렬과 순위(sort,argsort)\n",
    "* np.sort() 실제로 정렬된 값을 리턴\n",
    "* np.argsort() 정렬 했을 때의 인덱스 순서를 리턴(원자료의 변형없이 작업하고 싶을 때)\n",
    "    * 누가 1위인지 1위의 위치를 알려준다."
   ]
  },
  {
   "cell_type": "code",
   "execution_count": 95,
   "id": "4540db79",
   "metadata": {},
   "outputs": [
    {
     "data": {
      "text/plain": [
       "array([ 5. ,  7. , 11. ,  1. ,  3. ,  2. , 54. ,  0. ,  0.5, 68. ])"
      ]
     },
     "execution_count": 95,
     "metadata": {},
     "output_type": "execute_result"
    }
   ],
   "source": [
    "f = np.array([5,7,11,1,3,2,54,0,0.5,68])\n",
    "f"
   ]
  },
  {
   "cell_type": "code",
   "execution_count": 93,
   "id": "d3524ad1",
   "metadata": {},
   "outputs": [],
   "source": [
    "f.sort()"
   ]
  },
  {
   "cell_type": "code",
   "execution_count": 98,
   "id": "f88401d0",
   "metadata": {},
   "outputs": [
    {
     "name": "stdout",
     "output_type": "stream",
     "text": [
      "[np.float64(0.0), np.float64(0.5), np.float64(1.0), np.float64(2.0), np.float64(3.0), np.float64(5.0), np.float64(7.0), np.float64(11.0), np.float64(54.0), np.float64(68.0)]\n"
     ]
    }
   ],
   "source": [
    "print(sorted(f))"
   ]
  },
  {
   "cell_type": "code",
   "execution_count": 99,
   "id": "b343d820",
   "metadata": {},
   "outputs": [
    {
     "data": {
      "text/plain": [
       "array([ 0. ,  0.5,  1. ,  2. ,  3. ,  5. ,  7. , 11. , 54. , 68. ])"
      ]
     },
     "execution_count": 99,
     "metadata": {},
     "output_type": "execute_result"
    }
   ],
   "source": [
    "np.sort(f)"
   ]
  },
  {
   "cell_type": "code",
   "execution_count": 100,
   "id": "85df3e4c",
   "metadata": {},
   "outputs": [
    {
     "data": {
      "text/plain": [
       "array([ 5. ,  7. , 11. ,  1. ,  3. ,  2. , 54. ,  0. ,  0.5, 68. ])"
      ]
     },
     "execution_count": 100,
     "metadata": {},
     "output_type": "execute_result"
    }
   ],
   "source": [
    "f"
   ]
  },
  {
   "cell_type": "code",
   "execution_count": 101,
   "id": "30362831",
   "metadata": {},
   "outputs": [],
   "source": [
    "arr = np.array([\n",
    "    [[5,2,8],\n",
    "    [1,6,7]],\n",
    "    \n",
    "    [[4,9,3],\n",
    "    [0,2,1]]\n",
    "])"
   ]
  },
  {
   "cell_type": "code",
   "execution_count": 102,
   "id": "41af4a62",
   "metadata": {},
   "outputs": [
    {
     "name": "stdout",
     "output_type": "stream",
     "text": [
      "[[[5 2 8]\n",
      "  [1 6 7]]\n",
      "\n",
      " [[4 9 3]\n",
      "  [0 2 1]]]\n",
      "3 (2, 2, 3)\n"
     ]
    }
   ],
   "source": [
    "print(arr)\n",
    "print(arr.ndim,arr.shape)"
   ]
  },
  {
   "cell_type": "code",
   "execution_count": 123,
   "id": "21b3520e",
   "metadata": {
    "scrolled": true
   },
   "outputs": [
    {
     "data": {
      "text/plain": [
       "array([[[2, 5, 8],\n",
       "        [1, 6, 7]],\n",
       "\n",
       "       [[3, 4, 9],\n",
       "        [0, 1, 2]]])"
      ]
     },
     "execution_count": 123,
     "metadata": {},
     "output_type": "execute_result"
    }
   ],
   "source": [
    "# axis = -1 배열의 가장 안쪽 1차원 배열을 오름차순 정렬\n",
    "#np.sort()함수의 axis 기본값은 -1 (가로)  1(세로) 0(프레임끼리 비교)\n",
    "np.sort(arr)"
   ]
  },
  {
   "cell_type": "code",
   "execution_count": 105,
   "id": "e69c9fc7",
   "metadata": {},
   "outputs": [
    {
     "data": {
      "text/plain": [
       "array([[[5, 2, 8],\n",
       "        [1, 6, 7]],\n",
       "\n",
       "       [[4, 9, 3],\n",
       "        [0, 2, 1]]])"
      ]
     },
     "execution_count": 105,
     "metadata": {},
     "output_type": "execute_result"
    }
   ],
   "source": [
    "arr"
   ]
  },
  {
   "cell_type": "code",
   "execution_count": 106,
   "id": "497bbdb8",
   "metadata": {},
   "outputs": [
    {
     "data": {
      "text/plain": [
       "array([[[4, 2, 3],\n",
       "        [0, 2, 1]],\n",
       "\n",
       "       [[5, 9, 8],\n",
       "        [1, 6, 7]]])"
      ]
     },
     "execution_count": 106,
     "metadata": {},
     "output_type": "execute_result"
    }
   ],
   "source": [
    "np.sort(arr,axis=0)"
   ]
  },
  {
   "cell_type": "code",
   "execution_count": 107,
   "id": "6e4d9c12",
   "metadata": {},
   "outputs": [
    {
     "data": {
      "text/plain": [
       "array([[[1, 2, 7],\n",
       "        [5, 6, 8]],\n",
       "\n",
       "       [[0, 2, 1],\n",
       "        [4, 9, 3]]])"
      ]
     },
     "execution_count": 107,
     "metadata": {},
     "output_type": "execute_result"
    }
   ],
   "source": [
    "np.sort(arr,axis=1)"
   ]
  },
  {
   "cell_type": "markdown",
   "id": "cfe8bbbb",
   "metadata": {},
   "source": [
    "# argsort()\n",
    "* 자료중 값이 작은 것에서 큰 순으로 원래 자리의 인덱스 출력\n",
    "* 추천 시스템에서 자주 사용"
   ]
  },
  {
   "cell_type": "code",
   "execution_count": 108,
   "id": "2c89d611",
   "metadata": {},
   "outputs": [
    {
     "data": {
      "text/plain": [
       "array([ 5. ,  0.5, -1. , 42. , 10. ,  0. ])"
      ]
     },
     "execution_count": 108,
     "metadata": {},
     "output_type": "execute_result"
    }
   ],
   "source": [
    "g = np.array([5,0.5,-1,42,10,0])\n",
    "g"
   ]
  },
  {
   "cell_type": "code",
   "execution_count": 112,
   "id": "d7b20299",
   "metadata": {},
   "outputs": [
    {
     "data": {
      "text/plain": [
       "array([2, 5, 1, 0, 4, 3])"
      ]
     },
     "execution_count": 112,
     "metadata": {},
     "output_type": "execute_result"
    }
   ],
   "source": [
    "# 인덱스 번호로 보여줌\n",
    "s = g.argsort()\n",
    "s"
   ]
  },
  {
   "cell_type": "code",
   "execution_count": 113,
   "id": "82948ddc",
   "metadata": {},
   "outputs": [
    {
     "data": {
      "text/plain": [
       "array([-1. ,  0. ,  0.5,  5. , 10. , 42. ])"
      ]
     },
     "execution_count": 113,
     "metadata": {},
     "output_type": "execute_result"
    }
   ],
   "source": [
    "g[s]"
   ]
  },
  {
   "cell_type": "code",
   "execution_count": 114,
   "id": "b85c2ab2",
   "metadata": {},
   "outputs": [
    {
     "data": {
      "text/plain": [
       "array([42. , 10. ,  5. ,  0.5,  0. , -1. ])"
      ]
     },
     "execution_count": 114,
     "metadata": {},
     "output_type": "execute_result"
    }
   ],
   "source": [
    "g[s][::-1]"
   ]
  },
  {
   "cell_type": "markdown",
   "id": "f78866b2",
   "metadata": {},
   "source": [
    "# 최대값/최소값 위치 출력(argmax/argmin)\n",
    "* 인덱스만 출력"
   ]
  },
  {
   "cell_type": "code",
   "execution_count": 117,
   "id": "ddf13f5b",
   "metadata": {},
   "outputs": [
    {
     "data": {
      "text/plain": [
       "np.int64(3)"
      ]
     },
     "execution_count": 117,
     "metadata": {},
     "output_type": "execute_result"
    }
   ],
   "source": [
    "np.argmax(g)"
   ]
  },
  {
   "cell_type": "code",
   "execution_count": 120,
   "id": "52626ed4",
   "metadata": {},
   "outputs": [
    {
     "data": {
      "text/plain": [
       "np.float64(42.0)"
      ]
     },
     "execution_count": 120,
     "metadata": {},
     "output_type": "execute_result"
    }
   ],
   "source": [
    "# g[np.argmax(g)] == g[3]\n",
    "g[np.argmax(g)]"
   ]
  },
  {
   "cell_type": "code",
   "execution_count": 122,
   "id": "cf371609",
   "metadata": {},
   "outputs": [
    {
     "data": {
      "text/plain": [
       "np.float64(-1.0)"
      ]
     },
     "execution_count": 122,
     "metadata": {},
     "output_type": "execute_result"
    }
   ],
   "source": [
    "# g[np.argmin(g)] == g[2]\n",
    "g[np.argmin(g)]"
   ]
  },
  {
   "cell_type": "markdown",
   "id": "2de4256f",
   "metadata": {},
   "source": [
    "# np.where(조건,참,거짓) 3항 연산"
   ]
  },
  {
   "cell_type": "code",
   "execution_count": 124,
   "id": "1b6ab8e6",
   "metadata": {},
   "outputs": [
    {
     "data": {
      "text/plain": [
       "array([ 1,  2,  3,  4,  5,  6,  7,  8,  9, 10])"
      ]
     },
     "execution_count": 124,
     "metadata": {},
     "output_type": "execute_result"
    }
   ],
   "source": [
    "num = np.arange(1,11)\n",
    "num"
   ]
  },
  {
   "cell_type": "code",
   "execution_count": 129,
   "id": "5f8e4eff",
   "metadata": {},
   "outputs": [
    {
     "data": {
      "text/plain": [
       "array(['홀수', '짝수', '홀수', '짝수', '홀수', '짝수', '홀수', '짝수', '홀수', '짝수'],\n",
       "      dtype='<U2')"
      ]
     },
     "execution_count": 129,
     "metadata": {},
     "output_type": "execute_result"
    }
   ],
   "source": [
    "result = []\n",
    "for i in num:\n",
    "    if i % 2 == 0:\n",
    "        result.append(\"짝수\")\n",
    "    else:\n",
    "        result.append(\"홀수\")\n",
    "result = np.array(result)\n",
    "result"
   ]
  },
  {
   "cell_type": "code",
   "execution_count": 130,
   "id": "434dee48",
   "metadata": {},
   "outputs": [
    {
     "data": {
      "text/plain": [
       "array(['홀수', '짝수', '홀수', '짝수', '홀수', '짝수', '홀수', '짝수', '홀수', '짝수'],\n",
       "      dtype='<U2')"
      ]
     },
     "execution_count": 130,
     "metadata": {},
     "output_type": "execute_result"
    }
   ],
   "source": [
    "np.where(num%2 ==0,\"짝수\",\"홀수\")"
   ]
  },
  {
   "cell_type": "markdown",
   "id": "48815b19",
   "metadata": {},
   "source": [
    "# 배열 합치기 np.concatenate()"
   ]
  },
  {
   "cell_type": "code",
   "execution_count": 134,
   "id": "792c524e",
   "metadata": {},
   "outputs": [
    {
     "name": "stdout",
     "output_type": "stream",
     "text": [
      "[[1 2]\n",
      " [3 4]] (2, 2) 2\n",
      "[[5 6]\n",
      " [7 8]] (2, 2) 2\n"
     ]
    }
   ],
   "source": [
    "a = np.arange(1,5).reshape(2,2)\n",
    "a\n",
    "b = np.arange(5,9).reshape(2,2)\n",
    "print(a,a.shape,a.ndim)\n",
    "print(b,b.shape,b.ndim)"
   ]
  },
  {
   "cell_type": "markdown",
   "id": "1b2a7db6",
   "metadata": {},
   "source": [
    "* np.concatenate((a,b))\n",
    "* 합치는 기본 방향은 axis=0 행이 늘어남, 아래로 붙음\n",
    "* axis=1 열이 늘어남, 옆으로 붙음"
   ]
  },
  {
   "cell_type": "code",
   "execution_count": 135,
   "id": "3b1a2563",
   "metadata": {},
   "outputs": [
    {
     "data": {
      "text/plain": [
       "array([[1, 2],\n",
       "       [3, 4],\n",
       "       [5, 6],\n",
       "       [7, 8]])"
      ]
     },
     "execution_count": 135,
     "metadata": {},
     "output_type": "execute_result"
    }
   ],
   "source": [
    "np.concatenate((a,b))"
   ]
  },
  {
   "cell_type": "code",
   "execution_count": 136,
   "id": "fee7aa4f",
   "metadata": {},
   "outputs": [
    {
     "data": {
      "text/plain": [
       "array([[1, 2, 5, 6],\n",
       "       [3, 4, 7, 8]])"
      ]
     },
     "execution_count": 136,
     "metadata": {},
     "output_type": "execute_result"
    }
   ],
   "source": [
    "np.concatenate((a,b),axis = 1)"
   ]
  },
  {
   "cell_type": "markdown",
   "id": "1424162d",
   "metadata": {},
   "source": [
    "# 합치는 방향의 모양이 일치하지 않으면 합치기 X"
   ]
  },
  {
   "cell_type": "code",
   "execution_count": 137,
   "id": "e1aed14a",
   "metadata": {},
   "outputs": [
    {
     "data": {
      "text/plain": [
       "array([5, 6])"
      ]
     },
     "execution_count": 137,
     "metadata": {},
     "output_type": "execute_result"
    }
   ],
   "source": [
    "c = np.array([5,6])\n",
    "c"
   ]
  },
  {
   "cell_type": "code",
   "execution_count": 138,
   "id": "d7ae4b10",
   "metadata": {},
   "outputs": [
    {
     "data": {
      "text/plain": [
       "array([[1, 2],\n",
       "       [3, 4]])"
      ]
     },
     "execution_count": 138,
     "metadata": {},
     "output_type": "execute_result"
    }
   ],
   "source": [
    "a"
   ]
  },
  {
   "cell_type": "code",
   "execution_count": 139,
   "id": "c0d2b4ab",
   "metadata": {},
   "outputs": [
    {
     "ename": "ValueError",
     "evalue": "all the input arrays must have same number of dimensions, but the array at index 0 has 2 dimension(s) and the array at index 1 has 1 dimension(s)",
     "output_type": "error",
     "traceback": [
      "\u001b[1;31m---------------------------------------------------------------------------\u001b[0m",
      "\u001b[1;31mValueError\u001b[0m                                Traceback (most recent call last)",
      "Cell \u001b[1;32mIn[139], line 1\u001b[0m\n\u001b[1;32m----> 1\u001b[0m \u001b[43mnp\u001b[49m\u001b[38;5;241;43m.\u001b[39;49m\u001b[43mconcatenate\u001b[49m\u001b[43m(\u001b[49m\u001b[43m(\u001b[49m\u001b[43ma\u001b[49m\u001b[43m,\u001b[49m\u001b[43mc\u001b[49m\u001b[43m)\u001b[49m\u001b[43m)\u001b[49m\n",
      "\u001b[1;31mValueError\u001b[0m: all the input arrays must have same number of dimensions, but the array at index 0 has 2 dimension(s) and the array at index 1 has 1 dimension(s)"
     ]
    }
   ],
   "source": [
    "np.concatenate((a,c))"
   ]
  },
  {
   "cell_type": "code",
   "execution_count": 140,
   "id": "38095d02",
   "metadata": {},
   "outputs": [
    {
     "data": {
      "text/plain": [
       "array([[5, 6]])"
      ]
     },
     "execution_count": 140,
     "metadata": {},
     "output_type": "execute_result"
    }
   ],
   "source": [
    "c1 = np.array([[5,6]])\n",
    "c1"
   ]
  },
  {
   "cell_type": "code",
   "execution_count": 141,
   "id": "47df7d4a",
   "metadata": {},
   "outputs": [
    {
     "data": {
      "text/plain": [
       "array([[1, 2],\n",
       "       [3, 4],\n",
       "       [5, 6]])"
      ]
     },
     "execution_count": 141,
     "metadata": {},
     "output_type": "execute_result"
    }
   ],
   "source": [
    "np.concatenate((a,c1))"
   ]
  },
  {
   "cell_type": "code",
   "execution_count": 142,
   "id": "d1989f3e",
   "metadata": {},
   "outputs": [
    {
     "ename": "ValueError",
     "evalue": "all the input array dimensions except for the concatenation axis must match exactly, but along dimension 0, the array at index 0 has size 2 and the array at index 1 has size 1",
     "output_type": "error",
     "traceback": [
      "\u001b[1;31m---------------------------------------------------------------------------\u001b[0m",
      "\u001b[1;31mValueError\u001b[0m                                Traceback (most recent call last)",
      "Cell \u001b[1;32mIn[142], line 1\u001b[0m\n\u001b[1;32m----> 1\u001b[0m \u001b[43mnp\u001b[49m\u001b[38;5;241;43m.\u001b[39;49m\u001b[43mconcatenate\u001b[49m\u001b[43m(\u001b[49m\u001b[43m(\u001b[49m\u001b[43ma\u001b[49m\u001b[43m,\u001b[49m\u001b[43mc1\u001b[49m\u001b[43m)\u001b[49m\u001b[43m,\u001b[49m\u001b[43maxis\u001b[49m\u001b[38;5;241;43m=\u001b[39;49m\u001b[38;5;241;43m1\u001b[39;49m\u001b[43m)\u001b[49m\n",
      "\u001b[1;31mValueError\u001b[0m: all the input array dimensions except for the concatenation axis must match exactly, but along dimension 0, the array at index 0 has size 2 and the array at index 1 has size 1"
     ]
    }
   ],
   "source": [
    "np.concatenate((a,c1),axis=1)"
   ]
  },
  {
   "cell_type": "code",
   "execution_count": 145,
   "id": "df947674",
   "metadata": {},
   "outputs": [
    {
     "data": {
      "text/plain": [
       "array([[1, 2, 3]])"
      ]
     },
     "execution_count": 145,
     "metadata": {},
     "output_type": "execute_result"
    }
   ],
   "source": [
    "d = np.array([[1,2,3]])\n",
    "d"
   ]
  },
  {
   "cell_type": "code",
   "execution_count": 146,
   "id": "6383f483",
   "metadata": {},
   "outputs": [
    {
     "ename": "ValueError",
     "evalue": "all the input array dimensions except for the concatenation axis must match exactly, but along dimension 1, the array at index 0 has size 2 and the array at index 1 has size 3",
     "output_type": "error",
     "traceback": [
      "\u001b[1;31m---------------------------------------------------------------------------\u001b[0m",
      "\u001b[1;31mValueError\u001b[0m                                Traceback (most recent call last)",
      "Cell \u001b[1;32mIn[146], line 1\u001b[0m\n\u001b[1;32m----> 1\u001b[0m \u001b[43mnp\u001b[49m\u001b[38;5;241;43m.\u001b[39;49m\u001b[43mconcatenate\u001b[49m\u001b[43m(\u001b[49m\u001b[43m(\u001b[49m\u001b[43ma\u001b[49m\u001b[43m,\u001b[49m\u001b[43md\u001b[49m\u001b[43m)\u001b[49m\u001b[43m)\u001b[49m\n",
      "\u001b[1;31mValueError\u001b[0m: all the input array dimensions except for the concatenation axis must match exactly, but along dimension 1, the array at index 0 has size 2 and the array at index 1 has size 3"
     ]
    }
   ],
   "source": [
    "np.concatenate((a,d))"
   ]
  },
  {
   "cell_type": "markdown",
   "id": "c962d0b8",
   "metadata": {},
   "source": [
    "* 행방향 axis=0으로 합칠 때는 차원과 열의 개수가 같아야만 합쳐짐\n",
    "* 열방향 axis=1으로 합칠 때는 차원과 행의 개수가 같아야만 합쳐짐"
   ]
  },
  {
   "cell_type": "markdown",
   "id": "0ea793d4",
   "metadata": {},
   "source": [
    "# 전치 행렬 만들기\n",
    "* .transpose(), .T\n",
    "* 행과 열을 바꿔주는 역할"
   ]
  },
  {
   "cell_type": "code",
   "execution_count": 148,
   "id": "54901e69",
   "metadata": {},
   "outputs": [
    {
     "data": {
      "text/plain": [
       "array([[1, 2, 3],\n",
       "       [4, 5, 6]])"
      ]
     },
     "execution_count": 148,
     "metadata": {},
     "output_type": "execute_result"
    }
   ],
   "source": [
    "h= np.arange(1,7).reshape(2,3)\n",
    "h"
   ]
  },
  {
   "cell_type": "code",
   "execution_count": 149,
   "id": "211c78b1",
   "metadata": {},
   "outputs": [
    {
     "data": {
      "text/plain": [
       "array([[1, 2],\n",
       "       [3, 4]])"
      ]
     },
     "execution_count": 149,
     "metadata": {},
     "output_type": "execute_result"
    }
   ],
   "source": [
    "a"
   ]
  },
  {
   "cell_type": "code",
   "execution_count": 150,
   "id": "1a337c9e",
   "metadata": {},
   "outputs": [
    {
     "ename": "ValueError",
     "evalue": "all the input array dimensions except for the concatenation axis must match exactly, but along dimension 1, the array at index 0 has size 2 and the array at index 1 has size 3",
     "output_type": "error",
     "traceback": [
      "\u001b[1;31m---------------------------------------------------------------------------\u001b[0m",
      "\u001b[1;31mValueError\u001b[0m                                Traceback (most recent call last)",
      "Cell \u001b[1;32mIn[150], line 1\u001b[0m\n\u001b[1;32m----> 1\u001b[0m \u001b[43mnp\u001b[49m\u001b[38;5;241;43m.\u001b[39;49m\u001b[43mconcatenate\u001b[49m\u001b[43m(\u001b[49m\u001b[43m(\u001b[49m\u001b[43ma\u001b[49m\u001b[43m,\u001b[49m\u001b[43mh\u001b[49m\u001b[43m)\u001b[49m\u001b[43m)\u001b[49m\n",
      "\u001b[1;31mValueError\u001b[0m: all the input array dimensions except for the concatenation axis must match exactly, but along dimension 1, the array at index 0 has size 2 and the array at index 1 has size 3"
     ]
    }
   ],
   "source": [
    "np.concatenate((a,h))"
   ]
  },
  {
   "cell_type": "code",
   "execution_count": 154,
   "id": "bf092c95",
   "metadata": {},
   "outputs": [],
   "source": [
    "h2 = h.transpose()"
   ]
  },
  {
   "cell_type": "code",
   "execution_count": 155,
   "id": "e598db40",
   "metadata": {},
   "outputs": [
    {
     "data": {
      "text/plain": [
       "array([[1, 2],\n",
       "       [3, 4],\n",
       "       [1, 4],\n",
       "       [2, 5],\n",
       "       [3, 6]])"
      ]
     },
     "execution_count": 155,
     "metadata": {},
     "output_type": "execute_result"
    }
   ],
   "source": [
    "np.concatenate((a,h2))"
   ]
  },
  {
   "cell_type": "markdown",
   "id": "4078ca05",
   "metadata": {},
   "source": [
    "# 브로드 캐스팅\n",
    "* 벡터와 스칼라, 혹은 매트릭스와 벡터를 연산할 때 자동으로 행렬 크기를 맞춰주는 것"
   ]
  },
  {
   "cell_type": "code",
   "execution_count": 156,
   "id": "d781a51c",
   "metadata": {},
   "outputs": [
    {
     "data": {
      "text/plain": [
       "array([[ 1,  2,  3,  4,  5],\n",
       "       [ 6,  7,  8,  9, 10],\n",
       "       [11, 12, 13, 14, 15]])"
      ]
     },
     "execution_count": 156,
     "metadata": {},
     "output_type": "execute_result"
    }
   ],
   "source": [
    "a = np.arange(1,16).reshape(3,5)\n",
    "a"
   ]
  },
  {
   "cell_type": "code",
   "execution_count": 157,
   "id": "3186bcc4",
   "metadata": {},
   "outputs": [
    {
     "data": {
      "text/plain": [
       "array([[11, 12, 13, 14, 15],\n",
       "       [16, 17, 18, 19, 20],\n",
       "       [21, 22, 23, 24, 25]])"
      ]
     },
     "execution_count": 157,
     "metadata": {},
     "output_type": "execute_result"
    }
   ],
   "source": [
    "a+10"
   ]
  },
  {
   "cell_type": "code",
   "execution_count": 158,
   "id": "c09ccb50",
   "metadata": {},
   "outputs": [
    {
     "name": "stdout",
     "output_type": "stream",
     "text": [
      "[10 20 30 40 50] 1 (5,)\n"
     ]
    }
   ],
   "source": [
    "b = np.array([10,20,30,40,50])\n",
    "print(b,b.ndim,b.shape)"
   ]
  },
  {
   "cell_type": "code",
   "execution_count": 159,
   "id": "ab6ebb15",
   "metadata": {},
   "outputs": [
    {
     "data": {
      "text/plain": [
       "array([[11, 22, 33, 44, 55],\n",
       "       [16, 27, 38, 49, 60],\n",
       "       [21, 32, 43, 54, 65]])"
      ]
     },
     "execution_count": 159,
     "metadata": {},
     "output_type": "execute_result"
    }
   ],
   "source": [
    "a + b"
   ]
  },
  {
   "cell_type": "code",
   "execution_count": 160,
   "id": "9d979007",
   "metadata": {},
   "outputs": [
    {
     "name": "stdout",
     "output_type": "stream",
     "text": [
      "[[10 20 30 40 50]] 2 (1, 5)\n"
     ]
    }
   ],
   "source": [
    "c = np.array([[10,20,30,40,50]])\n",
    "print(c,c.ndim,c.shape)"
   ]
  },
  {
   "cell_type": "code",
   "execution_count": 161,
   "id": "d05e934d",
   "metadata": {},
   "outputs": [
    {
     "data": {
      "text/plain": [
       "array([[11, 22, 33, 44, 55],\n",
       "       [16, 27, 38, 49, 60],\n",
       "       [21, 32, 43, 54, 65]])"
      ]
     },
     "execution_count": 161,
     "metadata": {},
     "output_type": "execute_result"
    }
   ],
   "source": [
    "a+c"
   ]
  },
  {
   "cell_type": "code",
   "execution_count": 162,
   "id": "79753eff",
   "metadata": {},
   "outputs": [
    {
     "ename": "ValueError",
     "evalue": "operands could not be broadcast together with shapes (3,5) (5,1) ",
     "output_type": "error",
     "traceback": [
      "\u001b[1;31m---------------------------------------------------------------------------\u001b[0m",
      "\u001b[1;31mValueError\u001b[0m                                Traceback (most recent call last)",
      "Cell \u001b[1;32mIn[162], line 1\u001b[0m\n\u001b[1;32m----> 1\u001b[0m \u001b[43ma\u001b[49m\u001b[38;5;241;43m+\u001b[39;49m\u001b[43mc\u001b[49m\u001b[38;5;241;43m.\u001b[39;49m\u001b[43mT\u001b[49m\n",
      "\u001b[1;31mValueError\u001b[0m: operands could not be broadcast together with shapes (3,5) (5,1) "
     ]
    }
   ],
   "source": [
    "a+c.T"
   ]
  },
  {
   "cell_type": "code",
   "execution_count": 163,
   "id": "fbd8e035",
   "metadata": {},
   "outputs": [
    {
     "name": "stdout",
     "output_type": "stream",
     "text": [
      "(5, 1)\n"
     ]
    },
    {
     "data": {
      "text/plain": [
       "array([[10],\n",
       "       [20],\n",
       "       [30],\n",
       "       [40],\n",
       "       [50]])"
      ]
     },
     "execution_count": 163,
     "metadata": {},
     "output_type": "execute_result"
    }
   ],
   "source": [
    "print(c.T.shape)\n",
    "c.T"
   ]
  },
  {
   "cell_type": "code",
   "execution_count": 164,
   "id": "5fe91ecb",
   "metadata": {},
   "outputs": [
    {
     "name": "stdout",
     "output_type": "stream",
     "text": [
      "(3, 5)\n"
     ]
    },
    {
     "data": {
      "text/plain": [
       "array([[ 1,  2,  3,  4,  5],\n",
       "       [ 6,  7,  8,  9, 10],\n",
       "       [11, 12, 13, 14, 15]])"
      ]
     },
     "execution_count": 164,
     "metadata": {},
     "output_type": "execute_result"
    }
   ],
   "source": [
    "print(a.shape)\n",
    "a"
   ]
  },
  {
   "cell_type": "markdown",
   "id": "77e6f85c",
   "metadata": {},
   "source": [
    "# 축(axis)기반 집계 연산"
   ]
  },
  {
   "cell_type": "code",
   "execution_count": 166,
   "id": "5a8bf02e",
   "metadata": {},
   "outputs": [
    {
     "name": "stdout",
     "output_type": "stream",
     "text": [
      "[[1 2 3]\n",
      " [4 5 6]]\n"
     ]
    }
   ],
   "source": [
    "mat = np.array([[1,2,3],[4,5,6]])\n",
    "print(mat)"
   ]
  },
  {
   "cell_type": "code",
   "execution_count": 167,
   "id": "0135a8fd",
   "metadata": {},
   "outputs": [
    {
     "data": {
      "text/plain": [
       "np.int64(21)"
      ]
     },
     "execution_count": 167,
     "metadata": {},
     "output_type": "execute_result"
    }
   ],
   "source": [
    "# 전체 요소 합\n",
    "np.sum(mat)"
   ]
  },
  {
   "cell_type": "code",
   "execution_count": 168,
   "id": "3dd0351a",
   "metadata": {},
   "outputs": [
    {
     "data": {
      "text/plain": [
       "array([5, 7, 9])"
      ]
     },
     "execution_count": 168,
     "metadata": {},
     "output_type": "execute_result"
    }
   ],
   "source": [
    "# 열별 합\n",
    "np.sum(mat,axis=0)"
   ]
  },
  {
   "cell_type": "code",
   "execution_count": 170,
   "id": "c44f0bb6",
   "metadata": {},
   "outputs": [
    {
     "data": {
      "text/plain": [
       "array([ 6, 15])"
      ]
     },
     "execution_count": 170,
     "metadata": {},
     "output_type": "execute_result"
    }
   ],
   "source": [
    "# 행별 합\n",
    "np.sum(mat,axis=1)"
   ]
  },
  {
   "cell_type": "markdown",
   "id": "c5213f99",
   "metadata": {},
   "source": [
    "# 배열 초기화 함수(zeros,ones,full,zeros_like)"
   ]
  },
  {
   "cell_type": "code",
   "execution_count": 171,
   "id": "86529605",
   "metadata": {},
   "outputs": [
    {
     "data": {
      "text/plain": [
       "array([[0., 0., 0.],\n",
       "       [0., 0., 0.],\n",
       "       [0., 0., 0.]])"
      ]
     },
     "execution_count": 171,
     "metadata": {},
     "output_type": "execute_result"
    }
   ],
   "source": [
    "np.zeros((3,3))"
   ]
  },
  {
   "cell_type": "code",
   "execution_count": 172,
   "id": "9ccd1dec",
   "metadata": {},
   "outputs": [
    {
     "data": {
      "text/plain": [
       "array([[[1., 1., 1., 1.],\n",
       "        [1., 1., 1., 1.],\n",
       "        [1., 1., 1., 1.]],\n",
       "\n",
       "       [[1., 1., 1., 1.],\n",
       "        [1., 1., 1., 1.],\n",
       "        [1., 1., 1., 1.]]])"
      ]
     },
     "execution_count": 172,
     "metadata": {},
     "output_type": "execute_result"
    }
   ],
   "source": [
    "np.ones((2,3,4))"
   ]
  },
  {
   "cell_type": "code",
   "execution_count": 176,
   "id": "8838358e",
   "metadata": {
    "scrolled": true
   },
   "outputs": [
    {
     "data": {
      "text/plain": [
       "array([[[[7, 7, 7, 7, 7],\n",
       "         [7, 7, 7, 7, 7],\n",
       "         [7, 7, 7, 7, 7],\n",
       "         [7, 7, 7, 7, 7]],\n",
       "\n",
       "        [[7, 7, 7, 7, 7],\n",
       "         [7, 7, 7, 7, 7],\n",
       "         [7, 7, 7, 7, 7],\n",
       "         [7, 7, 7, 7, 7]],\n",
       "\n",
       "        [[7, 7, 7, 7, 7],\n",
       "         [7, 7, 7, 7, 7],\n",
       "         [7, 7, 7, 7, 7],\n",
       "         [7, 7, 7, 7, 7]]],\n",
       "\n",
       "\n",
       "       [[[7, 7, 7, 7, 7],\n",
       "         [7, 7, 7, 7, 7],\n",
       "         [7, 7, 7, 7, 7],\n",
       "         [7, 7, 7, 7, 7]],\n",
       "\n",
       "        [[7, 7, 7, 7, 7],\n",
       "         [7, 7, 7, 7, 7],\n",
       "         [7, 7, 7, 7, 7],\n",
       "         [7, 7, 7, 7, 7]],\n",
       "\n",
       "        [[7, 7, 7, 7, 7],\n",
       "         [7, 7, 7, 7, 7],\n",
       "         [7, 7, 7, 7, 7],\n",
       "         [7, 7, 7, 7, 7]]]])"
      ]
     },
     "execution_count": 176,
     "metadata": {},
     "output_type": "execute_result"
    }
   ],
   "source": [
    "np.full((2,3,4,5),7)"
   ]
  },
  {
   "cell_type": "code",
   "execution_count": 178,
   "id": "17db65be",
   "metadata": {},
   "outputs": [
    {
     "data": {
      "text/plain": [
       "array([[0, 1, 2],\n",
       "       [3, 4, 5]])"
      ]
     },
     "execution_count": 178,
     "metadata": {},
     "output_type": "execute_result"
    }
   ],
   "source": [
    "base = np.arange(6).reshape(2,3)\n",
    "base"
   ]
  },
  {
   "cell_type": "code",
   "execution_count": 179,
   "id": "abf26898",
   "metadata": {},
   "outputs": [
    {
     "data": {
      "text/plain": [
       "array([[0, 0, 0],\n",
       "       [0, 0, 0]])"
      ]
     },
     "execution_count": 179,
     "metadata": {},
     "output_type": "execute_result"
    }
   ],
   "source": [
    "np.zeros_like(base)"
   ]
  },
  {
   "cell_type": "markdown",
   "id": "0e70f946",
   "metadata": {},
   "source": [
    "# 계산하기"
   ]
  },
  {
   "cell_type": "code",
   "execution_count": 182,
   "id": "30ab7009",
   "metadata": {},
   "outputs": [
    {
     "data": {
      "text/plain": [
       "array([[100, 120, 130],\n",
       "       [ 90, 160, 110],\n",
       "       [200, 180, 150]])"
      ]
     },
     "execution_count": 182,
     "metadata": {},
     "output_type": "execute_result"
    }
   ],
   "source": [
    "# 행은 날짜, 열 지점별 수입\n",
    "sales = np.array([\n",
    "    [100,120,130],\n",
    "    [90,160,110],\n",
    "    [200,180,150]\n",
    "    ])\n",
    "sales"
   ]
  },
  {
   "cell_type": "code",
   "execution_count": 183,
   "id": "583589ae",
   "metadata": {},
   "outputs": [
    {
     "name": "stdout",
     "output_type": "stream",
     "text": [
      "총 매출 합계:  1240\n"
     ]
    }
   ],
   "source": [
    "print(\"총 매출 합계: \",np.sum(sales))"
   ]
  },
  {
   "cell_type": "code",
   "execution_count": 190,
   "id": "1b3bedc8",
   "metadata": {},
   "outputs": [
    {
     "name": "stdout",
     "output_type": "stream",
     "text": [
      "지점별(행) 매출 합계:  [390 460 390]\n"
     ]
    }
   ],
   "source": [
    "# 지점별 합계\n",
    "print(\"지점별(행) 매출 합계: \",np.sum(sales,axis=0))"
   ]
  },
  {
   "cell_type": "code",
   "execution_count": 191,
   "id": "e4617352",
   "metadata": {},
   "outputs": [
    {
     "name": "stdout",
     "output_type": "stream",
     "text": [
      "일자별(열) 날짜 합계:  [350 360 530]\n"
     ]
    }
   ],
   "source": [
    "# 일자별 합계\n",
    "print(\"일자별(열) 날짜 합계: \",np.sum(sales,axis=1))"
   ]
  },
  {
   "cell_type": "code",
   "execution_count": 192,
   "id": "85ceade8",
   "metadata": {},
   "outputs": [
    {
     "data": {
      "text/plain": [
       "np.float64(137.77777777777777)"
      ]
     },
     "execution_count": 192,
     "metadata": {},
     "output_type": "execute_result"
    }
   ],
   "source": [
    "# 전체 평균\n",
    "np.mean(sales)"
   ]
  },
  {
   "cell_type": "code",
   "execution_count": 195,
   "id": "4142bd1f",
   "metadata": {},
   "outputs": [
    {
     "name": "stdout",
     "output_type": "stream",
     "text": [
      "지점별(행) 평균:  [130.         153.33333333 130.        ]\n"
     ]
    }
   ],
   "source": [
    "# 지점별 평균\n",
    "print(\"지점별(행) 평균: \",np.mean(sales,axis=0))"
   ]
  },
  {
   "cell_type": "code",
   "execution_count": 196,
   "id": "b607c1ce",
   "metadata": {},
   "outputs": [
    {
     "name": "stdout",
     "output_type": "stream",
     "text": [
      "일자별(열) 평균:  [116.66666667 120.         176.66666667]\n"
     ]
    }
   ],
   "source": [
    "# 일자별 평균\n",
    "print(\"일자별(열) 평균: \",np.mean(sales,axis=1))"
   ]
  },
  {
   "cell_type": "code",
   "execution_count": 197,
   "id": "e4ca71a7",
   "metadata": {},
   "outputs": [
    {
     "name": "stdout",
     "output_type": "stream",
     "text": [
      "누적잔고:  [100  80 130 120]\n"
     ]
    }
   ],
   "source": [
    "# 누적합 cumsum\n",
    "cashflow = np.array([100,-20,50,-10])\n",
    "print(\"누적잔고: \",np.cumsum(cashflow))"
   ]
  },
  {
   "cell_type": "code",
   "execution_count": 198,
   "id": "3ed19dd4",
   "metadata": {
    "scrolled": true
   },
   "outputs": [
    {
     "data": {
      "text/plain": [
       "array([1.01, 1.03, 0.99, 1.05])"
      ]
     },
     "execution_count": 198,
     "metadata": {},
     "output_type": "execute_result"
    }
   ],
   "source": [
    "# 누적 비율 계산\n",
    "rates = np.array([1.01,1.03,0.99,1.05])\n",
    "rates"
   ]
  },
  {
   "cell_type": "code",
   "execution_count": 200,
   "id": "36532b69",
   "metadata": {},
   "outputs": [
    {
     "name": "stdout",
     "output_type": "stream",
     "text": [
      "누적 성장률: [1.01       1.0403     1.029897   1.08139185]\n"
     ]
    }
   ],
   "source": [
    "# 경제 성장률이 2019 3% 2020 5% 2021 4% 2022 -5%\n",
    "print(\"누적 성장률:\",np.cumprod(rates))"
   ]
  },
  {
   "cell_type": "code",
   "execution_count": 202,
   "id": "863f0518",
   "metadata": {},
   "outputs": [],
   "source": [
    "# 분산,표준편차\n",
    "classA = np.array([70,72,68,69,71])\n",
    "classB = np.array([50,90,30,100,10])"
   ]
  },
  {
   "cell_type": "code",
   "execution_count": 208,
   "id": "9581d15c",
   "metadata": {},
   "outputs": [
    {
     "name": "stdout",
     "output_type": "stream",
     "text": [
      "A반의 평균:  70.0\n",
      "B반의 평균:  56.0\n"
     ]
    }
   ],
   "source": [
    "# 평균 구할 때\n",
    "print(\"A반의 평균: \",np.mean(classA))\n",
    "print(\"B반의 평균: \",np.mean(classB))"
   ]
  },
  {
   "cell_type": "code",
   "execution_count": 209,
   "id": "fa7b5902",
   "metadata": {},
   "outputs": [
    {
     "name": "stdout",
     "output_type": "stream",
     "text": [
      "A반의 분산:  2.0\n",
      "B반의 분산:  1184.0\n"
     ]
    }
   ],
   "source": [
    "# 분산\n",
    "print(\"A반의 분산: \",np.var(classA))\n",
    "print(\"B반의 분산: \",np.var(classB))"
   ]
  },
  {
   "cell_type": "code",
   "execution_count": 210,
   "id": "add1412f",
   "metadata": {},
   "outputs": [
    {
     "name": "stdout",
     "output_type": "stream",
     "text": [
      "A반의 표준편차:  1.4142135623730951\n",
      "B반의 표준편차:  34.40930106817051\n"
     ]
    }
   ],
   "source": [
    "# 표준편차\n",
    "print(\"A반의 표준편차: \",np.std(classA))\n",
    "print(\"B반의 표준편차: \",np.std(classB))"
   ]
  },
  {
   "cell_type": "markdown",
   "id": "31db485c",
   "metadata": {},
   "source": [
    "# 고유값과 빈도 구하기 unique"
   ]
  },
  {
   "cell_type": "code",
   "execution_count": 212,
   "id": "3e83394f",
   "metadata": {},
   "outputs": [],
   "source": [
    "brands = np.array([\"AAPL\",\"TSLA\",\"AAPL\",\"NVDA\",\"TSLA\",\"GOOGL\",\n",
    "                  \"AAPL\",\"TSLA\",\"AAPL\",\"NVDA\",\"TSLA\",\"GOOGL\",\n",
    "                  \"AAPL\",\"TSLA\",\"AAPL\",\"NVDA\",\"TSLA\",\"GOOGL\",\n",
    "                  \"AAPL\",\"TSLA\",\"AAPL\",\"NVDA\",\"TSLA\",\"GOOGL\",\n",
    "                  \"AAPL\",\"TSLA\",\"AAPL\",\"NVDA\",\"TSLA\",\"GOOGL\"])"
   ]
  },
  {
   "cell_type": "code",
   "execution_count": 213,
   "id": "5a9a54e2",
   "metadata": {},
   "outputs": [
    {
     "data": {
      "text/plain": [
       "array(['AAPL', 'GOOGL', 'NVDA', 'TSLA'], dtype='<U5')"
      ]
     },
     "execution_count": 213,
     "metadata": {},
     "output_type": "execute_result"
    }
   ],
   "source": [
    "np.unique(brands)"
   ]
  },
  {
   "cell_type": "code",
   "execution_count": 214,
   "id": "db60ebc8",
   "metadata": {},
   "outputs": [
    {
     "data": {
      "text/plain": [
       "(array(['AAPL', 'GOOGL', 'NVDA', 'TSLA'], dtype='<U5'),\n",
       " array([10,  5,  5, 10]))"
      ]
     },
     "execution_count": 214,
     "metadata": {},
     "output_type": "execute_result"
    }
   ],
   "source": [
    "np.unique(brands, return_counts=True)"
   ]
  },
  {
   "cell_type": "markdown",
   "id": "307c2535",
   "metadata": {},
   "source": [
    "# 삼각행렬 인덱스(triu_indices / tril_indices)\n",
    "* 상관계수 행렬, 공분산 행렬, 코사인 유사도 행렬들은 행과 열이 대칭행렬\n",
    "* 중복을 줄이기 위해서 위쪽 삼각형 또는 아래쪽 삼각형만 다룰 때 사용\n",
    "* np.triu_indices(n): n x n 행렬에서 위 삼각형의 위치 좌표를 출력\n",
    "* np.tril_indices(n): n x n 행렬에서 아래 삼각형의 위치 좌표를 출력"
   ]
  },
  {
   "cell_type": "code",
   "execution_count": 218,
   "id": "8d860e8b",
   "metadata": {},
   "outputs": [
    {
     "data": {
      "text/plain": [
       "array([[0., 0., 0.],\n",
       "       [0., 0., 0.],\n",
       "       [0., 0., 0.]])"
      ]
     },
     "execution_count": 218,
     "metadata": {},
     "output_type": "execute_result"
    }
   ],
   "source": [
    "# 출력은 행 열 순으로 나옴\n",
    "mask_up = np.zeros((3,3))\n",
    "mask_up"
   ]
  },
  {
   "cell_type": "code",
   "execution_count": 221,
   "id": "fdb4c86b",
   "metadata": {},
   "outputs": [
    {
     "name": "stdout",
     "output_type": "stream",
     "text": [
      "[0 0 0 1 1 2]\n",
      "[0 1 2 1 2 2]\n"
     ]
    }
   ],
   "source": [
    "row_up,col_up = np.triu_indices(3)\n",
    "print(row_up)\n",
    "print(col_up)"
   ]
  },
  {
   "cell_type": "code",
   "execution_count": 222,
   "id": "c2d37c6b",
   "metadata": {},
   "outputs": [],
   "source": [
    "mask_up[row_up,col_up] = 1"
   ]
  },
  {
   "cell_type": "code",
   "execution_count": 223,
   "id": "4b7cac32",
   "metadata": {},
   "outputs": [
    {
     "data": {
      "text/plain": [
       "array([[1., 1., 1.],\n",
       "       [0., 1., 1.],\n",
       "       [0., 0., 1.]])"
      ]
     },
     "execution_count": 223,
     "metadata": {},
     "output_type": "execute_result"
    }
   ],
   "source": [
    "mask_up"
   ]
  },
  {
   "cell_type": "code",
   "execution_count": 225,
   "id": "c3bba50e",
   "metadata": {},
   "outputs": [],
   "source": [
    "row_bottom, col_bottom = np.tril_indices(3)"
   ]
  },
  {
   "cell_type": "code",
   "execution_count": 227,
   "id": "ca42a215",
   "metadata": {},
   "outputs": [
    {
     "data": {
      "text/plain": [
       "array([[3., 1., 1.],\n",
       "       [3., 3., 1.],\n",
       "       [3., 3., 3.]])"
      ]
     },
     "execution_count": 227,
     "metadata": {},
     "output_type": "execute_result"
    }
   ],
   "source": [
    "mask_up[row_bottom,col_bottom] = 3\n",
    "mask_up"
   ]
  },
  {
   "cell_type": "markdown",
   "id": "818b6a30",
   "metadata": {},
   "source": [
    "# 인덱싱과 슬라이싱"
   ]
  },
  {
   "cell_type": "code",
   "execution_count": 228,
   "id": "3dfd73dc",
   "metadata": {},
   "outputs": [
    {
     "data": {
      "text/plain": [
       "array([[ 1,  2,  3,  4,  5,  6],\n",
       "       [ 7,  8,  9, 10, 11, 12],\n",
       "       [13, 14, 15, 16, 17, 18],\n",
       "       [19, 20, 21, 22, 23, 24],\n",
       "       [25, 26, 27, 28, 29, 30]])"
      ]
     },
     "execution_count": 228,
     "metadata": {},
     "output_type": "execute_result"
    }
   ],
   "source": [
    "z = np.arange(1,31).reshape(5,-1)\n",
    "z"
   ]
  },
  {
   "cell_type": "code",
   "execution_count": 233,
   "id": "d5236e50",
   "metadata": {},
   "outputs": [
    {
     "data": {
      "text/plain": [
       "np.int64(15)"
      ]
     },
     "execution_count": 233,
     "metadata": {},
     "output_type": "execute_result"
    }
   ],
   "source": [
    "z[2,2]"
   ]
  },
  {
   "cell_type": "code",
   "execution_count": 236,
   "id": "80ad9182",
   "metadata": {},
   "outputs": [
    {
     "data": {
      "text/plain": [
       "array([[ 1,  2,  3],\n",
       "       [ 7,  8,  9],\n",
       "       [13, 14, 15]])"
      ]
     },
     "execution_count": 236,
     "metadata": {},
     "output_type": "execute_result"
    }
   ],
   "source": [
    "z[:3,:3]"
   ]
  },
  {
   "cell_type": "code",
   "execution_count": 237,
   "id": "ef3a1377",
   "metadata": {},
   "outputs": [
    {
     "data": {
      "text/plain": [
       "array([[15, 16],\n",
       "       [21, 22]])"
      ]
     },
     "execution_count": 237,
     "metadata": {},
     "output_type": "execute_result"
    }
   ],
   "source": [
    "z[2:4,2:4]"
   ]
  },
  {
   "cell_type": "code",
   "execution_count": 239,
   "id": "7bc7e2ae",
   "metadata": {},
   "outputs": [
    {
     "data": {
      "text/plain": [
       "array([[15, 17],\n",
       "       [21, 23],\n",
       "       [27, 29]])"
      ]
     },
     "execution_count": 239,
     "metadata": {},
     "output_type": "execute_result"
    }
   ],
   "source": [
    "z[2:6,2:7:2]"
   ]
  },
  {
   "cell_type": "code",
   "execution_count": 240,
   "id": "58bf75a5",
   "metadata": {},
   "outputs": [
    {
     "data": {
      "text/plain": [
       "array([[15, 17],\n",
       "       [27, 29]])"
      ]
     },
     "execution_count": 240,
     "metadata": {},
     "output_type": "execute_result"
    }
   ],
   "source": [
    "z[2:6:2,2:7:2]"
   ]
  },
  {
   "cell_type": "code",
   "execution_count": 242,
   "id": "6087fe60",
   "metadata": {},
   "outputs": [],
   "source": [
    "z[[0, 0, 0, 1, 1, 2],[0, 1, 2, 1, 2, 2]] = 0"
   ]
  },
  {
   "cell_type": "code",
   "execution_count": 243,
   "id": "588c4ab8",
   "metadata": {},
   "outputs": [
    {
     "data": {
      "text/plain": [
       "array([[ 0,  0,  0,  4,  5,  6],\n",
       "       [ 7,  0,  0, 10, 11, 12],\n",
       "       [13, 14,  0, 16, 17, 18],\n",
       "       [19, 20, 21, 22, 23, 24],\n",
       "       [25, 26, 27, 28, 29, 30]])"
      ]
     },
     "execution_count": 243,
     "metadata": {},
     "output_type": "execute_result"
    }
   ],
   "source": [
    "z"
   ]
  }
 ],
 "metadata": {
  "kernelspec": {
   "display_name": "Python 3 (ipykernel)",
   "language": "python",
   "name": "python3"
  },
  "language_info": {
   "codemirror_mode": {
    "name": "ipython",
    "version": 3
   },
   "file_extension": ".py",
   "mimetype": "text/x-python",
   "name": "python",
   "nbconvert_exporter": "python",
   "pygments_lexer": "ipython3",
   "version": "3.9.23"
  }
 },
 "nbformat": 4,
 "nbformat_minor": 5
}
