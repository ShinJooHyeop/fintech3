{
 "cells": [
  {
   "cell_type": "code",
   "execution_count": 3,
   "id": "82575471",
   "metadata": {},
   "outputs": [],
   "source": [
    "# 문제1"
   ]
  },
  {
   "cell_type": "code",
   "execution_count": 8,
   "id": "53284d4d",
   "metadata": {},
   "outputs": [],
   "source": [
    "import pandas as pd\n",
    "import numpy as  np"
   ]
  },
  {
   "cell_type": "code",
   "execution_count": 14,
   "id": "881af481",
   "metadata": {},
   "outputs": [],
   "source": [
    "a= np.array(10)"
   ]
  },
  {
   "cell_type": "code",
   "execution_count": 15,
   "id": "b5015382",
   "metadata": {},
   "outputs": [
    {
     "name": "stdout",
     "output_type": "stream",
     "text": [
      "10 0 ()\n"
     ]
    }
   ],
   "source": [
    "print(a,a.ndim,a.shape)"
   ]
  },
  {
   "cell_type": "code",
   "execution_count": 16,
   "id": "080418d7",
   "metadata": {},
   "outputs": [],
   "source": [
    "# 문제2"
   ]
  },
  {
   "cell_type": "code",
   "execution_count": 20,
   "id": "90ad14c0",
   "metadata": {},
   "outputs": [],
   "source": [
    "arr = np.array([1,2,3,4,5])"
   ]
  },
  {
   "cell_type": "code",
   "execution_count": 21,
   "id": "453d0d54",
   "metadata": {},
   "outputs": [
    {
     "name": "stdout",
     "output_type": "stream",
     "text": [
      "int64 5\n"
     ]
    }
   ],
   "source": [
    "print(arr.dtype,arr.size)"
   ]
  },
  {
   "cell_type": "code",
   "execution_count": 22,
   "id": "ab1db4c2",
   "metadata": {},
   "outputs": [],
   "source": [
    "#문제3"
   ]
  },
  {
   "cell_type": "code",
   "execution_count": 23,
   "id": "51da2fc6",
   "metadata": {},
   "outputs": [],
   "source": [
    "m = np.array([[1,2,3],[4,5,6]])"
   ]
  },
  {
   "cell_type": "code",
   "execution_count": 24,
   "id": "89bcd921",
   "metadata": {},
   "outputs": [
    {
     "name": "stdout",
     "output_type": "stream",
     "text": [
      "2 (2, 3)\n"
     ]
    }
   ],
   "source": [
    "print(m.ndim,m.shape)"
   ]
  },
  {
   "cell_type": "code",
   "execution_count": 25,
   "id": "beaddaed",
   "metadata": {},
   "outputs": [],
   "source": [
    "#문제4"
   ]
  },
  {
   "cell_type": "code",
   "execution_count": 26,
   "id": "52b5b83c",
   "metadata": {},
   "outputs": [],
   "source": [
    "x = np.array(['1','2','3'])"
   ]
  },
  {
   "cell_type": "code",
   "execution_count": 28,
   "id": "860822ed",
   "metadata": {},
   "outputs": [
    {
     "name": "stdout",
     "output_type": "stream",
     "text": [
      "['1' '2' '3'] <U1\n"
     ]
    }
   ],
   "source": [
    "print(x,x.dtype)"
   ]
  },
  {
   "cell_type": "code",
   "execution_count": 29,
   "id": "75237ff4",
   "metadata": {},
   "outputs": [],
   "source": [
    "#문제5"
   ]
  },
  {
   "cell_type": "code",
   "execution_count": 30,
   "id": "d8dbf3bc",
   "metadata": {},
   "outputs": [],
   "source": [
    "r = np.arange(0,10)"
   ]
  },
  {
   "cell_type": "code",
   "execution_count": 31,
   "id": "1ce7f710",
   "metadata": {},
   "outputs": [
    {
     "name": "stdout",
     "output_type": "stream",
     "text": [
      "[0 1 2 3 4 5 6 7 8 9] (10,)\n"
     ]
    }
   ],
   "source": [
    "print(r,r.shape)"
   ]
  },
  {
   "cell_type": "code",
   "execution_count": 32,
   "id": "9260e2e0",
   "metadata": {},
   "outputs": [],
   "source": [
    "#문제6"
   ]
  },
  {
   "cell_type": "code",
   "execution_count": 40,
   "id": "60371f1a",
   "metadata": {},
   "outputs": [
    {
     "data": {
      "text/plain": [
       "array([1, 3, 5, 7, 9])"
      ]
     },
     "execution_count": 40,
     "metadata": {},
     "output_type": "execute_result"
    }
   ],
   "source": [
    "r2 = np.arange(1,11,2)\n",
    "r2"
   ]
  },
  {
   "cell_type": "code",
   "execution_count": 39,
   "id": "3ce4f07c",
   "metadata": {},
   "outputs": [],
   "source": [
    "#문제7"
   ]
  },
  {
   "cell_type": "code",
   "execution_count": 33,
   "id": "af33fbfa",
   "metadata": {},
   "outputs": [
    {
     "data": {
      "text/plain": [
       "array([ 0,  1,  2,  3,  4,  5,  6,  7,  8,  9, 10, 11])"
      ]
     },
     "execution_count": 33,
     "metadata": {},
     "output_type": "execute_result"
    }
   ],
   "source": [
    "m = np.arange(0,12)\n",
    "m"
   ]
  },
  {
   "cell_type": "code",
   "execution_count": 38,
   "id": "92e8784a",
   "metadata": {},
   "outputs": [
    {
     "name": "stdout",
     "output_type": "stream",
     "text": [
      "[[ 0  1  2  3]\n",
      " [ 4  5  6  7]\n",
      " [ 8  9 10 11]] (3, 4)\n"
     ]
    }
   ],
   "source": [
    "m = m.reshape(3,4)\n",
    "print(m,m.shape)"
   ]
  },
  {
   "cell_type": "code",
   "execution_count": 41,
   "id": "dd78e423",
   "metadata": {},
   "outputs": [],
   "source": [
    "#문제8"
   ]
  },
  {
   "cell_type": "code",
   "execution_count": 42,
   "id": "56b7de26",
   "metadata": {},
   "outputs": [
    {
     "name": "stdout",
     "output_type": "stream",
     "text": [
      "(4, 3)\n"
     ]
    }
   ],
   "source": [
    "m2 = m.reshape(4,3)\n",
    "print(m2.shape)"
   ]
  },
  {
   "cell_type": "code",
   "execution_count": 45,
   "id": "23026814",
   "metadata": {},
   "outputs": [
    {
     "data": {
      "text/plain": [
       "array([[1, 2],\n",
       "       [3, 4]])"
      ]
     },
     "execution_count": 45,
     "metadata": {},
     "output_type": "execute_result"
    }
   ],
   "source": [
    "#문제9\n",
    "k = np.array([[1,2],[3,4]])\n",
    "k"
   ]
  },
  {
   "cell_type": "code",
   "execution_count": 46,
   "id": "a31f2b6e",
   "metadata": {},
   "outputs": [
    {
     "data": {
      "text/plain": [
       "array([1, 2, 3, 4])"
      ]
     },
     "execution_count": 46,
     "metadata": {},
     "output_type": "execute_result"
    }
   ],
   "source": [
    "k.flatten()"
   ]
  },
  {
   "cell_type": "code",
   "execution_count": 47,
   "id": "53eabdff",
   "metadata": {},
   "outputs": [],
   "source": [
    "#문제10"
   ]
  },
  {
   "cell_type": "code",
   "execution_count": 48,
   "id": "264c181b",
   "metadata": {},
   "outputs": [
    {
     "data": {
      "text/plain": [
       "array([0.  , 0.25, 0.5 , 0.75, 1.  ])"
      ]
     },
     "execution_count": 48,
     "metadata": {},
     "output_type": "execute_result"
    }
   ],
   "source": [
    "np.linspace(0,1,5)"
   ]
  },
  {
   "cell_type": "code",
   "execution_count": 49,
   "id": "b0d552c2",
   "metadata": {},
   "outputs": [],
   "source": [
    "#문제11"
   ]
  },
  {
   "cell_type": "code",
   "execution_count": 54,
   "id": "c9d11c31",
   "metadata": {},
   "outputs": [
    {
     "name": "stdout",
     "output_type": "stream",
     "text": [
      "0 9 [0 1 2]\n"
     ]
    }
   ],
   "source": [
    "print(r[0],r[9],r[:3])"
   ]
  },
  {
   "cell_type": "code",
   "execution_count": 79,
   "id": "f290b50f",
   "metadata": {},
   "outputs": [],
   "source": [
    "#문제12\n",
    "b = np.arange(12).reshape(3,4)"
   ]
  },
  {
   "cell_type": "code",
   "execution_count": 80,
   "id": "b49f6a95",
   "metadata": {},
   "outputs": [
    {
     "name": "stdout",
     "output_type": "stream",
     "text": [
      "[0 1 2 3]\n",
      "[ 3  7 11]\n"
     ]
    }
   ],
   "source": [
    "print(b[0])\n",
    "print(b[:,-1])"
   ]
  },
  {
   "cell_type": "code",
   "execution_count": 84,
   "id": "f01f1d12",
   "metadata": {},
   "outputs": [
    {
     "name": "stdout",
     "output_type": "stream",
     "text": [
      "[4 5]\n"
     ]
    }
   ],
   "source": [
    "#문제13\n",
    "sub = b[1,0:2]\n",
    "print(sub)"
   ]
  },
  {
   "cell_type": "code",
   "execution_count": null,
   "id": "ce9e2403",
   "metadata": {},
   "outputs": [],
   "source": [
    "#문제14"
   ]
  },
  {
   "cell_type": "code",
   "execution_count": 96,
   "id": "3023ffb3",
   "metadata": {},
   "outputs": [
    {
     "data": {
      "text/plain": [
       "array([[ 0,  1,  2,  3,  4],\n",
       "       [ 5,  6,  7,  8,  9],\n",
       "       [10, 11, 12, 13, 14],\n",
       "       [15, 16, 17, 18, 19],\n",
       "       [20, 21, 22, 23, 24]])"
      ]
     },
     "execution_count": 96,
     "metadata": {},
     "output_type": "execute_result"
    }
   ],
   "source": [
    "c = np.arange(25).reshape(5,5)\n",
    "c"
   ]
  },
  {
   "cell_type": "code",
   "execution_count": 98,
   "id": "f29c31d6",
   "metadata": {},
   "outputs": [
    {
     "data": {
      "text/plain": [
       "array([ 0,  6, 12, 18, 24])"
      ]
     },
     "execution_count": 98,
     "metadata": {},
     "output_type": "execute_result"
    }
   ],
   "source": [
    "diag = c.diagonal()\n",
    "diag.flatten()"
   ]
  },
  {
   "cell_type": "code",
   "execution_count": 99,
   "id": "df70d06f",
   "metadata": {},
   "outputs": [],
   "source": [
    "#문제15"
   ]
  },
  {
   "cell_type": "code",
   "execution_count": 107,
   "id": "b2c0917c",
   "metadata": {},
   "outputs": [
    {
     "name": "stdout",
     "output_type": "stream",
     "text": [
      "[[ 6  7  8]\n",
      " [ 9 10 11]]\n"
     ]
    }
   ],
   "source": [
    "d = np.arange(12).reshape(4,3)\n",
    "print(d[2:4])"
   ]
  },
  {
   "cell_type": "code",
   "execution_count": 108,
   "id": "0bbe4d0f",
   "metadata": {},
   "outputs": [],
   "source": [
    "#문제16"
   ]
  },
  {
   "cell_type": "code",
   "execution_count": 110,
   "id": "426be0e4",
   "metadata": {},
   "outputs": [
    {
     "data": {
      "text/plain": [
       "array([10, 20, 30, 40, 50])"
      ]
     },
     "execution_count": 110,
     "metadata": {},
     "output_type": "execute_result"
    }
   ],
   "source": [
    "arr = np.array([10,20,30,40,50])\n",
    "arr"
   ]
  },
  {
   "cell_type": "code",
   "execution_count": 115,
   "id": "2e979ed5",
   "metadata": {},
   "outputs": [
    {
     "name": "stdout",
     "output_type": "stream",
     "text": [
      "[10 30 50]\n"
     ]
    }
   ],
   "source": [
    "new_arr = arr[::2]\n",
    "print(new_arr)"
   ]
  },
  {
   "cell_type": "code",
   "execution_count": 136,
   "id": "292d3850",
   "metadata": {},
   "outputs": [],
   "source": [
    "#문제17\n",
    "picked = []\n",
    "e = np.arange(16).reshape(4,4)\n",
    "picked.append(e[0,1])\n",
    "picked.append(e[1,2])\n",
    "picked.append(e[2,3])"
   ]
  },
  {
   "cell_type": "code",
   "execution_count": 137,
   "id": "8a70b70a",
   "metadata": {},
   "outputs": [
    {
     "data": {
      "text/plain": [
       "[np.int64(1), np.int64(6), np.int64(11)]"
      ]
     },
     "execution_count": 137,
     "metadata": {},
     "output_type": "execute_result"
    }
   ],
   "source": [
    "picked"
   ]
  },
  {
   "cell_type": "code",
   "execution_count": 156,
   "id": "f7b0dd4d",
   "metadata": {},
   "outputs": [
    {
     "name": "stdout",
     "output_type": "stream",
     "text": [
      "[[ 1  3]\n",
      " [ 9 11]]\n"
     ]
    }
   ],
   "source": [
    "#문제18\n",
    "sub2 = e[::2,1:4:2]\n",
    "print(sub2)"
   ]
  },
  {
   "cell_type": "code",
   "execution_count": 163,
   "id": "80acdf03",
   "metadata": {},
   "outputs": [
    {
     "name": "stdout",
     "output_type": "stream",
     "text": [
      "[False False False  True  True  True]\n"
     ]
    }
   ],
   "source": [
    "#문제19\n",
    "x = np.array([3,6,9,12,15,18])\n",
    "print(x > 10)"
   ]
  },
  {
   "cell_type": "code",
   "execution_count": 165,
   "id": "56322c04",
   "metadata": {},
   "outputs": [
    {
     "data": {
      "text/plain": [
       "array([[ 0,  1,  2,  3],\n",
       "       [ 4,  5,  6,  7],\n",
       "       [ 8,  9, 10, 11]])"
      ]
     },
     "execution_count": 165,
     "metadata": {},
     "output_type": "execute_result"
    }
   ],
   "source": [
    "#문제20\n",
    "arr2D = np.arange(12).reshape(3,4)\n",
    "arr2D"
   ]
  },
  {
   "cell_type": "code",
   "execution_count": 186,
   "id": "dd8c5986",
   "metadata": {},
   "outputs": [
    {
     "data": {
      "text/plain": [
       "array([[ True, False,  True, False],\n",
       "       [ True, False,  True, False],\n",
       "       [ True, False,  True, False]])"
      ]
     },
     "execution_count": 186,
     "metadata": {},
     "output_type": "execute_result"
    }
   ],
   "source": [
    "arr2D%2 == 0"
   ]
  },
  {
   "cell_type": "code",
   "execution_count": 184,
   "id": "97bd064b",
   "metadata": {},
   "outputs": [
    {
     "name": "stdout",
     "output_type": "stream",
     "text": [
      "[10 11 12 13 14]\n"
     ]
    }
   ],
   "source": [
    "#문제21\n",
    "v = np.arange(5)\n",
    "print(v + 10)"
   ]
  },
  {
   "cell_type": "code",
   "execution_count": 191,
   "id": "25293529",
   "metadata": {},
   "outputs": [
    {
     "name": "stdout",
     "output_type": "stream",
     "text": [
      "[[10 11 12]\n",
      " [13 14 15]]\n"
     ]
    }
   ],
   "source": [
    "#문제22\n",
    "A = np.arange(6).reshape(2,3)\n",
    "B = np.array([10,10,10])\n",
    "print(A+B)"
   ]
  },
  {
   "cell_type": "code",
   "execution_count": 195,
   "id": "9a41d67b",
   "metadata": {},
   "outputs": [
    {
     "name": "stdout",
     "output_type": "stream",
     "text": [
      "[ 3 12]\n",
      "[3 5 7]\n"
     ]
    }
   ],
   "source": [
    "#문제23\n",
    "print(np.sum(A,axis=1))\n",
    "print(np.sum(A,axis=0))"
   ]
  },
  {
   "cell_type": "code",
   "execution_count": 198,
   "id": "18441d69",
   "metadata": {},
   "outputs": [
    {
     "name": "stdout",
     "output_type": "stream",
     "text": [
      "4.0\n",
      "[3. 4. 5.]\n"
     ]
    }
   ],
   "source": [
    "#문제24\n",
    "M = np.arange(9).reshape(3,3)\n",
    "print(np.mean(M))\n",
    "print(np.mean(M,axis=0))"
   ]
  },
  {
   "cell_type": "code",
   "execution_count": 209,
   "id": "7bd4177e",
   "metadata": {},
   "outputs": [
    {
     "name": "stdout",
     "output_type": "stream",
     "text": [
      "[5 0 7 0 0]\n"
     ]
    }
   ],
   "source": [
    "#문제25\n",
    "data = np.array([5,-2,7,-9,0])\n",
    "cleande = np.where(data > 0 ,data , 0)\n",
    "print(cleande)"
   ]
  },
  {
   "cell_type": "code",
   "execution_count": 213,
   "id": "da097611",
   "metadata": {},
   "outputs": [
    {
     "name": "stdout",
     "output_type": "stream",
     "text": [
      "['even' 'odd' 'even' 'odd' 'even' 'odd' 'even' 'odd' 'even' 'odd']\n"
     ]
    }
   ],
   "source": [
    "#문제26\n",
    "arr = np.arange(10)\n",
    "label = np.where(arr%2 == 0,\"even\",\"odd\")\n",
    "print(label)"
   ]
  },
  {
   "cell_type": "code",
   "execution_count": 214,
   "id": "26ee2557",
   "metadata": {},
   "outputs": [],
   "source": [
    "#문제27\n",
    "X = np.array([[1,2],[3,4]])\n",
    "Y = np.array([[10,20],[30,40]])"
   ]
  },
  {
   "cell_type": "code",
   "execution_count": 215,
   "id": "3dcd3bc3",
   "metadata": {},
   "outputs": [
    {
     "name": "stdout",
     "output_type": "stream",
     "text": [
      "[[11 22]\n",
      " [33 44]]\n",
      "[[ 10  40]\n",
      " [ 90 160]]\n"
     ]
    }
   ],
   "source": [
    "print(X+Y)\n",
    "print(X*Y)"
   ]
  },
  {
   "cell_type": "code",
   "execution_count": null,
   "id": "304d41cf",
   "metadata": {},
   "outputs": [],
   "source": [
    "#문제28\n"
   ]
  }
 ],
 "metadata": {
  "kernelspec": {
   "display_name": "Python 3 (ipykernel)",
   "language": "python",
   "name": "python3"
  },
  "language_info": {
   "codemirror_mode": {
    "name": "ipython",
    "version": 3
   },
   "file_extension": ".py",
   "mimetype": "text/x-python",
   "name": "python",
   "nbconvert_exporter": "python",
   "pygments_lexer": "ipython3",
   "version": "3.9.23"
  }
 },
 "nbformat": 4,
 "nbformat_minor": 5
}
