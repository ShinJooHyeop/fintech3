{
 "cells": [
  {
   "cell_type": "markdown",
   "id": "f1f6f76f",
   "metadata": {},
   "source": [
    "# 구글플레이에 등록된 앱의 리뷰 추출"
   ]
  },
  {
   "cell_type": "code",
   "execution_count": 442,
   "id": "c9b599c7",
   "metadata": {},
   "outputs": [],
   "source": [
    "# 기본적으로 불러와야되는 셀레니윰 \n",
    "from selenium import webdriver\n",
    "from selenium.webdriver.chrome.service import Service\n",
    "from selenium.webdriver.chrome.options import Options\n",
    "from webdriver_manager.chrome import ChromeDriverManager\n",
    "from selenium.webdriver.common.by import By\n",
    "from selenium.webdriver.common.keys import Keys\n",
    "\n",
    "#사람인척 하기 위한 옵션으로 사람이 아닌 셀레니움이면 사이트에서 막히기 때문에 사용\n",
    "options = Options()\n",
    "options.add_experimental_option(\"detach\", True)\n",
    "options.add_argument(\"start-maximized\")\n",
    "options.add_argument(\"Chrome/141.0.0.0\")\n",
    "options.add_argument(\"lang=ko_KR\")\n",
    "\n",
    "driver = webdriver.Chrome(\n",
    "    service=Service(ChromeDriverManager().install()),\n",
    "    options=options\n",
    "    )\n",
    "#웹브라우저에서 url열기\n",
    "driver.get(\"https://play.google.com/store/apps/details?id=viva.republica.toss&hl=ko\")"
   ]
  },
  {
   "cell_type": "code",
   "execution_count": 78,
   "id": "6eabe849",
   "metadata": {},
   "outputs": [],
   "source": [
    "import time"
   ]
  },
  {
   "cell_type": "code",
   "execution_count": 102,
   "id": "4f1118a1",
   "metadata": {
    "scrolled": true
   },
   "outputs": [],
   "source": [
    "driver.execute_script(f\"window.scrollTo({0},{1400})\")\n",
    "time.sleep(2)"
   ]
  },
  {
   "cell_type": "code",
   "execution_count": 103,
   "id": "b261929e",
   "metadata": {},
   "outputs": [],
   "source": [
    "# 평점 및 리뷰 옆의 -> 버튼 클릭\n",
    "button = driver.find_element(By.CSS_SELECTOR,'button[aria-label*=\"평점 및 리뷰 자세히 알아보기\"]')\n",
    "button.click()"
   ]
  },
  {
   "cell_type": "code",
   "execution_count": 104,
   "id": "a908edd4",
   "metadata": {},
   "outputs": [],
   "source": [
    "# 최신순으로 리뷰를 정리하기 위해서 버튼 클릭\n",
    "driver.find_element(By.ID,\"sortBy_1\").click()"
   ]
  },
  {
   "cell_type": "code",
   "execution_count": 105,
   "id": "41f8a775",
   "metadata": {},
   "outputs": [],
   "source": [
    "# 최신을 찾아서 클릭\n",
    "driver.find_element(By.CSS_SELECTOR,'span[aria-label*=\"최신\"]').click()"
   ]
  },
  {
   "cell_type": "code",
   "execution_count": 30,
   "id": "d03362f5",
   "metadata": {},
   "outputs": [],
   "source": [
    "# window를 스크롤하면 리뷰가 아닌 배경 페이지가 스크롤 됨"
   ]
  },
  {
   "cell_type": "code",
   "execution_count": 40,
   "id": "f5c3a44d",
   "metadata": {
    "scrolled": true
   },
   "outputs": [],
   "source": [
    "# 리뷰가 담긴 창을 찾아서 Javascript로 1000px씩 아래로 스크롤\n",
    "driver.execute_script(\"document.querySelector('.fysCi.Vk3ZVd').scrollBy(0,10000)\")"
   ]
  },
  {
   "cell_type": "code",
   "execution_count": 444,
   "id": "16dd7aee",
   "metadata": {},
   "outputs": [],
   "source": [
    "#리뷰일\n",
    "review_date = driver.find_element(By.CSS_SELECTOR,\".bp9Aid\").get_attribute('innerHTML')"
   ]
  },
  {
   "cell_type": "code",
   "execution_count": 50,
   "id": "f6cae6fe",
   "metadata": {},
   "outputs": [],
   "source": [
    "# 별점\n",
    "rating = float(driver.find_element(By.CSS_SELECTOR,'div[aria-label*=\"별표 5개 만점에\"]').get_attribute('aria-label').split()[3].replace(\"개를\",\"\"))"
   ]
  },
  {
   "cell_type": "code",
   "execution_count": 54,
   "id": "a0278663",
   "metadata": {},
   "outputs": [],
   "source": [
    "#사용자 리뷰\n",
    "user_reviwe = driver.find_element(By.CSS_SELECTOR, \".h3YV2d\").text"
   ]
  },
  {
   "cell_type": "code",
   "execution_count": 445,
   "id": "4034ff85",
   "metadata": {},
   "outputs": [],
   "source": [
    "# 회사 응답\n",
    "company_reply = driver.find_element(By.CSS_SELECTOR, \".ras4vb\").text"
   ]
  },
  {
   "cell_type": "code",
   "execution_count": 81,
   "id": "28937ec5",
   "metadata": {},
   "outputs": [],
   "source": [
    "from datetime import datetime,timedelta"
   ]
  },
  {
   "cell_type": "code",
   "execution_count": 72,
   "id": "caa3d192",
   "metadata": {},
   "outputs": [],
   "source": [
    "# 추출한 리뷰일을 날짜형 데이터로 변경\n",
    "# datetime.strptime(yyyy-mm-dd, '%Y-%m-%d') 날짜형 데이터 타입으로 변환\n",
    "review_date = review_date.replace(\" \",\"\").replace(\"년\",\"-\").replace(\"월\",\"-\").replace(\"일\",\"\")\n",
    "review_date = datetime.strptime(review_date,'%Y-%m-%d')"
   ]
  },
  {
   "cell_type": "code",
   "execution_count": 73,
   "id": "33fdc60b",
   "metadata": {},
   "outputs": [
    {
     "data": {
      "text/plain": [
       "datetime.datetime(2025, 10, 1, 0, 0)"
      ]
     },
     "execution_count": 73,
     "metadata": {},
     "output_type": "execute_result"
    }
   ],
   "source": [
    "review_date"
   ]
  },
  {
   "cell_type": "code",
   "execution_count": 82,
   "id": "78aad7f6",
   "metadata": {},
   "outputs": [
    {
     "data": {
      "text/plain": [
       "datetime.date(2025, 9, 27)"
      ]
     },
     "execution_count": 82,
     "metadata": {},
     "output_type": "execute_result"
    }
   ],
   "source": [
    "today = datetime.today()\n",
    "one_month_ago = today - timedelta(days=30)\n",
    "one_month_ago.date()"
   ]
  },
  {
   "cell_type": "code",
   "execution_count": 86,
   "id": "fd0711ac",
   "metadata": {
    "scrolled": false
   },
   "outputs": [
    {
     "ename": "SyntaxError",
     "evalue": "'break' outside loop (224360330.py, line 2)",
     "output_type": "error",
     "traceback": [
      "\u001b[1;36m  Cell \u001b[1;32mIn[86], line 2\u001b[1;36m\u001b[0m\n\u001b[1;33m    break\u001b[0m\n\u001b[1;37m    ^\u001b[0m\n\u001b[1;31mSyntaxError\u001b[0m\u001b[1;31m:\u001b[0m 'break' outside loop\n"
     ]
    }
   ],
   "source": [
    "if review_date.date() < one_month_ago.date():\n",
    "    break"
   ]
  },
  {
   "cell_type": "markdown",
   "id": "4ec6e4a8",
   "metadata": {},
   "source": [
    "# 토스 정보 합치기"
   ]
  },
  {
   "cell_type": "code",
   "execution_count": 154,
   "id": "2e42d125",
   "metadata": {},
   "outputs": [],
   "source": [
    "# 웹 정보 불러올때까지 기달려주는 코드\n",
    "from selenium.webdriver.support.ui import WebDriverWait\n",
    "from selenium.webdriver.support import expected_conditions as EC"
   ]
  },
  {
   "cell_type": "markdown",
   "id": "52f361d2",
   "metadata": {},
   "source": [
    "웹브라우저에 표시되는 요소들(버튼,아이콘)은 클릭할 수 있게 되기까지 시간이 필요. <br>\n",
    "요소가 클릭이 가능해질 때 까지 기다리도록 코드를 작성해 주어야 함<br>\n",
    "```python\n",
    "from selenium.webdriver.support.ui import WebDriverWait\n",
    "from selenium.webdriver.support import expected_conditions as EC\n",
    "```\n",
    "추가가 필요"
   ]
  },
  {
   "cell_type": "code",
   "execution_count": 153,
   "id": "8e388c09",
   "metadata": {},
   "outputs": [],
   "source": [
    "import time\n",
    "import pandas as pd\n",
    "from selenium import webdriver\n",
    "from datetime import datetime,timedelta\n",
    "from selenium.webdriver.chrome.service import Service\n",
    "from selenium.webdriver.chrome.options import Options\n",
    "from webdriver_manager.chrome import ChromeDriverManager\n",
    "from selenium.webdriver.common.by import By\n",
    "from selenium.webdriver.common.keys import Keys\n",
    "from selenium.webdriver.support.ui import WebDriverWait\n",
    "from selenium.webdriver.support import expected_conditions as EC"
   ]
  },
  {
   "cell_type": "code",
   "execution_count": 312,
   "id": "41ed4154",
   "metadata": {},
   "outputs": [],
   "source": [
    "def to_date(review_date):\n",
    "    review_date = review_date.replace(\" \",\"\").replace(\"년\",\"-\").replace(\"월\",\"-\").replace(\"일\",\"\")\n",
    "    review_date = datetime.strptime(review_date,'%Y-%m-%d')\n",
    "    return review_date.date()"
   ]
  },
  {
   "cell_type": "code",
   "execution_count": 353,
   "id": "59197241",
   "metadata": {},
   "outputs": [],
   "source": [
    "apps = dict (토스 = \"viva.republica.toss&hl=ko\", 국민 = \"com.kbstar.kbbank&hl=ko\",하나 = \"com.kebhana.hanapush&hl=ko\",\n",
    "            뱅크셀러드 = \"com.rainist.banksalad2&hl=ko0\",핀다 = \"kr.co.finda.finda&hl=ko\")"
   ]
  },
  {
   "cell_type": "code",
   "execution_count": 468,
   "id": "f5f31f6b",
   "metadata": {
    "scrolled": true
   },
   "outputs": [],
   "source": [
    "def app_teview_extractor(apps):\n",
    "    #사람인척 하기 위한 옵션으로 사람이 아닌 셀레니움이면 사이트에서 막히기 때문에 사용\n",
    "    options = Options()\n",
    "    options.add_experimental_option(\"detach\", True)\n",
    "    options.add_argument(\"start-maximized\")\n",
    "    options.add_argument(\"Chrome/141.0.0.0\")\n",
    "    options.add_argument(\"lang=ko_KR\")\n",
    "\n",
    "    driver = webdriver.Chrome(\n",
    "        service=Service(ChromeDriverManager().install()),\n",
    "        options=options\n",
    "        )\n",
    "    #웹브라우저에서 url열기\n",
    "    driver.get(f\"https://play.google.com/store/apps/details?id={id}\")\n",
    "\n",
    "    # 요소가 실행 가능해질 때 까지 기다리기(기다리는 최대 시간)\n",
    "    wait = WebDriverWait(driver,10)\n",
    "    # 평점 및 리뷰 옆의 -> 버튼이 활성화 되도록 스크롤을 1400px 아래로 내림\n",
    "    driver.execute_script(f\"window.scrollTo({0},{1400})\")\n",
    "    time.sleep(2)\n",
    "\n",
    "    # 평점 및 리뷰 옆의 -> 버튼 클릭\n",
    "    button = wait.until(EC.element_to_be_clickable((By.CSS_SELECTOR,'button[aria-label*=\"평점 및 리뷰 자세히 알아보기\"]')))\n",
    "    button.click()\n",
    "\n",
    "    # 최신순으로 리뷰를 정리하기 위해서 버튼 클릭\n",
    "    wait.until(EC.element_to_be_clickable((By.ID, \"sortBy_1\"))).click()\n",
    "    time.sleep(2)\n",
    "\n",
    "    # 최신을 찾아서 클릭\n",
    "    wait.until(EC.element_to_be_clickable((By.CSS_SELECTOR, 'span[aria-label*=\"최신\"]'))).click()\n",
    "    time.sleep(2)\n",
    "    #스크롤을 내린 후 마지막 자료의 날짜를 찾아서 오늘 날짜부터 1주일 전 날짜와 비교하기\n",
    "    # 첫페이지 마지막 리뷰의 날짜 구하기 오늘 날짜랑 비교하기\n",
    "    #스크롤 전과 후의 리뷰 개수 비교하기\n",
    "    today = datetime.today()\n",
    "    today = today.date()\n",
    "    end_date = today - timedelta(days=7)\n",
    "    end_date_str = end_date.strftime('%Y년 %m월 %d일')\n",
    "    to_date(end_date_str)\n",
    "    end_px = 1000\n",
    "    len_review_list = len(driver.find_elements(By.CSS_SELECTOR,\"div.RHo1pe\"))\n",
    "    last_review = driver.find_elements(By.CSS_SELECTOR,\"div.RHo1pe\")[-1]\n",
    "    last_review_date = to_date(last_review.find_element(By.CSS_SELECTOR,\".bp9Aid\").get_attribute('innerHTML'))\n",
    "\n",
    "    while last_review_date >= end_date:\n",
    "        driver.execute_script(f\"document.querySelector('.fysCi.Vk3ZVd').scrollTo(0,{end_px})\")\n",
    "        time.sleep(2)\n",
    "        last_review = driver.find_elements(By.CSS_SELECTOR,\"div.RHo1pe\")[-1]\n",
    "        last_review_date = to_date(last_review.find_element(By.CSS_SELECTOR,\".bp9Aid\").get_attribute('innerHTML'))\n",
    "\n",
    "        end_px += 10000\n",
    "        print(len( driver.find_elements(By.CSS_SELECTOR,\"div.RHo1pe\")))\n",
    "        print(f\"last_review_date:{last_review_date},end_date:{end_date}\")\n",
    "    # 리뷰 목록 가져오기 \n",
    "    review_list = driver.find_elements(By.CSS_SELECTOR,\"div.RHo1pe\")\n",
    "\n",
    "    result = {}\n",
    "    cols = ('리뷰일','앱 이름','별점','사용자 리뷰','회사 응답')\n",
    "    r = 10000\n",
    "\n",
    "    for review in review_list:\n",
    "        #리뷰일\n",
    "        review_date = review.find_element(By.CSS_SELECTOR,\".bp9Aid\").get_attribute('innerHTML')\n",
    "        review_date = review_date.replace(\" \",\"\").replace(\"년\",\"-\").replace(\"월\",\"-\").replace(\"일\",\"\")\n",
    "        # 별점\n",
    "        rating = float(review.find_element(By.CSS_SELECTOR,'div[aria-label*=\"별표 5개 만점에\"]').get_attribute('aria-label').split()[3].replace(\"개를\",\"\"))\n",
    "\n",
    "        #사용자 리뷰\n",
    "        user_reviwe = review.find_element(By.CSS_SELECTOR, \".h3YV2d\").text\n",
    "\n",
    "        # 회사 응답\n",
    "        try:\n",
    "            company_reply = review.find_element(By.CSS_SELECTOR, \"ras4vb\").text\n",
    "        except:\n",
    "            company_reply = \"회사응답 없음\"\n",
    "            \n",
    "            values = (review_date,app,rating,user_reviwe,company_reply)\n",
    "            for key,value in zip(cols,values):\n",
    "                result.setdefault(key,[]).append(value)\n",
    "                \n",
    "    df = pd.DataFrame(result)\n",
    "    return df"
   ]
  },
  {
   "cell_type": "code",
   "execution_count": 461,
   "id": "2ab8a313",
   "metadata": {
    "scrolled": true
   },
   "outputs": [
    {
     "name": "stdout",
     "output_type": "stream",
     "text": [
      "20\n",
      "last_review_date:2025-10-25,end_date:2025-10-20\n",
      "40\n",
      "last_review_date:2025-10-24,end_date:2025-10-20\n",
      "60\n",
      "last_review_date:2025-10-23,end_date:2025-10-20\n",
      "80\n",
      "last_review_date:2025-10-22,end_date:2025-10-20\n",
      "100\n",
      "last_review_date:2025-10-21,end_date:2025-10-20\n",
      "120\n",
      "last_review_date:2025-10-21,end_date:2025-10-20\n",
      "140\n",
      "last_review_date:2025-10-20,end_date:2025-10-20\n",
      "160\n",
      "last_review_date:2025-10-19,end_date:2025-10-20\n"
     ]
    },
    {
     "data": {
      "text/html": [
       "<div>\n",
       "<style scoped>\n",
       "    .dataframe tbody tr th:only-of-type {\n",
       "        vertical-align: middle;\n",
       "    }\n",
       "\n",
       "    .dataframe tbody tr th {\n",
       "        vertical-align: top;\n",
       "    }\n",
       "\n",
       "    .dataframe thead th {\n",
       "        text-align: right;\n",
       "    }\n",
       "</style>\n",
       "<table border=\"1\" class=\"dataframe\">\n",
       "  <thead>\n",
       "    <tr style=\"text-align: right;\">\n",
       "      <th></th>\n",
       "      <th>리뷰일</th>\n",
       "      <th>앱 이름</th>\n",
       "      <th>별점</th>\n",
       "      <th>사용자 리뷰</th>\n",
       "      <th>회사 응답</th>\n",
       "    </tr>\n",
       "  </thead>\n",
       "  <tbody>\n",
       "    <tr>\n",
       "      <th>0</th>\n",
       "      <td>2025-10-24</td>\n",
       "      <td>토스</td>\n",
       "      <td>5.0</td>\n",
       "      <td>토스로 대출 받기 정말 편리해요 감사합니다 ^^ 저는 아이폰으로 대출 받았어요. 쿠...</td>\n",
       "      <td>회사응답 없음</td>\n",
       "    </tr>\n",
       "    <tr>\n",
       "      <th>1</th>\n",
       "      <td>2025-10-23</td>\n",
       "      <td>토스</td>\n",
       "      <td>5.0</td>\n",
       "      <td>편하게 사용할수있어서 좋아서요 감사합니다</td>\n",
       "      <td>회사응답 없음</td>\n",
       "    </tr>\n",
       "    <tr>\n",
       "      <th>2</th>\n",
       "      <td>2025-10-22</td>\n",
       "      <td>토스</td>\n",
       "      <td>5.0</td>\n",
       "      <td>좋아요 만족합니다 강력추천합니다 감사합니다</td>\n",
       "      <td>회사응답 없음</td>\n",
       "    </tr>\n",
       "    <tr>\n",
       "      <th>3</th>\n",
       "      <td>2025-10-22</td>\n",
       "      <td>토스</td>\n",
       "      <td>5.0</td>\n",
       "      <td>토스는 대단하다.</td>\n",
       "      <td>회사응답 없음</td>\n",
       "    </tr>\n",
       "    <tr>\n",
       "      <th>4</th>\n",
       "      <td>2025-10-22</td>\n",
       "      <td>토스</td>\n",
       "      <td>5.0</td>\n",
       "      <td>평점계산방식</td>\n",
       "      <td>회사응답 없음</td>\n",
       "    </tr>\n",
       "    <tr>\n",
       "      <th>5</th>\n",
       "      <td>2025-10-21</td>\n",
       "      <td>토스</td>\n",
       "      <td>3.0</td>\n",
       "      <td>좋긴한데 카드 밑에 깨진것 같은 구멍은 왜 있고 일반 블랙은 어디갔나요? 구멍 때문...</td>\n",
       "      <td>회사응답 없음</td>\n",
       "    </tr>\n",
       "    <tr>\n",
       "      <th>6</th>\n",
       "      <td>2025-10-21</td>\n",
       "      <td>토스</td>\n",
       "      <td>2.0</td>\n",
       "      <td>홍민택 데려가주세요 카카오톡 돌려내주세요</td>\n",
       "      <td>회사응답 없음</td>\n",
       "    </tr>\n",
       "    <tr>\n",
       "      <th>7</th>\n",
       "      <td>2025-10-21</td>\n",
       "      <td>토스</td>\n",
       "      <td>5.0</td>\n",
       "      <td>믿고쓰는토스 입니다 1.일단 한눈에 쉽게 들어오게 만들었어요 어떠한 은행 및 금융어...</td>\n",
       "      <td>회사응답 없음</td>\n",
       "    </tr>\n",
       "    <tr>\n",
       "      <th>8</th>\n",
       "      <td>2025-10-21</td>\n",
       "      <td>토스</td>\n",
       "      <td>5.0</td>\n",
       "      <td>진짜 은행계의 혁신이라고 생각들정도로 간편한 UI , 혜택, 파격적인 캐시백 이벤트...</td>\n",
       "      <td>회사응답 없음</td>\n",
       "    </tr>\n",
       "    <tr>\n",
       "      <th>9</th>\n",
       "      <td>2025-10-21</td>\n",
       "      <td>토스</td>\n",
       "      <td>5.0</td>\n",
       "      <td>영어공부가 재밌어요.</td>\n",
       "      <td>회사응답 없음</td>\n",
       "    </tr>\n",
       "    <tr>\n",
       "      <th>10</th>\n",
       "      <td>2025-10-21</td>\n",
       "      <td>토스</td>\n",
       "      <td>2.0</td>\n",
       "      <td>어제 저녁부터 토스 쇼핑 등 몇 가지가 터치가 안되어 실행이 안되요.</td>\n",
       "      <td>회사응답 없음</td>\n",
       "    </tr>\n",
       "    <tr>\n",
       "      <th>11</th>\n",
       "      <td>2025-10-21</td>\n",
       "      <td>토스</td>\n",
       "      <td>4.0</td>\n",
       "      <td>왜 업데이트가 안되죠?</td>\n",
       "      <td>회사응답 없음</td>\n",
       "    </tr>\n",
       "    <tr>\n",
       "      <th>12</th>\n",
       "      <td>2025-10-21</td>\n",
       "      <td>토스</td>\n",
       "      <td>4.0</td>\n",
       "      <td>알림창을 내리기만 하면 송금버튼이 있어서 정말 유용하고 빠르게 사용했어서 편리했는데...</td>\n",
       "      <td>회사응답 없음</td>\n",
       "    </tr>\n",
       "    <tr>\n",
       "      <th>13</th>\n",
       "      <td>2025-10-21</td>\n",
       "      <td>토스</td>\n",
       "      <td>3.0</td>\n",
       "      <td>업데이트가 안되더니 이젠 접근조차 안됩니다 이 무슨 요사스런 변화인가요?</td>\n",
       "      <td>회사응답 없음</td>\n",
       "    </tr>\n",
       "    <tr>\n",
       "      <th>14</th>\n",
       "      <td>2025-10-20</td>\n",
       "      <td>토스</td>\n",
       "      <td>1.0</td>\n",
       "      <td>업데이트 이후 왜케 버벅이나요? 껏다 켜는것을 계속 반복해서 렉 걸린 듯이 버벅이네요 ㅡ</td>\n",
       "      <td>회사응답 없음</td>\n",
       "    </tr>\n",
       "    <tr>\n",
       "      <th>15</th>\n",
       "      <td>2025-10-20</td>\n",
       "      <td>토스</td>\n",
       "      <td>1.0</td>\n",
       "      <td>광고 끝났는데 보상을 안줘서 광고를 두번보는일이 계속 생기는데.. 토스 이넘들 업뎃...</td>\n",
       "      <td>회사응답 없음</td>\n",
       "    </tr>\n",
       "    <tr>\n",
       "      <th>16</th>\n",
       "      <td>2025-10-20</td>\n",
       "      <td>토스</td>\n",
       "      <td>3.0</td>\n",
       "      <td>적립이 즐거워요</td>\n",
       "      <td>회사응답 없음</td>\n",
       "    </tr>\n",
       "    <tr>\n",
       "      <th>17</th>\n",
       "      <td>2025-10-20</td>\n",
       "      <td>토스</td>\n",
       "      <td>5.0</td>\n",
       "      <td>.편리하게잘사용하고이습니다 감사합니다</td>\n",
       "      <td>회사응답 없음</td>\n",
       "    </tr>\n",
       "    <tr>\n",
       "      <th>18</th>\n",
       "      <td>2025-10-20</td>\n",
       "      <td>토스</td>\n",
       "      <td>1.0</td>\n",
       "      <td>해외입니다. 업데이트가 안되는데 어떻게 해야하죠? 토스를 아예 사용할 수 없는 화면...</td>\n",
       "      <td>회사응답 없음</td>\n",
       "    </tr>\n",
       "    <tr>\n",
       "      <th>19</th>\n",
       "      <td>2025-10-20</td>\n",
       "      <td>토스</td>\n",
       "      <td>5.0</td>\n",
       "      <td>쉽고. 편리해서. 좋네요</td>\n",
       "      <td>회사응답 없음</td>\n",
       "    </tr>\n",
       "  </tbody>\n",
       "</table>\n",
       "</div>"
      ],
      "text/plain": [
       "           리뷰일 앱 이름   별점                                             사용자 리뷰  \\\n",
       "0   2025-10-24   토스  5.0  토스로 대출 받기 정말 편리해요 감사합니다 ^^ 저는 아이폰으로 대출 받았어요. 쿠...   \n",
       "1   2025-10-23   토스  5.0                             편하게 사용할수있어서 좋아서요 감사합니다   \n",
       "2   2025-10-22   토스  5.0                            좋아요 만족합니다 강력추천합니다 감사합니다   \n",
       "3   2025-10-22   토스  5.0                                          토스는 대단하다.   \n",
       "4   2025-10-22   토스  5.0                                             평점계산방식   \n",
       "5   2025-10-21   토스  3.0  좋긴한데 카드 밑에 깨진것 같은 구멍은 왜 있고 일반 블랙은 어디갔나요? 구멍 때문...   \n",
       "6   2025-10-21   토스  2.0                             홍민택 데려가주세요 카카오톡 돌려내주세요   \n",
       "7   2025-10-21   토스  5.0  믿고쓰는토스 입니다 1.일단 한눈에 쉽게 들어오게 만들었어요 어떠한 은행 및 금융어...   \n",
       "8   2025-10-21   토스  5.0  진짜 은행계의 혁신이라고 생각들정도로 간편한 UI , 혜택, 파격적인 캐시백 이벤트...   \n",
       "9   2025-10-21   토스  5.0                                        영어공부가 재밌어요.   \n",
       "10  2025-10-21   토스  2.0             어제 저녁부터 토스 쇼핑 등 몇 가지가 터치가 안되어 실행이 안되요.   \n",
       "11  2025-10-21   토스  4.0                                       왜 업데이트가 안되죠?   \n",
       "12  2025-10-21   토스  4.0  알림창을 내리기만 하면 송금버튼이 있어서 정말 유용하고 빠르게 사용했어서 편리했는데...   \n",
       "13  2025-10-21   토스  3.0           업데이트가 안되더니 이젠 접근조차 안됩니다 이 무슨 요사스런 변화인가요?   \n",
       "14  2025-10-20   토스  1.0  업데이트 이후 왜케 버벅이나요? 껏다 켜는것을 계속 반복해서 렉 걸린 듯이 버벅이네요 ㅡ   \n",
       "15  2025-10-20   토스  1.0  광고 끝났는데 보상을 안줘서 광고를 두번보는일이 계속 생기는데.. 토스 이넘들 업뎃...   \n",
       "16  2025-10-20   토스  3.0                                           적립이 즐거워요   \n",
       "17  2025-10-20   토스  5.0                               .편리하게잘사용하고이습니다 감사합니다   \n",
       "18  2025-10-20   토스  1.0  해외입니다. 업데이트가 안되는데 어떻게 해야하죠? 토스를 아예 사용할 수 없는 화면...   \n",
       "19  2025-10-20   토스  5.0                                      쉽고. 편리해서. 좋네요   \n",
       "\n",
       "      회사 응답  \n",
       "0   회사응답 없음  \n",
       "1   회사응답 없음  \n",
       "2   회사응답 없음  \n",
       "3   회사응답 없음  \n",
       "4   회사응답 없음  \n",
       "5   회사응답 없음  \n",
       "6   회사응답 없음  \n",
       "7   회사응답 없음  \n",
       "8   회사응답 없음  \n",
       "9   회사응답 없음  \n",
       "10  회사응답 없음  \n",
       "11  회사응답 없음  \n",
       "12  회사응답 없음  \n",
       "13  회사응답 없음  \n",
       "14  회사응답 없음  \n",
       "15  회사응답 없음  \n",
       "16  회사응답 없음  \n",
       "17  회사응답 없음  \n",
       "18  회사응답 없음  \n",
       "19  회사응답 없음  "
      ]
     },
     "metadata": {},
     "output_type": "display_data"
    },
    {
     "name": "stdout",
     "output_type": "stream",
     "text": [
      "20\n",
      "last_review_date:2025-10-23,end_date:2025-10-20\n",
      "40\n",
      "last_review_date:2025-10-22,end_date:2025-10-20\n",
      "60\n",
      "last_review_date:2025-10-19,end_date:2025-10-20\n"
     ]
    },
    {
     "data": {
      "text/html": [
       "<div>\n",
       "<style scoped>\n",
       "    .dataframe tbody tr th:only-of-type {\n",
       "        vertical-align: middle;\n",
       "    }\n",
       "\n",
       "    .dataframe tbody tr th {\n",
       "        vertical-align: top;\n",
       "    }\n",
       "\n",
       "    .dataframe thead th {\n",
       "        text-align: right;\n",
       "    }\n",
       "</style>\n",
       "<table border=\"1\" class=\"dataframe\">\n",
       "  <thead>\n",
       "    <tr style=\"text-align: right;\">\n",
       "      <th></th>\n",
       "    </tr>\n",
       "  </thead>\n",
       "  <tbody>\n",
       "  </tbody>\n",
       "</table>\n",
       "</div>"
      ],
      "text/plain": [
       "Empty DataFrame\n",
       "Columns: []\n",
       "Index: []"
      ]
     },
     "metadata": {},
     "output_type": "display_data"
    },
    {
     "data": {
      "text/html": [
       "<div>\n",
       "<style scoped>\n",
       "    .dataframe tbody tr th:only-of-type {\n",
       "        vertical-align: middle;\n",
       "    }\n",
       "\n",
       "    .dataframe tbody tr th {\n",
       "        vertical-align: top;\n",
       "    }\n",
       "\n",
       "    .dataframe thead th {\n",
       "        text-align: right;\n",
       "    }\n",
       "</style>\n",
       "<table border=\"1\" class=\"dataframe\">\n",
       "  <thead>\n",
       "    <tr style=\"text-align: right;\">\n",
       "      <th></th>\n",
       "      <th>리뷰일</th>\n",
       "      <th>앱 이름</th>\n",
       "      <th>별점</th>\n",
       "      <th>사용자 리뷰</th>\n",
       "      <th>회사 응답</th>\n",
       "    </tr>\n",
       "  </thead>\n",
       "  <tbody>\n",
       "    <tr>\n",
       "      <th>0</th>\n",
       "      <td>2025-10-24</td>\n",
       "      <td>하나</td>\n",
       "      <td>1.0</td>\n",
       "      <td>예수금 빼려고 보니까 그냥은 또 안빠지고 계좌 밀어야 된데서 계좌 해지 찾아보니 밀...</td>\n",
       "      <td>회사응답 없음</td>\n",
       "    </tr>\n",
       "    <tr>\n",
       "      <th>1</th>\n",
       "      <td>2025-10-24</td>\n",
       "      <td>하나</td>\n",
       "      <td>1.0</td>\n",
       "      <td>앱이 왜 안열리져 다른통장에서 이체를해서 볼려고해도볼수가없네여 출근 교통비 써야되는...</td>\n",
       "      <td>회사응답 없음</td>\n",
       "    </tr>\n",
       "    <tr>\n",
       "      <th>2</th>\n",
       "      <td>2025-10-24</td>\n",
       "      <td>하나</td>\n",
       "      <td>1.0</td>\n",
       "      <td>갤럭시 s24 울트라 순정 os 씁니다. 얼마전부터 접속하려고 할 때마다 개조된 o...</td>\n",
       "      <td>회사응답 없음</td>\n",
       "    </tr>\n",
       "    <tr>\n",
       "      <th>3</th>\n",
       "      <td>2025-10-23</td>\n",
       "      <td>하나</td>\n",
       "      <td>1.0</td>\n",
       "      <td>로그인 인증이 안되어서 삭제후 재설치 했더니 아예 안되네요</td>\n",
       "      <td>회사응답 없음</td>\n",
       "    </tr>\n",
       "    <tr>\n",
       "      <th>4</th>\n",
       "      <td>2025-10-22</td>\n",
       "      <td>하나</td>\n",
       "      <td>4.0</td>\n",
       "      <td>입출금알림 요즘 너무너무너무늦게와요 실시간 알림아니면 무슨 의미죠..,</td>\n",
       "      <td>회사응답 없음</td>\n",
       "    </tr>\n",
       "    <tr>\n",
       "      <th>5</th>\n",
       "      <td>2025-10-22</td>\n",
       "      <td>하나</td>\n",
       "      <td>1.0</td>\n",
       "      <td>one ui 8.0 업데이트 이후 정상적인 OS 에서만 사용가능하다는 알림창 뜨면서...</td>\n",
       "      <td>회사응답 없음</td>\n",
       "    </tr>\n",
       "    <tr>\n",
       "      <th>6</th>\n",
       "      <td>2025-10-19</td>\n",
       "      <td>하나</td>\n",
       "      <td>4.0</td>\n",
       "      <td>입,출금 푸쉬알람이 한참 있다가 오네요... 주말이라그런가? 통장도 알림 다 켜져있는데</td>\n",
       "      <td>회사응답 없음</td>\n",
       "    </tr>\n",
       "    <tr>\n",
       "      <th>7</th>\n",
       "      <td>2025-10-18</td>\n",
       "      <td>하나</td>\n",
       "      <td>5.0</td>\n",
       "      <td>편리하고 좋아요~~~</td>\n",
       "      <td>회사응답 없음</td>\n",
       "    </tr>\n",
       "    <tr>\n",
       "      <th>8</th>\n",
       "      <td>2025-10-17</td>\n",
       "      <td>하나</td>\n",
       "      <td>1.0</td>\n",
       "      <td>최악이야</td>\n",
       "      <td>회사응답 없음</td>\n",
       "    </tr>\n",
       "    <tr>\n",
       "      <th>9</th>\n",
       "      <td>2025-10-17</td>\n",
       "      <td>하나</td>\n",
       "      <td>5.0</td>\n",
       "      <td>좋다</td>\n",
       "      <td>회사응답 없음</td>\n",
       "    </tr>\n",
       "    <tr>\n",
       "      <th>10</th>\n",
       "      <td>2025-10-14</td>\n",
       "      <td>하나</td>\n",
       "      <td>1.0</td>\n",
       "      <td>로딩하는시간이 왜이리길어?ㅡㅡ 기달리다 날새겠네ㅡㅡ</td>\n",
       "      <td>회사응답 없음</td>\n",
       "    </tr>\n",
       "  </tbody>\n",
       "</table>\n",
       "</div>"
      ],
      "text/plain": [
       "           리뷰일 앱 이름   별점                                             사용자 리뷰  \\\n",
       "0   2025-10-24   하나  1.0  예수금 빼려고 보니까 그냥은 또 안빠지고 계좌 밀어야 된데서 계좌 해지 찾아보니 밀...   \n",
       "1   2025-10-24   하나  1.0  앱이 왜 안열리져 다른통장에서 이체를해서 볼려고해도볼수가없네여 출근 교통비 써야되는...   \n",
       "2   2025-10-24   하나  1.0  갤럭시 s24 울트라 순정 os 씁니다. 얼마전부터 접속하려고 할 때마다 개조된 o...   \n",
       "3   2025-10-23   하나  1.0                   로그인 인증이 안되어서 삭제후 재설치 했더니 아예 안되네요   \n",
       "4   2025-10-22   하나  4.0            입출금알림 요즘 너무너무너무늦게와요 실시간 알림아니면 무슨 의미죠..,   \n",
       "5   2025-10-22   하나  1.0  one ui 8.0 업데이트 이후 정상적인 OS 에서만 사용가능하다는 알림창 뜨면서...   \n",
       "6   2025-10-19   하나  4.0   입,출금 푸쉬알람이 한참 있다가 오네요... 주말이라그런가? 통장도 알림 다 켜져있는데   \n",
       "7   2025-10-18   하나  5.0                                        편리하고 좋아요~~~   \n",
       "8   2025-10-17   하나  1.0                                               최악이야   \n",
       "9   2025-10-17   하나  5.0                                                 좋다   \n",
       "10  2025-10-14   하나  1.0                       로딩하는시간이 왜이리길어?ㅡㅡ 기달리다 날새겠네ㅡㅡ   \n",
       "\n",
       "      회사 응답  \n",
       "0   회사응답 없음  \n",
       "1   회사응답 없음  \n",
       "2   회사응답 없음  \n",
       "3   회사응답 없음  \n",
       "4   회사응답 없음  \n",
       "5   회사응답 없음  \n",
       "6   회사응답 없음  \n",
       "7   회사응답 없음  \n",
       "8   회사응답 없음  \n",
       "9   회사응답 없음  \n",
       "10  회사응답 없음  "
      ]
     },
     "metadata": {},
     "output_type": "display_data"
    },
    {
     "data": {
      "text/html": [
       "<div>\n",
       "<style scoped>\n",
       "    .dataframe tbody tr th:only-of-type {\n",
       "        vertical-align: middle;\n",
       "    }\n",
       "\n",
       "    .dataframe tbody tr th {\n",
       "        vertical-align: top;\n",
       "    }\n",
       "\n",
       "    .dataframe thead th {\n",
       "        text-align: right;\n",
       "    }\n",
       "</style>\n",
       "<table border=\"1\" class=\"dataframe\">\n",
       "  <thead>\n",
       "    <tr style=\"text-align: right;\">\n",
       "      <th></th>\n",
       "      <th>리뷰일</th>\n",
       "      <th>앱 이름</th>\n",
       "      <th>별점</th>\n",
       "      <th>사용자 리뷰</th>\n",
       "      <th>회사 응답</th>\n",
       "    </tr>\n",
       "  </thead>\n",
       "  <tbody>\n",
       "    <tr>\n",
       "      <th>0</th>\n",
       "      <td>2025-10-25</td>\n",
       "      <td>뱅크셀러드</td>\n",
       "      <td>1.0</td>\n",
       "      <td>업데이트 후 메모•태그 입력하는데 오래걸리고, 자주 오류나서 불편합니다. 메모 기능...</td>\n",
       "      <td>회사응답 없음</td>\n",
       "    </tr>\n",
       "    <tr>\n",
       "      <th>1</th>\n",
       "      <td>2025-10-25</td>\n",
       "      <td>뱅크셀러드</td>\n",
       "      <td>5.0</td>\n",
       "      <td>빗썸도 가상자산 연결할수있게해주세요</td>\n",
       "      <td>회사응답 없음</td>\n",
       "    </tr>\n",
       "    <tr>\n",
       "      <th>2</th>\n",
       "      <td>2025-10-25</td>\n",
       "      <td>뱅크셀러드</td>\n",
       "      <td>1.0</td>\n",
       "      <td>업데이트후 계속 꺼짐 실행시키면 계속 꺼집니다 인터넷이 원활하지 않다는 메세지도 가...</td>\n",
       "      <td>회사응답 없음</td>\n",
       "    </tr>\n",
       "  </tbody>\n",
       "</table>\n",
       "</div>"
      ],
      "text/plain": [
       "          리뷰일   앱 이름   별점                                             사용자 리뷰  \\\n",
       "0  2025-10-25  뱅크셀러드  1.0  업데이트 후 메모•태그 입력하는데 오래걸리고, 자주 오류나서 불편합니다. 메모 기능...   \n",
       "1  2025-10-25  뱅크셀러드  5.0                                빗썸도 가상자산 연결할수있게해주세요   \n",
       "2  2025-10-25  뱅크셀러드  1.0  업데이트후 계속 꺼짐 실행시키면 계속 꺼집니다 인터넷이 원활하지 않다는 메세지도 가...   \n",
       "\n",
       "     회사 응답  \n",
       "0  회사응답 없음  \n",
       "1  회사응답 없음  \n",
       "2  회사응답 없음  "
      ]
     },
     "metadata": {},
     "output_type": "display_data"
    },
    {
     "data": {
      "text/html": [
       "<div>\n",
       "<style scoped>\n",
       "    .dataframe tbody tr th:only-of-type {\n",
       "        vertical-align: middle;\n",
       "    }\n",
       "\n",
       "    .dataframe tbody tr th {\n",
       "        vertical-align: top;\n",
       "    }\n",
       "\n",
       "    .dataframe thead th {\n",
       "        text-align: right;\n",
       "    }\n",
       "</style>\n",
       "<table border=\"1\" class=\"dataframe\">\n",
       "  <thead>\n",
       "    <tr style=\"text-align: right;\">\n",
       "      <th></th>\n",
       "    </tr>\n",
       "  </thead>\n",
       "  <tbody>\n",
       "  </tbody>\n",
       "</table>\n",
       "</div>"
      ],
      "text/plain": [
       "Empty DataFrame\n",
       "Columns: []\n",
       "Index: []"
      ]
     },
     "metadata": {},
     "output_type": "display_data"
    }
   ],
   "source": [
    "for app,id in apps.items():\n",
    "    df = app_teview_extractor(app)\n",
    "    display(df)\n",
    "    df.to_csv(f\"./data/{app}_앱 리뷰 모음.csv\",index = False , encoding = \"utf-8-sig\")"
   ]
  },
  {
   "cell_type": "code",
   "execution_count": 475,
   "id": "8520f498",
   "metadata": {
    "scrolled": true
   },
   "outputs": [
    {
     "ename": "InvalidSessionIdException",
     "evalue": "Message: invalid session id; For documentation on this error, please visit: https://www.selenium.dev/documentation/webdriver/troubleshooting/errors#invalidsessionidexception\nStacktrace:\n\tGetHandleVerifier [0x0xa3fe43+66515]\n\tGetHandleVerifier [0x0xa3fe84+66580]\n\t(No symbol) [0x0x82da6b]\n\t(No symbol) [0x0x86b5ab]\n\t(No symbol) [0x0x89b086]\n\t(No symbol) [0x0x89667c]\n\t(No symbol) [0x0x895bf3]\n\t(No symbol) [0x0x7fe72d]\n\t(No symbol) [0x0x7fecae]\n\t(No symbol) [0x0x7ff14d]\n\tGetHandleVerifier [0x0xc97353+2521315]\n\tGetHandleVerifier [0x0xc922d3+2500707]\n\tGetHandleVerifier [0x0xa67c94+229924]\n\tGetHandleVerifier [0x0xa581f8+165768]\n\tGetHandleVerifier [0x0xa5ecad+193085]\n\t(No symbol) [0x0x7fe3e3]\n\t(No symbol) [0x0x7fdb60]\n\tGetHandleVerifier [0x0xddc20f+3852191]\n\tBaseThreadInitThunk [0x0x75d15d49+25]\n\tRtlInitializeExceptionChain [0x0x7782d6db+107]\n\tRtlGetAppContainerNamedObjectPath [0x0x7782d661+561]\n",
     "output_type": "error",
     "traceback": [
      "\u001b[1;31m---------------------------------------------------------------------------\u001b[0m",
      "\u001b[1;31mInvalidSessionIdException\u001b[0m                 Traceback (most recent call last)",
      "Cell \u001b[1;32mIn[475], line 1\u001b[0m\n\u001b[1;32m----> 1\u001b[0m \u001b[43mdriver\u001b[49m\u001b[38;5;241;43m.\u001b[39;49m\u001b[43mfind_elements\u001b[49m\u001b[43m(\u001b[49m\u001b[43mBy\u001b[49m\u001b[38;5;241;43m.\u001b[39;49m\u001b[43mCSS_SELECTOR\u001b[49m\u001b[43m,\u001b[49m\u001b[38;5;124;43m\"\u001b[39;49m\u001b[38;5;124;43m.RHo1pe\u001b[39;49m\u001b[38;5;124;43m\"\u001b[39;49m\u001b[43m)\u001b[49m\n",
      "File \u001b[1;32m~\\miniforge3\\envs\\fintech\\lib\\site-packages\\selenium\\webdriver\\remote\\webdriver.py:967\u001b[0m, in \u001b[0;36mWebDriver.find_elements\u001b[1;34m(self, by, value)\u001b[0m\n\u001b[0;32m    963\u001b[0m     \u001b[38;5;28;01mreturn\u001b[39;00m \u001b[38;5;28mself\u001b[39m\u001b[38;5;241m.\u001b[39mexecute_script(find_element_js, by\u001b[38;5;241m.\u001b[39mto_dict())\n\u001b[0;32m    965\u001b[0m \u001b[38;5;66;03m# Return empty list if driver returns null\u001b[39;00m\n\u001b[0;32m    966\u001b[0m \u001b[38;5;66;03m# See https://github.com/SeleniumHQ/selenium/issues/4555\u001b[39;00m\n\u001b[1;32m--> 967\u001b[0m \u001b[38;5;28;01mreturn\u001b[39;00m \u001b[38;5;28;43mself\u001b[39;49m\u001b[38;5;241;43m.\u001b[39;49m\u001b[43mexecute\u001b[49m\u001b[43m(\u001b[49m\u001b[43mCommand\u001b[49m\u001b[38;5;241;43m.\u001b[39;49m\u001b[43mFIND_ELEMENTS\u001b[49m\u001b[43m,\u001b[49m\u001b[43m \u001b[49m\u001b[43m{\u001b[49m\u001b[38;5;124;43m\"\u001b[39;49m\u001b[38;5;124;43musing\u001b[39;49m\u001b[38;5;124;43m\"\u001b[39;49m\u001b[43m:\u001b[49m\u001b[43m \u001b[49m\u001b[43mby\u001b[49m\u001b[43m,\u001b[49m\u001b[43m \u001b[49m\u001b[38;5;124;43m\"\u001b[39;49m\u001b[38;5;124;43mvalue\u001b[39;49m\u001b[38;5;124;43m\"\u001b[39;49m\u001b[43m:\u001b[49m\u001b[43m \u001b[49m\u001b[43mvalue\u001b[49m\u001b[43m}\u001b[49m\u001b[43m)\u001b[49m[\u001b[38;5;124m\"\u001b[39m\u001b[38;5;124mvalue\u001b[39m\u001b[38;5;124m\"\u001b[39m] \u001b[38;5;129;01mor\u001b[39;00m []\n",
      "File \u001b[1;32m~\\miniforge3\\envs\\fintech\\lib\\site-packages\\selenium\\webdriver\\remote\\webdriver.py:458\u001b[0m, in \u001b[0;36mWebDriver.execute\u001b[1;34m(self, driver_command, params)\u001b[0m\n\u001b[0;32m    455\u001b[0m response \u001b[38;5;241m=\u001b[39m cast(RemoteConnection, \u001b[38;5;28mself\u001b[39m\u001b[38;5;241m.\u001b[39mcommand_executor)\u001b[38;5;241m.\u001b[39mexecute(driver_command, params)\n\u001b[0;32m    457\u001b[0m \u001b[38;5;28;01mif\u001b[39;00m response:\n\u001b[1;32m--> 458\u001b[0m     \u001b[38;5;28;43mself\u001b[39;49m\u001b[38;5;241;43m.\u001b[39;49m\u001b[43merror_handler\u001b[49m\u001b[38;5;241;43m.\u001b[39;49m\u001b[43mcheck_response\u001b[49m\u001b[43m(\u001b[49m\u001b[43mresponse\u001b[49m\u001b[43m)\u001b[49m\n\u001b[0;32m    459\u001b[0m     response[\u001b[38;5;124m\"\u001b[39m\u001b[38;5;124mvalue\u001b[39m\u001b[38;5;124m\"\u001b[39m] \u001b[38;5;241m=\u001b[39m \u001b[38;5;28mself\u001b[39m\u001b[38;5;241m.\u001b[39m_unwrap_value(response\u001b[38;5;241m.\u001b[39mget(\u001b[38;5;124m\"\u001b[39m\u001b[38;5;124mvalue\u001b[39m\u001b[38;5;124m\"\u001b[39m, \u001b[38;5;28;01mNone\u001b[39;00m))\n\u001b[0;32m    460\u001b[0m     \u001b[38;5;28;01mreturn\u001b[39;00m response\n",
      "File \u001b[1;32m~\\miniforge3\\envs\\fintech\\lib\\site-packages\\selenium\\webdriver\\remote\\errorhandler.py:232\u001b[0m, in \u001b[0;36mErrorHandler.check_response\u001b[1;34m(self, response)\u001b[0m\n\u001b[0;32m    230\u001b[0m         alert_text \u001b[38;5;241m=\u001b[39m value[\u001b[38;5;124m\"\u001b[39m\u001b[38;5;124malert\u001b[39m\u001b[38;5;124m\"\u001b[39m]\u001b[38;5;241m.\u001b[39mget(\u001b[38;5;124m\"\u001b[39m\u001b[38;5;124mtext\u001b[39m\u001b[38;5;124m\"\u001b[39m)\n\u001b[0;32m    231\u001b[0m     \u001b[38;5;28;01mraise\u001b[39;00m exception_class(message, screen, stacktrace, alert_text)  \u001b[38;5;66;03m# type: ignore[call-arg]  # mypy is not smart enough here\u001b[39;00m\n\u001b[1;32m--> 232\u001b[0m \u001b[38;5;28;01mraise\u001b[39;00m exception_class(message, screen, stacktrace)\n",
      "\u001b[1;31mInvalidSessionIdException\u001b[0m: Message: invalid session id; For documentation on this error, please visit: https://www.selenium.dev/documentation/webdriver/troubleshooting/errors#invalidsessionidexception\nStacktrace:\n\tGetHandleVerifier [0x0xa3fe43+66515]\n\tGetHandleVerifier [0x0xa3fe84+66580]\n\t(No symbol) [0x0x82da6b]\n\t(No symbol) [0x0x86b5ab]\n\t(No symbol) [0x0x89b086]\n\t(No symbol) [0x0x89667c]\n\t(No symbol) [0x0x895bf3]\n\t(No symbol) [0x0x7fe72d]\n\t(No symbol) [0x0x7fecae]\n\t(No symbol) [0x0x7ff14d]\n\tGetHandleVerifier [0x0xc97353+2521315]\n\tGetHandleVerifier [0x0xc922d3+2500707]\n\tGetHandleVerifier [0x0xa67c94+229924]\n\tGetHandleVerifier [0x0xa581f8+165768]\n\tGetHandleVerifier [0x0xa5ecad+193085]\n\t(No symbol) [0x0x7fe3e3]\n\t(No symbol) [0x0x7fdb60]\n\tGetHandleVerifier [0x0xddc20f+3852191]\n\tBaseThreadInitThunk [0x0x75d15d49+25]\n\tRtlInitializeExceptionChain [0x0x7782d6db+107]\n\tRtlGetAppContainerNamedObjectPath [0x0x7782d661+561]\n"
     ]
    }
   ],
   "source": [
    "driver.find_elements(By.CSS_SELECTOR,\".RHo1pe\")"
   ]
  },
  {
   "cell_type": "code",
   "execution_count": null,
   "id": "83ae5572",
   "metadata": {},
   "outputs": [],
   "source": [
    "review_list = driver.find_elements(By.CSS_SELECTOR,\"div.RHo1pe\")\n",
    "for review in review_list:\n",
    "    print(driver.find_elementｓ(By.CSS_SELECTOR,\"div.RHo1pe\")[0].get_attribute('innerHTML'))"
   ]
  },
  {
   "cell_type": "code",
   "execution_count": null,
   "id": "49331cc9",
   "metadata": {},
   "outputs": [],
   "source": []
  }
 ],
 "metadata": {
  "kernelspec": {
   "display_name": "Python 3 (ipykernel)",
   "language": "python",
   "name": "python3"
  },
  "language_info": {
   "codemirror_mode": {
    "name": "ipython",
    "version": 3
   },
   "file_extension": ".py",
   "mimetype": "text/x-python",
   "name": "python",
   "nbconvert_exporter": "python",
   "pygments_lexer": "ipython3",
   "version": "3.9.23"
  }
 },
 "nbformat": 4,
 "nbformat_minor": 5
}
