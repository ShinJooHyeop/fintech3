{
 "cells": [
  {
   "cell_type": "code",
   "execution_count": 1,
   "id": "74c85ee6",
   "metadata": {},
   "outputs": [
    {
     "name": "stdout",
     "output_type": "stream",
     "text": [
      "root\n"
     ]
    }
   ],
   "source": [
    "import time\n",
    "import requests\n",
    "import pandas as pd\n",
    "from io import StringIO\n",
    "from datetime import datetime, timedelta\n",
    "from bs4 import BeautifulSoup as bs\n",
    "from sqlalchemy import create_engine, text\n",
    "import pymysql\n",
    "pymysql.install_as_MySQLdb()\n",
    "from dbio import to_db, db_connect"
   ]
  },
  {
   "cell_type": "code",
   "execution_count": 2,
   "id": "1394a00b",
   "metadata": {},
   "outputs": [],
   "source": [
    "# 컬럼명을 바꾸는 작업\n",
    "def new_cols(df):\n",
    "    new_cols = []\n",
    "    for col in df.columns:\n",
    "\n",
    "        if col[0] == col[1] == col[2]:\n",
    "            new_cols.append(col[0].replace(\" \", \"_\"))\n",
    "        elif col[0] != col[1] != col[2]:\n",
    "            new_cols.append(\"_\".join(col).replace(\" \", \"_\"))\n",
    "        else:\n",
    "            new_cols.append(\"_\".join(col[:2]).replace(\" \", \"_\"))\n",
    "    return new_cols"
   ]
  },
  {
   "cell_type": "markdown",
   "id": "d9047d59",
   "metadata": {},
   "source": [
    "# 날짜 계산해서 하루 전 날짜로 만들기"
   ]
  },
  {
   "cell_type": "code",
   "execution_count": 3,
   "id": "709732ad",
   "metadata": {},
   "outputs": [
    {
     "name": "stdout",
     "output_type": "stream",
     "text": [
      "2025-10-23 20251023\n"
     ]
    }
   ],
   "source": [
    "yesterday = datetime.today() - timedelta(days=1)\n",
    "date1 = f\"{yesterday.date()}\"\n",
    "date2 = date1.replace(\"-\", \"\")\n",
    "print(date1, date2)"
   ]
  },
  {
   "cell_type": "code",
   "execution_count": 6,
   "id": "59533e9d",
   "metadata": {},
   "outputs": [
    {
     "name": "stdout",
     "output_type": "stream",
     "text": [
      "200\n",
      "ex_rate 데이터베이스 확인/생성완료\r",
      "('2025-10-23', '미국 USD', 1462.65, 1.75, 1412.35, 1.75, 1451.5, 1423.5, 1421.17, 1437.5, 5.84103, 1.0)\n",
      "2025-10-23 환율 정보가 이미 DB에 있습니다.\n"
     ]
    }
   ],
   "source": [
    "url = \"https://www.kebhana.com/cms/rate/wpfxd651_01i_01.do\"\n",
    "payload = dict(ajax=\"true\", tmpInqStrDt=date1, pbldDvCd=3, inqStrDt=date2, inqKindCd=1, requestTarget=\"searchContentDiv\")\n",
    "r= requests.post(url, data=payload)\n",
    "print(r.status_code)\n",
    "df = pd.read_html(StringIO(r.text))\n",
    "df = df[0]\n",
    "df.columns = new_cols(df)\n",
    "df.insert(0, \"날짜\", date1)\n",
    "\n",
    "# DB에 수집하는 날짜의 데이터가 있는지 확인\n",
    "conn = db_connect(\"ex_rate\")\n",
    "try:\n",
    "\n",
    "    query = text(f\"SELECT * FROM ex_rate WHERE 날짜 = '{date1}'\")\n",
    "    result = conn.execute(query).fetchone()\n",
    "    print(result)\n",
    "    if result:\n",
    "        print(f\"{date1} 환율 정보가 이미 DB에 있습니다.\")\n",
    "    else:\n",
    "        print(f\"{date1} 환율 정보가 DB에 없으므로 수집합니다.\")\n",
    "        to_db(\"ex_rate\", \"ex_rate\", df)\n",
    "finally:\n",
    "    conn.close()"
   ]
  },
  {
   "cell_type": "code",
   "execution_count": null,
   "id": "90db57e8",
   "metadata": {},
   "outputs": [],
   "source": []
  },
  {
   "cell_type": "code",
   "execution_count": null,
   "id": "4a9d4a1a",
   "metadata": {},
   "outputs": [],
   "source": []
  }
 ],
 "metadata": {
  "kernelspec": {
   "display_name": "Python 3 (ipykernel)",
   "language": "python",
   "name": "python3"
  },
  "language_info": {
   "codemirror_mode": {
    "name": "ipython",
    "version": 3
   },
   "file_extension": ".py",
   "mimetype": "text/x-python",
   "name": "python",
   "nbconvert_exporter": "python",
   "pygments_lexer": "ipython3",
   "version": "3.9.23"
  }
 },
 "nbformat": 4,
 "nbformat_minor": 5
}
