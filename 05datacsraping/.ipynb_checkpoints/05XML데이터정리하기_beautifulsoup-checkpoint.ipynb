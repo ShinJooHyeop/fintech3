{
 "cells": [
  {
   "cell_type": "markdown",
   "id": "afc954b1",
   "metadata": {},
   "source": [
    "# XML은 HTML 처럼 태그 기반으로 자료를 저장한 포맷\n",
    "* xml parser를  통해서 str을 xml로 변환하는 작업이 필요\n",
    "* xml로 변환이 되면 태그 기반으로 자료를 찾아서 정리\n",
    "* 태그레서 자료를 추출할 떄는 beautifulsoup이라는 라이브러리를 이용"
   ]
  },
  {
   "cell_type": "markdown",
   "id": "7fbb9599",
   "metadata": {},
   "source": [
    "# 경기도 아파트정보 xml로 추출하기"
   ]
  },
  {
   "cell_type": "code",
   "execution_count": 2,
   "id": "ab629bf4",
   "metadata": {},
   "outputs": [
    {
     "data": {
      "text/plain": [
       "True"
      ]
     },
     "execution_count": 2,
     "metadata": {},
     "output_type": "execute_result"
    }
   ],
   "source": [
    "import requests\n",
    "import pandas as pd\n",
    "from dotenv import load_dotenv\n",
    "import os\n",
    "import re\n",
    "load_dotenv()"
   ]
  },
  {
   "cell_type": "code",
   "execution_count": 3,
   "id": "e9b67890",
   "metadata": {
    "scrolled": true
   },
   "outputs": [
    {
     "name": "stdout",
     "output_type": "stream",
     "text": [
      "https://openapi.gg.go.kr/TBGGDLNGPRCAPTTRDSRCM?KEY=ff5f45fecca949eb9e26e87aeee66691&Type=xml&pIndex=1&pSize=10\n",
      "200\n"
     ]
    },
    {
     "data": {
      "text/plain": [
       "'<?xml version=\"1.0\" encoding=\"UTF-8\"?>\\n\\n<TBGGDLNGPRCAPTTRDSRCM>\\n  <head>\\n    <list_total_count>134842</list_total_count>\\n    <RESULT>\\n      <CODE>INFO-000</CODE>\\n      <MESSAGE>정상 처리되었습니다.</MESSAGE>\\n    </RESULT>\\n    <api_version>1.0v</api_version>\\n  </head>\\n  <row>\\n    <NO>134904</NO>\\n    <REFINE_STATE_CD></REFINE_STATE_CD>\\n    <LOTNO_ADDR>996</LOTNO_ADDR>\\n    <LOTNO_ORIGNO>996</LOTNO_ORIGNO>\\n    <LOTNO_VICENO>0</LOTNO_VICENO>\\n    <HSCOMPLEX_NM>주공그린빌</HSCOMPLEX_NM>\\n    <PRVTUSE_AR>84.8</PRVTUSE_AR>\\n    <CONTRACT_YM>2018-01</CONTRACT_YM>\\n    <CONTRACT_DAY>1~10</CONTRACT_DAY>\\n    <DELNG_AMT>26900</DELNG_AMT>\\n    <FLOOR_NM>5</FLOOR_NM>\\n    <BUILD_YY>2003</BUILD_YY>\\n    <ROAD_NM>통일로802번길</ROAD_NM>\\n    <REFINE_CMPLT_YN></REFINE_CMPLT_YN>\\n    <CREAT_DE></CREAT_DE>\\n    <REFINE_LOTNO_ADDR></REFINE_LOTNO_ADDR>\\n    <REFINE_ROADNM_ADDR></REFINE_ROADNM_ADDR>\\n    <REFINE_ZIPNO></REFINE_ZIPNO>\\n    <REFINE_WGS84_LOGT></REFINE_WGS84_LOGT>\\n    <REFINE_WGS84_LAT></REFINE_WGS84_LAT>\\n    <REFINE_MANAGE_NO></REFINE_MANAGE_NO>\\n    <REFINE_RESLT_CD></REFINE_RESLT_CD>\\n    <REFINE_ADDR_DIV_CD></REFINE_ADDR_DIV_CD>\\n    <REFINE_SYS_DIV_CD></REFINE_SYS_DIV_CD>\\n    <REFINE_DTM></REFINE_DTM>\\n    <REFINE_NOADMIT_YN></REFINE_NOADMIT_YN>\\n    <ADDR>경기도 고양덕양구 관산동</ADDR>\\n  </row>\\n  <row>\\n    <NO>134905</NO>\\n    <REFINE_STATE_CD></REFINE_STATE_CD>\\n    <LOTNO_ADDR>996</LOTNO_ADDR>\\n    <LOTNO_ORIGNO>996</LOTNO_ORIGNO>\\n    <LOTNO_VICENO>0</LOTNO_VICENO>\\n    <HSCOMPLEX_NM>주공그린빌</HSCOMPLEX_NM>\\n    <PRVTUSE_AR>75.95</PRVTUSE_AR>\\n    <CONTRACT_YM>2018-01</CONTRACT_YM>\\n    <CONTRACT_DAY>11~20</CONTRACT_DAY>\\n    <DELNG_AMT>27000</DELNG_AMT>\\n    <FLOOR_NM>10</FLOOR_NM>\\n    <BUILD_YY>2003</BUILD_YY>\\n    <ROAD_NM>통일로802번길</ROAD_NM>\\n    <REFINE_CMPLT_YN></REFINE_CMPLT_YN>\\n    <CREAT_DE></CREAT_DE>\\n    <REFINE_LOTNO_ADDR></REFINE_LOTNO_ADDR>\\n    <REFINE_ROADNM_ADDR></REFINE_ROADNM_ADDR>\\n    <REFINE_ZIPNO></REFINE_ZIPNO>\\n    <REFINE_WGS84_LOGT></REFINE_WGS84_LOGT>\\n    <REFINE_WGS84_LAT></REFINE_WGS84_LAT>\\n    <REFINE_MANAGE_NO></REFINE_MANAGE_NO>\\n    <REFINE_RESLT_CD></REFINE_RESLT_CD>\\n    <REFINE_ADDR_DIV_CD></REFINE_ADDR_DIV_CD>\\n    <REFINE_SYS_DIV_CD></REFINE_SYS_DIV_CD>\\n    <REFINE_DTM></REFINE_DTM>\\n    <REFINE_NOADMIT_YN></REFINE_NOADMIT_YN>\\n    <ADDR>경기도 고양덕양구 관산동</ADDR>\\n  </row>\\n  <row>\\n    <NO>134906</NO>\\n    <REFINE_STATE_CD></REFINE_STATE_CD>\\n    <LOTNO_ADDR>996</LOTNO_ADDR>\\n    <LOTNO_ORIGNO>996</LOTNO_ORIGNO>\\n    <LOTNO_VICENO>0</LOTNO_VICENO>\\n    <HSCOMPLEX_NM>주공그린빌</HSCOMPLEX_NM>\\n    <PRVTUSE_AR>84.51</PRVTUSE_AR>\\n    <CONTRACT_YM>2018-01</CONTRACT_YM>\\n    <CONTRACT_DAY>11~20</CONTRACT_DAY>\\n    <DELNG_AMT>25500</DELNG_AMT>\\n    <FLOOR_NM>2</FLOOR_NM>\\n    <BUILD_YY>2003</BUILD_YY>\\n    <ROAD_NM>통일로802번길</ROAD_NM>\\n    <REFINE_CMPLT_YN></REFINE_CMPLT_YN>\\n    <CREAT_DE></CREAT_DE>\\n    <REFINE_LOTNO_ADDR></REFINE_LOTNO_ADDR>\\n    <REFINE_ROADNM_ADDR></REFINE_ROADNM_ADDR>\\n    <REFINE_ZIPNO></REFINE_ZIPNO>\\n    <REFINE_WGS84_LOGT></REFINE_WGS84_LOGT>\\n    <REFINE_WGS84_LAT></REFINE_WGS84_LAT>\\n    <REFINE_MANAGE_NO></REFINE_MANAGE_NO>\\n    <REFINE_RESLT_CD></REFINE_RESLT_CD>\\n    <REFINE_ADDR_DIV_CD></REFINE_ADDR_DIV_CD>\\n    <REFINE_SYS_DIV_CD></REFINE_SYS_DIV_CD>\\n    <REFINE_DTM></REFINE_DTM>\\n    <REFINE_NOADMIT_YN></REFINE_NOADMIT_YN>\\n    <ADDR>경기도 고양덕양구 관산동</ADDR>\\n  </row>\\n  <row>\\n    <NO>134907</NO>\\n    <REFINE_STATE_CD></REFINE_STATE_CD>\\n    <LOTNO_ADDR>996</LOTNO_ADDR>\\n    <LOTNO_ORIGNO>996</LOTNO_ORIGNO>\\n    <LOTNO_VICENO>0</LOTNO_VICENO>\\n    <HSCOMPLEX_NM>주공그린빌</HSCOMPLEX_NM>\\n    <PRVTUSE_AR>59.92</PRVTUSE_AR>\\n    <CONTRACT_YM>2018-01</CONTRACT_YM>\\n    <CONTRACT_DAY>11~20</CONTRACT_DAY>\\n    <DELNG_AMT>23700</DELNG_AMT>\\n    <FLOOR_NM>10</FLOOR_NM>\\n    <BUILD_YY>2003</BUILD_YY>\\n    <ROAD_NM>통일로802번길</ROAD_NM>\\n    <REFINE_CMPLT_YN></REFINE_CMPLT_YN>\\n    <CREAT_DE></CREAT_DE>\\n    <REFINE_LOTNO_ADDR></REFINE_LOTNO_ADDR>\\n    <REFINE_ROADNM_ADDR></REFINE_ROADNM_ADDR>\\n    <REFINE_ZIPNO></REFINE_ZIPNO>\\n    <REFINE_WGS84_LOGT></REFINE_WGS84_LOGT>\\n    <REFINE_WGS84_LAT></REFINE_WGS84_LAT>\\n    <REFINE_MANAGE_NO></REFINE_MANAGE_NO>\\n    <REFINE_RESLT_CD></REFINE_RESLT_CD>\\n    <REFINE_ADDR_DIV_CD></REFINE_ADDR_DIV_CD>\\n    <REFINE_SYS_DIV_CD></REFINE_SYS_DIV_CD>\\n    <REFINE_DTM></REFINE_DTM>\\n    <REFINE_NOADMIT_YN></REFINE_NOADMIT_YN>\\n    <ADDR>경기도 고양덕양구 관산동</ADDR>\\n  </row>\\n  <row>\\n    <NO>134908</NO>\\n    <REFINE_STATE_CD></REFINE_STATE_CD>\\n    <LOTNO_ADDR>996</LOTNO_ADDR>\\n    <LOTNO_ORIGNO>996</LOTNO_ORIGNO>\\n    <LOTNO_VICENO>0</LOTNO_VICENO>\\n    <HSCOMPLEX_NM>주공그린빌</HSCOMPLEX_NM>\\n    <PRVTUSE_AR>84.8</PRVTUSE_AR>\\n    <CONTRACT_YM>2018-01</CONTRACT_YM>\\n    <CONTRACT_DAY>11~20</CONTRACT_DAY>\\n    <DELNG_AMT>27450</DELNG_AMT>\\n    <FLOOR_NM>4</FLOOR_NM>\\n    <BUILD_YY>2003</BUILD_YY>\\n    <ROAD_NM>통일로802번길</ROAD_NM>\\n    <REFINE_CMPLT_YN></REFINE_CMPLT_YN>\\n    <CREAT_DE></CREAT_DE>\\n    <REFINE_LOTNO_ADDR></REFINE_LOTNO_ADDR>\\n    <REFINE_ROADNM_ADDR></REFINE_ROADNM_ADDR>\\n    <REFINE_ZIPNO></REFINE_ZIPNO>\\n    <REFINE_WGS84_LOGT></REFINE_WGS84_LOGT>\\n    <REFINE_WGS84_LAT></REFINE_WGS84_LAT>\\n    <REFINE_MANAGE_NO></REFINE_MANAGE_NO>\\n    <REFINE_RESLT_CD></REFINE_RESLT_CD>\\n    <REFINE_ADDR_DIV_CD></REFINE_ADDR_DIV_CD>\\n    <REFINE_SYS_DIV_CD></REFINE_SYS_DIV_CD>\\n    <REFINE_DTM></REFINE_DTM>\\n    <REFINE_NOADMIT_YN></REFINE_NOADMIT_YN>\\n    <ADDR>경기도 고양덕양구 관산동</ADDR>\\n  </row>\\n  <row>\\n    <NO>134909</NO>\\n    <REFINE_STATE_CD></REFINE_STATE_CD>\\n    <LOTNO_ADDR>983</LOTNO_ADDR>\\n    <LOTNO_ORIGNO>983</LOTNO_ORIGNO>\\n    <LOTNO_VICENO>0</LOTNO_VICENO>\\n    <HSCOMPLEX_NM>엘에이치원흥도래울마을2단지</HSCOMPLEX_NM>\\n    <PRVTUSE_AR>74.98</PRVTUSE_AR>\\n    <CONTRACT_YM>2018-01</CONTRACT_YM>\\n    <CONTRACT_DAY>11~20</CONTRACT_DAY>\\n    <DELNG_AMT>37800</DELNG_AMT>\\n    <FLOOR_NM>19</FLOOR_NM>\\n    <BUILD_YY>2014</BUILD_YY>\\n    <ROAD_NM>도래울로</ROAD_NM>\\n    <REFINE_CMPLT_YN></REFINE_CMPLT_YN>\\n    <CREAT_DE></CREAT_DE>\\n    <REFINE_LOTNO_ADDR></REFINE_LOTNO_ADDR>\\n    <REFINE_ROADNM_ADDR></REFINE_ROADNM_ADDR>\\n    <REFINE_ZIPNO></REFINE_ZIPNO>\\n    <REFINE_WGS84_LOGT></REFINE_WGS84_LOGT>\\n    <REFINE_WGS84_LAT></REFINE_WGS84_LAT>\\n    <REFINE_MANAGE_NO></REFINE_MANAGE_NO>\\n    <REFINE_RESLT_CD></REFINE_RESLT_CD>\\n    <REFINE_ADDR_DIV_CD></REFINE_ADDR_DIV_CD>\\n    <REFINE_SYS_DIV_CD></REFINE_SYS_DIV_CD>\\n    <REFINE_DTM></REFINE_DTM>\\n    <REFINE_NOADMIT_YN></REFINE_NOADMIT_YN>\\n    <ADDR>경기도 고양덕양구 도내동</ADDR>\\n  </row>\\n  <row>\\n    <NO>134910</NO>\\n    <REFINE_STATE_CD></REFINE_STATE_CD>\\n    <LOTNO_ADDR>983</LOTNO_ADDR>\\n    <LOTNO_ORIGNO>983</LOTNO_ORIGNO>\\n    <LOTNO_VICENO>0</LOTNO_VICENO>\\n    <HSCOMPLEX_NM>엘에이치원흥도래울마을2단지</HSCOMPLEX_NM>\\n    <PRVTUSE_AR>84.98</PRVTUSE_AR>\\n    <CONTRACT_YM>2018-01</CONTRACT_YM>\\n    <CONTRACT_DAY>11~20</CONTRACT_DAY>\\n    <DELNG_AMT>40000</DELNG_AMT>\\n    <FLOOR_NM>24</FLOOR_NM>\\n    <BUILD_YY>2014</BUILD_YY>\\n    <ROAD_NM>도래울로</ROAD_NM>\\n    <REFINE_CMPLT_YN></REFINE_CMPLT_YN>\\n    <CREAT_DE></CREAT_DE>\\n    <REFINE_LOTNO_ADDR></REFINE_LOTNO_ADDR>\\n    <REFINE_ROADNM_ADDR></REFINE_ROADNM_ADDR>\\n    <REFINE_ZIPNO></REFINE_ZIPNO>\\n    <REFINE_WGS84_LOGT></REFINE_WGS84_LOGT>\\n    <REFINE_WGS84_LAT></REFINE_WGS84_LAT>\\n    <REFINE_MANAGE_NO></REFINE_MANAGE_NO>\\n    <REFINE_RESLT_CD></REFINE_RESLT_CD>\\n    <REFINE_ADDR_DIV_CD></REFINE_ADDR_DIV_CD>\\n    <REFINE_SYS_DIV_CD></REFINE_SYS_DIV_CD>\\n    <REFINE_DTM></REFINE_DTM>\\n    <REFINE_NOADMIT_YN></REFINE_NOADMIT_YN>\\n    <ADDR>경기도 고양덕양구 도내동</ADDR>\\n  </row>\\n  <row>\\n    <NO>134911</NO>\\n    <REFINE_STATE_CD></REFINE_STATE_CD>\\n    <LOTNO_ADDR>983</LOTNO_ADDR>\\n    <LOTNO_ORIGNO>983</LOTNO_ORIGNO>\\n    <LOTNO_VICENO>0</LOTNO_VICENO>\\n    <HSCOMPLEX_NM>엘에이치원흥도래울마을2단지</HSCOMPLEX_NM>\\n    <PRVTUSE_AR>74.98</PRVTUSE_AR>\\n    <CONTRACT_YM>2018-01</CONTRACT_YM>\\n    <CONTRACT_DAY>11~20</CONTRACT_DAY>\\n    <DELNG_AMT>36800</DELNG_AMT>\\n    <FLOOR_NM>13</FLOOR_NM>\\n    <BUILD_YY>2014</BUILD_YY>\\n    <ROAD_NM>도래울로</ROAD_NM>\\n    <REFINE_CMPLT_YN></REFINE_CMPLT_YN>\\n    <CREAT_DE></CREAT_DE>\\n    <REFINE_LOTNO_ADDR></REFINE_LOTNO_ADDR>\\n    <REFINE_ROADNM_ADDR></REFINE_ROADNM_ADDR>\\n    <REFINE_ZIPNO></REFINE_ZIPNO>\\n    <REFINE_WGS84_LOGT></REFINE_WGS84_LOGT>\\n    <REFINE_WGS84_LAT></REFINE_WGS84_LAT>\\n    <REFINE_MANAGE_NO></REFINE_MANAGE_NO>\\n    <REFINE_RESLT_CD></REFINE_RESLT_CD>\\n    <REFINE_ADDR_DIV_CD></REFINE_ADDR_DIV_CD>\\n    <REFINE_SYS_DIV_CD></REFINE_SYS_DIV_CD>\\n    <REFINE_DTM></REFINE_DTM>\\n    <REFINE_NOADMIT_YN></REFINE_NOADMIT_YN>\\n    <ADDR>경기도 고양덕양구 도내동</ADDR>\\n  </row>\\n  <row>\\n    <NO>134912</NO>\\n    <REFINE_STATE_CD></REFINE_STATE_CD>\\n    <LOTNO_ADDR>983</LOTNO_ADDR>\\n    <LOTNO_ORIGNO>983</LOTNO_ORIGNO>\\n    <LOTNO_VICENO>0</LOTNO_VICENO>\\n    <HSCOMPLEX_NM>엘에이치원흥도래울마을2단지</HSCOMPLEX_NM>\\n    <PRVTUSE_AR>84.98</PRVTUSE_AR>\\n    <CONTRACT_YM>2018-01</CONTRACT_YM>\\n    <CONTRACT_DAY>11~20</CONTRACT_DAY>\\n    <DELNG_AMT>39500</DELNG_AMT>\\n    <FLOOR_NM>21</FLOOR_NM>\\n    <BUILD_YY>2014</BUILD_YY>\\n    <ROAD_NM>도래울로</ROAD_NM>\\n    <REFINE_CMPLT_YN></REFINE_CMPLT_YN>\\n    <CREAT_DE></CREAT_DE>\\n    <REFINE_LOTNO_ADDR></REFINE_LOTNO_ADDR>\\n    <REFINE_ROADNM_ADDR></REFINE_ROADNM_ADDR>\\n    <REFINE_ZIPNO></REFINE_ZIPNO>\\n    <REFINE_WGS84_LOGT></REFINE_WGS84_LOGT>\\n    <REFINE_WGS84_LAT></REFINE_WGS84_LAT>\\n    <REFINE_MANAGE_NO></REFINE_MANAGE_NO>\\n    <REFINE_RESLT_CD></REFINE_RESLT_CD>\\n    <REFINE_ADDR_DIV_CD></REFINE_ADDR_DIV_CD>\\n    <REFINE_SYS_DIV_CD></REFINE_SYS_DIV_CD>\\n    <REFINE_DTM></REFINE_DTM>\\n    <REFINE_NOADMIT_YN></REFINE_NOADMIT_YN>\\n    <ADDR>경기도 고양덕양구 도내동</ADDR>\\n  </row>\\n  <row>\\n    <NO>134913</NO>\\n    <REFINE_STATE_CD></REFINE_STATE_CD>\\n    <LOTNO_ADDR>1011</LOTNO_ADDR>\\n    <LOTNO_ORIGNO>1011</LOTNO_ORIGNO>\\n    <LOTNO_VICENO>0</LOTNO_VICENO>\\n    <HSCOMPLEX_NM>엘에이치원흥도래울마을4단지</HSCOMPLEX_NM>\\n    <PRVTUSE_AR>59.92</PRVTUSE_AR>\\n    <CONTRACT_YM>2018-01</CONTRACT_YM>\\n    <CONTRACT_DAY>1~10</CONTRACT_DAY>\\n    <DELNG_AMT>34900</DELNG_AMT>\\n    <FLOOR_NM>14</FLOOR_NM>\\n    <BUILD_YY>2013</BUILD_YY>\\n    <ROAD_NM>도래울3로</ROAD_NM>\\n    <REFINE_CMPLT_YN></REFINE_CMPLT_YN>\\n    <CREAT_DE></CREAT_DE>\\n    <REFINE_LOTNO_ADDR></REFINE_LOTNO_ADDR>\\n    <REFINE_ROADNM_ADDR></REFINE_ROADNM_ADDR>\\n    <REFINE_ZIPNO></REFINE_ZIPNO>\\n    <REFINE_WGS84_LOGT></REFINE_WGS84_LOGT>\\n    <REFINE_WGS84_LAT></REFINE_WGS84_LAT>\\n    <REFINE_MANAGE_NO></REFINE_MANAGE_NO>\\n    <REFINE_RESLT_CD></REFINE_RESLT_CD>\\n    <REFINE_ADDR_DIV_CD></REFINE_ADDR_DIV_CD>\\n    <REFINE_SYS_DIV_CD></REFINE_SYS_DIV_CD>\\n    <REFINE_DTM></REFINE_DTM>\\n    <REFINE_NOADMIT_YN></REFINE_NOADMIT_YN>\\n    <ADDR>경기도 고양덕양구 도내동</ADDR>\\n  </row>\\n</TBGGDLNGPRCAPTTRDSRCM>\\n\\n'"
      ]
     },
     "execution_count": 3,
     "metadata": {},
     "output_type": "execute_result"
    }
   ],
   "source": [
    "url = \"https://openapi.gg.go.kr/TBGGDLNGPRCAPTTRDSRCM\"\n",
    "payload = dict(KEY=os.getenv(\"gg_api\"),Type=\"xml\",pIndex=1, pSize=10)\n",
    "r = requests.get(url,params = payload)\n",
    "print(r.url)\n",
    "print(r.status_code)\n",
    "responese = r.text\n",
    "responese"
   ]
  },
  {
   "cell_type": "code",
   "execution_count": 4,
   "id": "e6207beb",
   "metadata": {},
   "outputs": [
    {
     "name": "stdout",
     "output_type": "stream",
     "text": [
      "<class 'str'>\n"
     ]
    }
   ],
   "source": [
    "print(type(responese))"
   ]
  },
  {
   "cell_type": "markdown",
   "id": "718f0fea",
   "metadata": {},
   "source": [
    "* xml로 데이터를 받으면 처음에는단순 문자열로 받게 됨\n",
    "* beautifulsoup을 이용해 xml로 변환후 select, select_one을 이용해 css 셀렉터 기반으로 데이터가 있는 위치를 찾아서 내용 추출\n",
    "* select: 해당태그나 css를 문서에서 모두 찾아서 list로 반환\n",
    "* select_one: 해당태그나 css를 문서에서 모두 찾아서 가장 앞의 것 1개만 반환\n",
    "* find: 해당 태그를 찾아서 가장 앞의 것 1개만 반환\n",
    "* find_all: 해당 태그를 문서에서 모두 찾아서 list로 반환\n",
    "* 찾아온 태그.name: 태그 이름 반환\n",
    "* 찾아온 태그.text , .string: 태그 안쪽의 텍스트 반환"
   ]
  },
  {
   "cell_type": "code",
   "execution_count": 5,
   "id": "9aeea7fc",
   "metadata": {},
   "outputs": [],
   "source": [
    "from bs4 import BeautifulSoup as bs"
   ]
  },
  {
   "cell_type": "code",
   "execution_count": 6,
   "id": "5b62d01b",
   "metadata": {},
   "outputs": [
    {
     "data": {
      "text/plain": [
       "<?xml version=\"1.0\" encoding=\"utf-8\"?>\n",
       "<TBGGDLNGPRCAPTTRDSRCM>\n",
       "<head>\n",
       "<list_total_count>134842</list_total_count>\n",
       "<RESULT>\n",
       "<CODE>INFO-000</CODE>\n",
       "<MESSAGE>정상 처리되었습니다.</MESSAGE>\n",
       "</RESULT>\n",
       "<api_version>1.0v</api_version>\n",
       "</head>\n",
       "<row>\n",
       "<NO>134904</NO>\n",
       "<REFINE_STATE_CD/>\n",
       "<LOTNO_ADDR>996</LOTNO_ADDR>\n",
       "<LOTNO_ORIGNO>996</LOTNO_ORIGNO>\n",
       "<LOTNO_VICENO>0</LOTNO_VICENO>\n",
       "<HSCOMPLEX_NM>주공그린빌</HSCOMPLEX_NM>\n",
       "<PRVTUSE_AR>84.8</PRVTUSE_AR>\n",
       "<CONTRACT_YM>2018-01</CONTRACT_YM>\n",
       "<CONTRACT_DAY>1~10</CONTRACT_DAY>\n",
       "<DELNG_AMT>26900</DELNG_AMT>\n",
       "<FLOOR_NM>5</FLOOR_NM>\n",
       "<BUILD_YY>2003</BUILD_YY>\n",
       "<ROAD_NM>통일로802번길</ROAD_NM>\n",
       "<REFINE_CMPLT_YN/>\n",
       "<CREAT_DE/>\n",
       "<REFINE_LOTNO_ADDR/>\n",
       "<REFINE_ROADNM_ADDR/>\n",
       "<REFINE_ZIPNO/>\n",
       "<REFINE_WGS84_LOGT/>\n",
       "<REFINE_WGS84_LAT/>\n",
       "<REFINE_MANAGE_NO/>\n",
       "<REFINE_RESLT_CD/>\n",
       "<REFINE_ADDR_DIV_CD/>\n",
       "<REFINE_SYS_DIV_CD/>\n",
       "<REFINE_DTM/>\n",
       "<REFINE_NOADMIT_YN/>\n",
       "<ADDR>경기도 고양덕양구 관산동</ADDR>\n",
       "</row>\n",
       "<row>\n",
       "<NO>134905</NO>\n",
       "<REFINE_STATE_CD/>\n",
       "<LOTNO_ADDR>996</LOTNO_ADDR>\n",
       "<LOTNO_ORIGNO>996</LOTNO_ORIGNO>\n",
       "<LOTNO_VICENO>0</LOTNO_VICENO>\n",
       "<HSCOMPLEX_NM>주공그린빌</HSCOMPLEX_NM>\n",
       "<PRVTUSE_AR>75.95</PRVTUSE_AR>\n",
       "<CONTRACT_YM>2018-01</CONTRACT_YM>\n",
       "<CONTRACT_DAY>11~20</CONTRACT_DAY>\n",
       "<DELNG_AMT>27000</DELNG_AMT>\n",
       "<FLOOR_NM>10</FLOOR_NM>\n",
       "<BUILD_YY>2003</BUILD_YY>\n",
       "<ROAD_NM>통일로802번길</ROAD_NM>\n",
       "<REFINE_CMPLT_YN/>\n",
       "<CREAT_DE/>\n",
       "<REFINE_LOTNO_ADDR/>\n",
       "<REFINE_ROADNM_ADDR/>\n",
       "<REFINE_ZIPNO/>\n",
       "<REFINE_WGS84_LOGT/>\n",
       "<REFINE_WGS84_LAT/>\n",
       "<REFINE_MANAGE_NO/>\n",
       "<REFINE_RESLT_CD/>\n",
       "<REFINE_ADDR_DIV_CD/>\n",
       "<REFINE_SYS_DIV_CD/>\n",
       "<REFINE_DTM/>\n",
       "<REFINE_NOADMIT_YN/>\n",
       "<ADDR>경기도 고양덕양구 관산동</ADDR>\n",
       "</row>\n",
       "<row>\n",
       "<NO>134906</NO>\n",
       "<REFINE_STATE_CD/>\n",
       "<LOTNO_ADDR>996</LOTNO_ADDR>\n",
       "<LOTNO_ORIGNO>996</LOTNO_ORIGNO>\n",
       "<LOTNO_VICENO>0</LOTNO_VICENO>\n",
       "<HSCOMPLEX_NM>주공그린빌</HSCOMPLEX_NM>\n",
       "<PRVTUSE_AR>84.51</PRVTUSE_AR>\n",
       "<CONTRACT_YM>2018-01</CONTRACT_YM>\n",
       "<CONTRACT_DAY>11~20</CONTRACT_DAY>\n",
       "<DELNG_AMT>25500</DELNG_AMT>\n",
       "<FLOOR_NM>2</FLOOR_NM>\n",
       "<BUILD_YY>2003</BUILD_YY>\n",
       "<ROAD_NM>통일로802번길</ROAD_NM>\n",
       "<REFINE_CMPLT_YN/>\n",
       "<CREAT_DE/>\n",
       "<REFINE_LOTNO_ADDR/>\n",
       "<REFINE_ROADNM_ADDR/>\n",
       "<REFINE_ZIPNO/>\n",
       "<REFINE_WGS84_LOGT/>\n",
       "<REFINE_WGS84_LAT/>\n",
       "<REFINE_MANAGE_NO/>\n",
       "<REFINE_RESLT_CD/>\n",
       "<REFINE_ADDR_DIV_CD/>\n",
       "<REFINE_SYS_DIV_CD/>\n",
       "<REFINE_DTM/>\n",
       "<REFINE_NOADMIT_YN/>\n",
       "<ADDR>경기도 고양덕양구 관산동</ADDR>\n",
       "</row>\n",
       "<row>\n",
       "<NO>134907</NO>\n",
       "<REFINE_STATE_CD/>\n",
       "<LOTNO_ADDR>996</LOTNO_ADDR>\n",
       "<LOTNO_ORIGNO>996</LOTNO_ORIGNO>\n",
       "<LOTNO_VICENO>0</LOTNO_VICENO>\n",
       "<HSCOMPLEX_NM>주공그린빌</HSCOMPLEX_NM>\n",
       "<PRVTUSE_AR>59.92</PRVTUSE_AR>\n",
       "<CONTRACT_YM>2018-01</CONTRACT_YM>\n",
       "<CONTRACT_DAY>11~20</CONTRACT_DAY>\n",
       "<DELNG_AMT>23700</DELNG_AMT>\n",
       "<FLOOR_NM>10</FLOOR_NM>\n",
       "<BUILD_YY>2003</BUILD_YY>\n",
       "<ROAD_NM>통일로802번길</ROAD_NM>\n",
       "<REFINE_CMPLT_YN/>\n",
       "<CREAT_DE/>\n",
       "<REFINE_LOTNO_ADDR/>\n",
       "<REFINE_ROADNM_ADDR/>\n",
       "<REFINE_ZIPNO/>\n",
       "<REFINE_WGS84_LOGT/>\n",
       "<REFINE_WGS84_LAT/>\n",
       "<REFINE_MANAGE_NO/>\n",
       "<REFINE_RESLT_CD/>\n",
       "<REFINE_ADDR_DIV_CD/>\n",
       "<REFINE_SYS_DIV_CD/>\n",
       "<REFINE_DTM/>\n",
       "<REFINE_NOADMIT_YN/>\n",
       "<ADDR>경기도 고양덕양구 관산동</ADDR>\n",
       "</row>\n",
       "<row>\n",
       "<NO>134908</NO>\n",
       "<REFINE_STATE_CD/>\n",
       "<LOTNO_ADDR>996</LOTNO_ADDR>\n",
       "<LOTNO_ORIGNO>996</LOTNO_ORIGNO>\n",
       "<LOTNO_VICENO>0</LOTNO_VICENO>\n",
       "<HSCOMPLEX_NM>주공그린빌</HSCOMPLEX_NM>\n",
       "<PRVTUSE_AR>84.8</PRVTUSE_AR>\n",
       "<CONTRACT_YM>2018-01</CONTRACT_YM>\n",
       "<CONTRACT_DAY>11~20</CONTRACT_DAY>\n",
       "<DELNG_AMT>27450</DELNG_AMT>\n",
       "<FLOOR_NM>4</FLOOR_NM>\n",
       "<BUILD_YY>2003</BUILD_YY>\n",
       "<ROAD_NM>통일로802번길</ROAD_NM>\n",
       "<REFINE_CMPLT_YN/>\n",
       "<CREAT_DE/>\n",
       "<REFINE_LOTNO_ADDR/>\n",
       "<REFINE_ROADNM_ADDR/>\n",
       "<REFINE_ZIPNO/>\n",
       "<REFINE_WGS84_LOGT/>\n",
       "<REFINE_WGS84_LAT/>\n",
       "<REFINE_MANAGE_NO/>\n",
       "<REFINE_RESLT_CD/>\n",
       "<REFINE_ADDR_DIV_CD/>\n",
       "<REFINE_SYS_DIV_CD/>\n",
       "<REFINE_DTM/>\n",
       "<REFINE_NOADMIT_YN/>\n",
       "<ADDR>경기도 고양덕양구 관산동</ADDR>\n",
       "</row>\n",
       "<row>\n",
       "<NO>134909</NO>\n",
       "<REFINE_STATE_CD/>\n",
       "<LOTNO_ADDR>983</LOTNO_ADDR>\n",
       "<LOTNO_ORIGNO>983</LOTNO_ORIGNO>\n",
       "<LOTNO_VICENO>0</LOTNO_VICENO>\n",
       "<HSCOMPLEX_NM>엘에이치원흥도래울마을2단지</HSCOMPLEX_NM>\n",
       "<PRVTUSE_AR>74.98</PRVTUSE_AR>\n",
       "<CONTRACT_YM>2018-01</CONTRACT_YM>\n",
       "<CONTRACT_DAY>11~20</CONTRACT_DAY>\n",
       "<DELNG_AMT>37800</DELNG_AMT>\n",
       "<FLOOR_NM>19</FLOOR_NM>\n",
       "<BUILD_YY>2014</BUILD_YY>\n",
       "<ROAD_NM>도래울로</ROAD_NM>\n",
       "<REFINE_CMPLT_YN/>\n",
       "<CREAT_DE/>\n",
       "<REFINE_LOTNO_ADDR/>\n",
       "<REFINE_ROADNM_ADDR/>\n",
       "<REFINE_ZIPNO/>\n",
       "<REFINE_WGS84_LOGT/>\n",
       "<REFINE_WGS84_LAT/>\n",
       "<REFINE_MANAGE_NO/>\n",
       "<REFINE_RESLT_CD/>\n",
       "<REFINE_ADDR_DIV_CD/>\n",
       "<REFINE_SYS_DIV_CD/>\n",
       "<REFINE_DTM/>\n",
       "<REFINE_NOADMIT_YN/>\n",
       "<ADDR>경기도 고양덕양구 도내동</ADDR>\n",
       "</row>\n",
       "<row>\n",
       "<NO>134910</NO>\n",
       "<REFINE_STATE_CD/>\n",
       "<LOTNO_ADDR>983</LOTNO_ADDR>\n",
       "<LOTNO_ORIGNO>983</LOTNO_ORIGNO>\n",
       "<LOTNO_VICENO>0</LOTNO_VICENO>\n",
       "<HSCOMPLEX_NM>엘에이치원흥도래울마을2단지</HSCOMPLEX_NM>\n",
       "<PRVTUSE_AR>84.98</PRVTUSE_AR>\n",
       "<CONTRACT_YM>2018-01</CONTRACT_YM>\n",
       "<CONTRACT_DAY>11~20</CONTRACT_DAY>\n",
       "<DELNG_AMT>40000</DELNG_AMT>\n",
       "<FLOOR_NM>24</FLOOR_NM>\n",
       "<BUILD_YY>2014</BUILD_YY>\n",
       "<ROAD_NM>도래울로</ROAD_NM>\n",
       "<REFINE_CMPLT_YN/>\n",
       "<CREAT_DE/>\n",
       "<REFINE_LOTNO_ADDR/>\n",
       "<REFINE_ROADNM_ADDR/>\n",
       "<REFINE_ZIPNO/>\n",
       "<REFINE_WGS84_LOGT/>\n",
       "<REFINE_WGS84_LAT/>\n",
       "<REFINE_MANAGE_NO/>\n",
       "<REFINE_RESLT_CD/>\n",
       "<REFINE_ADDR_DIV_CD/>\n",
       "<REFINE_SYS_DIV_CD/>\n",
       "<REFINE_DTM/>\n",
       "<REFINE_NOADMIT_YN/>\n",
       "<ADDR>경기도 고양덕양구 도내동</ADDR>\n",
       "</row>\n",
       "<row>\n",
       "<NO>134911</NO>\n",
       "<REFINE_STATE_CD/>\n",
       "<LOTNO_ADDR>983</LOTNO_ADDR>\n",
       "<LOTNO_ORIGNO>983</LOTNO_ORIGNO>\n",
       "<LOTNO_VICENO>0</LOTNO_VICENO>\n",
       "<HSCOMPLEX_NM>엘에이치원흥도래울마을2단지</HSCOMPLEX_NM>\n",
       "<PRVTUSE_AR>74.98</PRVTUSE_AR>\n",
       "<CONTRACT_YM>2018-01</CONTRACT_YM>\n",
       "<CONTRACT_DAY>11~20</CONTRACT_DAY>\n",
       "<DELNG_AMT>36800</DELNG_AMT>\n",
       "<FLOOR_NM>13</FLOOR_NM>\n",
       "<BUILD_YY>2014</BUILD_YY>\n",
       "<ROAD_NM>도래울로</ROAD_NM>\n",
       "<REFINE_CMPLT_YN/>\n",
       "<CREAT_DE/>\n",
       "<REFINE_LOTNO_ADDR/>\n",
       "<REFINE_ROADNM_ADDR/>\n",
       "<REFINE_ZIPNO/>\n",
       "<REFINE_WGS84_LOGT/>\n",
       "<REFINE_WGS84_LAT/>\n",
       "<REFINE_MANAGE_NO/>\n",
       "<REFINE_RESLT_CD/>\n",
       "<REFINE_ADDR_DIV_CD/>\n",
       "<REFINE_SYS_DIV_CD/>\n",
       "<REFINE_DTM/>\n",
       "<REFINE_NOADMIT_YN/>\n",
       "<ADDR>경기도 고양덕양구 도내동</ADDR>\n",
       "</row>\n",
       "<row>\n",
       "<NO>134912</NO>\n",
       "<REFINE_STATE_CD/>\n",
       "<LOTNO_ADDR>983</LOTNO_ADDR>\n",
       "<LOTNO_ORIGNO>983</LOTNO_ORIGNO>\n",
       "<LOTNO_VICENO>0</LOTNO_VICENO>\n",
       "<HSCOMPLEX_NM>엘에이치원흥도래울마을2단지</HSCOMPLEX_NM>\n",
       "<PRVTUSE_AR>84.98</PRVTUSE_AR>\n",
       "<CONTRACT_YM>2018-01</CONTRACT_YM>\n",
       "<CONTRACT_DAY>11~20</CONTRACT_DAY>\n",
       "<DELNG_AMT>39500</DELNG_AMT>\n",
       "<FLOOR_NM>21</FLOOR_NM>\n",
       "<BUILD_YY>2014</BUILD_YY>\n",
       "<ROAD_NM>도래울로</ROAD_NM>\n",
       "<REFINE_CMPLT_YN/>\n",
       "<CREAT_DE/>\n",
       "<REFINE_LOTNO_ADDR/>\n",
       "<REFINE_ROADNM_ADDR/>\n",
       "<REFINE_ZIPNO/>\n",
       "<REFINE_WGS84_LOGT/>\n",
       "<REFINE_WGS84_LAT/>\n",
       "<REFINE_MANAGE_NO/>\n",
       "<REFINE_RESLT_CD/>\n",
       "<REFINE_ADDR_DIV_CD/>\n",
       "<REFINE_SYS_DIV_CD/>\n",
       "<REFINE_DTM/>\n",
       "<REFINE_NOADMIT_YN/>\n",
       "<ADDR>경기도 고양덕양구 도내동</ADDR>\n",
       "</row>\n",
       "<row>\n",
       "<NO>134913</NO>\n",
       "<REFINE_STATE_CD/>\n",
       "<LOTNO_ADDR>1011</LOTNO_ADDR>\n",
       "<LOTNO_ORIGNO>1011</LOTNO_ORIGNO>\n",
       "<LOTNO_VICENO>0</LOTNO_VICENO>\n",
       "<HSCOMPLEX_NM>엘에이치원흥도래울마을4단지</HSCOMPLEX_NM>\n",
       "<PRVTUSE_AR>59.92</PRVTUSE_AR>\n",
       "<CONTRACT_YM>2018-01</CONTRACT_YM>\n",
       "<CONTRACT_DAY>1~10</CONTRACT_DAY>\n",
       "<DELNG_AMT>34900</DELNG_AMT>\n",
       "<FLOOR_NM>14</FLOOR_NM>\n",
       "<BUILD_YY>2013</BUILD_YY>\n",
       "<ROAD_NM>도래울3로</ROAD_NM>\n",
       "<REFINE_CMPLT_YN/>\n",
       "<CREAT_DE/>\n",
       "<REFINE_LOTNO_ADDR/>\n",
       "<REFINE_ROADNM_ADDR/>\n",
       "<REFINE_ZIPNO/>\n",
       "<REFINE_WGS84_LOGT/>\n",
       "<REFINE_WGS84_LAT/>\n",
       "<REFINE_MANAGE_NO/>\n",
       "<REFINE_RESLT_CD/>\n",
       "<REFINE_ADDR_DIV_CD/>\n",
       "<REFINE_SYS_DIV_CD/>\n",
       "<REFINE_DTM/>\n",
       "<REFINE_NOADMIT_YN/>\n",
       "<ADDR>경기도 고양덕양구 도내동</ADDR>\n",
       "</row>\n",
       "</TBGGDLNGPRCAPTTRDSRCM>"
      ]
     },
     "execution_count": 6,
     "metadata": {},
     "output_type": "execute_result"
    }
   ],
   "source": [
    "soup = bs(responese, 'xml')\n",
    "soup"
   ]
  },
  {
   "cell_type": "code",
   "execution_count": 9,
   "id": "ce621bc3",
   "metadata": {},
   "outputs": [
    {
     "data": {
      "text/plain": [
       "<list_total_count>134842</list_total_count>"
      ]
     },
     "execution_count": 9,
     "metadata": {},
     "output_type": "execute_result"
    }
   ],
   "source": [
    "soup.select_one(\"list_total_count\")"
   ]
  },
  {
   "cell_type": "code",
   "execution_count": 10,
   "id": "6a8d2227",
   "metadata": {},
   "outputs": [
    {
     "data": {
      "text/plain": [
       "'list_total_count'"
      ]
     },
     "execution_count": 10,
     "metadata": {},
     "output_type": "execute_result"
    }
   ],
   "source": [
    "soup.select_one(\"list_total_count\").name"
   ]
  },
  {
   "cell_type": "code",
   "execution_count": 13,
   "id": "6286af9f",
   "metadata": {},
   "outputs": [
    {
     "data": {
      "text/plain": [
       "'134842'"
      ]
     },
     "execution_count": 13,
     "metadata": {},
     "output_type": "execute_result"
    }
   ],
   "source": [
    "# 안에있는 텍스트만 출력\n",
    "soup.select_one(\"list_total_count\").text"
   ]
  },
  {
   "cell_type": "code",
   "execution_count": 12,
   "id": "d2664bec",
   "metadata": {},
   "outputs": [
    {
     "data": {
      "text/plain": [
       "'134842'"
      ]
     },
     "execution_count": 12,
     "metadata": {},
     "output_type": "execute_result"
    }
   ],
   "source": [
    "soup.select_one(\"list_total_count\").string"
   ]
  },
  {
   "cell_type": "code",
   "execution_count": 15,
   "id": "c130cea4",
   "metadata": {},
   "outputs": [],
   "source": [
    "aparts = soup.select('row')"
   ]
  },
  {
   "cell_type": "code",
   "execution_count": 20,
   "id": "63e1d6f6",
   "metadata": {},
   "outputs": [
    {
     "name": "stdout",
     "output_type": "stream",
     "text": [
      "134904\n",
      "134905\n",
      "134906\n",
      "134907\n",
      "134908\n",
      "134909\n",
      "134910\n",
      "134911\n",
      "134912\n",
      "134913\n"
     ]
    }
   ],
   "source": [
    "for apart in aparts:\n",
    "#    print(apart)\n",
    "    print(apart.select_one(\"NO\").text)"
   ]
  },
  {
   "cell_type": "code",
   "execution_count": 25,
   "id": "c3de4714",
   "metadata": {},
   "outputs": [],
   "source": [
    "cols = ['NO', 'LOTNO_ADDR', 'LOTNO_ORIGNO', 'LOTNO_VICENO',\n",
    "       'HSCOMPLEX_NM', 'PRVTUSE_AR', 'CONTRACT_YM', 'CONTRACT_DAY',\n",
    "       'DELNG_AMT', 'FLOOR_NM', 'BUILD_YY', 'ROAD_NM', 'ADDR']"
   ]
  },
  {
   "cell_type": "code",
   "execution_count": null,
   "id": "1bde19a9",
   "metadata": {},
   "outputs": [],
   "source": []
  }
 ],
 "metadata": {
  "kernelspec": {
   "display_name": "Python 3 (ipykernel)",
   "language": "python",
   "name": "python3"
  },
  "language_info": {
   "codemirror_mode": {
    "name": "ipython",
    "version": 3
   },
   "file_extension": ".py",
   "mimetype": "text/x-python",
   "name": "python",
   "nbconvert_exporter": "python",
   "pygments_lexer": "ipython3",
   "version": "3.9.23"
  }
 },
 "nbformat": 4,
 "nbformat_minor": 5
}
