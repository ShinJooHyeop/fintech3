{
 "cells": [
  {
   "cell_type": "code",
   "execution_count": 2,
   "id": "e0a00019",
   "metadata": {},
   "outputs": [],
   "source": [
    "import requests\n",
    "import pandas as pd\n",
    "from dotenv import load_dotenv\n",
    "import os\n",
    "import re\n",
    "load_dotenv()\n",
    "import time"
   ]
  },
  {
   "cell_type": "code",
   "execution_count": 3,
   "id": "df2c5621",
   "metadata": {},
   "outputs": [
    {
     "name": "stdout",
     "output_type": "stream",
     "text": [
      "https://openapi.gg.go.kr/TBGGDLNGPRCAPTTRDSRCM?KEY=ff5f45fecca949eb9e26e87aeee66691&Type=json&pIndex=1&pSize=10\n",
      "200\n"
     ]
    }
   ],
   "source": [
    "url = \"https://openapi.gg.go.kr/TBGGDLNGPRCAPTTRDSRCM\"\n",
    "payload = dict(KEY=os.getenv(\"gg_api\"),Type=\"json\",pIndex=1, pSize=10)\n",
    "r = requests.get(url,params = payload)\n",
    "print(r.url)\n",
    "print(r.status_code)\n",
    "responese = r.json()"
   ]
  },
  {
   "cell_type": "code",
   "execution_count": 4,
   "id": "6779d342",
   "metadata": {},
   "outputs": [
    {
     "data": {
      "text/plain": [
       "135"
      ]
     },
     "execution_count": 4,
     "metadata": {},
     "output_type": "execute_result"
    }
   ],
   "source": [
    "total_pages = responese[\"TBGGDLNGPRCAPTTRDSRCM\"][0][\"head\"][0][\"list_total_count\"] // 1000+1\n",
    "total_pages"
   ]
  },
  {
   "cell_type": "code",
   "execution_count": 5,
   "id": "b1a2a9f9",
   "metadata": {},
   "outputs": [],
   "source": [
    "cols = ['NO', 'LOTNO_ADDR', 'LOTNO_ORIGNO', 'LOTNO_VICENO',\n",
    "       'HSCOMPLEX_NM', 'PRVTUSE_AR', 'CONTRACT_YM', 'CONTRACT_DAY',\n",
    "       'DELNG_AMT', 'FLOOR_NM', 'BUILD_YY', 'ROAD_NM', 'ADDR']"
   ]
  },
  {
   "cell_type": "code",
   "execution_count": 6,
   "id": "c5422e53",
   "metadata": {},
   "outputs": [
    {
     "ename": "IndentationError",
     "evalue": "expected an indented block (2555741187.py, line 8)",
     "output_type": "error",
     "traceback": [
      "\u001b[1;36m  Cell \u001b[1;32mIn[6], line 8\u001b[1;36m\u001b[0m\n\u001b[1;33m    # df\u001b[0m\n\u001b[1;37m        ^\u001b[0m\n\u001b[1;31mIndentationError\u001b[0m\u001b[1;31m:\u001b[0m expected an indented block\n"
     ]
    }
   ],
   "source": [
    "result = {}\n",
    "for item in responese[\"TBGGDLNGPRCAPTTRDSRCM\"][1]['row']:\n",
    "#     for key,value in item.items():\n",
    "#         if key in cols:\n",
    "#             result.setdefault(key,[]).append(value)\n",
    "        \n",
    "# df = pd.DataFrame(result)\n",
    "# df"
   ]
  },
  {
   "cell_type": "code",
   "execution_count": 8,
   "id": "a045224c",
   "metadata": {
    "scrolled": true
   },
   "outputs": [
    {
     "ename": "NameError",
     "evalue": "name 'df' is not defined",
     "output_type": "error",
     "traceback": [
      "\u001b[1;31m---------------------------------------------------------------------------\u001b[0m",
      "\u001b[1;31mNameError\u001b[0m                                 Traceback (most recent call last)",
      "Cell \u001b[1;32mIn[8], line 1\u001b[0m\n\u001b[1;32m----> 1\u001b[0m \u001b[43mdf\u001b[49m\u001b[38;5;241m.\u001b[39mcolumns\n",
      "\u001b[1;31mNameError\u001b[0m: name 'df' is not defined"
     ]
    }
   ],
   "source": [
    "df.columns"
   ]
  },
  {
   "cell_type": "code",
   "execution_count": 9,
   "id": "e2faadbe",
   "metadata": {},
   "outputs": [],
   "source": [
    "cols = ['NO', 'LOTNO_ADDR', 'LOTNO_ORIGNO', 'LOTNO_VICENO',\n",
    "       'HSCOMPLEX_NM', 'PRVTUSE_AR', 'CONTRACT_YM', 'CONTRACT_DAY',\n",
    "       'DELNG_AMT', 'FLOOR_NM', 'BUILD_YY', 'ROAD_NM', 'ADDR']"
   ]
  },
  {
   "cell_type": "markdown",
   "id": "a0322b67",
   "metadata": {},
   "source": [
    "#  전체 페이지 수집하기"
   ]
  },
  {
   "cell_type": "code",
   "execution_count": 10,
   "id": "d4699737",
   "metadata": {},
   "outputs": [
    {
     "data": {
      "text/plain": [
       "True"
      ]
     },
     "execution_count": 10,
     "metadata": {},
     "output_type": "execute_result"
    }
   ],
   "source": [
    "import requests\n",
    "import pandas as pd\n",
    "from dotenv import load_dotenv\n",
    "import os\n",
    "import re\n",
    "load_dotenv()"
   ]
  },
  {
   "cell_type": "code",
   "execution_count": 11,
   "id": "6e63fa56",
   "metadata": {
    "scrolled": true
   },
   "outputs": [
    {
     "name": "stdout",
     "output_type": "stream",
     "text": [
      "135/135데이터 수집중\r"
     ]
    },
    {
     "data": {
      "text/html": [
       "<div>\n",
       "<style scoped>\n",
       "    .dataframe tbody tr th:only-of-type {\n",
       "        vertical-align: middle;\n",
       "    }\n",
       "\n",
       "    .dataframe tbody tr th {\n",
       "        vertical-align: top;\n",
       "    }\n",
       "\n",
       "    .dataframe thead th {\n",
       "        text-align: right;\n",
       "    }\n",
       "</style>\n",
       "<table border=\"1\" class=\"dataframe\">\n",
       "  <thead>\n",
       "    <tr style=\"text-align: right;\">\n",
       "      <th></th>\n",
       "      <th>NO</th>\n",
       "      <th>LOTNO_ADDR</th>\n",
       "      <th>LOTNO_ORIGNO</th>\n",
       "      <th>LOTNO_VICENO</th>\n",
       "      <th>HSCOMPLEX_NM</th>\n",
       "      <th>PRVTUSE_AR</th>\n",
       "      <th>CONTRACT_YM</th>\n",
       "      <th>CONTRACT_DAY</th>\n",
       "      <th>DELNG_AMT</th>\n",
       "      <th>FLOOR_NM</th>\n",
       "      <th>BUILD_YY</th>\n",
       "      <th>ROAD_NM</th>\n",
       "      <th>ADDR</th>\n",
       "    </tr>\n",
       "  </thead>\n",
       "  <tbody>\n",
       "    <tr>\n",
       "      <th>0</th>\n",
       "      <td>134904</td>\n",
       "      <td>996</td>\n",
       "      <td>996</td>\n",
       "      <td>0</td>\n",
       "      <td>주공그린빌</td>\n",
       "      <td>84.80</td>\n",
       "      <td>2018-01</td>\n",
       "      <td>1~10</td>\n",
       "      <td>26900</td>\n",
       "      <td>5</td>\n",
       "      <td>2003</td>\n",
       "      <td>통일로802번길</td>\n",
       "      <td>경기도 고양덕양구 관산동</td>\n",
       "    </tr>\n",
       "    <tr>\n",
       "      <th>1</th>\n",
       "      <td>134905</td>\n",
       "      <td>996</td>\n",
       "      <td>996</td>\n",
       "      <td>0</td>\n",
       "      <td>주공그린빌</td>\n",
       "      <td>75.95</td>\n",
       "      <td>2018-01</td>\n",
       "      <td>11~20</td>\n",
       "      <td>27000</td>\n",
       "      <td>10</td>\n",
       "      <td>2003</td>\n",
       "      <td>통일로802번길</td>\n",
       "      <td>경기도 고양덕양구 관산동</td>\n",
       "    </tr>\n",
       "    <tr>\n",
       "      <th>2</th>\n",
       "      <td>134906</td>\n",
       "      <td>996</td>\n",
       "      <td>996</td>\n",
       "      <td>0</td>\n",
       "      <td>주공그린빌</td>\n",
       "      <td>84.51</td>\n",
       "      <td>2018-01</td>\n",
       "      <td>11~20</td>\n",
       "      <td>25500</td>\n",
       "      <td>2</td>\n",
       "      <td>2003</td>\n",
       "      <td>통일로802번길</td>\n",
       "      <td>경기도 고양덕양구 관산동</td>\n",
       "    </tr>\n",
       "    <tr>\n",
       "      <th>3</th>\n",
       "      <td>134907</td>\n",
       "      <td>996</td>\n",
       "      <td>996</td>\n",
       "      <td>0</td>\n",
       "      <td>주공그린빌</td>\n",
       "      <td>59.92</td>\n",
       "      <td>2018-01</td>\n",
       "      <td>11~20</td>\n",
       "      <td>23700</td>\n",
       "      <td>10</td>\n",
       "      <td>2003</td>\n",
       "      <td>통일로802번길</td>\n",
       "      <td>경기도 고양덕양구 관산동</td>\n",
       "    </tr>\n",
       "    <tr>\n",
       "      <th>4</th>\n",
       "      <td>134908</td>\n",
       "      <td>996</td>\n",
       "      <td>996</td>\n",
       "      <td>0</td>\n",
       "      <td>주공그린빌</td>\n",
       "      <td>84.80</td>\n",
       "      <td>2018-01</td>\n",
       "      <td>11~20</td>\n",
       "      <td>27450</td>\n",
       "      <td>4</td>\n",
       "      <td>2003</td>\n",
       "      <td>통일로802번길</td>\n",
       "      <td>경기도 고양덕양구 관산동</td>\n",
       "    </tr>\n",
       "    <tr>\n",
       "      <th>...</th>\n",
       "      <td>...</td>\n",
       "      <td>...</td>\n",
       "      <td>...</td>\n",
       "      <td>...</td>\n",
       "      <td>...</td>\n",
       "      <td>...</td>\n",
       "      <td>...</td>\n",
       "      <td>...</td>\n",
       "      <td>...</td>\n",
       "      <td>...</td>\n",
       "      <td>...</td>\n",
       "      <td>...</td>\n",
       "      <td>...</td>\n",
       "    </tr>\n",
       "    <tr>\n",
       "      <th>134837</th>\n",
       "      <td>269497</td>\n",
       "      <td>Jun-49</td>\n",
       "      <td>49</td>\n",
       "      <td>6</td>\n",
       "      <td>남수원현대</td>\n",
       "      <td>84.98</td>\n",
       "      <td>2018-10</td>\n",
       "      <td>11~20</td>\n",
       "      <td>14500</td>\n",
       "      <td>4</td>\n",
       "      <td>1997</td>\n",
       "      <td>화산로</td>\n",
       "      <td>경기도 화성시 안녕동</td>\n",
       "    </tr>\n",
       "    <tr>\n",
       "      <th>134838</th>\n",
       "      <td>269498</td>\n",
       "      <td>Jun-49</td>\n",
       "      <td>49</td>\n",
       "      <td>6</td>\n",
       "      <td>남수원현대</td>\n",
       "      <td>59.98</td>\n",
       "      <td>2018-10</td>\n",
       "      <td>21~31</td>\n",
       "      <td>14600</td>\n",
       "      <td>5</td>\n",
       "      <td>1997</td>\n",
       "      <td>화산로</td>\n",
       "      <td>경기도 화성시 안녕동</td>\n",
       "    </tr>\n",
       "    <tr>\n",
       "      <th>134839</th>\n",
       "      <td>269499</td>\n",
       "      <td>211</td>\n",
       "      <td>211</td>\n",
       "      <td>0</td>\n",
       "      <td>다솜마을동문굿모닝힐</td>\n",
       "      <td>84.99</td>\n",
       "      <td>2018-10</td>\n",
       "      <td>1~10</td>\n",
       "      <td>19000</td>\n",
       "      <td>15</td>\n",
       "      <td>2006</td>\n",
       "      <td>효행로</td>\n",
       "      <td>경기도 화성시 안녕동</td>\n",
       "    </tr>\n",
       "    <tr>\n",
       "      <th>134840</th>\n",
       "      <td>269500</td>\n",
       "      <td>211</td>\n",
       "      <td>211</td>\n",
       "      <td>0</td>\n",
       "      <td>다솜마을동문굿모닝힐</td>\n",
       "      <td>84.99</td>\n",
       "      <td>2018-10</td>\n",
       "      <td>1~10</td>\n",
       "      <td>17800</td>\n",
       "      <td>1</td>\n",
       "      <td>2006</td>\n",
       "      <td>효행로</td>\n",
       "      <td>경기도 화성시 안녕동</td>\n",
       "    </tr>\n",
       "    <tr>\n",
       "      <th>134841</th>\n",
       "      <td>269501</td>\n",
       "      <td>211</td>\n",
       "      <td>211</td>\n",
       "      <td>0</td>\n",
       "      <td>다솜마을동문굿모닝힐</td>\n",
       "      <td>84.99</td>\n",
       "      <td>2018-10</td>\n",
       "      <td>11~20</td>\n",
       "      <td>21900</td>\n",
       "      <td>15</td>\n",
       "      <td>2006</td>\n",
       "      <td>효행로</td>\n",
       "      <td>경기도 화성시 안녕동</td>\n",
       "    </tr>\n",
       "  </tbody>\n",
       "</table>\n",
       "<p>134842 rows × 13 columns</p>\n",
       "</div>"
      ],
      "text/plain": [
       "            NO LOTNO_ADDR LOTNO_ORIGNO LOTNO_VICENO HSCOMPLEX_NM  PRVTUSE_AR  \\\n",
       "0       134904        996          996            0        주공그린빌       84.80   \n",
       "1       134905        996          996            0        주공그린빌       75.95   \n",
       "2       134906        996          996            0        주공그린빌       84.51   \n",
       "3       134907        996          996            0        주공그린빌       59.92   \n",
       "4       134908        996          996            0        주공그린빌       84.80   \n",
       "...        ...        ...          ...          ...          ...         ...   \n",
       "134837  269497     Jun-49           49            6        남수원현대       84.98   \n",
       "134838  269498     Jun-49           49            6        남수원현대       59.98   \n",
       "134839  269499        211          211            0   다솜마을동문굿모닝힐       84.99   \n",
       "134840  269500        211          211            0   다솜마을동문굿모닝힐       84.99   \n",
       "134841  269501        211          211            0   다솜마을동문굿모닝힐       84.99   \n",
       "\n",
       "       CONTRACT_YM CONTRACT_DAY  DELNG_AMT FLOOR_NM BUILD_YY   ROAD_NM  \\\n",
       "0          2018-01         1~10      26900        5     2003  통일로802번길   \n",
       "1          2018-01        11~20      27000       10     2003  통일로802번길   \n",
       "2          2018-01        11~20      25500        2     2003  통일로802번길   \n",
       "3          2018-01        11~20      23700       10     2003  통일로802번길   \n",
       "4          2018-01        11~20      27450        4     2003  통일로802번길   \n",
       "...            ...          ...        ...      ...      ...       ...   \n",
       "134837     2018-10        11~20      14500        4     1997       화산로   \n",
       "134838     2018-10        21~31      14600        5     1997       화산로   \n",
       "134839     2018-10         1~10      19000       15     2006       효행로   \n",
       "134840     2018-10         1~10      17800        1     2006       효행로   \n",
       "134841     2018-10        11~20      21900       15     2006       효행로   \n",
       "\n",
       "                 ADDR  \n",
       "0       경기도 고양덕양구 관산동  \n",
       "1       경기도 고양덕양구 관산동  \n",
       "2       경기도 고양덕양구 관산동  \n",
       "3       경기도 고양덕양구 관산동  \n",
       "4       경기도 고양덕양구 관산동  \n",
       "...               ...  \n",
       "134837    경기도 화성시 안녕동  \n",
       "134838    경기도 화성시 안녕동  \n",
       "134839    경기도 화성시 안녕동  \n",
       "134840    경기도 화성시 안녕동  \n",
       "134841    경기도 화성시 안녕동  \n",
       "\n",
       "[134842 rows x 13 columns]"
      ]
     },
     "execution_count": 11,
     "metadata": {},
     "output_type": "execute_result"
    }
   ],
   "source": [
    "page_num = 1\n",
    "total_pages = 1\n",
    "result = {}\n",
    "\n",
    "while page_num <= total_pages:\n",
    "    url = \"https://openapi.gg.go.kr/TBGGDLNGPRCAPTTRDSRCM\"\n",
    "    payload = dict(KEY=os.getenv(\"gg_api\"),Type=\"json\",pIndex=page_num, pSize=1000)\n",
    "    r = requests.get(url,params = payload)\n",
    "#     print(r.url)\n",
    "#     print(r.status_code)\n",
    "    responese = r.json()\n",
    "    \n",
    "    if total_pages == 1:\n",
    "        total_pages = responese[\"TBGGDLNGPRCAPTTRDSRCM\"][0][\"head\"][0][\"list_total_count\"] // 1000+1\n",
    "    else:\n",
    "        pass\n",
    "    print(f\"{page_num}/{total_pages}데이터 수집중\",end=\"\\r\")\n",
    "    total_pages\n",
    "    cols = ['NO', 'LOTNO_ADDR', 'LOTNO_ORIGNO', 'LOTNO_VICENO',\n",
    "           'HSCOMPLEX_NM', 'PRVTUSE_AR', 'CONTRACT_YM', 'CONTRACT_DAY',\n",
    "           'DELNG_AMT', 'FLOOR_NM', 'BUILD_YY', 'ROAD_NM', 'ADDR']\n",
    "\n",
    "    for item in responese[\"TBGGDLNGPRCAPTTRDSRCM\"][1]['row']:\n",
    "        for key,value in item.items():\n",
    "            if key in cols:\n",
    "                result.setdefault(key,[]).append(value)\n",
    "    \n",
    "    page_num += 1\n",
    "    time.sleep(0.2)\n",
    "    \n",
    "df = pd.DataFrame(result)\n",
    "df"
   ]
  },
  {
   "cell_type": "code",
   "execution_count": 12,
   "id": "6da93e2d",
   "metadata": {},
   "outputs": [],
   "source": [
    "df.to_csv(\"./data/경기도 아파트 데이터.csv\", index = False , encoding = 'utf-8-sig')"
   ]
  },
  {
   "cell_type": "code",
   "execution_count": null,
   "id": "2b39d314",
   "metadata": {},
   "outputs": [],
   "source": []
  }
 ],
 "metadata": {
  "kernelspec": {
   "display_name": "Python 3 (ipykernel)",
   "language": "python",
   "name": "python3"
  },
  "language_info": {
   "codemirror_mode": {
    "name": "ipython",
    "version": 3
   },
   "file_extension": ".py",
   "mimetype": "text/x-python",
   "name": "python",
   "nbconvert_exporter": "python",
   "pygments_lexer": "ipython3",
   "version": "3.9.23"
  }
 },
 "nbformat": 4,
 "nbformat_minor": 5
}
