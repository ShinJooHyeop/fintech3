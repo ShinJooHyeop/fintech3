{
 "cells": [
  {
   "cell_type": "markdown",
   "id": "3326dd1b",
   "metadata": {},
   "source": [
    "# Selenium 이란?\n",
    "* 웹브라우저를 자동으로 제어하는 라이브러리\n",
    "* 원래 다양한 웹브라우저를 자동으로 테스트하는  도구\n",
    "* 코드를 통해 웹브라우저 조작 가능\n",
    "* 동적 웹사이트에서 정보를 가져오는 활용\n",
    "https://www.selenium.dev/documentation/webdriver/"
   ]
  },
  {
   "cell_type": "code",
   "execution_count": 58,
   "id": "7dc6d717",
   "metadata": {},
   "outputs": [],
   "source": [
    "# !pip install selenium\n",
    "# !pip install webdriver-manager"
   ]
  },
  {
   "cell_type": "code",
   "execution_count": 109,
   "id": "587b0071",
   "metadata": {},
   "outputs": [
    {
     "name": "stdout",
     "output_type": "stream",
     "text": [
      "4.36.0\n"
     ]
    }
   ],
   "source": [
    "import selenium\n",
    "print(selenium.__version__)"
   ]
  },
  {
   "cell_type": "code",
   "execution_count": 152,
   "id": "4cfce687",
   "metadata": {},
   "outputs": [],
   "source": [
    "# 기본적으로 불러와야되는 셀레니윰 \n",
    "from selenium import webdriver\n",
    "from selenium.webdriver.chrome.service import Service\n",
    "from selenium.webdriver.chrome.options import Options\n",
    "from webdriver_manager.chrome import ChromeDriverManager\n",
    "from selenium.webdriver.common.by import By\n",
    "from selenium.webdriver.common.keys import Keys\n",
    "\n",
    "#사람인척 하기 위한 옵션으로 사람이 아닌 셀레니움이면 사이트에서 막히기 때문에 사용\n",
    "options = Options()\n",
    "options.add_experimental_option(\"detach\", True)\n",
    "options.add_argument(\"start-maximized\")\n",
    "options.add_argument(\"Chrome/141.0.0.0\")\n",
    "options.add_argument(\"lang=ko_KR\")\n",
    "\n",
    "driver = webdriver.Chrome(\n",
    "    service=Service(ChromeDriverManager().install()),\n",
    "    options=options\n",
    "    )\n",
    "#웹브라우저에서 url열기\n",
    "driver.get(\"https://search.shopping.naver.com/book/search?bookTabType=ALL&pageIndex=1&pageSize=40&prevQuery=%ED%95%80%ED%85%8C%ED%81%AC&query=%ED%95%80%ED%85%8C%ED%81%AC&sort=REL\")"
   ]
  },
  {
   "cell_type": "code",
   "execution_count": 221,
   "id": "d5896e66",
   "metadata": {
    "scrolled": true
   },
   "outputs": [],
   "source": [
    "search_box = driver.find_element(By.CSS_SELECTOR, \"._searchInput_search_text_83jy9._nlog_click\")\n",
    "search_box.clear()"
   ]
  },
  {
   "cell_type": "code",
   "execution_count": 222,
   "id": "a7d81715",
   "metadata": {},
   "outputs": [],
   "source": [
    "search_box.send_keys(\"파이썬\")"
   ]
  },
  {
   "cell_type": "code",
   "execution_count": 223,
   "id": "e001dfc9",
   "metadata": {},
   "outputs": [],
   "source": [
    "search_box.send_keys(Keys.ENTER)"
   ]
  },
  {
   "cell_type": "code",
   "execution_count": 224,
   "id": "c77fd18a",
   "metadata": {},
   "outputs": [],
   "source": [
    "search_button = driver.find_element(By.CSS_SELECTOR,\"._searchInput_button_clear_U-xg0._nlog_click\")\n",
    "search_button.click()"
   ]
  },
  {
   "cell_type": "code",
   "execution_count": 201,
   "id": "a4644043",
   "metadata": {},
   "outputs": [],
   "source": [
    "search_box = driver.find_element(By.CSS_SELECTOR, \"._searchInput_search_text_83jy9._nlog_click\")\n",
    "search_box.clear()\n",
    "search_box.send_keys(\"증권\")\n",
    "search_button = driver.find_element(By.CSS_SELECTOR,\"._searchInput_button_clear_U-xg0._nlog_click\")\n",
    "search_button.click()"
   ]
  },
  {
   "cell_type": "markdown",
   "id": "664afc89",
   "metadata": {},
   "source": [
    "# selenium에서 원하는 요소찾기\n",
    "* driver.find_element(By.CSS_SELECTOR,css셀렉터) : 1개 요소 찾기\n",
    "* driver.find_elements(By.CSS_SELECTOR,css셀렉터) : 여러개의 요소 찾기,list 반환\n",
    "* driver.find_element(ByID,\"id\") : html에서 id에 해당하는 태그 찾아줌\n",
    "* driver.find_element(By.LINK_TEXT,\"link에 포함된 문자\") : link에 포함된 문자 찾기\n",
    "* driver.find_element(By.PARTIAL_LINK_TEXT,\"link에 포함된 일부 문자\"): link에 포함된 문자 찾기"
   ]
  },
  {
   "cell_type": "code",
   "execution_count": 234,
   "id": "8785990d",
   "metadata": {
    "scrolled": true
   },
   "outputs": [
    {
     "data": {
      "text/plain": [
       "'<span class=\"bookListItem_text__oxa7M\"><span>Do it! 점프 투 파이썬</span><span> (중학생도 첫날부터 실습하는 초고속 입문서)</span></span>'"
      ]
     },
     "execution_count": 234,
     "metadata": {},
     "output_type": "execute_result"
    }
   ],
   "source": [
    "# 찾은 태그 안쪽 html출력.getattribute('innerHTML')\n",
    "driver.find_element(By.CSS_SELECTOR,\".bookListItem_title__1mWGq\").get_attribute('innerHTML')"
   ]
  },
  {
   "cell_type": "code",
   "execution_count": 235,
   "id": "ffcc0763",
   "metadata": {
    "scrolled": true
   },
   "outputs": [
    {
     "data": {
      "text/plain": [
       "'<span class=\"bookListItem_text__oxa7M\"><span>Do it! 점프 투 파이썬</span><span> (중학생도 첫날부터 실습하는 초고속 입문서)</span></span>'"
      ]
     },
     "execution_count": 235,
     "metadata": {},
     "output_type": "execute_result"
    }
   ],
   "source": [
    "# .getattribute('outterHTML')\n",
    "driver.find_element(By.CSS_SELECTOR,\".bookListItem_title__1mWGq\").get_attribute('innerHTML')"
   ]
  },
  {
   "cell_type": "code",
   "execution_count": 236,
   "id": "4f7063bf",
   "metadata": {
    "scrolled": false
   },
   "outputs": [
    {
     "data": {
      "text/plain": [
       "'Do it! 점프 투 파이썬 (중학생도 첫날부터 실습하는 초고속 입문서)'"
      ]
     },
     "execution_count": 236,
     "metadata": {},
     "output_type": "execute_result"
    }
   ],
   "source": [
    "# 책 제목\n",
    "title = driver.find_element(By.CSS_SELECTOR,\".bookListItem_title__1mWGq\").text"
   ]
  },
  {
   "cell_type": "code",
   "execution_count": 278,
   "id": "6b51d80c",
   "metadata": {
    "scrolled": true
   },
   "outputs": [],
   "source": [
    "#저자\n",
    "author = driver.find_element(By.CSS_SELECTOR,\".bookListItem_define_item__jqcW8 >  span:nth-child(2)\").text"
   ]
  },
  {
   "cell_type": "code",
   "execution_count": 279,
   "id": "feea1d30",
   "metadata": {},
   "outputs": [],
   "source": [
    "#출판사 publisher\n",
    "publisher = driver.find_element(By.CSS_SELECTOR,\".bookListItem_detail_publish__SGgZN\").text.split()[1]"
   ]
  },
  {
   "cell_type": "code",
   "execution_count": 280,
   "id": "e1fa6269",
   "metadata": {
    "scrolled": true
   },
   "outputs": [],
   "source": [
    "# 출간일 pub_date\n",
    "pub_date = driver.find_element(By.CSS_SELECTOR,\".bookListItem_detail_date__6_wYJ\").text"
   ]
  },
  {
   "cell_type": "code",
   "execution_count": 281,
   "id": "19c290cb",
   "metadata": {
    "scrolled": true
   },
   "outputs": [],
   "source": [
    "# 평점 rating          \n",
    "rating = driver.find_element(By.CSS_SELECTOR,\".bookListItem_grade__e60mi\").text.split()[0][2:]"
   ]
  },
  {
   "cell_type": "code",
   "execution_count": 282,
   "id": "e07b0714",
   "metadata": {
    "scrolled": true
   },
   "outputs": [],
   "source": [
    "#리뷰수 n_reviews\n",
    "n_reviews = driver.find_element(By.CSS_SELECTOR,\".bookListItem_reviewer__jYk_L\").text.replace(\"(\",\"\").replace(\")\",\"\")"
   ]
  },
  {
   "cell_type": "code",
   "execution_count": 283,
   "id": "c320dcf5",
   "metadata": {},
   "outputs": [],
   "source": [
    "# price\n",
    "price = driver.find_element(By.CSS_SELECTOR,\".bookPrice_price__Nv4Ee > em\").text.replace(\",\",\"\")"
   ]
  },
  {
   "cell_type": "markdown",
   "id": "58a4eca5",
   "metadata": {},
   "source": [
    "# 네이버 책 데이터 수집하기"
   ]
  },
  {
   "cell_type": "code",
   "execution_count": 297,
   "id": "c8de1513",
   "metadata": {
    "scrolled": true
   },
   "outputs": [
    {
     "name": "stdout",
     "output_type": "stream",
     "text": [
      "검색어를 입력하세요: 파이썬\n"
     ]
    },
    {
     "data": {
      "text/html": [
       "<div>\n",
       "<style scoped>\n",
       "    .dataframe tbody tr th:only-of-type {\n",
       "        vertical-align: middle;\n",
       "    }\n",
       "\n",
       "    .dataframe tbody tr th {\n",
       "        vertical-align: top;\n",
       "    }\n",
       "\n",
       "    .dataframe thead th {\n",
       "        text-align: right;\n",
       "    }\n",
       "</style>\n",
       "<table border=\"1\" class=\"dataframe\">\n",
       "  <thead>\n",
       "    <tr style=\"text-align: right;\">\n",
       "      <th></th>\n",
       "      <th>책제목</th>\n",
       "      <th>저자</th>\n",
       "      <th>출판사</th>\n",
       "      <th>출간일</th>\n",
       "      <th>평점</th>\n",
       "      <th>리뷰수</th>\n",
       "      <th>가격</th>\n",
       "    </tr>\n",
       "  </thead>\n",
       "  <tbody>\n",
       "    <tr>\n",
       "      <th>0</th>\n",
       "      <td>Do it! 점프 투 파이썬 (중학생도 첫날부터 실습하는 초고속 입문서)</td>\n",
       "      <td>박응용</td>\n",
       "      <td>이지스퍼블리싱</td>\n",
       "      <td>2023.06.15.</td>\n",
       "      <td>4.96</td>\n",
       "      <td>84</td>\n",
       "      <td>19800</td>\n",
       "    </tr>\n",
       "    <tr>\n",
       "      <th>1</th>\n",
       "      <td>혼자 공부하는 파이썬 (1:1 과외하듯 배우는 프로그래밍 자습서)</td>\n",
       "      <td>윤인성</td>\n",
       "      <td>한빛미디어</td>\n",
       "      <td>2022.06.01.</td>\n",
       "      <td>4.91</td>\n",
       "      <td>23</td>\n",
       "      <td>19800</td>\n",
       "    </tr>\n",
       "    <tr>\n",
       "      <th>2</th>\n",
       "      <td>파이썬</td>\n",
       "      <td>홍의경</td>\n",
       "      <td>생능출판</td>\n",
       "      <td>2022.03.09.</td>\n",
       "      <td>0</td>\n",
       "      <td>0</td>\n",
       "      <td>29440</td>\n",
       "    </tr>\n",
       "    <tr>\n",
       "      <th>3</th>\n",
       "      <td>독학 파이썬</td>\n",
       "      <td>야마다 요시히로</td>\n",
       "      <td>정보문화사</td>\n",
       "      <td>2024.12.20.</td>\n",
       "      <td>0</td>\n",
       "      <td>0</td>\n",
       "      <td>28800</td>\n",
       "    </tr>\n",
       "    <tr>\n",
       "      <th>4</th>\n",
       "      <td>파이썬 (제2판)</td>\n",
       "      <td>염기원, 오지영</td>\n",
       "      <td>북두</td>\n",
       "      <td>2022.01.20.</td>\n",
       "      <td>0</td>\n",
       "      <td>0</td>\n",
       "      <td>16200</td>\n",
       "    </tr>\n",
       "    <tr>\n",
       "      <th>...</th>\n",
       "      <td>...</td>\n",
       "      <td>...</td>\n",
       "      <td>...</td>\n",
       "      <td>...</td>\n",
       "      <td>...</td>\n",
       "      <td>...</td>\n",
       "      <td>...</td>\n",
       "    </tr>\n",
       "    <tr>\n",
       "      <th>395</th>\n",
       "      <td>파이썬 for Beginner (쉽고 빠르게 익히는 프로그래밍의 기본 원리)</td>\n",
       "      <td>우재남</td>\n",
       "      <td>한빛아카데미</td>\n",
       "      <td>2022.01.03.</td>\n",
       "      <td>4.71</td>\n",
       "      <td>14</td>\n",
       "      <td>23000</td>\n",
       "    </tr>\n",
       "    <tr>\n",
       "      <th>396</th>\n",
       "      <td>파이썬 웹 스크래핑 2/e (수많은 데이터 사이에서 필요한 정보 수집하기)</td>\n",
       "      <td>캐서린 자멀, 리차드 로손</td>\n",
       "      <td>에이콘출판</td>\n",
       "      <td>2018.12.31.</td>\n",
       "      <td>0</td>\n",
       "      <td>0</td>\n",
       "      <td>22500</td>\n",
       "    </tr>\n",
       "    <tr>\n",
       "      <th>397</th>\n",
       "      <td>가즈아! 파이썬 세상으로</td>\n",
       "      <td></td>\n",
       "      <td>연두에디션</td>\n",
       "      <td>2018.12.20.</td>\n",
       "      <td>0</td>\n",
       "      <td>0</td>\n",
       "      <td>19000</td>\n",
       "    </tr>\n",
       "    <tr>\n",
       "      <th>398</th>\n",
       "      <td>파이썬 성능 높이기 2/e (프로그램 병목 찾기부터 파이썬 구현 선택, 병렬 시스템...</td>\n",
       "      <td>가브리엘레 라나로</td>\n",
       "      <td>에이콘출판</td>\n",
       "      <td>2018.11.30.</td>\n",
       "      <td>0</td>\n",
       "      <td>0</td>\n",
       "      <td>25200</td>\n",
       "    </tr>\n",
       "    <tr>\n",
       "      <th>399</th>\n",
       "      <td>마이크로파이썬을 활용한 사물인터넷 (챗GPT로 코딩하기)</td>\n",
       "      <td>양재삼</td>\n",
       "      <td>한빛아카데미</td>\n",
       "      <td>2025.01.02.</td>\n",
       "      <td>0</td>\n",
       "      <td>0</td>\n",
       "      <td>25760</td>\n",
       "    </tr>\n",
       "  </tbody>\n",
       "</table>\n",
       "<p>400 rows × 7 columns</p>\n",
       "</div>"
      ],
      "text/plain": [
       "                                                   책제목              저자  \\\n",
       "0             Do it! 점프 투 파이썬 (중학생도 첫날부터 실습하는 초고속 입문서)             박응용   \n",
       "1                 혼자 공부하는 파이썬 (1:1 과외하듯 배우는 프로그래밍 자습서)             윤인성   \n",
       "2                                                  파이썬             홍의경   \n",
       "3                                               독학 파이썬        야마다 요시히로   \n",
       "4                                            파이썬 (제2판)        염기원, 오지영   \n",
       "..                                                 ...             ...   \n",
       "395         파이썬 for Beginner (쉽고 빠르게 익히는 프로그래밍의 기본 원리)             우재남   \n",
       "396          파이썬 웹 스크래핑 2/e (수많은 데이터 사이에서 필요한 정보 수집하기)  캐서린 자멀, 리차드 로손   \n",
       "397                                      가즈아! 파이썬 세상으로                   \n",
       "398  파이썬 성능 높이기 2/e (프로그램 병목 찾기부터 파이썬 구현 선택, 병렬 시스템...       가브리엘레 라나로   \n",
       "399                    마이크로파이썬을 활용한 사물인터넷 (챗GPT로 코딩하기)             양재삼   \n",
       "\n",
       "         출판사          출간일    평점 리뷰수     가격  \n",
       "0    이지스퍼블리싱  2023.06.15.  4.96  84  19800  \n",
       "1      한빛미디어  2022.06.01.  4.91  23  19800  \n",
       "2       생능출판  2022.03.09.     0   0  29440  \n",
       "3      정보문화사  2024.12.20.     0   0  28800  \n",
       "4         북두  2022.01.20.     0   0  16200  \n",
       "..       ...          ...   ...  ..    ...  \n",
       "395   한빛아카데미  2022.01.03.  4.71  14  23000  \n",
       "396    에이콘출판  2018.12.31.     0   0  22500  \n",
       "397    연두에디션  2018.12.20.     0   0  19000  \n",
       "398    에이콘출판  2018.11.30.     0   0  25200  \n",
       "399   한빛아카데미  2025.01.02.     0   0  25760  \n",
       "\n",
       "[400 rows x 7 columns]"
      ]
     },
     "execution_count": 297,
     "metadata": {},
     "output_type": "execute_result"
    }
   ],
   "source": [
    "# 기본적으로 불러와야되는 셀레니윰\n",
    "import time\n",
    "import pandas as pd\n",
    "from selenium import webdriver\n",
    "from selenium.webdriver.chrome.service import Service\n",
    "from selenium.webdriver.chrome.options import Options\n",
    "from webdriver_manager.chrome import ChromeDriverManager\n",
    "from selenium.webdriver.common.by import By\n",
    "from selenium.webdriver.common.keys import Keys\n",
    "\n",
    "#사람인척 하기 위한 옵션으로 사람이 아닌 셀레니움이면 사이트에서 막히기 때문에 사용\n",
    "options = Options()\n",
    "options.add_experimental_option(\"detach\", True)\n",
    "options.add_argument(\"start-maximized\")\n",
    "options.add_argument(\"Chrome/141.0.0.0\")\n",
    "options.add_argument(\"lang=ko_KR\")\n",
    "\n",
    "driver = webdriver.Chrome(\n",
    "    service=Service(ChromeDriverManager().install()),\n",
    "    options=options\n",
    "    )\n",
    "keyword = input(\"검색어를 입력하세요: \")\n",
    "book_info_list = {}\n",
    "for page in range(1,11):\n",
    "#웹브라우저에서 url열기\n",
    "    driver.get(f\"https://search.shopping.naver.com/book/search?bookTabType=ALL&pageIndex={page}&pageSize=40&prevQuery=%ED%95%80%ED%85%8C%ED%81%AC&query={keyword}&sort=REL\")\n",
    "#전체 40개 데이터를 얻기 위해서 마우스 스크롤\n",
    "    for scroll in range(0,8001,1000):\n",
    "        driver.execute_script(f\"window.scrollTo({0},{scroll})\")\n",
    "        time.sleep(2)\n",
    "\n",
    "    book_list = driver.find_elements(By.CSS_SELECTOR, \".list_book > li\")\n",
    "    for book in book_list:\n",
    "        # 책 제목\n",
    "        title = book.find_element(By.CSS_SELECTOR,\".bookListItem_title__1mWGq\").text\n",
    "        try:\n",
    "            #저자\n",
    "            author = book.find_element(By.CSS_SELECTOR,\".bookListItem_define_item__jqcW8 >  span:nth-child(2)\").text\n",
    "        except:\n",
    "            author = \"\"\n",
    "        try:\n",
    "            #출판사 publisher\n",
    "            publisher = book.find_element(By.CSS_SELECTOR,\".bookListItem_detail_publish__SGgZN\").text.split()[1]\n",
    "        except:\n",
    "            publisher = \"\"\n",
    "        try:\n",
    "            # 출간일 pub_date\n",
    "            pub_date = book.find_element(By.CSS_SELECTOR,\".bookListItem_detail_date__6_wYJ\").text\n",
    "        except:\n",
    "            pub_date = \"\"\n",
    "        try:\n",
    "            # 평점 rating          \n",
    "            rating = book.find_element(By.CSS_SELECTOR,\".bookListItem_grade__e60mi\").text.split()[0][2:]\n",
    "        except:\n",
    "            rating = 0\n",
    "        try:\n",
    "            #리뷰수 n_reviews\n",
    "             n_reviews = book.find_element(By.CSS_SELECTOR, \".bookListItem_grade__e60mi\").text.split()[1].replace(\"(\", \"\").replace(\")\", \"\") if book.find_element(By.CSS_SELECTOR, \".bookListItem_grade__e60mi\") != None else 0\n",
    "        except:\n",
    "            n_reviews = 0\n",
    "        try:\n",
    "            # price\n",
    "            price = book.find_element(By.CSS_SELECTOR,\".bookPrice_price__Nv4Ee > em\").text.replace(\",\",\"\")\n",
    "        except:\n",
    "            price = 0\n",
    "\n",
    "        keys = ['책제목', '저자', '출판사', '출간일', '평점', '리뷰수', '가격']\n",
    "        book_info = (title, author, publisher, pub_date, rating, n_reviews, price)\n",
    "\n",
    "        for key, value in zip(keys,book_info):\n",
    "            book_info_list.setdefault(key,[]).append(value)\n",
    "            \n",
    "driver.close()\n",
    "\n",
    "df = pd.DataFrame(book_info_list)\n",
    "df"
   ]
  },
  {
   "cell_type": "code",
   "execution_count": 91,
   "id": "79ade854",
   "metadata": {},
   "outputs": [
    {
     "data": {
      "text/plain": [
       "['데이터기반 사회과학분석-교육과 소득분배-파이썬활용',\n",
       " 'Do it! 점프 투 파이썬 (중학생도 첫날부터 실습하는 초고속 입문서)',\n",
       " '혼자 공부하는 파이썬 (1:1 과외하듯 배우는 프로그래밍 자습서)',\n",
       " '파이썬',\n",
       " '독학 파이썬',\n",
       " '파이썬 (제2판)',\n",
       " '으뜸 파이썬 (개정판)',\n",
       " '파이썬',\n",
       " '파이썬',\n",
       " '파이썬 (비전공자를위한 파이썬 기초 입문서)']"
      ]
     },
     "execution_count": 91,
     "metadata": {},
     "output_type": "execute_result"
    }
   ],
   "source": [
    "title = [title.text for title in  driver.find_elements(By.CSS_SELECTOR,\".bookListItem_title__1mWGq\")]\n",
    "title"
   ]
  }
 ],
 "metadata": {
  "kernelspec": {
   "display_name": "Python 3 (ipykernel)",
   "language": "python",
   "name": "python3"
  },
  "language_info": {
   "codemirror_mode": {
    "name": "ipython",
    "version": 3
   },
   "file_extension": ".py",
   "mimetype": "text/x-python",
   "name": "python",
   "nbconvert_exporter": "python",
   "pygments_lexer": "ipython3",
   "version": "3.9.23"
  }
 },
 "nbformat": 4,
 "nbformat_minor": 5
}
