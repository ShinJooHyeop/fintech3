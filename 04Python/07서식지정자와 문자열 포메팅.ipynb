{
 "cells": [
  {
   "cell_type": "markdown",
   "id": "10d634fa",
   "metadata": {},
   "source": [
    "# 서식지정자,foramt 메서드\n",
    "* 문자열로만 입력해야 하는 상황에서 같은 위치에 문자를 여러 번 바꿔야 할 때 사용\n",
    "* 문자의 자릿수 맞춤, 위치 정렬에도 사용\n",
    "* 문자열 사이에 변수에 담긴 내용을 함께 출력할 때 사용"
   ]
  },
  {
   "cell_type": "markdown",
   "id": "5e20c000",
   "metadata": {},
   "source": [
    "# 1. 서식지정자 %d,%s,%f,%길이s"
   ]
  },
  {
   "cell_type": "markdown",
   "id": "554b43e1",
   "metadata": {},
   "source": [
    "# 1)문자를 입력할 때%s"
   ]
  },
  {
   "cell_type": "code",
   "execution_count": 2,
   "id": "e913a704",
   "metadata": {},
   "outputs": [
    {
     "name": "stdout",
     "output_type": "stream",
     "text": [
      "이 수업의 이름은 국어 입니다.\n"
     ]
    }
   ],
   "source": [
    "print(\"이 수업의 이름은 %s 입니다.\" % \"국어\")"
   ]
  },
  {
   "cell_type": "code",
   "execution_count": 3,
   "id": "6cbacde7",
   "metadata": {},
   "outputs": [
    {
     "name": "stdout",
     "output_type": "stream",
     "text": [
      "이 수업의 이름은 국어 입니다.\n",
      "이 수업의 이름은 수학 입니다.\n",
      "이 수업의 이름은 사회 입니다.\n",
      "이 수업의 이름은 영어 입니다.\n"
     ]
    }
   ],
   "source": [
    "for i in ['국어','수학','사회','영어']:\n",
    "    print(\"이 수업의 이름은 %s 입니다.\" % i)"
   ]
  },
  {
   "cell_type": "markdown",
   "id": "b98901cb",
   "metadata": {},
   "source": [
    "## 2) 정수를 입력할 때 %d\n",
    "* 실수를 입력하면 정수부분만 들어간다."
   ]
  },
  {
   "cell_type": "code",
   "execution_count": 4,
   "id": "ed840384",
   "metadata": {},
   "outputs": [
    {
     "name": "stdout",
     "output_type": "stream",
     "text": [
      "올해는 2025년 입니다.\n"
     ]
    }
   ],
   "source": [
    "print('올해는 %d년 입니다.' %2025)"
   ]
  },
  {
   "cell_type": "markdown",
   "id": "72b4e650",
   "metadata": {},
   "source": [
    "## 3) 실수를 입력할 때 %f 기본 소숫점6자리로 표시"
   ]
  },
  {
   "cell_type": "code",
   "execution_count": 5,
   "id": "913a8387",
   "metadata": {},
   "outputs": [
    {
     "name": "stdout",
     "output_type": "stream",
     "text": [
      "사람의 정상 체온은 약 36.500000도 입니다.\n"
     ]
    }
   ],
   "source": [
    "print('사람의 정상 체온은 약 %f도 입니다.' %36.5)"
   ]
  },
  {
   "cell_type": "markdown",
   "id": "b5ec9781",
   "metadata": {},
   "source": [
    "* 소수점 표기를 조절할 때 %.소숙점자리수f ex)%2f"
   ]
  },
  {
   "cell_type": "code",
   "execution_count": 6,
   "id": "9a2f1554",
   "metadata": {},
   "outputs": [
    {
     "name": "stdout",
     "output_type": "stream",
     "text": [
      "사람의 정상 체온은 약 36.50도 입니다.\n"
     ]
    }
   ],
   "source": [
    "print('사람의 정상 체온은 약 %.2f도 입니다.' %36.5)"
   ]
  },
  {
   "cell_type": "code",
   "execution_count": 7,
   "id": "eb9cec56",
   "metadata": {},
   "outputs": [
    {
     "name": "stdout",
     "output_type": "stream",
     "text": [
      "사람의 정상 체온은 약 36.5도 입니다.\n"
     ]
    }
   ],
   "source": [
    "print('사람의 정상 체온은 약 %.1f도 입니다.' %36.5)"
   ]
  },
  {
   "cell_type": "markdown",
   "id": "cbe57007",
   "metadata": {},
   "source": [
    "## 4) 서식지정자로 문자열 길이,정렬 %길이s\n",
    "* %3s 3자리로 표시"
   ]
  },
  {
   "cell_type": "code",
   "execution_count": 8,
   "id": "bc5e05e9",
   "metadata": {},
   "outputs": [
    {
     "name": "stdout",
     "output_type": "stream",
     "text": [
      " 01\n"
     ]
    }
   ],
   "source": [
    "print('%3s' % \"01\")"
   ]
  },
  {
   "cell_type": "code",
   "execution_count": 9,
   "id": "c4ce3a4f",
   "metadata": {},
   "outputs": [
    {
     "data": {
      "text/plain": [
       "' 01'"
      ]
     },
     "execution_count": 9,
     "metadata": {},
     "output_type": "execute_result"
    }
   ],
   "source": [
    "'%3s' % \"01\""
   ]
  },
  {
   "cell_type": "code",
   "execution_count": 10,
   "id": "9ed08ebb",
   "metadata": {},
   "outputs": [
    {
     "data": {
      "text/plain": [
       "'  01'"
      ]
     },
     "execution_count": 10,
     "metadata": {},
     "output_type": "execute_result"
    }
   ],
   "source": [
    "'%4s' % \"01\""
   ]
  },
  {
   "cell_type": "code",
   "execution_count": 11,
   "id": "8772839c",
   "metadata": {},
   "outputs": [
    {
     "name": "stdout",
     "output_type": "stream",
     "text": [
      "15000\n",
      "150000\n"
     ]
    }
   ],
   "source": [
    "print(15000)\n",
    "print(150000)"
   ]
  },
  {
   "cell_type": "code",
   "execution_count": 14,
   "id": "6dd58f53",
   "metadata": {},
   "outputs": [
    {
     "name": "stdout",
     "output_type": "stream",
     "text": [
      "가격은      15000 입니다.\n",
      "가격은     150000 입니다.\n"
     ]
    }
   ],
   "source": [
    "print('가격은 %10d 입니다.' %15000)\n",
    "print('가격은 %10d 입니다.' %150000)"
   ]
  },
  {
   "cell_type": "markdown",
   "id": "e30c13ff",
   "metadata": {},
   "source": [
    "## 5) 여러 항목 동시에 넣기"
   ]
  },
  {
   "cell_type": "code",
   "execution_count": 17,
   "id": "f6532ed9",
   "metadata": {},
   "outputs": [
    {
     "name": "stdout",
     "output_type": "stream",
     "text": [
      "오늘은 2025년  9월 24일 입니다.\n"
     ]
    }
   ],
   "source": [
    "print('오늘은 %4d년 %2d월 %2d일 입니다.' % (2025,9,24))"
   ]
  },
  {
   "cell_type": "code",
   "execution_count": 18,
   "id": "bead3a37",
   "metadata": {},
   "outputs": [],
   "source": [
    "company = ['삼성전자','LG전자','현대차','대한항공','하나투어']\n",
    "stock_price = [71800,12100,195000,31900,86600]"
   ]
  },
  {
   "cell_type": "code",
   "execution_count": 19,
   "id": "4c52191c",
   "metadata": {},
   "outputs": [
    {
     "name": "stdout",
     "output_type": "stream",
     "text": [
      "삼성전자의 주가는 71800원 입니다.\n",
      "LG전자의 주가는 12100원 입니다.\n",
      "현대차의 주가는 195000원 입니다.\n",
      "대한항공의 주가는 31900원 입니다.\n",
      "하나투어의 주가는 86600원 입니다.\n"
     ]
    }
   ],
   "source": [
    "for com, st in zip(company,stock_price):\n",
    "    print(\"%s의 주가는 %d원 입니다.\" % (com,st))"
   ]
  },
  {
   "cell_type": "code",
   "execution_count": 20,
   "id": "4e1a647d",
   "metadata": {},
   "outputs": [
    {
     "name": "stdout",
     "output_type": "stream",
     "text": [
      "삼성전자의 주가는 71800원 입니다.\n",
      "LG전자의 주가는 12100원 입니다.\n",
      "현대차의 주가는 195000원 입니다.\n",
      "대한항공의 주가는 31900원 입니다.\n",
      "하나투어의 주가는 86600원 입니다.\n"
     ]
    }
   ],
   "source": [
    "for com_st in zip(company,stock_price):\n",
    "    print(\"%s의 주가는 %d원 입니다.\" % com_st)"
   ]
  },
  {
   "cell_type": "markdown",
   "id": "10bac6b2",
   "metadata": {},
   "source": [
    "# 2.format 메서드 사용하기, f-string 문자열 포메팅"
   ]
  },
  {
   "cell_type": "markdown",
   "id": "4555bf69",
   "metadata": {},
   "source": [
    "## 1)format 메서드 사용하기\n",
    "* \"문자열 {인덱스 번호} 문자열 끝\".format(값1,값2)\n",
    "* .format(값1,값2) => 값1 = 0 ,값2 = 1"
   ]
  },
  {
   "cell_type": "code",
   "execution_count": 22,
   "id": "a82fa5d1",
   "metadata": {},
   "outputs": [
    {
     "name": "stdout",
     "output_type": "stream",
     "text": [
      "삼성전자의 주가는 71800입니다.\n"
     ]
    }
   ],
   "source": [
    "print(\"{}의 주가는 {}입니다.\".format('삼성전자',71800))"
   ]
  },
  {
   "cell_type": "code",
   "execution_count": 24,
   "id": "45ade47c",
   "metadata": {},
   "outputs": [
    {
     "name": "stdout",
     "output_type": "stream",
     "text": [
      "71800의 주가는 삼성전자입니다.\n"
     ]
    }
   ],
   "source": [
    "print(\"{1}의 주가는 {0}입니다.\".format('삼성전자',71800))"
   ]
  },
  {
   "cell_type": "code",
   "execution_count": 25,
   "id": "ba1fa771",
   "metadata": {},
   "outputs": [
    {
     "name": "stdout",
     "output_type": "stream",
     "text": [
      "삼성전자의 주가는 삼성전자입니다.\n"
     ]
    }
   ],
   "source": [
    "print(\"{0}의 주가는 {0}입니다.\".format('삼성전자',71800))"
   ]
  },
  {
   "cell_type": "code",
   "execution_count": 31,
   "id": "8459306e",
   "metadata": {},
   "outputs": [
    {
     "name": "stdout",
     "output_type": "stream",
     "text": [
      "삼성전자의 주가는 71500원입니다.\n",
      "삼성전자의 상한가는 93000원입니다.\n",
      "삼성전자의 하한가는 50200원입니다.\n"
     ]
    }
   ],
   "source": [
    "print(\"{0}의 주가는 {1}원입니다.\\n{0}의 상한가는 {3}원입니다.\\n{0}의 하한가는 {2}원입니다.\".format('삼성전자',71500,50200,93000))"
   ]
  },
  {
   "cell_type": "markdown",
   "id": "97fc9dd4",
   "metadata": {},
   "source": [
    "## 2)f-string 포메팅 python 3.6부터 사용 가능\n",
    "* 변수처리를 하지 않으면 직접 입력해야한다."
   ]
  },
  {
   "cell_type": "code",
   "execution_count": 32,
   "id": "4eca858d",
   "metadata": {},
   "outputs": [
    {
     "data": {
      "text/plain": [
       "['삼성전자', 'LG전자', '현대차', '대한항공', '하나투어']"
      ]
     },
     "execution_count": 32,
     "metadata": {},
     "output_type": "execute_result"
    }
   ],
   "source": [
    "company"
   ]
  },
  {
   "cell_type": "code",
   "execution_count": 33,
   "id": "e710f9b5",
   "metadata": {},
   "outputs": [
    {
     "data": {
      "text/plain": [
       "[71800, 12100, 195000, 31900, 86600]"
      ]
     },
     "execution_count": 33,
     "metadata": {},
     "output_type": "execute_result"
    }
   ],
   "source": [
    "stock_price"
   ]
  },
  {
   "cell_type": "code",
   "execution_count": 36,
   "id": "54b19285",
   "metadata": {},
   "outputs": [
    {
     "name": "stdout",
     "output_type": "stream",
     "text": [
      "현대차의 주가는 195000원 입니다.\n"
     ]
    }
   ],
   "source": [
    "print(f'{company[2]}의 주가는 {stock_price[2]}원 입니다.')"
   ]
  },
  {
   "cell_type": "code",
   "execution_count": 38,
   "id": "86679ccb",
   "metadata": {},
   "outputs": [],
   "source": [
    "sam = '삼성전자'\n",
    "sto = 718000\n",
    "low = 50200\n",
    "high = 93000"
   ]
  },
  {
   "cell_type": "code",
   "execution_count": 40,
   "id": "0966a5dd",
   "metadata": {
    "scrolled": true
   },
   "outputs": [
    {
     "name": "stdout",
     "output_type": "stream",
     "text": [
      "삼성전자의 주가는 718000원입니다.\n",
      "삼성전자의 상한가는 93000원입니다.\n",
      "삼성전자의 하한가는 50200원입니다.\n"
     ]
    }
   ],
   "source": [
    "print(f\"{sam}의 주가는 {sto}원입니다.\\n{sam}의 상한가는 {high}원입니다.\\n{sam}의 하한가는 {low}원입니다.\")"
   ]
  },
  {
   "cell_type": "markdown",
   "id": "9936422a",
   "metadata": {},
   "source": [
    "# 3. format메서드와 f-string으로 문자열 정렬하기, 자리수 지정해 출력하기\n",
    "* \"{인덱스:<길이}\".format(값)\n",
    "* f'{값:>길이}"
   ]
  },
  {
   "cell_type": "markdown",
   "id": "29c835ef",
   "metadata": {},
   "source": [
    "* <10: 공간을 10칸 확보하고 글자를 원쪽으로 정렬\n",
    "print('{0:<10}\".format(\"삼성전자\")"
   ]
  },
  {
   "cell_type": "code",
   "execution_count": 43,
   "id": "e3026a9f",
   "metadata": {},
   "outputs": [
    {
     "name": "stdout",
     "output_type": "stream",
     "text": [
      "삼성전자      \n"
     ]
    }
   ],
   "source": [
    "print(\"{0:<10}\".format(\"삼성전자\"))"
   ]
  },
  {
   "cell_type": "code",
   "execution_count": 44,
   "id": "d88bc3cf",
   "metadata": {},
   "outputs": [
    {
     "name": "stdout",
     "output_type": "stream",
     "text": [
      "      삼성전자\n"
     ]
    }
   ],
   "source": [
    "print(\"{0:>10}\".format(\"삼성전자\"))"
   ]
  },
  {
   "cell_type": "code",
   "execution_count": 47,
   "id": "79b314b5",
   "metadata": {},
   "outputs": [
    {
     "data": {
      "text/plain": [
       "'삼성전자      '"
      ]
     },
     "execution_count": 47,
     "metadata": {},
     "output_type": "execute_result"
    }
   ],
   "source": [
    "f\"{sam:<10}\""
   ]
  },
  {
   "cell_type": "code",
   "execution_count": 48,
   "id": "c64c2fb1",
   "metadata": {},
   "outputs": [
    {
     "data": {
      "text/plain": [
       "'      삼성전자'"
      ]
     },
     "execution_count": 48,
     "metadata": {},
     "output_type": "execute_result"
    }
   ],
   "source": [
    "f\"{sam:>10}\""
   ]
  },
  {
   "cell_type": "markdown",
   "id": "4f12179b",
   "metadata": {},
   "source": [
    "### 숫자 표기시 숫자 자리수 맞추고 기본 값 지정하기\n",
    "* '{인덱스:채울 숫자 길이 서식지정자}\".format(값) - 단, 서식지정자에서 %를 뺴고 적는다.\n",
    "* f\"{값:채울 숫자 길이 서식지정자}\""
   ]
  },
  {
   "cell_type": "markdown",
   "id": "ef0b1612",
   "metadata": {},
   "source": [
    "* 정수의 자릿수를 맞출 때"
   ]
  },
  {
   "cell_type": "code",
   "execution_count": 1,
   "id": "3a967495",
   "metadata": {},
   "outputs": [
    {
     "name": "stdout",
     "output_type": "stream",
     "text": [
      "1월\n"
     ]
    }
   ],
   "source": [
    "print(\"{0}월\".format(1))"
   ]
  },
  {
   "cell_type": "code",
   "execution_count": 2,
   "id": "c59d9935",
   "metadata": {},
   "outputs": [
    {
     "name": "stdout",
     "output_type": "stream",
     "text": [
      "01월\n"
     ]
    }
   ],
   "source": [
    "print(\"{0:02d}월\".format(1))"
   ]
  },
  {
   "cell_type": "code",
   "execution_count": 3,
   "id": "d4a92ec8",
   "metadata": {},
   "outputs": [
    {
     "name": "stdout",
     "output_type": "stream",
     "text": [
      "001월\n"
     ]
    }
   ],
   "source": [
    "print(\"{0:03d}월\".format(1))"
   ]
  },
  {
   "cell_type": "code",
   "execution_count": 5,
   "id": "492ecf17",
   "metadata": {},
   "outputs": [
    {
     "name": "stdout",
     "output_type": "stream",
     "text": [
      "10000월\n"
     ]
    }
   ],
   "source": [
    "print(\"{0:03d}월\".format(10000))"
   ]
  },
  {
   "cell_type": "code",
   "execution_count": 6,
   "id": "af97594f",
   "metadata": {},
   "outputs": [
    {
     "name": "stdout",
     "output_type": "stream",
     "text": [
      "01월\n"
     ]
    }
   ],
   "source": [
    "print(f\"{1:02d}월\")"
   ]
  },
  {
   "cell_type": "markdown",
   "id": "7975bb52",
   "metadata": {},
   "source": [
    "* 실수의 자릿수를 맞출 떄\n",
    "* 실수에서 자릿수는 정수+.+소숫점 "
   ]
  },
  {
   "cell_type": "code",
   "execution_count": 8,
   "id": "502f6266",
   "metadata": {},
   "outputs": [
    {
     "name": "stdout",
     "output_type": "stream",
     "text": [
      "2.246\n"
     ]
    }
   ],
   "source": [
    "print(\"{0:03.3f}\".format(2.245678))"
   ]
  },
  {
   "cell_type": "code",
   "execution_count": 9,
   "id": "e0508b84",
   "metadata": {},
   "outputs": [
    {
     "name": "stdout",
     "output_type": "stream",
     "text": [
      "02.246\n"
     ]
    }
   ],
   "source": [
    "print(\"{0:06.3f}\".format(2.245678))"
   ]
  },
  {
   "cell_type": "code",
   "execution_count": 10,
   "id": "8ba6a16d",
   "metadata": {},
   "outputs": [
    {
     "name": "stdout",
     "output_type": "stream",
     "text": [
      "02.2457\n"
     ]
    }
   ],
   "source": [
    "print(\"{0:07.4f}\".format(2.245678))"
   ]
  },
  {
   "cell_type": "code",
   "execution_count": 11,
   "id": "0ffd826f",
   "metadata": {},
   "outputs": [
    {
     "name": "stdout",
     "output_type": "stream",
     "text": [
      "2.24568\n"
     ]
    }
   ],
   "source": [
    "print(\"{0:07.5f}\".format(2.245678))"
   ]
  },
  {
   "cell_type": "markdown",
   "id": "a28f7b2f",
   "metadata": {},
   "source": [
    "* 00시 00분 부터 11시 59분까지 출력하세요. 1자리는  01형식으로 출력하세요"
   ]
  },
  {
   "cell_type": "code",
   "execution_count": 39,
   "id": "6874c9b7",
   "metadata": {},
   "outputs": [
    {
     "ename": "IndentationError",
     "evalue": "expected an indented block (448366838.py, line 4)",
     "output_type": "error",
     "traceback": [
      "\u001b[1;36m  Cell \u001b[1;32mIn[39], line 4\u001b[1;36m\u001b[0m\n\u001b[1;33m    print(f\"{si:02d}시 {bun:02d}분\",end=\"\\r\")\u001b[0m\n\u001b[1;37m    ^\u001b[0m\n\u001b[1;31mIndentationError\u001b[0m\u001b[1;31m:\u001b[0m expected an indented block\n"
     ]
    }
   ],
   "source": [
    "import time\n",
    "for si in range(12):\n",
    "    for bun in range(60):\n",
    "    print(f\"{si:02d}시 {bun:02d}분\",end=\"\\r\")\n",
    "    time.sleep(0.1)"
   ]
  },
  {
   "cell_type": "markdown",
   "id": "6cb2c41a",
   "metadata": {},
   "source": [
    "* 공백을 원하는 문자로 채우고 자릿수 맞추기\n",
    "* {인덱스:원하는 문자/숫자 < > 자릿수}.format(값)\n",
    "* f\"[값:원하는 문자/숫자 < > 자릿수}\""
   ]
  },
  {
   "cell_type": "code",
   "execution_count": 19,
   "id": "b7c530b8",
   "metadata": {},
   "outputs": [
    {
     "data": {
      "text/plain": [
       "'0001'"
      ]
     },
     "execution_count": 19,
     "metadata": {},
     "output_type": "execute_result"
    }
   ],
   "source": [
    "# 빈자리를  0으로 채울 때\n",
    "\"{0:0>4}\".format(1)"
   ]
  },
  {
   "cell_type": "code",
   "execution_count": 21,
   "id": "1765c5a9",
   "metadata": {},
   "outputs": [
    {
     "data": {
      "text/plain": [
       "'0001'"
      ]
     },
     "execution_count": 21,
     "metadata": {},
     "output_type": "execute_result"
    }
   ],
   "source": [
    "f\"{1:0>4}\""
   ]
  },
  {
   "cell_type": "code",
   "execution_count": 22,
   "id": "dd96f202",
   "metadata": {},
   "outputs": [
    {
     "data": {
      "text/plain": [
       "'$$$1'"
      ]
     },
     "execution_count": 22,
     "metadata": {},
     "output_type": "execute_result"
    }
   ],
   "source": [
    "# $로 채울때\n",
    "\"{0:$>4}\".format(1)"
   ]
  },
  {
   "cell_type": "code",
   "execution_count": 23,
   "id": "f4989ca0",
   "metadata": {},
   "outputs": [
    {
     "data": {
      "text/plain": [
       "'$$$1'"
      ]
     },
     "execution_count": 23,
     "metadata": {},
     "output_type": "execute_result"
    }
   ],
   "source": [
    "f\"{1:$>4}\""
   ]
  },
  {
   "cell_type": "code",
   "execution_count": 25,
   "id": "9c31d454",
   "metadata": {},
   "outputs": [
    {
     "data": {
      "text/plain": [
       "'1$$$'"
      ]
     },
     "execution_count": 25,
     "metadata": {},
     "output_type": "execute_result"
    }
   ],
   "source": [
    "f\"{1:$<4}\""
   ]
  },
  {
   "cell_type": "code",
   "execution_count": 38,
   "id": "3ecef66a",
   "metadata": {},
   "outputs": [],
   "source": [
    "url='https://finance.naver.com/sise/sise_trans_style.naver?sosok='"
   ]
  },
  {
   "cell_type": "code",
   "execution_count": 37,
   "id": "34c2d8ef",
   "metadata": {},
   "outputs": [
    {
     "name": "stdout",
     "output_type": "stream",
     "text": [
      "https://finance.naver.com/sise/sise_trans_style.naver?sosok01\n",
      "https://finance.naver.com/sise/sise_trans_style.naver?sosok02\n",
      "https://finance.naver.com/sise/sise_trans_style.naver?sosok03\n",
      "https://finance.naver.com/sise/sise_trans_style.naver?sosok04\n",
      "https://finance.naver.com/sise/sise_trans_style.naver?sosok05\n",
      "https://finance.naver.com/sise/sise_trans_style.naver?sosok06\n",
      "https://finance.naver.com/sise/sise_trans_style.naver?sosok07\n",
      "https://finance.naver.com/sise/sise_trans_style.naver?sosok08\n",
      "https://finance.naver.com/sise/sise_trans_style.naver?sosok09\n",
      "https://finance.naver.com/sise/sise_trans_style.naver?sosok10\n"
     ]
    }
   ],
   "source": [
    "for i in range(1,11):\n",
    "    print(f\"{url}{i:02d}\")"
   ]
  },
  {
   "cell_type": "code",
   "execution_count": null,
   "id": "b3a57eb8",
   "metadata": {},
   "outputs": [],
   "source": []
  }
 ],
 "metadata": {
  "kernelspec": {
   "display_name": "Python 3 (ipykernel)",
   "language": "python",
   "name": "python3"
  },
  "language_info": {
   "codemirror_mode": {
    "name": "ipython",
    "version": 3
   },
   "file_extension": ".py",
   "mimetype": "text/x-python",
   "name": "python",
   "nbconvert_exporter": "python",
   "pygments_lexer": "ipython3",
   "version": "3.9.23"
  }
 },
 "nbformat": 4,
 "nbformat_minor": 5
}
