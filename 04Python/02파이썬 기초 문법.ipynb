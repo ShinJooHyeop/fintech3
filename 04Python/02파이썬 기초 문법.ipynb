{
 "cells": [
  {
   "cell_type": "markdown",
   "id": "2eccea62",
   "metadata": {},
   "source": [
    "# 파이썬 기초 문법\n",
    "* 파이썬의 주석은 문장 앞에 \\#을 붙여서 만든다. crtl+\\/\n",
    "* 파이썬은 들여쓰기를 사용해서 코드를 구분해 작성한다.\n",
    "* 들여쓰기는 4칸이 기본, google colab 2칸\n",
    "* 변수를 만들 때 스네이크 표기법 사용한다. ex)user_name \n",
    "* 클래스를 만들 떄는 카멜 표기법을 사용한다.ex)UserName, userName"
   ]
  },
  {
   "cell_type": "markdown",
   "id": "b19a91a0",
   "metadata": {},
   "source": [
    "# print문\n",
    "\n",
    "* print()안에 있는 내용을 출력해 주는 함수\n",
    "* print(출력할 내용1, 출력할 내용2, .. )\n",
    "* print(출력할 내용이 숫자인 경우 그대로, 문자인 경우 반드시 \"\",'' 사용)\n",
    "* print( 출력할 내용, 옵션) \n",
    "    * sep: 출력할 내용 사이에 오는 구분자 기본값은 공백 \" \"\n",
    "    * end: 출력이 끝난 후에 출력하는 값 기본값은 \\\\n(new line 줄바꿈)"
   ]
  },
  {
   "cell_type": "code",
   "execution_count": 1,
   "id": "d3117be6",
   "metadata": {},
   "outputs": [
    {
     "name": "stdout",
     "output_type": "stream",
     "text": [
      "300\n"
     ]
    }
   ],
   "source": [
    "# 숫자를 출력하는 경우\n",
    "print(300)"
   ]
  },
  {
   "cell_type": "code",
   "execution_count": 2,
   "id": "3a1024d9",
   "metadata": {},
   "outputs": [
    {
     "name": "stdout",
     "output_type": "stream",
     "text": [
      "3.14\n"
     ]
    }
   ],
   "source": [
    "# 실수를 출력하는 경우\n",
    "print(3.14)"
   ]
  },
  {
   "cell_type": "code",
   "execution_count": 3,
   "id": "c8509f34",
   "metadata": {},
   "outputs": [
    {
     "name": "stdout",
     "output_type": "stream",
     "text": [
      "문자 출력\n"
     ]
    }
   ],
   "source": [
    "# 문자를 출력하는 경우\n",
    "print('문자 출력')"
   ]
  },
  {
   "cell_type": "code",
   "execution_count": 4,
   "id": "33e483df",
   "metadata": {},
   "outputs": [
    {
     "name": "stdout",
     "output_type": "stream",
     "text": [
      "문자 출력\n"
     ]
    }
   ],
   "source": [
    "# 문자를 출력하는 경우\n",
    "print('문자 출력')"
   ]
  },
  {
   "cell_type": "code",
   "execution_count": 5,
   "id": "ac2d0b59",
   "metadata": {
    "scrolled": true
   },
   "outputs": [
    {
     "name": "stdout",
     "output_type": "stream",
     "text": [
      "이것은 '파이썬'이다.\n"
     ]
    }
   ],
   "source": [
    "# 따옴표를 같이 출력하고 싶을 때\n",
    "print(\"이것은 '파이썬'이다.\")"
   ]
  },
  {
   "cell_type": "code",
   "execution_count": 11,
   "id": "6552788e",
   "metadata": {
    "scrolled": true
   },
   "outputs": [
    {
     "name": "stdout",
     "output_type": "stream",
     "text": [
      "이것은 \"파이썬\"이다.\n"
     ]
    }
   ],
   "source": [
    "# 따옴표를 같이 출력하고 싶을 때\n",
    "print('이것은 \"파이썬\"이다.')"
   ]
  },
  {
   "cell_type": "code",
   "execution_count": 10,
   "id": "9d1114ee",
   "metadata": {
    "scrolled": true
   },
   "outputs": [
    {
     "name": "stdout",
     "output_type": "stream",
     "text": [
      "이것은 \"파이썬\"이다.\n"
     ]
    }
   ],
   "source": [
    "# 따옴표를 같이 출력하고 싶을 때\n",
    "print(\"이것은 \\\"파이썬\\\"이다.\")"
   ]
  },
  {
   "cell_type": "markdown",
   "id": "c7d0949b",
   "metadata": {},
   "source": [
    "# print문의 옵션\n",
    "\n",
    "* sep: 구분자, print문 안에 여러개의 자료를 출력 할 때 구분해주는 문자.\n",
    "* 기본값: 공백 \" \""
   ]
  },
  {
   "cell_type": "code",
   "execution_count": 12,
   "id": "1dc77a44",
   "metadata": {},
   "outputs": [
    {
     "name": "stdout",
     "output_type": "stream",
     "text": [
      "이것은 파이썬 입니다.\n"
     ]
    }
   ],
   "source": [
    "print(\"이것은\",\"파이썬\",\"입니다.\")"
   ]
  },
  {
   "cell_type": "code",
   "execution_count": 14,
   "id": "17410745",
   "metadata": {},
   "outputs": [
    {
     "name": "stdout",
     "output_type": "stream",
     "text": [
      "이것은,파이썬,입니다.\n"
     ]
    }
   ],
   "source": [
    "print(\"이것은\",\"파이썬\",\"입니다.\", sep=\",\")"
   ]
  },
  {
   "cell_type": "code",
   "execution_count": 15,
   "id": "feb7231b",
   "metadata": {},
   "outputs": [
    {
     "name": "stdout",
     "output_type": "stream",
     "text": [
      "이것은, 파이썬, 입니다.\n"
     ]
    }
   ],
   "source": [
    "print(\"이것은\",\"파이썬\",\"입니다.\", sep=\", \")"
   ]
  },
  {
   "cell_type": "code",
   "execution_count": 16,
   "id": "0f246608",
   "metadata": {
    "scrolled": true
   },
   "outputs": [
    {
     "name": "stdout",
     "output_type": "stream",
     "text": [
      "이것은 vs 파이썬 vs 입니다.\n"
     ]
    }
   ],
   "source": [
    "print(\"이것은\",\"파이썬\",\"입니다.\", sep=\" vs \")"
   ]
  },
  {
   "cell_type": "code",
   "execution_count": 18,
   "id": "c8b70141",
   "metadata": {
    "scrolled": true
   },
   "outputs": [
    {
     "name": "stdout",
     "output_type": "stream",
     "text": [
      "010-2222-3333\n"
     ]
    }
   ],
   "source": [
    "print(\"010\",\"2222\",\"3333\", sep=\"-\")"
   ]
  },
  {
   "cell_type": "markdown",
   "id": "760ecb24",
   "metadata": {},
   "source": [
    "* end옵션 -print가 끝나고 실행될 옵션\n",
    "* 기본값: \\\\n 줄바꿈 new line\n",
    "* 이스케이프문자\n",
    "    * \\\\n: new line 줄바꿈\n",
    "    * \\\\t : tap 탭키 8칸을 띄움\n",
    "    * \\\\r : carrige return 커서를 현재 라인의 가장 앞으로 이동"
   ]
  },
  {
   "cell_type": "code",
   "execution_count": 20,
   "id": "0be0c417",
   "metadata": {},
   "outputs": [
    {
     "name": "stdout",
     "output_type": "stream",
     "text": [
      "헐크 아이언맨 스파이더맨\n",
      "\n",
      "헐크 아이언맨 스파이더맨\n"
     ]
    }
   ],
   "source": [
    "# end 값의 기본 \\\\n\n",
    "print(\"헐크\", \"아이언맨\", \"스파이더맨\")\n",
    "print()\n",
    "print(\"헐크\", \"아이언맨\", \"스파이더맨\")"
   ]
  },
  {
   "cell_type": "code",
   "execution_count": 21,
   "id": "21fd6ab8",
   "metadata": {},
   "outputs": [
    {
     "name": "stdout",
     "output_type": "stream",
     "text": [
      "헐크 아이언맨 스파이더맨\n",
      "\n",
      "헐크 아이언맨 스파이더맨\n"
     ]
    }
   ],
   "source": [
    "# end 값의 기본 \\\\n\n",
    "print(\"헐크\", \"아이언맨\", \"스파이더맨\" , end=\"\\n\\n\")\n",
    "print(\"헐크\", \"아이언맨\", \"스파이더맨\")"
   ]
  },
  {
   "cell_type": "code",
   "execution_count": 23,
   "id": "a25a66ce",
   "metadata": {},
   "outputs": [
    {
     "name": "stdout",
     "output_type": "stream",
     "text": [
      "헐크 아이언맨 스파이더맨, 헐크 아이언맨 스파이더맨\n",
      "헐크 아이언맨 스파이더맨\n"
     ]
    }
   ],
   "source": [
    "# end 값의 기본 문장을 같은줄에 이여서 쓰고 싶을때\n",
    "print(\"헐크\", \"아이언맨\", \"스파이더맨\" , end=\", \")\n",
    "print(\"헐크\", \"아이언맨\", \"스파이더맨\")\n",
    "print(\"헐크\", \"아이언맨\", \"스파이더맨\")"
   ]
  },
  {
   "cell_type": "code",
   "execution_count": 26,
   "id": "f2565b2d",
   "metadata": {},
   "outputs": [
    {
     "name": "stdout",
     "output_type": "stream",
     "text": [
      "헐크 아이언맨 스파이더맨\t헐크 아이언맨 스파이더맨\n",
      "헐크 아이언맨 스파이더맨\n"
     ]
    }
   ],
   "source": [
    "# end 값의 기본 \\\\t\n",
    "print(\"헐크\", \"아이언맨\", \"스파이더맨\" , end=\"\\t\")\n",
    "print(\"헐크\", \"아이언맨\", \"스파이더맨\")\n",
    "print(\"헐크\", \"아이언맨\", \"스파이더맨\")"
   ]
  },
  {
   "cell_type": "code",
   "execution_count": 27,
   "id": "562c434a",
   "metadata": {},
   "outputs": [
    {
     "name": "stdout",
     "output_type": "stream",
     "text": [
      "헐크 아이언맨 스파이더맨\r",
      "캐리지리턴 됨\n"
     ]
    }
   ],
   "source": [
    "# end 값의 기본 \\\\r carrige return 커서를 맨 앞으로 이동\n",
    "print(\"헐크\", \"아이언맨\", \"스파이더맨\" , end=\"\\r\")\n",
    "print(\"캐리지리턴 됨\")"
   ]
  },
  {
   "cell_type": "code",
   "execution_count": 30,
   "id": "7bc2127f",
   "metadata": {},
   "outputs": [
    {
     "name": "stdout",
     "output_type": "stream",
     "text": [
      "0 1 2 3 4 5 6 7 8 9 "
     ]
    }
   ],
   "source": [
    "for i in range(10):\n",
    "    print(i, end=' ')"
   ]
  },
  {
   "cell_type": "code",
   "execution_count": 34,
   "id": "8a2adca4",
   "metadata": {},
   "outputs": [
    {
     "name": "stdout",
     "output_type": "stream",
     "text": [
      "99\r"
     ]
    }
   ],
   "source": [
    "import time\n",
    "for i in range(100):\n",
    "    print(i, end='\\r')\n",
    "    time.sleep(0.3)"
   ]
  },
  {
   "cell_type": "code",
   "execution_count": null,
   "id": "331d6491",
   "metadata": {},
   "outputs": [],
   "source": []
  },
  {
   "cell_type": "code",
   "execution_count": null,
   "id": "b9e01b9d",
   "metadata": {},
   "outputs": [],
   "source": []
  }
 ],
 "metadata": {
  "kernelspec": {
   "display_name": "Python 3 (ipykernel)",
   "language": "python",
   "name": "python3"
  },
  "language_info": {
   "codemirror_mode": {
    "name": "ipython",
    "version": 3
   },
   "file_extension": ".py",
   "mimetype": "text/x-python",
   "name": "python",
   "nbconvert_exporter": "python",
   "pygments_lexer": "ipython3",
   "version": "3.9.23"
  }
 },
 "nbformat": 4,
 "nbformat_minor": 5
}
