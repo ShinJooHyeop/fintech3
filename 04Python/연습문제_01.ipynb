{
 "cells": [
  {
   "cell_type": "code",
   "execution_count": 1,
   "id": "0617ec9f",
   "metadata": {},
   "outputs": [
    {
     "name": "stdout",
     "output_type": "stream",
     "text": [
      "100\n"
     ]
    }
   ],
   "source": [
    "#1\n",
    "print(100)"
   ]
  },
  {
   "cell_type": "code",
   "execution_count": 2,
   "id": "fe23b3c7",
   "metadata": {},
   "outputs": [
    {
     "name": "stdout",
     "output_type": "stream",
     "text": [
      "\"Hello Python\"\n"
     ]
    }
   ],
   "source": [
    "#2\n",
    "print('\"Hello Python\"')"
   ]
  },
  {
   "cell_type": "code",
   "execution_count": 3,
   "id": "b385384f",
   "metadata": {},
   "outputs": [
    {
     "name": "stdout",
     "output_type": "stream",
     "text": [
      "10 20\n"
     ]
    }
   ],
   "source": [
    "#3\n",
    "print(10,20)"
   ]
  },
  {
   "cell_type": "code",
   "execution_count": 9,
   "id": "b17756ef",
   "metadata": {},
   "outputs": [
    {
     "name": "stdout",
     "output_type": "stream",
     "text": [
      "102030\n"
     ]
    }
   ],
   "source": [
    "#4\n",
    "a = 102030\n",
    "print(a)"
   ]
  },
  {
   "cell_type": "code",
   "execution_count": 12,
   "id": "2d6ddbae",
   "metadata": {},
   "outputs": [
    {
     "name": "stdout",
     "output_type": "stream",
     "text": [
      "10,20,30\n"
     ]
    },
    {
     "data": {
      "text/plain": [
       "'10-20-30'"
      ]
     },
     "execution_count": 12,
     "metadata": {},
     "output_type": "execute_result"
    }
   ],
   "source": [
    "#5\n",
    "d = \"10,20,30\"\n",
    "print(d)\n",
    "d.replace(\",\",\"-\")"
   ]
  },
  {
   "cell_type": "code",
   "execution_count": 17,
   "id": "e235d0c0",
   "metadata": {},
   "outputs": [
    {
     "name": "stdout",
     "output_type": "stream",
     "text": [
      "Hello Python\n"
     ]
    }
   ],
   "source": [
    "#6\n",
    "print(\"Hello\",end=\" \")\n",
    "print(\"Python\")"
   ]
  },
  {
   "cell_type": "code",
   "execution_count": 18,
   "id": "65675307",
   "metadata": {},
   "outputs": [
    {
     "name": "stdout",
     "output_type": "stream",
     "text": [
      "12\n"
     ]
    }
   ],
   "source": [
    "#7\n",
    "print(7+5)"
   ]
  },
  {
   "cell_type": "code",
   "execution_count": 19,
   "id": "f28e8099",
   "metadata": {},
   "outputs": [
    {
     "name": "stdout",
     "output_type": "stream",
     "text": [
      "35\n"
     ]
    }
   ],
   "source": [
    "#8\n",
    "print(50-15)"
   ]
  },
  {
   "cell_type": "code",
   "execution_count": 21,
   "id": "bbbafaed",
   "metadata": {},
   "outputs": [
    {
     "name": "stdout",
     "output_type": "stream",
     "text": [
      "16\n"
     ]
    }
   ],
   "source": [
    "#9\n",
    "print(4*4)"
   ]
  },
  {
   "cell_type": "code",
   "execution_count": 22,
   "id": "7e7d96d6",
   "metadata": {},
   "outputs": [
    {
     "name": "stdout",
     "output_type": "stream",
     "text": [
      "5.0\n"
     ]
    }
   ],
   "source": [
    "#10\n",
    "print(20/4)"
   ]
  },
  {
   "cell_type": "code",
   "execution_count": 24,
   "id": "a8c06771",
   "metadata": {},
   "outputs": [
    {
     "name": "stdout",
     "output_type": "stream",
     "text": [
      "6\n"
     ]
    }
   ],
   "source": [
    "#11\n",
    "print(20//3)"
   ]
  },
  {
   "cell_type": "code",
   "execution_count": 25,
   "id": "0891cd8e",
   "metadata": {},
   "outputs": [
    {
     "name": "stdout",
     "output_type": "stream",
     "text": [
      "2\n"
     ]
    }
   ],
   "source": [
    "#12\n",
    "print(20%3)"
   ]
  },
  {
   "cell_type": "code",
   "execution_count": 27,
   "id": "be6f1bc5",
   "metadata": {},
   "outputs": [
    {
     "name": "stdout",
     "output_type": "stream",
     "text": [
      "32\n"
     ]
    }
   ],
   "source": [
    "#13\n",
    "print(2**5)"
   ]
  },
  {
   "cell_type": "code",
   "execution_count": 28,
   "id": "d3d63029",
   "metadata": {},
   "outputs": [
    {
     "name": "stdout",
     "output_type": "stream",
     "text": [
      "11\n"
     ]
    }
   ],
   "source": [
    "#14\n",
    "print(5+3*2)"
   ]
  },
  {
   "cell_type": "code",
   "execution_count": 29,
   "id": "a125ddf5",
   "metadata": {},
   "outputs": [
    {
     "name": "stdout",
     "output_type": "stream",
     "text": [
      "16\n"
     ]
    }
   ],
   "source": [
    "#15\n",
    "print((5+3)*2)"
   ]
  },
  {
   "cell_type": "code",
   "execution_count": 31,
   "id": "52c550c0",
   "metadata": {},
   "outputs": [
    {
     "name": "stdout",
     "output_type": "stream",
     "text": [
      "apple-banana-cherry\n"
     ]
    }
   ],
   "source": [
    "#16\n",
    "print(\"apple\",\"banana\",\"cherry\",sep = \"-\")"
   ]
  },
  {
   "cell_type": "code",
   "execution_count": 32,
   "id": "267c97a7",
   "metadata": {},
   "outputs": [
    {
     "name": "stdout",
     "output_type": "stream",
     "text": [
      "Hello World"
     ]
    }
   ],
   "source": [
    "#17\n",
    "print(\"Hello\",\"World\",end='')"
   ]
  },
  {
   "cell_type": "code",
   "execution_count": 33,
   "id": "05f39482",
   "metadata": {},
   "outputs": [
    {
     "name": "stdout",
     "output_type": "stream",
     "text": [
      "30\n"
     ]
    }
   ],
   "source": [
    "#18\n",
    "a = 10\n",
    "b = 20\n",
    "print(a+b)"
   ]
  },
  {
   "cell_type": "code",
   "execution_count": 38,
   "id": "f115709e",
   "metadata": {},
   "outputs": [
    {
     "name": "stdout",
     "output_type": "stream",
     "text": [
      "33 <class 'int'>\n"
     ]
    }
   ],
   "source": [
    "#19\n",
    "a = 100/3\n",
    "print(int(a),type(int(a)))"
   ]
  },
  {
   "cell_type": "code",
   "execution_count": 39,
   "id": "a6486f04",
   "metadata": {},
   "outputs": [
    {
     "name": "stdout",
     "output_type": "stream",
     "text": [
      "1 2 3 4 5\n"
     ]
    }
   ],
   "source": [
    "#20\n",
    "print(1,2,3,4,5,sep = \" \")"
   ]
  },
  {
   "cell_type": "code",
   "execution_count": 41,
   "id": "7020aa2b",
   "metadata": {},
   "outputs": [
    {
     "name": "stdout",
     "output_type": "stream",
     "text": [
      "55\n"
     ]
    }
   ],
   "source": [
    "#21\n",
    "print(1+2+3+4+5+6+7+8+9+10)"
   ]
  },
  {
   "cell_type": "code",
   "execution_count": 42,
   "id": "01c49218",
   "metadata": {},
   "outputs": [
    {
     "name": "stdout",
     "output_type": "stream",
     "text": [
      "62\n"
     ]
    }
   ],
   "source": [
    "#22\n",
    "print(1*2+3*4*5)"
   ]
  },
  {
   "cell_type": "code",
   "execution_count": 43,
   "id": "c0b75834",
   "metadata": {},
   "outputs": [
    {
     "name": "stdout",
     "output_type": "stream",
     "text": [
      "PythonPythonPython\n"
     ]
    }
   ],
   "source": [
    "#23\n",
    "print(\"Python\"*3)"
   ]
  },
  {
   "cell_type": "code",
   "execution_count": 44,
   "id": "37950746",
   "metadata": {},
   "outputs": [
    {
     "name": "stdout",
     "output_type": "stream",
     "text": [
      "The numbet is 10\n"
     ]
    }
   ],
   "source": [
    "#24\n",
    "print(\"The numbet is\",10)"
   ]
  },
  {
   "cell_type": "code",
   "execution_count": 45,
   "id": "58024123",
   "metadata": {},
   "outputs": [
    {
     "name": "stdout",
     "output_type": "stream",
     "text": [
      "Hello world\n"
     ]
    }
   ],
   "source": [
    "#25\n",
    "print(\"Hello\",end=\" \")\n",
    "print(\"world\")"
   ]
  },
  {
   "cell_type": "code",
   "execution_count": 46,
   "id": "e810af50",
   "metadata": {},
   "outputs": [
    {
     "name": "stdout",
     "output_type": "stream",
     "text": [
      "10\n"
     ]
    }
   ],
   "source": [
    "#26\n",
    "a = 10\n",
    "print(a)"
   ]
  },
  {
   "cell_type": "code",
   "execution_count": 47,
   "id": "81403fe3",
   "metadata": {},
   "outputs": [
    {
     "name": "stdout",
     "output_type": "stream",
     "text": [
      "3.14\n"
     ]
    }
   ],
   "source": [
    "#27\n",
    "b = 3.14\n",
    "print(b)"
   ]
  },
  {
   "cell_type": "code",
   "execution_count": 48,
   "id": "da051e17",
   "metadata": {},
   "outputs": [
    {
     "name": "stdout",
     "output_type": "stream",
     "text": [
      "Python\n"
     ]
    }
   ],
   "source": [
    "#28\n",
    "c = \"Python\"\n",
    "print(c)"
   ]
  },
  {
   "cell_type": "code",
   "execution_count": 49,
   "id": "e19dc2f1",
   "metadata": {},
   "outputs": [
    {
     "name": "stdout",
     "output_type": "stream",
     "text": [
      "True\n"
     ]
    }
   ],
   "source": [
    "#29\n",
    "d = True\n",
    "print(d)"
   ]
  },
  {
   "cell_type": "code",
   "execution_count": 50,
   "id": "4a79af7a",
   "metadata": {},
   "outputs": [
    {
     "name": "stdout",
     "output_type": "stream",
     "text": [
      "<class 'float'>\n"
     ]
    }
   ],
   "source": [
    "#30\n",
    "print(type(b))"
   ]
  },
  {
   "cell_type": "code",
   "execution_count": 51,
   "id": "35fc8bbb",
   "metadata": {},
   "outputs": [
    {
     "data": {
      "text/plain": [
       "11"
      ]
     },
     "execution_count": 51,
     "metadata": {},
     "output_type": "execute_result"
    }
   ],
   "source": [
    "#31\n",
    "len(\"Hello World\")"
   ]
  },
  {
   "cell_type": "code",
   "execution_count": 52,
   "id": "4e64c20c",
   "metadata": {},
   "outputs": [
    {
     "data": {
      "text/plain": [
       "'P'"
      ]
     },
     "execution_count": 52,
     "metadata": {},
     "output_type": "execute_result"
    }
   ],
   "source": [
    "#32\n",
    "c[0]"
   ]
  },
  {
   "cell_type": "code",
   "execution_count": 53,
   "id": "4dc3cc75",
   "metadata": {},
   "outputs": [
    {
     "data": {
      "text/plain": [
       "'n'"
      ]
     },
     "execution_count": 53,
     "metadata": {},
     "output_type": "execute_result"
    }
   ],
   "source": [
    "#33\n",
    "c[5]"
   ]
  },
  {
   "cell_type": "code",
   "execution_count": 58,
   "id": "1fa1fbaa",
   "metadata": {},
   "outputs": [
    {
     "data": {
      "text/plain": [
       "'Programming'"
      ]
     },
     "execution_count": 58,
     "metadata": {},
     "output_type": "execute_result"
    }
   ],
   "source": [
    "#34\n",
    "x = \"Python Programming\"\n",
    "x[7:]"
   ]
  },
  {
   "cell_type": "code",
   "execution_count": 60,
   "id": "5c0648ea",
   "metadata": {},
   "outputs": [
    {
     "name": "stdout",
     "output_type": "stream",
     "text": [
      "PythonPythonPython\n"
     ]
    }
   ],
   "source": [
    "#35\n",
    "print(\"Python\"*3)"
   ]
  },
  {
   "cell_type": "code",
   "execution_count": 62,
   "id": "bcac53e7",
   "metadata": {},
   "outputs": [
    {
     "name": "stdout",
     "output_type": "stream",
     "text": [
      "[1, 2, 3, 4, 5]\n"
     ]
    }
   ],
   "source": [
    "#36\n",
    "numbers = [1,2,3,4,5]\n",
    "print(numbers)"
   ]
  },
  {
   "cell_type": "code",
   "execution_count": 63,
   "id": "742053af",
   "metadata": {},
   "outputs": [
    {
     "data": {
      "text/plain": [
       "1"
      ]
     },
     "execution_count": 63,
     "metadata": {},
     "output_type": "execute_result"
    }
   ],
   "source": [
    "#37\n",
    "numbers[0]"
   ]
  },
  {
   "cell_type": "code",
   "execution_count": 64,
   "id": "19ac276e",
   "metadata": {},
   "outputs": [
    {
     "data": {
      "text/plain": [
       "5"
      ]
     },
     "execution_count": 64,
     "metadata": {},
     "output_type": "execute_result"
    }
   ],
   "source": [
    "#38\n",
    "numbers[4]"
   ]
  },
  {
   "cell_type": "code",
   "execution_count": 65,
   "id": "fcc78107",
   "metadata": {},
   "outputs": [
    {
     "data": {
      "text/plain": [
       "5"
      ]
     },
     "execution_count": 65,
     "metadata": {},
     "output_type": "execute_result"
    }
   ],
   "source": [
    "#39\n",
    "len(numbers)"
   ]
  },
  {
   "cell_type": "code",
   "execution_count": 66,
   "id": "024bc6c6",
   "metadata": {},
   "outputs": [
    {
     "name": "stdout",
     "output_type": "stream",
     "text": [
      "[1, 2, 3, 4, 5, 6]\n"
     ]
    }
   ],
   "source": [
    "#40\n",
    "numbers.append(6)\n",
    "print(numbers)"
   ]
  },
  {
   "cell_type": "code",
   "execution_count": 67,
   "id": "0c662fff",
   "metadata": {},
   "outputs": [
    {
     "name": "stdout",
     "output_type": "stream",
     "text": [
      "[[1, 2, 3], [4, 5, 6], [7, 8, 9]]\n"
     ]
    }
   ],
   "source": [
    "#41\n",
    "nested_list = [[1,2,3],[4,5,6],[7,8,9]]\n",
    "print(nested_list )"
   ]
  },
  {
   "cell_type": "code",
   "execution_count": 68,
   "id": "1710f0ae",
   "metadata": {},
   "outputs": [
    {
     "data": {
      "text/plain": [
       "4"
      ]
     },
     "execution_count": 68,
     "metadata": {},
     "output_type": "execute_result"
    }
   ],
   "source": [
    "#42\n",
    "nested_list[1][0]"
   ]
  },
  {
   "cell_type": "code",
   "execution_count": 69,
   "id": "85ba40d4",
   "metadata": {},
   "outputs": [
    {
     "data": {
      "text/plain": [
       "9"
      ]
     },
     "execution_count": 69,
     "metadata": {},
     "output_type": "execute_result"
    }
   ],
   "source": [
    "#43\n",
    "nested_list [2][2]"
   ]
  },
  {
   "cell_type": "code",
   "execution_count": 70,
   "id": "92322e8a",
   "metadata": {},
   "outputs": [
    {
     "name": "stdout",
     "output_type": "stream",
     "text": [
      "((1, 2), (3, 4, 5), (6, 7, 8, 9))\n"
     ]
    }
   ],
   "source": [
    "#44\n",
    "nested_tuple=((1,2),(3,4,5),(6,7,8,9))\n",
    "print(nested_tuple)"
   ]
  },
  {
   "cell_type": "code",
   "execution_count": 72,
   "id": "268837bf",
   "metadata": {},
   "outputs": [
    {
     "data": {
      "text/plain": [
       "4"
      ]
     },
     "execution_count": 72,
     "metadata": {},
     "output_type": "execute_result"
    }
   ],
   "source": [
    "#45\n",
    "nested_tuple[1][1]"
   ]
  },
  {
   "cell_type": "code",
   "execution_count": 73,
   "id": "e480b0da",
   "metadata": {},
   "outputs": [
    {
     "name": "stdout",
     "output_type": "stream",
     "text": [
      "{'name': 'Alice', 'info': {'age': 25, 'city': 'seoul'}}\n"
     ]
    }
   ],
   "source": [
    "#46\n",
    "person = {\"name\":\"Alice\",\"info\":{\"age\":25,'city':'seoul'}}\n",
    "print(person)"
   ]
  },
  {
   "cell_type": "code",
   "execution_count": 81,
   "id": "2c004d09",
   "metadata": {},
   "outputs": [
    {
     "name": "stdout",
     "output_type": "stream",
     "text": [
      "25\n"
     ]
    }
   ],
   "source": [
    "#47\n",
    "print(person[\"info\"][\"age\"])"
   ]
  },
  {
   "cell_type": "code",
   "execution_count": 142,
   "id": "68f8894d",
   "metadata": {},
   "outputs": [
    {
     "name": "stdout",
     "output_type": "stream",
     "text": [
      "{'info': [{'name': 'Alice', 'scores': (95, 88, 92)}, {'name': 'Bob', 'scores': (78, 85, 89)}], 'extra': {'hobbies': ['reading', 'coding'], 'location': ('Seoul', 'Busan')}}\n"
     ]
    }
   ],
   "source": [
    "#48\n",
    "data = {'info':[{'name':'Alice','scores':(95,88,92)},\n",
    "       {'name':'Bob','scores':(78,85,89)}],\n",
    "       'extra':{'hobbies':['reading','coding'],'location':('Seoul','Busan')}}\n",
    "print(data)"
   ]
  },
  {
   "cell_type": "code",
   "execution_count": 143,
   "id": "0aec5950",
   "metadata": {},
   "outputs": [
    {
     "name": "stdout",
     "output_type": "stream",
     "text": [
      "95\n"
     ]
    }
   ],
   "source": [
    "#49\n",
    "print(data['info'][0]['scores'][0])"
   ]
  },
  {
   "cell_type": "code",
   "execution_count": 144,
   "id": "88b02ce6",
   "metadata": {},
   "outputs": [
    {
     "name": "stdout",
     "output_type": "stream",
     "text": [
      "89\n"
     ]
    }
   ],
   "source": [
    "#50\n",
    "print(data['info'][1]['scores'][2])"
   ]
  },
  {
   "cell_type": "code",
   "execution_count": 145,
   "id": "16f669b7",
   "metadata": {},
   "outputs": [
    {
     "name": "stdout",
     "output_type": "stream",
     "text": [
      "coding\n"
     ]
    }
   ],
   "source": [
    "#51\n",
    "print(data['extra']['hobbies'][1])"
   ]
  },
  {
   "cell_type": "code",
   "execution_count": 146,
   "id": "49985493",
   "metadata": {},
   "outputs": [
    {
     "name": "stdout",
     "output_type": "stream",
     "text": [
      "Busan\n"
     ]
    }
   ],
   "source": [
    "#52\n",
    "print(data['extra']['location'][1])"
   ]
  },
  {
   "cell_type": "code",
   "execution_count": 147,
   "id": "5975d91b",
   "metadata": {},
   "outputs": [
    {
     "name": "stdout",
     "output_type": "stream",
     "text": [
      "[95, 88, 92]\n"
     ]
    }
   ],
   "source": [
    "#53\n",
    "print(list(data['info'][0]['scores']))"
   ]
  },
  {
   "cell_type": "code",
   "execution_count": 164,
   "id": "48c729dd",
   "metadata": {},
   "outputs": [
    {
     "data": {
      "text/plain": [
       "84.0"
      ]
     },
     "execution_count": 164,
     "metadata": {},
     "output_type": "execute_result"
    }
   ],
   "source": [
    "#54\n",
    "t = data['info'][1]['scores']\n",
    "sum(t)/3"
   ]
  },
  {
   "cell_type": "code",
   "execution_count": 149,
   "id": "91ce16ab",
   "metadata": {},
   "outputs": [],
   "source": [
    "#55\n",
    "data['school']=['XYZ High']"
   ]
  },
  {
   "cell_type": "code",
   "execution_count": 150,
   "id": "731d8dd9",
   "metadata": {},
   "outputs": [
    {
     "name": "stdout",
     "output_type": "stream",
     "text": [
      "{'info': [{'name': 'Alice', 'scores': (95, 88, 92)}, {'name': 'Bob', 'scores': (78, 85, 89)}], 'extra': {'hobbies': ['reading', 'coding'], 'location': ('Seoul', 'Busan')}, 'school': ['XYZ High']}\n"
     ]
    }
   ],
   "source": [
    "print(data)"
   ]
  },
  {
   "cell_type": "code",
   "execution_count": 151,
   "id": "49ebc87d",
   "metadata": {},
   "outputs": [],
   "source": [
    "#56\n",
    "data['extra']['hobbies']=['reading','coding','gaming']"
   ]
  },
  {
   "cell_type": "code",
   "execution_count": 152,
   "id": "efad5531",
   "metadata": {},
   "outputs": [
    {
     "name": "stdout",
     "output_type": "stream",
     "text": [
      "['reading', 'coding', 'gaming']\n"
     ]
    }
   ],
   "source": [
    "print(data['extra']['hobbies'])"
   ]
  },
  {
   "cell_type": "code",
   "execution_count": 153,
   "id": "97292bbc",
   "metadata": {},
   "outputs": [],
   "source": [
    "#57\n",
    "data['info'][0]['scores']=[95,90,92]"
   ]
  },
  {
   "cell_type": "code",
   "execution_count": 154,
   "id": "3643b8b7",
   "metadata": {},
   "outputs": [
    {
     "name": "stdout",
     "output_type": "stream",
     "text": [
      "{'info': [{'name': 'Alice', 'scores': [95, 90, 92]}, {'name': 'Bob', 'scores': (78, 85, 89)}], 'extra': {'hobbies': ['reading', 'coding', 'gaming'], 'location': ('Seoul', 'Busan')}, 'school': ['XYZ High']}\n"
     ]
    }
   ],
   "source": [
    "print(data)"
   ]
  },
  {
   "cell_type": "code",
   "execution_count": 155,
   "id": "93f5daea",
   "metadata": {},
   "outputs": [
    {
     "data": {
      "text/plain": [
       "78"
      ]
     },
     "execution_count": 155,
     "metadata": {},
     "output_type": "execute_result"
    }
   ],
   "source": [
    "#58\n",
    "data['info'][1]['scores'][0]"
   ]
  },
  {
   "cell_type": "code",
   "execution_count": 162,
   "id": "660c67e9",
   "metadata": {},
   "outputs": [
    {
     "data": {
      "text/plain": [
       "277"
      ]
     },
     "execution_count": 162,
     "metadata": {},
     "output_type": "execute_result"
    }
   ],
   "source": [
    "#59\n",
    "r = data['info'][0]['scores']\n",
    "sum(r)"
   ]
  },
  {
   "cell_type": "code",
   "execution_count": 198,
   "id": "162d4175",
   "metadata": {},
   "outputs": [
    {
     "name": "stdout",
     "output_type": "stream",
     "text": [
      "Seoul에 사는 Alice는 coding을 좋아합니다.\n"
     ]
    }
   ],
   "source": [
    "#60\n",
    "print(data['extra']['location'][0],'에 사는 ',data['info'][0]['name'],'는 ',data['extra']['hobbies'][1],'을 좋아합니다.',sep='')\n"
   ]
  },
  {
   "cell_type": "code",
   "execution_count": null,
   "id": "399e937b",
   "metadata": {},
   "outputs": [],
   "source": []
  }
 ],
 "metadata": {
  "kernelspec": {
   "display_name": "Python 3 (ipykernel)",
   "language": "python",
   "name": "python3"
  },
  "language_info": {
   "codemirror_mode": {
    "name": "ipython",
    "version": 3
   },
   "file_extension": ".py",
   "mimetype": "text/x-python",
   "name": "python",
   "nbconvert_exporter": "python",
   "pygments_lexer": "ipython3",
   "version": "3.9.23"
  }
 },
 "nbformat": 4,
 "nbformat_minor": 5
}
