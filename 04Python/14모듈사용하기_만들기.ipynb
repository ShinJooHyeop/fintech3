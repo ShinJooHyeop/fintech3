{
 "cells": [
  {
   "cell_type": "markdown",
   "id": "1e368f51",
   "metadata": {},
   "source": [
    "# 모듈\n",
    "* 누군가가 미리 사용하기 편하게 만들어 놓은 함수, 클래스\n",
    "* import 명령을 이용해서 프로그램 가장 위에서 모듈을 불러와 사용할 수 있음\n",
    "* 모듈에 너무 많은 기능이 있는 경우 from 모듈명 import 함수/클래스 형식으로 일부 기능만 불러올 수도 있음\n",
    "* 모듈은 사용자가 직접 만들 수도 있음\n",
    "* 사용자 모듈을 불러올 떄는 실행하는 파일과 같은 위치에 있어야함"
   ]
  },
  {
   "cell_type": "markdown",
   "id": "2d633941",
   "metadata": {},
   "source": [
    "# datetime 모듈 사용하기"
   ]
  },
  {
   "cell_type": "code",
   "execution_count": 1,
   "id": "3dec3efc",
   "metadata": {},
   "outputs": [],
   "source": [
    "from datetime import datetime"
   ]
  },
  {
   "cell_type": "code",
   "execution_count": 2,
   "id": "16d5d40a",
   "metadata": {},
   "outputs": [
    {
     "data": {
      "text/plain": [
       "datetime.datetime(2025, 10, 13, 9, 47, 52, 897485)"
      ]
     },
     "execution_count": 2,
     "metadata": {},
     "output_type": "execute_result"
    }
   ],
   "source": [
    "datetime.now()"
   ]
  },
  {
   "cell_type": "code",
   "execution_count": 3,
   "id": "17458fd2",
   "metadata": {},
   "outputs": [
    {
     "name": "stdout",
     "output_type": "stream",
     "text": [
      "2025-10-13 09:47:52.931725\n"
     ]
    }
   ],
   "source": [
    "now = datetime.now()\n",
    "print(now)"
   ]
  },
  {
   "cell_type": "code",
   "execution_count": 4,
   "id": "3a57bc08",
   "metadata": {},
   "outputs": [
    {
     "data": {
      "text/plain": [
       "2025"
      ]
     },
     "execution_count": 4,
     "metadata": {},
     "output_type": "execute_result"
    }
   ],
   "source": [
    "now.year"
   ]
  },
  {
   "cell_type": "code",
   "execution_count": 5,
   "id": "08d6a5d1",
   "metadata": {},
   "outputs": [
    {
     "name": "stdout",
     "output_type": "stream",
     "text": [
      "<class 'datetime.datetime'>\n"
     ]
    }
   ],
   "source": [
    "print(type(now))"
   ]
  },
  {
   "cell_type": "code",
   "execution_count": 6,
   "id": "4148d0f7",
   "metadata": {},
   "outputs": [
    {
     "data": {
      "text/plain": [
       "10"
      ]
     },
     "execution_count": 6,
     "metadata": {},
     "output_type": "execute_result"
    }
   ],
   "source": [
    "now.month"
   ]
  },
  {
   "cell_type": "code",
   "execution_count": 7,
   "id": "7a0d4949",
   "metadata": {},
   "outputs": [
    {
     "data": {
      "text/plain": [
       "13"
      ]
     },
     "execution_count": 7,
     "metadata": {},
     "output_type": "execute_result"
    }
   ],
   "source": [
    "now.day"
   ]
  },
  {
   "cell_type": "markdown",
   "id": "113cda9d",
   "metadata": {},
   "source": [
    "'2025-10-13'"
   ]
  },
  {
   "cell_type": "code",
   "execution_count": 8,
   "id": "305eb7a5",
   "metadata": {},
   "outputs": [
    {
     "name": "stdout",
     "output_type": "stream",
     "text": [
      "2025-10-13\n"
     ]
    }
   ],
   "source": [
    "print(f\"{now.year}-{now.month}-{now.day}\")"
   ]
  },
  {
   "cell_type": "code",
   "execution_count": 9,
   "id": "ad9c12af",
   "metadata": {},
   "outputs": [
    {
     "data": {
      "text/plain": [
       "9"
      ]
     },
     "execution_count": 9,
     "metadata": {},
     "output_type": "execute_result"
    }
   ],
   "source": [
    "now.hour"
   ]
  },
  {
   "cell_type": "code",
   "execution_count": 10,
   "id": "615113a9",
   "metadata": {},
   "outputs": [
    {
     "data": {
      "text/plain": [
       "47"
      ]
     },
     "execution_count": 10,
     "metadata": {},
     "output_type": "execute_result"
    }
   ],
   "source": [
    "now.minute"
   ]
  },
  {
   "cell_type": "code",
   "execution_count": 11,
   "id": "6c276e9d",
   "metadata": {},
   "outputs": [
    {
     "data": {
      "text/plain": [
       "52"
      ]
     },
     "execution_count": 11,
     "metadata": {},
     "output_type": "execute_result"
    }
   ],
   "source": [
    "now.second"
   ]
  },
  {
   "cell_type": "markdown",
   "id": "e4f445d9",
   "metadata": {},
   "source": [
    "시간을 포멧에 맞춰 출력하기 strftime(%Y,%m)"
   ]
  },
  {
   "cell_type": "code",
   "execution_count": 12,
   "id": "08582451",
   "metadata": {},
   "outputs": [
    {
     "data": {
      "text/plain": [
       "'2025.10.13 09:47:52'"
      ]
     },
     "execution_count": 12,
     "metadata": {},
     "output_type": "execute_result"
    }
   ],
   "source": [
    "now.strftime(\"%Y.%m.%d %H:%M:%S\")"
   ]
  },
  {
   "cell_type": "markdown",
   "id": "590b288f",
   "metadata": {},
   "source": [
    "# OS모듈\n",
    "* cmd명령어를 python 코드에서 실행하는 모듈"
   ]
  },
  {
   "cell_type": "code",
   "execution_count": 13,
   "id": "40138deb",
   "metadata": {},
   "outputs": [],
   "source": [
    "import os"
   ]
  },
  {
   "cell_type": "code",
   "execution_count": 14,
   "id": "0fdfff33",
   "metadata": {},
   "outputs": [
    {
     "name": "stdout",
     "output_type": "stream",
     "text": [
      "현재 운영체제: nt\n",
      "현재 사용하는 폴더: c:\\fintech3\\04Python\n",
      "현재 폴더 내부의 파일 리스트:  ['.ipynb_checkpoints', '01주피터노트북 사용법.ipynb', '02파이썬 기초 문법.ipynb', '03변수_자료형_연산자.ipynb', '04문자열과_문자열 함수_input.ipynb', '05리스트와 튜플 사용하기.ipynb', '06딕셔너리사용하기.ipynb', '07서식지정자와 문자열 포메팅.ipynb', '08조건문.ipynb', '09반복문_while.ipynb', '10리스트표현식_파일읽기쓰기_json자료정리.ipynb', '11JSON데이터 언패킹해서 CSV파일로 만들기.ipynb', '12함수만들기_예외처리.ipynb', '13클래스_객체지향형프로그래밍.ipynb', '14모듈사용하기_만들기.ipynb', 'data', 'mymodule.py', 'new_name.txt', 'testdir', '__pycache__', '연습.ipynb', '연습문제 03 문제풀이.ipynb', '연습문제04  문제풀이.ipynb', '연습문제05.ipynb', '연습문제_01 문제풀이.ipynb', '초보자를 위한 파이썬 300제.ipynb']\n"
     ]
    }
   ],
   "source": [
    "# 내가 사용하는 컴퓨터의 기본정보 출력하기\n",
    "print('현재 운영체제:',os.name)\n",
    "print('현재 사용하는 폴더:',os.getcwd())\n",
    "print('현재 폴더 내부의 파일 리스트: ',os.listdir())"
   ]
  },
  {
   "cell_type": "code",
   "execution_count": 15,
   "id": "9363c28c",
   "metadata": {},
   "outputs": [
    {
     "ename": "FileExistsError",
     "evalue": "[WinError 183] 파일이 이미 있으므로 만들 수 없습니다: 'testdir'",
     "output_type": "error",
     "traceback": [
      "\u001b[1;31m---------------------------------------------------------------------------\u001b[0m",
      "\u001b[1;31mFileExistsError\u001b[0m                           Traceback (most recent call last)",
      "Cell \u001b[1;32mIn[15], line 2\u001b[0m\n\u001b[0;32m      1\u001b[0m \u001b[38;5;66;03m# 현재 위치에서 폴더 만들기\u001b[39;00m\n\u001b[1;32m----> 2\u001b[0m \u001b[43mos\u001b[49m\u001b[38;5;241;43m.\u001b[39;49m\u001b[43mmkdir\u001b[49m\u001b[43m(\u001b[49m\u001b[38;5;124;43m\"\u001b[39;49m\u001b[38;5;124;43mtestdir\u001b[39;49m\u001b[38;5;124;43m\"\u001b[39;49m\u001b[43m)\u001b[49m\n",
      "\u001b[1;31mFileExistsError\u001b[0m: [WinError 183] 파일이 이미 있으므로 만들 수 없습니다: 'testdir'"
     ]
    }
   ],
   "source": [
    "# 현재 위치에서 폴더 만들기\n",
    "os.mkdir(\"testdir\")"
   ]
  },
  {
   "cell_type": "code",
   "execution_count": null,
   "id": "72371f23",
   "metadata": {},
   "outputs": [],
   "source": [
    "# 현재 위치에서 폴더 삭제하기\n",
    "os.rmdir(\"testdir\")"
   ]
  },
  {
   "cell_type": "code",
   "execution_count": 22,
   "id": "a50d1569",
   "metadata": {},
   "outputs": [
    {
     "data": {
      "text/plain": [
       "0"
      ]
     },
     "execution_count": 22,
     "metadata": {},
     "output_type": "execute_result"
    }
   ],
   "source": [
    "# cmd 명령어 실행하기 실행 완료 0 ,실패하면 1 결과는 cmd 창에 출력된다.\n",
    "os.system(\"dir\")"
   ]
  },
  {
   "cell_type": "code",
   "execution_count": null,
   "id": "7e6289dc",
   "metadata": {},
   "outputs": [],
   "source": [
    "# 파일을 생성하고 파일 이름 변경하기\n",
    "with open(\"origianl.txt\", 'w') as file:\n",
    "    file.write(\"안녕하세요\")"
   ]
  },
  {
   "cell_type": "code",
   "execution_count": null,
   "id": "683027cb",
   "metadata": {},
   "outputs": [],
   "source": [
    "os.rename(\"origianl.txt\", \"new_name.txt\")"
   ]
  },
  {
   "cell_type": "code",
   "execution_count": null,
   "id": "5e295d8c",
   "metadata": {},
   "outputs": [],
   "source": [
    "# 폴더가 있는지  확인하고 없으면 폴더 생성하기\n",
    "if not os.path.exists(\"./tesdir\"):\n",
    "    os.mkdir(\"testdir\")\n",
    "else:\n",
    "    print(\"testdir이 이미 있습니다.\")"
   ]
  },
  {
   "cell_type": "code",
   "execution_count": null,
   "id": "7cb1038e",
   "metadata": {},
   "outputs": [],
   "source": [
    "# 환경변수에 변수와 값 추가하기/ 읽어오기, 현재파일이 실행되는 동안에만 저장됨\n",
    "os.environ['key'] = \"value\"\n",
    "\n",
    "#등록된 환경변수 값 불러오기\n",
    "print(os.environ.get('key'))"
   ]
  },
  {
   "cell_type": "markdown",
   "id": "6bc9acb8",
   "metadata": {},
   "source": [
    "# 내가 만든 함수,클래스 불러와서 사용하기"
   ]
  },
  {
   "cell_type": "code",
   "execution_count": 16,
   "id": "658716ea",
   "metadata": {},
   "outputs": [],
   "source": [
    "from mymodule import Cal , add"
   ]
  },
  {
   "cell_type": "code",
   "execution_count": 17,
   "id": "bd9c8ca5",
   "metadata": {},
   "outputs": [
    {
     "data": {
      "text/plain": [
       "7"
      ]
     },
     "execution_count": 17,
     "metadata": {},
     "output_type": "execute_result"
    }
   ],
   "source": [
    "add(3,4)"
   ]
  },
  {
   "cell_type": "code",
   "execution_count": 18,
   "id": "d8459270",
   "metadata": {},
   "outputs": [],
   "source": [
    "sam = Cal(3,4)"
   ]
  },
  {
   "cell_type": "code",
   "execution_count": 19,
   "id": "ba016da3",
   "metadata": {},
   "outputs": [
    {
     "data": {
      "text/plain": [
       "7"
      ]
     },
     "execution_count": 19,
     "metadata": {},
     "output_type": "execute_result"
    }
   ],
   "source": [
    "sam.add()"
   ]
  },
  {
   "cell_type": "code",
   "execution_count": 20,
   "id": "9853357b",
   "metadata": {},
   "outputs": [
    {
     "data": {
      "text/plain": [
       "-1"
      ]
     },
     "execution_count": 20,
     "metadata": {},
     "output_type": "execute_result"
    }
   ],
   "source": [
    "sam.sub()"
   ]
  },
  {
   "cell_type": "code",
   "execution_count": null,
   "id": "e8e224d3",
   "metadata": {},
   "outputs": [],
   "source": []
  }
 ],
 "metadata": {
  "kernelspec": {
   "display_name": "Python 3 (ipykernel)",
   "language": "python",
   "name": "python3"
  },
  "language_info": {
   "codemirror_mode": {
    "name": "ipython",
    "version": 3
   },
   "file_extension": ".py",
   "mimetype": "text/x-python",
   "name": "python",
   "nbconvert_exporter": "python",
   "pygments_lexer": "ipython3",
   "version": "3.9.23"
  }
 },
 "nbformat": 4,
 "nbformat_minor": 5
}
