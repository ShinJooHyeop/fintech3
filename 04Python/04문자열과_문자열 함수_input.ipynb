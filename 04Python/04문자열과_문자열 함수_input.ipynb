{
 "cells": [
  {
   "cell_type": "markdown",
   "id": "de48cf8e",
   "metadata": {},
   "source": [
    "# input(): 키보드 입력을 받는 함수\n",
    "* input(화면에 표시할 메세지\")\n",
    "* 입력 받는 값은 \" \" (공백)으로 구분해서 여러개를 받을 수 있음\n",
    "* 입력 받는 값은 모두 str 타입의 문자열로 받음"
   ]
  },
  {
   "cell_type": "code",
   "execution_count": 1,
   "id": "89f57e47",
   "metadata": {},
   "outputs": [
    {
     "name": "stdout",
     "output_type": "stream",
     "text": [
      "이름을 입력해 주세요홍길동 둘리 \n",
      "홍길동 둘리 \n"
     ]
    }
   ],
   "source": [
    "# input으로 입력된 값은 모두 1개의 문자열로 변수에 저장된다.\n",
    "name = input(\"이름을 입력해 주세요\")\n",
    "print(name)"
   ]
  },
  {
   "cell_type": "code",
   "execution_count": 2,
   "id": "c786d2db",
   "metadata": {},
   "outputs": [
    {
     "data": {
      "text/plain": [
       "'홍길동 둘리 '"
      ]
     },
     "execution_count": 2,
     "metadata": {},
     "output_type": "execute_result"
    }
   ],
   "source": [
    "name"
   ]
  },
  {
   "cell_type": "code",
   "execution_count": 5,
   "id": "e7710bf6",
   "metadata": {},
   "outputs": [
    {
     "name": "stdout",
     "output_type": "stream",
     "text": [
      "<class 'str'>\n"
     ]
    }
   ],
   "source": [
    "print(type(name))"
   ]
  },
  {
   "cell_type": "code",
   "execution_count": 6,
   "id": "a1410fa5",
   "metadata": {},
   "outputs": [
    {
     "name": "stdout",
     "output_type": "stream",
     "text": [
      "숫자를 3개 입력해 주세요10 20 30\n",
      "10 20 30 <class 'str'>\n"
     ]
    }
   ],
   "source": [
    "nums = input(\"숫자를 3개 입력해 주세요\")\n",
    "print(nums, type(nums))"
   ]
  },
  {
   "cell_type": "code",
   "execution_count": 7,
   "id": "9258f942",
   "metadata": {},
   "outputs": [
    {
     "data": {
      "text/plain": [
       "'10 20 30'"
      ]
     },
     "execution_count": 7,
     "metadata": {},
     "output_type": "execute_result"
    }
   ],
   "source": [
    "nums"
   ]
  },
  {
   "cell_type": "markdown",
   "id": "efc80c50",
   "metadata": {},
   "source": [
    "# input().split()으로 여러 데이터를 list 형태로 받기\n",
    "* split 함수는 공백(구분자)을 기준으로 자료를 나누어 list로 만들어 줌"
   ]
  },
  {
   "cell_type": "code",
   "execution_count": 9,
   "id": "4bbf1091",
   "metadata": {},
   "outputs": [
    {
     "name": "stdout",
     "output_type": "stream",
     "text": [
      "숫자를 3개 입력해 주세요10 20 30\n",
      "['10', '20', '30'] <class 'list'>\n"
     ]
    }
   ],
   "source": [
    "nums = input(\"숫자를 3개 입력해 주세요\").split()\n",
    "print(nums, type(nums))"
   ]
  },
  {
   "cell_type": "code",
   "execution_count": 10,
   "id": "19e8d565",
   "metadata": {},
   "outputs": [
    {
     "data": {
      "text/plain": [
       "['10', '20', '30']"
      ]
     },
     "execution_count": 10,
     "metadata": {},
     "output_type": "execute_result"
    }
   ],
   "source": [
    "nums"
   ]
  },
  {
   "cell_type": "code",
   "execution_count": 13,
   "id": "3805b6db",
   "metadata": {},
   "outputs": [
    {
     "data": {
      "text/plain": [
       "'30'"
      ]
     },
     "execution_count": 13,
     "metadata": {},
     "output_type": "execute_result"
    }
   ],
   "source": [
    "nums[2]"
   ]
  },
  {
   "cell_type": "code",
   "execution_count": 15,
   "id": "15cd9a85",
   "metadata": {},
   "outputs": [
    {
     "data": {
      "text/plain": [
       "'1020'"
      ]
     },
     "execution_count": 15,
     "metadata": {},
     "output_type": "execute_result"
    }
   ],
   "source": [
    "# 문자이기 때문에 이런 결과가 나온다.\n",
    "nums[0]+nums[1]"
   ]
  },
  {
   "cell_type": "code",
   "execution_count": 16,
   "id": "7fa5a908",
   "metadata": {},
   "outputs": [
    {
     "data": {
      "text/plain": [
       "30"
      ]
     },
     "execution_count": 16,
     "metadata": {},
     "output_type": "execute_result"
    }
   ],
   "source": [
    "int(nums[0]) + int(nums[1])"
   ]
  },
  {
   "cell_type": "code",
   "execution_count": 17,
   "id": "765ff88b",
   "metadata": {},
   "outputs": [
    {
     "name": "stdout",
     "output_type": "stream",
     "text": [
      "숫자를 3개 입력해 주세요10 20 30\n",
      "10 20 30 <class 'str'> <class 'str'> <class 'str'>\n"
     ]
    }
   ],
   "source": [
    "num1, num2, num3 = input(\"숫자를 3개 입력해 주세요\").split()\n",
    "print(num1,num2,num3, type(num1),type(num2),type(num3))"
   ]
  },
  {
   "cell_type": "code",
   "execution_count": 20,
   "id": "2b56da3b",
   "metadata": {},
   "outputs": [
    {
     "name": "stdout",
     "output_type": "stream",
     "text": [
      "숫자를 3개 입력해 주세요10 20 30\n"
     ]
    },
    {
     "ename": "ValueError",
     "evalue": "too many values to unpack (expected 2)",
     "output_type": "error",
     "traceback": [
      "\u001b[1;31m---------------------------------------------------------------------------\u001b[0m",
      "\u001b[1;31mValueError\u001b[0m                                Traceback (most recent call last)",
      "Cell \u001b[1;32mIn[20], line 1\u001b[0m\n\u001b[1;32m----> 1\u001b[0m num1, num2 \u001b[38;5;241m=\u001b[39m \u001b[38;5;28minput\u001b[39m(\u001b[38;5;124m\"\u001b[39m\u001b[38;5;124m숫자를 3개 입력해 주세요\u001b[39m\u001b[38;5;124m\"\u001b[39m)\u001b[38;5;241m.\u001b[39msplit()\n\u001b[0;32m      2\u001b[0m \u001b[38;5;28mprint\u001b[39m(num1,num2, \u001b[38;5;28mtype\u001b[39m(num1),\u001b[38;5;28mtype\u001b[39m(num2))\n",
      "\u001b[1;31mValueError\u001b[0m: too many values to unpack (expected 2)"
     ]
    }
   ],
   "source": [
    "num1, num2 = input(\"숫자를 3개 입력해 주세요\").split()\n",
    "print(num1,num2, type(num1),type(num2))"
   ]
  },
  {
   "cell_type": "markdown",
   "id": "37676e2a",
   "metadata": {},
   "source": [
    "# 문자열과 문자열 함수"
   ]
  },
  {
   "cell_type": "markdown",
   "id": "2c3d994a",
   "metadata": {},
   "source": [
    "## 인덱싱과 슬라이싱 \n",
    "* 문자: 글자 1개\n",
    "* 문자열 : 글자 여러개 => 순서가 있다. => 앞에서 부터 0,1,2 .. 순으로 번호가 매겨짐\n",
    "* 순서가 있는 자료는 번호를 불러서 그 번호에 해당하는 자료를 꺼낼 수 있다."
   ]
  },
  {
   "cell_type": "markdown",
   "id": "919ee70a",
   "metadata": {},
   "source": [
    "* 인덱싱 변수명[인덱스 번호]로 자료 1개를 꺼내는 것"
   ]
  },
  {
   "cell_type": "code",
   "execution_count": 22,
   "id": "67203757",
   "metadata": {},
   "outputs": [
    {
     "name": "stdout",
     "output_type": "stream",
     "text": [
      "문자열은 왼쪽부터 번호를 매길 수 있으며 시작은 0번부터 입니다.\n"
     ]
    }
   ],
   "source": [
    "h1 = '문자열은 왼쪽부터 번호를 매길 수 있으며 시작은 0번부터 입니다.'\n",
    "print(h1)"
   ]
  },
  {
   "cell_type": "code",
   "execution_count": 23,
   "id": "3e053f5e",
   "metadata": {},
   "outputs": [
    {
     "data": {
      "text/plain": [
       "'번'"
      ]
     },
     "execution_count": 23,
     "metadata": {},
     "output_type": "execute_result"
    }
   ],
   "source": [
    "# h1변수에서 인덱스 10번의 자료를 추출하세요\n",
    "h1[10]"
   ]
  },
  {
   "cell_type": "markdown",
   "id": "aef02f48",
   "metadata": {},
   "source": [
    "* 슬라이싱 변수명[시작인덱스:끝인덱스+1:간격]\n",
    "* 시작인덱스와 끝 인덱스는 생략이 가능\n",
    "    * [:10] => 시작부터 9번 인덱스까지 슬라이스\n",
    "    * [5:] => 인덱스 5번부터 시작해서 끝까지 슬라이스\n",
    "    * [:] => 전체를 다 가져와라\n",
    "    * [::2] => 전체 자료에서 2칸씩 건너 뛰면서 슬라이스\n",
    "    * [::-1] => 전체 자료를 연순 정렬"
   ]
  },
  {
   "cell_type": "code",
   "execution_count": 24,
   "id": "9ebd29e3",
   "metadata": {},
   "outputs": [
    {
     "data": {
      "text/plain": [
       "'문자열은 왼쪽부터 번호를 매길 수 있으며 시작은 0번부터 입니다.'"
      ]
     },
     "execution_count": 24,
     "metadata": {},
     "output_type": "execute_result"
    }
   ],
   "source": [
    "# h1에서 '번호를' 만을 추출하세요.\n",
    "h1"
   ]
  },
  {
   "cell_type": "code",
   "execution_count": 25,
   "id": "0130d16f",
   "metadata": {},
   "outputs": [
    {
     "data": {
      "text/plain": [
       "'번호를'"
      ]
     },
     "execution_count": 25,
     "metadata": {},
     "output_type": "execute_result"
    }
   ],
   "source": [
    "h1[10:13]"
   ]
  },
  {
   "cell_type": "code",
   "execution_count": 26,
   "id": "d2a21ee6",
   "metadata": {},
   "outputs": [
    {
     "data": {
      "text/plain": [
       "'문자열은 왼쪽부터 번호를 매길'"
      ]
     },
     "execution_count": 26,
     "metadata": {},
     "output_type": "execute_result"
    }
   ],
   "source": [
    "# h1인덱스 0번부터 15번까지 추출하세요\n",
    "h1[:16]"
   ]
  },
  {
   "cell_type": "code",
   "execution_count": 27,
   "id": "d7c37589",
   "metadata": {},
   "outputs": [
    {
     "data": {
      "text/plain": [
       "'길 수 있으며 시작은 0번부터 입니다.'"
      ]
     },
     "execution_count": 27,
     "metadata": {},
     "output_type": "execute_result"
    }
   ],
   "source": [
    "# h1인덱스 15번부터 끝까지 추출하세요\n",
    "h1[15:]"
   ]
  },
  {
   "cell_type": "code",
   "execution_count": 29,
   "id": "39a62f9f",
   "metadata": {},
   "outputs": [
    {
     "data": {
      "text/plain": [
       "'자은왼부 호 길수있며시은0부 니.'"
      ]
     },
     "execution_count": 29,
     "metadata": {},
     "output_type": "execute_result"
    }
   ],
   "source": [
    "# h1인덱스 1번부터 끝까지 2칸씩 건너 뛰면서 추출하세요\n",
    "h1[1::2]"
   ]
  },
  {
   "cell_type": "code",
   "execution_count": 30,
   "id": "78175ccb",
   "metadata": {},
   "outputs": [
    {
     "data": {
      "text/plain": [
       "'.다니입 터부번0 은작시 며으있 수 길매 를호번 터부쪽왼 은열자문'"
      ]
     },
     "execution_count": 30,
     "metadata": {},
     "output_type": "execute_result"
    }
   ],
   "source": [
    "# h1의 자료를 연순 정렬하세요\n",
    "h1[::-1]"
   ]
  },
  {
   "cell_type": "markdown",
   "id": "991a0d71",
   "metadata": {},
   "source": [
    "# 문자열 함수\n",
    "* replacr() : 값을 찾아서 바꾸는 함수\n",
    "* split() : 공백을 기준으로 자료를 나눠서 **리스트 변형**\n",
    "* join() : 기준자를 통해서 리스트를 하나의 **문자열로 변형++\n",
    "* strip() : 문자열 외부의 공백제거, 공백+특수분자 제거"
   ]
  },
  {
   "cell_type": "markdown",
   "id": "7146f1d6",
   "metadata": {},
   "source": [
    "##  문자열 바꾸기 replace(찾을 값, 바꿀 값, 반복횟수-1)\n",
    "* relpace함수는 사용후 결과는 재할당 해야 함."
   ]
  },
  {
   "cell_type": "code",
   "execution_count": 36,
   "id": "4f5becd2",
   "metadata": {},
   "outputs": [
    {
     "data": {
      "text/plain": [
       "'He!ll!o Python!'"
      ]
     },
     "execution_count": 36,
     "metadata": {},
     "output_type": "execute_result"
    }
   ],
   "source": [
    "h2 = \"He!ll!o Python!\"\n",
    "h2"
   ]
  },
  {
   "cell_type": "code",
   "execution_count": 37,
   "id": "fd496fcc",
   "metadata": {},
   "outputs": [
    {
     "data": {
      "text/plain": [
       "'Hello Python'"
      ]
     },
     "execution_count": 37,
     "metadata": {},
     "output_type": "execute_result"
    }
   ],
   "source": [
    "h2.replace(\"!\",\"\")"
   ]
  },
  {
   "cell_type": "code",
   "execution_count": 39,
   "id": "ccf6ecf3",
   "metadata": {},
   "outputs": [],
   "source": [
    "# 마지막 느낌표는 살리고 싶을 떄\n",
    "h2 = h2.replace(\"!\",\"\",2)"
   ]
  },
  {
   "cell_type": "code",
   "execution_count": 40,
   "id": "46cf1717",
   "metadata": {},
   "outputs": [
    {
     "data": {
      "text/plain": [
       "'Hello Python!'"
      ]
     },
     "execution_count": 40,
     "metadata": {},
     "output_type": "execute_result"
    }
   ],
   "source": [
    "h2"
   ]
  },
  {
   "cell_type": "code",
   "execution_count": 44,
   "id": "027f1738",
   "metadata": {},
   "outputs": [
    {
     "data": {
      "text/plain": [
       "'He!ll!o# Python!'"
      ]
     },
     "execution_count": 44,
     "metadata": {},
     "output_type": "execute_result"
    }
   ],
   "source": [
    "h3 = \"He!ll!o# Python!\"\n",
    "h3"
   ]
  },
  {
   "cell_type": "markdown",
   "id": "ed8829d7",
   "metadata": {},
   "source": [
    "## 함수의 체인메서드 함수를 .으로 연결새 중첩사용 가능"
   ]
  },
  {
   "cell_type": "code",
   "execution_count": 46,
   "id": "4fc27e7f",
   "metadata": {},
   "outputs": [
    {
     "data": {
      "text/plain": [
       "'Hello Python!'"
      ]
     },
     "execution_count": 46,
     "metadata": {},
     "output_type": "execute_result"
    }
   ],
   "source": [
    "# h3에서 !와#을 어벗애고 마지막 !는 남겨두세요.\n",
    "h3 = h3.replace(\"!\",\"\",2).replace(\"#\",\"\")\n",
    "h3"
   ]
  },
  {
   "cell_type": "markdown",
   "id": "829f3cf5",
   "metadata": {},
   "source": [
    "## split()\n",
    "* 공백을 기준으로 자료를 나눠서 list 만들어줌\n",
    "* 구분자를 따로 지정해서 사용 가능"
   ]
  },
  {
   "cell_type": "code",
   "execution_count": 47,
   "id": "8898b472",
   "metadata": {},
   "outputs": [
    {
     "data": {
      "text/plain": [
       "['문자열은', '왼쪽부터', '번호를', '매길', '수', '있어요.']"
      ]
     },
     "execution_count": 47,
     "metadata": {},
     "output_type": "execute_result"
    }
   ],
   "source": [
    "h4 = \"문자열은 왼쪽부터 번호를 매길 수 있어요.\"\n",
    "h4_list = h4.split()\n",
    "h4_list"
   ]
  },
  {
   "cell_type": "code",
   "execution_count": 49,
   "id": "91914291",
   "metadata": {},
   "outputs": [
    {
     "data": {
      "text/plain": [
       "['문자열은', ' 왼쪽부터', ' 번호를', ' 매길', ' 수', ' 있어요.']"
      ]
     },
     "execution_count": 49,
     "metadata": {},
     "output_type": "execute_result"
    }
   ],
   "source": [
    "# split() ()안에 원하는 기준점을 설정하면 그것을 기준으로 구분한다.\n",
    "h5 = \"문자열은, 왼쪽부터, 번호를, 매길, 수, 있어요.\"\n",
    "h5_list = h5.split(\",\")\n",
    "h5_list"
   ]
  },
  {
   "cell_type": "code",
   "execution_count": 50,
   "id": "67f89708",
   "metadata": {},
   "outputs": [
    {
     "data": {
      "text/plain": [
       "4"
      ]
     },
     "execution_count": 50,
     "metadata": {},
     "output_type": "execute_result"
    }
   ],
   "source": [
    "len(h5_list[0])"
   ]
  },
  {
   "cell_type": "code",
   "execution_count": 51,
   "id": "4b1db495",
   "metadata": {},
   "outputs": [
    {
     "data": {
      "text/plain": [
       "['문자열은', '왼쪽부터', '번호를', '매길', '수', '있어요.']"
      ]
     },
     "execution_count": 51,
     "metadata": {},
     "output_type": "execute_result"
    }
   ],
   "source": [
    "# 공백까지 없애고 싶으면 구분자에 공백까지 포함하면 된다.\n",
    "h5 = \"문자열은, 왼쪽부터, 번호를, 매길, 수, 있어요.\"\n",
    "h5_list = h5.split(\", \")\n",
    "h5_list"
   ]
  },
  {
   "cell_type": "markdown",
   "id": "479bbf9f",
   "metadata": {},
   "source": [
    "## join()\n",
    "* 리스트,튜플을 하나의 문자열로 만들어주는 함수\n",
    "* 합칠기준.join(list/tuple)"
   ]
  },
  {
   "cell_type": "code",
   "execution_count": 52,
   "id": "3c51d959",
   "metadata": {},
   "outputs": [
    {
     "data": {
      "text/plain": [
       "['문자열은', '왼쪽부터', '번호를', '매길', '수', '있어요.']"
      ]
     },
     "execution_count": 52,
     "metadata": {},
     "output_type": "execute_result"
    }
   ],
   "source": [
    "h5_list"
   ]
  },
  {
   "cell_type": "code",
   "execution_count": 53,
   "id": "1bb795f0",
   "metadata": {},
   "outputs": [
    {
     "data": {
      "text/plain": [
       "'문자열은 왼쪽부터 번호를 매길 수 있어요.'"
      ]
     },
     "execution_count": 53,
     "metadata": {},
     "output_type": "execute_result"
    }
   ],
   "source": [
    "# 공백을 구분자로 해서 합치기\n",
    "' '.join(h5_list)"
   ]
  },
  {
   "cell_type": "code",
   "execution_count": 54,
   "id": "87b3a7de",
   "metadata": {},
   "outputs": [
    {
     "data": {
      "text/plain": [
       "['문자열은', '왼쪽부터', '번호를', '매길', '수', '있어요.']"
      ]
     },
     "execution_count": 54,
     "metadata": {},
     "output_type": "execute_result"
    }
   ],
   "source": [
    "# join도 재할당을 해야지 저장됨\n",
    "h5_list"
   ]
  },
  {
   "cell_type": "code",
   "execution_count": 55,
   "id": "c7c1ffa2",
   "metadata": {},
   "outputs": [
    {
     "data": {
      "text/plain": [
       "['문자열은', '왼쪽부터', '번호를', '매길', '수', '있어요.']"
      ]
     },
     "execution_count": 55,
     "metadata": {},
     "output_type": "execute_result"
    }
   ],
   "source": [
    "# :을 구분자로 해서 합치기\n",
    "h5_list"
   ]
  },
  {
   "cell_type": "code",
   "execution_count": 56,
   "id": "076bfdff",
   "metadata": {},
   "outputs": [
    {
     "data": {
      "text/plain": [
       "'문자열은:왼쪽부터:번호를:매길:수:있어요.'"
      ]
     },
     "execution_count": 56,
     "metadata": {},
     "output_type": "execute_result"
    }
   ],
   "source": [
    "\":\".join(h5_list)"
   ]
  },
  {
   "cell_type": "markdown",
   "id": "5bf5abed",
   "metadata": {},
   "source": [
    "# strip()\n",
    "* 문자열의 양쪽 공백과 특정문자 제거\n",
    "* lstrip() : 왼쪽 공백 삭제\n",
    "* rstrip() : 오른쪽 공백 삭제\n",
    "* strip() : 양쪽 공백 삭제"
   ]
  },
  {
   "cell_type": "code",
   "execution_count": 57,
   "id": "1795cd06",
   "metadata": {},
   "outputs": [
    {
     "data": {
      "text/plain": [
       "'    공백이 있는 문자열    '"
      ]
     },
     "execution_count": 57,
     "metadata": {},
     "output_type": "execute_result"
    }
   ],
   "source": [
    "h6 =\"    공백이 있는 문자열    \"\n",
    "h6"
   ]
  },
  {
   "cell_type": "code",
   "execution_count": 58,
   "id": "f04b7665",
   "metadata": {},
   "outputs": [
    {
     "data": {
      "text/plain": [
       "'공백이 있는 문자열    '"
      ]
     },
     "execution_count": 58,
     "metadata": {},
     "output_type": "execute_result"
    }
   ],
   "source": [
    "h6.lstrip()"
   ]
  },
  {
   "cell_type": "code",
   "execution_count": 59,
   "id": "8419821d",
   "metadata": {},
   "outputs": [
    {
     "data": {
      "text/plain": [
       "'    공백이 있는 문자열'"
      ]
     },
     "execution_count": 59,
     "metadata": {},
     "output_type": "execute_result"
    }
   ],
   "source": [
    "h6.rstrip()"
   ]
  },
  {
   "cell_type": "code",
   "execution_count": 60,
   "id": "41d3c968",
   "metadata": {},
   "outputs": [
    {
     "data": {
      "text/plain": [
       "'공백이 있는 문자열'"
      ]
     },
     "execution_count": 60,
     "metadata": {},
     "output_type": "execute_result"
    }
   ],
   "source": [
    "h6.strip()"
   ]
  },
  {
   "cell_type": "markdown",
   "id": "299da791",
   "metadata": {},
   "source": [
    "* 공백과 특수문자가 섞여 있는 경우 strip(\"지울문자+공백\")"
   ]
  },
  {
   "cell_type": "code",
   "execution_count": 61,
   "id": "82fdd1f7",
   "metadata": {},
   "outputs": [
    {
     "data": {
      "text/plain": [
       "'...,    공백과 특수문자가 같이 있는  문자열 !! ^^ ㅋㅋㅋㅋ '"
      ]
     },
     "execution_count": 61,
     "metadata": {},
     "output_type": "execute_result"
    }
   ],
   "source": [
    "h7 = \"...,    공백과 특수문자가 같이 있는  문자열 !! ^^ ㅋㅋㅋㅋ \"\n",
    "h7"
   ]
  },
  {
   "cell_type": "code",
   "execution_count": 63,
   "id": "bf627336",
   "metadata": {},
   "outputs": [
    {
     "data": {
      "text/plain": [
       "'공백과 특수문자가 같이 있는  문자열 !! ^^ ㅋㅋㅋㅋ '"
      ]
     },
     "execution_count": 63,
     "metadata": {},
     "output_type": "execute_result"
    }
   ],
   "source": [
    "h7.lstrip(\"., \")"
   ]
  },
  {
   "cell_type": "code",
   "execution_count": 65,
   "id": "e24734bd",
   "metadata": {},
   "outputs": [
    {
     "data": {
      "text/plain": [
       "'...,    공백과 특수문자가 같이 있는  문자열'"
      ]
     },
     "execution_count": 65,
     "metadata": {},
     "output_type": "execute_result"
    }
   ],
   "source": [
    "h7.rstrip(\"!^ㅋ \")"
   ]
  },
  {
   "cell_type": "code",
   "execution_count": 66,
   "id": "a9e62df0",
   "metadata": {},
   "outputs": [
    {
     "data": {
      "text/plain": [
       "'공백과 특수문자가 같이 있는  문자열'"
      ]
     },
     "execution_count": 66,
     "metadata": {},
     "output_type": "execute_result"
    }
   ],
   "source": [
    "h7.strip(\".,!^ㅋ \")"
   ]
  },
  {
   "cell_type": "code",
   "execution_count": 67,
   "id": "3f86abf4",
   "metadata": {},
   "outputs": [
    {
     "data": {
      "text/plain": [
       "'...,    공백과 특수문자^$가 같이 있!ㅋ는  문자열 !! ^^ ㅋㅋㅋㅋ '"
      ]
     },
     "execution_count": 67,
     "metadata": {},
     "output_type": "execute_result"
    }
   ],
   "source": [
    "h8 = \"...,    공백과 특수문자^$가 같이 있!ㅋ는  문자열 !! ^^ ㅋㅋㅋㅋ \"\n",
    "h8"
   ]
  },
  {
   "cell_type": "code",
   "execution_count": 71,
   "id": "a96e92ac",
   "metadata": {},
   "outputs": [
    {
     "data": {
      "text/plain": [
       "'공백과 특수문자가 같이 있는  문자열'"
      ]
     },
     "execution_count": 71,
     "metadata": {},
     "output_type": "execute_result"
    }
   ],
   "source": [
    "h8.replace('!','').replace(\"^\",'').replace('$','').replace('ㅋ','').strip(\"., \")"
   ]
  },
  {
   "cell_type": "code",
   "execution_count": 73,
   "id": "b3141ae3",
   "metadata": {},
   "outputs": [
    {
     "data": {
      "text/plain": [
       "'...,    공백과 특수문자^$가\\t 같이 있!ㅋ는\\n  문자열 !! ^^ ㅋㅋㅋㅋ '"
      ]
     },
     "execution_count": 73,
     "metadata": {},
     "output_type": "execute_result"
    }
   ],
   "source": [
    "h9 = \"...,    공백과 특수문자^$가\\t 같이 있!ㅋ는\\n  문자열 !! ^^ ㅋㅋㅋㅋ \"\n",
    "h9"
   ]
  },
  {
   "cell_type": "code",
   "execution_count": 74,
   "id": "712207ca",
   "metadata": {},
   "outputs": [
    {
     "name": "stdout",
     "output_type": "stream",
     "text": [
      "...,    공백과 특수문자^$가\t 같이 있!ㅋ는\n",
      "  문자열 !! ^^ ㅋㅋㅋㅋ \n"
     ]
    }
   ],
   "source": [
    "print(h9)"
   ]
  },
  {
   "cell_type": "code",
   "execution_count": 76,
   "id": "842a52fb",
   "metadata": {},
   "outputs": [
    {
     "data": {
      "text/plain": [
       "'공백과 특수문자가 같이 있는  문자열'"
      ]
     },
     "execution_count": 76,
     "metadata": {},
     "output_type": "execute_result"
    }
   ],
   "source": [
    "h9.replace('\\t','').replace('\\n','').replace('!','').replace(\"^\",'').replace('$','').replace('ㅋ','').strip(\"., \")"
   ]
  },
  {
   "cell_type": "markdown",
   "id": "6b51f56d",
   "metadata": {},
   "source": [
    "## 소문자/대문자 변환 함수\n",
    "* upper() : 모두 대문자로 만드는 함수\n",
    "* lower() : 모두 소문자로 만드는 함수"
   ]
  },
  {
   "cell_type": "code",
   "execution_count": 77,
   "id": "19db69cc",
   "metadata": {},
   "outputs": [
    {
     "name": "stdout",
     "output_type": "stream",
     "text": [
      "iron-man sprider-man hulk\n"
     ]
    }
   ],
   "source": [
    "h10 = \"iron-man sprider-man hulk\"\n",
    "print(h10)"
   ]
  },
  {
   "cell_type": "code",
   "execution_count": 80,
   "id": "f536acf4",
   "metadata": {},
   "outputs": [],
   "source": [
    "h10 = h10.upper()"
   ]
  },
  {
   "cell_type": "code",
   "execution_count": 81,
   "id": "9d3f393a",
   "metadata": {},
   "outputs": [
    {
     "data": {
      "text/plain": [
       "'IRON-MAN SPRIDER-MAN HULK'"
      ]
     },
     "execution_count": 81,
     "metadata": {},
     "output_type": "execute_result"
    }
   ],
   "source": [
    "h10"
   ]
  },
  {
   "cell_type": "code",
   "execution_count": 85,
   "id": "a311efa0",
   "metadata": {},
   "outputs": [
    {
     "data": {
      "text/plain": [
       "'iron-man sprider-man hulk'"
      ]
     },
     "execution_count": 85,
     "metadata": {},
     "output_type": "execute_result"
    }
   ],
   "source": [
    "h10 = h10.lower()\n",
    "h10"
   ]
  },
  {
   "cell_type": "markdown",
   "id": "0b19864c",
   "metadata": {},
   "source": [
    "# 문자열 함수 연습\n",
    "* 아래의 문자열에서 리뷰 글 부분만 추출해서 1개의 문자열 만들고 .!^^등의 특수문자를 제거하세요.문자열 양 옆도 제거하세요.\n",
    "* 리뷰 글 부분만 추출\n",
    "* 한개의 문장으로 만들기\n",
    "* 특수문자와 불필요한 공백 지우기"
   ]
  },
  {
   "cell_type": "code",
   "execution_count": 1,
   "id": "85ad06c8",
   "metadata": {},
   "outputs": [],
   "source": [
    "test1 = '''344,622642,더 호텔 수 (THE HOTEL SOO),family,1박 가족 여행,2018년 5월 21일,8.0,\"위치 : 이순신 광장과는 반대편이라 차량으로 이동해야 합니다. 루프탑에서의\n",
    "바다 경치는 좋습니다.\n",
    "시설 : 깔끔하고 좋습니다. 패밀리룸을 사용 했는데 저녁6시쯤 갔더니 마지막 방이라며 2층을 배정 받았습니다. 창문을 여니 약간 쓰레기 냄새가 났고 바다가 보이지 않습니다.        \n",
    "루프탑 : 바베큐 세트가 저렴 했던거 같고 경치가 좋습니다. 수영장도 있었는데 계절이 아닌지.... \n",
    "    하지만 여름이면 좋을것 같습니다. 주차장은 장소가 넓지 않았던거 같고, 저녁에 나갔다 왔더니 야외 공터에 차를 대라고 하였습니다.    \n",
    "주말 저녁이라 그런지 가격을 제법 비싸게 준거 같은데... 2층이라 마음에 들지 않았습니다. 옆에 조선소 같은게 있어 쫌 보기에 좋지 않았습니다......................................'''"
   ]
  },
  {
   "cell_type": "code",
   "execution_count": 2,
   "id": "37028b7e",
   "metadata": {},
   "outputs": [],
   "source": [
    "test1 = test1.split(\",\")"
   ]
  },
  {
   "cell_type": "code",
   "execution_count": 3,
   "id": "955b451b",
   "metadata": {
    "scrolled": true
   },
   "outputs": [],
   "source": [
    "test1 = test1[7:]"
   ]
  },
  {
   "cell_type": "code",
   "execution_count": 4,
   "id": "a0bc63f7",
   "metadata": {},
   "outputs": [
    {
     "data": {
      "text/plain": [
       "2"
      ]
     },
     "execution_count": 4,
     "metadata": {},
     "output_type": "execute_result"
    }
   ],
   "source": [
    "len(test1)"
   ]
  },
  {
   "cell_type": "code",
   "execution_count": 5,
   "id": "6c3cecd9",
   "metadata": {},
   "outputs": [
    {
     "data": {
      "text/plain": [
       "417"
      ]
     },
     "execution_count": 5,
     "metadata": {},
     "output_type": "execute_result"
    }
   ],
   "source": [
    "test1 =\" \".join(test1)\n",
    "len(test1)"
   ]
  },
  {
   "cell_type": "code",
   "execution_count": 9,
   "id": "9805a5e3",
   "metadata": {},
   "outputs": [],
   "source": [
    "test1 = test1.replace('\\n',' ').replace(\":\",\"\").replace(\".\",\" \").replace('\"',\"\").replace(\"  \",\"\")"
   ]
  },
  {
   "cell_type": "code",
   "execution_count": 10,
   "id": "fc2ee80d",
   "metadata": {
    "scrolled": false
   },
   "outputs": [
    {
     "data": {
      "text/plain": [
       "'위치이순신 광장과는 반대편이라 차량으로 이동해야 합니다루프탑에서의 바다 경치는 좋습니다시설깔끔하고 좋습니다패밀리룸을 사용 했는데 저녁6시쯤 갔더니 마지막 방이라며 2층을 배정 받았습니다창문을 여니 약간 쓰레기 냄새가 났고 바다가 보이지 않습니다루프탑바베큐 세트가 저렴 했던거 같고 경치가 좋습니다수영장도 있었는데 계절이 아닌지하지만 여름이면 좋을것 같습니다주차장은 장소가 넓지 않았던거 같고저녁에 나갔다 왔더니 야외 공터에 차를 대라고 하였습니다주말 저녁이라 그런지 가격을 제법 비싸게 준거 같은데2층이라 마음에 들지 않았습니다옆에 조선소 같은게 있어 쫌 보기에 좋지 않았습니다'"
      ]
     },
     "execution_count": 10,
     "metadata": {},
     "output_type": "execute_result"
    }
   ],
   "source": [
    "test1"
   ]
  },
  {
   "cell_type": "code",
   "execution_count": 2,
   "id": "5a3d429f",
   "metadata": {},
   "outputs": [],
   "source": [
    "test2= \"18062,427535,파크 하얏트 부산 (Park Hyatt Busan),family,2박 가족 여행,2019년 12월 29일,10.0,결혼 1주년 기념으로 아이랑 신랑이랑 다녀왔어요~ 룸컨디션 너무 좋았고 뷰가 최고였습니다! 2박 머물렀는데 청소도 깔끔하게 해주시고 애기가 이불에 살짝 토했는데도 바로 갈아주시고 좋았습니다~ 대신 창가쪽 커튼 한쪽이 떨어져있어서 조금 거슬렸구요... 창가에 침실이 있다보니 암막커튼을 치지 않으면 조금 쌀쌀한 느낌은 있었어요! 아 그리고 아기때문에 침대에 가드를 부탁드렸는데 가드가 너무 별로였습니다... 가드 구실을 못하고 넘 허술하게 매트리스 아래 그냥 끼워진거라 아기가 밤새 두번이나 가드사이에 빠졌습니다... 이점 좀 아쉬워요 ! 그 외에는 다이닝룸 리빙룸, 바까지 모두 이용했는데 서비스 좋았습니다~~!\""
   ]
  },
  {
   "cell_type": "code",
   "execution_count": 3,
   "id": "48b8ac68",
   "metadata": {
    "scrolled": false
   },
   "outputs": [],
   "source": [
    "test2 = test2.split(\",\")"
   ]
  },
  {
   "cell_type": "code",
   "execution_count": 4,
   "id": "8d005782",
   "metadata": {},
   "outputs": [
    {
     "data": {
      "text/plain": [
       "['결혼 1주년 기념으로 아이랑 신랑이랑 다녀왔어요~ 룸컨디션 너무 좋았고 뷰가 최고였습니다! 2박 머물렀는데 청소도 깔끔하게 해주시고 애기가 이불에 살짝 토했는데도 바로 갈아주시고 좋았습니다~ 대신 창가쪽 커튼 한쪽이 떨어져있어서 조금 거슬렸구요... 창가에 침실이 있다보니 암막커튼을 치지 않으면 조금 쌀쌀한 느낌은 있었어요! 아 그리고 아기때문에 침대에 가드를 부탁드렸는데 가드가 너무 별로였습니다... 가드 구실을 못하고 넘 허술하게 매트리스 아래 그냥 끼워진거라 아기가 밤새 두번이나 가드사이에 빠졌습니다... 이점 좀 아쉬워요 ! 그 외에는 다이닝룸 리빙룸',\n",
       " ' 바까지 모두 이용했는데 서비스 좋았습니다~~!']"
      ]
     },
     "execution_count": 4,
     "metadata": {},
     "output_type": "execute_result"
    }
   ],
   "source": [
    "test2 = test2[7:]\n",
    "test2"
   ]
  },
  {
   "cell_type": "code",
   "execution_count": 5,
   "id": "a2c78df7",
   "metadata": {},
   "outputs": [
    {
     "data": {
      "text/plain": [
       "2"
      ]
     },
     "execution_count": 5,
     "metadata": {},
     "output_type": "execute_result"
    }
   ],
   "source": [
    "len(test2)"
   ]
  },
  {
   "cell_type": "code",
   "execution_count": 12,
   "id": "36158867",
   "metadata": {},
   "outputs": [
    {
     "data": {
      "text/plain": [
       "342"
      ]
     },
     "execution_count": 12,
     "metadata": {},
     "output_type": "execute_result"
    }
   ],
   "source": [
    "test2 =\" \".join(test2)\n",
    "len(test2)"
   ]
  },
  {
   "cell_type": "code",
   "execution_count": 5,
   "id": "4840a3c9",
   "metadata": {
    "scrolled": true
   },
   "outputs": [
    {
     "data": {
      "text/plain": [
       "'7535,파크 하얏트 부산 (Park Hyatt Busan),family,2박 가족 여행,2019년 12월 29일,10.0,결혼 1주년 기념으로 아이랑 신랑이랑 다녀왔어요~ 룸컨디션 너무 좋았고 뷰가 최고였습니다! 2박 머물렀는데 청소도 깔끔하게 해주시고 애기가 이불에 살짝 토했는데도 바로 갈아주시고 좋았습니다~ 대신 창가쪽 커튼 한쪽이 떨어져있어서 조금 거슬렸구요... 창가에 침실이 있다보니 암막커튼을 치지 않으면 조금 쌀쌀한 느낌은 있었어요! 아 그리고 아기때문에 침대에 가드를 부탁드렸는데 가드가 너무 별로였습니다... 가드 구실을 못하고 넘 허술하게 매트리스 아래 그냥 끼워진거라 아기가 밤새 두번이나 가드사이에 빠졌습니다... 이점 좀 아쉬워요 ! 그 외에는 다이닝룸 리빙룸, 바까지 모두 이용했는데 서비스 좋았습니다~~!'"
      ]
     },
     "execution_count": 5,
     "metadata": {},
     "output_type": "execute_result"
    }
   ],
   "source": [
    "test2"
   ]
  },
  {
   "cell_type": "code",
   "execution_count": 13,
   "id": "93f270c0",
   "metadata": {},
   "outputs": [
    {
     "data": {
      "text/plain": [
       "'7535 파크 하얏트 부산 (Park Hyatt Busan) family 2박 가족 여행 2019년 12월 29일 10 0 결혼 1주년 기념으로 아이랑 신랑이랑 다녀왔어요 룸컨디션 너무 좋았고 뷰가 최고였습니다 2박 머물렀는데 청소도 깔끔하게 해주시고 애기가 이불에 살짝 토했는데도 바로 갈아주시고 좋았습니다 대신 창가쪽 커튼 한쪽이 떨어져있어서 조금 거슬렸구요    창가에 침실이 있다보니 암막커튼을 치지 않으면 조금 쌀쌀한 느낌은 있었어요 아 그리고 아기때문에 침대에 가드를 부탁드렸는데 가드가 너무 별로였습니다    가드 구실을 못하고 넘 허술하게 매트리스 아래 그냥 끼워진거라 아기가 밤새 두번이나 가드사이에 빠졌습니다    이점 좀 아쉬워요  그 외에는 다이닝룸 리빙룸  바까지 모두 이용했는데 서비스 좋았습니다'"
      ]
     },
     "execution_count": 13,
     "metadata": {},
     "output_type": "execute_result"
    }
   ],
   "source": [
    "test2 = test2.strip(\"!~ \").replace(\".\",\" \").replace(\"!\",\"\").replace(\",\",\" \").replace(\"~\",\"\")\n",
    "test2"
   ]
  },
  {
   "cell_type": "code",
   "execution_count": 16,
   "id": "7487477d",
   "metadata": {
    "scrolled": true
   },
   "outputs": [],
   "source": [
    "test2 = test2.translate(str.maketrans(\"\",\"\",string.punctuation)).replace(\"  \",\" \")"
   ]
  },
  {
   "cell_type": "markdown",
   "id": "5303488c",
   "metadata": {},
   "source": [
    "# translate + str.maketrans + string.punctuation\n",
    "* translatr(str.maketrans(찾을문자,바꿀문자,그 외 없앨 문자))"
   ]
  },
  {
   "cell_type": "code",
   "execution_count": 6,
   "id": "255cf3e5",
   "metadata": {
    "scrolled": true
   },
   "outputs": [
    {
     "data": {
      "text/plain": [
       "'abced'"
      ]
     },
     "execution_count": 6,
     "metadata": {},
     "output_type": "execute_result"
    }
   ],
   "source": [
    "exam = \"abced\"\n",
    "exam"
   ]
  },
  {
   "cell_type": "code",
   "execution_count": 7,
   "id": "9823fe6b",
   "metadata": {
    "scrolled": true
   },
   "outputs": [
    {
     "data": {
      "text/plain": [
       "'xyz'"
      ]
     },
     "execution_count": 7,
     "metadata": {},
     "output_type": "execute_result"
    }
   ],
   "source": [
    "exam.translate(str.maketrans('ace','xyz','bd'))"
   ]
  },
  {
   "cell_type": "code",
   "execution_count": 8,
   "id": "1de0692f",
   "metadata": {},
   "outputs": [],
   "source": [
    "import string"
   ]
  },
  {
   "cell_type": "code",
   "execution_count": 10,
   "id": "840ef256",
   "metadata": {},
   "outputs": [
    {
     "data": {
      "text/plain": [
       "'!\"#$%&\\'()*+,-./:;<=>?@[\\\\]^_`{|}~'"
      ]
     },
     "execution_count": 10,
     "metadata": {},
     "output_type": "execute_result"
    }
   ],
   "source": [
    "string.punctuation"
   ]
  },
  {
   "cell_type": "code",
   "execution_count": 18,
   "id": "0e2b0f1b",
   "metadata": {},
   "outputs": [],
   "source": [
    "test3 = \"\"\"112731,239840,서귀포 칼 호텔 (Seogwipo KAL Hotel),family,3박 가족 여행,2020년 11월 19일,8.0,넓디넓은 정원과 산책로 덕분에 코로나 시대 언택트 여행에 좋았구요. 조용하고 한적하게 잘 쉬었어요.\n",
    "아무래도 서귀포가 제주시쪽보단 사람도 적어서 오히려 편하면서, 주변에 식당이나 까페, 편의점 갈때도 걸어서도 다녀올 입지라 좋습니다.\n",
    "실내 수영장은 생각만큼? 작은 규모라 오히려 사람 없이 잘 놀았어요ㅎㅎ \n",
    "라운지바가 넓고 층고도 높아서 커피나 맥주 먹으며 쉬기에 좋고요.\n",
    "매일 주시는 1.5리터 생수ㅎㅎ별거 아닐수 있지만 매우 감사했구요.\n",
    "다만 층수가 낮은 방이어서 그런가 모기가 있었어요^^;; 그외에는 다 깨끗했구요. \n",
    "매트리스가 오래됐는지 묘하게 불편해서 허리가 아프긴 하더라고요;; 다행히? 세미온돌이라 바닥에서 자는게 오히려 나았고요\n",
    "조식은...최근 후기가 다 별로라길래 하루만 가봤는데 역시;;ㅎ 뭐 저렴하기도 하지만.. 저는 나가서 먹었습니다.\"\"\""
   ]
  },
  {
   "cell_type": "code",
   "execution_count": 19,
   "id": "2400fc8e",
   "metadata": {
    "scrolled": false
   },
   "outputs": [],
   "source": [
    "test3 = test3.split(\",\")"
   ]
  },
  {
   "cell_type": "code",
   "execution_count": 21,
   "id": "e4faab48",
   "metadata": {
    "scrolled": false
   },
   "outputs": [
    {
     "data": {
      "text/plain": [
       "['넓디넓은 정원과 산책로 덕분에 코로나 시대 언택트 여행에 좋았구요. 조용하고 한적하게 잘 쉬었어요.\\n아무래도 서귀포가 제주시쪽보단 사람도 적어서 오히려 편하면서',\n",
       " ' 주변에 식당이나 까페',\n",
       " ' 편의점 갈때도 걸어서도 다녀올 입지라 좋습니다.\\n실내 수영장은 생각만큼? 작은 규모라 오히려 사람 없이 잘 놀았어요ㅎㅎ \\n라운지바가 넓고 층고도 높아서 커피나 맥주 먹으며 쉬기에 좋고요.\\n매일 주시는 1.5리터 생수ㅎㅎ별거 아닐수 있지만 매우 감사했구요.\\n다만 층수가 낮은 방이어서 그런가 모기가 있었어요^^;; 그외에는 다 깨끗했구요. \\n매트리스가 오래됐는지 묘하게 불편해서 허리가 아프긴 하더라고요;; 다행히? 세미온돌이라 바닥에서 자는게 오히려 나았고요\\n조식은...최근 후기가 다 별로라길래 하루만 가봤는데 역시;;ㅎ 뭐 저렴하기도 하지만.. 저는 나가서 먹었습니다.']"
      ]
     },
     "execution_count": 21,
     "metadata": {},
     "output_type": "execute_result"
    }
   ],
   "source": [
    "test3 = test3[7:]\n",
    "test3"
   ]
  },
  {
   "cell_type": "code",
   "execution_count": 22,
   "id": "9da6634d",
   "metadata": {},
   "outputs": [
    {
     "data": {
      "text/plain": [
       "3"
      ]
     },
     "execution_count": 22,
     "metadata": {},
     "output_type": "execute_result"
    }
   ],
   "source": [
    "len(test3)"
   ]
  },
  {
   "cell_type": "code",
   "execution_count": 23,
   "id": "d10903a1",
   "metadata": {},
   "outputs": [
    {
     "data": {
      "text/plain": [
       "424"
      ]
     },
     "execution_count": 23,
     "metadata": {},
     "output_type": "execute_result"
    }
   ],
   "source": [
    "test3 =\" \".join(test3)\n",
    "len(test3)"
   ]
  },
  {
   "cell_type": "markdown",
   "id": "7c118eae",
   "metadata": {},
   "source": [
    "# 정규표현식\n",
    "* 정규표현식 : 문자의 패턴을 찾아서 치환하거나 그 패턴에 맞는 것만 추출\n",
    "* importre\n",
    "* re.sub(r'[^가-힣a-zA-Z0-9]',\"\",처리할 문자 변수)"
   ]
  },
  {
   "cell_type": "code",
   "execution_count": 24,
   "id": "c88f363e",
   "metadata": {},
   "outputs": [],
   "source": [
    "import re"
   ]
  },
  {
   "cell_type": "code",
   "execution_count": 25,
   "id": "71addf9b",
   "metadata": {},
   "outputs": [],
   "source": [
    "text = \"안녕하세요! This is a test. 1234 #$%^()\""
   ]
  },
  {
   "cell_type": "code",
   "execution_count": 29,
   "id": "ea607ae2",
   "metadata": {},
   "outputs": [
    {
     "data": {
      "text/plain": [
       "'안녕하세요 This is a test 1234'"
      ]
     },
     "execution_count": 29,
     "metadata": {},
     "output_type": "execute_result"
    }
   ],
   "source": [
    "re.sub(r'[^가-힣a-zA-Z0-9]',\" \",text).replace(\"  \",\" \").replace(\"  \",\" \").strip()"
   ]
  },
  {
   "cell_type": "code",
   "execution_count": 32,
   "id": "37449823",
   "metadata": {},
   "outputs": [],
   "source": [
    "test3 = re.sub(r'[^가-힣a-zA-Z0-9]',\" \",test3).replace(\"  \",\" \").replace(\"  \",\" \").strip().replace(\"1 5리터\",\"1.5리터\")"
   ]
  },
  {
   "cell_type": "code",
   "execution_count": 33,
   "id": "5e906f6b",
   "metadata": {},
   "outputs": [
    {
     "data": {
      "text/plain": [
       "'넓디넓은 정원과 산책로 덕분에 코로나 시대 언택트 여행에 좋았구요 조용하고 한적하게 잘 쉬었어요 아무래도 서귀포가 제주시쪽보단 사람도 적어서 오히려 편하면서 주변에 식당이나 까페 편의점 갈때도 걸어서도 다녀올 입지라 좋습니다 실내 수영장은 생각만큼 작은 규모라 오히려 사람 없이 잘 놀았어요 라운지바가 넓고 층고도 높아서 커피나 맥주 먹으며 쉬기에 좋고요 매일 주시는 1.5리터 생수 별거 아닐수 있지만 매우 감사했구요 다만 층수가 낮은 방이어서 그런가 모기가 있었어요  그외에는 다 깨끗했구요 매트리스가 오래됐는지 묘하게 불편해서 허리가 아프긴 하더라고요 다행히 세미온돌이라 바닥에서 자는게 오히려 나았고요 조식은 최근 후기가 다 별로라길래 하루만 가봤는데 역시 뭐 저렴하기도 하지만 저는 나가서 먹었습니다'"
      ]
     },
     "execution_count": 33,
     "metadata": {},
     "output_type": "execute_result"
    }
   ],
   "source": [
    "test3"
   ]
  },
  {
   "cell_type": "code",
   "execution_count": null,
   "id": "0bfb51cf",
   "metadata": {},
   "outputs": [],
   "source": []
  },
  {
   "cell_type": "code",
   "execution_count": 35,
   "id": "7ed06b5b",
   "metadata": {},
   "outputs": [],
   "source": [
    "test3 = test3.strip(\". \").replace(\";\",\"\").replace(\"ㅎ\",\"\").replace(\".\",\"\").replace(\"\\n\",\"\").replace(\"(\",\"\").replace(\")\",\"\").replace(\"^\",\"\").replace(\",\",\"\").replace(\"?\",\"\")"
   ]
  },
  {
   "cell_type": "code",
   "execution_count": 32,
   "id": "abc785ef",
   "metadata": {},
   "outputs": [
    {
     "data": {
      "text/plain": [
       "'239840서귀포 칼 호텔 Seogwipo KAL Hotelfamily3박 가족 여행2020년 11월 19일80넓디넓은 정원과 산책로 덕분에 코로나 시대 언택트 여행에 좋았구요 조용하고 한적하게 잘 쉬었어요아무래도 서귀포가 제주시쪽보단 사람도 적어서 오히려 편하면서 주변에 식당이나 까페 편의점 갈때도 걸어서도 다녀올 입지라 좋습니다실내 수영장은 생각만큼 작은 규모라 오히려 사람 없이 잘 놀았어요 라운지바가 넓고 층고도 높아서 커피나 맥주 먹으며 쉬기에 좋고요매일 주시는 15리터 생수별거 아닐수 있지만 매우 감사했구요다만 층수가 낮은 방이어서 그런가 모기가 있었어요 그외에는 다 깨끗했구요 매트리스가 오래됐는지 묘하게 불편해서 허리가 아프긴 하더라고요 다행히 세미온돌이라 바닥에서 자는게 오히려 나았고요조식은최근 후기가 다 별로라길래 하루만 가봤는데 역시 뭐 저렴하기도 하지만 저는 나가서 먹었습니다'"
      ]
     },
     "execution_count": 32,
     "metadata": {},
     "output_type": "execute_result"
    }
   ],
   "source": [
    "test3"
   ]
  },
  {
   "cell_type": "code",
   "execution_count": null,
   "id": "019f3bae",
   "metadata": {},
   "outputs": [],
   "source": []
  }
 ],
 "metadata": {
  "kernelspec": {
   "display_name": "Python 3 (ipykernel)",
   "language": "python",
   "name": "python3"
  },
  "language_info": {
   "codemirror_mode": {
    "name": "ipython",
    "version": 3
   },
   "file_extension": ".py",
   "mimetype": "text/x-python",
   "name": "python",
   "nbconvert_exporter": "python",
   "pygments_lexer": "ipython3",
   "version": "3.9.23"
  }
 },
 "nbformat": 4,
 "nbformat_minor": 5
}
