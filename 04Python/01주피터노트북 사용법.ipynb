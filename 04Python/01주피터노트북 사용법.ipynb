{
 "cells": [
  {
   "cell_type": "markdown",
   "id": "336d8201",
   "metadata": {},
   "source": [
    "<h1> 주피터 노트북 사용법 </h1>\n",
    "<ul>\n",
    "    li\n",
    "</ul>"
   ]
  },
  {
   "cell_type": "markdown",
   "id": "62fc891a",
   "metadata": {},
   "source": []
  },
  {
   "cell_type": "markdown",
   "id": "1ecfaf63",
   "metadata": {},
   "source": [
    "# h1태그\n",
    "## \\## h2태그\n",
    "### h3태그"
   ]
  },
  {
   "cell_type": "markdown",
   "id": "80ce96f9",
   "metadata": {},
   "source": [
    "# ul은 \\*로 표시하위 항목은 들여쓰기 후 *\n",
    "*목록\n",
    "  |* 세부목록1\n",
    "  |* 세부목록2\n",
    "  |* 세부목록3"
   ]
  },
  {
   "cell_type": "markdown",
   "id": "9de35216",
   "metadata": {},
   "source": [
    "# 글씨를 굵게 만들기 **내용**\n",
    "글씨를 **굵게** 만들어 보아요.\n",
    "# 이탤릭체(기울이기) *내용*\n",
    "글씨를 *기울여* 보아요"
   ]
  },
  {
   "cell_type": "markdown",
   "id": "601868f8",
   "metadata": {},
   "source": [
    "# 링크걸기 \\[링크이름\\]\\(링크 주소\\)\n",
    "[네이버링크](https://www.naver.com/)"
   ]
  },
  {
   "cell_type": "markdown",
   "id": "6f566417",
   "metadata": {},
   "source": [
    "# 이미지 넣기 \\!\\[이미지설명\\]\\(이미지 주소\\)\n",
    "\n",
    "![고양이](![%EC%8A%A4%ED%81%AC%EB%A6%B0%EC%83%B7%202025-09-18%20130235.png](attachment:%EC%8A%A4%ED%81%AC%EB%A6%B0%EC%83%B7%202025-09-18%20130235.png))"
   ]
  },
  {
   "cell_type": "markdown",
   "id": "b8f70191",
   "metadata": {},
   "source": [
    "# 수식넣기  \\\\$\\\\$수식코드\\\\$\\\\$\n",
    "$$ {1 \\over 2} $$\n",
    "$ {1 \\over 2} $"
   ]
  },
  {
   "cell_type": "markdown",
   "id": "9035eb29",
   "metadata": {},
   "source": [
    "# 표 만들기      \\|값\\|의미\\|기본값\\| \\|---\\|---\\|---\\|\n",
    "\n",
    "|값|의미|기본값|\n",
    "|---|:---:|---:|\n",
    "|str|문자형 데이터 타입|str|\n",
    "|int|정수형 데이터 타입|0|\n",
    "|float|실수형 데이터 타입|3.14|"
   ]
  },
  {
   "cell_type": "code",
   "execution_count": 1,
   "id": "9225cc55",
   "metadata": {},
   "outputs": [
    {
     "data": {
      "text/plain": [
       "2"
      ]
     },
     "execution_count": 1,
     "metadata": {},
     "output_type": "execute_result"
    }
   ],
   "source": [
    "1+1"
   ]
  },
  {
   "cell_type": "code",
   "execution_count": 2,
   "id": "acbaf1b7",
   "metadata": {},
   "outputs": [],
   "source": [
    "a = 10"
   ]
  },
  {
   "cell_type": "code",
   "execution_count": 3,
   "id": "1c725324",
   "metadata": {},
   "outputs": [
    {
     "name": "stdout",
     "output_type": "stream",
     "text": [
      "10\n"
     ]
    }
   ],
   "source": [
    "print(a)"
   ]
  },
  {
   "cell_type": "code",
   "execution_count": 4,
   "id": "73a61bda",
   "metadata": {},
   "outputs": [],
   "source": [
    "b = 20"
   ]
  },
  {
   "cell_type": "code",
   "execution_count": 5,
   "id": "c71e181a",
   "metadata": {},
   "outputs": [
    {
     "name": "stdout",
     "output_type": "stream",
     "text": [
      "30\n"
     ]
    }
   ],
   "source": [
    "print (a+b)"
   ]
  },
  {
   "cell_type": "code",
   "execution_count": 10,
   "id": "3054a454",
   "metadata": {},
   "outputs": [],
   "source": [
    "c = 30"
   ]
  },
  {
   "cell_type": "code",
   "execution_count": null,
   "id": "10320c84",
   "metadata": {},
   "outputs": [],
   "source": []
  }
 ],
 "metadata": {
  "kernelspec": {
   "display_name": "Python 3 (ipykernel)",
   "language": "python",
   "name": "python3"
  },
  "language_info": {
   "codemirror_mode": {
    "name": "ipython",
    "version": 3
   },
   "file_extension": ".py",
   "mimetype": "text/x-python",
   "name": "python",
   "nbconvert_exporter": "python",
   "pygments_lexer": "ipython3",
   "version": "3.9.23"
  }
 },
 "nbformat": 4,
 "nbformat_minor": 5
}
