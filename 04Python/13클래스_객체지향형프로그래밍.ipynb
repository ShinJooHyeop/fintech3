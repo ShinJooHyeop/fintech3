{
 "cells": [
  {
   "cell_type": "markdown",
   "id": "5a4740c8",
   "metadata": {},
   "source": [
    "# 클래스\n",
    "* 객체지향 프로그래밍\n",
    "* 코드를 재사용하는데 특화\n",
    "* 여러 사람이 이용할 때 같은 코드를 독립적으로 사용 가능\n",
    "* 캡슐화,상속,다형성 같은 개념 사용"
   ]
  },
  {
   "cell_type": "markdown",
   "id": "f65c1724",
   "metadata": {},
   "source": [
    "## 1)절차적 프로그래밍\n",
    "* 프로그래밍을 순차적으로 하는 것\n",
    "* 코드가 위에서 아래로 절차적으로 실행"
   ]
  },
  {
   "cell_type": "code",
   "execution_count": 3,
   "id": "ddc1a2ea",
   "metadata": {},
   "outputs": [
    {
     "name": "stdout",
     "output_type": "stream",
     "text": [
      "[1, 4, 9, 16]\n"
     ]
    }
   ],
   "source": [
    "# nums = [1,2,3,4]의 각 요소를 제곱한 리스트를 출력하세요\n",
    "nums = [1,2,3,4]\n",
    "squares = []\n",
    "for i in nums:\n",
    "    squares.append(i**2)\n",
    "print(squares)"
   ]
  },
  {
   "cell_type": "markdown",
   "id": "631ea306",
   "metadata": {},
   "source": [
    "## 2) 함수형 프로그래밍\n",
    "* 여러 개의 함수를 작성해서 함수에 기반해 프로그래밍 실행\n",
    "* 코드의 재사용 가능\n",
    "* 유지보수가 쉬움\n",
    "* 버그 발생률이 낮고 예측 가능성이 높음\n",
    "* 병렬처리, 동시성 처리에 강함 - 멀티코어를 이용할 때 유리"
   ]
  },
  {
   "cell_type": "code",
   "execution_count": 4,
   "id": "31a19fc2",
   "metadata": {},
   "outputs": [
    {
     "name": "stdout",
     "output_type": "stream",
     "text": [
      "[1, 4, 9, 16]\n"
     ]
    }
   ],
   "source": [
    "nums = [1,2,3,4]\n",
    "squares = list(map(lambda x:x**2,nums))\n",
    "print(squares)"
   ]
  },
  {
   "cell_type": "markdown",
   "id": "06f3f1a2",
   "metadata": {},
   "source": [
    "## 3) 객체지향형 프로그래밍\n",
    "* Java, C++\n",
    "* 클래스 기반으로 프로그래밍\n",
    "* 코드를 재사용하는데 특화\n",
    "* 여러 사람이 이용할 때 같은 코드를 독립적으로 사용 가능"
   ]
  },
  {
   "cell_type": "code",
   "execution_count": 157,
   "id": "674d55d5",
   "metadata": {},
   "outputs": [],
   "source": [
    "class NumberList():\n",
    "    def __init__(slef,numbers):\n",
    "        self.numbers = numbers\n",
    "    def squared(self):\n",
    "        return [x**2 for x in self.numbers]"
   ]
  },
  {
   "cell_type": "code",
   "execution_count": 158,
   "id": "f78d7f15",
   "metadata": {},
   "outputs": [
    {
     "ename": "NameError",
     "evalue": "name 'self' is not defined",
     "output_type": "error",
     "traceback": [
      "\u001b[1;31m---------------------------------------------------------------------------\u001b[0m",
      "\u001b[1;31mNameError\u001b[0m                                 Traceback (most recent call last)",
      "Cell \u001b[1;32mIn[158], line 1\u001b[0m\n\u001b[1;32m----> 1\u001b[0m squared \u001b[38;5;241m=\u001b[39m \u001b[43mNumberList\u001b[49m\u001b[43m(\u001b[49m\u001b[43m[\u001b[49m\u001b[38;5;241;43m1\u001b[39;49m\u001b[43m,\u001b[49m\u001b[38;5;241;43m2\u001b[39;49m\u001b[43m,\u001b[49m\u001b[38;5;241;43m3\u001b[39;49m\u001b[43m,\u001b[49m\u001b[38;5;241;43m4\u001b[39;49m\u001b[43m]\u001b[49m\u001b[43m)\u001b[49m\n\u001b[0;32m      2\u001b[0m squared\u001b[38;5;241m.\u001b[39msquared()\n",
      "Cell \u001b[1;32mIn[157], line 3\u001b[0m, in \u001b[0;36mNumberList.__init__\u001b[1;34m(slef, numbers)\u001b[0m\n\u001b[0;32m      2\u001b[0m \u001b[38;5;28;01mdef\u001b[39;00m\u001b[38;5;250m \u001b[39m\u001b[38;5;21m__init__\u001b[39m(slef,numbers):\n\u001b[1;32m----> 3\u001b[0m     \u001b[38;5;28;43mself\u001b[39;49m\u001b[38;5;241m.\u001b[39mnumbers \u001b[38;5;241m=\u001b[39m numbers\n",
      "\u001b[1;31mNameError\u001b[0m: name 'self' is not defined"
     ]
    }
   ],
   "source": [
    "squared = NumberList([1,2,3,4])\n",
    "squared.squared()"
   ]
  },
  {
   "cell_type": "markdown",
   "id": "9ffd80b2",
   "metadata": {},
   "source": [
    "# 클래스 만들기\n",
    "* 클래스 하나에 여러개의 함수(매서드)를 포함\n",
    "* 클래스 = 공장(커피머신 공장) - 커피머신\n",
    "* 매서드 = 커피머신의 기능(에소프레소,아메리카노,카페라테,스팀)"
   ]
  },
  {
   "cell_type": "markdown",
   "id": "4296ac9b",
   "metadata": {},
   "source": [
    "# 클래스를 사용해야 하는 이유"
   ]
  },
  {
   "cell_type": "code",
   "execution_count": 14,
   "id": "502719a7",
   "metadata": {},
   "outputs": [],
   "source": [
    "# 더하기 함수 만들기\n",
    "def add(num1,num2):\n",
    "    result = num1 + num2\n",
    "    return result"
   ]
  },
  {
   "cell_type": "code",
   "execution_count": 17,
   "id": "ad5b7f2f",
   "metadata": {},
   "outputs": [
    {
     "data": {
      "text/plain": [
       "8"
      ]
     },
     "execution_count": 17,
     "metadata": {},
     "output_type": "execute_result"
    }
   ],
   "source": [
    "add(3,5)"
   ]
  },
  {
   "cell_type": "markdown",
   "id": "c4fa9111",
   "metadata": {},
   "source": [
    "* 이전에 계산했던 결과를 기역하는 계산기"
   ]
  },
  {
   "cell_type": "code",
   "execution_count": 23,
   "id": "e57f7f0d",
   "metadata": {},
   "outputs": [],
   "source": [
    "# 함수 내부에있는 변수와 외부에 있는 변수는 다른것이라고 생각하면 된다.\n",
    "result_cal = 0\n",
    "def add(num, result_cal):\n",
    "    print('result_cal: ',result_cal)\n",
    "    result_cal += num\n",
    "    return result_cal"
   ]
  },
  {
   "cell_type": "code",
   "execution_count": 21,
   "id": "0975fea3",
   "metadata": {},
   "outputs": [
    {
     "name": "stdout",
     "output_type": "stream",
     "text": [
      "result_cal:  0\n"
     ]
    },
    {
     "data": {
      "text/plain": [
       "10"
      ]
     },
     "execution_count": 21,
     "metadata": {},
     "output_type": "execute_result"
    }
   ],
   "source": [
    "add(10, result_cal)"
   ]
  },
  {
   "cell_type": "code",
   "execution_count": 22,
   "id": "f3364f06",
   "metadata": {},
   "outputs": [
    {
     "name": "stdout",
     "output_type": "stream",
     "text": [
      "result_cal:  0\n"
     ]
    },
    {
     "data": {
      "text/plain": [
       "5"
      ]
     },
     "execution_count": 22,
     "metadata": {},
     "output_type": "execute_result"
    }
   ],
   "source": [
    "add(5, result_cal)"
   ]
  },
  {
   "cell_type": "code",
   "execution_count": 24,
   "id": "c82a76f7",
   "metadata": {},
   "outputs": [],
   "source": [
    "# 함수 내부를 지역변수 전체에서 사용되는걸 전역변수"
   ]
  },
  {
   "cell_type": "markdown",
   "id": "24fb968e",
   "metadata": {},
   "source": [
    "지역변수를 전역변수로 변경global"
   ]
  },
  {
   "cell_type": "code",
   "execution_count": 29,
   "id": "35de12ab",
   "metadata": {},
   "outputs": [],
   "source": [
    "result_cal = 0\n",
    "def add2(num):\n",
    "    global result_cal\n",
    "    print('result_cal: ',result_cal)\n",
    "    result_cal += num\n",
    "    return result_cal"
   ]
  },
  {
   "cell_type": "code",
   "execution_count": 31,
   "id": "00ff2436",
   "metadata": {},
   "outputs": [
    {
     "name": "stdout",
     "output_type": "stream",
     "text": [
      "result_cal:  0\n"
     ]
    },
    {
     "data": {
      "text/plain": [
       "10"
      ]
     },
     "execution_count": 31,
     "metadata": {},
     "output_type": "execute_result"
    }
   ],
   "source": [
    "add2(10)"
   ]
  },
  {
   "cell_type": "code",
   "execution_count": 32,
   "id": "6dce93f8",
   "metadata": {},
   "outputs": [
    {
     "name": "stdout",
     "output_type": "stream",
     "text": [
      "result_cal:  10\n"
     ]
    },
    {
     "data": {
      "text/plain": [
       "15"
      ]
     },
     "execution_count": 32,
     "metadata": {},
     "output_type": "execute_result"
    }
   ],
   "source": [
    "add2(5)"
   ]
  },
  {
   "cell_type": "code",
   "execution_count": 34,
   "id": "16565804",
   "metadata": {
    "scrolled": true
   },
   "outputs": [
    {
     "ename": "NameError",
     "evalue": "name 'a' is not defined",
     "output_type": "error",
     "traceback": [
      "\u001b[1;31m---------------------------------------------------------------------------\u001b[0m",
      "\u001b[1;31mNameError\u001b[0m                                 Traceback (most recent call last)",
      "Cell \u001b[1;32mIn[34], line 1\u001b[0m\n\u001b[1;32m----> 1\u001b[0m \u001b[43ma\u001b[49m\n",
      "\u001b[1;31mNameError\u001b[0m: name 'a' is not defined"
     ]
    }
   ],
   "source": [
    "a"
   ]
  },
  {
   "cell_type": "code",
   "execution_count": null,
   "id": "07e6cee1",
   "metadata": {},
   "outputs": [],
   "source": [
    "b"
   ]
  },
  {
   "cell_type": "markdown",
   "id": "953afb9e",
   "metadata": {},
   "source": [
    "* 만약 mul함수를 길동이와 둘리가 동시에 같이 쓰고 싶다면?\n",
    "* 함수를 여러개 만들면 된다.\n",
    "* 사용자가 많을 경우 매우 비효율적이된다.\n",
    "* 하나의 코드로 여러사람이 이용해도 독립적으로 작동하게 하는 것이 클래스"
   ]
  },
  {
   "cell_type": "code",
   "execution_count": 35,
   "id": "4e78be67",
   "metadata": {},
   "outputs": [],
   "source": [
    "result_cal = 0\n",
    "def add_gildong(num):\n",
    "    global result_cal\n",
    "    print('result_cal: ',result_cal)\n",
    "    result_cal += num\n",
    "    return result_cal"
   ]
  },
  {
   "cell_type": "code",
   "execution_count": null,
   "id": "364ca7d0",
   "metadata": {},
   "outputs": [],
   "source": [
    "result_cal = 0\n",
    "def add_dulli(num):\n",
    "    global result_cal\n",
    "    print('result_cal: ',result_cal)\n",
    "    result_cal += num\n",
    "    return result_cal"
   ]
  },
  {
   "cell_type": "markdown",
   "id": "bc87251d",
   "metadata": {},
   "source": [
    "# 클래스 만들기\n",
    "* 클래스의 이름은 대문자로 시작하는 카멜표기법으로 만든다. CalcGildong()\n",
    "class 클래스명():<br>\n",
    "____def 메소드명1()<br>\n",
    "________실행할 코드<br>\n",
    "________return<br>\n",
    "____def 메소드명2()<br>\n",
    "________실행할 코드<br>\n",
    "________return"
   ]
  },
  {
   "cell_type": "markdown",
   "id": "200f6472",
   "metadata": {},
   "source": [
    "클래스로 계산기 만들기"
   ]
  },
  {
   "cell_type": "code",
   "execution_count": 38,
   "id": "a9e5fa12",
   "metadata": {},
   "outputs": [],
   "source": [
    "class Calc():\n",
    "    def __init__(self):\n",
    "        self.result = 0\n",
    "    def add(self,num):\n",
    "        self.result += num\n",
    "        return self.result"
   ]
  },
  {
   "cell_type": "markdown",
   "id": "958e8c17",
   "metadata": {},
   "source": [
    "# 인스턴스\n",
    "* 만들어진 클래스를 변수에 담는 것\n",
    "* 만들어진 물건을 사용자에게 배송"
   ]
  },
  {
   "cell_type": "code",
   "execution_count": 39,
   "id": "63dc3a54",
   "metadata": {},
   "outputs": [],
   "source": [
    "gil = Calc()"
   ]
  },
  {
   "cell_type": "code",
   "execution_count": 40,
   "id": "863c7fae",
   "metadata": {},
   "outputs": [
    {
     "data": {
      "text/plain": [
       "5"
      ]
     },
     "execution_count": 40,
     "metadata": {},
     "output_type": "execute_result"
    }
   ],
   "source": [
    "gil.add(5)"
   ]
  },
  {
   "cell_type": "code",
   "execution_count": 41,
   "id": "40987cf9",
   "metadata": {},
   "outputs": [
    {
     "data": {
      "text/plain": [
       "15"
      ]
     },
     "execution_count": 41,
     "metadata": {},
     "output_type": "execute_result"
    }
   ],
   "source": [
    "gil.add(10)"
   ]
  },
  {
   "cell_type": "code",
   "execution_count": 42,
   "id": "7cad3561",
   "metadata": {},
   "outputs": [
    {
     "data": {
      "text/plain": [
       "35"
      ]
     },
     "execution_count": 42,
     "metadata": {},
     "output_type": "execute_result"
    }
   ],
   "source": [
    "gil.add(20)"
   ]
  },
  {
   "cell_type": "code",
   "execution_count": 43,
   "id": "d73ac5cc",
   "metadata": {},
   "outputs": [],
   "source": [
    "dul = Calc()"
   ]
  },
  {
   "cell_type": "code",
   "execution_count": 44,
   "id": "463eac27",
   "metadata": {},
   "outputs": [
    {
     "data": {
      "text/plain": [
       "100"
      ]
     },
     "execution_count": 44,
     "metadata": {},
     "output_type": "execute_result"
    }
   ],
   "source": [
    "dul.add(100)"
   ]
  },
  {
   "cell_type": "markdown",
   "id": "71ed96a5",
   "metadata": {},
   "source": [
    "# 클래스 사용방법\n",
    "* 변수에 클래스를 담아서 인스턴스 생성(배송)\n",
    "* 공장에서 만든 커피머신을 사용자에게 배송(인스턴스)\n",
    "* 인스턴스 변수명 = 클래스명() => 인스턴스 생성\n",
    "* 인스턴스를 생성하면 인스턴스변수명.메소드명으로 클래스에 정의한 메소드는 사용할 수 있다."
   ]
  },
  {
   "cell_type": "markdown",
   "id": "5ae41ff5",
   "metadata": {},
   "source": [
    "# 메소드(method)\n",
    "* 클래스 안에 정의하는 함수\n",
    "* 클래스에 기능을 만들어 준다.\n",
    "* def 메소드명(self, 매개변수1,*매개변수2, **kwargs): <br>\n",
    "  ____self.매개변수 = 매개변수"
   ]
  },
  {
   "cell_type": "markdown",
   "id": "23634b78",
   "metadata": {},
   "source": [
    "* 사칙연산이 가능한 ForCal 계산기 만들기"
   ]
  },
  {
   "cell_type": "code",
   "execution_count": 45,
   "id": "8e5acbec",
   "metadata": {},
   "outputs": [],
   "source": [
    "class FourCal():\n",
    "    # 데이터 입력을 받는 역할의 setdata method\n",
    "    def setdata(self,num1,*num2):\n",
    "        self.num1 = num1\n",
    "        self.num2 = num2\n",
    "        print(\"self.num1\", self.num1)\n",
    "        print(\"self.num2\", self.num2)"
   ]
  },
  {
   "cell_type": "code",
   "execution_count": 47,
   "id": "c6390729",
   "metadata": {},
   "outputs": [],
   "source": [
    "sam = FourCal()"
   ]
  },
  {
   "cell_type": "code",
   "execution_count": 48,
   "id": "22020b54",
   "metadata": {},
   "outputs": [
    {
     "name": "stdout",
     "output_type": "stream",
     "text": [
      "self.num1 1\n",
      "self.num2 (2, 3, 4)\n"
     ]
    }
   ],
   "source": [
    "sam.setdata(1,2,3,4)"
   ]
  },
  {
   "cell_type": "code",
   "execution_count": 49,
   "id": "2b6aaed4",
   "metadata": {},
   "outputs": [],
   "source": [
    "dul = FourCal()"
   ]
  },
  {
   "cell_type": "code",
   "execution_count": 50,
   "id": "2ee9d5c0",
   "metadata": {},
   "outputs": [
    {
     "name": "stdout",
     "output_type": "stream",
     "text": [
      "self.num1 5\n",
      "self.num2 (6, 7, 8)\n"
     ]
    }
   ],
   "source": [
    "dul.setdata(5,6,7,8)"
   ]
  },
  {
   "cell_type": "markdown",
   "id": "43a48dc7",
   "metadata": {},
   "source": [
    "클래스에 기능 추가하기"
   ]
  },
  {
   "cell_type": "code",
   "execution_count": 58,
   "id": "a08ca8cf",
   "metadata": {},
   "outputs": [],
   "source": [
    "class FourCal():\n",
    "    def setdata(self,num1,num2):\n",
    "        self.num1 = num1\n",
    "        self.num2 = num2\n",
    "        print(f\"self.num1: {self.num1}\")\n",
    "        print(f\"self.num2: {self.num2}\")\n",
    "        \n",
    "        \n",
    "    # 덧샘\n",
    "    def add(self):\n",
    "        result = self.num1 + self. num2\n",
    "        return result\n",
    "    \n",
    "    def sub(self):\n",
    "        result = self.num1 - self. num2\n",
    "        return result\n",
    "    \n",
    "    def mul(self):\n",
    "        result = self.num1 * self. num2\n",
    "        return result\n",
    "    \n",
    "    def div(self):\n",
    "        result = self.num1 / self. num2\n",
    "        return result"
   ]
  },
  {
   "cell_type": "code",
   "execution_count": 59,
   "id": "bab7b98e",
   "metadata": {},
   "outputs": [],
   "source": [
    "sam = FourCal()"
   ]
  },
  {
   "cell_type": "code",
   "execution_count": 60,
   "id": "64c4aef8",
   "metadata": {},
   "outputs": [
    {
     "name": "stdout",
     "output_type": "stream",
     "text": [
      "self.num1: 3\n",
      "self.num2: 5\n"
     ]
    }
   ],
   "source": [
    "sam.setdata(3,5)"
   ]
  },
  {
   "cell_type": "code",
   "execution_count": 61,
   "id": "742cb27a",
   "metadata": {},
   "outputs": [
    {
     "data": {
      "text/plain": [
       "8"
      ]
     },
     "execution_count": 61,
     "metadata": {},
     "output_type": "execute_result"
    }
   ],
   "source": [
    "sam.add()"
   ]
  },
  {
   "cell_type": "code",
   "execution_count": 62,
   "id": "ea109cdc",
   "metadata": {},
   "outputs": [
    {
     "data": {
      "text/plain": [
       "-2"
      ]
     },
     "execution_count": 62,
     "metadata": {},
     "output_type": "execute_result"
    }
   ],
   "source": [
    "sam.sub()"
   ]
  },
  {
   "cell_type": "code",
   "execution_count": 63,
   "id": "e87438ac",
   "metadata": {},
   "outputs": [
    {
     "data": {
      "text/plain": [
       "15"
      ]
     },
     "execution_count": 63,
     "metadata": {},
     "output_type": "execute_result"
    }
   ],
   "source": [
    "sam.mul()"
   ]
  },
  {
   "cell_type": "code",
   "execution_count": 64,
   "id": "c3193d76",
   "metadata": {},
   "outputs": [
    {
     "data": {
      "text/plain": [
       "0.6"
      ]
     },
     "execution_count": 64,
     "metadata": {},
     "output_type": "execute_result"
    }
   ],
   "source": [
    "sam.div()"
   ]
  },
  {
   "cell_type": "code",
   "execution_count": 65,
   "id": "19a5b2de",
   "metadata": {},
   "outputs": [],
   "source": [
    "dul = FourCal()"
   ]
  },
  {
   "cell_type": "code",
   "execution_count": 66,
   "id": "c24dcb99",
   "metadata": {},
   "outputs": [
    {
     "name": "stdout",
     "output_type": "stream",
     "text": [
      "self.num1: 10\n",
      "self.num2: 5\n"
     ]
    }
   ],
   "source": [
    "dul.setdata(10,5)"
   ]
  },
  {
   "cell_type": "code",
   "execution_count": 67,
   "id": "d3f6a23c",
   "metadata": {},
   "outputs": [
    {
     "data": {
      "text/plain": [
       "15"
      ]
     },
     "execution_count": 67,
     "metadata": {},
     "output_type": "execute_result"
    }
   ],
   "source": [
    "dul.add()"
   ]
  },
  {
   "cell_type": "code",
   "execution_count": 68,
   "id": "8a3d6708",
   "metadata": {},
   "outputs": [
    {
     "data": {
      "text/plain": [
       "5"
      ]
     },
     "execution_count": 68,
     "metadata": {},
     "output_type": "execute_result"
    }
   ],
   "source": [
    "dul.sub()"
   ]
  },
  {
   "cell_type": "code",
   "execution_count": 69,
   "id": "59a49faf",
   "metadata": {},
   "outputs": [
    {
     "data": {
      "text/plain": [
       "50"
      ]
     },
     "execution_count": 69,
     "metadata": {},
     "output_type": "execute_result"
    }
   ],
   "source": [
    "dul.mul()"
   ]
  },
  {
   "cell_type": "code",
   "execution_count": 70,
   "id": "a63bd00f",
   "metadata": {},
   "outputs": [
    {
     "data": {
      "text/plain": [
       "2.0"
      ]
     },
     "execution_count": 70,
     "metadata": {},
     "output_type": "execute_result"
    }
   ],
   "source": [
    "dul.div()"
   ]
  },
  {
   "cell_type": "markdown",
   "id": "683aa441",
   "metadata": {},
   "source": [
    "# 생성자\n",
    "* 클래스를 실행해서 인스턴스를 만들 때 자동실행되고 초기값을 받도록 해주는 메소드\n",
    "* 생성자(constuctor)는 객체(인스턴스)가 생성될 때 자동으로 호출되는 메서드, 주로 초기값을 받을 때 사용\n",
    "* 클래스 내에서 멛서드 명으로 __init__를 사용하면 그것이 생성자가 된다."
   ]
  },
  {
   "cell_type": "markdown",
   "id": "6648e9cb",
   "metadata": {},
   "source": [
    "* 생성자를 이용해 초기값을 받는FourCal2"
   ]
  },
  {
   "cell_type": "code",
   "execution_count": 71,
   "id": "95328408",
   "metadata": {},
   "outputs": [],
   "source": [
    "class FourCal2():\n",
    "    def __init__(self,num1,num2):\n",
    "        self.num1 = num1\n",
    "        self.num2 = num2\n",
    "        \n",
    "    def add(self):\n",
    "        result = self.num1 + self. num2\n",
    "        return result\n",
    "    \n",
    "    def sub(self):\n",
    "        result = self.num1 - self. num2\n",
    "        return result\n",
    "    \n",
    "    def mul(self):\n",
    "        result = self.num1 * self. num2\n",
    "        return result\n",
    "    \n",
    "    def div(self):\n",
    "        result = self.num1 / self. num2\n",
    "        return result"
   ]
  },
  {
   "cell_type": "code",
   "execution_count": 74,
   "id": "0e023493",
   "metadata": {},
   "outputs": [],
   "source": [
    "gil = FourCal2(3,5)"
   ]
  },
  {
   "cell_type": "code",
   "execution_count": 75,
   "id": "61be033f",
   "metadata": {},
   "outputs": [
    {
     "data": {
      "text/plain": [
       "8"
      ]
     },
     "execution_count": 75,
     "metadata": {},
     "output_type": "execute_result"
    }
   ],
   "source": [
    "gil.add()"
   ]
  },
  {
   "cell_type": "code",
   "execution_count": 76,
   "id": "67952562",
   "metadata": {},
   "outputs": [
    {
     "data": {
      "text/plain": [
       "-2"
      ]
     },
     "execution_count": 76,
     "metadata": {},
     "output_type": "execute_result"
    }
   ],
   "source": [
    "gil.sub()"
   ]
  },
  {
   "cell_type": "code",
   "execution_count": 77,
   "id": "77438c32",
   "metadata": {},
   "outputs": [
    {
     "data": {
      "text/plain": [
       "15"
      ]
     },
     "execution_count": 77,
     "metadata": {},
     "output_type": "execute_result"
    }
   ],
   "source": [
    "gil.mul()"
   ]
  },
  {
   "cell_type": "code",
   "execution_count": 79,
   "id": "1a21bd47",
   "metadata": {},
   "outputs": [
    {
     "data": {
      "text/plain": [
       "0.6"
      ]
     },
     "execution_count": 79,
     "metadata": {},
     "output_type": "execute_result"
    }
   ],
   "source": [
    "gil.div()"
   ]
  },
  {
   "cell_type": "markdown",
   "id": "29be6f7e",
   "metadata": {},
   "source": [
    "# 클래스의 상속(엄카,아카)\n",
    "* 어떤 클래스를 만들 때 다른 클래스의 기능을 물려받는 것\n",
    "* 기존 클래스에 기능을 추가할 때, 기능을 변결할 때\n",
    "* A클래스를 상속받아 B클래스를 생성하면 B클래스는 A클래스의 모든 기능을 사용할 수 있다."
   ]
  },
  {
   "cell_type": "markdown",
   "id": "b09ba267",
   "metadata": {},
   "source": [
    "* Fourcal2을 상속받아 제곱기능을 추가한 MoreFourCal 만들기"
   ]
  },
  {
   "cell_type": "code",
   "execution_count": 80,
   "id": "83d850b2",
   "metadata": {},
   "outputs": [],
   "source": [
    "class MoreFourCal(FourCal2):\n",
    "    def pow(self):\n",
    "        result = self.num1**self.num2\n",
    "        return result"
   ]
  },
  {
   "cell_type": "code",
   "execution_count": 84,
   "id": "c3c50db0",
   "metadata": {},
   "outputs": [],
   "source": [
    "dul = MoreFourCal(3,5)"
   ]
  },
  {
   "cell_type": "code",
   "execution_count": 85,
   "id": "739ec51f",
   "metadata": {},
   "outputs": [
    {
     "data": {
      "text/plain": [
       "243"
      ]
     },
     "execution_count": 85,
     "metadata": {},
     "output_type": "execute_result"
    }
   ],
   "source": [
    "dul.pow()"
   ]
  },
  {
   "cell_type": "code",
   "execution_count": 86,
   "id": "319e37e7",
   "metadata": {},
   "outputs": [
    {
     "data": {
      "text/plain": [
       "8"
      ]
     },
     "execution_count": 86,
     "metadata": {},
     "output_type": "execute_result"
    }
   ],
   "source": [
    "dul.add()"
   ]
  },
  {
   "cell_type": "code",
   "execution_count": 87,
   "id": "aff91bb2",
   "metadata": {},
   "outputs": [
    {
     "data": {
      "text/plain": [
       "-2"
      ]
     },
     "execution_count": 87,
     "metadata": {},
     "output_type": "execute_result"
    }
   ],
   "source": [
    "dul.sub()"
   ]
  },
  {
   "cell_type": "code",
   "execution_count": 88,
   "id": "e697298d",
   "metadata": {},
   "outputs": [
    {
     "data": {
      "text/plain": [
       "15"
      ]
     },
     "execution_count": 88,
     "metadata": {},
     "output_type": "execute_result"
    }
   ],
   "source": [
    "dul.mul()"
   ]
  },
  {
   "cell_type": "code",
   "execution_count": 89,
   "id": "c0968463",
   "metadata": {},
   "outputs": [
    {
     "data": {
      "text/plain": [
       "0.6"
      ]
     },
     "execution_count": 89,
     "metadata": {},
     "output_type": "execute_result"
    }
   ],
   "source": [
    "dul.div()"
   ]
  },
  {
   "cell_type": "markdown",
   "id": "1cf7db4c",
   "metadata": {},
   "source": [
    "# 메서드 오버라이딩(method overriding)\n",
    "* 부모 클래스에서 상속한 메서드를 자식 클래스에서 동일한 이름으로 재정의\n",
    "* 기존에 있던 메서드의 기능을 수정할 때 사용"
   ]
  },
  {
   "cell_type": "code",
   "execution_count": 90,
   "id": "b00c1383",
   "metadata": {},
   "outputs": [],
   "source": [
    "kim = FourCal2(4, 0)"
   ]
  },
  {
   "cell_type": "code",
   "execution_count": 91,
   "id": "3744718a",
   "metadata": {},
   "outputs": [
    {
     "data": {
      "text/plain": [
       "4"
      ]
     },
     "execution_count": 91,
     "metadata": {},
     "output_type": "execute_result"
    }
   ],
   "source": [
    "kim.add()"
   ]
  },
  {
   "cell_type": "code",
   "execution_count": 92,
   "id": "446d8c37",
   "metadata": {},
   "outputs": [
    {
     "data": {
      "text/plain": [
       "4"
      ]
     },
     "execution_count": 92,
     "metadata": {},
     "output_type": "execute_result"
    }
   ],
   "source": [
    "kim.sub()"
   ]
  },
  {
   "cell_type": "code",
   "execution_count": 93,
   "id": "703984d8",
   "metadata": {},
   "outputs": [
    {
     "data": {
      "text/plain": [
       "0"
      ]
     },
     "execution_count": 93,
     "metadata": {},
     "output_type": "execute_result"
    }
   ],
   "source": [
    "kim.mul()"
   ]
  },
  {
   "cell_type": "code",
   "execution_count": 94,
   "id": "b7e11996",
   "metadata": {},
   "outputs": [
    {
     "ename": "ZeroDivisionError",
     "evalue": "division by zero",
     "output_type": "error",
     "traceback": [
      "\u001b[1;31m---------------------------------------------------------------------------\u001b[0m",
      "\u001b[1;31mZeroDivisionError\u001b[0m                         Traceback (most recent call last)",
      "Cell \u001b[1;32mIn[94], line 1\u001b[0m\n\u001b[1;32m----> 1\u001b[0m \u001b[43mkim\u001b[49m\u001b[38;5;241;43m.\u001b[39;49m\u001b[43mdiv\u001b[49m\u001b[43m(\u001b[49m\u001b[43m)\u001b[49m\n",
      "Cell \u001b[1;32mIn[71], line 19\u001b[0m, in \u001b[0;36mFourCal2.div\u001b[1;34m(self)\u001b[0m\n\u001b[0;32m     18\u001b[0m \u001b[38;5;28;01mdef\u001b[39;00m\u001b[38;5;250m \u001b[39m\u001b[38;5;21mdiv\u001b[39m(\u001b[38;5;28mself\u001b[39m):\n\u001b[1;32m---> 19\u001b[0m     result \u001b[38;5;241m=\u001b[39m \u001b[38;5;28;43mself\u001b[39;49m\u001b[38;5;241;43m.\u001b[39;49m\u001b[43mnum1\u001b[49m\u001b[43m \u001b[49m\u001b[38;5;241;43m/\u001b[39;49m\u001b[43m \u001b[49m\u001b[38;5;28;43mself\u001b[39;49m\u001b[38;5;241;43m.\u001b[39;49m\u001b[43m \u001b[49m\u001b[43mnum2\u001b[49m\n\u001b[0;32m     20\u001b[0m     \u001b[38;5;28;01mreturn\u001b[39;00m result\n",
      "\u001b[1;31mZeroDivisionError\u001b[0m: division by zero"
     ]
    }
   ],
   "source": [
    "kim.div()"
   ]
  },
  {
   "cell_type": "code",
   "execution_count": 95,
   "id": "05f7806d",
   "metadata": {},
   "outputs": [],
   "source": [
    "class SafeFourCal(FourCal2):\n",
    "    def div(self):\n",
    "        if self.num2 == 0:\n",
    "            return 0\n",
    "        else:\n",
    "            return self.num1 / self.num2"
   ]
  },
  {
   "cell_type": "code",
   "execution_count": 96,
   "id": "ebf1389a",
   "metadata": {},
   "outputs": [],
   "source": [
    "kim = SafeFourCal(5,0)"
   ]
  },
  {
   "cell_type": "code",
   "execution_count": 97,
   "id": "96b516f3",
   "metadata": {},
   "outputs": [
    {
     "data": {
      "text/plain": [
       "0"
      ]
     },
     "execution_count": 97,
     "metadata": {},
     "output_type": "execute_result"
    }
   ],
   "source": [
    "kim.div()"
   ]
  },
  {
   "cell_type": "markdown",
   "id": "8e4ea2f1",
   "metadata": {},
   "source": [
    "# 메서드 오버로딩\n",
    "* 한 클래스 안에서 동일한 이름의 메서드의 기능을 다르게 재정의\n",
    "* 동일한 이름의 메서드가 기능이 약산 변경된 채로 여러 개 존재\n",
    "* 파이썬에서는 공식 지원X"
   ]
  },
  {
   "cell_type": "code",
   "execution_count": 98,
   "id": "814c8169",
   "metadata": {},
   "outputs": [],
   "source": [
    "class OverLoading():\n",
    "    def add(self,x,y):\n",
    "        return x + y\n",
    "    def add(self,x,y,z):\n",
    "        return x + y +z\n",
    "    def add(self,x,y,z,a):\n",
    "        return x + y +z +a"
   ]
  },
  {
   "cell_type": "code",
   "execution_count": 99,
   "id": "58628fc7",
   "metadata": {},
   "outputs": [],
   "source": [
    "sam = OverLoading()"
   ]
  },
  {
   "cell_type": "code",
   "execution_count": 100,
   "id": "da67c859",
   "metadata": {},
   "outputs": [
    {
     "ename": "TypeError",
     "evalue": "add() missing 2 required positional arguments: 'z' and 'a'",
     "output_type": "error",
     "traceback": [
      "\u001b[1;31m---------------------------------------------------------------------------\u001b[0m",
      "\u001b[1;31mTypeError\u001b[0m                                 Traceback (most recent call last)",
      "Cell \u001b[1;32mIn[100], line 1\u001b[0m\n\u001b[1;32m----> 1\u001b[0m \u001b[43msam\u001b[49m\u001b[38;5;241;43m.\u001b[39;49m\u001b[43madd\u001b[49m\u001b[43m(\u001b[49m\u001b[38;5;241;43m3\u001b[39;49m\u001b[43m,\u001b[49m\u001b[38;5;241;43m4\u001b[39;49m\u001b[43m)\u001b[49m\n",
      "\u001b[1;31mTypeError\u001b[0m: add() missing 2 required positional arguments: 'z' and 'a'"
     ]
    }
   ],
   "source": [
    "sam.add(3,4)"
   ]
  },
  {
   "cell_type": "markdown",
   "id": "1723e836",
   "metadata": {},
   "source": [
    "multipledispatch 패키지를 통한 메서드 오버 로딩"
   ]
  },
  {
   "cell_type": "code",
   "execution_count": 101,
   "id": "f15d671d",
   "metadata": {},
   "outputs": [
    {
     "name": "stdout",
     "output_type": "stream",
     "text": [
      "Collecting multipledispatch\n",
      "  Downloading multipledispatch-1.0.0-py3-none-any.whl.metadata (3.8 kB)\n",
      "Downloading multipledispatch-1.0.0-py3-none-any.whl (12 kB)\n",
      "Installing collected packages: multipledispatch\n",
      "Successfully installed multipledispatch-1.0.0\n"
     ]
    }
   ],
   "source": [
    "!pip install multipledispatch"
   ]
  },
  {
   "cell_type": "code",
   "execution_count": 159,
   "id": "6419cf48",
   "metadata": {},
   "outputs": [],
   "source": [
    "from multipledispatch import dispatch"
   ]
  },
  {
   "cell_type": "code",
   "execution_count": 213,
   "id": "c6b4aa92",
   "metadata": {},
   "outputs": [],
   "source": [
    "# 데이터의 타입에 따라서도 다르게 작동하게 하는 것이 가능하다\n",
    "class OverLoading2():\n",
    "    @dispatch(int,int)\n",
    "    def add(self,x,y):\n",
    "        return x + y\n",
    "    @dispatch(str,str)\n",
    "    def add(self,x,y):\n",
    "        return x + y\n",
    "    @dispatch(int,int,int)\n",
    "    def add(self,x,y,z):\n",
    "        return x + y +z\n",
    "    @dispatch(int,int,int,int)\n",
    "    def add(self,x,y,z,a):\n",
    "        return x + y +z +a"
   ]
  },
  {
   "cell_type": "code",
   "execution_count": 161,
   "id": "64b77a4e",
   "metadata": {},
   "outputs": [],
   "source": [
    "sam = OverLoading2()"
   ]
  },
  {
   "cell_type": "code",
   "execution_count": 162,
   "id": "25e90830",
   "metadata": {},
   "outputs": [
    {
     "data": {
      "text/plain": [
       "8"
      ]
     },
     "execution_count": 162,
     "metadata": {},
     "output_type": "execute_result"
    }
   ],
   "source": [
    "sam.add(3,5)"
   ]
  },
  {
   "cell_type": "markdown",
   "id": "aad3b742",
   "metadata": {},
   "source": [
    "# 클래스 속성과 인스턴스 속성\n",
    "* 클래스속성: 클래스 전체에서 공유하는 속성(변수), 모든 인스턴스에서 공유\n",
    "* 인스턴스 속성: 인스턴스에서만 사용하는 속성, 인스턴스간 공유 안됨"
   ]
  },
  {
   "cell_type": "code",
   "execution_count": 113,
   "id": "f08ad9d8",
   "metadata": {},
   "outputs": [],
   "source": [
    "class DoorLock():\n",
    "    #클래스 속성\n",
    "    password = \"0000\""
   ]
  },
  {
   "cell_type": "code",
   "execution_count": 114,
   "id": "f52c5182",
   "metadata": {},
   "outputs": [],
   "source": [
    "dul = DoorLock()"
   ]
  },
  {
   "cell_type": "code",
   "execution_count": 115,
   "id": "32fc73e7",
   "metadata": {},
   "outputs": [
    {
     "data": {
      "text/plain": [
       "'0000'"
      ]
     },
     "execution_count": 115,
     "metadata": {},
     "output_type": "execute_result"
    }
   ],
   "source": [
    "dul.password"
   ]
  },
  {
   "cell_type": "code",
   "execution_count": 116,
   "id": "393aefec",
   "metadata": {},
   "outputs": [],
   "source": [
    "gil = DoorLock()"
   ]
  },
  {
   "cell_type": "code",
   "execution_count": 117,
   "id": "e472037e",
   "metadata": {},
   "outputs": [
    {
     "data": {
      "text/plain": [
       "'0000'"
      ]
     },
     "execution_count": 117,
     "metadata": {},
     "output_type": "execute_result"
    }
   ],
   "source": [
    "gil.password"
   ]
  },
  {
   "cell_type": "markdown",
   "id": "ba1a19dc",
   "metadata": {},
   "source": [
    "park의 인스턴스 속성(비번 변경)"
   ]
  },
  {
   "cell_type": "code",
   "execution_count": 120,
   "id": "3d27b8d6",
   "metadata": {},
   "outputs": [],
   "source": [
    "pack = DoorLock()"
   ]
  },
  {
   "cell_type": "code",
   "execution_count": 121,
   "id": "c2acf899",
   "metadata": {},
   "outputs": [
    {
     "data": {
      "text/plain": [
       "'0000'"
      ]
     },
     "execution_count": 121,
     "metadata": {},
     "output_type": "execute_result"
    }
   ],
   "source": [
    "pack.password"
   ]
  },
  {
   "cell_type": "code",
   "execution_count": 123,
   "id": "62c803cf",
   "metadata": {},
   "outputs": [],
   "source": [
    "# 인스턴스 속성으로 변경\n",
    "pack.password = '1234'"
   ]
  },
  {
   "cell_type": "code",
   "execution_count": 124,
   "id": "6f806097",
   "metadata": {},
   "outputs": [
    {
     "data": {
      "text/plain": [
       "'1234'"
      ]
     },
     "execution_count": 124,
     "metadata": {},
     "output_type": "execute_result"
    }
   ],
   "source": [
    "pack.password"
   ]
  },
  {
   "cell_type": "code",
   "execution_count": 125,
   "id": "f2f2c362",
   "metadata": {},
   "outputs": [
    {
     "data": {
      "text/plain": [
       "'0000'"
      ]
     },
     "execution_count": 125,
     "metadata": {},
     "output_type": "execute_result"
    }
   ],
   "source": [
    "DoorLock.password"
   ]
  },
  {
   "cell_type": "code",
   "execution_count": 126,
   "id": "a3df8b94",
   "metadata": {},
   "outputs": [
    {
     "data": {
      "text/plain": [
       "'0000'"
      ]
     },
     "execution_count": 126,
     "metadata": {},
     "output_type": "execute_result"
    }
   ],
   "source": [
    "gil.password"
   ]
  },
  {
   "cell_type": "code",
   "execution_count": 127,
   "id": "da287a19",
   "metadata": {},
   "outputs": [],
   "source": [
    "gil.password = '4567'"
   ]
  },
  {
   "cell_type": "code",
   "execution_count": 128,
   "id": "04921218",
   "metadata": {},
   "outputs": [
    {
     "data": {
      "text/plain": [
       "'4567'"
      ]
     },
     "execution_count": 128,
     "metadata": {},
     "output_type": "execute_result"
    }
   ],
   "source": [
    "gil.password"
   ]
  },
  {
   "cell_type": "markdown",
   "id": "957a382e",
   "metadata": {},
   "source": [
    "# 비공개 클래스 속성\n",
    "* __변수명 - 비공개 속성 변수\n",
    "* 보안이 필요해서 남들에게 정보를 노출하고 싶지 않을 때 사용"
   ]
  },
  {
   "cell_type": "code",
   "execution_count": 136,
   "id": "1ae6059d",
   "metadata": {},
   "outputs": [],
   "source": [
    "class Pinfo():\n",
    "    lastname = '홍'\n",
    "    __first_name = '길동'\n",
    "    __password = '9513'"
   ]
  },
  {
   "cell_type": "code",
   "execution_count": 130,
   "id": "151730b1",
   "metadata": {},
   "outputs": [
    {
     "data": {
      "text/plain": [
       "'홍'"
      ]
     },
     "execution_count": 130,
     "metadata": {},
     "output_type": "execute_result"
    }
   ],
   "source": [
    "Pinfo.lastname"
   ]
  },
  {
   "cell_type": "code",
   "execution_count": 137,
   "id": "79e69a54",
   "metadata": {},
   "outputs": [
    {
     "ename": "AttributeError",
     "evalue": "type object 'Pinfo' has no attribute '__first_name'",
     "output_type": "error",
     "traceback": [
      "\u001b[1;31m---------------------------------------------------------------------------\u001b[0m",
      "\u001b[1;31mAttributeError\u001b[0m                            Traceback (most recent call last)",
      "Cell \u001b[1;32mIn[137], line 1\u001b[0m\n\u001b[1;32m----> 1\u001b[0m \u001b[43mPinfo\u001b[49m\u001b[38;5;241;43m.\u001b[39;49m\u001b[43m__first_name\u001b[49m\n",
      "\u001b[1;31mAttributeError\u001b[0m: type object 'Pinfo' has no attribute '__first_name'"
     ]
    }
   ],
   "source": [
    "Pinfo.__first_name"
   ]
  },
  {
   "cell_type": "code",
   "execution_count": 138,
   "id": "17614525",
   "metadata": {},
   "outputs": [
    {
     "ename": "AttributeError",
     "evalue": "type object 'Pinfo' has no attribute '__password'",
     "output_type": "error",
     "traceback": [
      "\u001b[1;31m---------------------------------------------------------------------------\u001b[0m",
      "\u001b[1;31mAttributeError\u001b[0m                            Traceback (most recent call last)",
      "Cell \u001b[1;32mIn[138], line 1\u001b[0m\n\u001b[1;32m----> 1\u001b[0m \u001b[43mPinfo\u001b[49m\u001b[38;5;241;43m.\u001b[39;49m\u001b[43m__password\u001b[49m\n",
      "\u001b[1;31mAttributeError\u001b[0m: type object 'Pinfo' has no attribute '__password'"
     ]
    }
   ],
   "source": [
    "Pinfo.__password"
   ]
  },
  {
   "cell_type": "code",
   "execution_count": 135,
   "id": "70f24f05",
   "metadata": {},
   "outputs": [],
   "source": [
    "hong = Pinfo()"
   ]
  },
  {
   "cell_type": "code",
   "execution_count": 139,
   "id": "71fd732d",
   "metadata": {},
   "outputs": [
    {
     "data": {
      "text/plain": [
       "'홍'"
      ]
     },
     "execution_count": 139,
     "metadata": {},
     "output_type": "execute_result"
    }
   ],
   "source": [
    "hong.lastname"
   ]
  },
  {
   "cell_type": "code",
   "execution_count": 141,
   "id": "fa0a91c1",
   "metadata": {},
   "outputs": [
    {
     "ename": "AttributeError",
     "evalue": "'Pinfo' object has no attribute '__first_name'",
     "output_type": "error",
     "traceback": [
      "\u001b[1;31m---------------------------------------------------------------------------\u001b[0m",
      "\u001b[1;31mAttributeError\u001b[0m                            Traceback (most recent call last)",
      "Cell \u001b[1;32mIn[141], line 1\u001b[0m\n\u001b[1;32m----> 1\u001b[0m \u001b[43mhong\u001b[49m\u001b[38;5;241;43m.\u001b[39;49m\u001b[43m__first_name\u001b[49m\n",
      "\u001b[1;31mAttributeError\u001b[0m: 'Pinfo' object has no attribute '__first_name'"
     ]
    }
   ],
   "source": [
    "hong.__first_name"
   ]
  },
  {
   "cell_type": "code",
   "execution_count": 142,
   "id": "6c34f36c",
   "metadata": {},
   "outputs": [
    {
     "ename": "AttributeError",
     "evalue": "'Pinfo' object has no attribute '__password'",
     "output_type": "error",
     "traceback": [
      "\u001b[1;31m---------------------------------------------------------------------------\u001b[0m",
      "\u001b[1;31mAttributeError\u001b[0m                            Traceback (most recent call last)",
      "Cell \u001b[1;32mIn[142], line 1\u001b[0m\n\u001b[1;32m----> 1\u001b[0m \u001b[43mhong\u001b[49m\u001b[38;5;241;43m.\u001b[39;49m\u001b[43m__password\u001b[49m\n",
      "\u001b[1;31mAttributeError\u001b[0m: 'Pinfo' object has no attribute '__password'"
     ]
    }
   ],
   "source": [
    "hong.__password"
   ]
  },
  {
   "cell_type": "markdown",
   "id": "dba6654d",
   "metadata": {},
   "source": [
    "* 비공개 클래스 속성을 직접 출력하려고 하면 에러\n",
    "* 클래스 내에서 메서드를 만들어서 출력하면 출력 가능"
   ]
  },
  {
   "cell_type": "code",
   "execution_count": 143,
   "id": "d088d1ca",
   "metadata": {},
   "outputs": [],
   "source": [
    "class Pinfo():\n",
    "    lastname = '홍'\n",
    "    __first_name = '길동'\n",
    "    __password = '9513'\n",
    "    \n",
    "    def print_name(self):\n",
    "        print(self.__first_name)\n",
    "        \n",
    "    def print_password(self):\n",
    "        print(self.__password)"
   ]
  },
  {
   "cell_type": "code",
   "execution_count": 144,
   "id": "32fc40ca",
   "metadata": {},
   "outputs": [],
   "source": [
    "sam = Pinfo()"
   ]
  },
  {
   "cell_type": "code",
   "execution_count": 145,
   "id": "d67b8f1d",
   "metadata": {},
   "outputs": [
    {
     "name": "stdout",
     "output_type": "stream",
     "text": [
      "길동\n"
     ]
    }
   ],
   "source": [
    "sam.print_name()"
   ]
  },
  {
   "cell_type": "code",
   "execution_count": 147,
   "id": "97553e8e",
   "metadata": {},
   "outputs": [
    {
     "name": "stdout",
     "output_type": "stream",
     "text": [
      "9513\n"
     ]
    }
   ],
   "source": [
    "sam.print_password()"
   ]
  },
  {
   "cell_type": "markdown",
   "id": "f9a80759",
   "metadata": {},
   "source": [
    "# 정적메서드 static method\n",
    "* 인스턴스를 만들지 않고도 클래스의 메서드를 바로 사용할 수 있는 메서드\n",
    "* 메서드 위에 @staticmethod라는 데코레이터(@)를 붙여서 만든다.\n",
    "* static method는 self를 받지 않으므로 인스턴스 속성, 인스턴스 메서드가 필요하지 않을 때 사용"
   ]
  },
  {
   "cell_type": "code",
   "execution_count": 148,
   "id": "49ac67c1",
   "metadata": {},
   "outputs": [],
   "source": [
    "class Cal():\n",
    "    @staticmethod\n",
    "    def add(a,b):\n",
    "        print(a+b)\n",
    "        \n",
    "    @staticmethod\n",
    "    def sub (a,b):\n",
    "        print(a-b)"
   ]
  },
  {
   "cell_type": "code",
   "execution_count": 149,
   "id": "838fdd03",
   "metadata": {},
   "outputs": [],
   "source": [
    "dul = Cal()"
   ]
  },
  {
   "cell_type": "code",
   "execution_count": 150,
   "id": "5e064da7",
   "metadata": {},
   "outputs": [
    {
     "name": "stdout",
     "output_type": "stream",
     "text": [
      "8\n"
     ]
    }
   ],
   "source": [
    "dul.add(3,5)"
   ]
  },
  {
   "cell_type": "code",
   "execution_count": 151,
   "id": "d300cdf9",
   "metadata": {},
   "outputs": [
    {
     "name": "stdout",
     "output_type": "stream",
     "text": [
      "8\n"
     ]
    }
   ],
   "source": [
    "Cal.add(3,5)"
   ]
  },
  {
   "cell_type": "code",
   "execution_count": 156,
   "id": "e377083f",
   "metadata": {},
   "outputs": [
    {
     "ename": "TypeError",
     "evalue": "setdata() missing 1 required positional argument: 'num2'",
     "output_type": "error",
     "traceback": [
      "\u001b[1;31m---------------------------------------------------------------------------\u001b[0m",
      "\u001b[1;31mTypeError\u001b[0m                                 Traceback (most recent call last)",
      "Cell \u001b[1;32mIn[156], line 1\u001b[0m\n\u001b[1;32m----> 1\u001b[0m \u001b[43mFourCal\u001b[49m\u001b[38;5;241;43m.\u001b[39;49m\u001b[43msetdata\u001b[49m\u001b[43m(\u001b[49m\u001b[38;5;241;43m3\u001b[39;49m\u001b[43m,\u001b[49m\u001b[38;5;241;43m5\u001b[39;49m\u001b[43m)\u001b[49m\n",
      "\u001b[1;31mTypeError\u001b[0m: setdata() missing 1 required positional argument: 'num2'"
     ]
    }
   ],
   "source": [
    "FourCal.setdata(3,5)"
   ]
  },
  {
   "cell_type": "markdown",
   "id": "e114b79f",
   "metadata": {},
   "source": [
    "# 클래스 메서드 class method\n",
    "* 메서드 위에 @classmethod를 붙여서 만든다.\n",
    "* 클래스 메서드의 첫 번째 매개변수에는 cls를 지정해야 한다.\n",
    "* 클래스 메서드도 staticmethod처럼 인스턴스 생성 없이 호출 가능하다.\n",
    "* 클래스 메서드는 메서드 안에서 클래스 속성, 클래스 메서드에 접근해야 할 때 사용"
   ]
  },
  {
   "cell_type": "code",
   "execution_count": 163,
   "id": "312a00ef",
   "metadata": {},
   "outputs": [],
   "source": [
    "class Factory():\n",
    "    n_coffice_machine = 0\n",
    "    \n",
    "    def __init__(self):\n",
    "        # 인스턴스가 생성될 떄 클래스 속성에 1을 더 함\n",
    "        Factory.n_coffice_machine += 1\n",
    "        \n",
    "    @classmethod\n",
    "    def print_n_coffice_machine(cls):\n",
    "        print(f\"{cls.n_coffice_machine}개가 제조되었습니다.\")"
   ]
  },
  {
   "cell_type": "code",
   "execution_count": 167,
   "id": "c1448564",
   "metadata": {},
   "outputs": [
    {
     "data": {
      "text/plain": [
       "2"
      ]
     },
     "execution_count": 167,
     "metadata": {},
     "output_type": "execute_result"
    }
   ],
   "source": [
    "Factory.n_coffice_machine"
   ]
  },
  {
   "cell_type": "code",
   "execution_count": 165,
   "id": "bbed7efe",
   "metadata": {},
   "outputs": [],
   "source": [
    "sam = Factory()"
   ]
  },
  {
   "cell_type": "code",
   "execution_count": 166,
   "id": "e54ac581",
   "metadata": {},
   "outputs": [],
   "source": [
    "sally = Factory()"
   ]
  },
  {
   "cell_type": "markdown",
   "id": "01c44c6a",
   "metadata": {},
   "source": [
    "* init  외에 객체(인스턴스)를 생성하는 대체 생성 방식을 제공\n",
    "* 입력 데이터의 형식이 다양할 때 classmethod 사용"
   ]
  },
  {
   "cell_type": "code",
   "execution_count": 195,
   "id": "56f32599",
   "metadata": {},
   "outputs": [],
   "source": [
    "class Date():\n",
    "    def __init__(self,year,month,day):\n",
    "        self.year,self.month,self.day = year,month,day\n",
    "    \n",
    "    def print_date(self):\n",
    "        print(self.year,self.month, self.day)\n",
    "    \n",
    "    @classmethod\n",
    "    def from_string(cls, date_str):\n",
    "        year, month, day = map(int, date_str.split(\"-\"))\n",
    "        return cls(year,month,day)"
   ]
  },
  {
   "cell_type": "code",
   "execution_count": 196,
   "id": "be6b4bc9",
   "metadata": {},
   "outputs": [],
   "source": [
    "dul = Date(2025,10,2)"
   ]
  },
  {
   "cell_type": "code",
   "execution_count": 197,
   "id": "e930e657",
   "metadata": {},
   "outputs": [
    {
     "name": "stdout",
     "output_type": "stream",
     "text": [
      "2025 10 2\n"
     ]
    }
   ],
   "source": [
    "dul.print_date()"
   ]
  },
  {
   "cell_type": "code",
   "execution_count": 198,
   "id": "96dd05bb",
   "metadata": {},
   "outputs": [
    {
     "ename": "TypeError",
     "evalue": "__init__() missing 2 required positional arguments: 'month' and 'day'",
     "output_type": "error",
     "traceback": [
      "\u001b[1;31m---------------------------------------------------------------------------\u001b[0m",
      "\u001b[1;31mTypeError\u001b[0m                                 Traceback (most recent call last)",
      "Cell \u001b[1;32mIn[198], line 1\u001b[0m\n\u001b[1;32m----> 1\u001b[0m dul \u001b[38;5;241m=\u001b[39m \u001b[43mDate\u001b[49m\u001b[43m(\u001b[49m\u001b[38;5;124;43m\"\u001b[39;49m\u001b[38;5;124;43m2025-10-02\u001b[39;49m\u001b[38;5;124;43m\"\u001b[39;49m\u001b[43m)\u001b[49m\n",
      "\u001b[1;31mTypeError\u001b[0m: __init__() missing 2 required positional arguments: 'month' and 'day'"
     ]
    }
   ],
   "source": [
    "dul = Date(\"2025-10-02\")"
   ]
  },
  {
   "cell_type": "code",
   "execution_count": 199,
   "id": "d529cff7",
   "metadata": {},
   "outputs": [],
   "source": [
    "dul2 = Date.from_string(\"2025-10-02\")"
   ]
  },
  {
   "cell_type": "code",
   "execution_count": 200,
   "id": "6fe13571",
   "metadata": {},
   "outputs": [
    {
     "name": "stdout",
     "output_type": "stream",
     "text": [
      "2025 10 2\n"
     ]
    }
   ],
   "source": [
    "dul.print_date()"
   ]
  },
  {
   "cell_type": "markdown",
   "id": "bd65e61b",
   "metadata": {},
   "source": [
    "# 추상 클래스 abc(abstract base class)\n",
    "* abc 모듈 필요\n",
    "* 추상 클래스는 추상 클래스를 상속받아 클래스를 만들 때 반드시 만들어야 하는 메소드를 지정해주는 클래스(업문 매뉴얼, to do list)\n",
    "* 인터페이스\n",
    "* 규칙을 부여해서 그 규칙에 따라 클래스를 만들도록 강제 함\n",
    "* 추상 클래스를 상속받은 클래스는 반드시 추상클래스에서 정의한 메소드를 overriding으로 구현해야 된다.\n",
    "* 이력서 양식에 맞추어 내용 적기"
   ]
  },
  {
   "cell_type": "code",
   "execution_count": 202,
   "id": "41327343",
   "metadata": {},
   "outputs": [],
   "source": [
    "from abc import *"
   ]
  },
  {
   "cell_type": "code",
   "execution_count": 203,
   "id": "26f61aa8",
   "metadata": {},
   "outputs": [],
   "source": [
    "# 추상 클래스\n",
    "class CoffeeBase(metaclass=ABCMeta):\n",
    "    @abstractmethod\n",
    "    def bean_input(self):\n",
    "        pass\n",
    "    \n",
    "    @abstractmethod\n",
    "    def grind(self):\n",
    "        pass"
   ]
  },
  {
   "cell_type": "code",
   "execution_count": 204,
   "id": "165775ca",
   "metadata": {},
   "outputs": [
    {
     "ename": "TypeError",
     "evalue": "Can't instantiate abstract class CoffeeBase with abstract methods bean_input, grind",
     "output_type": "error",
     "traceback": [
      "\u001b[1;31m---------------------------------------------------------------------------\u001b[0m",
      "\u001b[1;31mTypeError\u001b[0m                                 Traceback (most recent call last)",
      "Cell \u001b[1;32mIn[204], line 1\u001b[0m\n\u001b[1;32m----> 1\u001b[0m bon \u001b[38;5;241m=\u001b[39m \u001b[43mCoffeeBase\u001b[49m\u001b[43m(\u001b[49m\u001b[43m)\u001b[49m\n",
      "\u001b[1;31mTypeError\u001b[0m: Can't instantiate abstract class CoffeeBase with abstract methods bean_input, grind"
     ]
    }
   ],
   "source": [
    "bon = CoffeeBase()"
   ]
  },
  {
   "cell_type": "code",
   "execution_count": 207,
   "id": "e4f587b6",
   "metadata": {},
   "outputs": [],
   "source": [
    "class CoffeeMachine(CoffeeBase):\n",
    "    def bean_input(self):\n",
    "        print('커피 원두 넣기')\n",
    "    \n",
    "    \n",
    "    def grind(self):\n",
    "        print('커피 원두 갈기')"
   ]
  },
  {
   "cell_type": "code",
   "execution_count": 208,
   "id": "7919c846",
   "metadata": {},
   "outputs": [],
   "source": [
    "sam = CoffeeMachine()"
   ]
  },
  {
   "cell_type": "code",
   "execution_count": 210,
   "id": "b3c5b44b",
   "metadata": {},
   "outputs": [
    {
     "name": "stdout",
     "output_type": "stream",
     "text": [
      "커피 원두 넣기\n"
     ]
    }
   ],
   "source": [
    "sam.bean_input()"
   ]
  },
  {
   "cell_type": "code",
   "execution_count": 211,
   "id": "07a031d5",
   "metadata": {},
   "outputs": [
    {
     "name": "stdout",
     "output_type": "stream",
     "text": [
      "커피 원두 갈기\n"
     ]
    }
   ],
   "source": [
    "sam.grind()"
   ]
  },
  {
   "cell_type": "code",
   "execution_count": null,
   "id": "66551b39",
   "metadata": {},
   "outputs": [],
   "source": []
  }
 ],
 "metadata": {
  "kernelspec": {
   "display_name": "Python 3 (ipykernel)",
   "language": "python",
   "name": "python3"
  },
  "language_info": {
   "codemirror_mode": {
    "name": "ipython",
    "version": 3
   },
   "file_extension": ".py",
   "mimetype": "text/x-python",
   "name": "python",
   "nbconvert_exporter": "python",
   "pygments_lexer": "ipython3",
   "version": "3.9.23"
  }
 },
 "nbformat": 4,
 "nbformat_minor": 5
}
