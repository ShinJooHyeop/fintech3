{
 "cells": [
  {
   "cell_type": "code",
   "execution_count": 1,
   "id": "40332841",
   "metadata": {},
   "outputs": [
    {
     "name": "stdout",
     "output_type": "stream",
     "text": [
      "{} <class 'dict'>\n"
     ]
    }
   ],
   "source": [
    "#01\n",
    "empty_dict = {}\n",
    "print(empty_dict,type(empty_dict))"
   ]
  },
  {
   "cell_type": "code",
   "execution_count": 2,
   "id": "3cee8b10",
   "metadata": {},
   "outputs": [
    {
     "name": "stdout",
     "output_type": "stream",
     "text": [
      "{'name': 'Alice', 'age': 25, 'city': 'Seoul'}\n"
     ]
    }
   ],
   "source": [
    "#02\n",
    "person = {\"name\":\"Alice\",\"age\":25,\"city\":\"Seoul\"}\n",
    "print(person)"
   ]
  },
  {
   "cell_type": "code",
   "execution_count": 3,
   "id": "79082a55",
   "metadata": {},
   "outputs": [
    {
     "data": {
      "text/plain": [
       "'Alice'"
      ]
     },
     "execution_count": 3,
     "metadata": {},
     "output_type": "execute_result"
    }
   ],
   "source": [
    "# 03\n",
    "person['name']"
   ]
  },
  {
   "cell_type": "code",
   "execution_count": 4,
   "id": "55c27528",
   "metadata": {},
   "outputs": [
    {
     "data": {
      "text/plain": [
       "25"
      ]
     },
     "execution_count": 4,
     "metadata": {},
     "output_type": "execute_result"
    }
   ],
   "source": [
    "#04\n",
    "person['age']"
   ]
  },
  {
   "cell_type": "code",
   "execution_count": 5,
   "id": "031b8916",
   "metadata": {},
   "outputs": [
    {
     "name": "stdout",
     "output_type": "stream",
     "text": [
      "{'name': 'Alice', 'age': 25, 'city': 'Seoul', 'job': 'Engineer'}\n"
     ]
    }
   ],
   "source": [
    "#05\n",
    "person[\"job\"]=\"Engineer\"\n",
    "print(person)"
   ]
  },
  {
   "cell_type": "code",
   "execution_count": 6,
   "id": "54beb696",
   "metadata": {},
   "outputs": [
    {
     "name": "stdout",
     "output_type": "stream",
     "text": [
      "{'name': 'Alice', 'age': 25, 'city': 'Busan', 'job': 'Engineer'}\n"
     ]
    }
   ],
   "source": [
    "#06\n",
    "person[\"city\"]='Busan'\n",
    "print(person)"
   ]
  },
  {
   "cell_type": "code",
   "execution_count": 7,
   "id": "beae5fe7",
   "metadata": {},
   "outputs": [
    {
     "name": "stdout",
     "output_type": "stream",
     "text": [
      "{'name': 'Alice', 'city': 'Busan', 'job': 'Engineer'}\n"
     ]
    }
   ],
   "source": [
    "#07\n",
    "del person['age']\n",
    "print(person)"
   ]
  },
  {
   "cell_type": "code",
   "execution_count": 8,
   "id": "adefc498",
   "metadata": {},
   "outputs": [
    {
     "data": {
      "text/plain": [
       "dict_keys(['name', 'city', 'job'])"
      ]
     },
     "execution_count": 8,
     "metadata": {},
     "output_type": "execute_result"
    }
   ],
   "source": [
    "#08\n",
    "person.keys()"
   ]
  },
  {
   "cell_type": "code",
   "execution_count": 9,
   "id": "9d190625",
   "metadata": {},
   "outputs": [
    {
     "data": {
      "text/plain": [
       "dict_values(['Alice', 'Busan', 'Engineer'])"
      ]
     },
     "execution_count": 9,
     "metadata": {},
     "output_type": "execute_result"
    }
   ],
   "source": [
    "#09\n",
    "person.values()"
   ]
  },
  {
   "cell_type": "code",
   "execution_count": 10,
   "id": "2c4f458a",
   "metadata": {},
   "outputs": [
    {
     "data": {
      "text/plain": [
       "dict_items([('name', 'Alice'), ('city', 'Busan'), ('job', 'Engineer')])"
      ]
     },
     "execution_count": 10,
     "metadata": {},
     "output_type": "execute_result"
    }
   ],
   "source": [
    "#10\n",
    "person.items()"
   ]
  },
  {
   "cell_type": "code",
   "execution_count": 11,
   "id": "47aecd7f",
   "metadata": {},
   "outputs": [
    {
     "data": {
      "text/plain": [
       "False"
      ]
     },
     "execution_count": 11,
     "metadata": {},
     "output_type": "execute_result"
    }
   ],
   "source": [
    "#11\n",
    "'email' in person"
   ]
  },
  {
   "cell_type": "code",
   "execution_count": 12,
   "id": "bd05a379",
   "metadata": {},
   "outputs": [
    {
     "name": "stdout",
     "output_type": "stream",
     "text": [
      "{'name': 'Alice', 'city': 'Busan'}\n"
     ]
    }
   ],
   "source": [
    "#12\n",
    "del person['job']\n",
    "print(person)"
   ]
  },
  {
   "cell_type": "code",
   "execution_count": 13,
   "id": "aa6b221b",
   "metadata": {},
   "outputs": [
    {
     "name": "stdout",
     "output_type": "stream",
     "text": [
      "{}\n"
     ]
    }
   ],
   "source": [
    "#13\n",
    "person = {}\n",
    "print(person)"
   ]
  },
  {
   "cell_type": "code",
   "execution_count": 14,
   "id": "ab332d39",
   "metadata": {},
   "outputs": [
    {
     "name": "stdout",
     "output_type": "stream",
     "text": [
      "{'name': 'bob', 'grades': {'math': 85, 'science': 90, 'history': 80}}\n"
     ]
    }
   ],
   "source": [
    "#14\n",
    "student = {'name':'bob','grades':{'math':85,'science':90,'history':80}}\n",
    "print(student)"
   ]
  },
  {
   "cell_type": "code",
   "execution_count": 15,
   "id": "9e47c7c5",
   "metadata": {},
   "outputs": [
    {
     "data": {
      "text/plain": [
       "90"
      ]
     },
     "execution_count": 15,
     "metadata": {},
     "output_type": "execute_result"
    }
   ],
   "source": [
    "#15\n",
    "student['grades']['science']"
   ]
  },
  {
   "cell_type": "code",
   "execution_count": 16,
   "id": "94fb8363",
   "metadata": {},
   "outputs": [
    {
     "name": "stdout",
     "output_type": "stream",
     "text": [
      "{'name': 'bob', 'grades': {'math': 85, 'science': 90, 'history': 80, 'english': 95}}\n"
     ]
    }
   ],
   "source": [
    "#16\n",
    "student['grades']['english']=95\n",
    "print(student)"
   ]
  },
  {
   "cell_type": "code",
   "execution_count": 17,
   "id": "c8493a87",
   "metadata": {},
   "outputs": [
    {
     "name": "stdout",
     "output_type": "stream",
     "text": [
      "{'name': 'bob', 'grades': {'math': 88, 'science': 90, 'history': 80, 'english': 95}}\n"
     ]
    }
   ],
   "source": [
    "#17\n",
    "student['grades']['math']=88\n",
    "print(student)"
   ]
  },
  {
   "cell_type": "code",
   "execution_count": 18,
   "id": "44cf575a",
   "metadata": {},
   "outputs": [
    {
     "name": "stdout",
     "output_type": "stream",
     "text": [
      "{'name': 'bob', 'grades': {'math': 88, 'science': 90, 'english': 95}}\n"
     ]
    }
   ],
   "source": [
    "#18\n",
    "del student['grades']['history']\n",
    "print(student)"
   ]
  },
  {
   "cell_type": "code",
   "execution_count": 19,
   "id": "a8af9942",
   "metadata": {},
   "outputs": [
    {
     "name": "stdout",
     "output_type": "stream",
     "text": [
      "{'name': 'bob', 'grades': {'math': 88, 'science': 90, 'english': 95}, 'total': 273}\n"
     ]
    }
   ],
   "source": [
    "#19\n",
    "student.setdefault('total',sum(student['grades'].values()))\n",
    "print(student)"
   ]
  },
  {
   "cell_type": "code",
   "execution_count": 20,
   "id": "3f82b798",
   "metadata": {},
   "outputs": [
    {
     "name": "stdout",
     "output_type": "stream",
     "text": [
      "{'name': 'bob', 'grades': {'math': 88, 'science': 90, 'english': 100, 'history': 80}, 'total': 273}\n"
     ]
    }
   ],
   "source": [
    "#20\n",
    "student['grades'].update(english=100)\n",
    "student['grades'].update(history=80)\n",
    "print(student)"
   ]
  },
  {
   "cell_type": "code",
   "execution_count": 21,
   "id": "34aed594",
   "metadata": {},
   "outputs": [
    {
     "name": "stdout",
     "output_type": "stream",
     "text": [
      "{'programming': {'python': 50, 'java': 30, 'cpp': 20}, 'desgin': {'Photoshop': 25, 'Illustrator': 15}}\n"
     ]
    }
   ],
   "source": [
    "#21\n",
    "courses = dict({'programming':{'python':50,'java':30,'cpp':20},\n",
    "               'desgin':{'Photoshop':25,'Illustrator':15}})\n",
    "print(courses)"
   ]
  },
  {
   "cell_type": "code",
   "execution_count": 22,
   "id": "53031c95",
   "metadata": {},
   "outputs": [
    {
     "data": {
      "text/plain": [
       "50"
      ]
     },
     "execution_count": 22,
     "metadata": {},
     "output_type": "execute_result"
    }
   ],
   "source": [
    "#22\n",
    "courses['programming']['python']"
   ]
  },
  {
   "cell_type": "code",
   "execution_count": 23,
   "id": "2dd5f0e1",
   "metadata": {},
   "outputs": [
    {
     "name": "stdout",
     "output_type": "stream",
     "text": [
      "{'programming': {'python': 50, 'java': 30, 'cpp': 25}, 'desgin': {'Photoshop': 25, 'Illustrator': 15}}\n"
     ]
    }
   ],
   "source": [
    "#23\n",
    "courses['programming']['cpp']=25\n",
    "print(courses)"
   ]
  },
  {
   "cell_type": "code",
   "execution_count": 24,
   "id": "34dc22f0",
   "metadata": {},
   "outputs": [
    {
     "name": "stdout",
     "output_type": "stream",
     "text": [
      "{'programming': {'python': 50, 'java': 30, 'cpp': 25}, 'desgin': {'Illustrator': 15}}\n"
     ]
    }
   ],
   "source": [
    "#24\n",
    "del courses['desgin']['Photoshop']\n",
    "print(courses)"
   ]
  },
  {
   "cell_type": "code",
   "execution_count": 25,
   "id": "fba4e674",
   "metadata": {},
   "outputs": [
    {
     "name": "stdout",
     "output_type": "stream",
     "text": [
      "{'programming': {'python': 50, 'java': 30, 'cpp': 25, 'JavaScript': 40}, 'desgin': {'Illustrator': 15}}\n"
     ]
    }
   ],
   "source": [
    "#25\n",
    "courses['programming']['JavaScript']=40\n",
    "print(courses)"
   ]
  },
  {
   "cell_type": "code",
   "execution_count": 26,
   "id": "140b23bb",
   "metadata": {},
   "outputs": [
    {
     "data": {
      "text/plain": [
       "dict_keys(['programming', 'desgin'])"
      ]
     },
     "execution_count": 26,
     "metadata": {},
     "output_type": "execute_result"
    }
   ],
   "source": [
    "#26\n",
    "courses.keys()"
   ]
  },
  {
   "cell_type": "code",
   "execution_count": 27,
   "id": "2b011db1",
   "metadata": {},
   "outputs": [
    {
     "data": {
      "text/plain": [
       "{'Illustrator': 15}"
      ]
     },
     "execution_count": 27,
     "metadata": {},
     "output_type": "execute_result"
    }
   ],
   "source": [
    "#27\n",
    "courses['desgin']"
   ]
  },
  {
   "cell_type": "code",
   "execution_count": 28,
   "id": "b408ecb3",
   "metadata": {},
   "outputs": [
    {
     "name": "stdout",
     "output_type": "stream",
     "text": [
      "{'programming': {'python': 50, 'java': 30, 'cpp': 25, 'JavaScript': 40}}\n"
     ]
    }
   ],
   "source": [
    "#28\n",
    "del courses['desgin']\n",
    "print(courses)"
   ]
  },
  {
   "cell_type": "code",
   "execution_count": 29,
   "id": "a46d050a",
   "metadata": {},
   "outputs": [
    {
     "data": {
      "text/plain": [
       "True"
      ]
     },
     "execution_count": 29,
     "metadata": {},
     "output_type": "execute_result"
    }
   ],
   "source": [
    "#29\n",
    "'programming' in courses"
   ]
  },
  {
   "cell_type": "code",
   "execution_count": 30,
   "id": "c5346109",
   "metadata": {},
   "outputs": [
    {
     "data": {
      "text/plain": [
       "'design key 없음'"
      ]
     },
     "execution_count": 30,
     "metadata": {},
     "output_type": "execute_result"
    }
   ],
   "source": [
    "#30\n",
    "courses.get('design','design key 없음')"
   ]
  },
  {
   "cell_type": "code",
   "execution_count": null,
   "id": "85c61f2f",
   "metadata": {},
   "outputs": [],
   "source": []
  }
 ],
 "metadata": {
  "kernelspec": {
   "display_name": "Python 3 (ipykernel)",
   "language": "python",
   "name": "python3"
  },
  "language_info": {
   "codemirror_mode": {
    "name": "ipython",
    "version": 3
   },
   "file_extension": ".py",
   "mimetype": "text/x-python",
   "name": "python",
   "nbconvert_exporter": "python",
   "pygments_lexer": "ipython3",
   "version": "3.9.23"
  }
 },
 "nbformat": 4,
 "nbformat_minor": 5
}
