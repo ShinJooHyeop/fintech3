{
 "cells": [
  {
   "cell_type": "markdown",
   "id": "5ac3da26",
   "metadata": {},
   "source": [
    "# 딕셔너리 사용하기\n",
    "* dict타입 , json 타입이라고도 함\n",
    "* web에서 자료를 주고 받을 때 주로 사용하는 형식(api)\n",
    "* key : value 쌍으로 이루어진 자료형\n",
    "* key를 호출하면 value가 나온다.\n",
    "* key에는 list,dict를 제외한 자료형이 올 수 있다.\n",
    "* value에는 모든 자료형이 올 수 있다."
   ]
  },
  {
   "cell_type": "markdown",
   "id": "25dedd03",
   "metadata": {},
   "source": [
    "# 딕셔너리 만들기\n",
    "* 중괄호 안에 key : value 쌍으로 만든다.\n",
    "* 빈 딕셔너리 생성 가능{}\n",
    "* dict()함수를 이용해서 대량의 딕셔너리 생성 가능"
   ]
  },
  {
   "cell_type": "code",
   "execution_count": 58,
   "id": "65e90b11",
   "metadata": {},
   "outputs": [
    {
     "data": {
      "text/plain": [
       "{'년월': '20250924', '국가': '미국', '방문자수': 1000}"
      ]
     },
     "execution_count": 58,
     "metadata": {},
     "output_type": "execute_result"
    }
   ],
   "source": [
    "d = {'년월' : '20250924','국가': '미국','방문자수':1000}\n",
    "d"
   ]
  },
  {
   "cell_type": "code",
   "execution_count": 59,
   "id": "99f31d8d",
   "metadata": {},
   "outputs": [
    {
     "data": {
      "text/plain": [
       "'20250924'"
      ]
     },
     "execution_count": 59,
     "metadata": {},
     "output_type": "execute_result"
    }
   ],
   "source": [
    "d['년월']"
   ]
  },
  {
   "cell_type": "code",
   "execution_count": 60,
   "id": "9d127fa9",
   "metadata": {},
   "outputs": [
    {
     "name": "stdout",
     "output_type": "stream",
     "text": [
      "{} <class 'dict'>\n"
     ]
    }
   ],
   "source": [
    "d2 = {}\n",
    "print(d2,type(d2))"
   ]
  },
  {
   "cell_type": "markdown",
   "id": "23a27a54",
   "metadata": {},
   "source": [
    "# dict key의 자료형\n",
    "* list와 dict를 제외한 나머지 자료형으로 만듬\n",
    "* 정수,실수,문자열,블릔(True,False), Tuple"
   ]
  },
  {
   "cell_type": "code",
   "execution_count": 61,
   "id": "ab08bfaf",
   "metadata": {},
   "outputs": [
    {
     "data": {
      "text/plain": [
       "{'백': 100, 100: '백', 3.5: [3.5, 3.7], False: 0, (0, '서울'): '강남구'}"
      ]
     },
     "execution_count": 61,
     "metadata": {},
     "output_type": "execute_result"
    }
   ],
   "source": [
    "d3 = {'백' : 100 , 100 : '백',3.5 :[3.5,3.7], False:0,(0,'서울'):'강남구'}\n",
    "d3"
   ]
  },
  {
   "cell_type": "code",
   "execution_count": 62,
   "id": "96476a5c",
   "metadata": {},
   "outputs": [
    {
     "data": {
      "text/plain": [
       "100"
      ]
     },
     "execution_count": 62,
     "metadata": {},
     "output_type": "execute_result"
    }
   ],
   "source": [
    "# 문자열 키\n",
    "d3['백']"
   ]
  },
  {
   "cell_type": "code",
   "execution_count": 63,
   "id": "344395ed",
   "metadata": {},
   "outputs": [
    {
     "data": {
      "text/plain": [
       "'백'"
      ]
     },
     "execution_count": 63,
     "metadata": {},
     "output_type": "execute_result"
    }
   ],
   "source": [
    "# 정수키\n",
    "d3[100]"
   ]
  },
  {
   "cell_type": "code",
   "execution_count": 64,
   "id": "37aa8ee0",
   "metadata": {},
   "outputs": [
    {
     "data": {
      "text/plain": [
       "[3.5, 3.7]"
      ]
     },
     "execution_count": 64,
     "metadata": {},
     "output_type": "execute_result"
    }
   ],
   "source": [
    "# 실수 키\n",
    "d3[3.5]"
   ]
  },
  {
   "cell_type": "code",
   "execution_count": 65,
   "id": "43b8e1c9",
   "metadata": {},
   "outputs": [
    {
     "data": {
      "text/plain": [
       "0"
      ]
     },
     "execution_count": 65,
     "metadata": {},
     "output_type": "execute_result"
    }
   ],
   "source": [
    "# 블린 키\n",
    "d3[False]"
   ]
  },
  {
   "cell_type": "code",
   "execution_count": 66,
   "id": "89bca1c6",
   "metadata": {},
   "outputs": [
    {
     "data": {
      "text/plain": [
       "'강남구'"
      ]
     },
     "execution_count": 66,
     "metadata": {},
     "output_type": "execute_result"
    }
   ],
   "source": [
    "# 튜플 키\n",
    "d3[(0,'서울')]"
   ]
  },
  {
   "cell_type": "markdown",
   "id": "c5e78ff3",
   "metadata": {},
   "source": [
    "# 딕셔너리 value의 자료형\n",
    "* value는 모든 자료형이 올 수 있다."
   ]
  },
  {
   "cell_type": "code",
   "execution_count": 67,
   "id": "449e8350",
   "metadata": {},
   "outputs": [
    {
     "data": {
      "text/plain": [
       "{'정수': 100,\n",
       " '실수': 3.5,\n",
       " '문자열': '딕셔너리의 값',\n",
       " '리스트': [1, 2, 3, 4],\n",
       " '튜플': (5, 6, 7, 8),\n",
       " '딕셔너리': {'key': 'value'},\n",
       " '블린': True}"
      ]
     },
     "execution_count": 67,
     "metadata": {},
     "output_type": "execute_result"
    }
   ],
   "source": [
    "d4 = {\"정수\" : 100, \"실수\" : 3.5, \"문자열\": \"딕셔너리의 값\",\n",
    "     \"리스트\" : [1,2,3,4],\"튜플\":(5,6,7,8),\n",
    "     \"딕셔너리\": {'key' : 'value'},\n",
    "     \"블린\" : True}\n",
    "d4"
   ]
  },
  {
   "cell_type": "code",
   "execution_count": 68,
   "id": "e98b1903",
   "metadata": {},
   "outputs": [
    {
     "data": {
      "text/plain": [
       "100"
      ]
     },
     "execution_count": 68,
     "metadata": {},
     "output_type": "execute_result"
    }
   ],
   "source": [
    "d4['정수']"
   ]
  },
  {
   "cell_type": "code",
   "execution_count": 69,
   "id": "ff5f12ab",
   "metadata": {},
   "outputs": [
    {
     "data": {
      "text/plain": [
       "3.5"
      ]
     },
     "execution_count": 69,
     "metadata": {},
     "output_type": "execute_result"
    }
   ],
   "source": [
    "d4['실수']"
   ]
  },
  {
   "cell_type": "code",
   "execution_count": 70,
   "id": "19943738",
   "metadata": {},
   "outputs": [
    {
     "data": {
      "text/plain": [
       "[1, 2, 3, 4]"
      ]
     },
     "execution_count": 70,
     "metadata": {},
     "output_type": "execute_result"
    }
   ],
   "source": [
    "d4['리스트']"
   ]
  },
  {
   "cell_type": "code",
   "execution_count": 71,
   "id": "4d54b5d5",
   "metadata": {},
   "outputs": [
    {
     "data": {
      "text/plain": [
       "(5, 6, 7, 8)"
      ]
     },
     "execution_count": 71,
     "metadata": {},
     "output_type": "execute_result"
    }
   ],
   "source": [
    "d4['튜플']"
   ]
  },
  {
   "cell_type": "code",
   "execution_count": 72,
   "id": "5e112acc",
   "metadata": {},
   "outputs": [
    {
     "data": {
      "text/plain": [
       "{'key': 'value'}"
      ]
     },
     "execution_count": 72,
     "metadata": {},
     "output_type": "execute_result"
    }
   ],
   "source": [
    "d4['딕셔너리']"
   ]
  },
  {
   "cell_type": "code",
   "execution_count": 73,
   "id": "c701e1a6",
   "metadata": {},
   "outputs": [
    {
     "data": {
      "text/plain": [
       "True"
      ]
     },
     "execution_count": 73,
     "metadata": {},
     "output_type": "execute_result"
    }
   ],
   "source": [
    "d4['블린']"
   ]
  },
  {
   "cell_type": "markdown",
   "id": "dd9c9ec6",
   "metadata": {},
   "source": [
    "# 빈 딕셔너리 만들기\n",
    "* 변수 = {}\n",
    "* 변수 = dict()"
   ]
  },
  {
   "cell_type": "code",
   "execution_count": 74,
   "id": "1d8e64c3",
   "metadata": {},
   "outputs": [
    {
     "name": "stdout",
     "output_type": "stream",
     "text": [
      "{} <class 'dict'>\n"
     ]
    }
   ],
   "source": [
    "d5 = {}\n",
    "print(d5,type(d5))"
   ]
  },
  {
   "cell_type": "code",
   "execution_count": 75,
   "id": "fa549039",
   "metadata": {},
   "outputs": [
    {
     "name": "stdout",
     "output_type": "stream",
     "text": [
      "{} <class 'dict'>\n"
     ]
    }
   ],
   "source": [
    "d6 = dict()\n",
    "print(d6,type(d6))"
   ]
  },
  {
   "cell_type": "markdown",
   "id": "2c989ebc",
   "metadata": {},
   "source": [
    "# 딕셔너리에 자료 추가하기\n",
    "* 변수['key'] = value\n",
    "* 이미 키가 있는 경우에는 자료가 수정됨, 나중에 입력한 자료로 덮어쓰기 됨."
   ]
  },
  {
   "cell_type": "code",
   "execution_count": 76,
   "id": "73517224",
   "metadata": {},
   "outputs": [
    {
     "data": {
      "text/plain": [
       "{}"
      ]
     },
     "execution_count": 76,
     "metadata": {},
     "output_type": "execute_result"
    }
   ],
   "source": [
    "d5"
   ]
  },
  {
   "cell_type": "code",
   "execution_count": 77,
   "id": "37652a80",
   "metadata": {},
   "outputs": [
    {
     "data": {
      "text/plain": [
       "{'번호': 0}"
      ]
     },
     "execution_count": 77,
     "metadata": {},
     "output_type": "execute_result"
    }
   ],
   "source": [
    "d5['번호']=0\n",
    "d5"
   ]
  },
  {
   "cell_type": "code",
   "execution_count": 78,
   "id": "8e483c85",
   "metadata": {},
   "outputs": [
    {
     "data": {
      "text/plain": [
       "{'번호': 0, '리스트': [1, 2, 3]}"
      ]
     },
     "execution_count": 78,
     "metadata": {},
     "output_type": "execute_result"
    }
   ],
   "source": [
    "d5['리스트']=[1,2,3]\n",
    "d5"
   ]
  },
  {
   "cell_type": "code",
   "execution_count": 79,
   "id": "542cd5ed",
   "metadata": {},
   "outputs": [
    {
     "data": {
      "text/plain": [
       "{'번호': 0, '리스트': [1, 2, 3, 4]}"
      ]
     },
     "execution_count": 79,
     "metadata": {},
     "output_type": "execute_result"
    }
   ],
   "source": [
    "# 이미 키가 있는 경우 나중 값으로 대체된다.\n",
    "d5['리스트']=[1,2,3,4]\n",
    "d5"
   ]
  },
  {
   "cell_type": "code",
   "execution_count": 80,
   "id": "e3dd1fee",
   "metadata": {},
   "outputs": [
    {
     "data": {
      "text/plain": [
       "{'번호': 1, '이름': '둘리', '나이': 15}"
      ]
     },
     "execution_count": 80,
     "metadata": {},
     "output_type": "execute_result"
    }
   ],
   "source": [
    "d7 = {'번호' : 0, '이름' : '홍길동' , '나이' : 35,\n",
    "     '번호' : 1, '이름' : '둘리' , '나이' : 15}\n",
    "d7"
   ]
  },
  {
   "cell_type": "markdown",
   "id": "f8cc73df",
   "metadata": {},
   "source": [
    "# dict 함수를 이용해서 dict 만들기\n",
    "* dict(key1 = value1,key2 = value2,key3 = value3)\n",
    "* key부분에 \"\"(따옴표)를 사용하지 않는다.\n",
    "* key는 모두 문자형으로 변환된다.\n",
    "* value가 문자형이면 반드시 \"\"가 필요하다."
   ]
  },
  {
   "cell_type": "code",
   "execution_count": 81,
   "id": "f11e5907",
   "metadata": {},
   "outputs": [
    {
     "data": {
      "text/plain": [
       "{'정수': 100,\n",
       " '실수': 3.5,\n",
       " '문자': '문자열',\n",
       " '리스트': [1, 2, 3],\n",
       " '튜플': (4, 5, 6),\n",
       " '딕셔너리': {'key': 'value'}}"
      ]
     },
     "execution_count": 81,
     "metadata": {},
     "output_type": "execute_result"
    }
   ],
   "source": [
    "dict_ex1 = dict(정수=100, 실수 = 3.5, 문자=\"문자열\",리스트=[1,2,3],튜플=(4,5,6),\n",
    "               딕셔너리 = {'key':'value'})\n",
    "dict_ex1"
   ]
  },
  {
   "cell_type": "markdown",
   "id": "ce8b95a4",
   "metadata": {},
   "source": [
    "* dict([(ke1,value1),(ke2,value2),(ke3,value3)])\n",
    "* 리스트 안에 key,value 쌍으로 된 튜플을 넣어서 만듬\n",
    "* key는 자료형애 맞춰서 작성"
   ]
  },
  {
   "cell_type": "code",
   "execution_count": 82,
   "id": "42c809b1",
   "metadata": {},
   "outputs": [
    {
     "data": {
      "text/plain": [
       "{1: 10,\n",
       " 3.5: '3.5',\n",
       " '문자열': '문자열입니다.',\n",
       " 'list': [1, 2, 3],\n",
       " 'tuple': (4, 5, 6),\n",
       " 'dict': {'key': 'value'}}"
      ]
     },
     "execution_count": 82,
     "metadata": {},
     "output_type": "execute_result"
    }
   ],
   "source": [
    "dict_ex2 = dict([(1,10),(3.5,\"3.5\"),('문자열','문자열입니다.'),\n",
    "                ('list',[1,2,3]),('tuple',(4,5,6)),\n",
    "                 ('dict',{'key':'value'})])\n",
    "dict_ex2"
   ]
  },
  {
   "cell_type": "markdown",
   "id": "ed547566",
   "metadata": {},
   "source": [
    "* dict(zip([key1,key2,key3],[value1,value2,value3]))\n",
    "* key 묶음 리스트와  value 묶음 리스트를 zip함수로 합친 후 dict 생성\n",
    "* key묶음의 요소 개수와 value 묶음의 요소 개수가 일치해야 함"
   ]
  },
  {
   "cell_type": "code",
   "execution_count": 2,
   "id": "1ebeeb0e",
   "metadata": {},
   "outputs": [
    {
     "name": "stdout",
     "output_type": "stream",
     "text": [
      "1 2 3 "
     ]
    }
   ],
   "source": [
    "# zip함수 예시\n",
    "for i in [1,2,3]:\n",
    "    print(i,end=\" \")"
   ]
  },
  {
   "cell_type": "code",
   "execution_count": 84,
   "id": "31b65652",
   "metadata": {},
   "outputs": [
    {
     "name": "stdout",
     "output_type": "stream",
     "text": [
      "(1, 4, 7) (2, 5, 8) "
     ]
    }
   ],
   "source": [
    "for i in zip([1,2,3], [4,5,6],[7,8]):\n",
    "    print(i,end=\" \")"
   ]
  },
  {
   "cell_type": "code",
   "execution_count": 85,
   "id": "7f2271cc",
   "metadata": {},
   "outputs": [
    {
     "data": {
      "text/plain": [
       "{'정수': 10, '실수': 12.5, '문자열': '문자열입니다.'}"
      ]
     },
     "execution_count": 85,
     "metadata": {},
     "output_type": "execute_result"
    }
   ],
   "source": [
    "dict_ex3 = dict(zip(['정수','실수','문자열'],[10,12.5,'문자열입니다.']))\n",
    "dict_ex3"
   ]
  },
  {
   "cell_type": "code",
   "execution_count": 86,
   "id": "1b98f641",
   "metadata": {},
   "outputs": [
    {
     "data": {
      "text/plain": [
       "10"
      ]
     },
     "execution_count": 86,
     "metadata": {},
     "output_type": "execute_result"
    }
   ],
   "source": [
    "dict_ex3['정수']"
   ]
  },
  {
   "cell_type": "markdown",
   "id": "88aa0048",
   "metadata": {},
   "source": [
    "# 딕셔너리에 값 입력하고,수정하고,삭제하기"
   ]
  },
  {
   "cell_type": "code",
   "execution_count": 87,
   "id": "497bf2cc",
   "metadata": {},
   "outputs": [
    {
     "data": {
      "text/plain": [
       "{1: 10,\n",
       " 3.5: '3.5',\n",
       " '문자열': '문자열입니다.',\n",
       " 'list': [1, 2, 3],\n",
       " 'tuple': (4, 5, 6),\n",
       " 'dict': {'key': 'value'}}"
      ]
     },
     "execution_count": 87,
     "metadata": {},
     "output_type": "execute_result"
    }
   ],
   "source": [
    "dict_ex2"
   ]
  },
  {
   "cell_type": "code",
   "execution_count": 88,
   "id": "e1fdd572",
   "metadata": {},
   "outputs": [
    {
     "data": {
      "text/plain": [
       "{1: 10,\n",
       " 3.5: '3.5',\n",
       " '문자열': '문자열입니다.',\n",
       " 'list': [1, 2, 3],\n",
       " 'tuple': (4, 5, 6),\n",
       " 'dict': {'key': 'value'},\n",
       " 'newkey': '새로운 데이터'}"
      ]
     },
     "execution_count": 88,
     "metadata": {},
     "output_type": "execute_result"
    }
   ],
   "source": [
    "dict_ex2['newkey'] = '새로운 데이터'\n",
    "dict_ex2"
   ]
  },
  {
   "cell_type": "code",
   "execution_count": 89,
   "id": "17d25af6",
   "metadata": {},
   "outputs": [],
   "source": [
    "# 딕셔너리 안에 있는 list value에 새로운 값 추가,수정,삭제"
   ]
  },
  {
   "cell_type": "code",
   "execution_count": 90,
   "id": "e23a18e6",
   "metadata": {},
   "outputs": [],
   "source": [
    "# 딕셔너리 안에있는 값이 리스트면 리스트에 사용가능한 함수도 사용할 수있다."
   ]
  },
  {
   "cell_type": "code",
   "execution_count": 91,
   "id": "db69bffe",
   "metadata": {},
   "outputs": [
    {
     "data": {
      "text/plain": [
       "13.5"
      ]
     },
     "execution_count": 91,
     "metadata": {},
     "output_type": "execute_result"
    }
   ],
   "source": [
    "# 정수 ,문자열\n",
    "dict_ex2[1] + float(dict_ex2[3.5])"
   ]
  },
  {
   "cell_type": "code",
   "execution_count": 92,
   "id": "11971ce7",
   "metadata": {},
   "outputs": [
    {
     "data": {
      "text/plain": [
       "[1, 2, 3, 4]"
      ]
     },
     "execution_count": 92,
     "metadata": {},
     "output_type": "execute_result"
    }
   ],
   "source": [
    "dict_ex2['list'].append(4)\n",
    "dict_ex2['list']"
   ]
  },
  {
   "cell_type": "code",
   "execution_count": 93,
   "id": "2b420acd",
   "metadata": {},
   "outputs": [
    {
     "data": {
      "text/plain": [
       "4"
      ]
     },
     "execution_count": 93,
     "metadata": {},
     "output_type": "execute_result"
    }
   ],
   "source": [
    "max(dict_ex2['list'])"
   ]
  },
  {
   "cell_type": "code",
   "execution_count": 94,
   "id": "efce138e",
   "metadata": {},
   "outputs": [
    {
     "name": "stdout",
     "output_type": "stream",
     "text": [
      "[1, 2, 30, 3, 4]\n"
     ]
    }
   ],
   "source": [
    "dict_ex2['list'].insert(2,30)\n",
    "print(dict_ex2['list'])"
   ]
  },
  {
   "cell_type": "code",
   "execution_count": 95,
   "id": "26d40eb8",
   "metadata": {},
   "outputs": [],
   "source": [
    "dict_ex2['list'][2] = 33"
   ]
  },
  {
   "cell_type": "code",
   "execution_count": 96,
   "id": "fa1083c3",
   "metadata": {},
   "outputs": [
    {
     "data": {
      "text/plain": [
       "[1, 2, 33, 3, 4]"
      ]
     },
     "execution_count": 96,
     "metadata": {},
     "output_type": "execute_result"
    }
   ],
   "source": [
    "dict_ex2['list']"
   ]
  },
  {
   "cell_type": "code",
   "execution_count": 97,
   "id": "a4deb2e9",
   "metadata": {},
   "outputs": [
    {
     "data": {
      "text/plain": [
       "4"
      ]
     },
     "execution_count": 97,
     "metadata": {},
     "output_type": "execute_result"
    }
   ],
   "source": [
    "dict_ex2['list'].pop()"
   ]
  },
  {
   "cell_type": "code",
   "execution_count": 98,
   "id": "5310942e",
   "metadata": {},
   "outputs": [],
   "source": [
    "dict_ex2['list'].remove(2)"
   ]
  },
  {
   "cell_type": "code",
   "execution_count": 99,
   "id": "c57ab4fe",
   "metadata": {},
   "outputs": [
    {
     "data": {
      "text/plain": [
       "[1, 33, 3]"
      ]
     },
     "execution_count": 99,
     "metadata": {},
     "output_type": "execute_result"
    }
   ],
   "source": [
    "dict_ex2['list']"
   ]
  },
  {
   "cell_type": "code",
   "execution_count": 100,
   "id": "e3795950",
   "metadata": {},
   "outputs": [
    {
     "data": {
      "text/plain": [
       "{1: 10,\n",
       " 3.5: '3.5',\n",
       " '문자열': '문자열입니다.',\n",
       " 'list': [1, 33, 3],\n",
       " 'tuple': (4, 5, 6),\n",
       " 'dict': {'key': 'value'},\n",
       " 'newkey': '새로운 데이터'}"
      ]
     },
     "execution_count": 100,
     "metadata": {},
     "output_type": "execute_result"
    }
   ],
   "source": [
    "dict_ex2"
   ]
  },
  {
   "cell_type": "code",
   "execution_count": 101,
   "id": "e9c9b8e1",
   "metadata": {},
   "outputs": [
    {
     "data": {
      "text/plain": [
       "{'key': 'value'}"
      ]
     },
     "execution_count": 101,
     "metadata": {},
     "output_type": "execute_result"
    }
   ],
   "source": [
    "dict_ex2['dict']"
   ]
  },
  {
   "cell_type": "code",
   "execution_count": 102,
   "id": "22e83f8c",
   "metadata": {},
   "outputs": [],
   "source": [
    "dict_ex2['dict']['key2']=\"value2\""
   ]
  },
  {
   "cell_type": "code",
   "execution_count": 103,
   "id": "139e4e28",
   "metadata": {},
   "outputs": [
    {
     "data": {
      "text/plain": [
       "{'key': 'value', 'key2': 'value2'}"
      ]
     },
     "execution_count": 103,
     "metadata": {},
     "output_type": "execute_result"
    }
   ],
   "source": [
    "dict_ex2['dict']"
   ]
  },
  {
   "cell_type": "code",
   "execution_count": 104,
   "id": "2bbc5397",
   "metadata": {},
   "outputs": [],
   "source": [
    "del dict_ex2['dict']['key2']"
   ]
  },
  {
   "cell_type": "code",
   "execution_count": 105,
   "id": "5d095641",
   "metadata": {},
   "outputs": [
    {
     "data": {
      "text/plain": [
       "{'key': 'value'}"
      ]
     },
     "execution_count": 105,
     "metadata": {},
     "output_type": "execute_result"
    }
   ],
   "source": [
    "dict_ex2['dict']"
   ]
  },
  {
   "cell_type": "code",
   "execution_count": 106,
   "id": "197644a1",
   "metadata": {},
   "outputs": [
    {
     "data": {
      "text/plain": [
       "'새로운 데이터'"
      ]
     },
     "execution_count": 106,
     "metadata": {},
     "output_type": "execute_result"
    }
   ],
   "source": [
    "# pop()을 이용해서 삭제\n",
    "# 딕셔너리에서 pop()을 사용할 떄 반드시 키를 넣어줘야 한다.\n",
    "dict_ex2.pop('newkey')"
   ]
  },
  {
   "cell_type": "code",
   "execution_count": 107,
   "id": "6c55e0a8",
   "metadata": {},
   "outputs": [
    {
     "data": {
      "text/plain": [
       "'문자열입니다.'"
      ]
     },
     "execution_count": 107,
     "metadata": {},
     "output_type": "execute_result"
    }
   ],
   "source": [
    "dict_ex2.pop('문자열')"
   ]
  },
  {
   "cell_type": "code",
   "execution_count": 108,
   "id": "c1c2e461",
   "metadata": {},
   "outputs": [
    {
     "data": {
      "text/plain": [
       "{1: 10,\n",
       " 3.5: '3.5',\n",
       " 'list': [1, 33, 3],\n",
       " 'tuple': (4, 5, 6),\n",
       " 'dict': {'key': 'value'}}"
      ]
     },
     "execution_count": 108,
     "metadata": {},
     "output_type": "execute_result"
    }
   ],
   "source": [
    "dict_ex2"
   ]
  },
  {
   "cell_type": "markdown",
   "id": "e3668d14",
   "metadata": {},
   "source": [
    "# 딕셔너리 안에 특정 key가 있는지 확인하기\n",
    "* in,not in"
   ]
  },
  {
   "cell_type": "code",
   "execution_count": 109,
   "id": "1cf06d47",
   "metadata": {},
   "outputs": [
    {
     "data": {
      "text/plain": [
       "{'정수': 100,\n",
       " '실수': 3.5,\n",
       " '문자': '문자열',\n",
       " '리스트': [1, 2, 3],\n",
       " '튜플': (4, 5, 6),\n",
       " '딕셔너리': {'key': 'value'}}"
      ]
     },
     "execution_count": 109,
     "metadata": {},
     "output_type": "execute_result"
    }
   ],
   "source": [
    "dict_ex1"
   ]
  },
  {
   "cell_type": "code",
   "execution_count": 110,
   "id": "6b8b6f71",
   "metadata": {},
   "outputs": [
    {
     "data": {
      "text/plain": [
       "True"
      ]
     },
     "execution_count": 110,
     "metadata": {},
     "output_type": "execute_result"
    }
   ],
   "source": [
    "'정수' in dict_ex1"
   ]
  },
  {
   "cell_type": "code",
   "execution_count": 111,
   "id": "4b21363f",
   "metadata": {},
   "outputs": [
    {
     "data": {
      "text/plain": [
       "False"
      ]
     },
     "execution_count": 111,
     "metadata": {},
     "output_type": "execute_result"
    }
   ],
   "source": [
    "'정수2' in dict_ex1"
   ]
  },
  {
   "cell_type": "markdown",
   "id": "f2afaf9e",
   "metadata": {},
   "source": [
    "# 딕셔너리 안에 key가 몇개 있는지 확인하기\n",
    "* len()\n",
    "* key의 개수만 출력\n",
    "* 가장 외부의 key 개수만 카운트 함, 내부 딕셔너리에 key는 따로 꺼내서 세야함"
   ]
  },
  {
   "cell_type": "code",
   "execution_count": 112,
   "id": "bd217594",
   "metadata": {},
   "outputs": [],
   "source": [
    "data = {'info' : [{'name':'alice','scores':(95,88,92)},\n",
    "                  {'name':'bob','scores':(78,85,89)}],\n",
    "        'extra' : {'hobbies':['leading','coding'],\n",
    "                   'location' : ['seoul','busan']}\n",
    "       }"
   ]
  },
  {
   "cell_type": "code",
   "execution_count": 113,
   "id": "7a896680",
   "metadata": {},
   "outputs": [
    {
     "data": {
      "text/plain": [
       "2"
      ]
     },
     "execution_count": 113,
     "metadata": {},
     "output_type": "execute_result"
    }
   ],
   "source": [
    "len(data)"
   ]
  },
  {
   "cell_type": "code",
   "execution_count": 114,
   "id": "f53e4855",
   "metadata": {},
   "outputs": [
    {
     "data": {
      "text/plain": [
       "2"
      ]
     },
     "execution_count": 114,
     "metadata": {},
     "output_type": "execute_result"
    }
   ],
   "source": [
    "len(data['info'][0])"
   ]
  },
  {
   "cell_type": "code",
   "execution_count": 115,
   "id": "1d454a76",
   "metadata": {},
   "outputs": [
    {
     "data": {
      "text/plain": [
       "(95, 88, 92)"
      ]
     },
     "execution_count": 115,
     "metadata": {},
     "output_type": "execute_result"
    }
   ],
   "source": [
    "data['info'][0]['scores']"
   ]
  },
  {
   "cell_type": "code",
   "execution_count": 116,
   "id": "118f2d3b",
   "metadata": {},
   "outputs": [
    {
     "data": {
      "text/plain": [
       "95"
      ]
     },
     "execution_count": 116,
     "metadata": {},
     "output_type": "execute_result"
    }
   ],
   "source": [
    "# dict-list-dict-tuple-int\n",
    "data['info'][0]['scores'][0]"
   ]
  },
  {
   "cell_type": "markdown",
   "id": "242c45a3",
   "metadata": {},
   "source": [
    "# 딕셔너리 함수 사용하기"
   ]
  },
  {
   "cell_type": "markdown",
   "id": "a322f8cb",
   "metadata": {},
   "source": [
    "## setdefault(key,value) 딕셔너리에 자료 추가\n",
    "* 딕셔너리에 key와 value를 추가\n",
    "* key가 중복되면 나중에 추가하는 값을 무시한다.(원해 자료 보존)\n",
    "* key만 넣고 value를  생략하면 자동으로 'None'이 입력됨"
   ]
  },
  {
   "cell_type": "code",
   "execution_count": 117,
   "id": "d0484aa8",
   "metadata": {},
   "outputs": [
    {
     "data": {
      "text/plain": [
       "{'년월': '20250924', '국가': '미국', '방문자수': 1000}"
      ]
     },
     "execution_count": 117,
     "metadata": {},
     "output_type": "execute_result"
    }
   ],
   "source": [
    "d"
   ]
  },
  {
   "cell_type": "code",
   "execution_count": 120,
   "id": "3031d3f3",
   "metadata": {},
   "outputs": [
    {
     "data": {
      "text/plain": [
       "{'년월': '20240924', '국가': '미국', '방문자수': 1000}"
      ]
     },
     "execution_count": 120,
     "metadata": {},
     "output_type": "execute_result"
    }
   ],
   "source": [
    "d[\"년월\"]='20240924'\n",
    "d"
   ]
  },
  {
   "cell_type": "code",
   "execution_count": 123,
   "id": "b1156e4c",
   "metadata": {},
   "outputs": [
    {
     "data": {
      "text/plain": [
       "'20240924'"
      ]
     },
     "execution_count": 123,
     "metadata": {},
     "output_type": "execute_result"
    }
   ],
   "source": [
    "# 기존에 key가 있는 경우 기존 key의 value를 출력하고 새로값은 무시\n",
    "d.setdefault('년월',20250924)"
   ]
  },
  {
   "cell_type": "code",
   "execution_count": 124,
   "id": "136e9fc3",
   "metadata": {},
   "outputs": [
    {
     "data": {
      "text/plain": [
       "{'년월': '20240924', '국가': '미국', '방문자수': 1000}"
      ]
     },
     "execution_count": 124,
     "metadata": {},
     "output_type": "execute_result"
    }
   ],
   "source": [
    "d"
   ]
  },
  {
   "cell_type": "code",
   "execution_count": 125,
   "id": "3dbeb7cf",
   "metadata": {},
   "outputs": [
    {
     "data": {
      "text/plain": [
       "'맑음'"
      ]
     },
     "execution_count": 125,
     "metadata": {},
     "output_type": "execute_result"
    }
   ],
   "source": [
    "d.setdefault('날씨','맑음')"
   ]
  },
  {
   "cell_type": "code",
   "execution_count": 127,
   "id": "4791f18e",
   "metadata": {},
   "outputs": [
    {
     "data": {
      "text/plain": [
       "{'년월': '20240924', '국가': '미국', '방문자수': 1000, '날씨': '맑음'}"
      ]
     },
     "execution_count": 127,
     "metadata": {},
     "output_type": "execute_result"
    }
   ],
   "source": [
    "d"
   ]
  },
  {
   "cell_type": "code",
   "execution_count": 128,
   "id": "9cef10ca",
   "metadata": {},
   "outputs": [],
   "source": [
    "for i in range(1,11):\n",
    "    d.setdefault('숫자',[]).append(i)"
   ]
  },
  {
   "cell_type": "code",
   "execution_count": 129,
   "id": "56104b24",
   "metadata": {},
   "outputs": [
    {
     "data": {
      "text/plain": [
       "{'년월': '20240924',\n",
       " '국가': '미국',\n",
       " '방문자수': 1000,\n",
       " '날씨': '맑음',\n",
       " '숫자': [1, 2, 3, 4, 5, 6, 7, 8, 9, 10]}"
      ]
     },
     "execution_count": 129,
     "metadata": {},
     "output_type": "execute_result"
    }
   ],
   "source": []
  },
  {
   "cell_type": "markdown",
   "id": "8fec3357",
   "metadata": {},
   "source": [
    "# update(key=value)\n",
    "* 기존에 key가 있는 경우 값을 새로운 값으로 update\n",
    "* 기존에 key가 없는 경우 새로운 key와 ,value 생성\n",
    "* key 부분에는 ''를 사용하지 않는다.\n",
    "* 기존에 key가 없어서 새로 추가하는 경우 key부분에는 문자형 key만 올 수 있다.\n",
    "* update는 문자형 key만 업데이트 가능"
   ]
  },
  {
   "cell_type": "code",
   "execution_count": 131,
   "id": "5dfd605a",
   "metadata": {},
   "outputs": [
    {
     "data": {
      "text/plain": [
       "{'년월': '20240924',\n",
       " '국가': '미국',\n",
       " '방문자수': 1000,\n",
       " '날씨': '맑음',\n",
       " '숫자': [1, 2, 3, 4, 5, 6, 7, 8, 9, 10]}"
      ]
     },
     "execution_count": 131,
     "metadata": {},
     "output_type": "execute_result"
    }
   ],
   "source": [
    "d"
   ]
  },
  {
   "cell_type": "code",
   "execution_count": 132,
   "id": "971bb5b3",
   "metadata": {},
   "outputs": [],
   "source": [
    "d.update(방문자수=500)"
   ]
  },
  {
   "cell_type": "code",
   "execution_count": 134,
   "id": "ba6da306",
   "metadata": {},
   "outputs": [
    {
     "data": {
      "text/plain": [
       "{'년월': '20240924',\n",
       " '국가': '미국',\n",
       " '방문자수': 500,\n",
       " '날씨': '맑음',\n",
       " '숫자': [1, 2, 3, 4, 5, 6, 7, 8, 9, 10]}"
      ]
     },
     "execution_count": 134,
     "metadata": {},
     "output_type": "execute_result"
    }
   ],
   "source": [
    "d"
   ]
  },
  {
   "cell_type": "code",
   "execution_count": 135,
   "id": "abc3956e",
   "metadata": {},
   "outputs": [
    {
     "data": {
      "text/plain": [
       "{'년월': '20240924',\n",
       " '국가': '미국',\n",
       " '방문자수': 500,\n",
       " '날씨': '맑음',\n",
       " '숫자': [1, 2, 3, 4, 5, 6, 7, 8, 9, 10],\n",
       " '바람': '강함'}"
      ]
     },
     "execution_count": 135,
     "metadata": {},
     "output_type": "execute_result"
    }
   ],
   "source": [
    "d.update(바람='강함')\n",
    "d"
   ]
  },
  {
   "cell_type": "code",
   "execution_count": 136,
   "id": "573ca733",
   "metadata": {},
   "outputs": [
    {
     "ename": "SyntaxError",
     "evalue": "expression cannot contain assignment, perhaps you meant \"==\"? (2659136881.py, line 1)",
     "output_type": "error",
     "traceback": [
      "\u001b[1;36m  Cell \u001b[1;32mIn[136], line 1\u001b[1;36m\u001b[0m\n\u001b[1;33m    d.update(100='백')\u001b[0m\n\u001b[1;37m             ^\u001b[0m\n\u001b[1;31mSyntaxError\u001b[0m\u001b[1;31m:\u001b[0m expression cannot contain assignment, perhaps you meant \"==\"?\n"
     ]
    }
   ],
   "source": [
    "d.update(100='백')\n",
    "d"
   ]
  },
  {
   "cell_type": "code",
   "execution_count": 137,
   "id": "55147160",
   "metadata": {},
   "outputs": [
    {
     "ename": "SyntaxError",
     "evalue": "expression cannot contain assignment, perhaps you meant \"==\"? (513947479.py, line 1)",
     "output_type": "error",
     "traceback": [
      "\u001b[1;36m  Cell \u001b[1;32mIn[137], line 1\u001b[1;36m\u001b[0m\n\u001b[1;33m    d.update(100='백')\u001b[0m\n\u001b[1;37m             ^\u001b[0m\n\u001b[1;31mSyntaxError\u001b[0m\u001b[1;31m:\u001b[0m expression cannot contain assignment, perhaps you meant \"==\"?\n"
     ]
    }
   ],
   "source": [
    "d.update(100='백')\n",
    "dd.update((100,'튜플')='백')\n",
    "d"
   ]
  },
  {
   "cell_type": "code",
   "execution_count": 138,
   "id": "974f14d9",
   "metadata": {},
   "outputs": [
    {
     "data": {
      "text/plain": [
       "{'년월': '20240924',\n",
       " '국가': '미국',\n",
       " '방문자수': 500,\n",
       " '날씨': '맑음',\n",
       " '숫자': [1, 2, 3, 4, 5, 6, 7, 8, 9, 10],\n",
       " '바람': '강함',\n",
       " 3: 300}"
      ]
     },
     "execution_count": 138,
     "metadata": {},
     "output_type": "execute_result"
    }
   ],
   "source": [
    "d[3] = 300\n",
    "d"
   ]
  },
  {
   "cell_type": "code",
   "execution_count": 139,
   "id": "526eca92",
   "metadata": {},
   "outputs": [
    {
     "ename": "SyntaxError",
     "evalue": "expression cannot contain assignment, perhaps you meant \"==\"? (408612612.py, line 1)",
     "output_type": "error",
     "traceback": [
      "\u001b[1;36m  Cell \u001b[1;32mIn[139], line 1\u001b[1;36m\u001b[0m\n\u001b[1;33m    d.update(3='삼백')\u001b[0m\n\u001b[1;37m             ^\u001b[0m\n\u001b[1;31mSyntaxError\u001b[0m\u001b[1;31m:\u001b[0m expression cannot contain assignment, perhaps you meant \"==\"?\n"
     ]
    }
   ],
   "source": [
    "d.update(3='삼백')\n",
    "d"
   ]
  },
  {
   "cell_type": "markdown",
   "id": "847e757f",
   "metadata": {},
   "source": [
    "# 딕셔너리에서 value를 가져오는 함수 .get()\n",
    "* 디셔너리에서 value를 보고 싶을 때는 key를 호출하면 된다.\n",
    "* 만약 딕셔너리 안에 key가 없는데 호출하는 경우 오류 발생\n",
    "* .get('key','key가 없을 떄 출력할 내용')key없어도 오류X, 기본값 출력\n",
    "* 딕셔너리 내에 key가 있다가 없다가를 반복하는 경우 오류 방지"
   ]
  },
  {
   "cell_type": "code",
   "execution_count": 140,
   "id": "e46e0c81",
   "metadata": {},
   "outputs": [
    {
     "data": {
      "text/plain": [
       "{'년월': '20240924',\n",
       " '국가': '미국',\n",
       " '방문자수': 500,\n",
       " '날씨': '맑음',\n",
       " '숫자': [1, 2, 3, 4, 5, 6, 7, 8, 9, 10],\n",
       " '바람': '강함',\n",
       " 3: 300}"
      ]
     },
     "execution_count": 140,
     "metadata": {},
     "output_type": "execute_result"
    }
   ],
   "source": [
    "d"
   ]
  },
  {
   "cell_type": "code",
   "execution_count": 141,
   "id": "7e9898fa",
   "metadata": {},
   "outputs": [
    {
     "data": {
      "text/plain": [
       "'강함'"
      ]
     },
     "execution_count": 141,
     "metadata": {},
     "output_type": "execute_result"
    }
   ],
   "source": [
    "d['바람']"
   ]
  },
  {
   "cell_type": "code",
   "execution_count": 1,
   "id": "cf46b747",
   "metadata": {},
   "outputs": [
    {
     "ename": "NameError",
     "evalue": "name 'd' is not defined",
     "output_type": "error",
     "traceback": [
      "\u001b[1;31m---------------------------------------------------------------------------\u001b[0m",
      "\u001b[1;31mNameError\u001b[0m                                 Traceback (most recent call last)",
      "Cell \u001b[1;32mIn[1], line 1\u001b[0m\n\u001b[1;32m----> 1\u001b[0m \u001b[43md\u001b[49m[\u001b[38;5;124m'\u001b[39m\u001b[38;5;124m강수량\u001b[39m\u001b[38;5;124m'\u001b[39m]\n",
      "\u001b[1;31mNameError\u001b[0m: name 'd' is not defined"
     ]
    }
   ],
   "source": [
    "d['강수량']"
   ]
  },
  {
   "cell_type": "code",
   "execution_count": 144,
   "id": "73b6895e",
   "metadata": {},
   "outputs": [
    {
     "data": {
      "text/plain": [
       "'해당 key 없음'"
      ]
     },
     "execution_count": 144,
     "metadata": {},
     "output_type": "execute_result"
    }
   ],
   "source": [
    "d.get('강수량', '해당 key 없음')"
   ]
  },
  {
   "cell_type": "markdown",
   "id": "b993003a",
   "metadata": {},
   "source": [
    "# 딕셔너리에서 key,value,(key+value)를 가져오는 함수\n",
    "* keys() : 딕셔너리에서 key만 출력\n",
    "* values() : 딕셔너리에서 value만 출력\n",
    "* items() : 딕셔너리에서 key,value를 튜플 묶음 형태로 출력(key,value)\n",
    "* 위의 3 함수의 결과를 list()로 형변환을 해주면 list처럼 사용 가능"
   ]
  },
  {
   "cell_type": "code",
   "execution_count": 145,
   "id": "0f801c75",
   "metadata": {},
   "outputs": [
    {
     "data": {
      "text/plain": [
       "dict_keys(['info', 'extra'])"
      ]
     },
     "execution_count": 145,
     "metadata": {},
     "output_type": "execute_result"
    }
   ],
   "source": [
    "data.keys()"
   ]
  },
  {
   "cell_type": "code",
   "execution_count": 150,
   "id": "eb2b6fef",
   "metadata": {},
   "outputs": [
    {
     "name": "stdout",
     "output_type": "stream",
     "text": [
      "<class 'dict_keys'> <class 'list'>\n"
     ]
    }
   ],
   "source": [
    "keys = list(data.keys())\n",
    "print(type(data.keys()),type(list(data.keys())))"
   ]
  },
  {
   "cell_type": "code",
   "execution_count": 151,
   "id": "78d6ea99",
   "metadata": {},
   "outputs": [
    {
     "data": {
      "text/plain": [
       "['info', 'extra']"
      ]
     },
     "execution_count": 151,
     "metadata": {},
     "output_type": "execute_result"
    }
   ],
   "source": [
    "keys"
   ]
  },
  {
   "cell_type": "code",
   "execution_count": 153,
   "id": "d8b19adf",
   "metadata": {},
   "outputs": [
    {
     "data": {
      "text/plain": [
       "'info'"
      ]
     },
     "execution_count": 153,
     "metadata": {},
     "output_type": "execute_result"
    }
   ],
   "source": [
    "keys[0]"
   ]
  },
  {
   "cell_type": "code",
   "execution_count": 157,
   "id": "a1a28fd4",
   "metadata": {},
   "outputs": [
    {
     "data": {
      "text/plain": [
       "dict_keys(['name', 'scores'])"
      ]
     },
     "execution_count": 157,
     "metadata": {},
     "output_type": "execute_result"
    }
   ],
   "source": [
    "data['info'][0].keys()"
   ]
  },
  {
   "cell_type": "code",
   "execution_count": 163,
   "id": "bdadf244",
   "metadata": {},
   "outputs": [],
   "source": [
    "# values\n",
    "values = data.values()"
   ]
  },
  {
   "cell_type": "code",
   "execution_count": 164,
   "id": "c484e074",
   "metadata": {},
   "outputs": [
    {
     "data": {
      "text/plain": [
       "[[{'name': 'alice', 'scores': (95, 88, 92)},\n",
       "  {'name': 'bob', 'scores': (78, 85, 89)}],\n",
       " {'hobbies': ['leading', 'coding'], 'location': ['seoul', 'busan']}]"
      ]
     },
     "execution_count": 164,
     "metadata": {},
     "output_type": "execute_result"
    }
   ],
   "source": [
    "values = list(values)\n",
    "values"
   ]
  },
  {
   "cell_type": "code",
   "execution_count": 165,
   "id": "103183ec",
   "metadata": {},
   "outputs": [
    {
     "data": {
      "text/plain": [
       "dict_values(['bob', (78, 85, 89)])"
      ]
     },
     "execution_count": 165,
     "metadata": {},
     "output_type": "execute_result"
    }
   ],
   "source": [
    "values[0][1].values()"
   ]
  },
  {
   "cell_type": "code",
   "execution_count": 166,
   "id": "cc9088db",
   "metadata": {},
   "outputs": [
    {
     "data": {
      "text/plain": [
       "dict_items([('info', [{'name': 'alice', 'scores': (95, 88, 92)}, {'name': 'bob', 'scores': (78, 85, 89)}]), ('extra', {'hobbies': ['leading', 'coding'], 'location': ['seoul', 'busan']})])"
      ]
     },
     "execution_count": 166,
     "metadata": {},
     "output_type": "execute_result"
    }
   ],
   "source": [
    "# items는 (key,value) 형식으로 출력\n",
    "data.items()"
   ]
  },
  {
   "cell_type": "code",
   "execution_count": 167,
   "id": "ad5acfbe",
   "metadata": {},
   "outputs": [
    {
     "data": {
      "text/plain": [
       "[('info',\n",
       "  [{'name': 'alice', 'scores': (95, 88, 92)},\n",
       "   {'name': 'bob', 'scores': (78, 85, 89)}]),\n",
       " ('extra', {'hobbies': ['leading', 'coding'], 'location': ['seoul', 'busan']})]"
      ]
     },
     "execution_count": 167,
     "metadata": {},
     "output_type": "execute_result"
    }
   ],
   "source": [
    "items = list(data.items())\n",
    "items"
   ]
  },
  {
   "cell_type": "code",
   "execution_count": 168,
   "id": "ecc274b3",
   "metadata": {},
   "outputs": [
    {
     "data": {
      "text/plain": [
       "('info',\n",
       " [{'name': 'alice', 'scores': (95, 88, 92)},\n",
       "  {'name': 'bob', 'scores': (78, 85, 89)}])"
      ]
     },
     "execution_count": 168,
     "metadata": {},
     "output_type": "execute_result"
    }
   ],
   "source": [
    "items[0]"
   ]
  },
  {
   "cell_type": "code",
   "execution_count": 169,
   "id": "bba28f1b",
   "metadata": {},
   "outputs": [
    {
     "data": {
      "text/plain": [
       "('extra', {'hobbies': ['leading', 'coding'], 'location': ['seoul', 'busan']})"
      ]
     },
     "execution_count": 169,
     "metadata": {},
     "output_type": "execute_result"
    }
   ],
   "source": [
    "items[1]"
   ]
  },
  {
   "cell_type": "code",
   "execution_count": 170,
   "id": "2220340a",
   "metadata": {},
   "outputs": [
    {
     "data": {
      "text/plain": [
       "{'년월': '20240924',\n",
       " '국가': '미국',\n",
       " '방문자수': 500,\n",
       " '날씨': '맑음',\n",
       " '숫자': [1, 2, 3, 4, 5, 6, 7, 8, 9, 10],\n",
       " '바람': '강함',\n",
       " 3: 300}"
      ]
     },
     "execution_count": 170,
     "metadata": {},
     "output_type": "execute_result"
    }
   ],
   "source": [
    "d"
   ]
  },
  {
   "cell_type": "code",
   "execution_count": 171,
   "id": "824da7f2",
   "metadata": {},
   "outputs": [
    {
     "data": {
      "text/plain": [
       "dict_keys(['년월', '국가', '방문자수', '날씨', '숫자', '바람', 3])"
      ]
     },
     "execution_count": 171,
     "metadata": {},
     "output_type": "execute_result"
    }
   ],
   "source": [
    "d.keys()"
   ]
  },
  {
   "cell_type": "code",
   "execution_count": 172,
   "id": "0c6f4051",
   "metadata": {},
   "outputs": [
    {
     "data": {
      "text/plain": [
       "dict_values(['20240924', '미국', 500, '맑음', [1, 2, 3, 4, 5, 6, 7, 8, 9, 10], '강함', 300])"
      ]
     },
     "execution_count": 172,
     "metadata": {},
     "output_type": "execute_result"
    }
   ],
   "source": [
    "d.values()"
   ]
  },
  {
   "cell_type": "code",
   "execution_count": 173,
   "id": "177a1ac2",
   "metadata": {},
   "outputs": [
    {
     "data": {
      "text/plain": [
       "dict_items([('년월', '20240924'), ('국가', '미국'), ('방문자수', 500), ('날씨', '맑음'), ('숫자', [1, 2, 3, 4, 5, 6, 7, 8, 9, 10]), ('바람', '강함'), (3, 300)])"
      ]
     },
     "execution_count": 173,
     "metadata": {},
     "output_type": "execute_result"
    }
   ],
   "source": [
    "d.items()"
   ]
  },
  {
   "cell_type": "code",
   "execution_count": 174,
   "id": "7261cbaf",
   "metadata": {},
   "outputs": [
    {
     "name": "stdout",
     "output_type": "stream",
     "text": [
      "년월\n",
      "국가\n",
      "방문자수\n",
      "날씨\n",
      "숫자\n",
      "바람\n",
      "3\n"
     ]
    }
   ],
   "source": [
    "for key in d.keys():\n",
    "    print(key)"
   ]
  },
  {
   "cell_type": "code",
   "execution_count": 175,
   "id": "076d5ffe",
   "metadata": {},
   "outputs": [
    {
     "name": "stdout",
     "output_type": "stream",
     "text": [
      "key: 년월 value: 20240924\n",
      "key: 국가 value: 미국\n",
      "key: 방문자수 value: 500\n",
      "key: 날씨 value: 맑음\n",
      "key: 숫자 value: [1, 2, 3, 4, 5, 6, 7, 8, 9, 10]\n",
      "key: 바람 value: 강함\n",
      "key: 3 value: 300\n"
     ]
    }
   ],
   "source": [
    "for key, value in d.items():\n",
    "    print('key:',key,'value:',value)"
   ]
  },
  {
   "cell_type": "code",
   "execution_count": null,
   "id": "a0e718b7",
   "metadata": {},
   "outputs": [],
   "source": []
  }
 ],
 "metadata": {
  "kernelspec": {
   "display_name": "Python 3 (ipykernel)",
   "language": "python",
   "name": "python3"
  },
  "language_info": {
   "codemirror_mode": {
    "name": "ipython",
    "version": 3
   },
   "file_extension": ".py",
   "mimetype": "text/x-python",
   "name": "python",
   "nbconvert_exporter": "python",
   "pygments_lexer": "ipython3",
   "version": "3.9.23"
  }
 },
 "nbformat": 4,
 "nbformat_minor": 5
}
