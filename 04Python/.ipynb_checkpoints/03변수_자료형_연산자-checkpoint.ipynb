{
 "cells": [
  {
   "cell_type": "markdown",
   "id": "dfe6ea3b",
   "metadata": {},
   "source": [
    "# 변수\n",
    "\n",
    "* 자료를 담는 택배상자\n",
    "* 택배상자에는 자료를 1개만 넣을 수 있다.\n",
    "* 변수는 영문과 숫자를 조합해서 만들 수 있다.\n",
    "* 변수명의 시작은 반드시 영문자로 시작 or \\_영문자로 시작\n",
    "* 변수명이 숫자로 시작하거나 -같은 특수문자로 시작하면 오류\n",
    "* **예약어(이미 파이썬에서 사용하고 있는 함수명, 문법용 단어 ex) for, list, if,id)**는 변수명으로 사용할 수 없다.\n",
    "    * **주의!!** 파이썬은 예약어를 써도 변수가 만들어진다.\n",
    "    * 예약어로 변수를 만들지 않도록 주의!!\n",
    "* 변수명은 스네이크 표기법으로 작성한다. ex) user_name"
   ]
  },
  {
   "cell_type": "code",
   "execution_count": 3,
   "id": "1b1a7c24",
   "metadata": {},
   "outputs": [],
   "source": [
    "a = 1 #a=1은 같다라는 의미가 아니라 오른쪽에 있는 것을 왼쪽에 넣는다."
   ]
  },
  {
   "cell_type": "code",
   "execution_count": 4,
   "id": "347f6926",
   "metadata": {},
   "outputs": [
    {
     "ename": "NameError",
     "evalue": "name 'a' is not defined",
     "output_type": "error",
     "traceback": [
      "\u001b[1;31m---------------------------------------------------------------------------\u001b[0m",
      "\u001b[1;31mNameError\u001b[0m                                 Traceback (most recent call last)",
      "Cell \u001b[1;32mIn[4], line 1\u001b[0m\n\u001b[1;32m----> 1\u001b[0m \u001b[38;5;28mprint\u001b[39m(\u001b[43ma\u001b[49m)\n",
      "\u001b[1;31mNameError\u001b[0m: name 'a' is not defined"
     ]
    }
   ],
   "source": [
    "print(a)"
   ]
  },
  {
   "cell_type": "code",
   "execution_count": 5,
   "id": "c1a12e2d",
   "metadata": {},
   "outputs": [
    {
     "ename": "NameError",
     "evalue": "name 'a' is not defined",
     "output_type": "error",
     "traceback": [
      "\u001b[1;31m---------------------------------------------------------------------------\u001b[0m",
      "\u001b[1;31mNameError\u001b[0m                                 Traceback (most recent call last)",
      "Cell \u001b[1;32mIn[5], line 1\u001b[0m\n\u001b[1;32m----> 1\u001b[0m \u001b[43ma\u001b[49m \u001b[38;5;66;03m# 주피터 노트북만 변수명만 쳐도 데이터가 출력된다.\u001b[39;00m\n",
      "\u001b[1;31mNameError\u001b[0m: name 'a' is not defined"
     ]
    }
   ],
   "source": [
    "a # 주피터 노트북만 변수명만 쳐도 데이터가 출력된다."
   ]
  },
  {
   "cell_type": "code",
   "execution_count": 6,
   "id": "d737dcda",
   "metadata": {},
   "outputs": [],
   "source": [
    "b = 2"
   ]
  },
  {
   "cell_type": "code",
   "execution_count": 7,
   "id": "9300389e",
   "metadata": {},
   "outputs": [
    {
     "name": "stdout",
     "output_type": "stream",
     "text": [
      "2\n"
     ]
    }
   ],
   "source": [
    "print(b)"
   ]
  },
  {
   "cell_type": "code",
   "execution_count": 8,
   "id": "cbac0952",
   "metadata": {},
   "outputs": [
    {
     "ename": "NameError",
     "evalue": "name 'a' is not defined",
     "output_type": "error",
     "traceback": [
      "\u001b[1;31m---------------------------------------------------------------------------\u001b[0m",
      "\u001b[1;31mNameError\u001b[0m                                 Traceback (most recent call last)",
      "Cell \u001b[1;32mIn[8], line 1\u001b[0m\n\u001b[1;32m----> 1\u001b[0m \u001b[38;5;28mid\u001b[39m(\u001b[43ma\u001b[49m)\n",
      "\u001b[1;31mNameError\u001b[0m: name 'a' is not defined"
     ]
    }
   ],
   "source": [
    "id(a)"
   ]
  },
  {
   "cell_type": "code",
   "execution_count": 9,
   "id": "c84a443b",
   "metadata": {},
   "outputs": [
    {
     "data": {
      "text/plain": [
       "2554257893712"
      ]
     },
     "execution_count": 9,
     "metadata": {},
     "output_type": "execute_result"
    }
   ],
   "source": [
    "id(b)"
   ]
  },
  {
   "cell_type": "code",
   "execution_count": 10,
   "id": "0f1c4164",
   "metadata": {},
   "outputs": [],
   "source": [
    "#id = 10"
   ]
  },
  {
   "cell_type": "code",
   "execution_count": 11,
   "id": "921f90ad",
   "metadata": {},
   "outputs": [],
   "source": [
    "#print(id)"
   ]
  },
  {
   "cell_type": "code",
   "execution_count": 12,
   "id": "610d85bc",
   "metadata": {},
   "outputs": [
    {
     "data": {
      "text/plain": [
       "2554257893712"
      ]
     },
     "execution_count": 12,
     "metadata": {},
     "output_type": "execute_result"
    }
   ],
   "source": [
    "id(b)"
   ]
  },
  {
   "cell_type": "code",
   "execution_count": 13,
   "id": "7ba5053f",
   "metadata": {},
   "outputs": [],
   "source": [
    "# 변수명 작성하기\n",
    "daksdnjsklndl4555 = 10"
   ]
  },
  {
   "cell_type": "code",
   "execution_count": 14,
   "id": "53f5a1f2",
   "metadata": {},
   "outputs": [
    {
     "name": "stdout",
     "output_type": "stream",
     "text": [
      "10\n"
     ]
    }
   ],
   "source": [
    "print(daksdnjsklndl4555)"
   ]
  },
  {
   "cell_type": "code",
   "execution_count": 15,
   "id": "284c770b",
   "metadata": {},
   "outputs": [
    {
     "ename": "SyntaxError",
     "evalue": "invalid syntax (1883882313.py, line 1)",
     "output_type": "error",
     "traceback": [
      "\u001b[1;36m  Cell \u001b[1;32mIn[15], line 1\u001b[1;36m\u001b[0m\n\u001b[1;33m    10a = 10\u001b[0m\n\u001b[1;37m      ^\u001b[0m\n\u001b[1;31mSyntaxError\u001b[0m\u001b[1;31m:\u001b[0m invalid syntax\n"
     ]
    }
   ],
   "source": [
    "10a = 10"
   ]
  },
  {
   "cell_type": "code",
   "execution_count": 16,
   "id": "21f5440c",
   "metadata": {},
   "outputs": [
    {
     "ename": "SyntaxError",
     "evalue": "invalid syntax (875084040.py, line 1)",
     "output_type": "error",
     "traceback": [
      "\u001b[1;36m  Cell \u001b[1;32mIn[16], line 1\u001b[1;36m\u001b[0m\n\u001b[1;33m    $a = 1\u001b[0m\n\u001b[1;37m    ^\u001b[0m\n\u001b[1;31mSyntaxError\u001b[0m\u001b[1;31m:\u001b[0m invalid syntax\n"
     ]
    }
   ],
   "source": [
    "$a = 1"
   ]
  },
  {
   "cell_type": "code",
   "execution_count": 17,
   "id": "2a744031",
   "metadata": {},
   "outputs": [
    {
     "ename": "SyntaxError",
     "evalue": "cannot assign to operator (3337602241.py, line 1)",
     "output_type": "error",
     "traceback": [
      "\u001b[1;36m  Cell \u001b[1;32mIn[17], line 1\u001b[1;36m\u001b[0m\n\u001b[1;33m    -a = 1\u001b[0m\n\u001b[1;37m    ^\u001b[0m\n\u001b[1;31mSyntaxError\u001b[0m\u001b[1;31m:\u001b[0m cannot assign to operator\n"
     ]
    }
   ],
   "source": [
    "-a = 1"
   ]
  },
  {
   "cell_type": "code",
   "execution_count": 18,
   "id": "29e8d920",
   "metadata": {},
   "outputs": [],
   "source": [
    "_a = 1"
   ]
  },
  {
   "cell_type": "code",
   "execution_count": 19,
   "id": "22779d42",
   "metadata": {},
   "outputs": [
    {
     "data": {
      "text/plain": [
       "'홍길동'"
      ]
     },
     "execution_count": 19,
     "metadata": {},
     "output_type": "execute_result"
    }
   ],
   "source": [
    "# 변수명을 2단어 이상으로 만들 떄는 _로 연결하는 스네이크 표기법을 쓴다.\n",
    "user_name = \"홍길동\"\n",
    "user_name"
   ]
  },
  {
   "cell_type": "code",
   "execution_count": 20,
   "id": "e60d5382",
   "metadata": {},
   "outputs": [],
   "source": [
    "# 변수명은 변수명만으로 안에 무엇이 있을지 예측 가능해야 한다.\n",
    "all_reviews = \"모든 리뷰\""
   ]
  },
  {
   "cell_type": "code",
   "execution_count": 21,
   "id": "24fb9838",
   "metadata": {},
   "outputs": [],
   "source": [
    "review_one = \"리뷰 한개\""
   ]
  },
  {
   "cell_type": "code",
   "execution_count": 22,
   "id": "a809a2d5",
   "metadata": {},
   "outputs": [],
   "source": [
    "hap = 0"
   ]
  },
  {
   "cell_type": "code",
   "execution_count": 23,
   "id": "d4c0ad38",
   "metadata": {},
   "outputs": [
    {
     "name": "stdout",
     "output_type": "stream",
     "text": [
      "0\n"
     ]
    }
   ],
   "source": [
    "# 변수 지우기 del\n",
    "print(hap)"
   ]
  },
  {
   "cell_type": "code",
   "execution_count": 24,
   "id": "2adf3638",
   "metadata": {},
   "outputs": [],
   "source": [
    "del hap"
   ]
  },
  {
   "cell_type": "code",
   "execution_count": 25,
   "id": "651e8fe3",
   "metadata": {},
   "outputs": [
    {
     "ename": "NameError",
     "evalue": "name 'hap' is not defined",
     "output_type": "error",
     "traceback": [
      "\u001b[1;31m---------------------------------------------------------------------------\u001b[0m",
      "\u001b[1;31mNameError\u001b[0m                                 Traceback (most recent call last)",
      "Cell \u001b[1;32mIn[25], line 1\u001b[0m\n\u001b[1;32m----> 1\u001b[0m \u001b[38;5;28mprint\u001b[39m(\u001b[43mhap\u001b[49m)\n",
      "\u001b[1;31mNameError\u001b[0m: name 'hap' is not defined"
     ]
    }
   ],
   "source": [
    "print(hap)"
   ]
  },
  {
   "cell_type": "markdown",
   "id": "89d9180a",
   "metadata": {},
   "source": [
    "여러 개의 변수 동시에 만들고 자료 입력하기"
   ]
  },
  {
   "cell_type": "code",
   "execution_count": 26,
   "id": "db45d45b",
   "metadata": {},
   "outputs": [],
   "source": [
    "a = 1 \n",
    "b = 2"
   ]
  },
  {
   "cell_type": "code",
   "execution_count": 27,
   "id": "230b3894",
   "metadata": {},
   "outputs": [],
   "source": [
    "a, b, c = 1,2,3"
   ]
  },
  {
   "cell_type": "code",
   "execution_count": 28,
   "id": "2cd09329",
   "metadata": {},
   "outputs": [
    {
     "name": "stdout",
     "output_type": "stream",
     "text": [
      "1 2 3\n"
     ]
    }
   ],
   "source": [
    "print(a,b,c)"
   ]
  },
  {
   "cell_type": "code",
   "execution_count": 29,
   "id": "a0603c39",
   "metadata": {},
   "outputs": [],
   "source": [
    "a,b,c = [5 ,6 ,7]"
   ]
  },
  {
   "cell_type": "code",
   "execution_count": 30,
   "id": "9e41d7bd",
   "metadata": {},
   "outputs": [
    {
     "name": "stdout",
     "output_type": "stream",
     "text": [
      "5 6 7\n"
     ]
    }
   ],
   "source": [
    "print(a,b,c)"
   ]
  },
  {
   "cell_type": "code",
   "execution_count": 31,
   "id": "fa23e23d",
   "metadata": {},
   "outputs": [],
   "source": [
    "a,b,c = (8,9,10)"
   ]
  },
  {
   "cell_type": "code",
   "execution_count": 32,
   "id": "ae2df13a",
   "metadata": {},
   "outputs": [
    {
     "name": "stdout",
     "output_type": "stream",
     "text": [
      "8 9 10\n"
     ]
    }
   ],
   "source": [
    "print(a,b,c,)"
   ]
  },
  {
   "cell_type": "markdown",
   "id": "ce3dfc01",
   "metadata": {},
   "source": [
    "# 자료형(data type)\n",
    "## 파이썬의 자료형은 동적으로 변화\n",
    "* int: 정수(소숫점이 없는 숫자)\n",
    "* float : 실수(소숫점이 있는 숫자)\n",
    "* str : 문자/문자열 \n",
    "* list : 여러개의 자료가 순서대로 저장된 자료형, 모든 자료형을 넣어 만들 수 있음 [자료]\n",
    "* tuple : list비슷하나 한 번 만들면 수정이 안됨, 모든 자료형을 넣어 만들 수 있음 (자료)\n",
    "* dictionary(dict) : key:value 싸으로 이루어진 자료형, 모든 자료형을 넣어 만들 수 있음 {key:value}\n",
    "* set : 집합 자료형,자료의 중복이 되지 않음 {자료}"
   ]
  },
  {
   "cell_type": "markdown",
   "id": "1b3f7e0b",
   "metadata": {},
   "source": [
    "# 데이터 타입을 출력하는 함수 type(변수)"
   ]
  },
  {
   "cell_type": "markdown",
   "id": "fa37faaf",
   "metadata": {},
   "source": [
    "# 1. 정수형 변수(int)"
   ]
  },
  {
   "cell_type": "code",
   "execution_count": 33,
   "id": "0bb028e4",
   "metadata": {},
   "outputs": [
    {
     "name": "stdout",
     "output_type": "stream",
     "text": [
      "1\n",
      "<class 'int'>\n"
     ]
    }
   ],
   "source": [
    "a = 1\n",
    "print(a)\n",
    "print(type(a))"
   ]
  },
  {
   "cell_type": "markdown",
   "id": "2d5e2ae6",
   "metadata": {},
   "source": [
    "# 2. 실수형 변수(float)"
   ]
  },
  {
   "cell_type": "code",
   "execution_count": 34,
   "id": "1add6764",
   "metadata": {},
   "outputs": [
    {
     "name": "stdout",
     "output_type": "stream",
     "text": [
      "3.14\n",
      "<class 'float'>\n"
     ]
    }
   ],
   "source": [
    "b = 3.14\n",
    "print(b)\n",
    "print(type(b))"
   ]
  },
  {
   "cell_type": "markdown",
   "id": "14fdf747",
   "metadata": {},
   "source": [
    "# 3. 문자형 변수(str)\n",
    "* 문자형 데이터는 반드시 따옴표 \\' , \\\" 안에 작성해야한다.\n",
    "* 문자 : 문자 1개\n",
    "* 문자열 : 문자가 여러개 있는 것, **열** 즉, **순서**가 있다."
   ]
  },
  {
   "cell_type": "code",
   "execution_count": 35,
   "id": "41ca1860",
   "metadata": {},
   "outputs": [
    {
     "name": "stdout",
     "output_type": "stream",
     "text": [
      "문\n"
     ]
    }
   ],
   "source": [
    "c = \"문\"\n",
    "print(c)"
   ]
  },
  {
   "cell_type": "code",
   "execution_count": 36,
   "id": "079a4c80",
   "metadata": {},
   "outputs": [
    {
     "name": "stdout",
     "output_type": "stream",
     "text": [
      "문\n"
     ]
    }
   ],
   "source": [
    "c = '문'\n",
    "print(c)"
   ]
  },
  {
   "cell_type": "code",
   "execution_count": 37,
   "id": "af7013d3",
   "metadata": {},
   "outputs": [
    {
     "name": "stdout",
     "output_type": "stream",
     "text": [
      "문자열\n"
     ]
    }
   ],
   "source": [
    "c = '문자열'\n",
    "print(c)"
   ]
  },
  {
   "cell_type": "markdown",
   "id": "2617018d",
   "metadata": {},
   "source": [
    "# 문자열 인덱싱: 문자열은 순서가 있으므로 변수명[번호] 형태로 해당 위치의 문자를 출력/추출 가능"
   ]
  },
  {
   "cell_type": "code",
   "execution_count": 38,
   "id": "c4fe6806",
   "metadata": {},
   "outputs": [
    {
     "data": {
      "text/plain": [
       "'문자열'"
      ]
     },
     "execution_count": 38,
     "metadata": {},
     "output_type": "execute_result"
    }
   ],
   "source": [
    "c"
   ]
  },
  {
   "cell_type": "code",
   "execution_count": 39,
   "id": "bc218632",
   "metadata": {},
   "outputs": [
    {
     "data": {
      "text/plain": [
       "'자'"
      ]
     },
     "execution_count": 39,
     "metadata": {},
     "output_type": "execute_result"
    }
   ],
   "source": [
    "c[1]"
   ]
  },
  {
   "cell_type": "code",
   "execution_count": 40,
   "id": "90113351",
   "metadata": {},
   "outputs": [
    {
     "data": {
      "text/plain": [
       "'문'"
      ]
     },
     "execution_count": 40,
     "metadata": {},
     "output_type": "execute_result"
    }
   ],
   "source": [
    "c[0]"
   ]
  },
  {
   "cell_type": "code",
   "execution_count": 41,
   "id": "44cff520",
   "metadata": {},
   "outputs": [
    {
     "data": {
      "text/plain": [
       "'열'"
      ]
     },
     "execution_count": 41,
     "metadata": {},
     "output_type": "execute_result"
    }
   ],
   "source": [
    "c[2]"
   ]
  },
  {
   "cell_type": "code",
   "execution_count": 42,
   "id": "741c0e50",
   "metadata": {},
   "outputs": [],
   "source": [
    "long_char = \"문자열은 아무리 길이가 길어도 한 줄로 입력해야한다. 만약 줄바꿈을 하고 싶다면 \\\\를 문장 줄바꿈할 곳 끝에 넣고 줄바꿈을 할 수 있다.\""
   ]
  },
  {
   "cell_type": "code",
   "execution_count": 43,
   "id": "ebc233ee",
   "metadata": {},
   "outputs": [
    {
     "name": "stdout",
     "output_type": "stream",
     "text": [
      "문자열은 아무리 길이가 길어도 한 줄로 입력해야한다. 만약 줄바꿈을 하고 싶다면 \\를 문장 줄바꿈할 곳 끝에 넣고 줄바꿈을 할 수 있다.\n"
     ]
    }
   ],
   "source": [
    "print(long_char)"
   ]
  },
  {
   "cell_type": "code",
   "execution_count": 44,
   "id": "116402f7",
   "metadata": {},
   "outputs": [],
   "source": [
    "long_char2 = \"문자열은 아무리 길이가 길어도 한 줄로 입력해야한다.\\\n",
    "만약 줄바꿈을 하고 싶다면 \\\\를 문장 줄바꿈할 곳 끝에 넣고 \\\n",
    "줄바꿈을 할 수 있다.\""
   ]
  },
  {
   "cell_type": "code",
   "execution_count": 45,
   "id": "db4669ae",
   "metadata": {},
   "outputs": [
    {
     "name": "stdout",
     "output_type": "stream",
     "text": [
      "문자열은 아무리 길이가 길어도 한 줄로 입력해야한다.만약 줄바꿈을 하고 싶다면 \\를 문장 줄바꿈할 곳 끝에 넣고 줄바꿈을 할 수 있다.\n"
     ]
    }
   ],
   "source": [
    "print(long_char2)"
   ]
  },
  {
   "cell_type": "code",
   "execution_count": 46,
   "id": "31855c9d",
   "metadata": {},
   "outputs": [],
   "source": [
    "#  출력시 줄바꿈으로 하고 싶을 떄 \\n\n",
    "long_char3 = \"문자열은 아무리 길이가 길어도 한 줄로 입력해야한다.\\n \\\n",
    "만약 줄바꿈을 하고 싶다면 \\\\를 문장 줄바꿈할 곳 끝에 넣고 \\n \\\n",
    "줄바꿈을 할 수 있다.\""
   ]
  },
  {
   "cell_type": "code",
   "execution_count": 47,
   "id": "76ce94fb",
   "metadata": {},
   "outputs": [
    {
     "name": "stdout",
     "output_type": "stream",
     "text": [
      "문자열은 아무리 길이가 길어도 한 줄로 입력해야한다.\n",
      " 만약 줄바꿈을 하고 싶다면 \\를 문장 줄바꿈할 곳 끝에 넣고 \n",
      " 줄바꿈을 할 수 있다.\n"
     ]
    }
   ],
   "source": [
    "print(long_char3)"
   ]
  },
  {
   "cell_type": "markdown",
   "id": "3c9c4542",
   "metadata": {},
   "source": [
    "# 이스케이프문자 없이 줄바꿈하며 압력하고 싶을 때\n",
    "\"\"\" \"\"\", \"' '\""
   ]
  },
  {
   "cell_type": "code",
   "execution_count": 48,
   "id": "5f013664",
   "metadata": {},
   "outputs": [],
   "source": [
    "long_char4 = \"\"\"문자열은 아무리 길이가 길어도 한 줄로 입력해야한다.\n",
    "만약 줄바꿈을 하고 싶다면 \\\\를 문장 줄바꿈할 곳 끝에 넣고 \n",
    "줄바꿈을 할 수 있다.\"\"\""
   ]
  },
  {
   "cell_type": "code",
   "execution_count": 49,
   "id": "99c26130",
   "metadata": {},
   "outputs": [
    {
     "name": "stdout",
     "output_type": "stream",
     "text": [
      "문자열은 아무리 길이가 길어도 한 줄로 입력해야한다.\n",
      "만약 줄바꿈을 하고 싶다면 \\를 문장 줄바꿈할 곳 끝에 넣고 \n",
      "줄바꿈을 할 수 있다.\n"
     ]
    }
   ],
   "source": [
    "print(long_char4 )"
   ]
  },
  {
   "cell_type": "code",
   "execution_count": 50,
   "id": "68c49727",
   "metadata": {},
   "outputs": [],
   "source": [
    "long_char5 = '''열은 아무리 길이가 길어도 한 줄로 입력해야한다.\n",
    "만약 줄바꿈을 하고 싶다면 \\\\를 문장 줄바꿈할 곳 끝에 넣고 \n",
    "줄바꿈을 할 수 있다.'''"
   ]
  },
  {
   "cell_type": "code",
   "execution_count": 51,
   "id": "c808f2cf",
   "metadata": {},
   "outputs": [
    {
     "name": "stdout",
     "output_type": "stream",
     "text": [
      "열은 아무리 길이가 길어도 한 줄로 입력해야한다.\n",
      "만약 줄바꿈을 하고 싶다면 \\를 문장 줄바꿈할 곳 끝에 넣고 \n",
      "줄바꿈을 할 수 있다.\n"
     ]
    }
   ],
   "source": [
    "print(long_char5)"
   ]
  },
  {
   "cell_type": "code",
   "execution_count": 52,
   "id": "1bd23736",
   "metadata": {},
   "outputs": [
    {
     "data": {
      "text/plain": [
       "'열은 아무리 길이가 길어도 한 줄로 입력해야한다.\\n만약 줄바꿈을 하고 싶다면 \\\\를 문장 줄바꿈할 곳 끝에 넣고 \\n줄바꿈을 할 수 있다.'"
      ]
     },
     "execution_count": 52,
     "metadata": {},
     "output_type": "execute_result"
    }
   ],
   "source": [
    "long_char5"
   ]
  },
  {
   "cell_type": "markdown",
   "id": "f4efd747",
   "metadata": {},
   "source": [
    "# 문자열의 길이 재기 len(문자열/변수)"
   ]
  },
  {
   "cell_type": "code",
   "execution_count": 53,
   "id": "1c6163b0",
   "metadata": {},
   "outputs": [
    {
     "data": {
      "text/plain": [
       "75"
      ]
     },
     "execution_count": 53,
     "metadata": {},
     "output_type": "execute_result"
    }
   ],
   "source": [
    "len(\"'열은 아무리 길이가 길어도 한 줄로 입력해야한다.만약 줄바꿈을 하고 싶다면 \\\\를 문장 줄바꿈할 곳 끝에 넣고 줄바꿈을 할 수 있다.'\")"
   ]
  },
  {
   "cell_type": "code",
   "execution_count": 54,
   "id": "e8ec1131",
   "metadata": {},
   "outputs": [
    {
     "data": {
      "text/plain": [
       "'가'"
      ]
     },
     "execution_count": 54,
     "metadata": {},
     "output_type": "execute_result"
    }
   ],
   "source": [
    "long_char5[9]"
   ]
  },
  {
   "cell_type": "markdown",
   "id": "c3f116e7",
   "metadata": {},
   "source": [
    "# 문자열의 번호(index)는 갈아 -1 이다.\n",
    "* len의 결과가 74일 경우 인덱스는 0-73번 까지"
   ]
  },
  {
   "cell_type": "markdown",
   "id": "d5c8334c",
   "metadata": {},
   "source": [
    "# 문자의 덧셈,곱셈\n",
    "* 문자의 덧셈: 붙이기\n",
    "* 문자의 곱셈: 반복"
   ]
  },
  {
   "cell_type": "code",
   "execution_count": 55,
   "id": "97a2a53a",
   "metadata": {},
   "outputs": [],
   "source": [
    "c = \"python\"\n",
    "d = \"쉬워요\""
   ]
  },
  {
   "cell_type": "code",
   "execution_count": 56,
   "id": "c9b10928",
   "metadata": {},
   "outputs": [
    {
     "name": "stdout",
     "output_type": "stream",
     "text": [
      "python 쉬워요\n"
     ]
    }
   ],
   "source": [
    "print(c, d)"
   ]
  },
  {
   "cell_type": "code",
   "execution_count": 57,
   "id": "997ed4f4",
   "metadata": {},
   "outputs": [
    {
     "name": "stdout",
     "output_type": "stream",
     "text": [
      "python 쉬워요\n"
     ]
    }
   ],
   "source": [
    "# 문자 + 문자2 == 문자문자2\n",
    "f = c +\" \"+ d\n",
    "print(f)"
   ]
  },
  {
   "cell_type": "code",
   "execution_count": 58,
   "id": "8ebeb2e5",
   "metadata": {},
   "outputs": [
    {
     "name": "stdout",
     "output_type": "stream",
     "text": [
      "***********\n",
      "Hello World\n",
      "***********\n"
     ]
    }
   ],
   "source": [
    "# 문자 곱셈 == 문자의 반복\n",
    "\n",
    "a = \"*\"\n",
    "b = \"Hello World\"\n",
    "print(a*11)\n",
    "print(b)\n",
    "print(a*11)"
   ]
  },
  {
   "cell_type": "markdown",
   "id": "6c27c4c2",
   "metadata": {},
   "source": [
    "# 문자열의 인덱싱과 슬라이싱\n",
    "* 인덱싱:  문자열의 앞에서부터 부여된 숫자를 대괄호 안에 넣어서 그  위치의 문자를 출력하는 것.\n",
    "    * 변수[숫자]\n",
    "* 슬라이싱: 문자열에 부여된 인덱스 번호를 범위로 묶어서 가져오는 것.\n",
    "    * 변수[시작번호:끝번호+1:간격]"
   ]
  },
  {
   "cell_type": "code",
   "execution_count": 59,
   "id": "ba8e2a21",
   "metadata": {},
   "outputs": [],
   "source": [
    "sliceing = \"슬라이싱: 문자열에 부여된 인덱스 번호를 범위로 묶어서 가져오는 것.\""
   ]
  },
  {
   "cell_type": "code",
   "execution_count": 60,
   "id": "21ca62d4",
   "metadata": {},
   "outputs": [
    {
     "data": {
      "text/plain": [
       "'슬'"
      ]
     },
     "execution_count": 60,
     "metadata": {},
     "output_type": "execute_result"
    }
   ],
   "source": [
    "sliceing[0]"
   ]
  },
  {
   "cell_type": "code",
   "execution_count": 61,
   "id": "5dbe379c",
   "metadata": {},
   "outputs": [
    {
     "data": {
      "text/plain": [
       "'문자열에'"
      ]
     },
     "execution_count": 61,
     "metadata": {},
     "output_type": "execute_result"
    }
   ],
   "source": [
    "sliceing[6:10]"
   ]
  },
  {
   "cell_type": "code",
   "execution_count": 62,
   "id": "5af029c2",
   "metadata": {},
   "outputs": [
    {
     "data": {
      "text/plain": [
       "'슬이:문열 여 덱 호 위 어 져는것'"
      ]
     },
     "execution_count": 62,
     "metadata": {},
     "output_type": "execute_result"
    }
   ],
   "source": [
    "sliceing[::2]"
   ]
  },
  {
   "cell_type": "markdown",
   "id": "1e6db46f",
   "metadata": {},
   "source": [
    "# 리스트 list\n",
    "* 리스트는 [] 안에 정수,실수,문자/문자열,리스트.튜플,딕셔너리를 모두 넣어서 만든다.\n",
    "* 리스트는 여러가지 자료가 나열된 형태이므로 순서가 있다.\n",
    "* 인뎃싱,슬라이싱 가능\n",
    "* 자료의 추가/삭제가 가능하다."
   ]
  },
  {
   "cell_type": "code",
   "execution_count": 63,
   "id": "6c152e81",
   "metadata": {},
   "outputs": [],
   "source": [
    "a = [1,3.5,\"삼\",\"사십오\",[1,2,3],(4,5,6),{\"key\":\"value\"}]"
   ]
  },
  {
   "cell_type": "code",
   "execution_count": 64,
   "id": "ba801a35",
   "metadata": {},
   "outputs": [
    {
     "name": "stdout",
     "output_type": "stream",
     "text": [
      "[1, 3.5, '삼', '사십오', [1, 2, 3], (4, 5, 6), {'key': 'value'}]\n"
     ]
    }
   ],
   "source": [
    "print(a)"
   ]
  },
  {
   "cell_type": "code",
   "execution_count": 65,
   "id": "85d48a3a",
   "metadata": {},
   "outputs": [
    {
     "name": "stdout",
     "output_type": "stream",
     "text": [
      "[[1, 2, 3], (4, 5, 6), {'key': 'value'}]\n"
     ]
    }
   ],
   "source": [
    "print(a[4:7])"
   ]
  },
  {
   "cell_type": "code",
   "execution_count": 66,
   "id": "5649931b",
   "metadata": {},
   "outputs": [
    {
     "name": "stdout",
     "output_type": "stream",
     "text": [
      "<class 'list'>\n"
     ]
    }
   ],
   "source": [
    "print(type(a))"
   ]
  },
  {
   "cell_type": "code",
   "execution_count": 67,
   "id": "7f3f79a8",
   "metadata": {},
   "outputs": [
    {
     "name": "stdout",
     "output_type": "stream",
     "text": [
      "<class 'int'>\n"
     ]
    }
   ],
   "source": [
    "print(type(a[0]))"
   ]
  },
  {
   "cell_type": "markdown",
   "id": "c69092db",
   "metadata": {},
   "source": [
    "# 리스트 안에 리스트/튜플이 있는 경우는?"
   ]
  },
  {
   "cell_type": "code",
   "execution_count": 68,
   "id": "c5a775ec",
   "metadata": {},
   "outputs": [
    {
     "data": {
      "text/plain": [
       "[1, 3.5, '삼', '사십오', [1, 2, 3], (4, 5, 6), {'key': 'value'}]"
      ]
     },
     "execution_count": 68,
     "metadata": {},
     "output_type": "execute_result"
    }
   ],
   "source": [
    "a"
   ]
  },
  {
   "cell_type": "code",
   "execution_count": 69,
   "id": "50d3fb7e",
   "metadata": {},
   "outputs": [
    {
     "data": {
      "text/plain": [
       "'사십오'"
      ]
     },
     "execution_count": 69,
     "metadata": {},
     "output_type": "execute_result"
    }
   ],
   "source": [
    "a[3]"
   ]
  },
  {
   "cell_type": "code",
   "execution_count": 70,
   "id": "b16e58e5",
   "metadata": {},
   "outputs": [
    {
     "data": {
      "text/plain": [
       "'오'"
      ]
     },
     "execution_count": 70,
     "metadata": {},
     "output_type": "execute_result"
    }
   ],
   "source": [
    "a[3][2]"
   ]
  },
  {
   "cell_type": "code",
   "execution_count": 71,
   "id": "6bc89c64",
   "metadata": {},
   "outputs": [
    {
     "data": {
      "text/plain": [
       "3"
      ]
     },
     "execution_count": 71,
     "metadata": {},
     "output_type": "execute_result"
    }
   ],
   "source": [
    "a[4][2]"
   ]
  },
  {
   "cell_type": "markdown",
   "id": "9f884be6",
   "metadata": {},
   "source": [
    "# 중첩리스트"
   ]
  },
  {
   "cell_type": "code",
   "execution_count": 72,
   "id": "16747d18",
   "metadata": {},
   "outputs": [],
   "source": [
    "b = [1, 3.5, '삼', '사십오', [1, 2,[4,5,[7,8,9],10]], (4, 5, 6), {'key': 'value'}]"
   ]
  },
  {
   "cell_type": "code",
   "execution_count": 73,
   "id": "0146e421",
   "metadata": {},
   "outputs": [
    {
     "data": {
      "text/plain": [
       "9"
      ]
     },
     "execution_count": 73,
     "metadata": {},
     "output_type": "execute_result"
    }
   ],
   "source": [
    "b[4][2][2][2]"
   ]
  },
  {
   "cell_type": "markdown",
   "id": "096bc346",
   "metadata": {},
   "source": [
    "#  len함수로 길이 구하기"
   ]
  },
  {
   "cell_type": "code",
   "execution_count": 74,
   "id": "29c3f663",
   "metadata": {},
   "outputs": [
    {
     "data": {
      "text/plain": [
       "7"
      ]
     },
     "execution_count": 74,
     "metadata": {},
     "output_type": "execute_result"
    }
   ],
   "source": [
    "len(b)"
   ]
  },
  {
   "cell_type": "code",
   "execution_count": 75,
   "id": "42ce3106",
   "metadata": {},
   "outputs": [
    {
     "data": {
      "text/plain": [
       "3"
      ]
     },
     "execution_count": 75,
     "metadata": {},
     "output_type": "execute_result"
    }
   ],
   "source": [
    "len(b[3])"
   ]
  },
  {
   "cell_type": "code",
   "execution_count": 76,
   "id": "1edea161",
   "metadata": {},
   "outputs": [
    {
     "data": {
      "text/plain": [
       "4"
      ]
     },
     "execution_count": 76,
     "metadata": {},
     "output_type": "execute_result"
    }
   ],
   "source": [
    "len(b[4][2])"
   ]
  },
  {
   "cell_type": "markdown",
   "id": "e78a6821",
   "metadata": {},
   "source": [
    "# 4.리스트에 자료 추가하기 .append(자료)\n",
    "* append로 추가된 자료는  리스트의 가장 마지막에 추가 됨"
   ]
  },
  {
   "cell_type": "code",
   "execution_count": 77,
   "id": "7540a198",
   "metadata": {},
   "outputs": [
    {
     "data": {
      "text/plain": [
       "[1,\n",
       " 3.5,\n",
       " '삼',\n",
       " '사십오',\n",
       " [1, 2, [4, 5, [7, 8, 9], 10]],\n",
       " (4, 5, 6),\n",
       " {'key': 'value'}]"
      ]
     },
     "execution_count": 77,
     "metadata": {},
     "output_type": "execute_result"
    }
   ],
   "source": [
    "b"
   ]
  },
  {
   "cell_type": "code",
   "execution_count": 78,
   "id": "2b877bf9",
   "metadata": {},
   "outputs": [],
   "source": [
    "b.append(99)"
   ]
  },
  {
   "cell_type": "code",
   "execution_count": 79,
   "id": "8a772ed4",
   "metadata": {},
   "outputs": [
    {
     "data": {
      "text/plain": [
       "[1,\n",
       " 3.5,\n",
       " '삼',\n",
       " '사십오',\n",
       " [1, 2, [4, 5, [7, 8, 9], 10]],\n",
       " (4, 5, 6),\n",
       " {'key': 'value'},\n",
       " 99]"
      ]
     },
     "execution_count": 79,
     "metadata": {},
     "output_type": "execute_result"
    }
   ],
   "source": [
    "b"
   ]
  },
  {
   "cell_type": "code",
   "execution_count": 80,
   "id": "e7994005",
   "metadata": {},
   "outputs": [],
   "source": [
    "b.append(99.999)"
   ]
  },
  {
   "cell_type": "code",
   "execution_count": 81,
   "id": "d8934ff9",
   "metadata": {},
   "outputs": [
    {
     "data": {
      "text/plain": [
       "[1,\n",
       " 3.5,\n",
       " '삼',\n",
       " '사십오',\n",
       " [1, 2, [4, 5, [7, 8, 9], 10]],\n",
       " (4, 5, 6),\n",
       " {'key': 'value'},\n",
       " 99,\n",
       " 99.999]"
      ]
     },
     "execution_count": 81,
     "metadata": {},
     "output_type": "execute_result"
    }
   ],
   "source": [
    "b"
   ]
  },
  {
   "cell_type": "code",
   "execution_count": 82,
   "id": "082ee906",
   "metadata": {},
   "outputs": [],
   "source": [
    "b.append([\"일\",\"이\",\"삼\"])"
   ]
  },
  {
   "cell_type": "code",
   "execution_count": 83,
   "id": "04574cba",
   "metadata": {},
   "outputs": [
    {
     "data": {
      "text/plain": [
       "[1,\n",
       " 3.5,\n",
       " '삼',\n",
       " '사십오',\n",
       " [1, 2, [4, 5, [7, 8, 9], 10]],\n",
       " (4, 5, 6),\n",
       " {'key': 'value'},\n",
       " 99,\n",
       " 99.999,\n",
       " ['일', '이', '삼']]"
      ]
     },
     "execution_count": 83,
     "metadata": {},
     "output_type": "execute_result"
    }
   ],
   "source": [
    "b"
   ]
  },
  {
   "cell_type": "code",
   "execution_count": 84,
   "id": "297f699c",
   "metadata": {},
   "outputs": [],
   "source": [
    "b.append((1,2,3))"
   ]
  },
  {
   "cell_type": "code",
   "execution_count": 85,
   "id": "48d6a456",
   "metadata": {},
   "outputs": [
    {
     "data": {
      "text/plain": [
       "[1,\n",
       " 3.5,\n",
       " '삼',\n",
       " '사십오',\n",
       " [1, 2, [4, 5, [7, 8, 9], 10]],\n",
       " (4, 5, 6),\n",
       " {'key': 'value'},\n",
       " 99,\n",
       " 99.999,\n",
       " ['일', '이', '삼'],\n",
       " (1, 2, 3)]"
      ]
     },
     "execution_count": 85,
     "metadata": {},
     "output_type": "execute_result"
    }
   ],
   "source": [
    "b"
   ]
  },
  {
   "cell_type": "code",
   "execution_count": 86,
   "id": "583aeea0",
   "metadata": {},
   "outputs": [],
   "source": [
    "b.append({\"key2:value2\"})"
   ]
  },
  {
   "cell_type": "code",
   "execution_count": 87,
   "id": "9362a858",
   "metadata": {},
   "outputs": [
    {
     "data": {
      "text/plain": [
       "[1,\n",
       " 3.5,\n",
       " '삼',\n",
       " '사십오',\n",
       " [1, 2, [4, 5, [7, 8, 9], 10]],\n",
       " (4, 5, 6),\n",
       " {'key': 'value'},\n",
       " 99,\n",
       " 99.999,\n",
       " ['일', '이', '삼'],\n",
       " (1, 2, 3),\n",
       " {'key2:value2'}]"
      ]
     },
     "execution_count": 87,
     "metadata": {},
     "output_type": "execute_result"
    }
   ],
   "source": [
    "b"
   ]
  },
  {
   "cell_type": "code",
   "execution_count": 88,
   "id": "f3345b62",
   "metadata": {},
   "outputs": [],
   "source": [
    "del b[9]"
   ]
  },
  {
   "cell_type": "code",
   "execution_count": 89,
   "id": "96d73701",
   "metadata": {},
   "outputs": [
    {
     "data": {
      "text/plain": [
       "[1,\n",
       " 3.5,\n",
       " '삼',\n",
       " '사십오',\n",
       " [1, 2, [4, 5, [7, 8, 9], 10]],\n",
       " (4, 5, 6),\n",
       " {'key': 'value'},\n",
       " 99,\n",
       " 99.999,\n",
       " (1, 2, 3),\n",
       " {'key2:value2'}]"
      ]
     },
     "execution_count": 89,
     "metadata": {},
     "output_type": "execute_result"
    }
   ],
   "source": [
    "b"
   ]
  },
  {
   "cell_type": "code",
   "execution_count": 90,
   "id": "c53a8e9d",
   "metadata": {},
   "outputs": [],
   "source": [
    "del b[10:12]"
   ]
  },
  {
   "cell_type": "code",
   "execution_count": 91,
   "id": "8ec83ad3",
   "metadata": {},
   "outputs": [
    {
     "data": {
      "text/plain": [
       "[1,\n",
       " 3.5,\n",
       " '삼',\n",
       " '사십오',\n",
       " [1, 2, [4, 5, [7, 8, 9], 10]],\n",
       " (4, 5, 6),\n",
       " {'key': 'value'},\n",
       " 99,\n",
       " 99.999,\n",
       " (1, 2, 3)]"
      ]
     },
     "execution_count": 91,
     "metadata": {},
     "output_type": "execute_result"
    }
   ],
   "source": [
    "b"
   ]
  },
  {
   "cell_type": "markdown",
   "id": "1f255869",
   "metadata": {},
   "source": [
    "# 리스트 자료 수정하기"
   ]
  },
  {
   "cell_type": "code",
   "execution_count": 92,
   "id": "e133d520",
   "metadata": {},
   "outputs": [
    {
     "data": {
      "text/plain": [
       "[1000,\n",
       " 3.5,\n",
       " '삼',\n",
       " '사십오',\n",
       " [1, 2, [4, 5, [7, 8, 9], 10]],\n",
       " (4, 5, 6),\n",
       " {'key': 'value'},\n",
       " 99,\n",
       " 99.999,\n",
       " (1, 2, 3)]"
      ]
     },
     "execution_count": 92,
     "metadata": {},
     "output_type": "execute_result"
    }
   ],
   "source": [
    "b[0] = 1000\n",
    "b"
   ]
  },
  {
   "cell_type": "markdown",
   "id": "541ad290",
   "metadata": {},
   "source": [
    "# 5.튜플tuple\n",
    "* 여러가지 자료를 ()안에 넣어서 만드는 자료형\n",
    "* 모든 data type의 자료를 넣을 수 있다.\n",
    "* 한 번 생성하면 수정이 되지 않는다.\n",
    "* 튜플이 리스트보다 실행 속도가 빠르다."
   ]
  },
  {
   "cell_type": "code",
   "execution_count": 93,
   "id": "3a404d34",
   "metadata": {},
   "outputs": [],
   "source": [
    "# 튜플은 자료 한개를 넣읗 떄 ,를 넣어야 튜플이 된다.\n",
    "t = (1,)"
   ]
  },
  {
   "cell_type": "code",
   "execution_count": 94,
   "id": "1fcd1ff2",
   "metadata": {},
   "outputs": [
    {
     "data": {
      "text/plain": [
       "(1,)"
      ]
     },
     "execution_count": 94,
     "metadata": {},
     "output_type": "execute_result"
    }
   ],
   "source": [
    "t"
   ]
  },
  {
   "cell_type": "code",
   "execution_count": 95,
   "id": "ad0facb4",
   "metadata": {},
   "outputs": [
    {
     "data": {
      "text/plain": [
       "2"
      ]
     },
     "execution_count": 95,
     "metadata": {},
     "output_type": "execute_result"
    }
   ],
   "source": [
    "t2 = (2)\n",
    "2"
   ]
  },
  {
   "cell_type": "code",
   "execution_count": 96,
   "id": "0f59be61",
   "metadata": {},
   "outputs": [
    {
     "name": "stdout",
     "output_type": "stream",
     "text": [
      "<class 'tuple'>\n",
      "<class 'int'>\n"
     ]
    }
   ],
   "source": [
    "print(type(t)),\n",
    "print(type(t2))"
   ]
  },
  {
   "cell_type": "code",
   "execution_count": 97,
   "id": "e2b2e0e3",
   "metadata": {},
   "outputs": [
    {
     "data": {
      "text/plain": [
       "(1, 2.5, '문', '문자열', [3, 4, 5], (5, 6, 7), {'key': 'value'})"
      ]
     },
     "execution_count": 97,
     "metadata": {},
     "output_type": "execute_result"
    }
   ],
   "source": [
    "t3 = (1,2.5,\"문\",\"문자열\",[3,4,5],(5,6,7),{'key':'value'})\n",
    "t3"
   ]
  },
  {
   "cell_type": "code",
   "execution_count": 98,
   "id": "bf456765",
   "metadata": {},
   "outputs": [
    {
     "data": {
      "text/plain": [
       "4"
      ]
     },
     "execution_count": 98,
     "metadata": {},
     "output_type": "execute_result"
    }
   ],
   "source": [
    "t3[4][1]"
   ]
  },
  {
   "cell_type": "code",
   "execution_count": 99,
   "id": "ff6f5b05",
   "metadata": {},
   "outputs": [
    {
     "data": {
      "text/plain": [
       "(1, 2.5, '문', '문자열')"
      ]
     },
     "execution_count": 99,
     "metadata": {},
     "output_type": "execute_result"
    }
   ],
   "source": [
    "t3[0:4]"
   ]
  },
  {
   "cell_type": "code",
   "execution_count": 100,
   "id": "77d0ad80",
   "metadata": {},
   "outputs": [
    {
     "ename": "AttributeError",
     "evalue": "'tuple' object has no attribute 'append'",
     "output_type": "error",
     "traceback": [
      "\u001b[1;31m---------------------------------------------------------------------------\u001b[0m",
      "\u001b[1;31mAttributeError\u001b[0m                            Traceback (most recent call last)",
      "Cell \u001b[1;32mIn[100], line 2\u001b[0m\n\u001b[0;32m      1\u001b[0m \u001b[38;5;66;03m#튜플은 자료 추가가 안됨\u001b[39;00m\n\u001b[1;32m----> 2\u001b[0m \u001b[43mt3\u001b[49m\u001b[38;5;241;43m.\u001b[39;49m\u001b[43mappend\u001b[49m(\u001b[38;5;241m10\u001b[39m)\n",
      "\u001b[1;31mAttributeError\u001b[0m: 'tuple' object has no attribute 'append'"
     ]
    }
   ],
   "source": [
    "#튜플은 자료 추가가 안됨\n",
    "t3.append(10)"
   ]
  },
  {
   "cell_type": "code",
   "execution_count": 101,
   "id": "694c4694",
   "metadata": {},
   "outputs": [
    {
     "ename": "TypeError",
     "evalue": "'tuple' object does not support item assignment",
     "output_type": "error",
     "traceback": [
      "\u001b[1;31m---------------------------------------------------------------------------\u001b[0m",
      "\u001b[1;31mTypeError\u001b[0m                                 Traceback (most recent call last)",
      "Cell \u001b[1;32mIn[101], line 2\u001b[0m\n\u001b[0;32m      1\u001b[0m \u001b[38;5;66;03m# 튜플은 자료 수정도 안됨\u001b[39;00m\n\u001b[1;32m----> 2\u001b[0m \u001b[43mt3\u001b[49m\u001b[43m[\u001b[49m\u001b[38;5;241;43m0\u001b[39;49m\u001b[43m]\u001b[49m \u001b[38;5;241m=\u001b[39m \u001b[38;5;241m100\u001b[39m\n",
      "\u001b[1;31mTypeError\u001b[0m: 'tuple' object does not support item assignment"
     ]
    }
   ],
   "source": [
    "# 튜플은 자료 수정도 안됨\n",
    "t3[0] = 100"
   ]
  },
  {
   "cell_type": "code",
   "execution_count": 102,
   "id": "05dda600",
   "metadata": {},
   "outputs": [
    {
     "ename": "TypeError",
     "evalue": "'tuple' object doesn't support item deletion",
     "output_type": "error",
     "traceback": [
      "\u001b[1;31m---------------------------------------------------------------------------\u001b[0m",
      "\u001b[1;31mTypeError\u001b[0m                                 Traceback (most recent call last)",
      "Cell \u001b[1;32mIn[102], line 2\u001b[0m\n\u001b[0;32m      1\u001b[0m \u001b[38;5;66;03m# 튜플은 자료 삭제가 안된다.\u001b[39;00m\n\u001b[1;32m----> 2\u001b[0m \u001b[38;5;28;01mdel\u001b[39;00m t3[\u001b[38;5;241m0\u001b[39m]\n",
      "\u001b[1;31mTypeError\u001b[0m: 'tuple' object doesn't support item deletion"
     ]
    }
   ],
   "source": [
    "# 튜플은 자료 삭제가 안된다.\n",
    "del t3[0]"
   ]
  },
  {
   "cell_type": "markdown",
   "id": "45cf95cd",
   "metadata": {},
   "source": [
    "# 6. 딕셔너리형(dict) JSON {\"key\" : \"value\"} \n",
    "* key와 value로 이루어진 데이터형\n",
    "* json 이라고도 불리며 웹상에서 데이터를 주고 받을 때 주로 사용\n",
    "* 딕셔너리의 value에는 모든 자료형이 올 수 있음.\n",
    "* 딕셔너리의 key에는 list,dict는 올 수 없음.\n",
    "* key를 호출하면 value가 출력됨.\n",
    "* 딕셔너리는 순서가 없는 자료형"
   ]
  },
  {
   "cell_type": "code",
   "execution_count": 103,
   "id": "4a95290e",
   "metadata": {},
   "outputs": [],
   "source": [
    "dict1 = {\"이름\":\"홍길동\",\"나이\":33,\"키\":175.4,\"가족\":['둘리','또치','도우너']}"
   ]
  },
  {
   "cell_type": "code",
   "execution_count": 104,
   "id": "6907c6d0",
   "metadata": {},
   "outputs": [
    {
     "name": "stdout",
     "output_type": "stream",
     "text": [
      "홍길동 <class 'str'>\n"
     ]
    }
   ],
   "source": [
    "print(dict1[\"이름\"],type(dict1[\"이름\"]))"
   ]
  },
  {
   "cell_type": "code",
   "execution_count": 105,
   "id": "cea8da02",
   "metadata": {},
   "outputs": [
    {
     "name": "stdout",
     "output_type": "stream",
     "text": [
      "33 <class 'int'>\n"
     ]
    }
   ],
   "source": [
    "print(dict1[\"나이\"],type(dict1[\"나이\"]))"
   ]
  },
  {
   "cell_type": "code",
   "execution_count": 106,
   "id": "11075f98",
   "metadata": {},
   "outputs": [
    {
     "name": "stdout",
     "output_type": "stream",
     "text": [
      "175.4 <class 'float'>\n"
     ]
    }
   ],
   "source": [
    "print(dict1[\"키\"],type(dict1[\"키\"]))"
   ]
  },
  {
   "cell_type": "code",
   "execution_count": 107,
   "id": "80c45f2f",
   "metadata": {},
   "outputs": [
    {
     "name": "stdout",
     "output_type": "stream",
     "text": [
      "['둘리', '또치', '도우너'] <class 'list'>\n"
     ]
    }
   ],
   "source": [
    "print(dict1[\"가족\"],type(dict1[\"가족\"]))"
   ]
  },
  {
   "cell_type": "code",
   "execution_count": 108,
   "id": "ddec58a4",
   "metadata": {},
   "outputs": [
    {
     "data": {
      "text/plain": [
       "['둘리', '또치', '도우너']"
      ]
     },
     "execution_count": 108,
     "metadata": {},
     "output_type": "execute_result"
    }
   ],
   "source": [
    "dict1[\"가족\"]"
   ]
  },
  {
   "cell_type": "code",
   "execution_count": 109,
   "id": "f08dca27",
   "metadata": {},
   "outputs": [
    {
     "data": {
      "text/plain": [
       "'둘리'"
      ]
     },
     "execution_count": 109,
     "metadata": {},
     "output_type": "execute_result"
    }
   ],
   "source": [
    "dict1[\"가족\"][0]"
   ]
  },
  {
   "cell_type": "code",
   "execution_count": 110,
   "id": "b31698a3",
   "metadata": {},
   "outputs": [],
   "source": [
    "dict2 = {\"가족\":['둘리','또치','도우너',{\"키\":[145,155,165]}]}"
   ]
  },
  {
   "cell_type": "markdown",
   "id": "b7047fff",
   "metadata": {},
   "source": [
    "# dict 에서 len은 key의 갯수"
   ]
  },
  {
   "cell_type": "code",
   "execution_count": 111,
   "id": "e713fe14",
   "metadata": {},
   "outputs": [
    {
     "data": {
      "text/plain": [
       "1"
      ]
     },
     "execution_count": 111,
     "metadata": {},
     "output_type": "execute_result"
    }
   ],
   "source": [
    "len(dict2)"
   ]
  },
  {
   "cell_type": "code",
   "execution_count": 112,
   "id": "2062330f",
   "metadata": {},
   "outputs": [
    {
     "data": {
      "text/plain": [
       "['둘리', '또치', '도우너', {'키': [145, 155, 165]}]"
      ]
     },
     "execution_count": 112,
     "metadata": {},
     "output_type": "execute_result"
    }
   ],
   "source": [
    "dict2[\"가족\"]"
   ]
  },
  {
   "cell_type": "code",
   "execution_count": 113,
   "id": "e64d293a",
   "metadata": {},
   "outputs": [
    {
     "data": {
      "text/plain": [
       "{'키': [145, 155, 165]}"
      ]
     },
     "execution_count": 113,
     "metadata": {},
     "output_type": "execute_result"
    }
   ],
   "source": [
    "dict2[\"가족\"][3]"
   ]
  },
  {
   "cell_type": "code",
   "execution_count": 114,
   "id": "a9d4ca68",
   "metadata": {},
   "outputs": [
    {
     "data": {
      "text/plain": [
       "[145, 155, 165]"
      ]
     },
     "execution_count": 114,
     "metadata": {},
     "output_type": "execute_result"
    }
   ],
   "source": [
    "dict2[\"가족\"][3]['키']"
   ]
  },
  {
   "cell_type": "code",
   "execution_count": 115,
   "id": "31c2f897",
   "metadata": {},
   "outputs": [
    {
     "data": {
      "text/plain": [
       "155"
      ]
     },
     "execution_count": 115,
     "metadata": {},
     "output_type": "execute_result"
    }
   ],
   "source": [
    "dict2[\"가족\"][3]['키'][1]"
   ]
  },
  {
   "cell_type": "markdown",
   "id": "8153f131",
   "metadata": {},
   "source": [
    "# 딕셔너리에 자료 추가/삭제하기\n",
    "* 자료추가\n",
    "    * 변수명['새로운 key']= 새자료 **key가 중복뒤면 안됨, 중복될 경우 나중 값으로 덮어쓰기 됨**\n",
    "* 자료 삭제\n",
    "    * del 변수명['key']"
   ]
  },
  {
   "cell_type": "code",
   "execution_count": 116,
   "id": "b5f3fbe1",
   "metadata": {},
   "outputs": [
    {
     "data": {
      "text/plain": [
       "{'가족': ['둘리', '또치', '도우너', {'키': [145, 155, 165]}]}"
      ]
     },
     "execution_count": 116,
     "metadata": {},
     "output_type": "execute_result"
    }
   ],
   "source": [
    "dict2"
   ]
  },
  {
   "cell_type": "code",
   "execution_count": 117,
   "id": "42292ada",
   "metadata": {},
   "outputs": [],
   "source": [
    "dict2['좋아하는 음식'] = ['자장면','짬뽕','볶음밥']"
   ]
  },
  {
   "cell_type": "code",
   "execution_count": 118,
   "id": "2a5eba45",
   "metadata": {},
   "outputs": [
    {
     "data": {
      "text/plain": [
       "{'가족': ['둘리', '또치', '도우너', {'키': [145, 155, 165]}],\n",
       " '좋아하는 음식': ['자장면', '짬뽕', '볶음밥']}"
      ]
     },
     "execution_count": 118,
     "metadata": {},
     "output_type": "execute_result"
    }
   ],
   "source": [
    "dict2"
   ]
  },
  {
   "cell_type": "code",
   "execution_count": 119,
   "id": "544f0bda",
   "metadata": {},
   "outputs": [
    {
     "data": {
      "text/plain": [
       "['둘리', '또치', '도우너', {'키': [145, 155, 165]}]"
      ]
     },
     "execution_count": 119,
     "metadata": {},
     "output_type": "execute_result"
    }
   ],
   "source": [
    "dict2['가족']"
   ]
  },
  {
   "cell_type": "code",
   "execution_count": 120,
   "id": "682df6aa",
   "metadata": {},
   "outputs": [
    {
     "data": {
      "text/plain": [
       "{'키': [145, 155, 165]}"
      ]
     },
     "execution_count": 120,
     "metadata": {},
     "output_type": "execute_result"
    }
   ],
   "source": [
    "dict2['가족'][3]"
   ]
  },
  {
   "cell_type": "code",
   "execution_count": 121,
   "id": "a30b91c5",
   "metadata": {},
   "outputs": [],
   "source": [
    "del dict2['가족'][3]"
   ]
  },
  {
   "cell_type": "code",
   "execution_count": 122,
   "id": "fd214e95",
   "metadata": {},
   "outputs": [
    {
     "data": {
      "text/plain": [
       "{'가족': ['둘리', '또치', '도우너'], '좋아하는 음식': ['자장면', '짬뽕', '볶음밥']}"
      ]
     },
     "execution_count": 122,
     "metadata": {},
     "output_type": "execute_result"
    }
   ],
   "source": [
    "dict2"
   ]
  },
  {
   "cell_type": "code",
   "execution_count": 123,
   "id": "ba404627",
   "metadata": {},
   "outputs": [],
   "source": [
    "del dict2['좋아하는 음식']"
   ]
  },
  {
   "cell_type": "code",
   "execution_count": 124,
   "id": "04c73e49",
   "metadata": {},
   "outputs": [
    {
     "data": {
      "text/plain": [
       "{'가족': ['둘리', '또치', '도우너']}"
      ]
     },
     "execution_count": 124,
     "metadata": {},
     "output_type": "execute_result"
    }
   ],
   "source": [
    "dict2"
   ]
  },
  {
   "cell_type": "code",
   "execution_count": 125,
   "id": "9ccb170a",
   "metadata": {},
   "outputs": [],
   "source": [
    "dict2['가족'] = '대가족'"
   ]
  },
  {
   "cell_type": "code",
   "execution_count": 126,
   "id": "2d8e4379",
   "metadata": {},
   "outputs": [
    {
     "data": {
      "text/plain": [
       "{'가족': '대가족'}"
      ]
     },
     "execution_count": 126,
     "metadata": {},
     "output_type": "execute_result"
    }
   ],
   "source": [
    "dict2"
   ]
  },
  {
   "cell_type": "markdown",
   "id": "bb43ec4d",
   "metadata": {},
   "source": [
    "# 형변환 함수\n",
    "* data type을 다른 data type으로 바꾸는 것\n",
    "* int, float, str, list, tuple, dict"
   ]
  },
  {
   "cell_type": "markdown",
   "id": "05873894",
   "metadata": {},
   "source": [
    "## int() 숫자나 문자를 정수로 형변환"
   ]
  },
  {
   "cell_type": "code",
   "execution_count": 127,
   "id": "8e0eb169",
   "metadata": {},
   "outputs": [],
   "source": [
    "a = 3.14"
   ]
  },
  {
   "cell_type": "code",
   "execution_count": 128,
   "id": "e6c021dd",
   "metadata": {},
   "outputs": [
    {
     "name": "stdout",
     "output_type": "stream",
     "text": [
      "3.14 <class 'float'>\n"
     ]
    }
   ],
   "source": [
    "print(a, type(a))"
   ]
  },
  {
   "cell_type": "code",
   "execution_count": 129,
   "id": "4de3fab8",
   "metadata": {},
   "outputs": [
    {
     "name": "stdout",
     "output_type": "stream",
     "text": [
      "3 <class 'int'>\n"
     ]
    }
   ],
   "source": [
    "print(int(a),type(int(a)))"
   ]
  },
  {
   "cell_type": "code",
   "execution_count": 130,
   "id": "c60b934a",
   "metadata": {},
   "outputs": [
    {
     "name": "stdout",
     "output_type": "stream",
     "text": [
      "3 <class 'str'>\n"
     ]
    }
   ],
   "source": [
    "b = \"3\"\n",
    "print(b,type(b))"
   ]
  },
  {
   "cell_type": "code",
   "execution_count": 131,
   "id": "e40a0bb5",
   "metadata": {},
   "outputs": [
    {
     "data": {
      "text/plain": [
       "'3'"
      ]
     },
     "execution_count": 131,
     "metadata": {},
     "output_type": "execute_result"
    }
   ],
   "source": [
    "b"
   ]
  },
  {
   "cell_type": "code",
   "execution_count": 132,
   "id": "dd71bf48",
   "metadata": {},
   "outputs": [
    {
     "data": {
      "text/plain": [
       "3"
      ]
     },
     "execution_count": 132,
     "metadata": {},
     "output_type": "execute_result"
    }
   ],
   "source": [
    "int(a)"
   ]
  },
  {
   "cell_type": "code",
   "execution_count": 133,
   "id": "0d0cb47b",
   "metadata": {},
   "outputs": [
    {
     "name": "stdout",
     "output_type": "stream",
     "text": [
      "3 <class 'int'>\n"
     ]
    }
   ],
   "source": [
    "print(int(b),type(int(b)))"
   ]
  },
  {
   "cell_type": "markdown",
   "id": "6fdae252",
   "metadata": {},
   "source": [
    "## floaat() 정수나,문자를 실수로 형변환"
   ]
  },
  {
   "cell_type": "code",
   "execution_count": 134,
   "id": "84d7ecad",
   "metadata": {},
   "outputs": [
    {
     "name": "stdout",
     "output_type": "stream",
     "text": [
      "200 <class 'int'>\n"
     ]
    }
   ],
   "source": [
    "c = 200\n",
    "print(c,type(c))"
   ]
  },
  {
   "cell_type": "code",
   "execution_count": 135,
   "id": "9ee520b0",
   "metadata": {},
   "outputs": [
    {
     "name": "stdout",
     "output_type": "stream",
     "text": [
      "200.0 <class 'float'>\n"
     ]
    }
   ],
   "source": [
    "print(float(c),type(float(c)))"
   ]
  },
  {
   "cell_type": "code",
   "execution_count": 136,
   "id": "eb348b79",
   "metadata": {},
   "outputs": [
    {
     "data": {
      "text/plain": [
       "200"
      ]
     },
     "execution_count": 136,
     "metadata": {},
     "output_type": "execute_result"
    }
   ],
   "source": [
    "c"
   ]
  },
  {
   "cell_type": "code",
   "execution_count": 137,
   "id": "443b6336",
   "metadata": {},
   "outputs": [],
   "source": [
    "c = float(c)"
   ]
  },
  {
   "cell_type": "code",
   "execution_count": 138,
   "id": "5529d99a",
   "metadata": {},
   "outputs": [
    {
     "data": {
      "text/plain": [
       "200.0"
      ]
     },
     "execution_count": 138,
     "metadata": {},
     "output_type": "execute_result"
    }
   ],
   "source": [
    "c"
   ]
  },
  {
   "cell_type": "code",
   "execution_count": 139,
   "id": "340e4286",
   "metadata": {},
   "outputs": [
    {
     "name": "stdout",
     "output_type": "stream",
     "text": [
      "3.14 <class 'str'>\n"
     ]
    }
   ],
   "source": [
    "d = \"3.14\"\n",
    "print(d, type(d))"
   ]
  },
  {
   "cell_type": "code",
   "execution_count": 140,
   "id": "bae267c2",
   "metadata": {},
   "outputs": [],
   "source": [
    "d = float(d)"
   ]
  },
  {
   "cell_type": "code",
   "execution_count": 141,
   "id": "d7ee6e16",
   "metadata": {},
   "outputs": [
    {
     "name": "stdout",
     "output_type": "stream",
     "text": [
      "3.14 <class 'float'>\n"
     ]
    }
   ],
   "source": [
    "print(d, type(d))"
   ]
  },
  {
   "cell_type": "markdown",
   "id": "a365120c",
   "metadata": {},
   "source": [
    "## str() 숫자나,다른 자료형을 문자로 변환"
   ]
  },
  {
   "cell_type": "code",
   "execution_count": 142,
   "id": "fbc6474a",
   "metadata": {},
   "outputs": [],
   "source": [
    "a = 10\n",
    "b = 34.5\n",
    "c = [1,2,4,\"오\"]\n",
    "d = (\"육\",7,8.5,9)\n",
    "e = {3 : [1,2,3]}"
   ]
  },
  {
   "cell_type": "code",
   "execution_count": 143,
   "id": "846193a0",
   "metadata": {},
   "outputs": [
    {
     "name": "stdout",
     "output_type": "stream",
     "text": [
      "10 <class 'str'>\n"
     ]
    }
   ],
   "source": [
    "print(str(a),type(str(a)))"
   ]
  },
  {
   "cell_type": "code",
   "execution_count": 144,
   "id": "395e3e38",
   "metadata": {},
   "outputs": [
    {
     "name": "stdout",
     "output_type": "stream",
     "text": [
      "34.5 <class 'str'>\n"
     ]
    }
   ],
   "source": [
    "print(str(b),type(str(b)))"
   ]
  },
  {
   "cell_type": "code",
   "execution_count": 145,
   "id": "faca58d2",
   "metadata": {},
   "outputs": [
    {
     "name": "stdout",
     "output_type": "stream",
     "text": [
      "[1, 2, 4, '오'] <class 'str'>\n"
     ]
    }
   ],
   "source": [
    "print(str(c),type(str(c)))"
   ]
  },
  {
   "cell_type": "code",
   "execution_count": 146,
   "id": "e2d59f1e",
   "metadata": {},
   "outputs": [
    {
     "name": "stdout",
     "output_type": "stream",
     "text": [
      "('육', 7, 8.5, 9) <class 'str'>\n"
     ]
    }
   ],
   "source": [
    "print(str(d),type(str(d)))"
   ]
  },
  {
   "cell_type": "code",
   "execution_count": 147,
   "id": "2d667169",
   "metadata": {},
   "outputs": [
    {
     "name": "stdout",
     "output_type": "stream",
     "text": [
      "{3: [1, 2, 3]} <class 'str'>\n"
     ]
    }
   ],
   "source": [
    "print(str(e),type(str(e)))"
   ]
  },
  {
   "cell_type": "markdown",
   "id": "d859b414",
   "metadata": {},
   "source": [
    "## list() 튜플이나 문자열로 되어 있는 리스트를 리스트로 변환"
   ]
  },
  {
   "cell_type": "code",
   "execution_count": 148,
   "id": "fdeb37e6",
   "metadata": {},
   "outputs": [
    {
     "name": "stdout",
     "output_type": "stream",
     "text": [
      "('육', 7, 8.5, 9) ['육', 7, 8.5, 9] <class 'list'>\n"
     ]
    }
   ],
   "source": [
    "print(d,list(d),type(list(d)))"
   ]
  },
  {
   "cell_type": "code",
   "execution_count": 149,
   "id": "986b14ff",
   "metadata": {},
   "outputs": [
    {
     "name": "stdout",
     "output_type": "stream",
     "text": [
      "[1, 2, 4, '오'] <class 'str'>\n"
     ]
    }
   ],
   "source": [
    "c = str(c)\n",
    "print(c,type(c))"
   ]
  },
  {
   "cell_type": "code",
   "execution_count": 150,
   "id": "546a52bc",
   "metadata": {},
   "outputs": [
    {
     "name": "stdout",
     "output_type": "stream",
     "text": [
      "['[', '1', ',', ' ', '2', ',', ' ', '4', ',', ' ', \"'\", '오', \"'\", ']'] <class 'list'>\n"
     ]
    }
   ],
   "source": [
    "print(list(c),type(list(c)))"
   ]
  },
  {
   "cell_type": "code",
   "execution_count": 151,
   "id": "26e17215",
   "metadata": {},
   "outputs": [
    {
     "name": "stdout",
     "output_type": "stream",
     "text": [
      "['육', 7, 8.5, 9] <class 'list'>\n"
     ]
    }
   ],
   "source": [
    "d = list(d)\n",
    "print(d,type(d))"
   ]
  },
  {
   "cell_type": "code",
   "execution_count": 152,
   "id": "8cc1c8a4",
   "metadata": {},
   "outputs": [],
   "source": [
    "d.append(\"튜플을 리스트로 변환 후 자료 입력\")"
   ]
  },
  {
   "cell_type": "code",
   "execution_count": 153,
   "id": "f7bcf07d",
   "metadata": {},
   "outputs": [
    {
     "data": {
      "text/plain": [
       "['육', 7, 8.5, 9, '튜플을 리스트로 변환 후 자료 입력']"
      ]
     },
     "execution_count": 153,
     "metadata": {},
     "output_type": "execute_result"
    }
   ],
   "source": [
    "d"
   ]
  },
  {
   "cell_type": "markdown",
   "id": "3cdd3e25",
   "metadata": {},
   "source": [
    "## tuple() 리스트를 튜플로 변환"
   ]
  },
  {
   "cell_type": "code",
   "execution_count": 154,
   "id": "15d1b15a",
   "metadata": {},
   "outputs": [
    {
     "name": "stdout",
     "output_type": "stream",
     "text": [
      "('육', 7, 8.5, 9, '튜플을 리스트로 변환 후 자료 입력') <class 'tuple'>\n"
     ]
    }
   ],
   "source": [
    "d = tuple(d)\n",
    "print(d,type(d))"
   ]
  },
  {
   "cell_type": "markdown",
   "id": "7bcaa3b2",
   "metadata": {},
   "source": [
    "# 연산자의 종류\n"
   ]
  },
  {
   "cell_type": "markdown",
   "id": "5f96a3e3",
   "metadata": {},
   "source": [
    "## 산술연산자 +,-,*, /,%, // , **"
   ]
  },
  {
   "cell_type": "code",
   "execution_count": 155,
   "id": "69283afa",
   "metadata": {},
   "outputs": [
    {
     "data": {
      "text/plain": [
       "2"
      ]
     },
     "execution_count": 155,
     "metadata": {},
     "output_type": "execute_result"
    }
   ],
   "source": [
    "# 덧셈\n",
    "1+1"
   ]
  },
  {
   "cell_type": "code",
   "execution_count": 156,
   "id": "5cd9d7f2",
   "metadata": {},
   "outputs": [
    {
     "data": {
      "text/plain": [
       "1"
      ]
     },
     "execution_count": 156,
     "metadata": {},
     "output_type": "execute_result"
    }
   ],
   "source": [
    "# 뺄셈\n",
    "3-2"
   ]
  },
  {
   "cell_type": "code",
   "execution_count": 157,
   "id": "90a82b42",
   "metadata": {},
   "outputs": [],
   "source": [
    "a = 3\n",
    "b = 2"
   ]
  },
  {
   "cell_type": "code",
   "execution_count": 158,
   "id": "6215ef58",
   "metadata": {},
   "outputs": [
    {
     "data": {
      "text/plain": [
       "1"
      ]
     },
     "execution_count": 158,
     "metadata": {},
     "output_type": "execute_result"
    }
   ],
   "source": [
    "a - b"
   ]
  },
  {
   "cell_type": "code",
   "execution_count": 159,
   "id": "6e9d7820",
   "metadata": {},
   "outputs": [
    {
     "data": {
      "text/plain": [
       "5"
      ]
     },
     "execution_count": 159,
     "metadata": {},
     "output_type": "execute_result"
    }
   ],
   "source": [
    "a+b"
   ]
  },
  {
   "cell_type": "code",
   "execution_count": 160,
   "id": "3e3bfc1d",
   "metadata": {
    "scrolled": true
   },
   "outputs": [
    {
     "data": {
      "text/plain": [
       "6"
      ]
     },
     "execution_count": 160,
     "metadata": {},
     "output_type": "execute_result"
    }
   ],
   "source": [
    "# 곱셈\n",
    "a*b"
   ]
  },
  {
   "cell_type": "markdown",
   "id": "e23e47d4",
   "metadata": {},
   "source": [
    "### 나눗셈을 할 경우 데이터 타입이 정수에서 실수로 바뀐다."
   ]
  },
  {
   "cell_type": "code",
   "execution_count": 161,
   "id": "6c5ec944",
   "metadata": {},
   "outputs": [
    {
     "data": {
      "text/plain": [
       "0.6666666666666666"
      ]
     },
     "execution_count": 161,
     "metadata": {},
     "output_type": "execute_result"
    }
   ],
   "source": [
    "# 나눗셈 결과는 반드시 실수로 나온다.\n",
    "b/a"
   ]
  },
  {
   "cell_type": "code",
   "execution_count": 162,
   "id": "34dd77e4",
   "metadata": {},
   "outputs": [],
   "source": [
    "a = 5\n",
    "b = 2"
   ]
  },
  {
   "cell_type": "code",
   "execution_count": 163,
   "id": "3579698d",
   "metadata": {},
   "outputs": [
    {
     "name": "stdout",
     "output_type": "stream",
     "text": [
      "2.5\n",
      "1\n",
      "0\n"
     ]
    }
   ],
   "source": [
    "# 나머지 연산자 % 나눈후 나머지만 출력\n",
    "# 홀수 짝수 구분시 주로 사용 % 2 == 0 짝수 %2 == 1 홀수\n",
    "# 배수를 구할 때 사용 %2 == 0 3의 배수, % 7 == 0 7의 배수\n",
    "print(a/b)\n",
    "print(a%b)\n",
    "print(6%2)"
   ]
  },
  {
   "cell_type": "code",
   "execution_count": 164,
   "id": "69e2f650",
   "metadata": {},
   "outputs": [
    {
     "name": "stdout",
     "output_type": "stream",
     "text": [
      "2.5\n",
      "2\n"
     ]
    }
   ],
   "source": [
    "# // 나눗셈 후 몫만 출력\n",
    "print(5/2)\n",
    "print(5//2)"
   ]
  },
  {
   "cell_type": "code",
   "execution_count": 165,
   "id": "c0715716",
   "metadata": {},
   "outputs": [
    {
     "name": "stdout",
     "output_type": "stream",
     "text": [
      "128\n"
     ]
    }
   ],
   "source": [
    "# ** 제곱\n",
    "print(2 ** 7)"
   ]
  },
  {
   "cell_type": "markdown",
   "id": "b8932c4f",
   "metadata": {},
   "source": [
    "## 할당 연산자\n",
    "* =,+=,-=,/=,%="
   ]
  },
  {
   "cell_type": "code",
   "execution_count": 166,
   "id": "164da246",
   "metadata": {},
   "outputs": [
    {
     "data": {
      "text/plain": [
       "10"
      ]
     },
     "execution_count": 166,
     "metadata": {},
     "output_type": "execute_result"
    }
   ],
   "source": [
    "# = : 오른쪽에 있는 자룔르 왼쪽 변수에 집어 넣는 할당 연산자\n",
    "a = 10\n",
    "a"
   ]
  },
  {
   "cell_type": "code",
   "execution_count": 167,
   "id": "643157ce",
   "metadata": {},
   "outputs": [
    {
     "data": {
      "text/plain": [
       "12"
      ]
     },
     "execution_count": 167,
     "metadata": {},
     "output_type": "execute_result"
    }
   ],
   "source": [
    "# b = b + 10  => b+= 10\n",
    "b += 10\n",
    "b"
   ]
  },
  {
   "cell_type": "code",
   "execution_count": 168,
   "id": "b3957ea4",
   "metadata": {},
   "outputs": [
    {
     "data": {
      "text/plain": [
       "10"
      ]
     },
     "execution_count": 168,
     "metadata": {},
     "output_type": "execute_result"
    }
   ],
   "source": [
    "# b = b - 2  => b-= 2\n",
    "b -= 2\n",
    "b"
   ]
  },
  {
   "cell_type": "code",
   "execution_count": 169,
   "id": "0d5e0539",
   "metadata": {},
   "outputs": [
    {
     "data": {
      "text/plain": [
       "30"
      ]
     },
     "execution_count": 169,
     "metadata": {},
     "output_type": "execute_result"
    }
   ],
   "source": [
    "# b = b* 3 => b *= 3\n",
    "b *= 3\n",
    "b"
   ]
  },
  {
   "cell_type": "code",
   "execution_count": 170,
   "id": "12a49eb2",
   "metadata": {},
   "outputs": [],
   "source": [
    "# b = b/5 => b/= 5\n",
    "b/= 5"
   ]
  },
  {
   "cell_type": "code",
   "execution_count": 171,
   "id": "d8319d8e",
   "metadata": {},
   "outputs": [
    {
     "data": {
      "text/plain": [
       "6.0"
      ]
     },
     "execution_count": 171,
     "metadata": {},
     "output_type": "execute_result"
    }
   ],
   "source": [
    "b"
   ]
  },
  {
   "cell_type": "code",
   "execution_count": 172,
   "id": "7f049ffd",
   "metadata": {},
   "outputs": [],
   "source": [
    "# b = b % 2 => b %= 2\n",
    "b %= 2"
   ]
  },
  {
   "cell_type": "code",
   "execution_count": 173,
   "id": "dbe79476",
   "metadata": {},
   "outputs": [
    {
     "data": {
      "text/plain": [
       "0.0"
      ]
     },
     "execution_count": 173,
     "metadata": {},
     "output_type": "execute_result"
    }
   ],
   "source": [
    "b"
   ]
  },
  {
   "cell_type": "markdown",
   "id": "4f092f48",
   "metadata": {},
   "source": [
    "# 비교연산자\n",
    "* 같다 ==\n",
    "* 다르다 !=\n",
    "* 초과 > \n",
    "* 이상 >=\n",
    "* 미만 <\n",
    "* 이하 <="
   ]
  },
  {
   "cell_type": "code",
   "execution_count": 174,
   "id": "7a212254",
   "metadata": {},
   "outputs": [],
   "source": [
    "a = 3\n",
    "b = 3.0\n",
    "c = 5\n",
    "d = \"Python\"\n",
    "e = 'python'\n",
    "f = True\n",
    "g = False"
   ]
  },
  {
   "cell_type": "markdown",
   "id": "58a08c7a",
   "metadata": {},
   "source": [
    "* == 같으면 True 다르면 False"
   ]
  },
  {
   "cell_type": "code",
   "execution_count": 175,
   "id": "1b17a251",
   "metadata": {},
   "outputs": [
    {
     "data": {
      "text/plain": [
       "True"
      ]
     },
     "execution_count": 175,
     "metadata": {},
     "output_type": "execute_result"
    }
   ],
   "source": [
    "a == b"
   ]
  },
  {
   "cell_type": "code",
   "execution_count": 176,
   "id": "0a8bdd2a",
   "metadata": {},
   "outputs": [
    {
     "data": {
      "text/plain": [
       "False"
      ]
     },
     "execution_count": 176,
     "metadata": {},
     "output_type": "execute_result"
    }
   ],
   "source": [
    "a == c"
   ]
  },
  {
   "cell_type": "code",
   "execution_count": 177,
   "id": "8a235874",
   "metadata": {},
   "outputs": [
    {
     "data": {
      "text/plain": [
       "False"
      ]
     },
     "execution_count": 177,
     "metadata": {},
     "output_type": "execute_result"
    }
   ],
   "source": [
    "# 대문자랑 소문자는 아스키 코드 값이 다르기 떄문에 같은 단어여도 대소문자가 다르면 False가 뜬다.\n",
    "d == e"
   ]
  },
  {
   "cell_type": "markdown",
   "id": "15f1b2ac",
   "metadata": {},
   "source": [
    "* != 같으면 Flase, 다르면 True"
   ]
  },
  {
   "cell_type": "code",
   "execution_count": 179,
   "id": "ce5755ac",
   "metadata": {},
   "outputs": [
    {
     "data": {
      "text/plain": [
       "False"
      ]
     },
     "execution_count": 179,
     "metadata": {},
     "output_type": "execute_result"
    }
   ],
   "source": [
    "a != b"
   ]
  },
  {
   "cell_type": "code",
   "execution_count": 180,
   "id": "39708aa4",
   "metadata": {},
   "outputs": [
    {
     "data": {
      "text/plain": [
       "True"
      ]
     },
     "execution_count": 180,
     "metadata": {},
     "output_type": "execute_result"
    }
   ],
   "source": [
    "f != g"
   ]
  },
  {
   "cell_type": "markdown",
   "id": "b84d9444",
   "metadata": {},
   "source": [
    "* \\> 왼쪽값을 오른쪽 값과 비교해서 크면 True(초과) \n",
    "* \\< 왼쪽값을 오른쪽 값과 비교해서 작으면 True(미만)\n",
    "* \\>= 왼쪽값을 오른쪽 값과 비교해서 크거나 같으면 True(이상) \n",
    "* \\<= 왼쪽값을 오른쪽 값과 비교해서 작거나 같으면 True(이하)"
   ]
  },
  {
   "cell_type": "code",
   "execution_count": 181,
   "id": "358fc06c",
   "metadata": {},
   "outputs": [
    {
     "data": {
      "text/plain": [
       "True"
      ]
     },
     "execution_count": 181,
     "metadata": {},
     "output_type": "execute_result"
    }
   ],
   "source": [
    "5 >= 3"
   ]
  },
  {
   "cell_type": "code",
   "execution_count": 182,
   "id": "7bd27270",
   "metadata": {},
   "outputs": [
    {
     "data": {
      "text/plain": [
       "True"
      ]
     },
     "execution_count": 182,
     "metadata": {},
     "output_type": "execute_result"
    }
   ],
   "source": [
    "5 > 3"
   ]
  },
  {
   "cell_type": "code",
   "execution_count": 183,
   "id": "7e073b43",
   "metadata": {},
   "outputs": [
    {
     "data": {
      "text/plain": [
       "False"
      ]
     },
     "execution_count": 183,
     "metadata": {},
     "output_type": "execute_result"
    }
   ],
   "source": [
    "5 < 3"
   ]
  },
  {
   "cell_type": "code",
   "execution_count": 184,
   "id": "86263303",
   "metadata": {},
   "outputs": [
    {
     "data": {
      "text/plain": [
       "False"
      ]
     },
     "execution_count": 184,
     "metadata": {},
     "output_type": "execute_result"
    }
   ],
   "source": [
    "5 < 5"
   ]
  },
  {
   "cell_type": "code",
   "execution_count": 185,
   "id": "34a4c02c",
   "metadata": {},
   "outputs": [
    {
     "data": {
      "text/plain": [
       "False"
      ]
     },
     "execution_count": 185,
     "metadata": {},
     "output_type": "execute_result"
    }
   ],
   "source": [
    "5 > 5"
   ]
  },
  {
   "cell_type": "markdown",
   "id": "da740434",
   "metadata": {},
   "source": [
    "# 논리 연산자\n",
    "+ and, or , not"
   ]
  },
  {
   "cell_type": "markdown",
   "id": "01c6ebae",
   "metadata": {},
   "source": [
    "* and: 왼쪽과 오른쪽 값 모두 True일 때,True, 하나라도 False 이면 False"
   ]
  },
  {
   "cell_type": "code",
   "execution_count": 186,
   "id": "15083c58",
   "metadata": {},
   "outputs": [
    {
     "data": {
      "text/plain": [
       "True"
      ]
     },
     "execution_count": 186,
     "metadata": {},
     "output_type": "execute_result"
    }
   ],
   "source": [
    "# True and True\n",
    "3 == 3 and 5 > 3"
   ]
  },
  {
   "cell_type": "code",
   "execution_count": 188,
   "id": "d24f28fc",
   "metadata": {},
   "outputs": [
    {
     "data": {
      "text/plain": [
       "False"
      ]
     },
     "execution_count": 188,
     "metadata": {},
     "output_type": "execute_result"
    }
   ],
   "source": [
    "# True and False\n",
    "3 == 3 and 5 < 3"
   ]
  },
  {
   "cell_type": "code",
   "execution_count": 190,
   "id": "fb011a82",
   "metadata": {},
   "outputs": [
    {
     "data": {
      "text/plain": [
       "False"
      ]
     },
     "execution_count": 190,
     "metadata": {},
     "output_type": "execute_result"
    }
   ],
   "source": [
    "# False and True\n",
    "3 < 3 and 5 > 3"
   ]
  },
  {
   "cell_type": "code",
   "execution_count": 191,
   "id": "1ac208da",
   "metadata": {},
   "outputs": [
    {
     "data": {
      "text/plain": [
       "False"
      ]
     },
     "execution_count": 191,
     "metadata": {},
     "output_type": "execute_result"
    }
   ],
   "source": [
    "# False and False\n",
    "3 < 3 and 5 < 3"
   ]
  },
  {
   "cell_type": "markdown",
   "id": "85e3d147",
   "metadata": {},
   "source": [
    "* or 왼쪽이나 오른쪽 중에 하나라도 True 면 True ,둘다 False 일 때 만 False"
   ]
  },
  {
   "cell_type": "code",
   "execution_count": 194,
   "id": "b616370c",
   "metadata": {},
   "outputs": [
    {
     "data": {
      "text/plain": [
       "True"
      ]
     },
     "execution_count": 194,
     "metadata": {},
     "output_type": "execute_result"
    }
   ],
   "source": [
    "# True or True\n",
    "3 == 3 or 5 > 3"
   ]
  },
  {
   "cell_type": "code",
   "execution_count": 195,
   "id": "fac47927",
   "metadata": {},
   "outputs": [
    {
     "data": {
      "text/plain": [
       "True"
      ]
     },
     "execution_count": 195,
     "metadata": {},
     "output_type": "execute_result"
    }
   ],
   "source": [
    "# False or True\n",
    "3 > 3 or 5 > 3"
   ]
  },
  {
   "cell_type": "code",
   "execution_count": 197,
   "id": "d55840cd",
   "metadata": {},
   "outputs": [
    {
     "data": {
      "text/plain": [
       "True"
      ]
     },
     "execution_count": 197,
     "metadata": {},
     "output_type": "execute_result"
    }
   ],
   "source": [
    "# True or False\n",
    "3 == 3 or 5 < 3"
   ]
  },
  {
   "cell_type": "code",
   "execution_count": 198,
   "id": "6ee7280a",
   "metadata": {},
   "outputs": [
    {
     "data": {
      "text/plain": [
       "False"
      ]
     },
     "execution_count": 198,
     "metadata": {},
     "output_type": "execute_result"
    }
   ],
   "source": [
    "# False or False\n",
    "3 > 3 or 5 < 3"
   ]
  },
  {
   "cell_type": "markdown",
   "id": "37bae75d",
   "metadata": {},
   "source": [
    "* not 값을 반대로 뒤집음 True => False, Flase => True"
   ]
  },
  {
   "cell_type": "code",
   "execution_count": 199,
   "id": "a6e9c904",
   "metadata": {},
   "outputs": [
    {
     "data": {
      "text/plain": [
       "False"
      ]
     },
     "execution_count": 199,
     "metadata": {},
     "output_type": "execute_result"
    }
   ],
   "source": [
    "not True"
   ]
  },
  {
   "cell_type": "code",
   "execution_count": 200,
   "id": "3b8b7785",
   "metadata": {},
   "outputs": [
    {
     "data": {
      "text/plain": [
       "True"
      ]
     },
     "execution_count": 200,
     "metadata": {},
     "output_type": "execute_result"
    }
   ],
   "source": [
    "not False"
   ]
  },
  {
   "cell_type": "code",
   "execution_count": 202,
   "id": "0ebeb5de",
   "metadata": {},
   "outputs": [
    {
     "data": {
      "text/plain": [
       "True"
      ]
     },
     "execution_count": 202,
     "metadata": {},
     "output_type": "execute_result"
    }
   ],
   "source": [
    "not 3 > 3 and not 5 < 3"
   ]
  },
  {
   "cell_type": "markdown",
   "id": "55975836",
   "metadata": {},
   "source": [
    "* not, and , or의 순위\n",
    "* not > and > or "
   ]
  },
  {
   "cell_type": "code",
   "execution_count": 203,
   "id": "d5c6964a",
   "metadata": {},
   "outputs": [
    {
     "data": {
      "text/plain": [
       "True"
      ]
     },
     "execution_count": 203,
     "metadata": {},
     "output_type": "execute_result"
    }
   ],
   "source": [
    "not True and False or not False"
   ]
  },
  {
   "cell_type": "code",
   "execution_count": 205,
   "id": "74ca419a",
   "metadata": {},
   "outputs": [
    {
     "data": {
      "text/plain": [
       "True"
      ]
     },
     "execution_count": 205,
     "metadata": {},
     "output_type": "execute_result"
    }
   ],
   "source": [
    "True and True\n",
    "10 == 10 and 10 != 5"
   ]
  },
  {
   "cell_type": "markdown",
   "id": "fc14b56c",
   "metadata": {},
   "source": [
    "# 식별연산자\n",
    "* is, is not(data type까지 같은지 비교)"
   ]
  },
  {
   "cell_type": "code",
   "execution_count": 207,
   "id": "5f628591",
   "metadata": {},
   "outputs": [
    {
     "name": "stdout",
     "output_type": "stream",
     "text": [
      "3\n",
      "3.0\n",
      "5\n"
     ]
    }
   ],
   "source": [
    "print(a)\n",
    "print(b)\n",
    "print(c)"
   ]
  },
  {
   "cell_type": "code",
   "execution_count": 209,
   "id": "808d303d",
   "metadata": {},
   "outputs": [
    {
     "name": "stdout",
     "output_type": "stream",
     "text": [
      "True\n",
      "False\n"
     ]
    }
   ],
   "source": [
    "# == 는 값만 같으면 ,True 처리, is는 값이 같아도 데이터 타입이 다르면 False\n",
    "print(a == b)\n",
    "print(a is b)"
   ]
  },
  {
   "cell_type": "code",
   "execution_count": 210,
   "id": "1c3bc1cb",
   "metadata": {},
   "outputs": [],
   "source": [
    "d = 3"
   ]
  },
  {
   "cell_type": "code",
   "execution_count": 212,
   "id": "35ff1940",
   "metadata": {},
   "outputs": [
    {
     "name": "stdout",
     "output_type": "stream",
     "text": [
      "True\n"
     ]
    }
   ],
   "source": [
    "# a와 d 모두 int 3이기 때문에 True\n",
    "print(a is d)"
   ]
  },
  {
   "cell_type": "code",
   "execution_count": 214,
   "id": "590331b8",
   "metadata": {},
   "outputs": [
    {
     "name": "stdout",
     "output_type": "stream",
     "text": [
      "True\n"
     ]
    }
   ],
   "source": [
    "# is not은 둘이 다르면 True\n",
    "print(a is not b)"
   ]
  },
  {
   "cell_type": "markdown",
   "id": "e289938b",
   "metadata": {},
   "source": [
    "* 맴버 연산자\n",
    "* in, not in\n",
    "* list나 Tuple,dict 안에 원하는 값이 있는지 찾을 때 사용"
   ]
  },
  {
   "cell_type": "code",
   "execution_count": 215,
   "id": "4894d5dd",
   "metadata": {},
   "outputs": [],
   "source": [
    "mem = [1,2,3,4,5,\"육\"]"
   ]
  },
  {
   "cell_type": "code",
   "execution_count": 216,
   "id": "4ce936b0",
   "metadata": {},
   "outputs": [
    {
     "data": {
      "text/plain": [
       "True"
      ]
     },
     "execution_count": 216,
     "metadata": {},
     "output_type": "execute_result"
    }
   ],
   "source": [
    "3 in mem"
   ]
  },
  {
   "cell_type": "code",
   "execution_count": 217,
   "id": "97fa9afb",
   "metadata": {},
   "outputs": [
    {
     "data": {
      "text/plain": [
       "False"
      ]
     },
     "execution_count": 217,
     "metadata": {},
     "output_type": "execute_result"
    }
   ],
   "source": [
    "6 in mem"
   ]
  },
  {
   "cell_type": "code",
   "execution_count": 218,
   "id": "1efde556",
   "metadata": {},
   "outputs": [
    {
     "data": {
      "text/plain": [
       "True"
      ]
     },
     "execution_count": 218,
     "metadata": {},
     "output_type": "execute_result"
    }
   ],
   "source": [
    "6 not in mem"
   ]
  },
  {
   "cell_type": "code",
   "execution_count": 220,
   "id": "7ae88be0",
   "metadata": {},
   "outputs": [
    {
     "data": {
      "text/plain": [
       "False"
      ]
     },
     "execution_count": 220,
     "metadata": {},
     "output_type": "execute_result"
    }
   ],
   "source": [
    "3 not in mem"
   ]
  },
  {
   "cell_type": "markdown",
   "id": "df9989b7",
   "metadata": {},
   "source": [
    "# 문자열 함수  .replace(\"찾을값\", \"바꿀값\")"
   ]
  },
  {
   "cell_type": "code",
   "execution_count": 221,
   "id": "2a47b174",
   "metadata": {},
   "outputs": [
    {
     "data": {
      "text/plain": [
       "'010-1111-2222'"
      ]
     },
     "execution_count": 221,
     "metadata": {},
     "output_type": "execute_result"
    }
   ],
   "source": [
    "c = \"010-1111-2222\"\n",
    "c"
   ]
  },
  {
   "cell_type": "code",
   "execution_count": 223,
   "id": "d160a22a",
   "metadata": {},
   "outputs": [
    {
     "data": {
      "text/plain": [
       "'010.1111.2222'"
      ]
     },
     "execution_count": 223,
     "metadata": {},
     "output_type": "execute_result"
    }
   ],
   "source": [
    "c.replace(\"-\",\".\")"
   ]
  },
  {
   "cell_type": "code",
   "execution_count": null,
   "id": "6636538e",
   "metadata": {},
   "outputs": [],
   "source": []
  }
 ],
 "metadata": {
  "kernelspec": {
   "display_name": "Python 3 (ipykernel)",
   "language": "python",
   "name": "python3"
  },
  "language_info": {
   "codemirror_mode": {
    "name": "ipython",
    "version": 3
   },
   "file_extension": ".py",
   "mimetype": "text/x-python",
   "name": "python",
   "nbconvert_exporter": "python",
   "pygments_lexer": "ipython3",
   "version": "3.9.23"
  }
 },
 "nbformat": 4,
 "nbformat_minor": 5
}
