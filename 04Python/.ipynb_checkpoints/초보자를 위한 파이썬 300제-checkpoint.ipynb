{
 "cells": [
  {
   "cell_type": "code",
   "execution_count": 1,
   "id": "efc85d2e",
   "metadata": {},
   "outputs": [
    {
     "name": "stdout",
     "output_type": "stream",
     "text": [
      "Hello Woerd\n"
     ]
    }
   ],
   "source": [
    "#1 화면에 Hello World 문자열을 출력하세요.\n",
    "print('Hello Woerd')"
   ]
  },
  {
   "cell_type": "code",
   "execution_count": 3,
   "id": "95c78fa1",
   "metadata": {},
   "outputs": [
    {
     "name": "stdout",
     "output_type": "stream",
     "text": [
      "Mary's cometics\n"
     ]
    }
   ],
   "source": [
    "#2 화면에 Mary's cosmetics을 출력하세요. (중간에 '가 있음에 주의하세요)\n",
    "print(\"Mary's cometics\")"
   ]
  },
  {
   "cell_type": "code",
   "execution_count": 5,
   "id": "e9a8c2c1",
   "metadata": {},
   "outputs": [
    {
     "name": "stdout",
     "output_type": "stream",
     "text": [
      "신씨가 소리지렀다.\"도둑이야\".\n"
     ]
    }
   ],
   "source": [
    "#3 화면에 아래 문장을 출력하세요. (중간에 \"가 있음에 주의하세요.)\n",
    "print('신씨가 소리지렀다.\"도둑이야\".')"
   ]
  },
  {
   "cell_type": "code",
   "execution_count": 9,
   "id": "18d2dd81",
   "metadata": {
    "scrolled": true
   },
   "outputs": [
    {
     "name": "stdout",
     "output_type": "stream",
     "text": [
      "C:\\Windows\n"
     ]
    }
   ],
   "source": [
    "#4 화면에 C:\\Windows를 출력하세요.\n",
    "print('C:\\Windows')"
   ]
  },
  {
   "cell_type": "markdown",
   "id": "174ec70a",
   "metadata": {},
   "source": [
    "### 5 다음 코드를 실행해보고 \\t와 \\n의 역할을 설명해보세요\n",
    "\n",
    "### \\n은 줄바꿈을 의미하고 \\t는 tap을 의미한다."
   ]
  },
  {
   "cell_type": "code",
   "execution_count": 8,
   "id": "405a9072",
   "metadata": {},
   "outputs": [
    {
     "name": "stdout",
     "output_type": "stream",
     "text": [
      "\"오늘은\", \"일요일\"\n"
     ]
    }
   ],
   "source": [
    "#6 print 함수에 두 개의 단어를 입력한 예제입니다. 아래 코드의 출력 결과를 예상해봅시다.\n",
    "print('\"오늘은\", \"일요일\"')"
   ]
  },
  {
   "cell_type": "code",
   "execution_count": 7,
   "id": "c9ee9f41",
   "metadata": {},
   "outputs": [
    {
     "name": "stdout",
     "output_type": "stream",
     "text": [
      "naver;kakao;sk;samsung\n"
     ]
    }
   ],
   "source": [
    "#7 print() 함수를 사용하여 다음과 같이 출력하세요.\n",
    "print(\"naver\",'kakao','sk','samsung',sep=\";\")"
   ]
  },
  {
   "cell_type": "code",
   "execution_count": 1,
   "id": "d1407146",
   "metadata": {},
   "outputs": [
    {
     "name": "stdout",
     "output_type": "stream",
     "text": [
      "naver/kakao/sk/samsung\n"
     ]
    }
   ],
   "source": [
    "#8 print() 함수를 사용하여 다음과 같이 출력하세요.\n",
    "print(\"naver\",'kakao','sk','samsung',sep=\"/\")"
   ]
  },
  {
   "cell_type": "code",
   "execution_count": 6,
   "id": "8bd2d0c1",
   "metadata": {},
   "outputs": [
    {
     "name": "stdout",
     "output_type": "stream",
     "text": [
      "first secend\n"
     ]
    }
   ],
   "source": [
    "#9 다음 코드를 수정하여 줄바꿈이 없이 출력하세요. (힌트: end='') print 함수는 두 번 사용합니다. 세미콜론 (;)은 한줄에 여러 개의 명령을 작성하기 위해 사용합니다.\n",
    "print(\"first\",end=\" \");print(\"secend\")"
   ]
  },
  {
   "cell_type": "code",
   "execution_count": 8,
   "id": "ec847266",
   "metadata": {},
   "outputs": [
    {
     "data": {
      "text/plain": [
       "1.6666666666666667"
      ]
     },
     "execution_count": 8,
     "metadata": {},
     "output_type": "execute_result"
    }
   ],
   "source": [
    "#10 5/3의 결과를 화면에 출력하세요.\n",
    "5/3"
   ]
  },
  {
   "cell_type": "code",
   "execution_count": 9,
   "id": "f72bce65",
   "metadata": {},
   "outputs": [],
   "source": [
    "#11 삼성전자라는 변수로 50,000원을 바인딩해보세요. 삼성전자 주식 10주를 보유하고 있을 때 총 평가금액을 출력하세요.\n",
    "삼성전자 = 50000"
   ]
  },
  {
   "cell_type": "code",
   "execution_count": 13,
   "id": "f27d09f2",
   "metadata": {},
   "outputs": [
    {
     "name": "stdout",
     "output_type": "stream",
     "text": [
      "500000\n"
     ]
    }
   ],
   "source": [
    "총평가금액 = 삼성전자*10\n",
    "print(총평가금액)"
   ]
  },
  {
   "cell_type": "code",
   "execution_count": 19,
   "id": "e9b02d79",
   "metadata": {},
   "outputs": [
    {
     "name": "stdout",
     "output_type": "stream",
     "text": [
      "2980000000000000 <class 'int'>\n",
      "500000 <class 'int'>\n",
      "15.79 <class 'float'>\n"
     ]
    }
   ],
   "source": [
    "#12 다음 표는 삼성전자의 일부 투자정보입니다. 변수를 사용해서 시가총액, 현재가, PER 등을 바인딩해보세요.\n",
    "시가총액 = 2980000000000000\n",
    "현재가 = 500000\n",
    "PER = 15.79\n",
    "print(시가총액,type(시가총액))\n",
    "print(현재가,type(현재가))\n",
    "print(PER,type(PER))"
   ]
  },
  {
   "cell_type": "code",
   "execution_count": 20,
   "id": "3f630294",
   "metadata": {},
   "outputs": [],
   "source": [
    "# 13 변수 s와 t에는 각각 문자열이 바인딩 되어있습니다.\n",
    "s = 'hello'\n",
    "t = 'python'"
   ]
  },
  {
   "cell_type": "code",
   "execution_count": 22,
   "id": "25fc8287",
   "metadata": {},
   "outputs": [
    {
     "name": "stdout",
     "output_type": "stream",
     "text": [
      "hello! python\n"
     ]
    }
   ],
   "source": [
    "print(s+\"! \"+t)"
   ]
  },
  {
   "cell_type": "code",
   "execution_count": 23,
   "id": "94ae2ecd",
   "metadata": {},
   "outputs": [
    {
     "name": "stdout",
     "output_type": "stream",
     "text": [
      "8\n"
     ]
    }
   ],
   "source": [
    "#14 아래 코드의 실행 결과를 예상해보세요.\n",
    "print(2+2*3)"
   ]
  },
  {
   "cell_type": "code",
   "execution_count": 24,
   "id": "c4912d3c",
   "metadata": {},
   "outputs": [
    {
     "name": "stdout",
     "output_type": "stream",
     "text": [
      "<class 'str'>\n"
     ]
    }
   ],
   "source": [
    "#15 type() 함수는 데이터 타입을 판별합니다. 변수 a에는 128 숫자가 바인딩돼 있어 type 함수가 int (정수)형임을 알려줍니다.\n",
    "a = \"132\"\n",
    "print(type(a))"
   ]
  },
  {
   "cell_type": "code",
   "execution_count": 26,
   "id": "f0da3501",
   "metadata": {},
   "outputs": [],
   "source": [
    "#16 문자열 '720'를 정수형으로 변환해보세요.\n",
    "num_str = \"720\""
   ]
  },
  {
   "cell_type": "code",
   "execution_count": 27,
   "id": "2c9bd1a4",
   "metadata": {},
   "outputs": [
    {
     "name": "stdout",
     "output_type": "stream",
     "text": [
      "720 <class 'int'>\n"
     ]
    }
   ],
   "source": [
    "print(int(num_str),type(int(num_str)))"
   ]
  },
  {
   "cell_type": "code",
   "execution_count": 28,
   "id": "096806fb",
   "metadata": {},
   "outputs": [
    {
     "name": "stdout",
     "output_type": "stream",
     "text": [
      "100 <class 'str'>\n"
     ]
    }
   ],
   "source": [
    "#17 정수 100을 문자열 '100'으로 변환해보세요.\n",
    "print(str(100),type(str(100)))"
   ]
  },
  {
   "cell_type": "code",
   "execution_count": 30,
   "id": "cb5110d2",
   "metadata": {},
   "outputs": [
    {
     "name": "stdout",
     "output_type": "stream",
     "text": [
      "15 <class 'int'>\n"
     ]
    }
   ],
   "source": [
    "#18 문자열 \"15.79\"를 실수(float) 타입으로 변환해보세요.\n",
    "print(int(15.79),type(int(15.79)))"
   ]
  },
  {
   "cell_type": "code",
   "execution_count": 31,
   "id": "a0c6b062",
   "metadata": {},
   "outputs": [
    {
     "name": "stdout",
     "output_type": "stream",
     "text": [
      "2020 <class 'int'>\n"
     ]
    }
   ],
   "source": [
    "#19 year라는 변수가 문자열 타입의 연도를 바인딩하고 있습니다. 이를 정수로 변환한 후 최근 3년의 연도를 화면에 출력해보세요.\n",
    "year = \"2020\"\n",
    "print(int(year),type(int(year)))"
   ]
  },
  {
   "cell_type": "code",
   "execution_count": 36,
   "id": "0570745d",
   "metadata": {},
   "outputs": [
    {
     "name": "stdout",
     "output_type": "stream",
     "text": [
      "2017\n",
      "2018\n",
      "2019\n"
     ]
    }
   ],
   "source": [
    "print(int(year)-3)\n",
    "print(int(year)-2)\n",
    "print(int(year)-1)"
   ]
  },
  {
   "cell_type": "code",
   "execution_count": 38,
   "id": "99a4ca1c",
   "metadata": {},
   "outputs": [
    {
     "name": "stdout",
     "output_type": "stream",
     "text": [
      "1749024\n"
     ]
    }
   ],
   "source": [
    "# 20 에이컨이 월 48,584원에 무이자 36개월의 조건으로 홈쇼핑에서 판매되고 있습니다. 총 금액은 계산한 후 이를 화면에 출력해보세요. (변수사용하기)\n",
    "wol = 48584\n",
    "print(wol*36)"
   ]
  },
  {
   "cell_type": "code",
   "execution_count": 43,
   "id": "850ec78e",
   "metadata": {},
   "outputs": [
    {
     "name": "stdout",
     "output_type": "stream",
     "text": [
      "p t\n"
     ]
    }
   ],
   "source": [
    "#21 letters가 바인딩하는 문자열에서 첫번째와 세번째 문자를 출력하세요.\n",
    "letters = 'python'\n",
    "print(letters[0],letters[2])"
   ]
  },
  {
   "cell_type": "code",
   "execution_count": 44,
   "id": "add84062",
   "metadata": {},
   "outputs": [
    {
     "name": "stdout",
     "output_type": "stream",
     "text": [
      "2210\n"
     ]
    }
   ],
   "source": [
    "#22 자동차 번호가 다음과 같을 때 뒤에 4자리만 출력하세요.\n",
    "license_plate='24가 2210'\n",
    "print(license_plate[4:])"
   ]
  },
  {
   "cell_type": "code",
   "execution_count": 47,
   "id": "90d9cbd7",
   "metadata": {},
   "outputs": [
    {
     "name": "stdout",
     "output_type": "stream",
     "text": [
      "홀홀홀\n"
     ]
    }
   ],
   "source": [
    "#23 아래의 문자열에서 '홀' 만 출력하세요.\n",
    "string='홀짝홀짝홀짝'\n",
    "print(string[::2])"
   ]
  },
  {
   "cell_type": "code",
   "execution_count": 51,
   "id": "90a595fc",
   "metadata": {},
   "outputs": [
    {
     "name": "stdout",
     "output_type": "stream",
     "text": [
      "NOHTYP\n"
     ]
    }
   ],
   "source": [
    "#24 문자열을 거꾸로 뒤집어 출력하세요.\n",
    "string = 'PYTHON'\n",
    "print(string[::-1])"
   ]
  },
  {
   "cell_type": "code",
   "execution_count": 61,
   "id": "796ac91d",
   "metadata": {},
   "outputs": [
    {
     "name": "stdout",
     "output_type": "stream",
     "text": [
      "010 1111 2222\n"
     ]
    }
   ],
   "source": [
    "#25 아래의 전화번호에서 하이푼 ('-')을 제거하고 출력하세요.\n",
    "phone_number = \"010-1111-2222\"\n",
    "phone_number1 = phone_number.replace(\"-\", \" \")\n",
    "print(phone_number1)"
   ]
  },
  {
   "cell_type": "code",
   "execution_count": 65,
   "id": "b9cc91e7",
   "metadata": {},
   "outputs": [
    {
     "name": "stdout",
     "output_type": "stream",
     "text": [
      "01011112222\n"
     ]
    }
   ],
   "source": [
    "#26 25번 문제의 전화번호를 아래와 같이 모두 붙여 출력하세요.\n",
    "phone_number1 = phone_number.replace(\"-\", \"\")\n",
    "print(phone_number1)"
   ]
  },
  {
   "cell_type": "code",
   "execution_count": 67,
   "id": "b9a1d6fe",
   "metadata": {},
   "outputs": [
    {
     "name": "stdout",
     "output_type": "stream",
     "text": [
      "kr\n"
     ]
    }
   ],
   "source": [
    "#27 url 에 저장된 웹 페이지 주소에서 도메인을 출력하세요.\n",
    "url = \"http://sharebook.kr\"\n",
    "print(url[17:])"
   ]
  },
  {
   "cell_type": "code",
   "execution_count": 70,
   "id": "65c8389e",
   "metadata": {},
   "outputs": [
    {
     "ename": "TypeError",
     "evalue": "'str' object does not support item assignment",
     "output_type": "error",
     "traceback": [
      "\u001b[1;31m---------------------------------------------------------------------------\u001b[0m",
      "\u001b[1;31mTypeError\u001b[0m                                 Traceback (most recent call last)",
      "Cell \u001b[1;32mIn[70], line 3\u001b[0m\n\u001b[0;32m      1\u001b[0m \u001b[38;5;66;03m#28\u001b[39;00m\n\u001b[0;32m      2\u001b[0m lang \u001b[38;5;241m=\u001b[39m \u001b[38;5;124m'\u001b[39m\u001b[38;5;124mpython\u001b[39m\u001b[38;5;124m'\u001b[39m\n\u001b[1;32m----> 3\u001b[0m \u001b[43mlang\u001b[49m\u001b[43m[\u001b[49m\u001b[38;5;241;43m0\u001b[39;49m\u001b[43m]\u001b[49m \u001b[38;5;241m=\u001b[39m \u001b[38;5;124m'\u001b[39m\u001b[38;5;124mP\u001b[39m\u001b[38;5;124m'\u001b[39m\n\u001b[0;32m      4\u001b[0m \u001b[38;5;28mprint\u001b[39m(lang)\n",
      "\u001b[1;31mTypeError\u001b[0m: 'str' object does not support item assignment"
     ]
    }
   ],
   "source": [
    "#28 아래 코드의 실행 결과를 예상해보세요.\n",
    "lang = 'python'\n",
    "lang[0] = 'P'\n",
    "print(lang)\n",
    "#문자열은 수정할 수 없습니다. 실행 결과를 확인해보면 문자열이 할당(assignment) 메서드를 지원하지 않음을 알 수 있습니다."
   ]
  },
  {
   "cell_type": "code",
   "execution_count": 71,
   "id": "38d0c5a4",
   "metadata": {},
   "outputs": [
    {
     "data": {
      "text/plain": [
       "'Abcdfe2A354A32A'"
      ]
     },
     "execution_count": 71,
     "metadata": {},
     "output_type": "execute_result"
    }
   ],
   "source": [
    "#29 아래 문자열에서 소문자 'a'를 대문자 'A'로 변경하세요.\n",
    "string = 'abcdfe2a354a32a'\n",
    "string.replace('a','A')"
   ]
  },
  {
   "cell_type": "code",
   "execution_count": 72,
   "id": "4f83b2de",
   "metadata": {},
   "outputs": [
    {
     "name": "stdout",
     "output_type": "stream",
     "text": [
      "abcd\n"
     ]
    }
   ],
   "source": [
    "#30 아래 코드의 실행 결과를 예상해보세요.\n",
    "string = 'abcd'\n",
    "string.replace('b','B')\n",
    "print(string)\n",
    "# 문자열은 변경할 수 없는 자료형이기 떄문에 그대로 출력된다."
   ]
  },
  {
   "cell_type": "code",
   "execution_count": 74,
   "id": "34721635",
   "metadata": {},
   "outputs": [
    {
     "name": "stdout",
     "output_type": "stream",
     "text": [
      "34\n"
     ]
    }
   ],
   "source": [
    "#31 아레코드를  예상해보세요\n",
    "a = \"3\"\n",
    "b = \"4\"\n",
    "print(a + b)\n",
    "# 문자열 을 더한 값인 34가 출력된다."
   ]
  },
  {
   "cell_type": "code",
   "execution_count": 75,
   "id": "bc478d55",
   "metadata": {},
   "outputs": [
    {
     "name": "stdout",
     "output_type": "stream",
     "text": [
      "HiHiHi\n"
     ]
    }
   ],
   "source": [
    "#32 아레코드를  예상해보세요\n",
    "print(\"Hi\" * 3)\n",
    "\n",
    "#HiHIii"
   ]
  },
  {
   "cell_type": "code",
   "execution_count": 78,
   "id": "6a117a1b",
   "metadata": {},
   "outputs": [
    {
     "name": "stdout",
     "output_type": "stream",
     "text": [
      "--------------------------------------------------------------------------------\n"
     ]
    }
   ],
   "source": [
    "#33 화면에 '-'를 80개 출력하세요.\n",
    "print('-'*80)"
   ]
  },
  {
   "cell_type": "code",
   "execution_count": 92,
   "id": "c812dc9a",
   "metadata": {},
   "outputs": [
    {
     "name": "stdout",
     "output_type": "stream",
     "text": [
      "python java python java python java python java \n"
     ]
    }
   ],
   "source": [
    "#34 변수에 다음과 같은 문자열이 바인딩되어 있습니다.\n",
    "t1 = 'python'\n",
    "t2 = 'java'\n",
    "t3 = t1 + ' '+ t2 + ' '\n",
    "print(t3*4)"
   ]
  },
  {
   "cell_type": "code",
   "execution_count": 95,
   "id": "b2e0eaf2",
   "metadata": {},
   "outputs": [
    {
     "name": "stdout",
     "output_type": "stream",
     "text": [
      "이름: 김민수,나이: 10\n",
      "이름: 이철희,나이: 13\n"
     ]
    }
   ],
   "source": [
    "#35 변수에 다음과 같이 문자열과 정수가 바인딩되어 있을 때 % formatting을 사용해서 다음과 같이 출력해보세요.\n",
    "name1 = \"김민수\" \n",
    "age1 = 10\n",
    "name2 = \"이철희\"\n",
    "age2 = 13\n",
    "print('이름: %s,나이: %d' % (name1,age1))\n",
    "print('이름: %s,나이: %d' % (name2,age2))"
   ]
  },
  {
   "cell_type": "code",
   "execution_count": 96,
   "id": "d4711128",
   "metadata": {},
   "outputs": [],
   "source": [
    "#36 문자열의 format( ) 메서드를 사용해서 035번 문제를 다시 풀어보세요.\n"
   ]
  },
  {
   "cell_type": "code",
   "execution_count": null,
   "id": "38fbdbc6",
   "metadata": {},
   "outputs": [],
   "source": [
    "#37 파이썬 3.6부터 지원하는 f-string을 사용해서 035번 문제를 다시 풀어보세요."
   ]
  },
  {
   "cell_type": "code",
   "execution_count": 105,
   "id": "42b5af32",
   "metadata": {},
   "outputs": [
    {
     "name": "stdout",
     "output_type": "stream",
     "text": [
      "5969782550\n"
     ]
    }
   ],
   "source": [
    "#38 삼성전자의 상장주식수가 다음과 같습니다. 컴마를 제거한 후 이를 정수 타입으로 변환해보세요.\n",
    "상장주식수 = \"5,969,782,550\"\n",
    "상장주식수.replace(',','')\n",
    "print(int(상장주식수.replace(',','')))"
   ]
  },
  {
   "cell_type": "code",
   "execution_count": 98,
   "id": "79ad72fd",
   "metadata": {},
   "outputs": [
    {
     "name": "stdout",
     "output_type": "stream",
     "text": [
      "2020/03\n"
     ]
    }
   ],
   "source": [
    "#39 다음과 같은 문자열에서 '2020/03'만 출력하세요.\n",
    "분기 = \"2020/03(E) (IFRS연결)\"\n",
    "print(분기[0:7])"
   ]
  },
  {
   "cell_type": "code",
   "execution_count": 102,
   "id": "14cb0394",
   "metadata": {},
   "outputs": [
    {
     "name": "stdout",
     "output_type": "stream",
     "text": [
      "삼성전자\n"
     ]
    }
   ],
   "source": [
    "#40 문자열의 좌우의 공백이 있을 때 이를 제거해보세요.\n",
    "data = \"   삼성전자    \"\n",
    "data1 = data.strip()\n",
    "print(data1)"
   ]
  },
  {
   "cell_type": "code",
   "execution_count": 106,
   "id": "c96a377c",
   "metadata": {},
   "outputs": [
    {
     "data": {
      "text/plain": [
       "'BTC_KRW'"
      ]
     },
     "execution_count": 106,
     "metadata": {},
     "output_type": "execute_result"
    }
   ],
   "source": [
    "#41 다음과 같은 문자열이 있을 때 이를 대문자 BTC_KRW로 변경하세요\n",
    "ticker = \"btc_krw\"\n",
    "ticker.upper()"
   ]
  },
  {
   "cell_type": "code",
   "execution_count": null,
   "id": "1b96e055",
   "metadata": {},
   "outputs": [],
   "source": []
  }
 ],
 "metadata": {
  "kernelspec": {
   "display_name": "Python 3 (ipykernel)",
   "language": "python",
   "name": "python3"
  },
  "language_info": {
   "codemirror_mode": {
    "name": "ipython",
    "version": 3
   },
   "file_extension": ".py",
   "mimetype": "text/x-python",
   "name": "python",
   "nbconvert_exporter": "python",
   "pygments_lexer": "ipython3",
   "version": "3.9.23"
  }
 },
 "nbformat": 4,
 "nbformat_minor": 5
}
