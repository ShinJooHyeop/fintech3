{
 "cells": [
  {
   "cell_type": "markdown",
   "id": "93630dce",
   "metadata": {},
   "source": [
    "# if else 조건문\n",
    "# 1.조건문이란? 특정 조건을 판별해서 작업을 분기시키는 문법\n",
    "if 조건식: <br>\n",
    "    조건식이 참일때 실행할 코드\n",
    "else:  <br>\n",
    "    조건식이 거짓일 때 실행할 코드"
   ]
  },
  {
   "cell_type": "code",
   "execution_count": 1,
   "id": "f95c0fcd",
   "metadata": {},
   "outputs": [],
   "source": [
    "x = 10"
   ]
  },
  {
   "cell_type": "code",
   "execution_count": 2,
   "id": "9c1e6732",
   "metadata": {},
   "outputs": [
    {
     "name": "stdout",
     "output_type": "stream",
     "text": [
      "10는, 10입니다.\n"
     ]
    }
   ],
   "source": [
    "if x == 10 and x %2 == 0:\n",
    "    print(f'{x}는, 10입니다.')\n",
    "else :\n",
    "    print(f'{x}는, 10이 아닙니다.')"
   ]
  },
  {
   "cell_type": "code",
   "execution_count": 3,
   "id": "e8ab3c15",
   "metadata": {},
   "outputs": [
    {
     "name": "stdout",
     "output_type": "stream",
     "text": [
      "10는 짝수이고 10입니다\n"
     ]
    }
   ],
   "source": [
    "if x == 10 :\n",
    "    if x %2 == 0:\n",
    "        print(f\"{x}는 짝수이고 10입니다\")\n",
    "    else :\n",
    "        print(f'{x}홀수이고, 10이 아닙니다.')          \n",
    "else :\n",
    "    if x % 3 == 0:\n",
    "        print(f\"{x}는 3의 배수입니다.\")\n",
    "    else:\n",
    "        print(f'{x}는 3의 배수가 아니고, 10도 아닙니다.')"
   ]
  },
  {
   "cell_type": "code",
   "execution_count": 4,
   "id": "f88a885b",
   "metadata": {},
   "outputs": [
    {
     "data": {
      "text/plain": [
       "['파이썬', '조건문', 10, 15.3, True, [1, 2, 3], (4, 5, 6), {'key': 365}]"
      ]
     },
     "execution_count": 4,
     "metadata": {},
     "output_type": "execute_result"
    }
   ],
   "source": [
    "l1 = ['파이썬','조건문',10,15.3,True,[1,2,3],(4,5,6),{\"key\":365}]\n",
    "l1"
   ]
  },
  {
   "cell_type": "code",
   "execution_count": 5,
   "id": "dae49eae",
   "metadata": {},
   "outputs": [
    {
     "data": {
      "text/plain": [
       "True"
      ]
     },
     "execution_count": 5,
     "metadata": {},
     "output_type": "execute_result"
    }
   ],
   "source": [
    "10 in l1"
   ]
  },
  {
   "cell_type": "code",
   "execution_count": 6,
   "id": "ca9e1772",
   "metadata": {},
   "outputs": [
    {
     "name": "stdout",
     "output_type": "stream",
     "text": [
      "l1안에 파이썬이 있습니다.\n"
     ]
    }
   ],
   "source": [
    "if '파이썬' in l1:\n",
    "    print(\"l1안에 파이썬이 있습니다.\")\n",
    "else:\n",
    "    print(\"l1안에 파이썬이 없습니다.\")"
   ]
  },
  {
   "cell_type": "markdown",
   "id": "1a4e3296",
   "metadata": {},
   "source": [
    "* 숫자를 입력받아서 홀수인지 짝수인지 판단하는 프로그램\n",
    "  * 숫자를 입력받는다. input()\n",
    "  * 조건문으로 홀수 짝수 판다 %2 == 0 짝수 1이면 홀수\n",
    "  * 입력한 숫자 {}는 짝수입니다./홀수입니다."
   ]
  },
  {
   "cell_type": "code",
   "execution_count": 7,
   "id": "8d8d466b",
   "metadata": {},
   "outputs": [
    {
     "name": "stdout",
     "output_type": "stream",
     "text": [
      "숫자를 입력하세요s\n",
      "<class 'str'>\n"
     ]
    },
    {
     "ename": "ValueError",
     "evalue": "invalid literal for int() with base 10: 's'",
     "output_type": "error",
     "traceback": [
      "\u001b[1;31m---------------------------------------------------------------------------\u001b[0m",
      "\u001b[1;31mValueError\u001b[0m                                Traceback (most recent call last)",
      "Cell \u001b[1;32mIn[7], line 4\u001b[0m\n\u001b[0;32m      2\u001b[0m x \u001b[38;5;241m=\u001b[39m \u001b[38;5;28minput\u001b[39m(\u001b[38;5;124m\"\u001b[39m\u001b[38;5;124m숫자를 입력하세요\u001b[39m\u001b[38;5;124m\"\u001b[39m)\n\u001b[0;32m      3\u001b[0m \u001b[38;5;28mprint\u001b[39m(\u001b[38;5;28mtype\u001b[39m(x))\n\u001b[1;32m----> 4\u001b[0m x \u001b[38;5;241m=\u001b[39m \u001b[38;5;28;43mint\u001b[39;49m\u001b[43m(\u001b[49m\u001b[43mx\u001b[49m\u001b[43m)\u001b[49m\n\u001b[0;32m      5\u001b[0m \u001b[38;5;28;01mif\u001b[39;00m x \u001b[38;5;241m%\u001b[39m\u001b[38;5;241m2\u001b[39m \u001b[38;5;241m==\u001b[39m \u001b[38;5;241m0\u001b[39m:\n\u001b[0;32m      6\u001b[0m     \u001b[38;5;28mprint\u001b[39m(\u001b[38;5;124mf\u001b[39m\u001b[38;5;124m\"\u001b[39m\u001b[38;5;132;01m{\u001b[39;00mx\u001b[38;5;132;01m}\u001b[39;00m\u001b[38;5;124m는 짝수입니다\u001b[39m\u001b[38;5;124m\"\u001b[39m)\n",
      "\u001b[1;31mValueError\u001b[0m: invalid literal for int() with base 10: 's'"
     ]
    }
   ],
   "source": [
    "# int로 바꾸어도 조건식에서 바꾸면 조건식 부분만 바뀌고 아래쪽은 문자로 입력된다.\n",
    "x = input(\"숫자를 입력하세요\")\n",
    "print(type(x))\n",
    "x = int(x)\n",
    "if x %2 == 0:\n",
    "    print(f\"{x}는 짝수입니다\")\n",
    "else:\n",
    "    print(f\"{x}는 홀수입니다\")"
   ]
  },
  {
   "cell_type": "markdown",
   "id": "eb8cfe6b",
   "metadata": {},
   "source": [
    "## 2.다중조건문 사용하기 elif\n",
    "if 조건식:<br>\n",
    "----조건이 참일 때 실핼할 코드<br>\n",
    "elif 조건식2<br>\n",
    "----조건식 2가 참일 때 실행할 코드<br>\n",
    "elif 조건식3<br>\n",
    "----조건식 3가 참일 때 실행할 코드<br>\n",
    "elif 조건식4<br>\n",
    "----조건식 4가 참일 때 실행할 코드<br>\n",
    "elif 조건식5<br>\n",
    "----조건식 5가 참일 때 실행할 코드<br>\n",
    "else:<br>\n",
    "----위의 모드 조건이 다 거짓일 때 실행할 코드"
   ]
  },
  {
   "cell_type": "markdown",
   "id": "123cff38",
   "metadata": {},
   "source": [
    "* 점수를 입력 받아서 81-100 a학점,61-80b학점 41-60 c학점 21-40 d학점 0-20 f학점"
   ]
  },
  {
   "cell_type": "code",
   "execution_count": null,
   "id": "4667e420",
   "metadata": {},
   "outputs": [],
   "source": [
    "score = int(input('점수를 입력하세요'))\n",
    "#print(type(score))\n",
    "if 81 <= score <= 100:\n",
    "    print(f\"{score}는 A학점입니다.\")\n",
    "elif 61 <= score <= 80:\n",
    "    print(f\"{score}는 B학점입니다.\")\n",
    "elif 41 <= score <= 60:\n",
    "    print(f\"{score}는 C학점입니다.\")\n",
    "elif 21 <= score <= 40:\n",
    "    print(f\"{score}는 D학점입니다.\")\n",
    "elif 0 <= score <= 20:\n",
    "    print(f\"{score}는 F학점입니다.\")    \n",
    "else:\n",
    "    print('0-100사이로 입력해주세요')"
   ]
  },
  {
   "cell_type": "markdown",
   "id": "3248344e",
   "metadata": {},
   "source": [
    "* 1-50 사이의 숫자를 입력받아서 3의 배수이면 3의 배수 입니다. 아니면 3의 배수가 아닙니다."
   ]
  },
  {
   "cell_type": "code",
   "execution_count": 14,
   "id": "0078fc10",
   "metadata": {},
   "outputs": [
    {
     "name": "stdout",
     "output_type": "stream",
     "text": [
      "정수로 1-50사이의 숫자를 입력하세요50\n",
      "50은 3의 배수가 아닙니다.\n"
     ]
    }
   ],
   "source": [
    "num = int(input(\"정수로 1-50사이의 숫자를 입력하세요\"))\n",
    "#print(type(num))\n",
    "if 0 <= num <= 50:\n",
    "    if num %3 == 0:\n",
    "        print(f\"{num}은 3의 배수입니다.\")\n",
    "    else:\n",
    "        print(f\"{num}은 3의 배수가 아닙니다.\")\n",
    "else :\n",
    "    print('다시입력하세요')"
   ]
  },
  {
   "cell_type": "markdown",
   "id": "60cffa8e",
   "metadata": {},
   "source": [
    "## 3. 조건 표현식\n",
    "* pyrhon에서 조건식을 1줄로 표기하는 방법\n",
    "* 다중 조건이 아닌 단순 조건을 처리할 때 사용\n",
    "* 참일 때 실행할 코드 if조건 else 거짓일 때 실행할 코드"
   ]
  },
  {
   "cell_type": "code",
   "execution_count": 16,
   "id": "02a89382",
   "metadata": {},
   "outputs": [
    {
     "name": "stdout",
     "output_type": "stream",
     "text": [
      "숫자를 입력하세요2\n",
      "짝수\n"
     ]
    }
   ],
   "source": [
    "# 일반적인 if else문\n",
    "num = int(input('숫자를 입력하세요'))\n",
    "if num % 2 ==0:\n",
    "    print('짝수')\n",
    "else:\n",
    "    print('홀수')"
   ]
  },
  {
   "cell_type": "code",
   "execution_count": 18,
   "id": "24feac00",
   "metadata": {},
   "outputs": [
    {
     "name": "stdout",
     "output_type": "stream",
     "text": [
      "숫자를 입력하세요2\n",
      "짝수\n"
     ]
    }
   ],
   "source": [
    "# 조건 표현식\n",
    "num = int(input('숫자를 입력하세요'))\n",
    "print('짝수') if num % 2 == 0 else print('홀수')"
   ]
  },
  {
   "cell_type": "code",
   "execution_count": null,
   "id": "11b76500",
   "metadata": {},
   "outputs": [],
   "source": []
  }
 ],
 "metadata": {
  "kernelspec": {
   "display_name": "Python 3 (ipykernel)",
   "language": "python",
   "name": "python3"
  },
  "language_info": {
   "codemirror_mode": {
    "name": "ipython",
    "version": 3
   },
   "file_extension": ".py",
   "mimetype": "text/x-python",
   "name": "python",
   "nbconvert_exporter": "python",
   "pygments_lexer": "ipython3",
   "version": "3.9.23"
  }
 },
 "nbformat": 4,
 "nbformat_minor": 5
}
