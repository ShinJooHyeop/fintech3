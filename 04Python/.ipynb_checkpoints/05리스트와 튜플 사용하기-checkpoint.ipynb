{
 "cells": [
  {
   "cell_type": "markdown",
   "id": "6464d55b",
   "metadata": {},
   "source": [
    "# 리스트와 튜플 사용하기 초급"
   ]
  },
  {
   "cell_type": "markdown",
   "id": "ee64f2c9",
   "metadata": {},
   "source": [
    " ## 리스트 만들기\n",
    " * 대괄호 안에 자료를 나열해서 만듬\n",
    " * 내용이 비어있는 리스트도 생성 가능 []\n",
    " * 자료가 1개만 있는 리스트고 생성 가능\n",
    " * 숫자로만 된 리스트 경우 range()와 list 형변환 함수로 생성 가능"
   ]
  },
  {
   "cell_type": "code",
   "execution_count": 2,
   "id": "869898a9",
   "metadata": {},
   "outputs": [
    {
     "data": {
      "text/plain": [
       "[]"
      ]
     },
     "execution_count": 2,
     "metadata": {},
     "output_type": "execute_result"
    }
   ],
   "source": [
    "# 빈 리스트 만들기\n",
    "l1 = []\n",
    "l1"
   ]
  },
  {
   "cell_type": "code",
   "execution_count": 3,
   "id": "f9748f7a",
   "metadata": {},
   "outputs": [
    {
     "name": "stdout",
     "output_type": "stream",
     "text": [
      "[] 0 <class 'list'>\n"
     ]
    }
   ],
   "source": [
    "print(l1,len(l1),type(l1))"
   ]
  },
  {
   "cell_type": "code",
   "execution_count": 4,
   "id": "7bc1b94f",
   "metadata": {},
   "outputs": [],
   "source": [
    "# 대괄호 안에 자료를 나열해서 만들기\n",
    "l2 = [1,2,3,3.5,\"리스트\",(4,5,6),{\"key\": \"value\"}]"
   ]
  },
  {
   "cell_type": "code",
   "execution_count": 5,
   "id": "e4dcd4b7",
   "metadata": {},
   "outputs": [
    {
     "name": "stdout",
     "output_type": "stream",
     "text": [
      "[1, 2, 3, 3.5, '리스트', (4, 5, 6), {'key': 'value'}] <class 'list'>\n"
     ]
    }
   ],
   "source": [
    "print(l2, type(l2))"
   ]
  },
  {
   "cell_type": "markdown",
   "id": "177d036d",
   "metadata": {},
   "source": [
    "## rang함수로 리스트 만들기\n",
    "* range(시작번호, 끝 번호+1, step)"
   ]
  },
  {
   "cell_type": "code",
   "execution_count": 6,
   "id": "37f02950",
   "metadata": {},
   "outputs": [
    {
     "data": {
      "text/plain": [
       "[1, 3, 5, 7, 9]"
      ]
     },
     "execution_count": 6,
     "metadata": {},
     "output_type": "execute_result"
    }
   ],
   "source": [
    "list(range(1,11,2))"
   ]
  },
  {
   "cell_type": "code",
   "execution_count": 7,
   "id": "bb33ed2e",
   "metadata": {},
   "outputs": [
    {
     "data": {
      "text/plain": [
       "[4,\n",
       " 8,\n",
       " 12,\n",
       " 16,\n",
       " 20,\n",
       " 24,\n",
       " 28,\n",
       " 32,\n",
       " 36,\n",
       " 40,\n",
       " 44,\n",
       " 48,\n",
       " 52,\n",
       " 56,\n",
       " 60,\n",
       " 64,\n",
       " 68,\n",
       " 72,\n",
       " 76,\n",
       " 80,\n",
       " 84,\n",
       " 88,\n",
       " 92,\n",
       " 96,\n",
       " 100]"
      ]
     },
     "execution_count": 7,
     "metadata": {},
     "output_type": "execute_result"
    }
   ],
   "source": [
    "# 4의 배수로 리스트 만들기\n",
    "list(range(4,101,4))"
   ]
  },
  {
   "cell_type": "code",
   "execution_count": 9,
   "id": "5a4b6b85",
   "metadata": {},
   "outputs": [
    {
     "data": {
      "text/plain": [
       "[100,\n",
       " 96,\n",
       " 92,\n",
       " 88,\n",
       " 84,\n",
       " 80,\n",
       " 76,\n",
       " 72,\n",
       " 68,\n",
       " 64,\n",
       " 60,\n",
       " 56,\n",
       " 52,\n",
       " 48,\n",
       " 44,\n",
       " 40,\n",
       " 36,\n",
       " 32,\n",
       " 28,\n",
       " 24,\n",
       " 20,\n",
       " 16,\n",
       " 12,\n",
       " 8,\n",
       " 4]"
      ]
     },
     "execution_count": 9,
     "metadata": {},
     "output_type": "execute_result"
    }
   ],
   "source": [
    "# 역순으로 리스트 만들기\n",
    "list(range(100,1,-4))"
   ]
  },
  {
   "cell_type": "markdown",
   "id": "9386c9e1",
   "metadata": {},
   "source": [
    "# 리스트 함수"
   ]
  },
  {
   "cell_type": "markdown",
   "id": "28e2ee92",
   "metadata": {},
   "source": [
    "## .append()리스트 마지막에 자료 추가"
   ]
  },
  {
   "cell_type": "code",
   "execution_count": 10,
   "id": "a4cf2181",
   "metadata": {},
   "outputs": [
    {
     "data": {
      "text/plain": [
       "[3]"
      ]
     },
     "execution_count": 10,
     "metadata": {},
     "output_type": "execute_result"
    }
   ],
   "source": [
    "l1.append(3)\n",
    "l1"
   ]
  },
  {
   "cell_type": "code",
   "execution_count": 12,
   "id": "f09a52d2",
   "metadata": {},
   "outputs": [
    {
     "data": {
      "text/plain": [
       "[3, 3.5]"
      ]
     },
     "execution_count": 12,
     "metadata": {},
     "output_type": "execute_result"
    }
   ],
   "source": [
    "l1.append(3.5)\n",
    "l1"
   ]
  },
  {
   "cell_type": "code",
   "execution_count": 13,
   "id": "c2814079",
   "metadata": {},
   "outputs": [
    {
     "data": {
      "text/plain": [
       "[3, 3.5, [1, 2, 3]]"
      ]
     },
     "execution_count": 13,
     "metadata": {},
     "output_type": "execute_result"
    }
   ],
   "source": [
    "l1.append([1,2,3])\n",
    "l1"
   ]
  },
  {
   "cell_type": "code",
   "execution_count": 14,
   "id": "d743ace3",
   "metadata": {},
   "outputs": [
    {
     "data": {
      "text/plain": [
       "[3, 3.5, [1, 2, 3], [4, 5, 6]]"
      ]
     },
     "execution_count": 14,
     "metadata": {},
     "output_type": "execute_result"
    }
   ],
   "source": [
    "l1.append([4,5,6])\n",
    "l1"
   ]
  },
  {
   "cell_type": "code",
   "execution_count": 15,
   "id": "b310fda0",
   "metadata": {},
   "outputs": [],
   "source": [
    "l1.append({\"key\":\"value\"})"
   ]
  },
  {
   "cell_type": "code",
   "execution_count": 16,
   "id": "8efbb50d",
   "metadata": {},
   "outputs": [
    {
     "data": {
      "text/plain": [
       "[3, 3.5, [1, 2, 3], [4, 5, 6], {'key': 'value'}]"
      ]
     },
     "execution_count": 16,
     "metadata": {},
     "output_type": "execute_result"
    }
   ],
   "source": [
    "l1"
   ]
  },
  {
   "cell_type": "markdown",
   "id": "be019884",
   "metadata": {},
   "source": [
    "## .insert() 특정 위치에 자료추가\n",
    "* insert(추가할 위치의 인덱스,추가할 값)"
   ]
  },
  {
   "cell_type": "code",
   "execution_count": 17,
   "id": "7beeb502",
   "metadata": {},
   "outputs": [
    {
     "data": {
      "text/plain": [
       "[3, 3.5, [1, 2, 3], True, [4, 5, 6], {'key': 'value'}]"
      ]
     },
     "execution_count": 17,
     "metadata": {},
     "output_type": "execute_result"
    }
   ],
   "source": [
    "#l1의 인덱스 3번에 True\n",
    "l1.insert(3,True)\n",
    "l1"
   ]
  },
  {
   "cell_type": "markdown",
   "id": "341186a0",
   "metadata": {},
   "source": [
    "## 리스트의 자료 삭제하기\n",
    "* del 변수명[인덱스 번호]: 해당 인덱스의 자료가 삭제\n",
    "* pop(): 리스트의 가장 끝 자료가 출력되면서 삭제됨\n",
    "* remove(값) : 리스트의 앞에서부터 입력한 값과 일치하는 값을 찾아서 삭제(정수, 실수 구분X)"
   ]
  },
  {
   "cell_type": "code",
   "execution_count": 18,
   "id": "8ccf9241",
   "metadata": {},
   "outputs": [
    {
     "data": {
      "text/plain": [
       "[3, 3.5, True, [4, 5, 6], {'key': 'value'}]"
      ]
     },
     "execution_count": 18,
     "metadata": {},
     "output_type": "execute_result"
    }
   ],
   "source": [
    "del l1[2]\n",
    "l1"
   ]
  },
  {
   "cell_type": "code",
   "execution_count": 19,
   "id": "518213e6",
   "metadata": {},
   "outputs": [
    {
     "data": {
      "text/plain": [
       "[3, 3.5, True, [4, 5, 6]]"
      ]
     },
     "execution_count": 19,
     "metadata": {},
     "output_type": "execute_result"
    }
   ],
   "source": [
    "l1.pop()\n",
    "l1"
   ]
  },
  {
   "cell_type": "code",
   "execution_count": 20,
   "id": "bab1d83d",
   "metadata": {},
   "outputs": [
    {
     "data": {
      "text/plain": [
       "[3.0, 3, 3.5, True, [4, 5, 6]]"
      ]
     },
     "execution_count": 20,
     "metadata": {},
     "output_type": "execute_result"
    }
   ],
   "source": [
    "l1.insert(0,3.0)\n",
    "l1"
   ]
  },
  {
   "cell_type": "code",
   "execution_count": 21,
   "id": "5fe9896d",
   "metadata": {},
   "outputs": [
    {
     "data": {
      "text/plain": [
       "[3, 3.5, True, [4, 5, 6]]"
      ]
     },
     "execution_count": 21,
     "metadata": {},
     "output_type": "execute_result"
    }
   ],
   "source": [
    "l1.remove(3)\n",
    "l1"
   ]
  },
  {
   "cell_type": "code",
   "execution_count": 22,
   "id": "ddefc0d1",
   "metadata": {},
   "outputs": [
    {
     "data": {
      "text/plain": [
       "[3, 3.5, True]"
      ]
     },
     "execution_count": 22,
     "metadata": {},
     "output_type": "execute_result"
    }
   ],
   "source": [
    "l1.remove([4,5,6])\n",
    "l1"
   ]
  },
  {
   "cell_type": "markdown",
   "id": "10ca4820",
   "metadata": {},
   "source": [
    "## 리스트 확장하기 .extend()\n",
    "* 리스트에 자료를 추가하되 요소만 추가"
   ]
  },
  {
   "cell_type": "code",
   "execution_count": 23,
   "id": "a915ca06",
   "metadata": {},
   "outputs": [],
   "source": [
    "a = [1,2,3]\n",
    "b = [4,5,6]"
   ]
  },
  {
   "cell_type": "code",
   "execution_count": 24,
   "id": "e9dd4363",
   "metadata": {},
   "outputs": [],
   "source": [
    "# append는 리스트 형태 그대로 리스트에 추가 됨\n",
    "a.append(b)"
   ]
  },
  {
   "cell_type": "code",
   "execution_count": 25,
   "id": "c8de38bc",
   "metadata": {},
   "outputs": [
    {
     "data": {
      "text/plain": [
       "[1, 2, 3, [4, 5, 6]]"
      ]
     },
     "execution_count": 25,
     "metadata": {},
     "output_type": "execute_result"
    }
   ],
   "source": [
    "a"
   ]
  },
  {
   "cell_type": "code",
   "execution_count": 26,
   "id": "ef7e5471",
   "metadata": {},
   "outputs": [
    {
     "data": {
      "text/plain": [
       "5"
      ]
     },
     "execution_count": 26,
     "metadata": {},
     "output_type": "execute_result"
    }
   ],
   "source": [
    "a[3][1]"
   ]
  },
  {
   "cell_type": "code",
   "execution_count": 27,
   "id": "847eb990",
   "metadata": {},
   "outputs": [
    {
     "data": {
      "text/plain": [
       "[4, 5, 6, 7, 8, 9]"
      ]
     },
     "execution_count": 27,
     "metadata": {},
     "output_type": "execute_result"
    }
   ],
   "source": [
    "# extend는 리스트 형태 없이 자료만 추가\n",
    "b.extend([7,8,9])\n",
    "b"
   ]
  },
  {
   "cell_type": "code",
   "execution_count": 28,
   "id": "ff00024c",
   "metadata": {},
   "outputs": [
    {
     "data": {
      "text/plain": [
       "8"
      ]
     },
     "execution_count": 28,
     "metadata": {},
     "output_type": "execute_result"
    }
   ],
   "source": [
    "b[4]"
   ]
  },
  {
   "cell_type": "markdown",
   "id": "290b474f",
   "metadata": {},
   "source": [
    "## list + list == extend()를 한것과 동일"
   ]
  },
  {
   "cell_type": "code",
   "execution_count": 29,
   "id": "927b4283",
   "metadata": {},
   "outputs": [],
   "source": [
    "a = [1,2,3]\n",
    "b = [4,5,6]"
   ]
  },
  {
   "cell_type": "code",
   "execution_count": 30,
   "id": "846bed26",
   "metadata": {},
   "outputs": [
    {
     "data": {
      "text/plain": [
       "[1, 2, 3, 4, 5, 6]"
      ]
     },
     "execution_count": 30,
     "metadata": {},
     "output_type": "execute_result"
    }
   ],
   "source": [
    "a + b"
   ]
  },
  {
   "cell_type": "markdown",
   "id": "57ff2e73",
   "metadata": {},
   "source": [
    "## 리스트 안에서 원하는 값의 인덱스 찾기\n",
    "* in, not in: 리스트 안에서 원하는 값이 있는지 학인 True/False\n",
    "* 원하는 값이 있는 위치를 찾을 떄 .index(찾을 값, 시작 인덱스) - 가장 앞의 인덱스만 반환\n",
    "* 동일한 값이 여러개 있는 경우 가장 앞의 인덱스를 반환\n",
    "* 2번째 이상의 자료를 찾으려면 옵션에 시작 인덱스를 지정하면 된다."
   ]
  },
  {
   "cell_type": "code",
   "execution_count": 31,
   "id": "5b41eaa2",
   "metadata": {},
   "outputs": [
    {
     "data": {
      "text/plain": [
       "[1, 2, 3, [3, 4, 5, 6, 7, 9], [4, 5, 6, 7, 8, 9], 3, 4, 5, 7, 8, 9]"
      ]
     },
     "execution_count": 31,
     "metadata": {},
     "output_type": "execute_result"
    }
   ],
   "source": [
    "a = [1,2,3,[3,4,5,6,7,9],[4,5,6,7,8,9],3,4,5,7,8,9]\n",
    "a"
   ]
  },
  {
   "cell_type": "code",
   "execution_count": 32,
   "id": "912b3ba3",
   "metadata": {},
   "outputs": [
    {
     "data": {
      "text/plain": [
       "True"
      ]
     },
     "execution_count": 32,
     "metadata": {},
     "output_type": "execute_result"
    }
   ],
   "source": [
    "4 in a"
   ]
  },
  {
   "cell_type": "code",
   "execution_count": 33,
   "id": "9a535713",
   "metadata": {},
   "outputs": [
    {
     "data": {
      "text/plain": [
       "6"
      ]
     },
     "execution_count": 33,
     "metadata": {},
     "output_type": "execute_result"
    }
   ],
   "source": [
    "a.index(4)"
   ]
  },
  {
   "cell_type": "code",
   "execution_count": 34,
   "id": "40a8abd9",
   "metadata": {},
   "outputs": [
    {
     "data": {
      "text/plain": [
       "True"
      ]
     },
     "execution_count": 34,
     "metadata": {},
     "output_type": "execute_result"
    }
   ],
   "source": [
    "4 in a[3]"
   ]
  },
  {
   "cell_type": "code",
   "execution_count": 35,
   "id": "528aa246",
   "metadata": {},
   "outputs": [
    {
     "data": {
      "text/plain": [
       "5"
      ]
     },
     "execution_count": 35,
     "metadata": {},
     "output_type": "execute_result"
    }
   ],
   "source": [
    "a.index(3,3)"
   ]
  },
  {
   "cell_type": "markdown",
   "id": "fcdf40f1",
   "metadata": {},
   "source": [
    "## 리스트 안에서 특정 값의 개수 구하기 .count()"
   ]
  },
  {
   "cell_type": "code",
   "execution_count": 36,
   "id": "f000bb8c",
   "metadata": {},
   "outputs": [
    {
     "data": {
      "text/plain": [
       "[1, 2, 3, [3, 4, 5, 6, 7, 9], [4, 5, 6, 7, 8, 9], 3, 4, 5, 7, 8, 9]"
      ]
     },
     "execution_count": 36,
     "metadata": {},
     "output_type": "execute_result"
    }
   ],
   "source": [
    "a"
   ]
  },
  {
   "cell_type": "code",
   "execution_count": 38,
   "id": "3772011e",
   "metadata": {},
   "outputs": [
    {
     "data": {
      "text/plain": [
       "2"
      ]
     },
     "execution_count": 38,
     "metadata": {},
     "output_type": "execute_result"
    }
   ],
   "source": [
    "# 안쪽에 포장된 리스트는 못찾는다\n",
    "a.count(3)"
   ]
  },
  {
   "cell_type": "markdown",
   "id": "4d0d684d",
   "metadata": {},
   "source": [
    "# 리스트 순서 뒤집기 \n",
    "* 리스트.reverse() : 실행 즉시 원본 데이터 변경\n",
    "* list(.reversed(리스트)) : 재할당 해야지만 변경\n",
    "* list[::-1] : 역 인데싱으로 뒤집기\n",
    "* 실행 즉시 원본 데이터 변경"
   ]
  },
  {
   "cell_type": "code",
   "execution_count": 39,
   "id": "79f8cf3d",
   "metadata": {},
   "outputs": [],
   "source": [
    "a.reverse()"
   ]
  },
  {
   "cell_type": "code",
   "execution_count": 51,
   "id": "4f6e550f",
   "metadata": {},
   "outputs": [
    {
     "data": {
      "text/plain": [
       "[1, 2, 3, [3, 4, 5, 6, 7, 9], [4, 5, 6, 7, 8, 9], 3, 4, 5, 7, 8, 9]"
      ]
     },
     "execution_count": 51,
     "metadata": {},
     "output_type": "execute_result"
    }
   ],
   "source": [
    "a"
   ]
  },
  {
   "cell_type": "code",
   "execution_count": 52,
   "id": "c5923862",
   "metadata": {},
   "outputs": [],
   "source": [
    "a.reverse()"
   ]
  },
  {
   "cell_type": "code",
   "execution_count": 53,
   "id": "8b06a5f1",
   "metadata": {},
   "outputs": [
    {
     "data": {
      "text/plain": [
       "[9, 8, 7, 5, 4, 3, [4, 5, 6, 7, 8, 9], [3, 4, 5, 6, 7, 9], 3, 2, 1]"
      ]
     },
     "execution_count": 53,
     "metadata": {},
     "output_type": "execute_result"
    }
   ],
   "source": [
    "a"
   ]
  },
  {
   "cell_type": "code",
   "execution_count": 54,
   "id": "2e5a6807",
   "metadata": {},
   "outputs": [
    {
     "data": {
      "text/plain": [
       "[1, 2, 3, [3, 4, 5, 6, 7, 9], [4, 5, 6, 7, 8, 9], 3, 4, 5, 7, 8, 9]"
      ]
     },
     "execution_count": 54,
     "metadata": {},
     "output_type": "execute_result"
    }
   ],
   "source": [
    "a[::-1]"
   ]
  },
  {
   "cell_type": "code",
   "execution_count": 55,
   "id": "c6688ac4",
   "metadata": {},
   "outputs": [
    {
     "data": {
      "text/plain": [
       "[9, 8, 7, 5, 4, 3, [4, 5, 6, 7, 8, 9], [3, 4, 5, 6, 7, 9], 3, 2, 1]"
      ]
     },
     "execution_count": 55,
     "metadata": {},
     "output_type": "execute_result"
    }
   ],
   "source": [
    "a"
   ]
  },
  {
   "cell_type": "code",
   "execution_count": 56,
   "id": "57f5dbd9",
   "metadata": {},
   "outputs": [
    {
     "data": {
      "text/plain": [
       "[1, 2, 3, [3, 4, 5, 6, 7, 9], [4, 5, 6, 7, 8, 9], 3, 4, 5, 7, 8, 9]"
      ]
     },
     "execution_count": 56,
     "metadata": {},
     "output_type": "execute_result"
    }
   ],
   "source": [
    "list(reversed(a))"
   ]
  },
  {
   "cell_type": "code",
   "execution_count": 57,
   "id": "5cd0ca17",
   "metadata": {},
   "outputs": [
    {
     "name": "stdout",
     "output_type": "stream",
     "text": [
      "[9, 8, 7, 5, 4, 3, [4, 5, 6, 7, 8, 9], [3, 4, 5, 6, 7, 9], 3, 2, 1]\n",
      "[9, 8, 7, 5, 4, 3, [4, 5, 6, 7, 8, 9], [3, 4, 5, 6, 7, 9], 3, 2, 1]\n",
      "[9, 8, 7, 5, 4, 3, [4, 5, 6, 7, 8, 9], [3, 4, 5, 6, 7, 9], 3, 2, 1]\n",
      "[9, 8, 7, 5, 4, 3, [4, 5, 6, 7, 8, 9], [3, 4, 5, 6, 7, 9], 3, 2, 1]\n",
      "[9, 8, 7, 5, 4, 3, [4, 5, 6, 7, 8, 9], [3, 4, 5, 6, 7, 9], 3, 2, 1]\n",
      "[9, 8, 7, 5, 4, 3, [4, 5, 6, 7, 8, 9], [3, 4, 5, 6, 7, 9], 3, 2, 1]\n",
      "[9, 8, 7, 5, 4, 3, [4, 5, 6, 7, 8, 9], [3, 4, 5, 6, 7, 9], 3, 2, 1]\n",
      "[9, 8, 7, 5, 4, 3, [4, 5, 6, 7, 8, 9], [3, 4, 5, 6, 7, 9], 3, 2, 1]\n",
      "[9, 8, 7, 5, 4, 3, [4, 5, 6, 7, 8, 9], [3, 4, 5, 6, 7, 9], 3, 2, 1]\n",
      "[9, 8, 7, 5, 4, 3, [4, 5, 6, 7, 8, 9], [3, 4, 5, 6, 7, 9], 3, 2, 1]\n",
      "[9, 8, 7, 5, 4, 3, [4, 5, 6, 7, 8, 9], [3, 4, 5, 6, 7, 9], 3, 2, 1]\n"
     ]
    }
   ],
   "source": [
    "for i in reversed(a):\n",
    "     print(a)"
   ]
  },
  {
   "cell_type": "markdown",
   "id": "5a08dbd0",
   "metadata": {},
   "source": [
    "## 리스트 정렬\n",
    "* .sort() : 오름차순 - 실행 후 바로 저장\n",
    "* .sort(reverse = True): 내림차순 - 실행 후 바로 저장\n",
    "* sorted(리스트) : 오름차순 정렬 - 재할당 필요\n",
    "* sorted(reserse=True): 내림차순 - 재할당 필요"
   ]
  },
  {
   "cell_type": "code",
   "execution_count": 62,
   "id": "e6d395dd",
   "metadata": {},
   "outputs": [],
   "source": [
    "a = [1,2,3,4,5,6,7,8,9,10]"
   ]
  },
  {
   "cell_type": "code",
   "execution_count": 65,
   "id": "2b7d4068",
   "metadata": {},
   "outputs": [
    {
     "data": {
      "text/plain": [
       "[1, 2, 3, 4, 5, 6, 7, 8, 9, 10]"
      ]
     },
     "execution_count": 65,
     "metadata": {},
     "output_type": "execute_result"
    }
   ],
   "source": [
    "a.sort()\n",
    "a"
   ]
  },
  {
   "cell_type": "code",
   "execution_count": 66,
   "id": "13d618e5",
   "metadata": {},
   "outputs": [
    {
     "data": {
      "text/plain": [
       "[10, 9, 8, 7, 6, 5, 4, 3, 2, 1]"
      ]
     },
     "execution_count": 66,
     "metadata": {},
     "output_type": "execute_result"
    }
   ],
   "source": [
    "a.sort(reverse=True)\n",
    "a"
   ]
  },
  {
   "cell_type": "markdown",
   "id": "c66b6a40",
   "metadata": {},
   "source": [
    "# 튜플 tuple\n",
    "* 튜플은 리스트처럼 모든 자료형을 넣어 만들 수 있다.\n",
    "* 순서가 있는 자료형, 인덱스가 있다.\n",
    "* 자료의 추가, 삭제가 안됨\n",
    "* 자료 1개만 넣어서 만들 수 있다. 단, (1,) 형식이어야 한다.\n",
    "* 튜플 생성시 자료가 2개 이상인 경우 () 생략 가능"
   ]
  },
  {
   "cell_type": "code",
   "execution_count": 67,
   "id": "5edc21ad",
   "metadata": {},
   "outputs": [
    {
     "data": {
      "text/plain": [
       "(1,)"
      ]
     },
     "execution_count": 67,
     "metadata": {},
     "output_type": "execute_result"
    }
   ],
   "source": [
    "t = (1,)\n",
    "t"
   ]
  },
  {
   "cell_type": "code",
   "execution_count": 68,
   "id": "bfa30f29",
   "metadata": {},
   "outputs": [
    {
     "name": "stdout",
     "output_type": "stream",
     "text": [
      "() <class 'tuple'>\n"
     ]
    }
   ],
   "source": [
    "t0 = ()\n",
    "print(t0,type(t0))"
   ]
  },
  {
   "cell_type": "code",
   "execution_count": 69,
   "id": "8744cb2a",
   "metadata": {},
   "outputs": [
    {
     "data": {
      "text/plain": [
       "(1, 2, 3)"
      ]
     },
     "execution_count": 69,
     "metadata": {},
     "output_type": "execute_result"
    }
   ],
   "source": [
    "t1 = (1,2,3)\n",
    "t1"
   ]
  },
  {
   "cell_type": "code",
   "execution_count": 70,
   "id": "e063d656",
   "metadata": {},
   "outputs": [],
   "source": [
    "t2 =(4,5,6)"
   ]
  },
  {
   "cell_type": "markdown",
   "id": "4ebc867d",
   "metadata": {},
   "source": [
    "## 튜플+튜플  = 두개의 튜플 요소가 하나로 합쳐짐"
   ]
  },
  {
   "cell_type": "code",
   "execution_count": 72,
   "id": "9f008dae",
   "metadata": {},
   "outputs": [],
   "source": [
    "t3 = t1 + t2"
   ]
  },
  {
   "cell_type": "code",
   "execution_count": 73,
   "id": "ed543351",
   "metadata": {},
   "outputs": [
    {
     "data": {
      "text/plain": [
       "(1, 2, 3, 4, 5, 6)"
      ]
     },
     "execution_count": 73,
     "metadata": {},
     "output_type": "execute_result"
    }
   ],
   "source": [
    "t3"
   ]
  },
  {
   "cell_type": "markdown",
   "id": "c8b7701d",
   "metadata": {},
   "source": [
    "## index() 튜플 내에서 특정 값의 인덱스 찾기"
   ]
  },
  {
   "cell_type": "code",
   "execution_count": 74,
   "id": "66b374ec",
   "metadata": {},
   "outputs": [
    {
     "data": {
      "text/plain": [
       "4"
      ]
     },
     "execution_count": 74,
     "metadata": {},
     "output_type": "execute_result"
    }
   ],
   "source": [
    "t3.index(5)"
   ]
  },
  {
   "cell_type": "markdown",
   "id": "0d5ba780",
   "metadata": {},
   "source": [
    "## count() 튜플 내에 특정 값의 개수 세기"
   ]
  },
  {
   "cell_type": "code",
   "execution_count": 76,
   "id": "89707179",
   "metadata": {},
   "outputs": [],
   "source": [
    "t4 = (1,2,3)"
   ]
  },
  {
   "cell_type": "code",
   "execution_count": 77,
   "id": "8ad8842e",
   "metadata": {},
   "outputs": [],
   "source": [
    "t3 = t3 + t4"
   ]
  },
  {
   "cell_type": "code",
   "execution_count": 78,
   "id": "aca5eb2f",
   "metadata": {},
   "outputs": [
    {
     "data": {
      "text/plain": [
       "(1, 2, 3, 4, 5, 6, 1, 2, 3)"
      ]
     },
     "execution_count": 78,
     "metadata": {},
     "output_type": "execute_result"
    }
   ],
   "source": [
    "t3"
   ]
  },
  {
   "cell_type": "code",
   "execution_count": 79,
   "id": "add01704",
   "metadata": {},
   "outputs": [
    {
     "data": {
      "text/plain": [
       "2"
      ]
     },
     "execution_count": 79,
     "metadata": {},
     "output_type": "execute_result"
    }
   ],
   "source": [
    "t3.count(3)"
   ]
  },
  {
   "cell_type": "markdown",
   "id": "801f70ba",
   "metadata": {},
   "source": [
    "## 튜플의 내용을 변경하거나 추가 삭제하고 싶을 때\n",
    "+ list로 형변환 후 자료를 추가,삭제변경하고 다시 tuple로 변환"
   ]
  },
  {
   "cell_type": "code",
   "execution_count": 82,
   "id": "f90f8267",
   "metadata": {},
   "outputs": [
    {
     "data": {
      "text/plain": [
       "[1, 2, 3, 4, 5, 6, 1, 2, 3]"
      ]
     },
     "execution_count": 82,
     "metadata": {},
     "output_type": "execute_result"
    }
   ],
   "source": [
    "t3 = list(t3)\n",
    "t3"
   ]
  },
  {
   "cell_type": "code",
   "execution_count": 83,
   "id": "66c52cf8",
   "metadata": {},
   "outputs": [
    {
     "data": {
      "text/plain": [
       "[10, 2, 3, 4, 5, 6, 1, 2, 3, (1, 2, 3)]"
      ]
     },
     "execution_count": 83,
     "metadata": {},
     "output_type": "execute_result"
    }
   ],
   "source": [
    "t3[0] = 10\n",
    "t3.append((1,2,3))\n",
    "t3"
   ]
  },
  {
   "cell_type": "code",
   "execution_count": 84,
   "id": "d8dce627",
   "metadata": {},
   "outputs": [
    {
     "data": {
      "text/plain": [
       "(10, 2, 3, 4, 5, 6, 1, 2, 3, (1, 2, 3))"
      ]
     },
     "execution_count": 84,
     "metadata": {},
     "output_type": "execute_result"
    }
   ],
   "source": [
    "t3 = tuple(t3)\n",
    "t3"
   ]
  },
  {
   "cell_type": "markdown",
   "id": "b3b1341e",
   "metadata": {},
   "source": [
    "## 괄호를 생략하고 튜플 만들기"
   ]
  },
  {
   "cell_type": "code",
   "execution_count": 86,
   "id": "29fcb532",
   "metadata": {},
   "outputs": [
    {
     "data": {
      "text/plain": [
       "('튜플', '괄호없이', '만들기', 1, 2, 3)"
      ]
     },
     "execution_count": 86,
     "metadata": {},
     "output_type": "execute_result"
    }
   ],
   "source": [
    "t5 = \"튜플\",\"괄호없이\",\"만들기\",1,2,3\n",
    "t5"
   ]
  },
  {
   "cell_type": "markdown",
   "id": "a05fbd96",
   "metadata": {},
   "source": [
    "## 리스트/튜플  곱셈으로 반복하기\n",
    "* 리스트 * 숫자 = 리스트의 안의 요소가 숫자만큼 복사된다. \n",
    "* 튜플 * 숫자= 튜플 안의 요소가 숫자 만큼 복사된다."
   ]
  },
  {
   "cell_type": "code",
   "execution_count": 87,
   "id": "ac8d7946",
   "metadata": {},
   "outputs": [
    {
     "data": {
      "text/plain": [
       "'=================================================='"
      ]
     },
     "execution_count": 87,
     "metadata": {},
     "output_type": "execute_result"
    }
   ],
   "source": [
    "\"=\"*50"
   ]
  },
  {
   "cell_type": "code",
   "execution_count": 88,
   "id": "5aded0ec",
   "metadata": {},
   "outputs": [
    {
     "data": {
      "text/plain": [
       "[1, 2, 3, 1, 2, 3, 1, 2, 3]"
      ]
     },
     "execution_count": 88,
     "metadata": {},
     "output_type": "execute_result"
    }
   ],
   "source": [
    "a = [1,2,3]\n",
    "a*3"
   ]
  },
  {
   "cell_type": "code",
   "execution_count": 91,
   "id": "d2a153ae",
   "metadata": {},
   "outputs": [
    {
     "data": {
      "text/plain": [
       "('튜플', '괄호없이', '만들기', 1, 2, 3)"
      ]
     },
     "execution_count": 91,
     "metadata": {},
     "output_type": "execute_result"
    }
   ],
   "source": [
    "t5"
   ]
  },
  {
   "cell_type": "code",
   "execution_count": 92,
   "id": "f0e4e272",
   "metadata": {},
   "outputs": [
    {
     "data": {
      "text/plain": [
       "('튜플',\n",
       " '괄호없이',\n",
       " '만들기',\n",
       " 1,\n",
       " 2,\n",
       " 3,\n",
       " '튜플',\n",
       " '괄호없이',\n",
       " '만들기',\n",
       " 1,\n",
       " 2,\n",
       " 3,\n",
       " '튜플',\n",
       " '괄호없이',\n",
       " '만들기',\n",
       " 1,\n",
       " 2,\n",
       " 3)"
      ]
     },
     "execution_count": 92,
     "metadata": {},
     "output_type": "execute_result"
    }
   ],
   "source": [
    "t5*3"
   ]
  },
  {
   "cell_type": "markdown",
   "id": "27627dd7",
   "metadata": {},
   "source": [
    "## 리스트/튜플 연산 함수 사용하기\n",
    "* sum() : 덧셈\n",
    "* max() : 최대값\n",
    "* min() : 최소값"
   ]
  },
  {
   "cell_type": "code",
   "execution_count": 93,
   "id": "d43ebc86",
   "metadata": {},
   "outputs": [],
   "source": [
    "a = list(range(1,51))\n",
    "b = tuple(range(100,50,-1))"
   ]
  },
  {
   "cell_type": "code",
   "execution_count": 94,
   "id": "ce0050af",
   "metadata": {},
   "outputs": [
    {
     "data": {
      "text/plain": [
       "[1,\n",
       " 2,\n",
       " 3,\n",
       " 4,\n",
       " 5,\n",
       " 6,\n",
       " 7,\n",
       " 8,\n",
       " 9,\n",
       " 10,\n",
       " 11,\n",
       " 12,\n",
       " 13,\n",
       " 14,\n",
       " 15,\n",
       " 16,\n",
       " 17,\n",
       " 18,\n",
       " 19,\n",
       " 20,\n",
       " 21,\n",
       " 22,\n",
       " 23,\n",
       " 24,\n",
       " 25,\n",
       " 26,\n",
       " 27,\n",
       " 28,\n",
       " 29,\n",
       " 30,\n",
       " 31,\n",
       " 32,\n",
       " 33,\n",
       " 34,\n",
       " 35,\n",
       " 36,\n",
       " 37,\n",
       " 38,\n",
       " 39,\n",
       " 40,\n",
       " 41,\n",
       " 42,\n",
       " 43,\n",
       " 44,\n",
       " 45,\n",
       " 46,\n",
       " 47,\n",
       " 48,\n",
       " 49,\n",
       " 50]"
      ]
     },
     "execution_count": 94,
     "metadata": {},
     "output_type": "execute_result"
    }
   ],
   "source": [
    "a"
   ]
  },
  {
   "cell_type": "code",
   "execution_count": 95,
   "id": "94a074d6",
   "metadata": {},
   "outputs": [
    {
     "data": {
      "text/plain": [
       "(100,\n",
       " 99,\n",
       " 98,\n",
       " 97,\n",
       " 96,\n",
       " 95,\n",
       " 94,\n",
       " 93,\n",
       " 92,\n",
       " 91,\n",
       " 90,\n",
       " 89,\n",
       " 88,\n",
       " 87,\n",
       " 86,\n",
       " 85,\n",
       " 84,\n",
       " 83,\n",
       " 82,\n",
       " 81,\n",
       " 80,\n",
       " 79,\n",
       " 78,\n",
       " 77,\n",
       " 76,\n",
       " 75,\n",
       " 74,\n",
       " 73,\n",
       " 72,\n",
       " 71,\n",
       " 70,\n",
       " 69,\n",
       " 68,\n",
       " 67,\n",
       " 66,\n",
       " 65,\n",
       " 64,\n",
       " 63,\n",
       " 62,\n",
       " 61,\n",
       " 60,\n",
       " 59,\n",
       " 58,\n",
       " 57,\n",
       " 56,\n",
       " 55,\n",
       " 54,\n",
       " 53,\n",
       " 52,\n",
       " 51)"
      ]
     },
     "execution_count": 95,
     "metadata": {},
     "output_type": "execute_result"
    }
   ],
   "source": [
    "b"
   ]
  },
  {
   "cell_type": "code",
   "execution_count": 96,
   "id": "58973881",
   "metadata": {},
   "outputs": [
    {
     "data": {
      "text/plain": [
       "1275"
      ]
     },
     "execution_count": 96,
     "metadata": {},
     "output_type": "execute_result"
    }
   ],
   "source": [
    "sum(a)"
   ]
  },
  {
   "cell_type": "code",
   "execution_count": 97,
   "id": "b1048455",
   "metadata": {},
   "outputs": [
    {
     "data": {
      "text/plain": [
       "3775"
      ]
     },
     "execution_count": 97,
     "metadata": {},
     "output_type": "execute_result"
    }
   ],
   "source": [
    "sum(b)"
   ]
  },
  {
   "cell_type": "code",
   "execution_count": 98,
   "id": "560d1652",
   "metadata": {},
   "outputs": [
    {
     "data": {
      "text/plain": [
       "50"
      ]
     },
     "execution_count": 98,
     "metadata": {},
     "output_type": "execute_result"
    }
   ],
   "source": [
    "max(a)"
   ]
  },
  {
   "cell_type": "code",
   "execution_count": 99,
   "id": "174065ab",
   "metadata": {},
   "outputs": [
    {
     "data": {
      "text/plain": [
       "51"
      ]
     },
     "execution_count": 99,
     "metadata": {},
     "output_type": "execute_result"
    }
   ],
   "source": [
    "min(b)"
   ]
  },
  {
   "cell_type": "markdown",
   "id": "f74ff7de",
   "metadata": {},
   "source": [
    "# 시퀀스 객체(순서가 있는 자료들)\n",
    "* 문자열\n",
    "* list\n",
    "* tuple\n",
    "* 시퀀스 객체는 순서가 있는 자료를 말한다.\n",
    "* 시퀀스 객체는 반복문에서 사용이 가능\n",
    "* 시퀀스 객체 + 시퀀스 객체 = 요소가 하나로 합쳐진다.\n",
    "* 시퀀스 객체 * 숫자 = 요소가 숫자의 배수로 복사 증가한다.\n",
    "* 시퀀스 객체 내의 값은 in, not in으로 찾을 수 있다."
   ]
  },
  {
   "cell_type": "code",
   "execution_count": 100,
   "id": "ca521df7",
   "metadata": {},
   "outputs": [
    {
     "data": {
      "text/plain": [
       "'문자열'"
      ]
     },
     "execution_count": 100,
     "metadata": {},
     "output_type": "execute_result"
    }
   ],
   "source": [
    "\"문자\" + \"열\""
   ]
  },
  {
   "cell_type": "code",
   "execution_count": 101,
   "id": "7ebd081c",
   "metadata": {},
   "outputs": [
    {
     "data": {
      "text/plain": [
       "[1, 2, 3, 4, 5, 6]"
      ]
     },
     "execution_count": 101,
     "metadata": {},
     "output_type": "execute_result"
    }
   ],
   "source": [
    "[1,2,3] + [4,5,6]"
   ]
  },
  {
   "cell_type": "code",
   "execution_count": 102,
   "id": "c6ab24b0",
   "metadata": {},
   "outputs": [
    {
     "data": {
      "text/plain": [
       "(1, 2, 3, 4, 5, 6)"
      ]
     },
     "execution_count": 102,
     "metadata": {},
     "output_type": "execute_result"
    }
   ],
   "source": [
    "(1,2,3) + (4,5,6)"
   ]
  },
  {
   "cell_type": "code",
   "execution_count": 103,
   "id": "c8b93fcb",
   "metadata": {},
   "outputs": [
    {
     "data": {
      "text/plain": [
       "'=========='"
      ]
     },
     "execution_count": 103,
     "metadata": {},
     "output_type": "execute_result"
    }
   ],
   "source": [
    "\"=\"*10"
   ]
  },
  {
   "cell_type": "code",
   "execution_count": 104,
   "id": "c70a99ea",
   "metadata": {},
   "outputs": [
    {
     "data": {
      "text/plain": [
       "[1, 2, 3, 1, 2, 3, 1, 2, 3]"
      ]
     },
     "execution_count": 104,
     "metadata": {},
     "output_type": "execute_result"
    }
   ],
   "source": [
    "[1,2,3] * 3"
   ]
  },
  {
   "cell_type": "code",
   "execution_count": 105,
   "id": "0d5d52f2",
   "metadata": {},
   "outputs": [
    {
     "data": {
      "text/plain": [
       "(1, 2, 3, 1, 2, 3, 1, 2, 3)"
      ]
     },
     "execution_count": 105,
     "metadata": {},
     "output_type": "execute_result"
    }
   ],
   "source": [
    "(1,2,3) * 3"
   ]
  },
  {
   "cell_type": "code",
   "execution_count": 106,
   "id": "9cf5b8c4",
   "metadata": {},
   "outputs": [
    {
     "data": {
      "text/plain": [
       "True"
      ]
     },
     "execution_count": 106,
     "metadata": {},
     "output_type": "execute_result"
    }
   ],
   "source": [
    "\"길동이\" in \"홍길동이\""
   ]
  },
  {
   "cell_type": "code",
   "execution_count": 107,
   "id": "35f94e3c",
   "metadata": {},
   "outputs": [
    {
     "data": {
      "text/plain": [
       "True"
      ]
     },
     "execution_count": 107,
     "metadata": {},
     "output_type": "execute_result"
    }
   ],
   "source": [
    "3 in [1,2,3]"
   ]
  },
  {
   "cell_type": "code",
   "execution_count": 108,
   "id": "1369761d",
   "metadata": {},
   "outputs": [
    {
     "data": {
      "text/plain": [
       "True"
      ]
     },
     "execution_count": 108,
     "metadata": {},
     "output_type": "execute_result"
    }
   ],
   "source": [
    "3 in (1,2,3)"
   ]
  },
  {
   "cell_type": "code",
   "execution_count": 110,
   "id": "c0a60240",
   "metadata": {},
   "outputs": [
    {
     "name": "stdout",
     "output_type": "stream",
     "text": [
      "문\n",
      "자\n",
      "열\n",
      "도\n",
      " \n",
      "시\n",
      "퀀\n",
      "스\n",
      " \n",
      "객\n",
      "체\n",
      "라\n",
      "서\n",
      " \n",
      "반\n",
      "복\n",
      "문\n",
      "에\n",
      "서\n",
      " \n",
      "사\n",
      "용\n",
      "이\n",
      " \n",
      "가\n",
      "능\n",
      "하\n",
      "다\n"
     ]
    }
   ],
   "source": [
    "for i in \"문자열도 시퀀스 객체라서 반복문에서 사용이 가능하다\":\n",
    "    print(i)"
   ]
  },
  {
   "cell_type": "code",
   "execution_count": 111,
   "id": "42a78c4c",
   "metadata": {},
   "outputs": [
    {
     "name": "stdout",
     "output_type": "stream",
     "text": [
      "1\n",
      "2\n",
      "3\n",
      "4\n",
      "5\n"
     ]
    }
   ],
   "source": [
    "for i in [1,2,3,4,5]:\n",
    "    print(i)"
   ]
  },
  {
   "cell_type": "code",
   "execution_count": 113,
   "id": "de56a669",
   "metadata": {},
   "outputs": [
    {
     "name": "stdout",
     "output_type": "stream",
     "text": [
      "1\n",
      "2\n",
      "3\n",
      "4\n",
      "5\n"
     ]
    }
   ],
   "source": [
    "for i in (1,2,3,4,5):\n",
    "    print(i)"
   ]
  },
  {
   "cell_type": "code",
   "execution_count": null,
   "id": "04594b66",
   "metadata": {},
   "outputs": [],
   "source": []
  }
 ],
 "metadata": {
  "kernelspec": {
   "display_name": "Python 3 (ipykernel)",
   "language": "python",
   "name": "python3"
  },
  "language_info": {
   "codemirror_mode": {
    "name": "ipython",
    "version": 3
   },
   "file_extension": ".py",
   "mimetype": "text/x-python",
   "name": "python",
   "nbconvert_exporter": "python",
   "pygments_lexer": "ipython3",
   "version": "3.9.23"
  }
 },
 "nbformat": 4,
 "nbformat_minor": 5
}
