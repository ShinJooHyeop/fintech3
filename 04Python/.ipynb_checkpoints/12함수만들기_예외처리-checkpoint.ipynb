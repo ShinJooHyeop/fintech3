{
 "cells": [
  {
   "cell_type": "markdown",
   "id": "c2d7bb7e",
   "metadata": {},
   "source": [
    "# 함수 만들기\n",
    "* print(), split() , input() => 함수\n",
    "* 함수의 괄호 안에 값을 넣으면 출력을 해주거나 입력을 받거나 변형시키거나 하는 작업을 해줌\n",
    "* function => 기능 => 만들어 놓은 도구\n",
    "* 자주 사용하는 기능을 미리 만들어서 **반복 재사용**을 할 수 있게 만든 것"
   ]
  },
  {
   "cell_type": "code",
   "execution_count": 2,
   "id": "dfaf7661",
   "metadata": {},
   "outputs": [
    {
     "data": {
      "text/plain": [
       "[10, 20, 30, 40]"
      ]
     },
     "execution_count": 2,
     "metadata": {},
     "output_type": "execute_result"
    }
   ],
   "source": [
    "# 리스트의 자료에 10을 곱해서 다시 리스트로 출력하세요.\n",
    "# result = [10,20,30,40]\n",
    "l = [1,2,3,4]\n",
    "result = []\n",
    "for i in l:\n",
    "    result.append(i*10)\n",
    "result"
   ]
  },
  {
   "cell_type": "code",
   "execution_count": 3,
   "id": "4c54a010",
   "metadata": {},
   "outputs": [
    {
     "data": {
      "text/plain": [
       "[40, 50, 60, 70]"
      ]
     },
     "execution_count": 3,
     "metadata": {},
     "output_type": "execute_result"
    }
   ],
   "source": [
    "l = [4,5,6,7]\n",
    "result = []\n",
    "for i in l:\n",
    "    result.append(i*10)\n",
    "result"
   ]
  },
  {
   "cell_type": "code",
   "execution_count": 8,
   "id": "06a99006",
   "metadata": {},
   "outputs": [],
   "source": [
    "l2 = [4,5,6,7]"
   ]
  },
  {
   "cell_type": "code",
   "execution_count": 9,
   "id": "f9b8a107",
   "metadata": {},
   "outputs": [],
   "source": [
    "# 자료를 넣으면 10 곱해서 출력하는 함수\n",
    "def mul10(num):\n",
    "    result_in_func = []\n",
    "    for i in num:\n",
    "        result_in_func.append(i*10)\n",
    "    print(result_in_func)\n",
    "    return result_in_func"
   ]
  },
  {
   "cell_type": "code",
   "execution_count": 11,
   "id": "76f83310",
   "metadata": {},
   "outputs": [
    {
     "name": "stdout",
     "output_type": "stream",
     "text": [
      "[40, 50, 60, 70]\n"
     ]
    },
    {
     "data": {
      "text/plain": [
       "[40, 50, 60, 70]"
      ]
     },
     "execution_count": 11,
     "metadata": {},
     "output_type": "execute_result"
    }
   ],
   "source": [
    "mul10(l2)"
   ]
  },
  {
   "cell_type": "markdown",
   "id": "b17a1da8",
   "metadata": {},
   "source": [
    "# 함수 만드는 법\n",
    "def 함수이름(변수명1,변수명2,...):\n",
    "____실행코드<br>\n",
    "____return 반환할 값(결과)"
   ]
  },
  {
   "cell_type": "code",
   "execution_count": 12,
   "id": "6be8511c",
   "metadata": {},
   "outputs": [],
   "source": [
    "def hello():\n",
    "    print('Hello python 함수 만들기')"
   ]
  },
  {
   "cell_type": "code",
   "execution_count": 13,
   "id": "09d3a510",
   "metadata": {},
   "outputs": [
    {
     "name": "stdout",
     "output_type": "stream",
     "text": [
      "Hello python 함수 만들기\n"
     ]
    }
   ],
   "source": [
    "hello()"
   ]
  },
  {
   "cell_type": "markdown",
   "id": "7f8aba80",
   "metadata": {},
   "source": [
    "# 함수 호출 순서\n",
    "* 함수는 호출하기 전에 반드시 먼저 정의되어야 하고(만들어야함)\n",
    "* 함수 정의가 함수 실행보다 위에 있어야 한다."
   ]
  },
  {
   "cell_type": "code",
   "execution_count": 16,
   "id": "53144ff2",
   "metadata": {},
   "outputs": [
    {
     "name": "stdout",
     "output_type": "stream",
     "text": [
      "hello2 파이썬 함수 만들기\n"
     ]
    }
   ],
   "source": [
    "hello2()"
   ]
  },
  {
   "cell_type": "code",
   "execution_count": 15,
   "id": "415579f7",
   "metadata": {},
   "outputs": [],
   "source": [
    "def hello2():\n",
    "    print(\"hello2 파이썬 함수 만들기\")"
   ]
  },
  {
   "cell_type": "markdown",
   "id": "4a188d4f",
   "metadata": {},
   "source": [
    "# 함수의 매개변수\n",
    "* 함수 () 안에 받는 값을 저장하는 함수\n",
    "* ()안에 값을 받아서 **함수 내에서 처리할 때 사용**\n",
    "* 함수에서 사용하는 매개변수는 함수 외부에서 사용 불가"
   ]
  },
  {
   "cell_type": "code",
   "execution_count": 17,
   "id": "1d13ecc7",
   "metadata": {},
   "outputs": [],
   "source": [
    "# 매개 변수1개짜리 함수\n",
    "# 원의 넓이를 구하는 함수 - 반지름 * 반지름 * 3.14\n",
    "def circle(c):\n",
    "    print(f\"반지름의 길이가 {c}인 원의 넓이는: {c*c*3.14}입니다.\")"
   ]
  },
  {
   "cell_type": "code",
   "execution_count": 19,
   "id": "2be9d859",
   "metadata": {},
   "outputs": [
    {
     "name": "stdout",
     "output_type": "stream",
     "text": [
      "반지름의 길이가 10인 원의 넓이는: 314.0입니다.\n"
     ]
    }
   ],
   "source": [
    "circle(10)"
   ]
  },
  {
   "cell_type": "markdown",
   "id": "d32aae0a",
   "metadata": {},
   "source": [
    "* 매개 변수 2개짜리 함수\n",
    "* 2개 자료를 가지고 사칙연산 하는 함수"
   ]
  },
  {
   "cell_type": "code",
   "execution_count": 20,
   "id": "da5d94f2",
   "metadata": {},
   "outputs": [],
   "source": [
    "def add(a,b):\n",
    "     return a + b"
   ]
  },
  {
   "cell_type": "code",
   "execution_count": 21,
   "id": "e1c03943",
   "metadata": {},
   "outputs": [
    {
     "data": {
      "text/plain": [
       "8"
      ]
     },
     "execution_count": 21,
     "metadata": {},
     "output_type": "execute_result"
    }
   ],
   "source": [
    "add(3,5)"
   ]
  },
  {
   "cell_type": "code",
   "execution_count": 25,
   "id": "6156bacc",
   "metadata": {},
   "outputs": [
    {
     "ename": "TypeError",
     "evalue": "add() missing 1 required positional argument: 'b'",
     "output_type": "error",
     "traceback": [
      "\u001b[1;31m---------------------------------------------------------------------------\u001b[0m",
      "\u001b[1;31mTypeError\u001b[0m                                 Traceback (most recent call last)",
      "Cell \u001b[1;32mIn[25], line 3\u001b[0m\n\u001b[0;32m      1\u001b[0m \u001b[38;5;66;03m# 매게변수가 2개인데 자료를 1개만 넣으면? 에러\u001b[39;00m\n\u001b[0;32m      2\u001b[0m \u001b[38;5;66;03m# 매개변수와 입력자료의 개수는 동일해야 한다.\u001b[39;00m\n\u001b[1;32m----> 3\u001b[0m \u001b[43madd\u001b[49m\u001b[43m(\u001b[49m\u001b[38;5;241;43m3\u001b[39;49m\u001b[43m)\u001b[49m\n",
      "\u001b[1;31mTypeError\u001b[0m: add() missing 1 required positional argument: 'b'"
     ]
    }
   ],
   "source": [
    "# 매게변수가 2개인데 자료를 1개만 넣으면? 에러\n",
    "# 매개변수와 입력자료의 개수는 동일해야 한다.\n",
    "add(3)"
   ]
  },
  {
   "cell_type": "markdown",
   "id": "0d6ce1f3",
   "metadata": {},
   "source": [
    "# 함수값 반환 return\n",
    "* 함수에 return이 없으면 함수가 실행된 후 반환되는 값은 None\n",
    "* 함수 살행시 print가 되는 내용은 단지 화면상에 출력했을 뿐이다."
   ]
  },
  {
   "cell_type": "code",
   "execution_count": 26,
   "id": "e4293e6e",
   "metadata": {},
   "outputs": [],
   "source": [
    "def add_noreturn(a,b,c):\n",
    "     print(a + b + c)"
   ]
  },
  {
   "cell_type": "code",
   "execution_count": 27,
   "id": "7be656e9",
   "metadata": {},
   "outputs": [],
   "source": [
    "def add_return(a,b,c):\n",
    "     return a + b + c"
   ]
  },
  {
   "cell_type": "code",
   "execution_count": 28,
   "id": "71c367b3",
   "metadata": {},
   "outputs": [
    {
     "name": "stdout",
     "output_type": "stream",
     "text": [
      "60\n"
     ]
    }
   ],
   "source": [
    "add_noreturn(10,20,30)"
   ]
  },
  {
   "cell_type": "code",
   "execution_count": 29,
   "id": "1c73784f",
   "metadata": {},
   "outputs": [
    {
     "data": {
      "text/plain": [
       "60"
      ]
     },
     "execution_count": 29,
     "metadata": {},
     "output_type": "execute_result"
    }
   ],
   "source": [
    "add_return(10,20,30)"
   ]
  },
  {
   "cell_type": "code",
   "execution_count": 32,
   "id": "993ed17c",
   "metadata": {},
   "outputs": [
    {
     "name": "stdout",
     "output_type": "stream",
     "text": [
      "60\n",
      "None\n"
     ]
    }
   ],
   "source": [
    "result1 = add_noreturn(10,20,30)\n",
    "print(result1)"
   ]
  },
  {
   "cell_type": "code",
   "execution_count": 35,
   "id": "4c35294a",
   "metadata": {},
   "outputs": [
    {
     "name": "stdout",
     "output_type": "stream",
     "text": [
      "60\n"
     ]
    }
   ],
   "source": [
    "result2 = add_return(10,20,30)\n",
    "print(result2)"
   ]
  },
  {
   "cell_type": "markdown",
   "id": "2b588710",
   "metadata": {},
   "source": [
    "# 리턴 값이 여러개인 함수"
   ]
  },
  {
   "cell_type": "code",
   "execution_count": 36,
   "id": "8aa7e5ce",
   "metadata": {},
   "outputs": [],
   "source": [
    "def add_sub(a,b):\n",
    "    add = a+b\n",
    "    sub = a-b\n",
    "    return add,sub"
   ]
  },
  {
   "cell_type": "code",
   "execution_count": 40,
   "id": "ed0e1cd0",
   "metadata": {},
   "outputs": [
    {
     "name": "stdout",
     "output_type": "stream",
     "text": [
      "(30, -10) <class 'tuple'>\n"
     ]
    }
   ],
   "source": [
    "result3 = add_sub(10,20)\n",
    "print(result3,type(result3))"
   ]
  },
  {
   "cell_type": "code",
   "execution_count": 42,
   "id": "f5aa5537",
   "metadata": {},
   "outputs": [
    {
     "name": "stdout",
     "output_type": "stream",
     "text": [
      "30 -10 <class 'int'> <class 'int'>\n"
     ]
    }
   ],
   "source": [
    "result3_a,result3_s = add_sub(10,20)\n",
    "print(result3_a,result3_s,type(result3_a),type(result3_s))"
   ]
  },
  {
   "cell_type": "markdown",
   "id": "3525a285",
   "metadata": {},
   "source": [
    "* num_maker - 정방향, 역방향 리스트가 출력되는 함수\n",
    "* 3개의 숫자를 입력받아서 숫자 리스트를 만들고, 오름차순 정렬 반환\n",
    "* 만들어진 리스트에 +3을 할 결과를 리스트로 만들고, 내림차순 정렬 반환\n",
    "* range(a,b,c)"
   ]
  },
  {
   "cell_type": "code",
   "execution_count": 45,
   "id": "d6a3f265",
   "metadata": {},
   "outputs": [],
   "source": [
    "def num_maker(start,end,step):\n",
    "    list_result = list(range(start,end+1,step))\n",
    "    reversed_result = []\n",
    "    for i in list_result:\n",
    "         reversed_result.append(i+3)\n",
    "    return list_result,reversed_result[::-1]"
   ]
  },
  {
   "cell_type": "code",
   "execution_count": 46,
   "id": "d22d6b8c",
   "metadata": {},
   "outputs": [
    {
     "data": {
      "text/plain": [
       "([1, 2, 3, 4, 5, 6, 7, 8, 9, 10], [13, 12, 11, 10, 9, 8, 7, 6, 5, 4])"
      ]
     },
     "execution_count": 46,
     "metadata": {},
     "output_type": "execute_result"
    }
   ],
   "source": [
    "num_maker(1,10,1)"
   ]
  },
  {
   "cell_type": "code",
   "execution_count": 47,
   "id": "dcaf1097",
   "metadata": {},
   "outputs": [],
   "source": [
    "def num_maker(start,end,step):\n",
    "    list_result = list(range(start,end+1,step))\n",
    "    reversed_result = [i+3 for i in list_result]\n",
    "    return list_result,reversed_result[::-1]"
   ]
  },
  {
   "cell_type": "code",
   "execution_count": 48,
   "id": "6dfc33a5",
   "metadata": {},
   "outputs": [
    {
     "data": {
      "text/plain": [
       "([1, 2, 3, 4, 5, 6, 7, 8, 9, 10], [13, 12, 11, 10, 9, 8, 7, 6, 5, 4])"
      ]
     },
     "execution_count": 48,
     "metadata": {},
     "output_type": "execute_result"
    }
   ],
   "source": [
    "num_maker(1,10,1)"
   ]
  },
  {
   "cell_type": "markdown",
   "id": "3443f856",
   "metadata": {},
   "source": [
    "# 중간에 함수를 종료기키기 위한 용도의  return \n",
    "* return을 반복문의 break처럼 활용 가능\n",
    "* 함수 내에서 return이 실행되면 함수 종료"
   ]
  },
  {
   "cell_type": "markdown",
   "id": "7776c323",
   "metadata": {},
   "source": [
    "* 1-100까지 숫자 중에서 짝수만 더해서 출력하시오.\n",
    "* 단, 숫자가 50이상이 되면 멈추고 결과를 리턴하세요.\n",
    "* 중간에 더해지는 과정도 출력하세요.\n",
    "* even()를 작성하세요."
   ]
  },
  {
   "cell_type": "code",
   "execution_count": 88,
   "id": "ff8ee382",
   "metadata": {},
   "outputs": [],
   "source": [
    "num = list(range(1,101))"
   ]
  },
  {
   "cell_type": "code",
   "execution_count": 89,
   "id": "efeca378",
   "metadata": {},
   "outputs": [
    {
     "data": {
      "text/plain": [
       "[1,\n",
       " 2,\n",
       " 3,\n",
       " 4,\n",
       " 5,\n",
       " 6,\n",
       " 7,\n",
       " 8,\n",
       " 9,\n",
       " 10,\n",
       " 11,\n",
       " 12,\n",
       " 13,\n",
       " 14,\n",
       " 15,\n",
       " 16,\n",
       " 17,\n",
       " 18,\n",
       " 19,\n",
       " 20,\n",
       " 21,\n",
       " 22,\n",
       " 23,\n",
       " 24,\n",
       " 25,\n",
       " 26,\n",
       " 27,\n",
       " 28,\n",
       " 29,\n",
       " 30,\n",
       " 31,\n",
       " 32,\n",
       " 33,\n",
       " 34,\n",
       " 35,\n",
       " 36,\n",
       " 37,\n",
       " 38,\n",
       " 39,\n",
       " 40,\n",
       " 41,\n",
       " 42,\n",
       " 43,\n",
       " 44,\n",
       " 45,\n",
       " 46,\n",
       " 47,\n",
       " 48,\n",
       " 49,\n",
       " 50,\n",
       " 51,\n",
       " 52,\n",
       " 53,\n",
       " 54,\n",
       " 55,\n",
       " 56,\n",
       " 57,\n",
       " 58,\n",
       " 59,\n",
       " 60,\n",
       " 61,\n",
       " 62,\n",
       " 63,\n",
       " 64,\n",
       " 65,\n",
       " 66,\n",
       " 67,\n",
       " 68,\n",
       " 69,\n",
       " 70,\n",
       " 71,\n",
       " 72,\n",
       " 73,\n",
       " 74,\n",
       " 75,\n",
       " 76,\n",
       " 77,\n",
       " 78,\n",
       " 79,\n",
       " 80,\n",
       " 81,\n",
       " 82,\n",
       " 83,\n",
       " 84,\n",
       " 85,\n",
       " 86,\n",
       " 87,\n",
       " 88,\n",
       " 89,\n",
       " 90,\n",
       " 91,\n",
       " 92,\n",
       " 93,\n",
       " 94,\n",
       " 95,\n",
       " 96,\n",
       " 97,\n",
       " 98,\n",
       " 99,\n",
       " 100]"
      ]
     },
     "execution_count": 89,
     "metadata": {},
     "output_type": "execute_result"
    }
   ],
   "source": [
    "num"
   ]
  },
  {
   "cell_type": "code",
   "execution_count": 103,
   "id": "4154c54a",
   "metadata": {},
   "outputs": [
    {
     "name": "stdout",
     "output_type": "stream",
     "text": [
      "0\n"
     ]
    }
   ],
   "source": [
    "def even(num):\n",
    "    hap = 0\n",
    "    for i in num:\n",
    "        if i >= 50:\n",
    "            break\n",
    "        else:\n",
    "            if i%2 == 0:\n",
    "                hap += i\n",
    "                print(hap, end = ' ')\n",
    "print(hap)"
   ]
  },
  {
   "cell_type": "code",
   "execution_count": 96,
   "id": "6682852d",
   "metadata": {},
   "outputs": [
    {
     "name": "stdout",
     "output_type": "stream",
     "text": [
      "2 6 12 20 30 42 56 72 90 110 132 156 182 210 240 272 306 342 380 420 462 506 552 600 "
     ]
    }
   ],
   "source": [
    "even(num)"
   ]
  },
  {
   "cell_type": "code",
   "execution_count": 76,
   "id": "3e83f00d",
   "metadata": {},
   "outputs": [],
   "source": [
    "def even(num):\n",
    "    hap = 0\n",
    "    for i in num:\n",
    "        if i >= 50:\n",
    "            break\n",
    "        else:\n",
    "            if i%2 == 0:\n",
    "                hap += i\n",
    "                print(hap, end = ' ')\n",
    "    return hap"
   ]
  },
  {
   "cell_type": "code",
   "execution_count": 92,
   "id": "eddc640c",
   "metadata": {},
   "outputs": [],
   "source": [
    "def even2(num):\n",
    "    hap = 0\n",
    "    for i in num:\n",
    "        if i >= 50:\n",
    "            return hap\n",
    "        else:\n",
    "            if i%2 == 0:\n",
    "                hap += i\n",
    "                print(hap, end = ' ')"
   ]
  },
  {
   "cell_type": "code",
   "execution_count": 93,
   "id": "3ce88637",
   "metadata": {},
   "outputs": [
    {
     "name": "stdout",
     "output_type": "stream",
     "text": [
      "2 6 12 20 30 42 56 72 90 110 132 156 182 210 240 272 306 342 380 420 462 506 552 600 "
     ]
    },
    {
     "data": {
      "text/plain": [
       "600"
      ]
     },
     "execution_count": 93,
     "metadata": {},
     "output_type": "execute_result"
    }
   ],
   "source": [
    "even2(num)"
   ]
  },
  {
   "cell_type": "markdown",
   "id": "8d7531be",
   "metadata": {},
   "source": [
    "* 점수 입력 받아서 A학점 - F학점 출력"
   ]
  },
  {
   "cell_type": "code",
   "execution_count": 104,
   "id": "39425cc2",
   "metadata": {},
   "outputs": [],
   "source": [
    "def student_grade(score):\n",
    "    result = \"\"\n",
    "    if 91 <= score <= 100:\n",
    "        result = \"A학점\"\n",
    "    elif 81 <= score <= 90:\n",
    "        result = \"B학점\"\n",
    "    elif 71 <= score <= 80:\n",
    "        result = \"C학점\"\n",
    "    elif 61 <= score <= 70:\n",
    "        result = \"D학점\"\n",
    "    elif  score <= 60:\n",
    "        result = \"F학점\"\n",
    "    return result"
   ]
  },
  {
   "cell_type": "code",
   "execution_count": 105,
   "id": "1dc70f04",
   "metadata": {},
   "outputs": [
    {
     "name": "stdout",
     "output_type": "stream",
     "text": [
      "점수를 입력해주세요80\n"
     ]
    },
    {
     "data": {
      "text/plain": [
       "'C학점'"
      ]
     },
     "execution_count": 105,
     "metadata": {},
     "output_type": "execute_result"
    }
   ],
   "source": [
    "score = int(input('점수를 입력해주세요'))\n",
    "student_grade(score)"
   ]
  },
  {
   "cell_type": "code",
   "execution_count": 107,
   "id": "b6bac896",
   "metadata": {},
   "outputs": [],
   "source": [
    "def student_grade2(score):\n",
    "    if 91 <= score <= 100:\n",
    "        return  \"A학점\"\n",
    "    elif 81 <= score <= 90:\n",
    "        return  \"B학점\"\n",
    "    elif 71 <= score <= 80:\n",
    "        return  \"C학점\"\n",
    "    elif 61 <= score <= 70:\n",
    "        return  \"D학점\"\n",
    "    elif  score <= 60:\n",
    "        return  \"F학점\""
   ]
  },
  {
   "cell_type": "code",
   "execution_count": 108,
   "id": "4f44f18d",
   "metadata": {},
   "outputs": [
    {
     "name": "stdout",
     "output_type": "stream",
     "text": [
      "점수를 입력해주세요80\n"
     ]
    },
    {
     "data": {
      "text/plain": [
       "'C학점'"
      ]
     },
     "execution_count": 108,
     "metadata": {},
     "output_type": "execute_result"
    }
   ],
   "source": [
    "score = int(input('점수를 입력해주세요'))\n",
    "student_grade2(score)"
   ]
  },
  {
   "cell_type": "markdown",
   "id": "5efd1130",
   "metadata": {},
   "source": [
    "# 인수: 함수에 집어넣는 자료\n",
    "## 1) 위치인수(positional argument)\n",
    "* 위치가 고정된 인수\n",
    "* 순서가 바뀌거나 개수가 달라지면 오류, 엉뚱한 값이 나옴\n",
    "\n",
    "## 2) 가변위치인수(args, Variable-length Arguments)\n",
    "* 여러 개의 자료를 넣을 수 있는 인수 , 제한 없음\n",
    "* print(자료1,자료2,자료3)  -> 예시\n",
    "\n",
    "## 3) 키워드 인수(keyword arguments)\n",
    "* 매개변수에 이름을 명시해서 인수를 넣어주는 것\n",
    "* sep=' ', end=' '\n",
    "* 위치가 변경되어도 상관 없음\n",
    "\n",
    "## 4) 가변 키원드 인수(kwargs, Veriable-length keyword arguments)\n",
    "* 키워드 인수를 숫자 제한 없이 넣는 경우 사용\n",
    "* 함수의 매개변수 넣는 곳에서 가장 마지막에 위치해야 한다."
   ]
  },
  {
   "cell_type": "code",
   "execution_count": 110,
   "id": "53130327",
   "metadata": {},
   "outputs": [
    {
     "name": "stdout",
     "output_type": "stream",
     "text": [
      "1, 2, 3 1 2 3"
     ]
    }
   ],
   "source": [
    "print(1,2,3, end=' ',sep=', ')\n",
    "print(1,2,3, end='')"
   ]
  },
  {
   "cell_type": "markdown",
   "id": "4acdac25",
   "metadata": {},
   "source": [
    "# 위치인수(positional aarguments)\n",
    "* 넣는 순서와 위치를 일치시켜야만 함"
   ]
  },
  {
   "cell_type": "code",
   "execution_count": 111,
   "id": "b40f5867",
   "metadata": {},
   "outputs": [],
   "source": [
    "def print_nums(a,b,c):\n",
    "    print(a,b,c)"
   ]
  },
  {
   "cell_type": "code",
   "execution_count": 112,
   "id": "d035f93d",
   "metadata": {},
   "outputs": [
    {
     "ename": "TypeError",
     "evalue": "print_nums() missing 1 required positional argument: 'c'",
     "output_type": "error",
     "traceback": [
      "\u001b[1;31m---------------------------------------------------------------------------\u001b[0m",
      "\u001b[1;31mTypeError\u001b[0m                                 Traceback (most recent call last)",
      "Cell \u001b[1;32mIn[112], line 1\u001b[0m\n\u001b[1;32m----> 1\u001b[0m \u001b[43mprint_nums\u001b[49m\u001b[43m(\u001b[49m\u001b[38;5;241;43m1\u001b[39;49m\u001b[43m,\u001b[49m\u001b[38;5;241;43m5\u001b[39;49m\u001b[43m)\u001b[49m\n",
      "\u001b[1;31mTypeError\u001b[0m: print_nums() missing 1 required positional argument: 'c'"
     ]
    }
   ],
   "source": [
    "# 매개변수가 3개라서 위치인수를 3개 주어야 하지만 2개만 주어서 오류\n",
    "print_nums(1,5)"
   ]
  },
  {
   "cell_type": "code",
   "execution_count": 113,
   "id": "6a12e068",
   "metadata": {},
   "outputs": [
    {
     "ename": "TypeError",
     "evalue": "print_nums() takes 3 positional arguments but 4 were given",
     "output_type": "error",
     "traceback": [
      "\u001b[1;31m---------------------------------------------------------------------------\u001b[0m",
      "\u001b[1;31mTypeError\u001b[0m                                 Traceback (most recent call last)",
      "Cell \u001b[1;32mIn[113], line 2\u001b[0m\n\u001b[0;32m      1\u001b[0m \u001b[38;5;66;03m# 매개변수가 3개라서 위치인수를 3개 주어야 하지만 2개만 주어서 오류\u001b[39;00m\n\u001b[1;32m----> 2\u001b[0m \u001b[43mprint_nums\u001b[49m\u001b[43m(\u001b[49m\u001b[38;5;241;43m1\u001b[39;49m\u001b[43m,\u001b[49m\u001b[38;5;241;43m5\u001b[39;49m\u001b[43m,\u001b[49m\u001b[38;5;241;43m6\u001b[39;49m\u001b[43m,\u001b[49m\u001b[38;5;241;43m7\u001b[39;49m\u001b[43m)\u001b[49m\n",
      "\u001b[1;31mTypeError\u001b[0m: print_nums() takes 3 positional arguments but 4 were given"
     ]
    }
   ],
   "source": [
    "# 매개변수가 3개라서 위치인수를 3개 주어야 하지만 4개만 주어서 오류\n",
    "print_nums(1,5,6,7)"
   ]
  },
  {
   "cell_type": "code",
   "execution_count": 114,
   "id": "79a26864",
   "metadata": {},
   "outputs": [],
   "source": [
    "l1 = [1,2,3]"
   ]
  },
  {
   "cell_type": "code",
   "execution_count": 115,
   "id": "9993c2ef",
   "metadata": {},
   "outputs": [
    {
     "ename": "TypeError",
     "evalue": "print_nums() missing 2 required positional arguments: 'b' and 'c'",
     "output_type": "error",
     "traceback": [
      "\u001b[1;31m---------------------------------------------------------------------------\u001b[0m",
      "\u001b[1;31mTypeError\u001b[0m                                 Traceback (most recent call last)",
      "Cell \u001b[1;32mIn[115], line 1\u001b[0m\n\u001b[1;32m----> 1\u001b[0m \u001b[43mprint_nums\u001b[49m\u001b[43m(\u001b[49m\u001b[43ml1\u001b[49m\u001b[43m)\u001b[49m\n",
      "\u001b[1;31mTypeError\u001b[0m: print_nums() missing 2 required positional arguments: 'b' and 'c'"
     ]
    }
   ],
   "source": [
    "print_nums(l1)"
   ]
  },
  {
   "cell_type": "markdown",
   "id": "ce95252a",
   "metadata": {},
   "source": [
    "# 함수 안에서 리스트를 반복문 없이 풀기\n",
    "# *list,*tuple"
   ]
  },
  {
   "cell_type": "code",
   "execution_count": 116,
   "id": "08fc286b",
   "metadata": {},
   "outputs": [
    {
     "name": "stdout",
     "output_type": "stream",
     "text": [
      "1 2 3\n"
     ]
    }
   ],
   "source": [
    "print_nums(*l1)"
   ]
  },
  {
   "cell_type": "markdown",
   "id": "ce0cbc86",
   "metadata": {},
   "source": [
    "# 가변 위치 인수(args, Variable-length Arguments)\n",
    "* 자료의 개수를 제한 없이 넣을 수 있는 인수\n",
    "* 함수안의 매개변수 자리에 *aargs 라고 만들어 줌\n",
    "* args는 관용적 표현, 변수명은 아무거나주고 앞에 *만 붙이면됨\n",
    "* 가변위치인수는 자료를 tuple로 변환해서 받는다."
   ]
  },
  {
   "cell_type": "code",
   "execution_count": 123,
   "id": "696200f8",
   "metadata": {},
   "outputs": [],
   "source": [
    "def print_nums2(*nums):\n",
    "    print(nums)\n",
    "    return(nums)"
   ]
  },
  {
   "cell_type": "code",
   "execution_count": 124,
   "id": "2cd2c4f3",
   "metadata": {},
   "outputs": [
    {
     "name": "stdout",
     "output_type": "stream",
     "text": [
      "(1,)\n",
      "(1,) <class 'tuple'>\n"
     ]
    }
   ],
   "source": [
    "# 튜플 형식\n",
    "result = print_nums2(1)\n",
    "print(result,type(result))"
   ]
  },
  {
   "cell_type": "markdown",
   "id": "3c4396c8",
   "metadata": {},
   "source": [
    "* 여러개의 숫자를 입력하면 총합을 구해주는 함수"
   ]
  },
  {
   "cell_type": "code",
   "execution_count": 126,
   "id": "1f8e2490",
   "metadata": {},
   "outputs": [],
   "source": [
    "def my_sum(*args):\n",
    "    hap = 0\n",
    "    for i in args:\n",
    "        hap += i\n",
    "    return hap"
   ]
  },
  {
   "cell_type": "code",
   "execution_count": 127,
   "id": "5d75893b",
   "metadata": {
    "scrolled": true
   },
   "outputs": [
    {
     "data": {
      "text/plain": [
       "55"
      ]
     },
     "execution_count": 127,
     "metadata": {},
     "output_type": "execute_result"
    }
   ],
   "source": [
    "my_sum(1,2,3,4,5,6,7,8,9,10)"
   ]
  },
  {
   "cell_type": "code",
   "execution_count": 130,
   "id": "fed00a2a",
   "metadata": {},
   "outputs": [],
   "source": [
    "h= list(range(1,101))"
   ]
  },
  {
   "cell_type": "code",
   "execution_count": 128,
   "id": "08db6449",
   "metadata": {
    "scrolled": true
   },
   "outputs": [
    {
     "data": {
      "text/plain": [
       "1275"
      ]
     },
     "execution_count": 128,
     "metadata": {},
     "output_type": "execute_result"
    }
   ],
   "source": [
    "my_sum(*(range(1,51)))"
   ]
  },
  {
   "cell_type": "code",
   "execution_count": 134,
   "id": "b6fd5320",
   "metadata": {},
   "outputs": [
    {
     "data": {
      "text/plain": [
       "5050"
      ]
     },
     "execution_count": 134,
     "metadata": {},
     "output_type": "execute_result"
    }
   ],
   "source": [
    "my_sum(*h)"
   ]
  },
  {
   "cell_type": "code",
   "execution_count": 135,
   "id": "60c03bca",
   "metadata": {},
   "outputs": [],
   "source": [
    "def my_sum(*args):\n",
    "    return sum(args)"
   ]
  },
  {
   "cell_type": "code",
   "execution_count": 136,
   "id": "0f0c0a7d",
   "metadata": {},
   "outputs": [
    {
     "data": {
      "text/plain": [
       "5050"
      ]
     },
     "execution_count": 136,
     "metadata": {},
     "output_type": "execute_result"
    }
   ],
   "source": [
    "my_sum(*h)"
   ]
  },
  {
   "cell_type": "markdown",
   "id": "5351d7c4",
   "metadata": {},
   "source": [
    "# 위치인수와 가변인수 동시에 받기\n",
    "* 위치인수와 가변인수를 동시에 받을 때는 반드시 **위치인수**가 먼저 와야 한다.\n",
    "* def add(a, *args): OK\n",
    "* def add(*args, a): X"
   ]
  },
  {
   "cell_type": "code",
   "execution_count": 137,
   "id": "4eb2ee58",
   "metadata": {},
   "outputs": [],
   "source": [
    "# 정수 1개와 리스트를 입력받아 리스트의 요소에 정수를 곱하는 함수\n",
    "def muls(*args, a):\n",
    "    print(args,a)\n",
    "    result = []\n",
    "    for num in args:\n",
    "        result.append(args*a)\n",
    "    return result"
   ]
  },
  {
   "cell_type": "code",
   "execution_count": 138,
   "id": "9637d5b0",
   "metadata": {},
   "outputs": [
    {
     "ename": "TypeError",
     "evalue": "muls() missing 1 required keyword-only argument: 'a'",
     "output_type": "error",
     "traceback": [
      "\u001b[1;31m---------------------------------------------------------------------------\u001b[0m",
      "\u001b[1;31mTypeError\u001b[0m                                 Traceback (most recent call last)",
      "Cell \u001b[1;32mIn[138], line 1\u001b[0m\n\u001b[1;32m----> 1\u001b[0m \u001b[43mmuls\u001b[49m\u001b[43m(\u001b[49m\u001b[38;5;241;43m*\u001b[39;49m\u001b[43mh\u001b[49m\u001b[43m,\u001b[49m\u001b[43m \u001b[49m\u001b[38;5;241;43m2\u001b[39;49m\u001b[43m)\u001b[49m\n",
      "\u001b[1;31mTypeError\u001b[0m: muls() missing 1 required keyword-only argument: 'a'"
     ]
    }
   ],
   "source": [
    "muls(*h, 2)"
   ]
  },
  {
   "cell_type": "code",
   "execution_count": 145,
   "id": "d123578b",
   "metadata": {},
   "outputs": [],
   "source": [
    "# \n",
    "def muls(a, *args):\n",
    "    print(a, args)\n",
    "    result = []\n",
    "    for num in args:\n",
    "        result.append(num*a)\n",
    "    return result"
   ]
  },
  {
   "cell_type": "code",
   "execution_count": 146,
   "id": "3f977826",
   "metadata": {
    "scrolled": true
   },
   "outputs": [
    {
     "name": "stdout",
     "output_type": "stream",
     "text": [
      "1 (2, 3, 4, 5, 6, 7, 8, 9, 10, 11, 12, 13, 14, 15, 16, 17, 18, 19, 20, 21, 22, 23, 24, 25, 26, 27, 28, 29, 30, 31, 32, 33, 34, 35, 36, 37, 38, 39, 40, 41, 42, 43, 44, 45, 46, 47, 48, 49, 50, 51, 52, 53, 54, 55, 56, 57, 58, 59, 60, 61, 62, 63, 64, 65, 66, 67, 68, 69, 70, 71, 72, 73, 74, 75, 76, 77, 78, 79, 80, 81, 82, 83, 84, 85, 86, 87, 88, 89, 90, 91, 92, 93, 94, 95, 96, 97, 98, 99, 100, 2)\n"
     ]
    },
    {
     "data": {
      "text/plain": [
       "[2,\n",
       " 3,\n",
       " 4,\n",
       " 5,\n",
       " 6,\n",
       " 7,\n",
       " 8,\n",
       " 9,\n",
       " 10,\n",
       " 11,\n",
       " 12,\n",
       " 13,\n",
       " 14,\n",
       " 15,\n",
       " 16,\n",
       " 17,\n",
       " 18,\n",
       " 19,\n",
       " 20,\n",
       " 21,\n",
       " 22,\n",
       " 23,\n",
       " 24,\n",
       " 25,\n",
       " 26,\n",
       " 27,\n",
       " 28,\n",
       " 29,\n",
       " 30,\n",
       " 31,\n",
       " 32,\n",
       " 33,\n",
       " 34,\n",
       " 35,\n",
       " 36,\n",
       " 37,\n",
       " 38,\n",
       " 39,\n",
       " 40,\n",
       " 41,\n",
       " 42,\n",
       " 43,\n",
       " 44,\n",
       " 45,\n",
       " 46,\n",
       " 47,\n",
       " 48,\n",
       " 49,\n",
       " 50,\n",
       " 51,\n",
       " 52,\n",
       " 53,\n",
       " 54,\n",
       " 55,\n",
       " 56,\n",
       " 57,\n",
       " 58,\n",
       " 59,\n",
       " 60,\n",
       " 61,\n",
       " 62,\n",
       " 63,\n",
       " 64,\n",
       " 65,\n",
       " 66,\n",
       " 67,\n",
       " 68,\n",
       " 69,\n",
       " 70,\n",
       " 71,\n",
       " 72,\n",
       " 73,\n",
       " 74,\n",
       " 75,\n",
       " 76,\n",
       " 77,\n",
       " 78,\n",
       " 79,\n",
       " 80,\n",
       " 81,\n",
       " 82,\n",
       " 83,\n",
       " 84,\n",
       " 85,\n",
       " 86,\n",
       " 87,\n",
       " 88,\n",
       " 89,\n",
       " 90,\n",
       " 91,\n",
       " 92,\n",
       " 93,\n",
       " 94,\n",
       " 95,\n",
       " 96,\n",
       " 97,\n",
       " 98,\n",
       " 99,\n",
       " 100,\n",
       " 2]"
      ]
     },
     "execution_count": 146,
     "metadata": {},
     "output_type": "execute_result"
    }
   ],
   "source": [
    "muls(*h, 2)"
   ]
  },
  {
   "cell_type": "code",
   "execution_count": 147,
   "id": "184604d8",
   "metadata": {
    "scrolled": true
   },
   "outputs": [
    {
     "name": "stdout",
     "output_type": "stream",
     "text": [
      "2 (1, 2, 3, 4, 5, 6, 7, 8, 9, 10, 11, 12, 13, 14, 15, 16, 17, 18, 19, 20, 21, 22, 23, 24, 25, 26, 27, 28, 29, 30, 31, 32, 33, 34, 35, 36, 37, 38, 39, 40, 41, 42, 43, 44, 45, 46, 47, 48, 49, 50, 51, 52, 53, 54, 55, 56, 57, 58, 59, 60, 61, 62, 63, 64, 65, 66, 67, 68, 69, 70, 71, 72, 73, 74, 75, 76, 77, 78, 79, 80, 81, 82, 83, 84, 85, 86, 87, 88, 89, 90, 91, 92, 93, 94, 95, 96, 97, 98, 99, 100)\n"
     ]
    },
    {
     "data": {
      "text/plain": [
       "[2,\n",
       " 4,\n",
       " 6,\n",
       " 8,\n",
       " 10,\n",
       " 12,\n",
       " 14,\n",
       " 16,\n",
       " 18,\n",
       " 20,\n",
       " 22,\n",
       " 24,\n",
       " 26,\n",
       " 28,\n",
       " 30,\n",
       " 32,\n",
       " 34,\n",
       " 36,\n",
       " 38,\n",
       " 40,\n",
       " 42,\n",
       " 44,\n",
       " 46,\n",
       " 48,\n",
       " 50,\n",
       " 52,\n",
       " 54,\n",
       " 56,\n",
       " 58,\n",
       " 60,\n",
       " 62,\n",
       " 64,\n",
       " 66,\n",
       " 68,\n",
       " 70,\n",
       " 72,\n",
       " 74,\n",
       " 76,\n",
       " 78,\n",
       " 80,\n",
       " 82,\n",
       " 84,\n",
       " 86,\n",
       " 88,\n",
       " 90,\n",
       " 92,\n",
       " 94,\n",
       " 96,\n",
       " 98,\n",
       " 100,\n",
       " 102,\n",
       " 104,\n",
       " 106,\n",
       " 108,\n",
       " 110,\n",
       " 112,\n",
       " 114,\n",
       " 116,\n",
       " 118,\n",
       " 120,\n",
       " 122,\n",
       " 124,\n",
       " 126,\n",
       " 128,\n",
       " 130,\n",
       " 132,\n",
       " 134,\n",
       " 136,\n",
       " 138,\n",
       " 140,\n",
       " 142,\n",
       " 144,\n",
       " 146,\n",
       " 148,\n",
       " 150,\n",
       " 152,\n",
       " 154,\n",
       " 156,\n",
       " 158,\n",
       " 160,\n",
       " 162,\n",
       " 164,\n",
       " 166,\n",
       " 168,\n",
       " 170,\n",
       " 172,\n",
       " 174,\n",
       " 176,\n",
       " 178,\n",
       " 180,\n",
       " 182,\n",
       " 184,\n",
       " 186,\n",
       " 188,\n",
       " 190,\n",
       " 192,\n",
       " 194,\n",
       " 196,\n",
       " 198,\n",
       " 200]"
      ]
     },
     "execution_count": 147,
     "metadata": {},
     "output_type": "execute_result"
    }
   ],
   "source": [
    "muls(2, *h)"
   ]
  },
  {
   "cell_type": "markdown",
   "id": "e24ac042",
   "metadata": {},
   "source": [
    "# 키워드 인수\n",
    "* 인수를 함수에 입력할 떄 매개변수 이름을 직접 입력하고 자료를 할당하는 것.\n",
    "* print(sep=\"-\",end='\\r')"
   ]
  },
  {
   "cell_type": "markdown",
   "id": "c2806a73",
   "metadata": {},
   "source": [
    "* 개인정보를 출력하는 함수"
   ]
  },
  {
   "cell_type": "code",
   "execution_count": 148,
   "id": "a91a857e",
   "metadata": {},
   "outputs": [],
   "source": [
    " def personal_info(name,age,address):\n",
    "        print(f\"이름: {name}\")\n",
    "        print(f\"나이: {age}\")\n",
    "        print(f\"주소: {address}\")"
   ]
  },
  {
   "cell_type": "code",
   "execution_count": 149,
   "id": "29b929cf",
   "metadata": {},
   "outputs": [
    {
     "name": "stdout",
     "output_type": "stream",
     "text": [
      "이름: 홍길동\n",
      "나이: 30\n",
      "주소: 서울시\n"
     ]
    }
   ],
   "source": [
    "personal_info('홍길동',30,'서울시')"
   ]
  },
  {
   "cell_type": "code",
   "execution_count": 150,
   "id": "1fd7911a",
   "metadata": {},
   "outputs": [
    {
     "name": "stdout",
     "output_type": "stream",
     "text": [
      "이름: 둘리\n",
      "나이: 10\n",
      "주소: 고양시\n"
     ]
    }
   ],
   "source": [
    "personal_info(address ='고양시',name ='둘리',age=10)"
   ]
  },
  {
   "cell_type": "markdown",
   "id": "99400752",
   "metadata": {},
   "source": [
    "# 키워드 인수는 기본값 설정 가능"
   ]
  },
  {
   "cell_type": "code",
   "execution_count": 151,
   "id": "478ad224",
   "metadata": {},
   "outputs": [],
   "source": [
    " def personal_info2(name,age,address='안알려 줌'):\n",
    "        print(f\"이름: {name}\")\n",
    "        print(f\"나이: {age}\")\n",
    "        print(f\"주소: {address}\")"
   ]
  },
  {
   "cell_type": "code",
   "execution_count": 152,
   "id": "c327adf4",
   "metadata": {},
   "outputs": [
    {
     "name": "stdout",
     "output_type": "stream",
     "text": [
      "이름: 홍길동\n",
      "나이: 40\n",
      "주소: 안알려 줌\n"
     ]
    }
   ],
   "source": [
    "personal_info2('홍길동',40)"
   ]
  },
  {
   "cell_type": "markdown",
   "id": "ea24f2b5",
   "metadata": {},
   "source": [
    "# 매개변수에 기본값을 설정했을 경우 위치"
   ]
  },
  {
   "cell_type": "code",
   "execution_count": 159,
   "id": "d9aae6e4",
   "metadata": {},
   "outputs": [],
   "source": [
    "# 기본값이 적용된 키워드 인수는 함수의 가장 마지막에 넣어야 한다.\n",
    "def personal_info2(name,*nums,address='안알려 줌'):\n",
    "        print(f\"이름: {name}\")\n",
    "        print(f\"좋아하는 숫자: {nums}\")\n",
    "        print(f\"주소: {address}\")"
   ]
  },
  {
   "cell_type": "code",
   "execution_count": 154,
   "id": "1139ae6e",
   "metadata": {},
   "outputs": [
    {
     "name": "stdout",
     "output_type": "stream",
     "text": [
      "이름: 홍길동\n",
      "좋아하는 숫자: (1, 2, 3, 4, 5, 6, 7)\n",
      "주소: 서울\n"
     ]
    }
   ],
   "source": [
    "personal_info2('홍길동',1,2,3,4,5,6,7,address='서울')"
   ]
  },
  {
   "cell_type": "code",
   "execution_count": 156,
   "id": "21eeed57",
   "metadata": {},
   "outputs": [
    {
     "name": "stdout",
     "output_type": "stream",
     "text": [
      "이름: 홍길동\n",
      "좋아하는 숫자: (1, 2, 3, 4, 5, 6, 7)\n",
      "주소: 안알려 줌\n"
     ]
    }
   ],
   "source": [
    "personal_info2('홍길동',1,2,3,4,5,6,7,)"
   ]
  },
  {
   "cell_type": "code",
   "execution_count": 157,
   "id": "9ffb2dfd",
   "metadata": {},
   "outputs": [],
   "source": [
    " def personal_info2(name,address='안알려 줌',*nums):\n",
    "        print(f\"이름: {name}\")\n",
    "        print(f\"좋아하는 숫자: {nums}\")\n",
    "        print(f\"주소: {address}\")"
   ]
  },
  {
   "cell_type": "code",
   "execution_count": 158,
   "id": "35b924f3",
   "metadata": {},
   "outputs": [
    {
     "name": "stdout",
     "output_type": "stream",
     "text": [
      "이름: 홍길동\n",
      "좋아하는 숫자: (2, 3, 4)\n",
      "주소: 1\n"
     ]
    }
   ],
   "source": [
    "personal_info2('홍길동',1,2,3,4)"
   ]
  },
  {
   "cell_type": "markdown",
   "id": "77405e57",
   "metadata": {},
   "source": [
    "# 키워드 가변인수\n",
    "* def함수명(**kwargs)\n",
    "* 입력받는 자료가 address='안알려 줌' 변수명 = 자료 형태인 것\n",
    "* 키워드 가변인수는 함수 내에서 dict로 변환되어 사용된다."
   ]
  },
  {
   "cell_type": "code",
   "execution_count": 162,
   "id": "390043ac",
   "metadata": {},
   "outputs": [],
   "source": [
    "def personal_info3(**kwargs):\n",
    "    print(kwargs,type(kwargs))\n",
    "    key = list(kwargs.keys())\n",
    "    values = list(kwargs.values())\n",
    "    return key,values"
   ]
  },
  {
   "cell_type": "code",
   "execution_count": 161,
   "id": "9f15d040",
   "metadata": {},
   "outputs": [
    {
     "name": "stdout",
     "output_type": "stream",
     "text": [
      "{'name': '홍길동', 'age': 40, 'address': '서울'} <class 'dict'>\n"
     ]
    }
   ],
   "source": [
    "personal_info3(name='홍길동',age=40,address='서울')"
   ]
  },
  {
   "cell_type": "code",
   "execution_count": 163,
   "id": "d9e6e4c7",
   "metadata": {},
   "outputs": [
    {
     "name": "stdout",
     "output_type": "stream",
     "text": [
      "{'name': '홍길동', 'age': 40, 'address': '서울'} <class 'dict'>\n"
     ]
    },
    {
     "data": {
      "text/plain": [
       "(['name', 'age', 'address'], ['홍길동', 40, '서울'])"
      ]
     },
     "execution_count": 163,
     "metadata": {},
     "output_type": "execute_result"
    }
   ],
   "source": [
    "personal_info3(name='홍길동',age=40,address='서울')"
   ]
  },
  {
   "cell_type": "markdown",
   "id": "6d39345a",
   "metadata": {},
   "source": [
    "# 위치인수와 키워드 가변인수 같이 사용하기\n",
    "* 위치인수 다음에 키워드 가변인수가 와야 한다."
   ]
  },
  {
   "cell_type": "code",
   "execution_count": 164,
   "id": "e185c10a",
   "metadata": {},
   "outputs": [],
   "source": [
    "def personal_info4(num,**kwargs):\n",
    "    print(kwargs,type(kwargs))\n",
    "    key = list(kwargs.keys())\n",
    "    values = list(kwargs.values())\n",
    "    print(num)\n",
    "    print(key)\n",
    "    print(values)\n",
    "    return key,values"
   ]
  },
  {
   "cell_type": "code",
   "execution_count": 165,
   "id": "97e1034f",
   "metadata": {},
   "outputs": [
    {
     "name": "stdout",
     "output_type": "stream",
     "text": [
      "{'address': '서울시', 'name': '홍길동'} <class 'dict'>\n",
      "1\n",
      "['address', 'name']\n",
      "['서울시', '홍길동']\n"
     ]
    },
    {
     "data": {
      "text/plain": [
       "(['address', 'name'], ['서울시', '홍길동'])"
      ]
     },
     "execution_count": 165,
     "metadata": {},
     "output_type": "execute_result"
    }
   ],
   "source": [
    "personal_info4(1,address='서울시',name='홍길동')"
   ]
  },
  {
   "cell_type": "code",
   "execution_count": 166,
   "id": "85de36dc",
   "metadata": {},
   "outputs": [
    {
     "ename": "SyntaxError",
     "evalue": "invalid syntax (702138822.py, line 1)",
     "output_type": "error",
     "traceback": [
      "\u001b[1;36m  Cell \u001b[1;32mIn[166], line 1\u001b[1;36m\u001b[0m\n\u001b[1;33m    def personal_info5(**kwargs,num):\u001b[0m\n\u001b[1;37m                                ^\u001b[0m\n\u001b[1;31mSyntaxError\u001b[0m\u001b[1;31m:\u001b[0m invalid syntax\n"
     ]
    }
   ],
   "source": [
    "# 가변키워드인수는 반드시 위치인수보다 뒤에 와야한다.\n",
    "def personal_info5(**kwargs,num):\n",
    "    print(kwargs,type(kwargs))\n",
    "    key = list(kwargs.keys())\n",
    "    values = list(kwargs.values())\n",
    "    print(num)\n",
    "    print(key)\n",
    "    print(values)\n",
    "    return key,values"
   ]
  },
  {
   "cell_type": "markdown",
   "id": "2e35b7ef",
   "metadata": {},
   "source": [
    "# 가변인수와 키워드가변 인수 함께 쓰기\n",
    "* 가변인수 => 키워드 가변인수 순으로 쓴다.\n",
    "* def변수명(*args,**kwargs)"
   ]
  },
  {
   "cell_type": "code",
   "execution_count": 167,
   "id": "0f1c20c4",
   "metadata": {},
   "outputs": [],
   "source": [
    "def my_print(*args,**kwargs):\n",
    "    print(args,kwargs)\n",
    "    print(*args,**kwargs)"
   ]
  },
  {
   "cell_type": "code",
   "execution_count": 168,
   "id": "f22a331c",
   "metadata": {},
   "outputs": [
    {
     "name": "stdout",
     "output_type": "stream",
     "text": [
      "(1, 2, 3) {'sep': '||', 'end': '!!'}\n",
      "1||2||3!!"
     ]
    }
   ],
   "source": [
    "my_print(1,2,3, sep='||',end='!!')"
   ]
  },
  {
   "cell_type": "code",
   "execution_count": 169,
   "id": "839cc96a",
   "metadata": {},
   "outputs": [
    {
     "name": "stdout",
     "output_type": "stream",
     "text": [
      "1||2||3!!"
     ]
    }
   ],
   "source": [
    "print(1,2,3, sep='||',end='!!')"
   ]
  },
  {
   "cell_type": "code",
   "execution_count": 170,
   "id": "faf2f8ea",
   "metadata": {},
   "outputs": [
    {
     "ename": "SyntaxError",
     "evalue": "invalid syntax (2311521362.py, line 1)",
     "output_type": "error",
     "traceback": [
      "\u001b[1;36m  Cell \u001b[1;32mIn[170], line 1\u001b[1;36m\u001b[0m\n\u001b[1;33m    def my_print2(**kwargs,*args):\u001b[0m\n\u001b[1;37m                           ^\u001b[0m\n\u001b[1;31mSyntaxError\u001b[0m\u001b[1;31m:\u001b[0m invalid syntax\n"
     ]
    }
   ],
   "source": [
    "def my_print2(**kwargs,*args):\n",
    "    print(args,kwargs)\n",
    "    print(*args,**kwargs)"
   ]
  },
  {
   "cell_type": "markdown",
   "id": "e60521f4",
   "metadata": {},
   "source": [
    "# 위치인수,가변위치인수,키워드인수,키워드 가변인수,기본값이 설정된 키워드 인수 같이쓰기\n",
    "* 위치인수 => 가변위치인수 => 기본값이 설정된 키워드인수 => 키워드 가변인수"
   ]
  },
  {
   "cell_type": "code",
   "execution_count": 171,
   "id": "957785c8",
   "metadata": {},
   "outputs": [],
   "source": [
    "def personal_info6(idx,address='비공개',*args,**kwargs):\n",
    "    print(f\"idx:{idx}\")\n",
    "    print(f\"address:{address}\")\n",
    "    print(f\"args:{args}\")\n",
    "    print(f\"ikwargs:{kwargs}\")"
   ]
  },
  {
   "cell_type": "code",
   "execution_count": 172,
   "id": "437da302",
   "metadata": {},
   "outputs": [
    {
     "name": "stdout",
     "output_type": "stream",
     "text": [
      "idx:1\n",
      "address:서울\n",
      "args:(30, 40, 50)\n",
      "ikwargs:{'학교': '구름대학교', '전공': '핀테크서비스기획'}\n"
     ]
    }
   ],
   "source": [
    " personal_info6(1,'서울',30,40,50, 학교='구름대학교',전공='핀테크서비스기획')"
   ]
  },
  {
   "cell_type": "code",
   "execution_count": 174,
   "id": "296d5374",
   "metadata": {},
   "outputs": [],
   "source": [
    "def personal_info7(idx,*args,address='비공개',**kwargs):\n",
    "    print(f\"idx:{idx}\")\n",
    "    print(f\"address:{address}\")\n",
    "    print(f\"args:{args}\")\n",
    "    print(f\"ikwargs:{kwargs}\")"
   ]
  },
  {
   "cell_type": "code",
   "execution_count": 176,
   "id": "949b5eae",
   "metadata": {},
   "outputs": [
    {
     "name": "stdout",
     "output_type": "stream",
     "text": [
      "idx:1\n",
      "address:30\n",
      "args:(40, 50)\n",
      "ikwargs:{'학교': '구름대학교', '전공': '핀테크서비스기획'}\n"
     ]
    }
   ],
   "source": [
    " personal_info6(1,30,40,50, 학교='구름대학교',전공='핀테크서비스기획')"
   ]
  },
  {
   "cell_type": "code",
   "execution_count": 181,
   "id": "c937380e",
   "metadata": {},
   "outputs": [
    {
     "name": "stdout",
     "output_type": "stream",
     "text": [
      "idx:1\n",
      "address:서울\n",
      "args:(30, 40, 50)\n",
      "ikwargs:{'학교': '구름대학교', '전공': '핀테크서비스기획'}\n"
     ]
    }
   ],
   "source": [
    " personal_info7(1,30,40,50,address='서울', 학교='구름대학교',전공='핀테크서비스기획')"
   ]
  },
  {
   "cell_type": "markdown",
   "id": "76dc749c",
   "metadata": {},
   "source": [
    "# 함수의 doc string\n",
    "* 함수 내부에 함수에 대한 설명을 적어놓는 것\n",
    "* \"\"\" \"\"\"안에 작성한다.\n",
    "* 생략 가능\n",
    "* print(함수이름.__doc__)\n",
    "* help(함수이름)"
   ]
  },
  {
   "cell_type": "code",
   "execution_count": 179,
   "id": "91e74352",
   "metadata": {},
   "outputs": [
    {
     "name": "stdout",
     "output_type": "stream",
     "text": [
      "Help on built-in function print in module builtins:\n",
      "\n",
      "print(...)\n",
      "    print(value, ..., sep=' ', end='\\n', file=sys.stdout, flush=False)\n",
      "    \n",
      "    Prints the values to a stream, or to sys.stdout by default.\n",
      "    Optional keyword arguments:\n",
      "    file:  a file-like object (stream); defaults to the current sys.stdout.\n",
      "    sep:   string inserted between values, default a space.\n",
      "    end:   string appended after the last value, default a newline.\n",
      "    flush: whether to forcibly flush the stream.\n",
      "\n"
     ]
    }
   ],
   "source": [
    "help(print)"
   ]
  },
  {
   "cell_type": "code",
   "execution_count": 180,
   "id": "fa1f6734",
   "metadata": {},
   "outputs": [
    {
     "name": "stdout",
     "output_type": "stream",
     "text": [
      "print(value, ..., sep=' ', end='\\n', file=sys.stdout, flush=False)\n",
      "\n",
      "Prints the values to a stream, or to sys.stdout by default.\n",
      "Optional keyword arguments:\n",
      "file:  a file-like object (stream); defaults to the current sys.stdout.\n",
      "sep:   string inserted between values, default a space.\n",
      "end:   string appended after the last value, default a newline.\n",
      "flush: whether to forcibly flush the stream.\n"
     ]
    }
   ],
   "source": [
    "print(print.__doc__)"
   ]
  },
  {
   "cell_type": "code",
   "execution_count": 182,
   "id": "f32bf58a",
   "metadata": {},
   "outputs": [
    {
     "name": "stdout",
     "output_type": "stream",
     "text": [
      "Help on function personal_info7 in module __main__:\n",
      "\n",
      "personal_info7(idx, *args, address='비공개', **kwargs)\n",
      "\n"
     ]
    }
   ],
   "source": [
    "help(personal_info7)"
   ]
  },
  {
   "cell_type": "code",
   "execution_count": 183,
   "id": "c544e92c",
   "metadata": {},
   "outputs": [],
   "source": [
    "def add(a,b):\n",
    "    \"\"\"\n",
    "    이 함수는 a와b를 더한 뒤 결과를 반환하는 함수입니다.\n",
    "    \"\"\"\n",
    "    return a+b"
   ]
  },
  {
   "cell_type": "code",
   "execution_count": 184,
   "id": "c1f75579",
   "metadata": {},
   "outputs": [
    {
     "name": "stdout",
     "output_type": "stream",
     "text": [
      "Help on function add in module __main__:\n",
      "\n",
      "add(a, b)\n",
      "    이 함수는 a와b를 더한 뒤 결과를 반환하는 함수입니다.\n",
      "\n"
     ]
    }
   ],
   "source": [
    "help(add)"
   ]
  },
  {
   "cell_type": "code",
   "execution_count": 185,
   "id": "9141d6f9",
   "metadata": {},
   "outputs": [
    {
     "name": "stdout",
     "output_type": "stream",
     "text": [
      "\n",
      "    이 함수는 a와b를 더한 뒤 결과를 반환하는 함수입니다.\n",
      "    \n"
     ]
    }
   ],
   "source": [
    "print(add.__doc__)"
   ]
  },
  {
   "cell_type": "markdown",
   "id": "d0325a7c",
   "metadata": {},
   "source": [
    "# 람다 표현식(lambda expression)\n",
    "* 익명함수(함수 이름이 없음)\n",
    "* 간단한 함수를 작성하거나 다른 함수의 인수로 함수를 넣을 때 사용\n",
    "* 사용후 메모리에서 삭제\n",
    "* lambda 매개변수: return할 값, 계산식\n",
    "* (lambda x : x+10)(5)\n",
    "* plus_five = lambda x : x+5\n",
    "* plus_five(5) => lambda 함수를 변수에 저장하는 것은 지양 => def plus_five()로 만드는 것이 좋다."
   ]
  },
  {
   "cell_type": "code",
   "execution_count": 186,
   "id": "697f6d70",
   "metadata": {},
   "outputs": [],
   "source": [
    "# 자료 1개를 입력받아 10을 더해 리턴하는 함수\n",
    "def plus_ten(x):\n",
    "    return x + 10"
   ]
  },
  {
   "cell_type": "code",
   "execution_count": 187,
   "id": "3988689d",
   "metadata": {},
   "outputs": [
    {
     "data": {
      "text/plain": [
       "15"
      ]
     },
     "execution_count": 187,
     "metadata": {},
     "output_type": "execute_result"
    }
   ],
   "source": [
    "plus_ten(5)"
   ]
  },
  {
   "cell_type": "code",
   "execution_count": 188,
   "id": "05419744",
   "metadata": {},
   "outputs": [
    {
     "data": {
      "text/plain": [
       "15"
      ]
     },
     "execution_count": 188,
     "metadata": {},
     "output_type": "execute_result"
    }
   ],
   "source": [
    "(lambda x: x+10)(5)"
   ]
  },
  {
   "cell_type": "markdown",
   "id": "b7438c41",
   "metadata": {},
   "source": [
    "* 1에서 10까지 수중에서 3의 배수만 문자열로 바꿔서 리스트로 출력하세요"
   ]
  },
  {
   "cell_type": "code",
   "execution_count": 189,
   "id": "7b3be3d2",
   "metadata": {},
   "outputs": [],
   "source": [
    "def tostr(x):\n",
    "    result = []\n",
    "    for i in x:\n",
    "        if i % 3 == 0:\n",
    "            result.append(str(i))\n",
    "        else:\n",
    "            result.append(i)\n",
    "    return result"
   ]
  },
  {
   "cell_type": "code",
   "execution_count": 190,
   "id": "eb43ca06",
   "metadata": {},
   "outputs": [
    {
     "data": {
      "text/plain": [
       "[1, 2, '3', 4, 5, '6', 7, 8, '9', 10]"
      ]
     },
     "execution_count": 190,
     "metadata": {},
     "output_type": "execute_result"
    }
   ],
   "source": [
    "tostr(list(range(1,11)))"
   ]
  },
  {
   "cell_type": "code",
   "execution_count": 198,
   "id": "de3d92ca",
   "metadata": {},
   "outputs": [
    {
     "name": "stdout",
     "output_type": "stream",
     "text": [
      "[1, 2, '3', 4, 5, '6', 7, 8, '9', 10]\n"
     ]
    }
   ],
   "source": [
    "x = list(range(1,11))\n",
    "result = [str(i) if i % 3 == 0 else i for i in x]\n",
    "print(result)"
   ]
  },
  {
   "cell_type": "markdown",
   "id": "978280e2",
   "metadata": {},
   "source": [
    "* map(함수, list/tuple)"
   ]
  },
  {
   "cell_type": "code",
   "execution_count": 204,
   "id": "4b823afb",
   "metadata": {},
   "outputs": [
    {
     "data": {
      "text/plain": [
       "[1, 2, '3', 4, 5, '6', 7, 8, '9', 10]"
      ]
     },
     "execution_count": 204,
     "metadata": {},
     "output_type": "execute_result"
    }
   ],
   "source": [
    "list(map((lambda x:str(x) if x % 3 == 0 else x), [1,2,3,4,5,6,7,8,9,10]))"
   ]
  },
  {
   "cell_type": "code",
   "execution_count": 207,
   "id": "5f74fcff",
   "metadata": {},
   "outputs": [],
   "source": [
    "tostr2 = (lambda x:str(x) if x % 3 == 0 else x)"
   ]
  },
  {
   "cell_type": "code",
   "execution_count": 209,
   "id": "bc5f3720",
   "metadata": {},
   "outputs": [
    {
     "data": {
      "text/plain": [
       "[1, 2, '3', 4, 5, '6', 7, 8, '9', 10]"
      ]
     },
     "execution_count": 209,
     "metadata": {},
     "output_type": "execute_result"
    }
   ],
   "source": [
    "list(map(tostr2,[1,2,3,4,5,6,7,8,9,10]))"
   ]
  },
  {
   "cell_type": "code",
   "execution_count": 213,
   "id": "3de75764",
   "metadata": {},
   "outputs": [
    {
     "name": "stdout",
     "output_type": "stream",
     "text": [
      "1 2 3\n"
     ]
    },
    {
     "data": {
      "text/plain": [
       "[1, 2, 3]"
      ]
     },
     "execution_count": 213,
     "metadata": {},
     "output_type": "execute_result"
    }
   ],
   "source": [
    "list(map(int,input().split()))"
   ]
  },
  {
   "cell_type": "markdown",
   "id": "a9a21fd8",
   "metadata": {},
   "source": [
    "# lambda 함수도 매개변수를 여러개 사용 가능"
   ]
  },
  {
   "cell_type": "code",
   "execution_count": 214,
   "id": "600624b9",
   "metadata": {},
   "outputs": [],
   "source": [
    "a = [1,2,3,4,5]\n",
    "b = [2,4,6,8,10]\n",
    "c = [3,6,9,12,15]"
   ]
  },
  {
   "cell_type": "code",
   "execution_count": 215,
   "id": "262b90dd",
   "metadata": {},
   "outputs": [
    {
     "name": "stdout",
     "output_type": "stream",
     "text": [
      "6\n",
      "12\n",
      "18\n",
      "24\n",
      "30\n"
     ]
    }
   ],
   "source": [
    "for x,y,z in zip(a,b,c):\n",
    "    print(x+y+z)"
   ]
  },
  {
   "cell_type": "code",
   "execution_count": 217,
   "id": "ae9d848e",
   "metadata": {},
   "outputs": [
    {
     "name": "stdout",
     "output_type": "stream",
     "text": [
      "1 2 3 : 6\n",
      "2 4 6 : 12\n",
      "3 6 9 : 18\n",
      "4 8 12 : 24\n",
      "5 10 15 : 30\n"
     ]
    },
    {
     "data": {
      "text/plain": [
       "[6, 12, 18, 24, 30]"
      ]
     },
     "execution_count": 217,
     "metadata": {},
     "output_type": "execute_result"
    }
   ],
   "source": [
    "result = []\n",
    "for x,y,z in zip(a,b,c):\n",
    "    print(x,y,z ,\":\",x+y+z)\n",
    "    result.append(x+y+z)\n",
    "result"
   ]
  },
  {
   "cell_type": "code",
   "execution_count": 219,
   "id": "1e78b7e5",
   "metadata": {},
   "outputs": [
    {
     "data": {
      "text/plain": [
       "[6, 12, 18, 24, 30]"
      ]
     },
     "execution_count": 219,
     "metadata": {},
     "output_type": "execute_result"
    }
   ],
   "source": [
    "list(map((lambda x,y,z:x+y+z),a,b,c))"
   ]
  },
  {
   "cell_type": "markdown",
   "id": "8923a990",
   "metadata": {},
   "source": [
    "# 예외처리 try except\n",
    "* 예외: 프로그램 실행중에 발생할 수 있는 오류\n",
    "* 3/0:ZeroDivisionError => 숫자를  0으로 나눌 수 없기 때문에 나는 에러\n",
    "* try-except 구문을 사용하면 예외상황에서도 프로그랭이 중단되지 않게 할 수 있음"
   ]
  },
  {
   "cell_type": "markdown",
   "id": "cb1ca38b",
   "metadata": {},
   "source": [
    "# 기본문법"
   ]
  },
  {
   "cell_type": "code",
   "execution_count": 224,
   "id": "315f8bc7",
   "metadata": {},
   "outputs": [
    {
     "ename": "IndentationError",
     "evalue": "expected an indented block (1096581987.py, line 3)",
     "output_type": "error",
     "traceback": [
      "\u001b[1;36m  Cell \u001b[1;32mIn[224], line 3\u001b[1;36m\u001b[0m\n\u001b[1;33m    except Exception as e:\u001b[0m\n\u001b[1;37m    ^\u001b[0m\n\u001b[1;31mIndentationError\u001b[0m\u001b[1;31m:\u001b[0m expected an indented block\n"
     ]
    }
   ],
   "source": [
    "try:\n",
    "    # 예외가 발생할 위험이 있는 코드\n",
    "except Exception as e:\n",
    "    print(e) #어떤 에러인지 출력\n",
    "    # 예외가 발생했을 때 실행할 코드\n",
    "else:\n",
    "    # 예외가 발생하지 않았을 때 실행할 코드\n",
    "finally: \n",
    "    #예외가 발생하든지 않하든지 무조건 실행할 코드 "
   ]
  },
  {
   "cell_type": "markdown",
   "id": "0d65b33a",
   "metadata": {},
   "source": [
    "* 파일 읽어 올 때 encoding에러를 방지하는 예외처리"
   ]
  },
  {
   "cell_type": "code",
   "execution_count": 227,
   "id": "f2f326c8",
   "metadata": {},
   "outputs": [],
   "source": [
    "file = './data/com_kbstar_kbbank.json'"
   ]
  },
  {
   "cell_type": "code",
   "execution_count": 229,
   "id": "f2c9c2a3",
   "metadata": {},
   "outputs": [],
   "source": [
    "def read_csv(file):\n",
    "    with open(file,'r') as f:\n",
    "        data = f.read()\n",
    "    return data"
   ]
  },
  {
   "cell_type": "code",
   "execution_count": 230,
   "id": "903c728b",
   "metadata": {},
   "outputs": [
    {
     "ename": "UnicodeDecodeError",
     "evalue": "'cp949' codec can't decode byte 0xec in position 19: illegal multibyte sequence",
     "output_type": "error",
     "traceback": [
      "\u001b[1;31m---------------------------------------------------------------------------\u001b[0m",
      "\u001b[1;31mUnicodeDecodeError\u001b[0m                        Traceback (most recent call last)",
      "Cell \u001b[1;32mIn[230], line 1\u001b[0m\n\u001b[1;32m----> 1\u001b[0m \u001b[43mread_csv\u001b[49m\u001b[43m(\u001b[49m\u001b[43mfile\u001b[49m\u001b[43m)\u001b[49m\n",
      "Cell \u001b[1;32mIn[229], line 3\u001b[0m, in \u001b[0;36mread_csv\u001b[1;34m(file)\u001b[0m\n\u001b[0;32m      1\u001b[0m \u001b[38;5;28;01mdef\u001b[39;00m\u001b[38;5;250m \u001b[39m\u001b[38;5;21mread_csv\u001b[39m(file):\n\u001b[0;32m      2\u001b[0m     \u001b[38;5;28;01mwith\u001b[39;00m \u001b[38;5;28mopen\u001b[39m(file,\u001b[38;5;124m'\u001b[39m\u001b[38;5;124mr\u001b[39m\u001b[38;5;124m'\u001b[39m) \u001b[38;5;28;01mas\u001b[39;00m f:\n\u001b[1;32m----> 3\u001b[0m         data \u001b[38;5;241m=\u001b[39m \u001b[43mf\u001b[49m\u001b[38;5;241;43m.\u001b[39;49m\u001b[43mread\u001b[49m\u001b[43m(\u001b[49m\u001b[43m)\u001b[49m\n\u001b[0;32m      4\u001b[0m     \u001b[38;5;28;01mreturn\u001b[39;00m data\n",
      "\u001b[1;31mUnicodeDecodeError\u001b[0m: 'cp949' codec can't decode byte 0xec in position 19: illegal multibyte sequence"
     ]
    }
   ],
   "source": [
    "read_csv(file)"
   ]
  },
  {
   "cell_type": "code",
   "execution_count": 235,
   "id": "b8a2c957",
   "metadata": {},
   "outputs": [],
   "source": [
    "# try except를 이용해 예외처리\n",
    "def read_csv(file):\n",
    "    try:\n",
    "        with open(file,'r') as f:\n",
    "            data = f.read()\n",
    "    except Exception as e:\n",
    "        print(e)\n",
    "        with open(file,'r', encoding = 'utf-8') as f:\n",
    "            data = f.read()\n",
    "    return data[:10]"
   ]
  },
  {
   "cell_type": "code",
   "execution_count": 236,
   "id": "3b084483",
   "metadata": {},
   "outputs": [
    {
     "name": "stdout",
     "output_type": "stream",
     "text": [
      "'cp949' codec can't decode byte 0xec in position 19: illegal multibyte sequence\n"
     ]
    },
    {
     "data": {
      "text/plain": [
       "'[\\n    {\\n  '"
      ]
     },
     "execution_count": 236,
     "metadata": {},
     "output_type": "execute_result"
    }
   ],
   "source": [
    "read_csv(file)"
   ]
  },
  {
   "cell_type": "markdown",
   "id": "dcac2ec3",
   "metadata": {},
   "source": [
    "# 예외 처리방법 3가지\n",
    "* try-except구문으로 처리\n",
    "* if else 조건 표현식 처리\n",
    "* get, setdefault같은 함수를 사용해 처리"
   ]
  },
  {
   "cell_type": "markdown",
   "id": "de7ab360",
   "metadata": {},
   "source": [
    "* 학생들의 이름 리스트를 받아 해당 학생의 성적 출력하기"
   ]
  },
  {
   "cell_type": "markdown",
   "id": "6d0ec357",
   "metadata": {},
   "source": [
    "## try except문을 이용해서 처리"
   ]
  },
  {
   "cell_type": "code",
   "execution_count": 238,
   "id": "3dfaaadd",
   "metadata": {},
   "outputs": [
    {
     "data": {
      "text/plain": [
       "{'student': {'alice': 85, 'bob': 92, 'mark': 78}}"
      ]
     },
     "execution_count": 238,
     "metadata": {},
     "output_type": "execute_result"
    }
   ],
   "source": [
    "# 학생정보\n",
    "student_scores = dict(student=dict(alice=85,bob=92,mark=78))\n",
    "student_scores"
   ]
  },
  {
   "cell_type": "code",
   "execution_count": 239,
   "id": "c354f936",
   "metadata": {},
   "outputs": [],
   "source": [
    "# 성적을 조회할 목록\n",
    "names = ['alice','david','mark','bob']"
   ]
  },
  {
   "cell_type": "code",
   "execution_count": 249,
   "id": "fb0175fa",
   "metadata": {},
   "outputs": [
    {
     "name": "stdout",
     "output_type": "stream",
     "text": [
      "alice:85\n",
      "alice의 점수 조회가 완료되었습니다.\n",
      "\n",
      "'david'\n",
      "david의 점수는 없습니다.\n",
      "david의 점수 조회가 완료되었습니다.\n",
      "\n",
      "mark:78\n",
      "mark의 점수 조회가 완료되었습니다.\n",
      "\n",
      "bob:92\n",
      "bob의 점수 조회가 완료되었습니다.\n",
      "\n"
     ]
    }
   ],
   "source": [
    "# 반복문을 이용해 성적 조회\n",
    "for name in names:\n",
    "    try:\n",
    "        score = student_scores['student'][name]\n",
    "        print(f\"{name}:{score}\")\n",
    "    except Exception as e:\n",
    "        print(e)\n",
    "        print(f\"{name}의 점수는 없습니다.\")\n",
    "    finally:\n",
    "        print(f\"{name}의 점수 조회가 완료되었습니다.\")\n",
    "        print()"
   ]
  },
  {
   "cell_type": "markdown",
   "id": "fe8b22a9",
   "metadata": {},
   "source": [
    "## 조건표현식을 사용한 예외처리"
   ]
  },
  {
   "cell_type": "code",
   "execution_count": 253,
   "id": "c4d2dec8",
   "metadata": {},
   "outputs": [
    {
     "name": "stdout",
     "output_type": "stream",
     "text": [
      "alice\n",
      "alice:85\n",
      "david\n",
      "david:키 없음\n",
      "mark\n",
      "mark:78\n",
      "bob\n",
      "bob:92\n"
     ]
    }
   ],
   "source": [
    "# 반복문을 이용해 성적 조회\n",
    "for name in names:\n",
    "    print(name)\n",
    "    score = student_scores['student'][name] if name in student_scores['student'].keys() else \"키 없음\"\n",
    "    print(f\"{name}:{score}\")"
   ]
  },
  {
   "cell_type": "markdown",
   "id": "c9a74302",
   "metadata": {},
   "source": [
    "## get함수를 이용해서 처리하기"
   ]
  },
  {
   "cell_type": "code",
   "execution_count": 256,
   "id": "7587b731",
   "metadata": {},
   "outputs": [
    {
     "name": "stdout",
     "output_type": "stream",
     "text": [
      "alice\n",
      "alice:85\n",
      "david\n",
      "david:david의 점수는 없습니다.\n",
      "mark\n",
      "mark:78\n",
      "bob\n",
      "bob:92\n"
     ]
    }
   ],
   "source": [
    "# 반복문을 이용해 성적 조회\n",
    "for name in names:\n",
    "    print(name)\n",
    "    score = student_scores['student'].get(name, f\"{name}의 점수는 없습니다.\")\n",
    "    print(f\"{name}:{score}\")"
   ]
  },
  {
   "cell_type": "code",
   "execution_count": null,
   "id": "c25023f0",
   "metadata": {},
   "outputs": [],
   "source": []
  }
 ],
 "metadata": {
  "kernelspec": {
   "display_name": "Python 3 (ipykernel)",
   "language": "python",
   "name": "python3"
  },
  "language_info": {
   "codemirror_mode": {
    "name": "ipython",
    "version": 3
   },
   "file_extension": ".py",
   "mimetype": "text/x-python",
   "name": "python",
   "nbconvert_exporter": "python",
   "pygments_lexer": "ipython3",
   "version": "3.9.23"
  }
 },
 "nbformat": 4,
 "nbformat_minor": 5
}
