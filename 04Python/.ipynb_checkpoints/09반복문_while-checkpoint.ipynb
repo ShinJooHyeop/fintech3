{
 "cells": [
  {
   "cell_type": "markdown",
   "id": "88fbd30f",
   "metadata": {},
   "source": [
    "# 반복문 fot,while\n",
    "* 반복문은 동일한 작업을 여러 번 반복해야 할 경우 사용\n",
    "* for,while 두 종류의 반복문이 있음\n",
    "* for는 **반복 횟수가 정해져 있는 경우** 사용\n",
    "* while은 **반복 횟수가 정해져 있지 않는 경우** 사용(무한반복)"
   ]
  },
  {
   "cell_type": "markdown",
   "id": "172e38b3",
   "metadata": {},
   "source": [
    "# for 반목문 : 반복할 횟수가 정해져 있는 경우\n",
    "for 변수1, 변수2 in 반복할 객체/자료(문자열, 리스트, 튜플, 딕셔너리): <br>\n",
    "____반복할 코드 "
   ]
  },
  {
   "cell_type": "code",
   "execution_count": 1,
   "id": "1d733771",
   "metadata": {},
   "outputs": [],
   "source": [
    "# 숫자 생성 함수 range(시작,끝+1, step)"
   ]
  },
  {
   "cell_type": "code",
   "execution_count": 2,
   "id": "6e0dacd3",
   "metadata": {},
   "outputs": [
    {
     "name": "stdout",
     "output_type": "stream",
     "text": [
      "1 2 3 4 5 6 7 8 9 10 "
     ]
    }
   ],
   "source": [
    "# for 문을 이용해서 숫자 1-10을 출력\n",
    "for i in range(1,11):\n",
    "    print(i,end=' ')"
   ]
  },
  {
   "cell_type": "markdown",
   "id": "40983de8",
   "metadata": {},
   "source": [
    "## 반복문에서 사용 할 수 있는 자료형"
   ]
  },
  {
   "cell_type": "markdown",
   "id": "7ae46428",
   "metadata": {},
   "source": [
    "* 문자열"
   ]
  },
  {
   "cell_type": "code",
   "execution_count": 3,
   "id": "ed789842",
   "metadata": {},
   "outputs": [
    {
     "name": "stdout",
     "output_type": "stream",
     "text": [
      "파\n",
      "이\n",
      "썬\n",
      "은\n",
      " \n",
      "문\n",
      "자\n",
      "열\n",
      "을\n",
      " \n",
      "반\n",
      "복\n",
      "문\n",
      "에\n",
      " \n",
      "넣\n",
      "어\n",
      "서\n",
      " \n",
      "출\n",
      "력\n",
      " \n",
      "가\n",
      "능\n"
     ]
    }
   ],
   "source": [
    "for i in \"파이썬은 문자열을 반복문에 넣어서 출력 가능\":\n",
    "    print(i)"
   ]
  },
  {
   "cell_type": "markdown",
   "id": "88d2a744",
   "metadata": {},
   "source": [
    "* 리스트/튜플"
   ]
  },
  {
   "cell_type": "code",
   "execution_count": 4,
   "id": "88280787",
   "metadata": {},
   "outputs": [
    {
     "name": "stdout",
     "output_type": "stream",
     "text": [
      "<class 'list'> <class 'tuple'>\n",
      "[1, 2, 3, 4.5, '리스트', [1, 2, 3], (4, 5, 6), {'key': 'value'}]\n",
      "(1, 2, 3, 4.5, '리스트', [1, 2, 3], (4, 5, 6), {'key': 'value'})\n"
     ]
    }
   ],
   "source": [
    "l1 = [1,2,3,4.5,'리스트',[1,2,3],(4,5,6),{\"key\":\"value\"}]\n",
    "t1 = tuple(l1)\n",
    "print(type(l1),type(t1))\n",
    "print(l1)\n",
    "print(t1)"
   ]
  },
  {
   "cell_type": "code",
   "execution_count": 5,
   "id": "3ebfb0a6",
   "metadata": {},
   "outputs": [
    {
     "name": "stdout",
     "output_type": "stream",
     "text": [
      "1 <class 'int'>\n",
      "2 <class 'int'>\n",
      "3 <class 'int'>\n",
      "4.5 <class 'float'>\n",
      "리스트 <class 'str'>\n",
      "[1, 2, 3] <class 'list'>\n",
      "(4, 5, 6) <class 'tuple'>\n",
      "{'key': 'value'} <class 'dict'>\n"
     ]
    }
   ],
   "source": [
    "# 리스트를 반복문에 넣어서 요소를 하나씩 출력\n",
    "for i in l1:\n",
    "    print(i, type(i))"
   ]
  },
  {
   "cell_type": "code",
   "execution_count": 6,
   "id": "31a51172",
   "metadata": {},
   "outputs": [
    {
     "name": "stdout",
     "output_type": "stream",
     "text": [
      "1 <class 'int'>\n",
      "2 <class 'int'>\n",
      "3 <class 'int'>\n",
      "4.5 <class 'float'>\n",
      "리스트 <class 'str'>\n",
      "[1, 2, 3] <class 'list'>\n",
      "(4, 5, 6) <class 'tuple'>\n",
      "{'key': 'value'} <class 'dict'>\n"
     ]
    }
   ],
   "source": [
    "# 튜플를 반복문에 넣어서 요소를 하나씩 출력\n",
    "for i in t1:\n",
    "    print(i, type(i))"
   ]
  },
  {
   "cell_type": "code",
   "execution_count": 7,
   "id": "b8e0e8e9",
   "metadata": {},
   "outputs": [
    {
     "data": {
      "text/plain": [
       "{'이름': '홀길동', '나이': 40, '주소': '서울', '전화번호': '010-1111-1111'}"
      ]
     },
     "execution_count": 7,
     "metadata": {},
     "output_type": "execute_result"
    }
   ],
   "source": [
    "d = dict(이름='홀길동',나이=40,주소=\"서울\",전화번호=\"010-1111-1111\")\n",
    "d"
   ]
  },
  {
   "cell_type": "code",
   "execution_count": 8,
   "id": "e97e8762",
   "metadata": {},
   "outputs": [
    {
     "name": "stdout",
     "output_type": "stream",
     "text": [
      "이름\n",
      "나이\n",
      "주소\n",
      "전화번호\n"
     ]
    }
   ],
   "source": [
    "# 딕셔너리를 반복문에 넣으면 딕셔너리의 key가 출력\n",
    "for i in d:\n",
    "    print(i)"
   ]
  },
  {
   "cell_type": "code",
   "execution_count": 9,
   "id": "80f2e124",
   "metadata": {},
   "outputs": [
    {
     "data": {
      "text/plain": [
       "4"
      ]
     },
     "execution_count": 9,
     "metadata": {},
     "output_type": "execute_result"
    }
   ],
   "source": [
    "# 딕셔너리는 len을 사용시 가장 상위의 key의 개수가 출력됨\n",
    "len(d)"
   ]
  },
  {
   "cell_type": "code",
   "execution_count": 10,
   "id": "d2fea132",
   "metadata": {},
   "outputs": [
    {
     "name": "stdout",
     "output_type": "stream",
     "text": [
      "홀길동\n",
      "40\n",
      "서울\n",
      "010-1111-1111\n"
     ]
    }
   ],
   "source": [
    "# key를 이용해 value를 출력\n",
    "for i in d:\n",
    "    print(d[i])"
   ]
  },
  {
   "cell_type": "code",
   "execution_count": 11,
   "id": "b1c52d40",
   "metadata": {},
   "outputs": [
    {
     "name": "stdout",
     "output_type": "stream",
     "text": [
      "홀길동\n",
      "40\n",
      "서울\n",
      "010-1111-1111\n"
     ]
    }
   ],
   "source": [
    "# key를 이용해 value를 출력\n",
    "for i in d:\n",
    "    print(d.get(i,\"key없음\"))"
   ]
  },
  {
   "cell_type": "code",
   "execution_count": 12,
   "id": "061b0789",
   "metadata": {},
   "outputs": [
    {
     "name": "stdout",
     "output_type": "stream",
     "text": [
      "<class 'dict_values'>\n"
     ]
    }
   ],
   "source": [
    "# 딕셔너리 함수인 values()\n",
    "d.values()\n",
    "print(type(d.values()))"
   ]
  },
  {
   "cell_type": "code",
   "execution_count": 13,
   "id": "35d94a47",
   "metadata": {},
   "outputs": [
    {
     "name": "stdout",
     "output_type": "stream",
     "text": [
      "홀길동\n",
      "40\n",
      "서울\n",
      "010-1111-1111\n"
     ]
    }
   ],
   "source": [
    "for i in d.values():\n",
    "    print(i)"
   ]
  },
  {
   "cell_type": "code",
   "execution_count": 14,
   "id": "ea6e4515",
   "metadata": {},
   "outputs": [
    {
     "name": "stdout",
     "output_type": "stream",
     "text": [
      "('이름', '홀길동')\n",
      "('나이', 40)\n",
      "('주소', '서울')\n",
      "('전화번호', '010-1111-1111')\n"
     ]
    }
   ],
   "source": [
    "for i in d.items():\n",
    "    print(i)"
   ]
  },
  {
   "cell_type": "markdown",
   "id": "693a987b",
   "metadata": {},
   "source": [
    "* for 반복문을 이용해서 1-10까지 정수를 더한 합을 출력하세요"
   ]
  },
  {
   "cell_type": "code",
   "execution_count": 15,
   "id": "8574e8a7",
   "metadata": {},
   "outputs": [
    {
     "name": "stdout",
     "output_type": "stream",
     "text": [
      "1\n",
      "3\n",
      "6\n",
      "10\n",
      "15\n",
      "21\n",
      "28\n",
      "36\n",
      "45\n",
      "55\n"
     ]
    }
   ],
   "source": [
    "# 합산한 전체 결과를 보고싶으면 for문 안에 결과만 보고싶으면 for문 밖에 입력하면된다.\n",
    "hap = 0\n",
    "for num in range(1,11):\n",
    "    hap = hap + num\n",
    "    print(hap)"
   ]
  },
  {
   "cell_type": "markdown",
   "id": "0d8f5925",
   "metadata": {},
   "source": [
    "* 1에서50사이의 숫자중에서 짝만 더란 합을 구하세요\n",
    "* 숫자가1-50 사이로 생성\n",
    "* 짝수인지 판별 if\n",
    "* hap변수에 짝수만 합치기\n",
    "* 합계 출력하기"
   ]
  },
  {
   "cell_type": "code",
   "execution_count": 16,
   "id": "91fb279d",
   "metadata": {},
   "outputs": [
    {
     "name": "stdout",
     "output_type": "stream",
     "text": [
      "650\n"
     ]
    }
   ],
   "source": [
    "hap = 0\n",
    "for num in range(1,51):\n",
    "    #print(num, end=\" \")\n",
    "    if num%2 == 0:\n",
    "        hap = hap + num\n",
    "print(hap)"
   ]
  },
  {
   "cell_type": "markdown",
   "id": "506ee5ec",
   "metadata": {},
   "source": [
    "## 반복문에 사용할 자료를 일부 구간만 사용하기\n",
    "* 슬라이싱 "
   ]
  },
  {
   "cell_type": "markdown",
   "id": "176e8283",
   "metadata": {},
   "source": [
    "* 1부터 100까지 숫자를 생성하고 그중에서 30-70까지만 더해서 출력하세요."
   ]
  },
  {
   "cell_type": "code",
   "execution_count": 17,
   "id": "ae403fd4",
   "metadata": {},
   "outputs": [
    {
     "name": "stdout",
     "output_type": "stream",
     "text": [
      "30:30,hap:30\n",
      "31:31,hap:61\n",
      "32:32,hap:93\n",
      "33:33,hap:126\n",
      "34:34,hap:160\n",
      "35:35,hap:195\n",
      "36:36,hap:231\n",
      "37:37,hap:268\n",
      "38:38,hap:306\n",
      "39:39,hap:345\n",
      "40:40,hap:385\n",
      "41:41,hap:426\n",
      "42:42,hap:468\n",
      "43:43,hap:511\n",
      "44:44,hap:555\n",
      "45:45,hap:600\n",
      "46:46,hap:646\n",
      "47:47,hap:693\n",
      "48:48,hap:741\n",
      "49:49,hap:790\n",
      "50:50,hap:840\n",
      "51:51,hap:891\n",
      "52:52,hap:943\n",
      "53:53,hap:996\n",
      "54:54,hap:1050\n",
      "55:55,hap:1105\n",
      "56:56,hap:1161\n",
      "57:57,hap:1218\n",
      "58:58,hap:1276\n",
      "59:59,hap:1335\n",
      "60:60,hap:1395\n",
      "61:61,hap:1456\n",
      "62:62,hap:1518\n",
      "63:63,hap:1581\n",
      "64:64,hap:1645\n",
      "65:65,hap:1710\n",
      "66:66,hap:1776\n",
      "67:67,hap:1843\n",
      "68:68,hap:1911\n",
      "69:69,hap:1980\n",
      "70:70,hap:2050\n"
     ]
    }
   ],
   "source": [
    "# if 조건문을 이요해서 필터링\n",
    "hap = 0\n",
    "for num in range(1,101):\n",
    "#    print(num,end=' ')\n",
    "    if 30 <= num<= 70:\n",
    "        hap += num\n",
    "        print(f\"{num}:{num},hap:{hap}\")"
   ]
  },
  {
   "cell_type": "code",
   "execution_count": 18,
   "id": "0cc2ac9b",
   "metadata": {},
   "outputs": [
    {
     "name": "stdout",
     "output_type": "stream",
     "text": [
      "2050\n"
     ]
    }
   ],
   "source": [
    "# 슬라이싱 활용\n",
    "hap = 0\n",
    "for num in range(1,101)[29:70]:\n",
    "#    print(num,end=' ')\n",
    "    hap += num\n",
    "print(hap)    "
   ]
  },
  {
   "cell_type": "markdown",
   "id": "9dee7dbe",
   "metadata": {},
   "source": [
    "* 1-100까지 숫자중에서 짝수만 합 구하기 (슬라이싱 이용)"
   ]
  },
  {
   "cell_type": "code",
   "execution_count": 19,
   "id": "811be5c6",
   "metadata": {},
   "outputs": [
    {
     "name": "stdout",
     "output_type": "stream",
     "text": [
      "2550\n"
     ]
    }
   ],
   "source": [
    "hap = 0\n",
    "for num in range(1,101)[1::2]:\n",
    "#     print(num,end=' ')\n",
    "    hap += num\n",
    "print(hap)"
   ]
  },
  {
   "cell_type": "markdown",
   "id": "0eeecb7d",
   "metadata": {},
   "source": [
    "* 1에서 100까지 숫자를 생성하고 역순으로 출력하세요"
   ]
  },
  {
   "cell_type": "code",
   "execution_count": 20,
   "id": "8ee3c43d",
   "metadata": {},
   "outputs": [
    {
     "name": "stdout",
     "output_type": "stream",
     "text": [
      "100 99 98 97 96 95 94 93 92 91 90 89 88 87 86 85 84 83 82 81 80 79 78 77 76 75 74 73 72 71 70 69 68 67 66 65 64 63 62 61 60 59 58 57 56 55 54 53 52 51 50 49 48 47 46 45 44 43 42 41 40 39 38 37 36 35 34 33 32 31 30 29 28 27 26 25 24 23 22 21 20 19 18 17 16 15 14 13 12 11 10 9 8 7 6 5 4 3 2 1 "
     ]
    }
   ],
   "source": [
    "# range 함수에서 숫자를 역순으로 만들기\n",
    "for num in range(1,101)[::-1]:\n",
    "    print(num,end=\" \")"
   ]
  },
  {
   "cell_type": "code",
   "execution_count": 21,
   "id": "2215590e",
   "metadata": {},
   "outputs": [
    {
     "name": "stdout",
     "output_type": "stream",
     "text": [
      "100 99 98 97 96 95 94 93 92 91 90 89 88 87 86 85 84 83 82 81 80 79 78 77 76 75 74 73 72 71 70 69 68 67 66 65 64 63 62 61 60 59 58 57 56 55 54 53 52 51 50 49 48 47 46 45 44 43 42 41 40 39 38 37 36 35 34 33 32 31 30 29 28 27 26 25 24 23 22 21 20 19 18 17 16 15 14 13 12 11 10 9 8 7 6 5 4 3 2 1 "
     ]
    }
   ],
   "source": [
    "# range 함수에서 숫자를 역순으로 만들기\n",
    "for num in range(100,0,-1):\n",
    "    print(num,end=\" \")"
   ]
  },
  {
   "cell_type": "code",
   "execution_count": 22,
   "id": "65fb5fec",
   "metadata": {},
   "outputs": [
    {
     "name": "stdout",
     "output_type": "stream",
     "text": [
      "100 99 98 97 96 95 94 93 92 91 90 89 88 87 86 85 84 83 82 81 80 79 78 77 76 75 74 73 72 71 70 69 68 67 66 65 64 63 62 61 60 59 58 57 56 55 54 53 52 51 50 49 48 47 46 45 44 43 42 41 40 39 38 37 36 35 34 33 32 31 30 29 28 27 26 25 24 23 22 21 20 19 18 17 16 15 14 13 12 11 10 9 8 7 6 5 4 3 2 1 "
     ]
    }
   ],
   "source": [
    "# reversed() 함수 사용\n",
    "for num in reversed(range(1,101)):\n",
    "    print(num,end=\" \")"
   ]
  },
  {
   "cell_type": "code",
   "execution_count": 23,
   "id": "72e7fae0",
   "metadata": {},
   "outputs": [
    {
     "name": "stdout",
     "output_type": "stream",
     "text": [
      "100 99 98 97 96 95 94 93 92 91 90 89 88 87 86 85 84 83 82 81 80 79 78 77 76 75 74 73 72 71 70 69 68 67 66 65 64 63 62 61 60 59 58 57 56 55 54 53 52 51 50 49 48 47 46 45 44 43 42 41 40 39 38 37 36 35 34 33 32 31 30 29 28 27 26 25 24 23 22 21 20 19 18 17 16 15 14 13 12 11 10 9 8 7 6 5 4 3 2 1 "
     ]
    }
   ],
   "source": [
    "for num in sorted(range(1,101),reverse=True):\n",
    "    print(num,end=\" \")"
   ]
  },
  {
   "cell_type": "markdown",
   "id": "615b4fe3",
   "metadata": {},
   "source": [
    "# enumerate() 반복문에서 자료의 인덱스를 만들어 주는 함수"
   ]
  },
  {
   "cell_type": "code",
   "execution_count": 24,
   "id": "04c8f107",
   "metadata": {},
   "outputs": [],
   "source": [
    "s = \"enumerate 함수는 반복문에서 index를 만들어 출력해 주는 함수입니다.\""
   ]
  },
  {
   "cell_type": "code",
   "execution_count": 25,
   "id": "238d9410",
   "metadata": {},
   "outputs": [],
   "source": [
    "import time"
   ]
  },
  {
   "cell_type": "code",
   "execution_count": 26,
   "id": "25d1fb08",
   "metadata": {},
   "outputs": [
    {
     "name": "stdout",
     "output_type": "stream",
     "text": [
      "e u e a e 함 는 반 문 서 i d x   들   력   는 함 입 다 "
     ]
    }
   ],
   "source": [
    "for idx, i in enumerate(s):\n",
    "  #  print(idx,i)\n",
    "    if idx %2 == 0:\n",
    "        print(i, end=\" \")"
   ]
  },
  {
   "cell_type": "code",
   "execution_count": 27,
   "id": "76eff6a7",
   "metadata": {},
   "outputs": [
    {
     "name": "stdout",
     "output_type": "stream",
     "text": [
      "e\n",
      "n\n",
      "u\n",
      "m\n",
      "e\n",
      "r\n",
      "a\n",
      "t\n",
      "e\n",
      " \n",
      "함\n",
      "수\n",
      "는\n",
      " \n",
      "반\n",
      "복\n",
      "문\n",
      "에\n",
      "서\n",
      " \n",
      "i\n",
      "n\n",
      "d\n",
      "e\n",
      "x\n",
      "를\n",
      " \n",
      "만\n",
      "들\n",
      "어\n",
      " \n",
      "출\n",
      "력\n",
      "해\n",
      " \n",
      "주\n",
      "는\n",
      " \n",
      "함\n",
      "수\n",
      "입\n",
      "니\n",
      "다\n",
      ".\n"
     ]
    }
   ],
   "source": [
    "for idx, i in enumerate(s):\n",
    "#    print(f\"{idx+1}/{len(s)} 실행중\",  end=\"\\r\")\n",
    "    print(i)\n",
    "    time.sleep(0.1)"
   ]
  },
  {
   "cell_type": "markdown",
   "id": "1aa3467b",
   "metadata": {},
   "source": [
    "# countiue/break\n",
    "* countinue : 코드 실행을 건너 뛰고 반복 계속 진행\n",
    "* break : 특정 조건이 되었을 때 반복문 정지"
   ]
  },
  {
   "cell_type": "code",
   "execution_count": 28,
   "id": "1164af1b",
   "metadata": {},
   "outputs": [
    {
     "name": "stdout",
     "output_type": "stream",
     "text": [
      "1 n\n",
      "3 m\n",
      "5 r\n",
      "7 t\n",
      "9  \n",
      "11 수\n",
      "13  \n",
      "15 복\n",
      "17 에\n",
      "19  \n"
     ]
    }
   ],
   "source": [
    "for idx, i in enumerate(s):\n",
    "    if idx %2 == 0:\n",
    "        continue\n",
    "        print(idx,i)\n",
    "    else:\n",
    "        if idx > 19:\n",
    "            break\n",
    "        print(idx, i)"
   ]
  },
  {
   "cell_type": "code",
   "execution_count": 29,
   "id": "8abb05ff",
   "metadata": {},
   "outputs": [
    {
     "name": "stdout",
     "output_type": "stream",
     "text": [
      "홀수의 합:1225\n",
      "짝수의 리스트 : [2, 4, 6, 8, 10, 12, 14, 16, 18, 20, 22, 24, 26, 28, 30, 32, 34, 36, 38, 40, 42, 44, 46, 48, 50, 52, 54, 56, 58, 60, 62, 64, 66, 68, 70]\n"
     ]
    }
   ],
   "source": [
    "# 1-100까지 숫자를 생성하고 홀수만 합계를 구하세요.\n",
    "# 짝수면 짝수만 모인 리스트를 만들고 출력하세요.\n",
    "# 숫자가 70을 초과하면 멈추세요.\n",
    "hap = 0\n",
    "even = []\n",
    "for i in range(1,101):\n",
    "#    print(i)\n",
    "    if i > 70:\n",
    "        break\n",
    "    else:\n",
    "        if i % 2 != 0:\n",
    "            hap += i\n",
    "        else:\n",
    "            even.append(i)\n",
    "print(f\"홀수의 합:{hap}\")\n",
    "print(f\"짝수의 리스트 : {even}\")"
   ]
  },
  {
   "cell_type": "markdown",
   "id": "96578bcc",
   "metadata": {},
   "source": [
    "# while:반복할 횟수가 정해지지 않은 경우\n",
    "* 무한반복이 가능\n",
    "* 무한 반복이 되지 않도록 조건식을 잘 짜주는 것이 중요\n",
    "\n",
    "변수 선언 및 초기화 ex) num = 0 <br>\n",
    "while 조건식:<br>\n",
    "____반복할 코드<br>\n",
    "____변수 증가/감소 코드<br>\n",
    "____반복문이 종료되는 조건 + break"
   ]
  },
  {
   "cell_type": "markdown",
   "id": "062e7a2b",
   "metadata": {},
   "source": [
    "* while 문으로 1-10까지 출력하기"
   ]
  },
  {
   "cell_type": "code",
   "execution_count": 30,
   "id": "31f88bc4",
   "metadata": {},
   "outputs": [
    {
     "name": "stdout",
     "output_type": "stream",
     "text": [
      "1 2 3 4 5 6 7 8 9 10 "
     ]
    }
   ],
   "source": [
    "i = 1\n",
    "while i <= 10:\n",
    "    print(i, end = \" \")\n",
    "    i += 1"
   ]
  },
  {
   "cell_type": "code",
   "execution_count": 31,
   "id": "9aca7f2f",
   "metadata": {},
   "outputs": [
    {
     "name": "stdout",
     "output_type": "stream",
     "text": [
      "1 2 3 4 5 6 7 8 9 10 "
     ]
    }
   ],
   "source": [
    "i = 1\n",
    "while True:\n",
    "    print(i, end = \" \")\n",
    "    if i >= 10:\n",
    "        break\n",
    "    i += 1"
   ]
  },
  {
   "cell_type": "markdown",
   "id": "75c5e50d",
   "metadata": {},
   "source": [
    "* 1-50까지 수 2중에서 3의 배수이거나 짝수인 수를 찾아서 합계를 출력하세요."
   ]
  },
  {
   "cell_type": "code",
   "execution_count": 32,
   "id": "548587d3",
   "metadata": {},
   "outputs": [
    {
     "name": "stdout",
     "output_type": "stream",
     "text": [
      "i:2,hap:2\n",
      "i:3,hap:5\n",
      "i:4,hap:9\n",
      "i:6,hap:15\n",
      "i:8,hap:23\n",
      "i:9,hap:32\n",
      "i:10,hap:42\n",
      "i:12,hap:54\n",
      "i:14,hap:68\n",
      "i:15,hap:83\n",
      "i:16,hap:99\n",
      "i:18,hap:117\n",
      "i:20,hap:137\n",
      "i:21,hap:158\n",
      "i:22,hap:180\n",
      "i:24,hap:204\n",
      "i:26,hap:230\n",
      "i:27,hap:257\n",
      "i:28,hap:285\n",
      "i:30,hap:315\n",
      "i:32,hap:347\n",
      "i:33,hap:380\n",
      "i:34,hap:414\n",
      "i:36,hap:450\n",
      "i:38,hap:488\n",
      "i:39,hap:527\n",
      "i:40,hap:567\n",
      "i:42,hap:609\n",
      "i:44,hap:653\n",
      "i:45,hap:698\n",
      "i:46,hap:744\n",
      "i:48,hap:792\n",
      "i:50,hap:842\n",
      "842\n",
      "51\n"
     ]
    }
   ],
   "source": [
    "i = 1\n",
    "hap = 0\n",
    "list_4s = []\n",
    "while i <= 50:\n",
    "    if i % 3 == 0 or i % 2 == 0:\n",
    "        hap += i\n",
    "        print(f\"i:{i},hap:{hap}\")\n",
    "        if i % 4 == 0:\n",
    "            list_4s.append(i)\n",
    "    i += 1\n",
    "print(hap)\n",
    "print(i)"
   ]
  },
  {
   "cell_type": "markdown",
   "id": "1d9f7c3a",
   "metadata": {},
   "source": [
    "# while의 무한 반복\n",
    "* while 뒤의 조건이 True인 경우 무한 반복\n",
    "* while문 내에서 if 조건문으로 break를 걸어주어야 멈춤\n",
    "* True가 되는 조건: True,1,정수,실수,문자열,list등 자료가 들어있는 모든 변수나 자료\n",
    "* False가 되는 조건: False,0, 0.0, \" \",' ',[],(),{}"
   ]
  },
  {
   "cell_type": "code",
   "execution_count": 33,
   "id": "21d87afe",
   "metadata": {},
   "outputs": [],
   "source": [
    "i = 1\n",
    "while \"\":\n",
    "    print(i, '무한 반복')\n",
    "    i += 1"
   ]
  },
  {
   "cell_type": "markdown",
   "id": "1727bd2f",
   "metadata": {},
   "source": [
    "# 중첩 반목문\n",
    "* 반복문을 2개이상 겹쳐서 사용\n",
    "* 시계의 원리와 같음\n",
    "* 초 60 -> 1분 60분 -> 1시간 24\n",
    "* 안쪽 반복문이 끝난 후 바깥쪽 반복문이 실행\n",
    "* 아날로그 시계의 초침 -> 분침 -> 시침"
   ]
  },
  {
   "cell_type": "markdown",
   "id": "8d4e1c91",
   "metadata": {},
   "source": [
    "* 구구단 만들기 2중 중첨 for문으로 작성\n",
    "* 2단 - 9단\n",
    "* 각 단마다 1-9\n",
    "* 2 * 1 = 2\n",
    "* 2 * 2 = 4"
   ]
  },
  {
   "cell_type": "code",
   "execution_count": 34,
   "id": "2aff5b01",
   "metadata": {},
   "outputs": [
    {
     "name": "stdout",
     "output_type": "stream",
     "text": [
      "2X1 = 2\n",
      "2X2 = 4\n",
      "2X3 = 6\n",
      "2X4 = 8\n",
      "2X5 = 10\n",
      "2X6 = 12\n",
      "2X7 = 14\n",
      "2X8 = 16\n",
      "2X9 = 18\n",
      "3X1 = 3\n",
      "3X2 = 6\n",
      "3X3 = 9\n",
      "3X4 = 12\n",
      "3X5 = 15\n",
      "3X6 = 18\n",
      "3X7 = 21\n",
      "3X8 = 24\n",
      "3X9 = 27\n",
      "4X1 = 4\n",
      "4X2 = 8\n",
      "4X3 = 12\n",
      "4X4 = 16\n",
      "4X5 = 20\n",
      "4X6 = 24\n",
      "4X7 = 28\n",
      "4X8 = 32\n",
      "4X9 = 36\n",
      "5X1 = 5\n",
      "5X2 = 10\n",
      "5X3 = 15\n",
      "5X4 = 20\n",
      "5X5 = 25\n",
      "5X6 = 30\n",
      "5X7 = 35\n",
      "5X8 = 40\n",
      "5X9 = 45\n",
      "6X1 = 6\n",
      "6X2 = 12\n",
      "6X3 = 18\n",
      "6X4 = 24\n",
      "6X5 = 30\n",
      "6X6 = 36\n",
      "6X7 = 42\n",
      "6X8 = 48\n",
      "6X9 = 54\n",
      "7X1 = 7\n",
      "7X2 = 14\n",
      "7X3 = 21\n",
      "7X4 = 28\n",
      "7X5 = 35\n",
      "7X6 = 42\n",
      "7X7 = 49\n",
      "7X8 = 56\n",
      "7X9 = 63\n",
      "8X1 = 8\n",
      "8X2 = 16\n",
      "8X3 = 24\n",
      "8X4 = 32\n",
      "8X5 = 40\n",
      "8X6 = 48\n",
      "8X7 = 56\n",
      "8X8 = 64\n",
      "8X9 = 72\n",
      "9X1 = 9\n",
      "9X2 = 18\n",
      "9X3 = 27\n",
      "9X4 = 36\n",
      "9X5 = 45\n",
      "9X6 = 54\n",
      "9X7 = 63\n",
      "9X8 = 72\n",
      "9X9 = 81\n"
     ]
    }
   ],
   "source": [
    "# 2-9단 시침\n",
    "for num1 in range(2,10):\n",
    "#    print(num1) \n",
    "    pass\n",
    "    # 분침\n",
    "    for num2 in range(1,10):\n",
    "        print(f\"{num1}X{num2} = {num1*num2}\")"
   ]
  },
  {
   "cell_type": "markdown",
   "id": "b3e26611",
   "metadata": {},
   "source": [
    "* 반목문 3개로 시계 만들기\n",
    "* 초: 00-59\n",
    "* 분: 00-59\n",
    "* 시:00-23\n",
    "import time\n",
    "time.sleep(0.1)\n",
    "* 00:00:00-23:59:59"
   ]
  },
  {
   "cell_type": "code",
   "execution_count": 41,
   "id": "eca32944",
   "metadata": {},
   "outputs": [
    {
     "name": "stdout",
     "output_type": "stream",
     "text": [
      "04:46:01\r"
     ]
    },
    {
     "ename": "KeyboardInterrupt",
     "evalue": "",
     "output_type": "error",
     "traceback": [
      "\u001b[1;31m---------------------------------------------------------------------------\u001b[0m",
      "\u001b[1;31mKeyboardInterrupt\u001b[0m                         Traceback (most recent call last)",
      "Cell \u001b[1;32mIn[41], line 9\u001b[0m\n\u001b[0;32m      7\u001b[0m \u001b[38;5;28;01mfor\u001b[39;00m cho \u001b[38;5;129;01min\u001b[39;00m \u001b[38;5;28mrange\u001b[39m(\u001b[38;5;241m0\u001b[39m,\u001b[38;5;241m60\u001b[39m):\n\u001b[0;32m      8\u001b[0m     \u001b[38;5;28mprint\u001b[39m(\u001b[38;5;124mf\u001b[39m\u001b[38;5;124m\"\u001b[39m\u001b[38;5;132;01m{\u001b[39;00msi\u001b[38;5;132;01m:\u001b[39;00m\u001b[38;5;124m02d\u001b[39m\u001b[38;5;132;01m}\u001b[39;00m\u001b[38;5;124m:\u001b[39m\u001b[38;5;132;01m{\u001b[39;00mbun\u001b[38;5;132;01m:\u001b[39;00m\u001b[38;5;124m02d\u001b[39m\u001b[38;5;132;01m}\u001b[39;00m\u001b[38;5;124m:\u001b[39m\u001b[38;5;132;01m{\u001b[39;00mcho\u001b[38;5;132;01m:\u001b[39;00m\u001b[38;5;124m02d\u001b[39m\u001b[38;5;132;01m}\u001b[39;00m\u001b[38;5;124m\"\u001b[39m, end\u001b[38;5;241m=\u001b[39m\u001b[38;5;124m\"\u001b[39m\u001b[38;5;130;01m\\r\u001b[39;00m\u001b[38;5;124m\"\u001b[39m)\n\u001b[1;32m----> 9\u001b[0m     \u001b[43mtime\u001b[49m\u001b[38;5;241;43m.\u001b[39;49m\u001b[43msleep\u001b[49m\u001b[43m(\u001b[49m\u001b[38;5;241;43m0.01\u001b[39;49m\u001b[43m)\u001b[49m\n",
      "\u001b[1;31mKeyboardInterrupt\u001b[0m: "
     ]
    }
   ],
   "source": [
    "import time\n",
    "#시침\n",
    "for si in range(0,24):\n",
    "    # 분침\n",
    "    for bun in range(0,60):\n",
    "        #초침\n",
    "        for cho in range(0,60):\n",
    "            print(f\"{si:02d}:{bun:02d}:{cho:02d}\", end=\"\\r\")\n",
    "            time.sleep(0.01)"
   ]
  },
  {
   "cell_type": "markdown",
   "id": "a970ec1c",
   "metadata": {},
   "source": [
    "# 중첩 반복문을 이용해서 다중 리스트 출력하기"
   ]
  },
  {
   "cell_type": "code",
   "execution_count": 1,
   "id": "44536d4c",
   "metadata": {},
   "outputs": [],
   "source": [
    "l1 = []"
   ]
  },
  {
   "cell_type": "code",
   "execution_count": 10,
   "id": "c448f8ac",
   "metadata": {},
   "outputs": [],
   "source": [
    "l2 = [\"오\",1,2,3,4,5]"
   ]
  },
  {
   "cell_type": "code",
   "execution_count": 11,
   "id": "d295a54f",
   "metadata": {},
   "outputs": [
    {
     "data": {
      "text/plain": [
       "[['일', 1, 2, 3, 4, 5],\n",
       " ['이', 1, 2, 3, 4, 5],\n",
       " ['삼', 1, 2, 3, 4, 5],\n",
       " ['사', 1, 2, 3, 4, 5],\n",
       " ['오', 1, 2, 3, 4, 5]]"
      ]
     },
     "execution_count": 11,
     "metadata": {},
     "output_type": "execute_result"
    }
   ],
   "source": [
    "l1.append(l2)\n",
    "l1"
   ]
  },
  {
   "cell_type": "code",
   "execution_count": 12,
   "id": "fd8eba0b",
   "metadata": {},
   "outputs": [
    {
     "data": {
      "text/plain": [
       "2"
      ]
     },
     "execution_count": 12,
     "metadata": {},
     "output_type": "execute_result"
    }
   ],
   "source": [
    "l1[0][2]"
   ]
  },
  {
   "cell_type": "code",
   "execution_count": 15,
   "id": "92d3562f",
   "metadata": {},
   "outputs": [
    {
     "data": {
      "text/plain": [
       "['일',\n",
       " 1,\n",
       " 2,\n",
       " 3,\n",
       " 4,\n",
       " 5,\n",
       " '이',\n",
       " 1,\n",
       " 2,\n",
       " 3,\n",
       " 4,\n",
       " 5,\n",
       " '삼',\n",
       " 1,\n",
       " 2,\n",
       " 3,\n",
       " 4,\n",
       " 5,\n",
       " '사',\n",
       " 1,\n",
       " 2,\n",
       " 3,\n",
       " 4,\n",
       " 5,\n",
       " '오',\n",
       " 1,\n",
       " 2,\n",
       " 3,\n",
       " 4,\n",
       " 5]"
      ]
     },
     "execution_count": 15,
     "metadata": {},
     "output_type": "execute_result"
    }
   ],
   "source": [
    "result = []\n",
    "for i in l1:\n",
    "    for j in i:\n",
    "        result.append(j)\n",
    "result"
   ]
  },
  {
   "cell_type": "code",
   "execution_count": null,
   "id": "1d32a11b",
   "metadata": {},
   "outputs": [],
   "source": []
  }
 ],
 "metadata": {
  "kernelspec": {
   "display_name": "Python 3 (ipykernel)",
   "language": "python",
   "name": "python3"
  },
  "language_info": {
   "codemirror_mode": {
    "name": "ipython",
    "version": 3
   },
   "file_extension": ".py",
   "mimetype": "text/x-python",
   "name": "python",
   "nbconvert_exporter": "python",
   "pygments_lexer": "ipython3",
   "version": "3.9.23"
  }
 },
 "nbformat": 4,
 "nbformat_minor": 5
}
