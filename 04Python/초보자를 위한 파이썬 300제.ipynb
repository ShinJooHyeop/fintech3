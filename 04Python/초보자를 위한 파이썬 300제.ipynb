{
 "cells": [
  {
   "cell_type": "code",
   "execution_count": 1,
   "id": "efc85d2e",
   "metadata": {},
   "outputs": [
    {
     "name": "stdout",
     "output_type": "stream",
     "text": [
      "Hello Woerd\n"
     ]
    }
   ],
   "source": [
    "#1 화면에 Hello World 문자열을 출력하세요.\n",
    "print('Hello Woerd')"
   ]
  },
  {
   "cell_type": "code",
   "execution_count": 3,
   "id": "95c78fa1",
   "metadata": {},
   "outputs": [
    {
     "name": "stdout",
     "output_type": "stream",
     "text": [
      "Mary's cometics\n"
     ]
    }
   ],
   "source": [
    "#2 화면에 Mary's cosmetics을 출력하세요. (중간에 '가 있음에 주의하세요)\n",
    "print(\"Mary's cometics\")"
   ]
  },
  {
   "cell_type": "code",
   "execution_count": 5,
   "id": "e9a8c2c1",
   "metadata": {},
   "outputs": [
    {
     "name": "stdout",
     "output_type": "stream",
     "text": [
      "신씨가 소리지렀다.\"도둑이야\".\n"
     ]
    }
   ],
   "source": [
    "#3 화면에 아래 문장을 출력하세요. (중간에 \"가 있음에 주의하세요.)\n",
    "print('신씨가 소리지렀다.\"도둑이야\".')"
   ]
  },
  {
   "cell_type": "code",
   "execution_count": 9,
   "id": "18d2dd81",
   "metadata": {
    "scrolled": true
   },
   "outputs": [
    {
     "name": "stdout",
     "output_type": "stream",
     "text": [
      "C:\\Windows\n"
     ]
    }
   ],
   "source": [
    "#4 화면에 C:\\Windows를 출력하세요.\n",
    "print('C:\\Windows')"
   ]
  },
  {
   "cell_type": "markdown",
   "id": "174ec70a",
   "metadata": {},
   "source": [
    "### 5 다음 코드를 실행해보고 \\t와 \\n의 역할을 설명해보세요\n",
    "\n",
    "### \\n은 줄바꿈을 의미하고 \\t는 tap을 의미한다."
   ]
  },
  {
   "cell_type": "code",
   "execution_count": 8,
   "id": "405a9072",
   "metadata": {},
   "outputs": [
    {
     "name": "stdout",
     "output_type": "stream",
     "text": [
      "\"오늘은\", \"일요일\"\n"
     ]
    }
   ],
   "source": [
    "#6 print 함수에 두 개의 단어를 입력한 예제입니다. 아래 코드의 출력 결과를 예상해봅시다.\n",
    "print('\"오늘은\", \"일요일\"')"
   ]
  },
  {
   "cell_type": "code",
   "execution_count": 7,
   "id": "c9ee9f41",
   "metadata": {},
   "outputs": [
    {
     "name": "stdout",
     "output_type": "stream",
     "text": [
      "naver;kakao;sk;samsung\n"
     ]
    }
   ],
   "source": [
    "#7 print() 함수를 사용하여 다음과 같이 출력하세요.\n",
    "print(\"naver\",'kakao','sk','samsung',sep=\";\")"
   ]
  },
  {
   "cell_type": "code",
   "execution_count": 1,
   "id": "d1407146",
   "metadata": {},
   "outputs": [
    {
     "name": "stdout",
     "output_type": "stream",
     "text": [
      "naver/kakao/sk/samsung\n"
     ]
    }
   ],
   "source": [
    "#8 print() 함수를 사용하여 다음과 같이 출력하세요.\n",
    "print(\"naver\",'kakao','sk','samsung',sep=\"/\")"
   ]
  },
  {
   "cell_type": "code",
   "execution_count": 6,
   "id": "8bd2d0c1",
   "metadata": {},
   "outputs": [
    {
     "name": "stdout",
     "output_type": "stream",
     "text": [
      "first secend\n"
     ]
    }
   ],
   "source": [
    "#9 다음 코드를 수정하여 줄바꿈이 없이 출력하세요. (힌트: end='') print 함수는 두 번 사용합니다. 세미콜론 (;)은 한줄에 여러 개의 명령을 작성하기 위해 사용합니다.\n",
    "print(\"first\",end=\" \");print(\"secend\")"
   ]
  },
  {
   "cell_type": "code",
   "execution_count": 8,
   "id": "ec847266",
   "metadata": {},
   "outputs": [
    {
     "data": {
      "text/plain": [
       "1.6666666666666667"
      ]
     },
     "execution_count": 8,
     "metadata": {},
     "output_type": "execute_result"
    }
   ],
   "source": [
    "#10 5/3의 결과를 화면에 출력하세요.\n",
    "5/3"
   ]
  },
  {
   "cell_type": "code",
   "execution_count": 9,
   "id": "f72bce65",
   "metadata": {},
   "outputs": [],
   "source": [
    "#11 삼성전자라는 변수로 50,000원을 바인딩해보세요. 삼성전자 주식 10주를 보유하고 있을 때 총 평가금액을 출력하세요.\n",
    "삼성전자 = 50000"
   ]
  },
  {
   "cell_type": "code",
   "execution_count": 13,
   "id": "f27d09f2",
   "metadata": {},
   "outputs": [
    {
     "name": "stdout",
     "output_type": "stream",
     "text": [
      "500000\n"
     ]
    }
   ],
   "source": [
    "총평가금액 = 삼성전자*10\n",
    "print(총평가금액)"
   ]
  },
  {
   "cell_type": "code",
   "execution_count": 19,
   "id": "e9b02d79",
   "metadata": {},
   "outputs": [
    {
     "name": "stdout",
     "output_type": "stream",
     "text": [
      "2980000000000000 <class 'int'>\n",
      "500000 <class 'int'>\n",
      "15.79 <class 'float'>\n"
     ]
    }
   ],
   "source": [
    "#12 다음 표는 삼성전자의 일부 투자정보입니다. 변수를 사용해서 시가총액, 현재가, PER 등을 바인딩해보세요.\n",
    "시가총액 = 2980000000000000\n",
    "현재가 = 500000\n",
    "PER = 15.79\n",
    "print(시가총액,type(시가총액))\n",
    "print(현재가,type(현재가))\n",
    "print(PER,type(PER))"
   ]
  },
  {
   "cell_type": "code",
   "execution_count": 20,
   "id": "3f630294",
   "metadata": {},
   "outputs": [],
   "source": [
    "# 13 변수 s와 t에는 각각 문자열이 바인딩 되어있습니다.\n",
    "s = 'hello'\n",
    "t = 'python'"
   ]
  },
  {
   "cell_type": "code",
   "execution_count": 22,
   "id": "25fc8287",
   "metadata": {},
   "outputs": [
    {
     "name": "stdout",
     "output_type": "stream",
     "text": [
      "hello! python\n"
     ]
    }
   ],
   "source": [
    "print(s+\"! \"+t)"
   ]
  },
  {
   "cell_type": "code",
   "execution_count": 23,
   "id": "94ae2ecd",
   "metadata": {},
   "outputs": [
    {
     "name": "stdout",
     "output_type": "stream",
     "text": [
      "8\n"
     ]
    }
   ],
   "source": [
    "#14 아래 코드의 실행 결과를 예상해보세요.\n",
    "print(2+2*3)"
   ]
  },
  {
   "cell_type": "code",
   "execution_count": 24,
   "id": "c4912d3c",
   "metadata": {},
   "outputs": [
    {
     "name": "stdout",
     "output_type": "stream",
     "text": [
      "<class 'str'>\n"
     ]
    }
   ],
   "source": [
    "#15 type() 함수는 데이터 타입을 판별합니다. 변수 a에는 128 숫자가 바인딩돼 있어 type 함수가 int (정수)형임을 알려줍니다.\n",
    "a = \"132\"\n",
    "print(type(a))"
   ]
  },
  {
   "cell_type": "code",
   "execution_count": 26,
   "id": "f0da3501",
   "metadata": {},
   "outputs": [],
   "source": [
    "#16 문자열 '720'를 정수형으로 변환해보세요.\n",
    "num_str = \"720\""
   ]
  },
  {
   "cell_type": "code",
   "execution_count": 27,
   "id": "2c9bd1a4",
   "metadata": {},
   "outputs": [
    {
     "name": "stdout",
     "output_type": "stream",
     "text": [
      "720 <class 'int'>\n"
     ]
    }
   ],
   "source": [
    "print(int(num_str),type(int(num_str)))"
   ]
  },
  {
   "cell_type": "code",
   "execution_count": 28,
   "id": "096806fb",
   "metadata": {},
   "outputs": [
    {
     "name": "stdout",
     "output_type": "stream",
     "text": [
      "100 <class 'str'>\n"
     ]
    }
   ],
   "source": [
    "#17 정수 100을 문자열 '100'으로 변환해보세요.\n",
    "print(str(100),type(str(100)))"
   ]
  },
  {
   "cell_type": "code",
   "execution_count": 30,
   "id": "cb5110d2",
   "metadata": {},
   "outputs": [
    {
     "name": "stdout",
     "output_type": "stream",
     "text": [
      "15 <class 'int'>\n"
     ]
    }
   ],
   "source": [
    "#18 문자열 \"15.79\"를 실수(float) 타입으로 변환해보세요.\n",
    "print(int(15.79),type(int(15.79)))"
   ]
  },
  {
   "cell_type": "code",
   "execution_count": 31,
   "id": "a0c6b062",
   "metadata": {},
   "outputs": [
    {
     "name": "stdout",
     "output_type": "stream",
     "text": [
      "2020 <class 'int'>\n"
     ]
    }
   ],
   "source": [
    "#19 year라는 변수가 문자열 타입의 연도를 바인딩하고 있습니다. 이를 정수로 변환한 후 최근 3년의 연도를 화면에 출력해보세요.\n",
    "year = \"2020\"\n",
    "print(int(year),type(int(year)))"
   ]
  },
  {
   "cell_type": "code",
   "execution_count": 36,
   "id": "0570745d",
   "metadata": {},
   "outputs": [
    {
     "name": "stdout",
     "output_type": "stream",
     "text": [
      "2017\n",
      "2018\n",
      "2019\n"
     ]
    }
   ],
   "source": [
    "print(int(year)-3)\n",
    "print(int(year)-2)\n",
    "print(int(year)-1)"
   ]
  },
  {
   "cell_type": "code",
   "execution_count": 38,
   "id": "99a4ca1c",
   "metadata": {},
   "outputs": [
    {
     "name": "stdout",
     "output_type": "stream",
     "text": [
      "1749024\n"
     ]
    }
   ],
   "source": [
    "# 20 에이컨이 월 48,584원에 무이자 36개월의 조건으로 홈쇼핑에서 판매되고 있습니다. 총 금액은 계산한 후 이를 화면에 출력해보세요. (변수사용하기)\n",
    "wol = 48584\n",
    "print(wol*36)"
   ]
  },
  {
   "cell_type": "code",
   "execution_count": 43,
   "id": "850ec78e",
   "metadata": {},
   "outputs": [
    {
     "name": "stdout",
     "output_type": "stream",
     "text": [
      "p t\n"
     ]
    }
   ],
   "source": [
    "#21 letters가 바인딩하는 문자열에서 첫번째와 세번째 문자를 출력하세요.\n",
    "letters = 'python'\n",
    "print(letters[0],letters[2])"
   ]
  },
  {
   "cell_type": "code",
   "execution_count": 44,
   "id": "add84062",
   "metadata": {},
   "outputs": [
    {
     "name": "stdout",
     "output_type": "stream",
     "text": [
      "2210\n"
     ]
    }
   ],
   "source": [
    "#22 자동차 번호가 다음과 같을 때 뒤에 4자리만 출력하세요.\n",
    "license_plate='24가 2210'\n",
    "print(license_plate[4:])"
   ]
  },
  {
   "cell_type": "code",
   "execution_count": 47,
   "id": "90d9cbd7",
   "metadata": {},
   "outputs": [
    {
     "name": "stdout",
     "output_type": "stream",
     "text": [
      "홀홀홀\n"
     ]
    }
   ],
   "source": [
    "#23 아래의 문자열에서 '홀' 만 출력하세요.\n",
    "string='홀짝홀짝홀짝'\n",
    "print(string[::2])"
   ]
  },
  {
   "cell_type": "code",
   "execution_count": 51,
   "id": "90a595fc",
   "metadata": {},
   "outputs": [
    {
     "name": "stdout",
     "output_type": "stream",
     "text": [
      "NOHTYP\n"
     ]
    }
   ],
   "source": [
    "#24 문자열을 거꾸로 뒤집어 출력하세요.\n",
    "string = 'PYTHON'\n",
    "print(string[::-1])"
   ]
  },
  {
   "cell_type": "code",
   "execution_count": 61,
   "id": "796ac91d",
   "metadata": {},
   "outputs": [
    {
     "name": "stdout",
     "output_type": "stream",
     "text": [
      "010 1111 2222\n"
     ]
    }
   ],
   "source": [
    "#25 아래의 전화번호에서 하이푼 ('-')을 제거하고 출력하세요.\n",
    "phone_number = \"010-1111-2222\"\n",
    "phone_number1 = phone_number.replace(\"-\", \" \")\n",
    "print(phone_number1)"
   ]
  },
  {
   "cell_type": "code",
   "execution_count": 65,
   "id": "b9cc91e7",
   "metadata": {},
   "outputs": [
    {
     "name": "stdout",
     "output_type": "stream",
     "text": [
      "01011112222\n"
     ]
    }
   ],
   "source": [
    "#26 25번 문제의 전화번호를 아래와 같이 모두 붙여 출력하세요.\n",
    "phone_number1 = phone_number.replace(\"-\", \"\")\n",
    "print(phone_number1)"
   ]
  },
  {
   "cell_type": "code",
   "execution_count": 67,
   "id": "b9a1d6fe",
   "metadata": {},
   "outputs": [
    {
     "name": "stdout",
     "output_type": "stream",
     "text": [
      "kr\n"
     ]
    }
   ],
   "source": [
    "#27 url 에 저장된 웹 페이지 주소에서 도메인을 출력하세요.\n",
    "url = \"http://sharebook.kr\"\n",
    "print(url[17:])"
   ]
  },
  {
   "cell_type": "code",
   "execution_count": 70,
   "id": "65c8389e",
   "metadata": {},
   "outputs": [
    {
     "ename": "TypeError",
     "evalue": "'str' object does not support item assignment",
     "output_type": "error",
     "traceback": [
      "\u001b[1;31m---------------------------------------------------------------------------\u001b[0m",
      "\u001b[1;31mTypeError\u001b[0m                                 Traceback (most recent call last)",
      "Cell \u001b[1;32mIn[70], line 3\u001b[0m\n\u001b[0;32m      1\u001b[0m \u001b[38;5;66;03m#28\u001b[39;00m\n\u001b[0;32m      2\u001b[0m lang \u001b[38;5;241m=\u001b[39m \u001b[38;5;124m'\u001b[39m\u001b[38;5;124mpython\u001b[39m\u001b[38;5;124m'\u001b[39m\n\u001b[1;32m----> 3\u001b[0m \u001b[43mlang\u001b[49m\u001b[43m[\u001b[49m\u001b[38;5;241;43m0\u001b[39;49m\u001b[43m]\u001b[49m \u001b[38;5;241m=\u001b[39m \u001b[38;5;124m'\u001b[39m\u001b[38;5;124mP\u001b[39m\u001b[38;5;124m'\u001b[39m\n\u001b[0;32m      4\u001b[0m \u001b[38;5;28mprint\u001b[39m(lang)\n",
      "\u001b[1;31mTypeError\u001b[0m: 'str' object does not support item assignment"
     ]
    }
   ],
   "source": [
    "#28 아래 코드의 실행 결과를 예상해보세요.\n",
    "lang = 'python'\n",
    "lang[0] = 'P'\n",
    "print(lang)\n",
    "#문자열은 수정할 수 없습니다. 실행 결과를 확인해보면 문자열이 할당(assignment) 메서드를 지원하지 않음을 알 수 있습니다."
   ]
  },
  {
   "cell_type": "code",
   "execution_count": 71,
   "id": "38d0c5a4",
   "metadata": {},
   "outputs": [
    {
     "data": {
      "text/plain": [
       "'Abcdfe2A354A32A'"
      ]
     },
     "execution_count": 71,
     "metadata": {},
     "output_type": "execute_result"
    }
   ],
   "source": [
    "#29 아래 문자열에서 소문자 'a'를 대문자 'A'로 변경하세요.\n",
    "string = 'abcdfe2a354a32a'\n",
    "string.replace('a','A')"
   ]
  },
  {
   "cell_type": "code",
   "execution_count": 72,
   "id": "4f83b2de",
   "metadata": {},
   "outputs": [
    {
     "name": "stdout",
     "output_type": "stream",
     "text": [
      "abcd\n"
     ]
    }
   ],
   "source": [
    "#30 아래 코드의 실행 결과를 예상해보세요.\n",
    "string = 'abcd'\n",
    "string.replace('b','B')\n",
    "print(string)\n",
    "# 문자열은 변경할 수 없는 자료형이기 떄문에 그대로 출력된다."
   ]
  },
  {
   "cell_type": "code",
   "execution_count": 74,
   "id": "34721635",
   "metadata": {},
   "outputs": [
    {
     "name": "stdout",
     "output_type": "stream",
     "text": [
      "34\n"
     ]
    }
   ],
   "source": [
    "#31 아레코드를  예상해보세요\n",
    "a = \"3\"\n",
    "b = \"4\"\n",
    "print(a + b)\n",
    "# 문자열 을 더한 값인 34가 출력된다."
   ]
  },
  {
   "cell_type": "code",
   "execution_count": 75,
   "id": "bc478d55",
   "metadata": {},
   "outputs": [
    {
     "name": "stdout",
     "output_type": "stream",
     "text": [
      "HiHiHi\n"
     ]
    }
   ],
   "source": [
    "#32 아레코드를  예상해보세요\n",
    "print(\"Hi\" * 3)\n",
    "\n",
    "#HiHIii"
   ]
  },
  {
   "cell_type": "code",
   "execution_count": 78,
   "id": "6a117a1b",
   "metadata": {},
   "outputs": [
    {
     "name": "stdout",
     "output_type": "stream",
     "text": [
      "--------------------------------------------------------------------------------\n"
     ]
    }
   ],
   "source": [
    "#33 화면에 '-'를 80개 출력하세요.\n",
    "print('-'*80)"
   ]
  },
  {
   "cell_type": "code",
   "execution_count": 92,
   "id": "c812dc9a",
   "metadata": {},
   "outputs": [
    {
     "name": "stdout",
     "output_type": "stream",
     "text": [
      "python java python java python java python java \n"
     ]
    }
   ],
   "source": [
    "#34 변수에 다음과 같은 문자열이 바인딩되어 있습니다.\n",
    "t1 = 'python'\n",
    "t2 = 'java'\n",
    "t3 = t1 + ' '+ t2 + ' '\n",
    "print(t3*4)"
   ]
  },
  {
   "cell_type": "code",
   "execution_count": 95,
   "id": "b2e0eaf2",
   "metadata": {},
   "outputs": [
    {
     "name": "stdout",
     "output_type": "stream",
     "text": [
      "이름: 김민수,나이: 10\n",
      "이름: 이철희,나이: 13\n"
     ]
    }
   ],
   "source": [
    "#35 변수에 다음과 같이 문자열과 정수가 바인딩되어 있을 때 % formatting을 사용해서 다음과 같이 출력해보세요.\n",
    "name1 = \"김민수\" \n",
    "age1 = 10\n",
    "name2 = \"이철희\"\n",
    "age2 = 13\n",
    "print('이름: %s,나이: %d' % (name1,age1))\n",
    "print('이름: %s,나이: %d' % (name2,age2))"
   ]
  },
  {
   "cell_type": "code",
   "execution_count": 96,
   "id": "d4711128",
   "metadata": {},
   "outputs": [],
   "source": [
    "#36 문자열의 format( ) 메서드를 사용해서 035번 문제를 다시 풀어보세요.\n"
   ]
  },
  {
   "cell_type": "code",
   "execution_count": null,
   "id": "38fbdbc6",
   "metadata": {},
   "outputs": [],
   "source": [
    "#37 파이썬 3.6부터 지원하는 f-string을 사용해서 035번 문제를 다시 풀어보세요."
   ]
  },
  {
   "cell_type": "code",
   "execution_count": 105,
   "id": "42b5af32",
   "metadata": {},
   "outputs": [
    {
     "name": "stdout",
     "output_type": "stream",
     "text": [
      "5969782550\n"
     ]
    }
   ],
   "source": [
    "#38 삼성전자의 상장주식수가 다음과 같습니다. 컴마를 제거한 후 이를 정수 타입으로 변환해보세요.\n",
    "상장주식수 = \"5,969,782,550\"\n",
    "상장주식수.replace(',','')\n",
    "print(int(상장주식수.replace(',','')))"
   ]
  },
  {
   "cell_type": "code",
   "execution_count": 98,
   "id": "79ad72fd",
   "metadata": {},
   "outputs": [
    {
     "name": "stdout",
     "output_type": "stream",
     "text": [
      "2020/03\n"
     ]
    }
   ],
   "source": [
    "#39 다음과 같은 문자열에서 '2020/03'만 출력하세요.\n",
    "분기 = \"2020/03(E) (IFRS연결)\"\n",
    "print(분기[0:7])"
   ]
  },
  {
   "cell_type": "code",
   "execution_count": 102,
   "id": "14cb0394",
   "metadata": {},
   "outputs": [
    {
     "name": "stdout",
     "output_type": "stream",
     "text": [
      "삼성전자\n"
     ]
    }
   ],
   "source": [
    "#40 문자열의 좌우의 공백이 있을 때 이를 제거해보세요.\n",
    "data = \"   삼성전자    \"\n",
    "data1 = data.strip()\n",
    "print(data1)"
   ]
  },
  {
   "cell_type": "code",
   "execution_count": 106,
   "id": "c96a377c",
   "metadata": {},
   "outputs": [
    {
     "data": {
      "text/plain": [
       "'BTC_KRW'"
      ]
     },
     "execution_count": 106,
     "metadata": {},
     "output_type": "execute_result"
    }
   ],
   "source": [
    "#41 다음과 같은 문자열이 있을 때 이를 대문자 BTC_KRW로 변경하세요\n",
    "ticker = \"btc_krw\"\n",
    "ticker.upper()"
   ]
  },
  {
   "cell_type": "code",
   "execution_count": 1,
   "id": "1b96e055",
   "metadata": {},
   "outputs": [
    {
     "data": {
      "text/plain": [
       "'btc_krw'"
      ]
     },
     "execution_count": 1,
     "metadata": {},
     "output_type": "execute_result"
    }
   ],
   "source": [
    "#42 다음과 같은 문자열이 있을 때 이를 소문자 btc_krw로 변경하세요.\n",
    "ticker = \"BTC_KRW\"\n",
    "ticker.lower()"
   ]
  },
  {
   "cell_type": "code",
   "execution_count": 4,
   "id": "9d4157b2",
   "metadata": {},
   "outputs": [
    {
     "name": "stdout",
     "output_type": "stream",
     "text": [
      "Hello\n"
     ]
    }
   ],
   "source": [
    "#43 문자열 'hello'가 있을 때 이를 'Hello'로 변경해보세요.\n",
    "a = 'hello'\n",
    "a = a.capitalize()\n",
    "print(a)"
   ]
  },
  {
   "cell_type": "code",
   "execution_count": 3,
   "id": "2cdc2a48",
   "metadata": {},
   "outputs": [
    {
     "data": {
      "text/plain": [
       "True"
      ]
     },
     "execution_count": 3,
     "metadata": {},
     "output_type": "execute_result"
    }
   ],
   "source": [
    "# 44 파일 이름이 문자열로 저장되어 있을 때 endswith 메서드를 사용해서 파일 이름이 'xlsx'로 끝나는지 확인해보세요\n",
    "file_name = \"보고서.xlsx\"\n",
    "file_name.endswith(\"xlsx\")"
   ]
  },
  {
   "cell_type": "code",
   "execution_count": 7,
   "id": "968a0d9c",
   "metadata": {},
   "outputs": [
    {
     "data": {
      "text/plain": [
       "True"
      ]
     },
     "execution_count": 7,
     "metadata": {},
     "output_type": "execute_result"
    }
   ],
   "source": [
    "# 45 파일 이름이 문자열로 저장되어 있을 때 endswith 메서드를 사용해서 파일 이름이 'xlsx' 또는 'xls'로 끝나는지 확인해보세요.\n",
    "file_name.endswith(('xlsx','xls'))"
   ]
  },
  {
   "cell_type": "code",
   "execution_count": 9,
   "id": "3ae71297",
   "metadata": {},
   "outputs": [
    {
     "data": {
      "text/plain": [
       "True"
      ]
     },
     "execution_count": 9,
     "metadata": {},
     "output_type": "execute_result"
    }
   ],
   "source": [
    "# 46 파일 이름이 문자열로 저장되어 있을 때 startswith 메서드를 사용해서 파일 이름이 '2020'로 시작하는지 확인해보세요.\n",
    "file_name = \"2020_보고서.xlsx\"\n",
    "file_name.startswith('2020')"
   ]
  },
  {
   "cell_type": "code",
   "execution_count": 10,
   "id": "385b4abc",
   "metadata": {},
   "outputs": [
    {
     "data": {
      "text/plain": [
       "['hello', 'world']"
      ]
     },
     "execution_count": 10,
     "metadata": {},
     "output_type": "execute_result"
    }
   ],
   "source": [
    "#47 다음과 같은 문자열이 있을 때 공백을 기준으로 문자열을 나눠보세요.\n",
    "a = \"hello world\"\n",
    "a.split(\" \")"
   ]
  },
  {
   "cell_type": "code",
   "execution_count": 12,
   "id": "ff99e687",
   "metadata": {},
   "outputs": [
    {
     "data": {
      "text/plain": [
       "['btc', 'krw']"
      ]
     },
     "execution_count": 12,
     "metadata": {},
     "output_type": "execute_result"
    }
   ],
   "source": [
    "# 48 다음과 같이 문자열이 있을 때 btc와 krw로 나눠보세요.\n",
    "ticker = \"btc_krw\"\n",
    "ticker.split(\"_\")"
   ]
  },
  {
   "cell_type": "code",
   "execution_count": 13,
   "id": "6545f168",
   "metadata": {},
   "outputs": [
    {
     "data": {
      "text/plain": [
       "['2020', '05', '01']"
      ]
     },
     "execution_count": 13,
     "metadata": {},
     "output_type": "execute_result"
    }
   ],
   "source": [
    "# 49 다음과 같이 날짜를 표현하는 문자열이 있을 때 연도, 월, 일로 나눠보세요.\n",
    "date = \"2020-05-01\"\n",
    "date.split(\"-\")"
   ]
  },
  {
   "cell_type": "code",
   "execution_count": 14,
   "id": "232bd0de",
   "metadata": {},
   "outputs": [
    {
     "data": {
      "text/plain": [
       "'039490'"
      ]
     },
     "execution_count": 14,
     "metadata": {},
     "output_type": "execute_result"
    }
   ],
   "source": [
    "# 50 문자열의 오른쪽에 공백이 있을 때 이를 제거해보세요.\n",
    "data = \"039490     \"\n",
    "data.rstrip()"
   ]
  },
  {
   "cell_type": "code",
   "execution_count": 1,
   "id": "3f16fbd1",
   "metadata": {},
   "outputs": [],
   "source": [
    "# 51 2016년 11월 영화 예매 순위 기준 top3는 다음과 같습니다. 영화 제목을 movie_rank 이름의 리스트에 저장해보세요. (순위 정보는 저장하지 않습니다.)\n",
    "\n",
    "\n",
    "movie_rank =[\"닥터스트레인지\",\"스플릿\",\"럭키\"]"
   ]
  },
  {
   "cell_type": "code",
   "execution_count": 2,
   "id": "4ab3089a",
   "metadata": {},
   "outputs": [],
   "source": [
    "#52 \n",
    "movie_rank.append(\"베트맨\")"
   ]
  },
  {
   "cell_type": "code",
   "execution_count": 3,
   "id": "9251a3a1",
   "metadata": {},
   "outputs": [
    {
     "name": "stdout",
     "output_type": "stream",
     "text": [
      "['닥터스트레인지', '스플릿', '럭키', '베트맨']\n"
     ]
    }
   ],
   "source": [
    "#53 movie_rank 리스트에는 아래와 같이 네 개의 영화 제목이 바인딩되어 있다. \"슈퍼맨\"을 \"닥터 스트레인지\"와 \"스플릿\" 사이에 추가하라.\n",
    "print(movie_rank)\n",
    "movie_rank.insert(1,\"슈퍼맨\")"
   ]
  },
  {
   "cell_type": "code",
   "execution_count": 4,
   "id": "6063fee2",
   "metadata": {},
   "outputs": [
    {
     "name": "stdout",
     "output_type": "stream",
     "text": [
      "['닥터스트레인지', '슈퍼맨', '스플릿', '럭키', '베트맨']\n"
     ]
    }
   ],
   "source": [
    "print(movie_rank)"
   ]
  },
  {
   "cell_type": "code",
   "execution_count": 5,
   "id": "6af79b5f",
   "metadata": {},
   "outputs": [
    {
     "name": "stdout",
     "output_type": "stream",
     "text": [
      "['닥터스트레인지', '슈퍼맨', '스플릿', '베트맨']\n"
     ]
    }
   ],
   "source": [
    "#54 movie_rank 리스트에서 '럭키'를 삭제하라.movi\n",
    "movie_rank.remove('럭키')\n",
    "print(movie_rank)"
   ]
  },
  {
   "cell_type": "code",
   "execution_count": 6,
   "id": "4bec1421",
   "metadata": {},
   "outputs": [
    {
     "name": "stdout",
     "output_type": "stream",
     "text": [
      "['닥터스트레인지', '슈퍼맨']\n"
     ]
    }
   ],
   "source": [
    "#55 movie_rank 리스트에서 '스플릿' 과 '배트맨'을 를 삭제하라.\n",
    "movie_rank.remove('스플릿')\n",
    "movie_rank.remove('베트맨')\n",
    "print(movie_rank)"
   ]
  },
  {
   "cell_type": "code",
   "execution_count": 8,
   "id": "ea002181",
   "metadata": {},
   "outputs": [
    {
     "name": "stdout",
     "output_type": "stream",
     "text": [
      "['C', 'C++', 'JAVA', 'Python', 'Go', 'C#']\n"
     ]
    }
   ],
   "source": [
    "#56 lang1과 lang2 리스트가 있을 때 lang1과 lang2의 원소를 모두 갖고 있는 langs 리스트를 만들어라.\n",
    "lang1 = [\"C\", \"C++\", \"JAVA\"]\n",
    "lang2 = [\"Python\", \"Go\", \"C#\"]\n",
    "langs = lang1 + lang2\n",
    "print(langs)"
   ]
  },
  {
   "cell_type": "code",
   "execution_count": 9,
   "id": "7c6b1d31",
   "metadata": {},
   "outputs": [
    {
     "name": "stdout",
     "output_type": "stream",
     "text": [
      "7 1\n"
     ]
    }
   ],
   "source": [
    "#57 다음 리스트에서 최댓값과 최솟값을 출력하라. (힌트: min(), max() 함수 사용)\n",
    "nums = [1, 2, 3, 4, 5, 6, 7]\n",
    "print(max(nums),min(nums))"
   ]
  },
  {
   "cell_type": "code",
   "execution_count": 11,
   "id": "8b3d57d1",
   "metadata": {},
   "outputs": [
    {
     "data": {
      "text/plain": [
       "15"
      ]
     },
     "execution_count": 11,
     "metadata": {},
     "output_type": "execute_result"
    }
   ],
   "source": [
    "#58 다음 리스트의 합을 출력하라.\n",
    "nums = [1, 2, 3, 4, 5]\n",
    "sum(nums)"
   ]
  },
  {
   "cell_type": "code",
   "execution_count": 12,
   "id": "7f5ebf85",
   "metadata": {},
   "outputs": [
    {
     "data": {
      "text/plain": [
       "12"
      ]
     },
     "execution_count": 12,
     "metadata": {},
     "output_type": "execute_result"
    }
   ],
   "source": [
    "#59 다음 리스트에 저장된 데이터의 개수를 화면에 구하하라.\n",
    "cook = [\"피자\", \"김밥\", \"만두\", \"양념치킨\", \"족발\", \"피자\", \"김치만두\", \"쫄면\", \"소시지\", \"라면\", \"팥빙수\", \"김치전\"]\n",
    "len(cook)"
   ]
  },
  {
   "cell_type": "code",
   "execution_count": 14,
   "id": "0e6c8b5f",
   "metadata": {},
   "outputs": [
    {
     "name": "stdout",
     "output_type": "stream",
     "text": [
      "3.0\n"
     ]
    }
   ],
   "source": [
    "# 60 다음 리스트의 평균을 출력하라.\n",
    "nums = [1, 2, 3, 4, 5]\n",
    "avg = sum(nums) / len(nums)\n",
    "print(avg)"
   ]
  },
  {
   "cell_type": "code",
   "execution_count": 15,
   "id": "3737330b",
   "metadata": {},
   "outputs": [
    {
     "data": {
      "text/plain": [
       "[100, 130, 140, 150, 160, 170]"
      ]
     },
     "execution_count": 15,
     "metadata": {},
     "output_type": "execute_result"
    }
   ],
   "source": [
    "#61 price 변수에는 날짜와 종가 정보가 저장돼 있다. 날짜 정보를 제외하고 가격 정보만을 출력하라. (힌트 : 슬라이싱)\n",
    "price = ['20180728', 100, 130, 140, 150, 160, 170]\n",
    "price[1:]"
   ]
  },
  {
   "cell_type": "code",
   "execution_count": 16,
   "id": "b85d556b",
   "metadata": {},
   "outputs": [
    {
     "data": {
      "text/plain": [
       "[1, 3, 5, 7, 9]"
      ]
     },
     "execution_count": 16,
     "metadata": {},
     "output_type": "execute_result"
    }
   ],
   "source": [
    "#62 슬라이싱을 사용해서 홀수만 출력하라\n",
    "nums = [1, 2, 3, 4, 5, 6, 7, 8, 9, 10]\n",
    "nums[::2]"
   ]
  },
  {
   "cell_type": "code",
   "execution_count": 22,
   "id": "d5cf675c",
   "metadata": {},
   "outputs": [
    {
     "data": {
      "text/plain": [
       "[2, 4, 6, 8, 10]"
      ]
     },
     "execution_count": 22,
     "metadata": {},
     "output_type": "execute_result"
    }
   ],
   "source": [
    "#63 슬라이싱을 사용해서 짝수만 출력하라.\n",
    "nums[1::2]"
   ]
  },
  {
   "cell_type": "code",
   "execution_count": 24,
   "id": "30b71342",
   "metadata": {},
   "outputs": [
    {
     "data": {
      "text/plain": [
       "[5, 4, 3, 2, 1]"
      ]
     },
     "execution_count": 24,
     "metadata": {},
     "output_type": "execute_result"
    }
   ],
   "source": [
    "#64 슬라이싱을 사용해서 리스트의 숫자를 역 방향으로 출력하라.\n",
    "nums = [1, 2, 3, 4, 5]\n",
    "nums[::-1]"
   ]
  },
  {
   "cell_type": "code",
   "execution_count": 26,
   "id": "81f64ac3",
   "metadata": {},
   "outputs": [
    {
     "data": {
      "text/plain": [
       "['삼성전자', 'Naver']"
      ]
     },
     "execution_count": 26,
     "metadata": {},
     "output_type": "execute_result"
    }
   ],
   "source": [
    "#65 interest 리스트에는 아래의 데이터가 바인딩되어 있다.\n",
    "interest = ['삼성전자', 'LG전자', 'Naver']\n",
    "interest[::2]"
   ]
  },
  {
   "cell_type": "code",
   "execution_count": 29,
   "id": "bdffda07",
   "metadata": {},
   "outputs": [
    {
     "data": {
      "text/plain": [
       "'삼성전자 LG전자 Naver SK하이닉스 미래에셋대우'"
      ]
     },
     "execution_count": 29,
     "metadata": {},
     "output_type": "execute_result"
    }
   ],
   "source": [
    "# 66 \n",
    "interest = ['삼성전자', 'LG전자', 'Naver', 'SK하이닉스', '미래에셋대우']\n",
    "\" \".join(interest)"
   ]
  },
  {
   "cell_type": "code",
   "execution_count": 30,
   "id": "fe6e6994",
   "metadata": {},
   "outputs": [
    {
     "data": {
      "text/plain": [
       "'삼성전자/LG전자/Naver/SK하이닉스/미래에셋대우'"
      ]
     },
     "execution_count": 30,
     "metadata": {},
     "output_type": "execute_result"
    }
   ],
   "source": [
    "#67 interest 리스트를 사용하여 아래와 같이 화면에 출력하라.\n",
    "\"/\".join(interest)"
   ]
  },
  {
   "cell_type": "code",
   "execution_count": 34,
   "id": "2490a5fb",
   "metadata": {},
   "outputs": [
    {
     "data": {
      "text/plain": [
       "'삼성전자\\n,LG전자\\n,Naver\\n,SK하이닉스\\n,미래에셋대우'"
      ]
     },
     "execution_count": 34,
     "metadata": {},
     "output_type": "execute_result"
    }
   ],
   "source": [
    "#68 join() 메서드를 사용해서 interest 리스트를 아래와 같이 화면에 출력하라.\n",
    "'\\n,'.join(interest)"
   ]
  },
  {
   "cell_type": "code",
   "execution_count": 37,
   "id": "afa15db1",
   "metadata": {},
   "outputs": [
    {
     "data": {
      "text/plain": [
       "['삼성전자', 'LG전자', 'Naver']"
      ]
     },
     "execution_count": 37,
     "metadata": {},
     "output_type": "execute_result"
    }
   ],
   "source": [
    "#69  회사 이름이 슬래시 ('/')로 구분되어 하나의 문자열로 저장되어 있다.\n",
    "string = \"삼성전자/LG전자/Naver\"\n",
    "string.split(\"/\")"
   ]
  },
  {
   "cell_type": "code",
   "execution_count": 39,
   "id": "47430a5c",
   "metadata": {},
   "outputs": [
    {
     "name": "stdout",
     "output_type": "stream",
     "text": [
      "[1, 2, 3, 4, 5, 9, 10]\n"
     ]
    }
   ],
   "source": [
    "#70 리스트에 있는 값을 오름차순으로 정렬하세요.\n",
    "data = [2, 4, 3, 1, 5, 10, 9]\n",
    "data.sort()\n",
    "print(data)"
   ]
  },
  {
   "cell_type": "code",
   "execution_count": 40,
   "id": "d29c05df",
   "metadata": {},
   "outputs": [],
   "source": [
    "#71 my_variable 이름의 비어있는 튜플을 만들라.\n",
    "my_variable = ()"
   ]
  },
  {
   "cell_type": "code",
   "execution_count": 41,
   "id": "c3ba96fd",
   "metadata": {},
   "outputs": [],
   "source": [
    "#72 2016년 11월 영화 예매 순위 기준 top3는 다음과 같다. 영화 제목을 movie_rank 이름의 튜플에 저장하라. (순위 정보는 저장하지 않는다.)\n",
    "my_variable = list(my_variable)\n",
    "my_variable.append(\"닥터 스트레인지\")\n",
    "my_variable.append(\"스플릿\")\n",
    "my_variable.append(\"럭키\")\n",
    "my_variable = tuple(my_variable)"
   ]
  },
  {
   "cell_type": "code",
   "execution_count": 42,
   "id": "62b90e7b",
   "metadata": {},
   "outputs": [
    {
     "name": "stdout",
     "output_type": "stream",
     "text": [
      "('닥터 스트레인지', '스플릿', '럭키')\n"
     ]
    }
   ],
   "source": [
    "print(my_variable)"
   ]
  },
  {
   "cell_type": "code",
   "execution_count": 47,
   "id": "ba23363c",
   "metadata": {},
   "outputs": [
    {
     "name": "stdout",
     "output_type": "stream",
     "text": [
      "<class 'tuple'>\n"
     ]
    }
   ],
   "source": [
    "# 73 숫자 1 이 저장된 튜플을 생성하라.\n",
    "my_tuple = (1,)\n",
    "print(type(my_tuple))"
   ]
  },
  {
   "cell_type": "markdown",
   "id": "b92bd0e9",
   "metadata": {},
   "source": [
    "# 74 다음 코드를 실행해보고 오류가 발생하는 원인을 설명해라.\n",
    "* t = (1, 2, 3)\n",
    "* t[0] = 'a'\n",
    "* Traceback (most recent call last):\n",
    "* File \"<pyshell#46>\", line 1, in <module>\n",
    "* t[0] = 'a'\n",
    "* TypeError: 'tuple' object does not support item assignment\n",
    " \n",
    "# 원인: 튜플에 원소는 변경할 수 없기 떄문에"
   ]
  },
  {
   "cell_type": "code",
   "execution_count": 2,
   "id": "9da39545",
   "metadata": {},
   "outputs": [
    {
     "name": "stdout",
     "output_type": "stream",
     "text": [
      "<class 'tuple'>\n"
     ]
    }
   ],
   "source": [
    "# 75 아래와 같이 t에는 1, 2, 3, 4 데이터가 바인딩되어 있다. t가 바인딩하는 데이터 타입은 무엇인가?\n",
    "t = 1, 2, 3, 4\n",
    "print(type(t))\n",
    "# 튜플"
   ]
  },
  {
   "cell_type": "code",
   "execution_count": 5,
   "id": "c32bbbdc",
   "metadata": {},
   "outputs": [
    {
     "name": "stdout",
     "output_type": "stream",
     "text": [
      "('A', 'B', 'C')\n"
     ]
    }
   ],
   "source": [
    "# 76 변수 t에는 아래와 같은 값이 저장되어 있다. 변수 t가 ('A', 'b', 'c') 튜플을 가리키도록 수정 하라.\n",
    "t = ('a', 'b', 'c')\n",
    "t = ('A', 'B', 'C')\n",
    "print(t)"
   ]
  },
  {
   "cell_type": "code",
   "execution_count": 17,
   "id": "79118d60",
   "metadata": {},
   "outputs": [
    {
     "name": "stdout",
     "output_type": "stream",
     "text": [
      "<class 'list'>\n"
     ]
    }
   ],
   "source": [
    "# 77 다음 튜플을 리스트로 변환해라\n",
    "interest = ('삼성전자', 'LG전자', 'SK Hynix')\n",
    "interest = list(interest)\n",
    "print(type(interest))"
   ]
  },
  {
   "cell_type": "code",
   "execution_count": null,
   "id": "881c162c",
   "metadata": {},
   "outputs": [],
   "source": [
    "#78 다음 리스트를 튜플로 변경하라.\n",
    "interest = ['삼성전자', 'LG전자', 'SK Hynix']\n",
    "data = tuple(interest)\n",
    "print(type(data))"
   ]
  },
  {
   "cell_type": "code",
   "execution_count": 12,
   "id": "4ab69f57",
   "metadata": {},
   "outputs": [
    {
     "name": "stdout",
     "output_type": "stream",
     "text": [
      "apple banana cake\n"
     ]
    }
   ],
   "source": [
    "#79 다음 코드의 실해 결과를 예상하라.\n",
    "temp = ('apple', 'banana', 'cake')\n",
    "a, b, c = temp\n",
    "print(a, b, c)"
   ]
  },
  {
   "cell_type": "code",
   "execution_count": 26,
   "id": "5a454c69",
   "metadata": {},
   "outputs": [
    {
     "name": "stdout",
     "output_type": "stream",
     "text": [
      "(2, 4, 6, 8, 10, 12, 14, 16, 18, 20, 22, 24, 26, 28, 30, 32, 34, 36, 38, 40, 42, 44, 46, 48, 50, 52, 54, 56, 58, 60, 62, 64, 66, 68, 70, 72, 74, 76, 78, 80, 82, 84, 86, 88, 90, 92, 94, 96, 98)\n"
     ]
    }
   ],
   "source": [
    "#80 1 부터 99까지의 정수 중 짝수만 저장된 튜플을 생성하라.\n",
    "data = tuple(range(2,100,2))\n",
    "print(data)"
   ]
  },
  {
   "cell_type": "code",
   "execution_count": 28,
   "id": "0819f05b",
   "metadata": {},
   "outputs": [
    {
     "name": "stdout",
     "output_type": "stream",
     "text": [
      "[8.8, 8.9, 8.7, 9.2, 9.3, 9.7, 9.9, 9.5]\n"
     ]
    }
   ],
   "source": [
    "#81 다음과 같이 10개의 값이 저장된 scores 리스트가 있을 때, start expression을 사용하여 좌측 8개의 값을 valid_score 변수에 바인딩하여라.\n",
    "a, b, *c = (0, 1, 2, 3, 4, 5)\n",
    "*valid_score,_,_=scores\n",
    "print(valid_score)"
   ]
  },
  {
   "cell_type": "code",
   "execution_count": null,
   "id": "247d381c",
   "metadata": {},
   "outputs": [],
   "source": [
    "#82 다음과 같이 10개의 값이 저장된 scores 리스트가 있을 때, start expression을 사용하여 우측 8개의 값을 valid_score 변수에 바인딩하여라.\n",
    "scores = [8.8, 8.9, 8.7, 9.2, 9.3, 9.7, 9.9, 9.5, 7.8, 9.4]\n",
    "a, b, *valid_score = scores\n",
    "print(valid_score)"
   ]
  },
  {
   "cell_type": "code",
   "execution_count": 30,
   "id": "fade7ac6",
   "metadata": {},
   "outputs": [
    {
     "name": "stdout",
     "output_type": "stream",
     "text": [
      "[8.9, 8.7, 9.2, 9.3, 9.7, 9.9, 9.5, 7.8]\n"
     ]
    }
   ],
   "source": [
    "#83 다음과 같이 10개의 값이 저장된 scores 리스트가 있을 때, start expression을 사용하여 가운데 있는 8개의 값을 valid_score 변수에 바인딩하여라.\n",
    "scores = [8.8, 8.9, 8.7, 9.2, 9.3, 9.7, 9.9, 9.5, 7.8, 9.4]\n",
    "a, *valid_score, b = scores\n",
    "print(valid_score)"
   ]
  },
  {
   "cell_type": "code",
   "execution_count": 1,
   "id": "0d527f67",
   "metadata": {},
   "outputs": [
    {
     "name": "stdout",
     "output_type": "stream",
     "text": [
      "{}\n"
     ]
    }
   ],
   "source": [
    "#84 temp 이름의 비어있는 딕셔너리를 만들라.\n",
    "temp = {}\n",
    "print(temp)"
   ]
  },
  {
   "cell_type": "code",
   "execution_count": 5,
   "id": "cd613758",
   "metadata": {},
   "outputs": [
    {
     "name": "stdout",
     "output_type": "stream",
     "text": [
      "{'메로나': 1000, '폴라포': 1200, '빵빠레': 1800}\n"
     ]
    }
   ],
   "source": [
    "#85 085 번의 딕셔너리에 아래 아이스크림 가격정보를 추가하라.\n",
    "ice_price = {'메로나':1000,'폴라포':1200,'빵빠레':1800}\n",
    "print(ice_price)"
   ]
  },
  {
   "cell_type": "code",
   "execution_count": 6,
   "id": "891e7cdf",
   "metadata": {},
   "outputs": [
    {
     "name": "stdout",
     "output_type": "stream",
     "text": [
      "{'메로나': 1000, '폴라포': 1200, '빵빠레': 1800, '죠스바': 1200, '월드콘': 1500}\n"
     ]
    }
   ],
   "source": [
    "#86 085 번의 딕셔너리에 아래 아이스크림 가격정보를 추가하라.\n",
    "ice_price['죠스바']=1200\n",
    "ice_price['월드콘']=1500\n",
    "print(ice_price)"
   ]
  },
  {
   "cell_type": "code",
   "execution_count": 9,
   "id": "2bcce03a",
   "metadata": {},
   "outputs": [
    {
     "name": "stdout",
     "output_type": "stream",
     "text": [
      "메로나 가격: 1000\n"
     ]
    }
   ],
   "source": [
    "#87 다음 딕셔너리를 사용하여 메로나 가격을 출력하라.\n",
    "print('메로나 가격:',ice_price['메로나'])"
   ]
  },
  {
   "cell_type": "code",
   "execution_count": 10,
   "id": "052c6d80",
   "metadata": {},
   "outputs": [
    {
     "name": "stdout",
     "output_type": "stream",
     "text": [
      "{'메로나': 1300, '폴라포': 1200, '빵빠레': 1800, '죠스바': 1200, '월드콘': 1500}\n"
     ]
    }
   ],
   "source": [
    "#88 다음 딕셔너리에서 메로나의 가격을 1300으로 수정하라.\n",
    "ice_price['메로나']=1300\n",
    "print(ice_price)"
   ]
  },
  {
   "cell_type": "code",
   "execution_count": 11,
   "id": "ce56138c",
   "metadata": {},
   "outputs": [
    {
     "name": "stdout",
     "output_type": "stream",
     "text": [
      "{'폴라포': 1200, '빵빠레': 1800, '죠스바': 1200, '월드콘': 1500}\n"
     ]
    }
   ],
   "source": [
    "#89 다음 딕셔너리에서 메로나를 삭제하라.\n",
    "del ice_price['메로나']\n",
    "print(ice_price)"
   ]
  },
  {
   "cell_type": "code",
   "execution_count": null,
   "id": "e5c5b23b",
   "metadata": {},
   "outputs": [],
   "source": [
    "#90 다음 코드에서 에러가 발생한 원인을 설명하라.\n",
    "# icecream = {'폴라포': 1200, '빵빠레': 1800, '월드콘': 1500, '메로나': 1000}\n",
    "# >> icecream['누가바']\n",
    "# Traceback (most recent call last):\n",
    "#   File \"<pyshell#69>\", line 1, in <module>\n",
    "#     icecream['누가바']\n",
    "# KeyError: '누가바'\n",
    "\n",
    "# 이유 : 딕셔너리에 없는 값을 불렀기 때문이다."
   ]
  },
  {
   "cell_type": "code",
   "execution_count": 12,
   "id": "f7df27d4",
   "metadata": {},
   "outputs": [
    {
     "name": "stdout",
     "output_type": "stream",
     "text": [
      "{'메로나': [300, 20], '비비빅': [400, 3], '죠스바': [250, 100]}\n"
     ]
    }
   ],
   "source": [
    "#91 아래의 표에서, 아이스크림 이름을 키값으로, (가격, 재고) 리스트를 딕셔너리의 값으로 저장하라. 딕셔너리의 이름은 inventory로 한다\n",
    "inventory = {'메로나':[300,20],\n",
    "             '비비빅':[400,3],\n",
    "             '죠스바':[250,100]}\n",
    "print(inventory)"
   ]
  },
  {
   "cell_type": "code",
   "execution_count": 15,
   "id": "ff2cd38e",
   "metadata": {},
   "outputs": [
    {
     "name": "stdout",
     "output_type": "stream",
     "text": [
      "300 원\n"
     ]
    }
   ],
   "source": [
    "#92 inventory 딕셔너리에서 메로나의 가격을 화면에 출력하라.\n",
    "print(inventory['메로나'][0],'원')"
   ]
  },
  {
   "cell_type": "code",
   "execution_count": 16,
   "id": "0da57aba",
   "metadata": {},
   "outputs": [
    {
     "name": "stdout",
     "output_type": "stream",
     "text": [
      "20 개\n"
     ]
    }
   ],
   "source": [
    "#93 inventory 딕셔너리에서 메로나의 재고를 화면에 출력하라.\n",
    "print(inventory['메로나'][1],'개')"
   ]
  },
  {
   "cell_type": "code",
   "execution_count": 17,
   "id": "c105f5d1",
   "metadata": {},
   "outputs": [
    {
     "name": "stdout",
     "output_type": "stream",
     "text": [
      "{'메로나': [300, 20], '비비빅': [400, 3], '죠스바': [250, 100], '월드콘': [500, 7]}\n"
     ]
    }
   ],
   "source": [
    "#94 inventory 딕셔너리에 아래 데이터를 추가하라.\n",
    "inventory['월드콘']=[500,7]\n",
    "print(inventory)"
   ]
  },
  {
   "cell_type": "code",
   "execution_count": 20,
   "id": "b34986a1",
   "metadata": {},
   "outputs": [
    {
     "name": "stdout",
     "output_type": "stream",
     "text": [
      "dict_keys(['탱크보이', '폴라포', '빵빠레', '월드콘', '메로나'])\n"
     ]
    }
   ],
   "source": [
    "#95 다음의 딕셔너리로부터 key 값으로만 구성된 리스트를 생성하라.\n",
    "icecream = {'탱크보이': 1200, '폴라포': 1200, '빵빠레': 1800, '월드콘': 1500, '메로나': 1000}\n",
    "ice = icecream.keys()\n",
    "print(ice)"
   ]
  },
  {
   "cell_type": "code",
   "execution_count": 21,
   "id": "420f74dd",
   "metadata": {},
   "outputs": [
    {
     "name": "stdout",
     "output_type": "stream",
     "text": [
      "dict_values([1200, 1200, 1800, 1500, 1000])\n"
     ]
    }
   ],
   "source": [
    "#96 다음의 딕셔너리에서 values 값으로만 구성된 리스트를 생성하라.\n",
    "price = icecream.values()\n",
    "print(price)"
   ]
  },
  {
   "cell_type": "code",
   "execution_count": 22,
   "id": "82d9ae3f",
   "metadata": {},
   "outputs": [
    {
     "data": {
      "text/plain": [
       "6700"
      ]
     },
     "execution_count": 22,
     "metadata": {},
     "output_type": "execute_result"
    }
   ],
   "source": [
    "#97 icecream 딕셔너리에서 아이스크림 판매 금액의 총합을 출력하라.\n",
    "sum(price)"
   ]
  },
  {
   "cell_type": "code",
   "execution_count": 23,
   "id": "db1278c7",
   "metadata": {},
   "outputs": [
    {
     "name": "stdout",
     "output_type": "stream",
     "text": [
      "{'탱크보이': 1200, '폴라포': 1200, '빵빠레': 1800, '월드콘': 1500, '메로나': 1000, '팥빙수': 2700, '아맛나': 1000}\n"
     ]
    }
   ],
   "source": [
    "#98 아래의 new_product 딕셔너리를 다음 icecream 딕셔너리에 추가하라.\n",
    "icecream['팥빙수']=2700\n",
    "icecream['아맛나']=1000\n",
    "print(icecream)"
   ]
  },
  {
   "cell_type": "code",
   "execution_count": 24,
   "id": "8a965237",
   "metadata": {},
   "outputs": [
    {
     "name": "stdout",
     "output_type": "stream",
     "text": [
      "{'apple': 300, 'pear': 250, 'peach': 400}\n"
     ]
    }
   ],
   "source": [
    "#99 아래 두 개의 튜플을 하나의 딕셔너리로 변환하라. keys를 키로, vals를 값으로 result 이름의 딕셔너리로 저장한다.\n",
    "keys = (\"apple\", \"pear\", \"peach\")\n",
    "vals = (300, 250, 400)\n",
    "result = dict(zip(keys,vals))\n",
    "print(result)"
   ]
  },
  {
   "cell_type": "code",
   "execution_count": 26,
   "id": "1ed48fa8",
   "metadata": {},
   "outputs": [
    {
     "name": "stdout",
     "output_type": "stream",
     "text": [
      "{'09/05': 10500, '09/06': 10300, '09/07': 10100, '09/08': 10800, '09/09': 11000}\n"
     ]
    }
   ],
   "source": [
    "#100 date와 close_price 두 개의 리스트를 close_table 이름의 딕셔너리로 생성하라.\n",
    "date = ['09/05', '09/06', '09/07', '09/08', '09/09']\n",
    "close_price = [10500, 10300, 10100, 10800, 11000]\n",
    "\n",
    "close_table = dict(zip(date,close_price))\n",
    "print(close_table)"
   ]
  },
  {
   "cell_type": "code",
   "execution_count": 1,
   "id": "c2f77ace",
   "metadata": {},
   "outputs": [
    {
     "name": "stdout",
     "output_type": "stream",
     "text": [
      "<class 'bool'> <class 'bool'>\n"
     ]
    }
   ],
   "source": [
    "# 01파이썬에서 True 혹은 False를 갖는 데이터 타입은 무엇인가?\n",
    "print(type(True),type(False))"
   ]
  },
  {
   "cell_type": "code",
   "execution_count": 2,
   "id": "7c08f183",
   "metadata": {},
   "outputs": [
    {
     "name": "stdout",
     "output_type": "stream",
     "text": [
      "False\n"
     ]
    }
   ],
   "source": [
    "#102 아래 코드의 출력 결과를 예상하라  False\n",
    "print(3 == 5)"
   ]
  },
  {
   "cell_type": "code",
   "execution_count": 3,
   "id": "05cf2a4a",
   "metadata": {},
   "outputs": [
    {
     "name": "stdout",
     "output_type": "stream",
     "text": [
      "True\n"
     ]
    }
   ],
   "source": [
    "#103 아래 코드의 출력 결과를 예상하라  True\n",
    "print(3 < 5)"
   ]
  },
  {
   "cell_type": "code",
   "execution_count": 5,
   "id": "f3443945",
   "metadata": {},
   "outputs": [
    {
     "name": "stdout",
     "output_type": "stream",
     "text": [
      "True\n"
     ]
    }
   ],
   "source": [
    "#104 아래 코드의 결과를 예상하라. True\n",
    "x = 4\n",
    "print(1 < x < 5)"
   ]
  },
  {
   "cell_type": "code",
   "execution_count": 7,
   "id": "29b89ead",
   "metadata": {},
   "outputs": [
    {
     "name": "stdout",
     "output_type": "stream",
     "text": [
      "True\n"
     ]
    }
   ],
   "source": [
    "#105 아래 코드의 결과를 예상하라. True\n",
    "print ((3 == 3) and (4 != 3))"
   ]
  },
  {
   "cell_type": "code",
   "execution_count": 9,
   "id": "e1a3d690",
   "metadata": {},
   "outputs": [
    {
     "ename": "SyntaxError",
     "evalue": "expression cannot contain assignment, perhaps you meant \"==\"? (325100581.py, line 2)",
     "output_type": "error",
     "traceback": [
      "\u001b[1;36m  Cell \u001b[1;32mIn[9], line 2\u001b[1;36m\u001b[0m\n\u001b[1;33m    print(3 => 4)\u001b[0m\n\u001b[1;37m          ^\u001b[0m\n\u001b[1;31mSyntaxError\u001b[0m\u001b[1;31m:\u001b[0m expression cannot contain assignment, perhaps you meant \"==\"?\n"
     ]
    }
   ],
   "source": [
    "#106 아래 코드의 결과를 예상하라. 지원하지 않는 연산자여서\n",
    "print(3 => 4)"
   ]
  },
  {
   "cell_type": "code",
   "execution_count": 13,
   "id": "c05aec8e",
   "metadata": {},
   "outputs": [],
   "source": [
    "#107 아래 코드의 결과를 예상하라. 조건이 만족되지 않기 때문에 아무것도 출력되지 않는다.\n",
    "if 4 < 3:\n",
    "    print(\"Hello World\")"
   ]
  },
  {
   "cell_type": "code",
   "execution_count": 14,
   "id": "86e6bdcc",
   "metadata": {},
   "outputs": [
    {
     "name": "stdout",
     "output_type": "stream",
     "text": [
      "Hi, there.\n"
     ]
    }
   ],
   "source": [
    "#108 아래 코드의 결과를 예상하라. Hi, there.\n",
    "if 4 < 3:\n",
    "    print(\"Hello World.\")\n",
    "else:\n",
    "    print(\"Hi, there.\")"
   ]
  },
  {
   "cell_type": "code",
   "execution_count": 16,
   "id": "62a55a4d",
   "metadata": {},
   "outputs": [
    {
     "name": "stdout",
     "output_type": "stream",
     "text": [
      "1\n",
      "2\n",
      "4\n"
     ]
    }
   ],
   "source": [
    "#109 아래 코드의 결과를 예상하라. 1,2,4 출력\n",
    "if True :\n",
    "    print (\"1\")\n",
    "    print (\"2\")\n",
    "else :\n",
    "    print(\"3\")\n",
    "print(\"4\")"
   ]
  },
  {
   "cell_type": "code",
   "execution_count": 17,
   "id": "65771132",
   "metadata": {},
   "outputs": [
    {
     "name": "stdout",
     "output_type": "stream",
     "text": [
      "3\n",
      "5\n"
     ]
    }
   ],
   "source": [
    "#110 아래 코드의 결과를 예상하라. 3,5 출력\n",
    "if True :\n",
    "    if False:\n",
    "        print(\"1\")\n",
    "        print(\"2\")\n",
    "    else:\n",
    "        print(\"3\")\n",
    "else :\n",
    "    print(\"4\")\n",
    "print(\"5\")"
   ]
  },
  {
   "cell_type": "code",
   "execution_count": 19,
   "id": "eabac416",
   "metadata": {},
   "outputs": [
    {
     "name": "stdout",
     "output_type": "stream",
     "text": [
      "입력:안녕하세요\n",
      "안녕하세요안녕하세요\n"
     ]
    }
   ],
   "source": [
    "#111 사용자로부터 입력받은 문자열을 두 번 출력하라. 아래는 사용자가 \"안녕하세요\"를 입력한 경우의 출력 결과이다.\n",
    "user = input(\"입력:\")\n",
    "print(user*2)"
   ]
  },
  {
   "cell_type": "code",
   "execution_count": 21,
   "id": "c1cf827b",
   "metadata": {},
   "outputs": [
    {
     "name": "stdout",
     "output_type": "stream",
     "text": [
      "숫자를 입력하세요:40\n",
      "50\n"
     ]
    }
   ],
   "source": [
    "#112 사용자로부터 하나의 숫자를 입력받고, 입력 받은 숫자에 10을 더해 출력하라.\n",
    "a = int(input(\"숫자를 입력하세요:\"))\n",
    "print(a+10)"
   ]
  },
  {
   "cell_type": "code",
   "execution_count": 26,
   "id": "26d26999",
   "metadata": {},
   "outputs": [
    {
     "name": "stdout",
     "output_type": "stream",
     "text": [
      "33\n",
      "홀수\n"
     ]
    }
   ],
   "source": [
    "#113 사용자로부터 하나의 숫자를 입력 받고 짝수/홀수를 판별하라.\n",
    "b = int(input())\n",
    "if b%2 == 0:\n",
    "    print('짝수')\n",
    "else:\n",
    "    print('홀수')"
   ]
  },
  {
   "cell_type": "code",
   "execution_count": 29,
   "id": "b1f14d49",
   "metadata": {},
   "outputs": [
    {
     "name": "stdout",
     "output_type": "stream",
     "text": [
      "230\n",
      "250\n"
     ]
    }
   ],
   "source": [
    "#114 사용자로부터 값을 입력받은 후 해당 값에 20을 더한 값을 출력하라. 단 사용자가 입력한 값과 20을 더한 계산 값이 255를 초과하는 경우 255를 출력해야 한다.\n",
    "b = int(input())\n",
    "if b+20 < 255:\n",
    "    print(b+20)\n",
    "else:\n",
    "    print(255)"
   ]
  },
  {
   "cell_type": "code",
   "execution_count": 35,
   "id": "1922d206",
   "metadata": {},
   "outputs": [
    {
     "name": "stdout",
     "output_type": "stream",
     "text": [
      "입력값: 55\n",
      "35\n"
     ]
    }
   ],
   "source": [
    "#115 사용자로부터 하나의 값을 입력받은 후 해당 값에 20을 뺀 값을 출력하라. 단 출력 값의 범위는 0~255이다. 예를 들어 결괏값이 0보다 작은 값이되는 경우 0을 출력하고 255보다 큰 값이 되는 경우 255를 출력해야 한다.\n",
    "c = int(input(\"입력값: \"))\n",
    "if 0 < c-20 < 255:\n",
    "    print(c-20)\n",
    "elif 0 > c-20:\n",
    "    print(0)\n",
    "else:\n",
    "    print(255)"
   ]
  },
  {
   "cell_type": "code",
   "execution_count": 43,
   "id": "581351aa",
   "metadata": {},
   "outputs": [
    {
     "name": "stdout",
     "output_type": "stream",
     "text": [
      "현재시간:5100\n",
      "정각입니다.\n"
     ]
    }
   ],
   "source": [
    "#116 사용자로부터 입력 받은 시간이 정각인지 판별하라.\n",
    "a = input('현재시간:')\n",
    "if a[-2:] == '00':\n",
    "    print('정각입니다.')\n",
    "else:\n",
    "    print('정각이 아닙니다.')"
   ]
  },
  {
   "cell_type": "code",
   "execution_count": 52,
   "id": "a92d3b5a",
   "metadata": {},
   "outputs": [
    {
     "name": "stdout",
     "output_type": "stream",
     "text": [
      "가장 좋아하는 과일은?수박\n",
      "오답입니다.\n"
     ]
    }
   ],
   "source": [
    "#117 사용자로 입력받은 단어가 아래 fruit 리스트에 포함되어 있는지를 확인하라. 포함되었다면 \"정답입니다\"를 아닐 경우 \"오답입니다\" 출력하라.\n",
    "fruit = [\"사과\", \"포도\", \"홍시\"]\n",
    "user = input('가장 좋아하는 과일은?')\n",
    "if user in fruit:\n",
    "    print('정답입니다.')\n",
    "else:\n",
    "    print('오답입니다.')"
   ]
  },
  {
   "cell_type": "code",
   "execution_count": 54,
   "id": "44a36048",
   "metadata": {},
   "outputs": [
    {
     "name": "stdout",
     "output_type": "stream",
     "text": [
      "에스트\n",
      "투자 경고 종목이 아닙니다.\n"
     ]
    }
   ],
   "source": [
    "#118 투자 경고 종목 리스트가 있을 때 사용자로부터 종목명을 입력 받은 후 해당 종목이 투자 경고 종목이라면 '투자 경고 종목입니다'를 아니면 \"투자 경고 종목이 아닙니다.\"를 출력하는 프로그램을 작성하라.\n",
    "warn_investment_list = [\"Microsoft\", \"Google\", \"Naver\", \"Kakao\", \"SAMSUNG\", \"LG\"]\n",
    "user = input()\n",
    "\n",
    "if user in warn_investment_list:\n",
    "    print(\"투자 경고 종목입니다\")\n",
    "else:\n",
    "    print(\"투자 경고 종목이 아닙니다.\")"
   ]
  },
  {
   "cell_type": "code",
   "execution_count": 55,
   "id": "34591302",
   "metadata": {},
   "outputs": [
    {
     "name": "stdout",
     "output_type": "stream",
     "text": [
      "봄\n",
      "정답입니다\n"
     ]
    }
   ],
   "source": [
    "#119 아래와 같이 fruit 딕셔너리가 정의되어 있다. 사용자가 입력한 값이 딕셔너리 키 (key) 값에 포함되었다면 \"정답입니다\"를 아닐 경우 \"오답입니다\" 출력하라\n",
    "fruit = {\"봄\" : \"딸기\", \"여름\" : \"토마토\", \"가을\" : \"사과\"}\n",
    "user = input()\n",
    "\n",
    "if user in fruit:\n",
    "    print(\"정답입니다\")\n",
    "else:\n",
    "    print(\"오답입니다\")"
   ]
  },
  {
   "cell_type": "code",
   "execution_count": 69,
   "id": "8564b2ad",
   "metadata": {},
   "outputs": [
    {
     "name": "stdout",
     "output_type": "stream",
     "text": [
      "한라봉\n",
      "오답입니다\n"
     ]
    }
   ],
   "source": [
    "#120 아래와 같이 fruit 딕셔너리가 정의되어 있다. 사용자가 입력한 값이 딕셔너리 값 (value)에 포함되었다면 \"정답입니다\"를 아닐 경우 \"오답입니다\" 출력하라.\n",
    "fruit = {\"봄\" : \"딸기\", \"여름\" : \"토마토\", \"가을\" : \"사과\"}\n",
    "user = input()\n",
    "if user in fruit.values():\n",
    "    print(\"정답입니다\")\n",
    "else:\n",
    "    print(\"오답입니다\")"
   ]
  },
  {
   "cell_type": "code",
   "execution_count": 71,
   "id": "fdf18954",
   "metadata": {},
   "outputs": [
    {
     "name": "stdout",
     "output_type": "stream",
     "text": [
      "a\n",
      "A\n"
     ]
    }
   ],
   "source": [
    "#121 사용자로부터 문자 한 개를 입력 받고, 소문자일 경우 대문자로, 대문자 일 경우, 소문자로 변경해서 출력하라.\n",
    "user = input()\n",
    "if user.islower():\n",
    "    print(user.upper())\n",
    "else:\n",
    "    print(user.lower())"
   ]
  },
  {
   "cell_type": "code",
   "execution_count": 77,
   "id": "cfb0a2c0",
   "metadata": {},
   "outputs": [
    {
     "name": "stdout",
     "output_type": "stream",
     "text": [
      "43\n",
      "C\n"
     ]
    }
   ],
   "source": [
    "#122 점수 구간에 해당하는 학점이 아래와 같이 정의되어 있다. 사용자로부터 score를 입력받아 학점을 출력하라.\n",
    "score = int(input())\n",
    "if 81<= score <= 100:\n",
    "    print(\"A\")\n",
    "elif 61<= score <= 80:\n",
    "    print(\"B\")\n",
    "elif 41<= score <= 60:\n",
    "    print(\"C\")\n",
    "elif 21<= score <= 40:\n",
    "    print(\"D\")\n",
    "elif 0<= score <= 20:\n",
    "    print(\"F\")"
   ]
  },
  {
   "cell_type": "code",
   "execution_count": 86,
   "id": "041d63ff",
   "metadata": {},
   "outputs": [
    {
     "name": "stdout",
     "output_type": "stream",
     "text": [
      "입력:100 위안\n",
      "17100.0 원\n"
     ]
    }
   ],
   "source": [
    "#123 사용자로부터 달러, 엔, 유로, 또는 위안 금액을 입력받은 후 이를 원으로 변환하는 프로그램을 작성하라. 각 통화별 환율은 다음과 같다. 사용자는 100 달러, 1000 엔, 13 유로, 100 위안과 같이 금액과 통화명 사이에 공백을 넣어 입력한다고 가정한다.\n",
    "환율 = {\"달러\":1167,\n",
    "           \"엔\" : 1.096,\n",
    "           \"유로\" : 1268,\n",
    "           \"위안\" : 171}\n",
    "#print(환율)\n",
    "\n",
    "user = input('입력:')\n",
    "num, currency = user.split()\n",
    "print(float(num)*환율[currency],\"원\")"
   ]
  },
  {
   "cell_type": "code",
   "execution_count": 92,
   "id": "6140c19d",
   "metadata": {},
   "outputs": [
    {
     "name": "stdout",
     "output_type": "stream",
     "text": [
      "99\n",
      "1\n",
      "2\n",
      "99\n"
     ]
    }
   ],
   "source": [
    "#124 사용자로부터 세 개의 숫자를 입력 받은 후 가장 큰 숫자를 출력하라.\n",
    "num1 = int(input())\n",
    "num2 = int(input())\n",
    "num3 = int(input())\n",
    "num = number1,number2,number3\n",
    "if num1 >= num2 and num1 >= num3:\n",
    "    print(num1)\n",
    "elif num2 >= num1 and num2 >= num3:\n",
    "    print(num2)\n",
    "else:\n",
    "    print(num3)"
   ]
  },
  {
   "cell_type": "code",
   "execution_count": 95,
   "id": "521af336",
   "metadata": {},
   "outputs": [
    {
     "name": "stdout",
     "output_type": "stream",
     "text": [
      "휴대전화 번호 입력: 011-455-4155\n",
      "당신은 SKT 사용자 입니다.\n"
     ]
    }
   ],
   "source": [
    "#125 휴대폰 번호 앞자리에 따라 통신사는 아래와 같이 구분된다. 사용자로부터 휴대전화 번호를 입력 받고, 통신사를 출력하는 프로그램을 작성하라.\n",
    "\n",
    "number = input(\"휴대전화 번호 입력: \")\n",
    "num = number.split(\"-\")[0]\n",
    "if num == '011':\n",
    "    com = 'SKT'\n",
    "elif num == '016':\n",
    "    com = ' KT'\n",
    "elif num == '019':\n",
    "    com = 'LGU'\n",
    "else:\n",
    "    com = '알수없음'\n",
    "print(f\"당신은 {com} 사용자 입니다.\")"
   ]
  },
  {
   "cell_type": "code",
   "execution_count": 102,
   "id": "f7a72281",
   "metadata": {},
   "outputs": [
    {
     "name": "stdout",
     "output_type": "stream",
     "text": [
      "우편번호: 01400\n",
      "도봉구\n"
     ]
    }
   ],
   "source": [
    "#126 사용자로 부터 5자리 우편번호를 입력받고 구를 판별하라\n",
    "user = input(\"우편번호: \")\n",
    "user = user[:3]\n",
    "if user in ['010','011','012']:\n",
    "    print('강북구')\n",
    "elif user in ['013','014','015']:\n",
    "    print('도봉구')\n",
    "else:\n",
    "    print('노원구')"
   ]
  },
  {
   "cell_type": "code",
   "execution_count": 107,
   "id": "6cd0edba",
   "metadata": {},
   "outputs": [
    {
     "name": "stdout",
     "output_type": "stream",
     "text": [
      "주민등록 번호: 821010-1635210\n",
      "남자\n"
     ]
    }
   ],
   "source": [
    "#127 주민등록번호 뒷 자리 7자리 중 첫째 자리는 성별을 나타내는데, 1, 3은 남자 2, 4는 여자를 의미한다. 사용자로부터 13자리의 주민등록번호를 입력 받은 후 성별 (남자, 여자)를 출력하는 프로그램을 작성하라.\n",
    "\n",
    "g = input('주민등록 번호: ')\n",
    "g = g.split('-')[1]\n",
    "if g[0] == '1' or g[0] == '3':\n",
    "    print('남자')\n",
    "else:\n",
    "    print('여자')"
   ]
  },
  {
   "cell_type": "code",
   "execution_count": 116,
   "id": "68eb27a7",
   "metadata": {},
   "outputs": [
    {
     "name": "stdout",
     "output_type": "stream",
     "text": [
      "주민등록 번호: 861010-1015210\n",
      "서울이 입니다.\n"
     ]
    }
   ],
   "source": [
    "#128 주민등록번호의 뒷 자리 7자리 중 두번째와 세번째는 지역코드를 의미한다. 주민 등록 번호를 입력 받은 후 출생지가 서울인지 아닌지 판단하는 코드를 작성하라\n",
    "\n",
    "g = input('주민등록 번호: ')\n",
    "g = g.split('-')[1]\n",
    "if 0 <= int(g[1:3]) <= 8:\n",
    "    print('서울이 입니다.')\n",
    "else:\n",
    "    print('서울이 아닙니다.')"
   ]
  },
  {
   "cell_type": "code",
   "execution_count": null,
   "id": "2c635e78",
   "metadata": {},
   "outputs": [],
   "source": [
    "# 129\n",
    "\n",
    "i = input('주민등록 번호: ')\n",
    "i = int(input('주민등록 번호: '))\n",
    "\n",
    "if i "
   ]
  },
  {
   "cell_type": "code",
   "execution_count": null,
   "id": "70631507",
   "metadata": {},
   "outputs": [],
   "source": []
  },
  {
   "cell_type": "code",
   "execution_count": 117,
   "id": "3e5367bc",
   "metadata": {},
   "outputs": [
    {
     "name": "stdout",
     "output_type": "stream",
     "text": [
      "사과\n",
      "귤\n",
      "수박\n"
     ]
    }
   ],
   "source": [
    "#131 for문의 실행결과를 예측하라. 사과,귤,수박이 1번씩 출력된다.\n",
    "과일 = [\"사과\", \"귤\", \"수박\"]\n",
    "for 변수 in 과일:\n",
    "    print(변수)"
   ]
  },
  {
   "cell_type": "code",
   "execution_count": 118,
   "id": "f2ae0d1b",
   "metadata": {},
   "outputs": [
    {
     "name": "stdout",
     "output_type": "stream",
     "text": [
      "#####\n",
      "#####\n",
      "#####\n"
     ]
    }
   ],
   "source": [
    "#132 for문의 실행결과를 예측하라. ####아 3번 반복된다.\n",
    "과일 = [\"사과\", \"귤\", \"수박\"]\n",
    "for 변수 in 과일:\n",
    "  print(\"#####\")"
   ]
  },
  {
   "cell_type": "code",
   "execution_count": 119,
   "id": "de48c694",
   "metadata": {},
   "outputs": [
    {
     "name": "stdout",
     "output_type": "stream",
     "text": [
      "A\n",
      "B\n",
      "C\n"
     ]
    }
   ],
   "source": [
    "#133 다음 for 문과 동일한 기능을 수행하는 코드를 작성하세요.\n",
    "for 변수 in [\"A\", \"B\", \"C\"]:\n",
    "  print(변수)"
   ]
  },
  {
   "cell_type": "code",
   "execution_count": 122,
   "id": "466c9605",
   "metadata": {},
   "outputs": [
    {
     "name": "stdout",
     "output_type": "stream",
     "text": [
      "A\n",
      "B\n",
      "C\n"
     ]
    }
   ],
   "source": [
    "변수 = 'A'\n",
    "print(변수)\n",
    "변수 = 'B'\n",
    "print(변수)\n",
    "변수 = 'C'\n",
    "print(변수)"
   ]
  },
  {
   "cell_type": "code",
   "execution_count": 123,
   "id": "dfe7ccf9",
   "metadata": {},
   "outputs": [
    {
     "name": "stdout",
     "output_type": "stream",
     "text": [
      "출력: A\n",
      "출력: B\n",
      "출력: C\n"
     ]
    }
   ],
   "source": [
    "#134 for문을 풀어서 동일한 동작을하는 코드를 작성하라.\n",
    "for 변수 in [\"A\", \"B\", \"C\"]:\n",
    "  print(\"출력:\", 변수)"
   ]
  },
  {
   "cell_type": "code",
   "execution_count": 124,
   "id": "2782c709",
   "metadata": {},
   "outputs": [
    {
     "name": "stdout",
     "output_type": "stream",
     "text": [
      "출력: A\n",
      "출력: B\n",
      "출력: C\n"
     ]
    }
   ],
   "source": [
    "변수 = 'A'\n",
    "print('출력:',변수)\n",
    "변수 = 'B'\n",
    "print('출력:',변수)\n",
    "변수 = 'C'\n",
    "print('출력:',변수)"
   ]
  },
  {
   "cell_type": "code",
   "execution_count": 125,
   "id": "5077bdc7",
   "metadata": {},
   "outputs": [
    {
     "name": "stdout",
     "output_type": "stream",
     "text": [
      "변환: a\n",
      "변환: b\n",
      "변환: c\n"
     ]
    }
   ],
   "source": [
    "#135 for문을 풀어서 동일한 동작을 하는 코드를 작성하라.\n",
    "for 변수 in [\"A\", \"B\", \"C\"]:\n",
    "  b = 변수.lower()\n",
    "  print(\"변환:\", b)"
   ]
  },
  {
   "cell_type": "code",
   "execution_count": 130,
   "id": "b90ffb49",
   "metadata": {},
   "outputs": [
    {
     "name": "stdout",
     "output_type": "stream",
     "text": [
      "출력: a\n",
      "출력: b\n",
      "출력: c\n"
     ]
    }
   ],
   "source": [
    "a = \"A\"\n",
    "b = \"B\"\n",
    "c = \"C\"\n",
    "\n",
    "print('출력:',a.lower())\n",
    "print('출력:',b.lower())\n",
    "print('출력:',c.lower())"
   ]
  },
  {
   "cell_type": "code",
   "execution_count": 133,
   "id": "2c7ef4a7",
   "metadata": {},
   "outputs": [
    {
     "name": "stdout",
     "output_type": "stream",
     "text": [
      "10\n",
      "20\n",
      "30\n"
     ]
    }
   ],
   "source": [
    "#136 다음 코드를 for문으로 작성하라.\n",
    "list = [10,20,30]\n",
    "for i in list:\n",
    "    print(i)"
   ]
  },
  {
   "cell_type": "code",
   "execution_count": 134,
   "id": "683043d6",
   "metadata": {},
   "outputs": [
    {
     "name": "stdout",
     "output_type": "stream",
     "text": [
      "10\n",
      "20\n",
      "30\n"
     ]
    }
   ],
   "source": [
    "#137 다음 코드를 for문으로 작성하라.\n",
    "for i in ['10','20','30']:\n",
    "    print(i)"
   ]
  },
  {
   "cell_type": "code",
   "execution_count": 136,
   "id": "e2a51c40",
   "metadata": {},
   "outputs": [
    {
     "name": "stdout",
     "output_type": "stream",
     "text": [
      "10\n",
      "-------\n",
      "20\n",
      "-------\n",
      "30\n",
      "-------\n"
     ]
    }
   ],
   "source": [
    "#138 다음 코드를 for문으로 작성하라.\n",
    "\n",
    "for i in [10,20,30]:\n",
    "    print(i)\n",
    "    print('-------')"
   ]
  },
  {
   "cell_type": "code",
   "execution_count": 140,
   "id": "e6ae47db",
   "metadata": {},
   "outputs": [
    {
     "name": "stdout",
     "output_type": "stream",
     "text": [
      "++++\n",
      "10\n",
      "20\n",
      "30\n"
     ]
    }
   ],
   "source": [
    "#139 다음 코드를 for문으로 작성하라.\n",
    "print('++++')\n",
    "for i in [10,20,30]:\n",
    "    print(i)"
   ]
  },
  {
   "cell_type": "code",
   "execution_count": 147,
   "id": "d97280c4",
   "metadata": {},
   "outputs": [
    {
     "name": "stdout",
     "output_type": "stream",
     "text": [
      "-------\n",
      "-------\n",
      "-------\n",
      "-------\n"
     ]
    }
   ],
   "source": [
    "#140다음 코드를 for문으로 작성하라.\n",
    "for i in (1,2,3,4):\n",
    "    print('-------')"
   ]
  },
  {
   "cell_type": "code",
   "execution_count": 155,
   "id": "0ba0b84a",
   "metadata": {},
   "outputs": [
    {
     "name": "stdout",
     "output_type": "stream",
     "text": [
      "110\n",
      "210\n",
      "310\n"
     ]
    }
   ],
   "source": [
    "#141 다음과 같이 판매가가 저장된 리스트가 있을 때 부가세가 포함된 가격을 for 문을 사용해서 화면에 출력하라. 단 부가세는 10원으로 가정한다.\n",
    "리스트 = [100, 200, 300]\n",
    "for i in 리스트:\n",
    "    print(i+10)"
   ]
  },
  {
   "cell_type": "code",
   "execution_count": 164,
   "id": "9dad2346",
   "metadata": {},
   "outputs": [
    {
     "name": "stdout",
     "output_type": "stream",
     "text": [
      "오늘의 메뉴:  김밥\n",
      "오늘의 메뉴:  라면\n",
      "오늘의 메뉴:  튀김\n"
     ]
    }
   ],
   "source": [
    "#142 for 문을 사용해서 리스트에 저장된 값을 다음과 같이 출력하라.\n",
    "리스트 = [\"김밥\", \"라면\", \"튀김\"]\n",
    "for i in 리스트:\n",
    "    print(\"오늘의 메뉴: \",i)"
   ]
  },
  {
   "cell_type": "code",
   "execution_count": 165,
   "id": "162a8411",
   "metadata": {},
   "outputs": [
    {
     "name": "stdout",
     "output_type": "stream",
     "text": [
      "6\n",
      "4\n",
      "4\n"
     ]
    }
   ],
   "source": [
    "#143 리스트에 주식 종목이름이 저장돼 있다.\n",
    "리스트 = [\"SK하이닉스\", \"삼성전자\", \"LG전자\"]\n",
    "for i in 리스트:\n",
    "    print(len(i))"
   ]
  },
  {
   "cell_type": "code",
   "execution_count": 166,
   "id": "e42a7e16",
   "metadata": {},
   "outputs": [
    {
     "name": "stdout",
     "output_type": "stream",
     "text": [
      "dog 3\n",
      "cat 3\n",
      "parrot 6\n"
     ]
    }
   ],
   "source": [
    "#144 동물 이름과 글자수를 다음과 같이 출력하라.\n",
    "리스트 = ['dog', 'cat', 'parrot']\n",
    "for i in 리스트:\n",
    "    print(i,len(i))"
   ]
  },
  {
   "cell_type": "code",
   "execution_count": 175,
   "id": "898e2d2e",
   "metadata": {},
   "outputs": [
    {
     "name": "stdout",
     "output_type": "stream",
     "text": [
      "d\n",
      "c\n",
      "p\n"
     ]
    }
   ],
   "source": [
    "#145 for문을 사용해서 동물 이름의 첫 글자만 출력하라.\n",
    "리스트 = ['dog', 'cat', 'parrot']\n",
    "for i in 리스트:\n",
    "    print(i[0])"
   ]
  },
  {
   "cell_type": "code",
   "execution_count": 186,
   "id": "ec74fba4",
   "metadata": {},
   "outputs": [
    {
     "name": "stdout",
     "output_type": "stream",
     "text": [
      "3 X 1\n",
      "3 X 2\n",
      "3 X 3\n"
     ]
    }
   ],
   "source": [
    "#146 리스트에는 세 개의 숫자가 바인딩돼 있다.\n",
    "j = 3\n",
    "리스트 = [1, 2, 3]\n",
    "for i in 리스트:\n",
    "    print(\"3 X\",i)"
   ]
  },
  {
   "cell_type": "code",
   "execution_count": 195,
   "id": "5e0965a4",
   "metadata": {},
   "outputs": [
    {
     "name": "stdout",
     "output_type": "stream",
     "text": [
      "3 X 1 = 3\n",
      "3 X 2 = 6\n",
      "3 X 3 = 9\n"
     ]
    }
   ],
   "source": [
    "#147 for문을 사용해서 다음과 같이 출력하라.\n",
    "리스트 = [1, 2, 3]\n",
    "for i in 리스트:\n",
    "    print(f\"3 X {i} = {3*i}\")"
   ]
  },
  {
   "cell_type": "code",
   "execution_count": 200,
   "id": "b9de0f39",
   "metadata": {},
   "outputs": [
    {
     "name": "stdout",
     "output_type": "stream",
     "text": [
      "나\n",
      "다\n",
      "라\n"
     ]
    }
   ],
   "source": [
    "#148 for문을 사용해서 다음과 같이 출력하라.\n",
    "리스트 = [\"가\", \"나\", \"다\", \"라\"]\n",
    "리스트 = 리스트[1:]\n",
    "for i in 리스트:\n",
    "    print(i)"
   ]
  },
  {
   "cell_type": "code",
   "execution_count": 5,
   "id": "ef8c5fa4",
   "metadata": {},
   "outputs": [
    {
     "name": "stdout",
     "output_type": "stream",
     "text": [
      "가\n",
      "다\n"
     ]
    }
   ],
   "source": [
    "#149 for문을 사용해서 다음과 같이 출력하라.\n",
    "리스트 = [\"가\", \"나\", \"다\", \"라\"]\n",
    "for i in 리스트[::2]:\n",
    "    print(i)"
   ]
  },
  {
   "cell_type": "code",
   "execution_count": 6,
   "id": "0aafb327",
   "metadata": {},
   "outputs": [
    {
     "name": "stdout",
     "output_type": "stream",
     "text": [
      "라\n",
      "다\n",
      "나\n",
      "가\n"
     ]
    }
   ],
   "source": [
    "#150 for문을 사용해서 다음과 같이 출력하라.\n",
    "for i in 리스트[::-1]:\n",
    "    print(i)"
   ]
  },
  {
   "cell_type": "code",
   "execution_count": 7,
   "id": "272ff0bf",
   "metadata": {},
   "outputs": [
    {
     "name": "stdout",
     "output_type": "stream",
     "text": [
      "-20\n",
      "-3\n"
     ]
    }
   ],
   "source": [
    "#151 for문을 사용해서 리스트의 음수를 출력하라.\n",
    "리스트 = [3, -20, -3, 44]\n",
    "for i in 리스트:\n",
    "    if i < 0:\n",
    "        print(i)"
   ]
  },
  {
   "cell_type": "code",
   "execution_count": 9,
   "id": "8adf8173",
   "metadata": {},
   "outputs": [
    {
     "name": "stdout",
     "output_type": "stream",
     "text": [
      "3\n"
     ]
    }
   ],
   "source": [
    "#152 사용해서 3의 배수만을 출력하라.\n",
    "리스트 = [3, 100, 23, 44]\n",
    "for i in 리스트:\n",
    "    if i%3 == 0:\n",
    "        print(i)"
   ]
  },
  {
   "cell_type": "code",
   "execution_count": 1,
   "id": "429cfde5",
   "metadata": {},
   "outputs": [
    {
     "name": "stdout",
     "output_type": "stream",
     "text": [
      "12\n",
      "18\n"
     ]
    }
   ],
   "source": [
    "#153 리스트에서 20 보다 작은 3의 배수를 출력하라\n",
    "리스트 = [13, 21, 12, 14, 30, 18]\n",
    "for i in 리스트:\n",
    "    if i%3 == 0 and i < 20:\n",
    "        print(i)"
   ]
  },
  {
   "cell_type": "code",
   "execution_count": 2,
   "id": "7d8160b9",
   "metadata": {},
   "outputs": [
    {
     "name": "stdout",
     "output_type": "stream",
     "text": [
      "study\n",
      "python\n",
      "language\n"
     ]
    }
   ],
   "source": [
    "#154 리스트에서 세 글자 이상의 문자를 화면에 출력하라\n",
    "리스트 = [\"I\", \"study\", \"python\", \"language\", \"!\"]\n",
    "for i in 리스트:\n",
    "    if len(i) >= 3:\n",
    "        print(i)"
   ]
  },
  {
   "cell_type": "code",
   "execution_count": 3,
   "id": "10c9b65f",
   "metadata": {},
   "outputs": [
    {
     "name": "stdout",
     "output_type": "stream",
     "text": [
      "A\n",
      "D\n"
     ]
    }
   ],
   "source": [
    "#155 리스트에서 대문자만 화면에 출력하라.\n",
    "리스트 = [\"A\", \"b\", \"c\", \"D\"]\n",
    "for i in 리스트:\n",
    "    if i.isupper():\n",
    "        print(i)"
   ]
  },
  {
   "cell_type": "code",
   "execution_count": 4,
   "id": "64beafbc",
   "metadata": {},
   "outputs": [
    {
     "name": "stdout",
     "output_type": "stream",
     "text": [
      "b\n",
      "c\n"
     ]
    }
   ],
   "source": [
    "#156 리스트에서 소문자만 화면에 출력하라.\n",
    "리스트 = [\"A\", \"b\", \"c\", \"D\"]\n",
    "for i in 리스트:\n",
    "    if i.isupper() == False:\n",
    "        print(i)"
   ]
  },
  {
   "cell_type": "code",
   "execution_count": 15,
   "id": "b0a0a1d8",
   "metadata": {},
   "outputs": [
    {
     "ename": "IndentationError",
     "evalue": "expected an indented block (2111688303.py, line 6)",
     "output_type": "error",
     "traceback": [
      "\u001b[1;36m  Cell \u001b[1;32mIn[15], line 6\u001b[1;36m\u001b[0m\n\u001b[1;33m    print(i+i[1:])\u001b[0m\n\u001b[1;37m    ^\u001b[0m\n\u001b[1;31mIndentationError\u001b[0m\u001b[1;31m:\u001b[0m expected an indented block\n"
     ]
    }
   ],
   "source": [
    "#157 이름의 첫 글자를 대문자로 변경해서 출력하라.\n",
    "리스트 = ['dog', 'cat', 'parrot']\n",
    "for i in 리스트:\n",
    "    i = i[0]\n",
    "    if i.upper():\n",
    "    print(i+i[1:])"
   ]
  },
  {
   "cell_type": "code",
   "execution_count": 6,
   "id": "409aec70",
   "metadata": {},
   "outputs": [
    {
     "name": "stdout",
     "output_type": "stream",
     "text": [
      "hello\n",
      "ex01\n",
      "intro\n"
     ]
    }
   ],
   "source": [
    "#158 파일 이름이 저장된 리스트에서 확장자를 제거하고 파일 이름만 화면에 출력하라. (힌트: split() 메서드)\n",
    "리스트 = ['hello.py', 'ex01.py', 'intro.hwp']\n",
    "for i in 리스트:\n",
    "    split = i.split('.')\n",
    "    print(split[0])\n",
    "    "
   ]
  },
  {
   "cell_type": "code",
   "execution_count": 27,
   "id": "506cd8bb",
   "metadata": {},
   "outputs": [
    {
     "name": "stdout",
     "output_type": "stream",
     "text": [
      "intra.h\n",
      "define.h\n"
     ]
    }
   ],
   "source": [
    "#159 파일 이름이 저장된 리스트에서 확장자가 .h인 파일 이름을 출력하라.\n",
    "리스트 = ['intra.h', 'intra.c', 'define.h', 'run.py']\n",
    "for 변수 in 리스트:\n",
    "  split = 변수.split(\".\")\n",
    "  if split[1] == \"h\":\n",
    "    print(변수)"
   ]
  },
  {
   "cell_type": "code",
   "execution_count": 29,
   "id": "c32c5049",
   "metadata": {},
   "outputs": [
    {
     "name": "stdout",
     "output_type": "stream",
     "text": [
      "intra.h\n",
      "intra.c\n",
      "define.h\n"
     ]
    }
   ],
   "source": [
    "#160 파일 이름이 저장된 리스트에서 확장자가 .h나 .c인 파일을 화면에 출력하라\n",
    "리스트 = ['intra.h', 'intra.c', 'define.h', 'run.py']\n",
    "for 변수 in 리스트:\n",
    "  split = 변수.split(\".\") \n",
    "  if split[1] == \"h\" or split[1] == \"c\":\n",
    "    print(변수)"
   ]
  },
  {
   "cell_type": "code",
   "execution_count": 30,
   "id": "f90f1856",
   "metadata": {},
   "outputs": [
    {
     "name": "stdout",
     "output_type": "stream",
     "text": [
      "0\n",
      "1\n",
      "2\n",
      "3\n",
      "4\n",
      "5\n",
      "6\n",
      "7\n",
      "8\n",
      "9\n",
      "10\n",
      "11\n",
      "12\n",
      "13\n",
      "14\n",
      "15\n",
      "16\n",
      "17\n",
      "18\n",
      "19\n",
      "20\n",
      "21\n",
      "22\n",
      "23\n",
      "24\n",
      "25\n",
      "26\n",
      "27\n",
      "28\n",
      "29\n",
      "30\n",
      "31\n",
      "32\n",
      "33\n",
      "34\n",
      "35\n",
      "36\n",
      "37\n",
      "38\n",
      "39\n",
      "40\n",
      "41\n",
      "42\n",
      "43\n",
      "44\n",
      "45\n",
      "46\n",
      "47\n",
      "48\n",
      "49\n",
      "50\n",
      "51\n",
      "52\n",
      "53\n",
      "54\n",
      "55\n",
      "56\n",
      "57\n",
      "58\n",
      "59\n",
      "60\n",
      "61\n",
      "62\n",
      "63\n",
      "64\n",
      "65\n",
      "66\n",
      "67\n",
      "68\n",
      "69\n",
      "70\n",
      "71\n",
      "72\n",
      "73\n",
      "74\n",
      "75\n",
      "76\n",
      "77\n",
      "78\n",
      "79\n",
      "80\n",
      "81\n",
      "82\n",
      "83\n",
      "84\n",
      "85\n",
      "86\n",
      "87\n",
      "88\n",
      "89\n",
      "90\n",
      "91\n",
      "92\n",
      "93\n",
      "94\n",
      "95\n",
      "96\n",
      "97\n",
      "98\n",
      "99\n"
     ]
    }
   ],
   "source": [
    "#161 for문과 range 구문을 사용해서 0~99까지 한 라인에 하나씩 순차적으로 출력하는 프로그램을 작성하라.\n",
    "for i in range(0,100):\n",
    "    print(i)"
   ]
  },
  {
   "cell_type": "code",
   "execution_count": 33,
   "id": "9ed74f27",
   "metadata": {},
   "outputs": [
    {
     "name": "stdout",
     "output_type": "stream",
     "text": [
      "2002\n",
      "2006\n",
      "2010\n",
      "2014\n",
      "2018\n",
      "2022\n",
      "2026\n",
      "2030\n",
      "2034\n",
      "2038\n",
      "2042\n",
      "2046\n",
      "2050\n"
     ]
    }
   ],
   "source": [
    "#162 월드컵은 4년에 한 번 개최된다. range()를 사용하여 2002~2050년까지 중 월드컵이 개최되는 연도를 출력하라.\n",
    "for i in range(2002,2051,4):\n",
    "    print(i)"
   ]
  },
  {
   "cell_type": "code",
   "execution_count": 34,
   "id": "3ed5e3bf",
   "metadata": {},
   "outputs": [
    {
     "name": "stdout",
     "output_type": "stream",
     "text": [
      "3\n",
      "6\n",
      "9\n",
      "12\n",
      "15\n",
      "18\n",
      "21\n",
      "24\n",
      "27\n"
     ]
    }
   ],
   "source": [
    "#163 1부터 30까지의 숫자 중 3의 배수를 출력하라.\n",
    "for i in range(1,30):\n",
    "    if i%3 == 0:\n",
    "        print(i)"
   ]
  },
  {
   "cell_type": "code",
   "execution_count": 36,
   "id": "9c30210b",
   "metadata": {},
   "outputs": [
    {
     "name": "stdout",
     "output_type": "stream",
     "text": [
      "98\n",
      "97\n",
      "96\n",
      "95\n",
      "94\n",
      "93\n",
      "92\n",
      "91\n",
      "90\n",
      "89\n",
      "88\n",
      "87\n",
      "86\n",
      "85\n",
      "84\n",
      "83\n",
      "82\n",
      "81\n",
      "80\n",
      "79\n",
      "78\n",
      "77\n",
      "76\n",
      "75\n",
      "74\n",
      "73\n",
      "72\n",
      "71\n",
      "70\n",
      "69\n",
      "68\n",
      "67\n",
      "66\n",
      "65\n",
      "64\n",
      "63\n",
      "62\n",
      "61\n",
      "60\n",
      "59\n",
      "58\n",
      "57\n",
      "56\n",
      "55\n",
      "54\n",
      "53\n",
      "52\n",
      "51\n",
      "50\n",
      "49\n",
      "48\n",
      "47\n",
      "46\n",
      "45\n",
      "44\n",
      "43\n",
      "42\n",
      "41\n",
      "40\n",
      "39\n",
      "38\n",
      "37\n",
      "36\n",
      "35\n",
      "34\n",
      "33\n",
      "32\n",
      "31\n",
      "30\n",
      "29\n",
      "28\n",
      "27\n",
      "26\n",
      "25\n",
      "24\n",
      "23\n",
      "22\n",
      "21\n",
      "20\n",
      "19\n",
      "18\n",
      "17\n",
      "16\n",
      "15\n",
      "14\n",
      "13\n",
      "12\n",
      "11\n",
      "10\n",
      "9\n",
      "8\n",
      "7\n",
      "6\n",
      "5\n",
      "4\n",
      "3\n",
      "2\n",
      "1\n",
      "0\n"
     ]
    }
   ],
   "source": [
    "#164 99부터 0까지 1씩 감소하는 숫자들을, 한 라인에 하나씩 출력하라.\n",
    "for i in range(1,100):\n",
    "    print(99-i)"
   ]
  },
  {
   "cell_type": "code",
   "execution_count": 38,
   "id": "79a8d0ad",
   "metadata": {},
   "outputs": [
    {
     "name": "stdout",
     "output_type": "stream",
     "text": [
      "0.0\n",
      "0.1\n",
      "0.2\n",
      "0.3\n",
      "0.4\n",
      "0.5\n",
      "0.6\n",
      "0.7\n",
      "0.8\n",
      "0.9\n"
     ]
    }
   ],
   "source": [
    "#165 for문을 사용해서 아래와 같이 출력하라.\n",
    "for i in range(10):\n",
    "    print(i/10)"
   ]
  },
  {
   "cell_type": "code",
   "execution_count": 42,
   "id": "209bc0a2",
   "metadata": {},
   "outputs": [
    {
     "name": "stdout",
     "output_type": "stream",
     "text": [
      "3 X 1 = 3\n",
      "3 X 2 = 6\n",
      "3 X 3 = 9\n",
      "3 X 4 = 12\n",
      "3 X 5 = 15\n",
      "3 X 6 = 18\n",
      "3 X 7 = 21\n",
      "3 X 8 = 24\n",
      "3 X 9 = 27\n"
     ]
    }
   ],
   "source": [
    "#166 구구단 3단을 출력하라.\n",
    "for i in range(1,10):\n",
    "    print(f'{3} X {i} = {3*i}')"
   ]
  },
  {
   "cell_type": "code",
   "execution_count": 43,
   "id": "3bb19c7e",
   "metadata": {},
   "outputs": [
    {
     "name": "stdout",
     "output_type": "stream",
     "text": [
      "3 X 1 = 3\n",
      "3 X 3 = 9\n",
      "3 X 5 = 15\n",
      "3 X 7 = 21\n",
      "3 X 9 = 27\n"
     ]
    }
   ],
   "source": [
    "#167 구구단 3단을 출력하라. 단 홀수 번째만 출력한다.\n",
    "for i in range(1,10):\n",
    "    if i%2 == 1:\n",
    "        print(f'{3} X {i} = {3*i}')"
   ]
  },
  {
   "cell_type": "code",
   "execution_count": 50,
   "id": "0218d3d7",
   "metadata": {},
   "outputs": [
    {
     "name": "stdout",
     "output_type": "stream",
     "text": [
      "55\n"
     ]
    }
   ],
   "source": [
    "#168 1~10까지의 숫자에 대해 모두 더한 값을 출력하는 프로그램을 for 문을 사용하여 작성하라.\n",
    "hap = 0\n",
    "for i in range(1,11):\n",
    "    hap += i\n",
    "print(hap)"
   ]
  },
  {
   "cell_type": "code",
   "execution_count": 54,
   "id": "86728999",
   "metadata": {},
   "outputs": [
    {
     "name": "stdout",
     "output_type": "stream",
     "text": [
      "25\n"
     ]
    }
   ],
   "source": [
    "#169 1~10까지의 숫자 중 모든 홀수의 합을 출력하는 프로그램을 for 문을 사용하여 작성하라.\n",
    "hap = 0\n",
    "for i in range(1,11):\n",
    "    if i%2 == 1:\n",
    "        hap += i\n",
    "print(hap)"
   ]
  },
  {
   "cell_type": "code",
   "execution_count": 56,
   "id": "55a2c780",
   "metadata": {},
   "outputs": [
    {
     "name": "stdout",
     "output_type": "stream",
     "text": [
      "3628800\n"
     ]
    }
   ],
   "source": [
    "#170 1~10까지의 숫자를 모두 곱한 값을 출력하는 프로그램을 for 문을 사용하여 작성하라.\n",
    "hap = 1\n",
    "for i in range(1,11):\n",
    "        hap *= i\n",
    "print(hap)"
   ]
  },
  {
   "cell_type": "code",
   "execution_count": 1,
   "id": "ed53d154",
   "metadata": {},
   "outputs": [
    {
     "name": "stdout",
     "output_type": "stream",
     "text": [
      "32100\n",
      "32150\n",
      "32000\n",
      "32500\n"
     ]
    }
   ],
   "source": [
    "#171 아래와 같이 리스트의 데이터를 출력하라. 단, for문과 range문을 사용하라.\n",
    "price_list = [32100, 32150, 32000, 32500]\n",
    "\n",
    "for i in range(4):\n",
    "    print(price_list[i])"
   ]
  },
  {
   "cell_type": "code",
   "execution_count": null,
   "id": "fa3e46a2",
   "metadata": {},
   "outputs": [],
   "source": [
    "#172 아래와 같이 리스트의 데이터를 출력하라. 단, for문과 range문을 사용하라.\n"
   ]
  }
 ],
 "metadata": {
  "kernelspec": {
   "display_name": "Python 3 (ipykernel)",
   "language": "python",
   "name": "python3"
  },
  "language_info": {
   "codemirror_mode": {
    "name": "ipython",
    "version": 3
   },
   "file_extension": ".py",
   "mimetype": "text/x-python",
   "name": "python",
   "nbconvert_exporter": "python",
   "pygments_lexer": "ipython3",
   "version": "3.9.23"
  }
 },
 "nbformat": 4,
 "nbformat_minor": 5
}
