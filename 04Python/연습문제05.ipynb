{
 "cells": [
  {
   "cell_type": "code",
   "execution_count": 1,
   "id": "9dc7a473",
   "metadata": {},
   "outputs": [
    {
     "data": {
      "text/plain": [
       "{'메이킷': 17, '우진': 9, '시은': 11, '제임스': 10}"
      ]
     },
     "execution_count": 1,
     "metadata": {},
     "output_type": "execute_result"
    }
   ],
   "source": [
    "#1. 우리 반 학생들의 이름과 나이 저장하기\n",
    "ban = {'메이킷':17,'우진':9,'시은':11,'제임스':10}\n",
    "ban"
   ]
  },
  {
   "cell_type": "code",
   "execution_count": 2,
   "id": "f37c9e15",
   "metadata": {},
   "outputs": [
    {
     "name": "stdout",
     "output_type": "stream",
     "text": [
      "내가 살고 있는 곳은 서울 입니다\n",
      "나의 성별은 여자 이고 이름은 시은 입니다.\n",
      "나이는 11 이고 이름은 b 형입니다.\n"
     ]
    }
   ],
   "source": [
    "#2. 자기소개하기\n",
    "s = {'사는 곳':'서울','성별':'여자','이름':'시은','나이':11,'혈액형':'b'}\n",
    "print(\"내가 살고 있는 곳은\",s['사는 곳'],\"입니다\")\n",
    "print('나의 성별은',s['성별'],'이고 이름은',s['이름'],'입니다.')\n",
    "print('나이는',s['나이'],'이고 이름은',s['혈액형'],'형입니다.')"
   ]
  },
  {
   "cell_type": "code",
   "execution_count": 3,
   "id": "56bb54fd",
   "metadata": {},
   "outputs": [
    {
     "name": "stdout",
     "output_type": "stream",
     "text": [
      "나의 성별은 남자 이고 이름은 우진 입니다.\n",
      "나이는 몇 살 인가요?9\n",
      "형액형은 무엇인가요?b\n",
      "나이는 9 살 이고 혈액형은 b 입니다.\n"
     ]
    }
   ],
   "source": [
    "#3. 딕셔너리에 추가하기\n",
    "s = {'사는곳':'인천 송도','성별':'남자','이름':'우진'}\n",
    "print('나의 성별은',s['성별'],'이고 이름은',s['이름'],'입니다.')\n",
    "print('나이는',input('나이는 몇 살 인가요?'),'살 이고 혈액형은',input('형액형은 무엇인가요?'),'입니다.')"
   ]
  },
  {
   "cell_type": "code",
   "execution_count": 4,
   "id": "023ce06d",
   "metadata": {},
   "outputs": [
    {
     "data": {
      "text/plain": [
       "{'성별': '남자', '이름': '우진'}"
      ]
     },
     "execution_count": 4,
     "metadata": {},
     "output_type": "execute_result"
    }
   ],
   "source": [
    "#4. 딕셔너리에서 삭제하기\n",
    "s = {'사는 곳':'인천 송도','성별':'남자','이름':'우진'}\n",
    "del s['사는 곳']\n",
    "s"
   ]
  },
  {
   "cell_type": "code",
   "execution_count": 5,
   "id": "784e5223",
   "metadata": {},
   "outputs": [
    {
     "data": {
      "text/plain": [
       "dict_keys(['사는곳', '성별', '이름'])"
      ]
     },
     "execution_count": 5,
     "metadata": {},
     "output_type": "execute_result"
    }
   ],
   "source": [
    "#5.  딕셔너리에서 뽑아내기 keys(),values(),items()\n",
    "s = {'사는곳':'인천 송도','성별':'남자','이름':'우진'}\n",
    "s.keys()"
   ]
  },
  {
   "cell_type": "code",
   "execution_count": 6,
   "id": "499ee044",
   "metadata": {},
   "outputs": [
    {
     "data": {
      "text/plain": [
       "dict_values(['인천 송도', '남자', '우진'])"
      ]
     },
     "execution_count": 6,
     "metadata": {},
     "output_type": "execute_result"
    }
   ],
   "source": [
    "s.values()"
   ]
  },
  {
   "cell_type": "code",
   "execution_count": 7,
   "id": "c6b35046",
   "metadata": {},
   "outputs": [
    {
     "data": {
      "text/plain": [
       "dict_items([('사는곳', '인천 송도'), ('성별', '남자'), ('이름', '우진')])"
      ]
     },
     "execution_count": 7,
     "metadata": {},
     "output_type": "execute_result"
    }
   ],
   "source": [
    "s.items()"
   ]
  },
  {
   "cell_type": "code",
   "execution_count": 8,
   "id": "a689ac47",
   "metadata": {},
   "outputs": [
    {
     "name": "stdout",
     "output_type": "stream",
     "text": [
      "물품 이름은?새우칩\n",
      "새우칩의 가격은 1500 입니다.\n"
     ]
    }
   ],
   "source": [
    "#6. 딕셔너리와 if 조건문의 만남\n",
    "store = {'새우칩':1500,'옥수수칩':1800,'콜라':700,'양파칩':1300}\n",
    "n = input('물품 이름은?')\n",
    "if n == '새우칩':\n",
    "    print('새우칩의 가격은',store['새우칩'],'입니다.')\n",
    "elif n == '옥수수칩':\n",
    "    print('옥수수칩의 가격은',store['옥수수칩'],'입니다.')\n",
    "elif n == '콜라':\n",
    "    print('콜라의 가격은',store['콜라'],'입니다.')\n",
    "elif n == '양파칩':\n",
    "    print('양파칩의 가격은',store['양파칩'],'입니다.')\n",
    "else:\n",
    "    print(n,'는 등록되어 있지 않습니다.')"
   ]
  },
  {
   "cell_type": "code",
   "execution_count": 9,
   "id": "5aeec432",
   "metadata": {},
   "outputs": [
    {
     "name": "stdout",
     "output_type": "stream",
     "text": [
      "1번 물품은 새우칩 이고 가격은 1500 이고 수량은 3개입니다\n",
      "2번 물품은 옥수수칩 이고 가격은 1800 이고 수량은 2개입니다\n",
      "3번 물품은 콜라 이고 가격은 700 이고 수량은 4개입니다\n",
      "4번 물품은 양파칩 이고 가격은 1300 이고 수량은 1개입니다\n",
      "우리 가게는 4개의 물건 종류가 있습니다\n",
      "우리 가게 모든 물건 수량은 10개 있습니다\n",
      "우리 가게 모든 물건들의 가격 총합은 12200입니다\n",
      "우리 가게 모든 물건들의 평균 가격은 1220.0원입니다\n"
     ]
    }
   ],
   "source": [
    "#7. 딕셔너리의 값으로 리스트 사용하기\n",
    "# 물품 정보를 딕셔너리에 저장\n",
    "store = {\n",
    "    \"새우칩\": [1500, 3],\n",
    "    \"옥수수칩\": [1800, 2],\n",
    "    \"콜라\": [700, 4],\n",
    "    \"양파칩\": [1300, 1]\n",
    "}\n",
    "\n",
    "# 각 물품 출력\n",
    "i = 1\n",
    "for name, info in store.items():\n",
    "    price = info[0]\n",
    "    count = info[1]\n",
    "    print(f\"{i}번 물품은 {name} 이고 가격은 {price} 이고 수량은 {count}개입니다\")\n",
    "    i += 1\n",
    "\n",
    "# 가게 요약 정보\n",
    "print(f\"우리 가게는 {len(store)}개의 물건 종류가 있습니다\")\n",
    "\n",
    "# 총 수량, 총 가격, 평균 가격 계산\n",
    "total_count = sum([info[1] for info in store.values()])\n",
    "total_price = sum([info[0] * info[1] for info in store.values()])\n",
    "avg_price = total_price / total_count\n",
    "\n",
    "print(f\"우리 가게 모든 물건 수량은 {total_count}개 있습니다\")\n",
    "print(f\"우리 가게 모든 물건들의 가격 총합은 {total_price}입니다\")\n",
    "print(f\"우리 가게 모든 물건들의 평균 가격은 {avg_price:.1f}원입니다\")\n"
   ]
  },
  {
   "cell_type": "code",
   "execution_count": 10,
   "id": "864ea4a9",
   "metadata": {},
   "outputs": [
    {
     "name": "stdout",
     "output_type": "stream",
     "text": [
      "우진이의 코딩 점수는? 95\n",
      "시은이의 과학 점수는? 100\n",
      "메이킷이의 영어 점수는? 85\n"
     ]
    }
   ],
   "source": [
    "#8. 딕셔너리의 값으로 딕셔너리 사용하기\n",
    "score = {\n",
    "    '우진':{'코딩':95,'수학':99},\n",
    "    '시은':{'과학':100,'코딩':99},\n",
    "    '메이킷':{'영어':85,'코딩':100}\n",
    "}\n",
    "\n",
    "print('우진이의 코딩 점수는?',score['우진']['코딩'])\n",
    "print('시은이의 과학 점수는?',score['시은']['과학'])\n",
    "print('메이킷이의 영어 점수는?',score['메이킷']['영어'])"
   ]
  },
  {
   "cell_type": "code",
   "execution_count": 11,
   "id": "b1ee3fcc",
   "metadata": {},
   "outputs": [
    {
     "name": "stdout",
     "output_type": "stream",
     "text": [
      "7\n",
      "10\n",
      "woojin\n"
     ]
    }
   ],
   "source": [
    "#9. 두 수 비교하기\n",
    "x = int(input())\n",
    "y = int(input())\n",
    "\n",
    "if x > y:\n",
    "    print('makit')\n",
    "elif x < y:\n",
    "    print('woojin')"
   ]
  },
  {
   "cell_type": "code",
   "execution_count": 12,
   "id": "fa5786a2",
   "metadata": {},
   "outputs": [
    {
     "name": "stdout",
     "output_type": "stream",
     "text": [
      "첫 번째 정수를 입력하세요:3\n",
      "두 번째 정수를 입력하세요:8\n",
      "세 번째 정수를 입력하세요:17\n",
      "3\n",
      "17\n"
     ]
    }
   ],
   "source": [
    "#10. 세 개의 수 비교하기\n",
    "a = int(input('첫 번째 정수를 입력하세요:'))\n",
    "b = int(input('두 번째 정수를 입력하세요:'))\n",
    "c = int(input('세 번째 정수를 입력하세요:'))\n",
    "x = [a,b,c]\n",
    "for i in x:\n",
    "    if i%2 == 1:\n",
    "        print(i)"
   ]
  },
  {
   "cell_type": "code",
   "execution_count": 13,
   "id": "e89136d9",
   "metadata": {},
   "outputs": [
    {
     "name": "stdout",
     "output_type": "stream",
     "text": [
      "첫 번째 정수를 입력하세요:89\n",
      "두 번째 정수를 입력하세요:8\n",
      "세 번째 정수를 입력하세요:17\n",
      "89 홀수\n",
      "8 짝수\n",
      "17 홀수\n"
     ]
    }
   ],
   "source": [
    "#11. 홀수 찾기\n",
    "a = int(input('첫 번째 정수를 입력하세요:'))\n",
    "b = int(input('두 번째 정수를 입력하세요:'))\n",
    "c = int(input('세 번째 정수를 입력하세요:'))\n",
    "x = [a,b,c]\n",
    "for i in x:\n",
    "    if i%2 == 0:\n",
    "        print(i,'짝수')\n",
    "    else:\n",
    "        print(i,'홀수')"
   ]
  },
  {
   "cell_type": "code",
   "execution_count": 25,
   "id": "eb186688",
   "metadata": {},
   "outputs": [
    {
     "name": "stdout",
     "output_type": "stream",
     "text": [
      "15\n",
      "양수이고 홀수\n"
     ]
    }
   ],
   "source": [
    "#12 양수,음수,홀수,짝수 구분하기\n",
    "a = int(input())\n",
    "for i in range(1):\n",
    "    if a > 0:\n",
    "        if a%2 ==0:\n",
    "            print('양수이고 짝수')\n",
    "        else :\n",
    "            print('양수이고 홀수')\n",
    "    else:\n",
    "        if a%2==0:\n",
    "            print('음수이고 짝수')\n",
    "        else:\n",
    "            print('음수이고 홀수')"
   ]
  },
  {
   "cell_type": "code",
   "execution_count": 27,
   "id": "d447069f",
   "metadata": {},
   "outputs": [
    {
     "name": "stdout",
     "output_type": "stream",
     "text": [
      "89\n",
      "B학점\n"
     ]
    }
   ],
   "source": [
    "#13 성적 결과 계산하기\n",
    "score = int(input())\n",
    "if score >= 90:\n",
    "    print('A학점')\n",
    "elif  90 > score >= 80:\n",
    "    print('B학점')\n",
    "elif  80> score >= 70:\n",
    "    print('C학점')\n",
    "elif  70> score >= 60:\n",
    "    print('D학점')\n",
    "elif score < 60:\n",
    "    print('F학점')"
   ]
  },
  {
   "cell_type": "code",
   "execution_count": 28,
   "id": "c6ebd776",
   "metadata": {},
   "outputs": [
    {
     "name": "stdout",
     "output_type": "stream",
     "text": [
      "\n",
      "howard\n"
     ]
    }
   ],
   "source": [
    "#14 입력에 따라 친구 이름 출력하기\n",
    "name = input()\n",
    "if name == 'm':\n",
    "    print('makit')\n",
    "elif name == 'j':\n",
    "    print('james')\n",
    "elif name == 'w':\n",
    "    print('woojin')\n",
    "elif name == 's':\n",
    "    print('sieun')\n",
    "else:\n",
    "    print('howard')"
   ]
  },
  {
   "cell_type": "code",
   "execution_count": 29,
   "id": "0bf2dd09",
   "metadata": {},
   "outputs": [
    {
     "name": "stdout",
     "output_type": "stream",
     "text": [
      "몇 월 달 인가요?8\n",
      "여름\n"
     ]
    }
   ],
   "source": [
    "#15  봄,여름,가을,겨울\n",
    "i = int(input('몇 월 달 인가요?'))\n",
    "if i == 12 or i == 1 or i == 2:\n",
    "    print('겨울')\n",
    "elif i == 3 or i == 4 or i == 5:\n",
    "    print('봄')\n",
    "elif i == 6 or i == 7 or i == 8:\n",
    "    print('여름')\n",
    "elif i == 9 or i == 10 or i == 11:\n",
    "    print('가을')"
   ]
  },
  {
   "cell_type": "code",
   "execution_count": 30,
   "id": "f5c402aa",
   "metadata": {},
   "outputs": [
    {
     "name": "stdout",
     "output_type": "stream",
     "text": [
      "몇 월 달 인가요? 7\n",
      "7월은 31일까지 있습니다.\n"
     ]
    }
   ],
   "source": [
    "#16 12월은 31일까지 있어요\n",
    "i = int(input('몇 월 달 인가요? '))\n",
    "if i == 2:\n",
    "    print(f\"{i}월은 28일까지 있습니다.\")\n",
    "elif i == 4 or i == 6 or i == 9 or i == 11:\n",
    "    print(f\"{i}월은 30일까지 있습니다.\")\n",
    "elif i == 1 or i == 3 or i == 5 or i == 7 or i == 8 or i == 10 or i == 12 :\n",
    "    print(f\"{i}월은 31일까지 있습니다.\")"
   ]
  },
  {
   "cell_type": "code",
   "execution_count": 31,
   "id": "bd637ae0",
   "metadata": {},
   "outputs": [
    {
     "name": "stdout",
     "output_type": "stream",
     "text": [
      "이름을 입력하세요: \n",
      "키를 입력하세요: 5\n",
      "탈 수 없어요\n"
     ]
    }
   ],
   "source": [
    "#17 까다로운놀이기구1\n",
    "name = input('이름을 입력하세요: ')\n",
    "tall = int(input('키를 입력하세요: '))\n",
    "if name.startswith('m') or 170 > tall >= 150:\n",
    "    print('탈 수 있어요')\n",
    "else:\n",
    "    print('탈 수 없어요')"
   ]
  },
  {
   "cell_type": "code",
   "execution_count": 32,
   "id": "7e3c292d",
   "metadata": {},
   "outputs": [
    {
     "name": "stdout",
     "output_type": "stream",
     "text": [
      "키를 입력하세요: 157\n",
      "탈 수 있어요\n"
     ]
    }
   ],
   "source": [
    "#18 까다로운놀이기구2\n",
    "tall = int(input('키를 입력하세요: '))\n",
    "if 170> tall >=150 or 180 >= tall >= 175:\n",
    "    print('탈 수 있어요')\n",
    "else:\n",
    "    print('탈 수 없어요')"
   ]
  },
  {
   "cell_type": "code",
   "execution_count": 33,
   "id": "d187769d",
   "metadata": {},
   "outputs": [
    {
     "name": "stdout",
     "output_type": "stream",
     "text": [
      "키을 입력하세요: 78\n",
      "성별를 입력하세요: 남자\n",
      "탈 수 없어요\n"
     ]
    }
   ],
   "source": [
    "#19 까다로운놀이기구3\n",
    "tall = int(input('키을 입력하세요: '))\n",
    "sex = input('성별를 입력하세요: ')\n",
    "if 170 > tall >= 150 and sex == '여자' or tall%5 ==0 and sex == '여자':\n",
    "    print('탈 수 있어요')\n",
    "else:\n",
    "    print('탈 수 없어요')"
   ]
  },
  {
   "cell_type": "code",
   "execution_count": null,
   "id": "ec6062bf",
   "metadata": {},
   "outputs": [],
   "source": [
    "#20 터널 통과하기\n",
    "tunnel = list(map(int, input().split()))\n",
    "car_height = 150\n",
    "\n",
    "if all(height > car_height for height in tunnel):\n",
    "    print('터널 통과 가능')\n",
    "else:\n",
    "    print('터널 통과 불가능')"
   ]
  },
  {
   "cell_type": "code",
   "execution_count": null,
   "id": "0dccc0ca",
   "metadata": {},
   "outputs": [],
   "source": [
    "#21 올해는 윤년일까? Yes or No\n",
    "year = int(input('연도를 입력하세요:'))\n",
    "if year%4 == 0 and year%100 != 0 or year%400 == 0:\n",
    "    print(f\"{year}은 윤년입니다.\")\n",
    "else:\n",
    "    print(f\"{year}은 윤년이 아닙니다.\")"
   ]
  },
  {
   "cell_type": "code",
   "execution_count": null,
   "id": "09980fc0",
   "metadata": {},
   "outputs": [],
   "source": [
    "#22 주민등록번호 분석기\n",
    "i = input('주민등록번호 입력:')\n"
   ]
  },
  {
   "cell_type": "code",
   "execution_count": null,
   "id": "89f5d954",
   "metadata": {},
   "outputs": [],
   "source": [
    "#23 윷놀이\n",
    "play = list(map(int, input().split()))\n",
    "if sum(play) == 1:\n",
    "    print('도')\n",
    "elif sum(play) == 2:\n",
    "    print('개')\n",
    "elif sum(play) == 3:\n",
    "    print('걸')\n",
    "elif sum(play) == 4:\n",
    "    print('윷')\n",
    "elif sum(play) == 0:\n",
    "    print('모')"
   ]
  },
  {
   "cell_type": "code",
   "execution_count": null,
   "id": "cd24bbc2",
   "metadata": {},
   "outputs": [],
   "source": [
    "#24 표준 몸무게 알아보기\n",
    "a = list(map(float, input().split()))\n",
    "i = (a[1]/(a[0]*a[0]))*10000\n",
    "if i < 18.5:\n",
    "    print(f\"BMI지수는 {i}이고 저체중 입니다.\")\n",
    "elif 18.5 <= i <= 22.9:\n",
    "    print(f\"BMI지수는 {i}이고 정상 입니다.\")\n",
    "elif 23 <= i <= 24.9:\n",
    "    print(f\"BMI지수는 {i}이고 과체중 입니다.\")\n",
    "elif 25 <= i <= 29.9:\n",
    "    print(f\"BMI지수는 {i}이고 경도 비만 입니다.\")\n",
    "elif 30 <= i :\n",
    "    print(f\"BMI지수는 {i}이고 고도 비만 입니다.\")"
   ]
  },
  {
   "cell_type": "code",
   "execution_count": null,
   "id": "0eb845b0",
   "metadata": {},
   "outputs": [],
   "source": [
    "#25 삼각형 만들기\n",
    "\n",
    "a = list(map(int,input().split()))\n",
    "if sum(a) - max(a) > max(a):\n",
    "    print('삼각형 가능')\n",
    "else:\n",
    "    print('삼각형 불가능')"
   ]
  },
  {
   "cell_type": "code",
   "execution_count": null,
   "id": "fdb2f566",
   "metadata": {},
   "outputs": [],
   "source": [
    "#26 로켓발사1\n",
    "for i in range(1,11):\n",
    "    print(i)\n",
    "print('발사!')"
   ]
  },
  {
   "cell_type": "code",
   "execution_count": null,
   "id": "b4adb22c",
   "metadata": {},
   "outputs": [],
   "source": [
    "#27 로켓발사2\n",
    "i = 1\n",
    "while i <= 10:\n",
    "    print(i)\n",
    "    if i >= 10:\n",
    "        break\n",
    "    i += 1\n",
    "print('발사!')"
   ]
  },
  {
   "cell_type": "code",
   "execution_count": null,
   "id": "faf4958b",
   "metadata": {},
   "outputs": [],
   "source": [
    "#28 로켓 발사 10초 전\n",
    "a = int(input('카운트다운 몇 초 전인가요?'))\n",
    "for i in range(a+1)[::-1]:\n",
    "    print(i)\n",
    "print('발사!')"
   ]
  },
  {
   "cell_type": "code",
   "execution_count": null,
   "id": "74651afb",
   "metadata": {},
   "outputs": [],
   "source": [
    "#29 1부터 100까지 모두 합한수1\n",
    "a = int(input())\n",
    "sum = 0\n",
    "for i in range(a+1):\n",
    "    sum = sum + i\n",
    "print(sum)"
   ]
  },
  {
   "cell_type": "code",
   "execution_count": null,
   "id": "fcd2df8b",
   "metadata": {},
   "outputs": [],
   "source": [
    "#30 1부터 100까지 모두 합한수2\n",
    "i = int(input())\n",
    "hap = 0\n",
    "while  i <= 10:\n",
    "    if i >= 10:\n",
    "        break\n",
    "    hap = hap + i\n",
    "print(hap)"
   ]
  },
  {
   "cell_type": "code",
   "execution_count": null,
   "id": "cd1d44fb",
   "metadata": {
    "scrolled": true
   },
   "outputs": [],
   "source": [
    "#31 음수 나올 떄까지 반복하기\n",
    "a = int(input('숫자를 입력하세요'))\n",
    "while a > 0:\n",
    "    if i > 0:\n",
    "        print(i)\n",
    "    else:\n",
    "        ('종료합니다.')"
   ]
  },
  {
   "cell_type": "code",
   "execution_count": null,
   "id": "42b3b99f",
   "metadata": {},
   "outputs": [],
   "source": [
    "#32 옆으로 출력하기\n",
    "for i in range(1,11):\n",
    "    print(i,end=' ')"
   ]
  },
  {
   "cell_type": "code",
   "execution_count": null,
   "id": "ad7aa01a",
   "metadata": {},
   "outputs": [],
   "source": [
    "#33 1+2+3+4+5 = 15\n",
    "a =int(input('첫번째 숫자를 입력하세요.'))\n",
    "b =int(input('두번째 숫자를 입력하세요'))\n",
    "hap = 0\n",
    "for i in range(a,b+1):\n",
    "    hap = hap + i\n",
    "print(hap)"
   ]
  },
  {
   "cell_type": "code",
   "execution_count": null,
   "id": "80b09884",
   "metadata": {},
   "outputs": [],
   "source": [
    "#34 짝수들만 합하기\n",
    "a =int(input('첫번째 숫자를 입력하세요.'))\n",
    "b =int(input('두번째 숫자를 입력하세요'))\n",
    "hap = 0\n",
    "for i in range(a,b+1):\n",
    "    if i%2 == 0:\n",
    "        hap = hap + i\n",
    "print(hap)"
   ]
  },
  {
   "cell_type": "code",
   "execution_count": 2,
   "id": "f3c83e11",
   "metadata": {},
   "outputs": [
    {
     "name": "stdout",
     "output_type": "stream",
     "text": [
      "하나의 문자열을 입력하세요:james makit apple woojin sieun\n",
      "jmes mkit pple woojin sieun"
     ]
    }
   ],
   "source": [
    "#35 for반복문과 문자열의 만남\n",
    "a = input('하나의 문자열을 입력하세요:')\n",
    "for i in a: \n",
    "    if i != 'a':\n",
    "        print(i,end='')"
   ]
  },
  {
   "cell_type": "code",
   "execution_count": null,
   "id": "d96f11e3",
   "metadata": {},
   "outputs": [],
   "source": [
    "#36 for 반복문과 리스트의 만남\n",
    "a = 0\n",
    "names =  ['우진','시은','메이킷','지연','지훈']\n",
    "for i in names:\n",
    "    a = a+1\n",
    "    print(a,'번 친구',i,'을 소개합니다.')"
   ]
  },
  {
   "cell_type": "code",
   "execution_count": null,
   "id": "3ab05e9d",
   "metadata": {},
   "outputs": [],
   "source": [
    "#37 다음 반복문으로 바로가기\n",
    "for i in range(1,31):\n",
    "    if i%5 !=0: \n",
    "        print(i,end=' ')"
   ]
  },
  {
   "cell_type": "code",
   "execution_count": null,
   "id": "2a3dc625",
   "metadata": {},
   "outputs": [],
   "source": [
    "#38 반복문 깨고 바로 나가기\n",
    "num = 3  # 시작 숫자\n",
    "count = 1  # 몇 번째 숫자인지 세는 변수\n",
    "\n",
    "for i in range(1, 100):  # 반복문\n",
    "    if count == 100:\n",
    "        break\n",
    "    num += 5\n",
    "    count += 1\n",
    "\n",
    "print(num)"
   ]
  },
  {
   "cell_type": "code",
   "execution_count": 34,
   "id": "cfc50508",
   "metadata": {},
   "outputs": [
    {
     "name": "stdout",
     "output_type": "stream",
     "text": [
      "8\n",
      "8\n"
     ]
    }
   ],
   "source": [
    "#39 가장 작은 숫자 찾기\n",
    "a = list(map(int,input().split()))\n",
    "print(min(a))"
   ]
  },
  {
   "cell_type": "code",
   "execution_count": 35,
   "id": "eaf780ef",
   "metadata": {},
   "outputs": [
    {
     "name": "stdout",
     "output_type": "stream",
     "text": [
      "7\n",
      "8 78 8\n",
      "터널 통괄 가능\n"
     ]
    }
   ],
   "source": [
    "#40 터널 통과하기20\n",
    "car_height = int(input())\n",
    "tunnel = list(map(int,input().split()))\n",
    "\n",
    "for i in tunnel:\n",
    "    if car_height > i:\n",
    "        print('터널 통과 불가능')\n",
    "        print(i)\n",
    "else:\n",
    "    print('터널 통괄 가능')"
   ]
  },
  {
   "cell_type": "code",
   "execution_count": 36,
   "id": "71dc2f64",
   "metadata": {},
   "outputs": [
    {
     "name": "stdout",
     "output_type": "stream",
     "text": [
      "300\n"
     ]
    }
   ],
   "source": [
    "#41 행운의 숫자 7 모두 찾기\n",
    "hap = 0\n",
    "for i in range(1,1001):\n",
    "    a = (str(i).count('7'))\n",
    "    hap = hap + a\n",
    "print(hap)"
   ]
  },
  {
   "cell_type": "code",
   "execution_count": 37,
   "id": "1ccb3852",
   "metadata": {},
   "outputs": [
    {
     "name": "stdout",
     "output_type": "stream",
     "text": [
      "78\n",
      "1 2 3 6 13 26 39 78 "
     ]
    }
   ],
   "source": [
    "#42 약수 구하기\n",
    "n =int(input())\n",
    "j = []\n",
    "for i in range(1,n+1):\n",
    "    if n%i == 0:\n",
    "        print(i,end = ' ')"
   ]
  },
  {
   "cell_type": "code",
   "execution_count": 38,
   "id": "b5d4709b",
   "metadata": {},
   "outputs": [
    {
     "name": "stdout",
     "output_type": "stream",
     "text": [
      "정수의 개수를 입력하세요: 5\n",
      "정수를 입력하세요 (공백으로 구분): 3 2 -20 100 35\n",
      "최댓값: 100\n",
      "최솟값: -20\n",
      "평균: 24.0\n"
     ]
    }
   ],
   "source": [
    "#43 리스트 최대,최소,평균 구하기\n",
    "# 정수 개수 입력\n",
    "n = int(input(\"정수의 개수를 입력하세요: \"))\n",
    "\n",
    "# 정수 n개 입력받기 (음수 포함 가능)\n",
    "numbers = list(map(int, input(\"정수를 입력하세요 :\").split()))\n",
    "\n",
    "# 최대값, 최소값, 평균 계산\n",
    "maximum = max(numbers)\n",
    "minimum = min(numbers)\n",
    "average = sum(numbers) / len(numbers)\n",
    "\n",
    "# 결과 출력\n",
    "print(\"최댓값:\", maximum)\n",
    "print(\"최솟값:\", minimum)\n",
    "print(\"평균:\", round(average, 2))  # 평균을 소수 둘째 자리까지 반올림"
   ]
  },
  {
   "cell_type": "code",
   "execution_count": null,
   "id": "41712676",
   "metadata": {},
   "outputs": [],
   "source": [
    "#44 리스트 최대,최소,평균 구하기2\n"
   ]
  },
  {
   "cell_type": "code",
   "execution_count": 43,
   "id": "0e286735",
   "metadata": {},
   "outputs": [
    {
     "name": "stdout",
     "output_type": "stream",
     "text": [
      "1234\n"
     ]
    },
    {
     "data": {
      "text/plain": [
       "10"
      ]
     },
     "execution_count": 43,
     "metadata": {},
     "output_type": "execute_result"
    }
   ],
   "source": [
    "#45 각 자릿수의 합 구하기\n",
    "data = list(map(int,input()))\n",
    "sum(data)"
   ]
  },
  {
   "cell_type": "code",
   "execution_count": null,
   "id": "d3f40e0c",
   "metadata": {},
   "outputs": [],
   "source": [
    "#46 각 자릿수의 합 구하기2\n"
   ]
  },
  {
   "cell_type": "code",
   "execution_count": null,
   "id": "8c8e0951",
   "metadata": {},
   "outputs": [],
   "source": [
    "#47 카이사르 암호"
   ]
  },
  {
   "cell_type": "code",
   "execution_count": 44,
   "id": "3de719d9",
   "metadata": {},
   "outputs": [
    {
     "name": "stdout",
     "output_type": "stream",
     "text": [
      "Makit Code Lab!!\n",
      "mAKIT cODE lAB!!\n"
     ]
    }
   ],
   "source": [
    "#48 소분자는 대문자로, 대문자는 소문자로 변환하기\n",
    "text = input()\n",
    "swapped_text = text.swapcase()\n",
    "print(swapped_text)"
   ]
  }
 ],
 "metadata": {
  "kernelspec": {
   "display_name": "Python 3 (ipykernel)",
   "language": "python",
   "name": "python3"
  },
  "language_info": {
   "codemirror_mode": {
    "name": "ipython",
    "version": 3
   },
   "file_extension": ".py",
   "mimetype": "text/x-python",
   "name": "python",
   "nbconvert_exporter": "python",
   "pygments_lexer": "ipython3",
   "version": "3.9.23"
  }
 },
 "nbformat": 4,
 "nbformat_minor": 5
}
