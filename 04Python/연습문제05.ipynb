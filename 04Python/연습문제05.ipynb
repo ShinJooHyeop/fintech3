{
 "cells": [
  {
   "cell_type": "code",
   "execution_count": 3,
   "id": "9dc7a473",
   "metadata": {},
   "outputs": [
    {
     "data": {
      "text/plain": [
       "{'메이킷': 17, '우진': 9, '시은': 11, '제임스': 10}"
      ]
     },
     "execution_count": 3,
     "metadata": {},
     "output_type": "execute_result"
    }
   ],
   "source": [
    "#1. 우리 반 학생들의 이름과 나이 저장하기\n",
    "ban = {'메이킷':17,'우진':9,'시은':11,'제임스':10}\n",
    "ban"
   ]
  },
  {
   "cell_type": "code",
   "execution_count": 33,
   "id": "f37c9e15",
   "metadata": {},
   "outputs": [
    {
     "name": "stdout",
     "output_type": "stream",
     "text": [
      "내가 살고 있는 곳은 서울 입니다\n",
      "나의 성별은 여자 이고 이름은 시은 입니다.\n",
      "나이는 11 이고 이름은 b 형입니다.\n"
     ]
    }
   ],
   "source": [
    "#2. 자기소개하기\n",
    "s = {'사는 곳':'서울','성별':'여자','이름':'시은','나이':11,'혈액형':'b'}\n",
    "print(\"내가 살고 있는 곳은\",s['사는 곳'],\"입니다\")\n",
    "print('나의 성별은',s['성별'],'이고 이름은',s['이름'],'입니다.')\n",
    "print('나이는',s['나이'],'이고 이름은',s['혈액형'],'형입니다.')"
   ]
  },
  {
   "cell_type": "code",
   "execution_count": 42,
   "id": "56bb54fd",
   "metadata": {},
   "outputs": [
    {
     "name": "stdout",
     "output_type": "stream",
     "text": [
      "나의 성별은 남자 이고 이름은 우진 입니다.\n",
      "나이는 몇 살 인가요?9\n",
      "형액형은 무엇인가요?b\n",
      "나이는 9 살 이고 혈액형은 b 입니다.\n"
     ]
    }
   ],
   "source": [
    "#3. 딕셔너리에 추가하기\n",
    "s = {'사는곳':'인천 송도','성별':'남자','이름':'우진'}\n",
    "print('나의 성별은',s['성별'],'이고 이름은',s['이름'],'입니다.')\n",
    "print('나이는',input('나이는 몇 살 인가요?'),'살 이고 혈액형은',input('형액형은 무엇인가요?'),'입니다.')"
   ]
  },
  {
   "cell_type": "code",
   "execution_count": 46,
   "id": "023ce06d",
   "metadata": {},
   "outputs": [
    {
     "data": {
      "text/plain": [
       "{'성별': '남자', '이름': '우진'}"
      ]
     },
     "execution_count": 46,
     "metadata": {},
     "output_type": "execute_result"
    }
   ],
   "source": [
    "#4. 딕셔너리에서 삭제하기\n",
    "s = {'사는 곳':'인천 송도','성별':'남자','이름':'우진'}\n",
    "del s['사는 곳']\n",
    "s"
   ]
  },
  {
   "cell_type": "code",
   "execution_count": 50,
   "id": "784e5223",
   "metadata": {},
   "outputs": [
    {
     "data": {
      "text/plain": [
       "dict_keys(['사는곳', '성별', '이름'])"
      ]
     },
     "execution_count": 50,
     "metadata": {},
     "output_type": "execute_result"
    }
   ],
   "source": [
    "#5.  딕셔너리에서 뽑아내기 keys(),values(),items()\n",
    "s = {'사는곳':'인천 송도','성별':'남자','이름':'우진'}\n",
    "s.keys()"
   ]
  },
  {
   "cell_type": "code",
   "execution_count": 51,
   "id": "499ee044",
   "metadata": {},
   "outputs": [
    {
     "data": {
      "text/plain": [
       "dict_values(['인천 송도', '남자', '우진'])"
      ]
     },
     "execution_count": 51,
     "metadata": {},
     "output_type": "execute_result"
    }
   ],
   "source": [
    "s.values()"
   ]
  },
  {
   "cell_type": "code",
   "execution_count": 52,
   "id": "c6b35046",
   "metadata": {},
   "outputs": [
    {
     "data": {
      "text/plain": [
       "dict_items([('사는곳', '인천 송도'), ('성별', '남자'), ('이름', '우진')])"
      ]
     },
     "execution_count": 52,
     "metadata": {},
     "output_type": "execute_result"
    }
   ],
   "source": [
    "s.items()"
   ]
  },
  {
   "cell_type": "code",
   "execution_count": 78,
   "id": "a689ac47",
   "metadata": {},
   "outputs": [
    {
     "name": "stdout",
     "output_type": "stream",
     "text": [
      "물품 이름은?옥수수칩\n",
      "옥수수칩의 가격은 1800 입니다.\n"
     ]
    }
   ],
   "source": [
    "#6. 딕셔너리와 if 조건문의 만남\n",
    "store = {'새우칩':1500,'옥수수칩':1800,'콜라':700,'양파칩':1300}\n",
    "n = input('물품 이름은?')\n",
    "if n == '새우칩':\n",
    "    print('새우칩의 가격은',store['새우칩'],'입니다.')\n",
    "elif n == '옥수수칩':\n",
    "    print('옥수수칩의 가격은',store['옥수수칩'],'입니다.')\n",
    "elif n == '콜라':\n",
    "    print('콜라의 가격은',store['콜라'],'입니다.')\n",
    "elif n == '양파칩':\n",
    "    print('양파칩의 가격은',store['양파칩'],'입니다.')\n",
    "else:\n",
    "    print(n,'는 등록되어 있지 않습니다.')"
   ]
  },
  {
   "cell_type": "code",
   "execution_count": 7,
   "id": "5aeec432",
   "metadata": {},
   "outputs": [],
   "source": [
    "#7. 딕셔너리의 값으로 리스트 사용하기\n"
   ]
  },
  {
   "cell_type": "code",
   "execution_count": 8,
   "id": "864ea4a9",
   "metadata": {},
   "outputs": [],
   "source": [
    "#8. 딕셔너리의 값으로 딕셔너리 사용하기"
   ]
  },
  {
   "cell_type": "code",
   "execution_count": 9,
   "id": "b1ee3fcc",
   "metadata": {},
   "outputs": [],
   "source": [
    "#9. 두 수 비교하기"
   ]
  },
  {
   "cell_type": "code",
   "execution_count": 10,
   "id": "fa5786a2",
   "metadata": {},
   "outputs": [],
   "source": [
    "#10. 세 개의 수 비교하기"
   ]
  },
  {
   "cell_type": "code",
   "execution_count": 11,
   "id": "e89136d9",
   "metadata": {},
   "outputs": [],
   "source": [
    "#11. 홀수 찾기"
   ]
  },
  {
   "cell_type": "code",
   "execution_count": 12,
   "id": "eb186688",
   "metadata": {},
   "outputs": [],
   "source": [
    "#12 양수,음수,홀수,짝수 구분하기"
   ]
  },
  {
   "cell_type": "code",
   "execution_count": 13,
   "id": "d447069f",
   "metadata": {},
   "outputs": [],
   "source": [
    "#13 성적 결과 계산하기"
   ]
  },
  {
   "cell_type": "code",
   "execution_count": 14,
   "id": "c6ebd776",
   "metadata": {},
   "outputs": [],
   "source": [
    "#14 입력에 따라 친구 이름 출력하기"
   ]
  },
  {
   "cell_type": "code",
   "execution_count": 15,
   "id": "0bf2dd09",
   "metadata": {},
   "outputs": [],
   "source": [
    "#15  봄,여름,가을,겨울"
   ]
  },
  {
   "cell_type": "code",
   "execution_count": 16,
   "id": "f5c402aa",
   "metadata": {},
   "outputs": [],
   "source": [
    "#16 12월은 31일까지 있어요"
   ]
  },
  {
   "cell_type": "code",
   "execution_count": 17,
   "id": "bd637ae0",
   "metadata": {},
   "outputs": [],
   "source": [
    "#17 까다로운놀이기구1"
   ]
  },
  {
   "cell_type": "code",
   "execution_count": 18,
   "id": "7e3c292d",
   "metadata": {},
   "outputs": [],
   "source": [
    "#18 까다로운놀이기구2"
   ]
  },
  {
   "cell_type": "code",
   "execution_count": 19,
   "id": "d187769d",
   "metadata": {},
   "outputs": [],
   "source": [
    "#19 까다로운놀이기구3"
   ]
  },
  {
   "cell_type": "code",
   "execution_count": 20,
   "id": "ec6062bf",
   "metadata": {},
   "outputs": [],
   "source": [
    "#20 터널 통과하기"
   ]
  },
  {
   "cell_type": "code",
   "execution_count": 21,
   "id": "0dccc0ca",
   "metadata": {},
   "outputs": [],
   "source": [
    "#21 올해는 윤년일까? Yes or No"
   ]
  },
  {
   "cell_type": "code",
   "execution_count": 22,
   "id": "09980fc0",
   "metadata": {},
   "outputs": [],
   "source": [
    "#22 주민등록번호 분석기"
   ]
  },
  {
   "cell_type": "code",
   "execution_count": 23,
   "id": "89f5d954",
   "metadata": {},
   "outputs": [],
   "source": [
    "#23 윷놀이"
   ]
  },
  {
   "cell_type": "code",
   "execution_count": 24,
   "id": "cd24bbc2",
   "metadata": {},
   "outputs": [],
   "source": [
    "#24 표준 몸무게 알아보기"
   ]
  },
  {
   "cell_type": "code",
   "execution_count": 25,
   "id": "0eb845b0",
   "metadata": {},
   "outputs": [],
   "source": [
    "#25 삼각형 만들기"
   ]
  },
  {
   "cell_type": "code",
   "execution_count": 26,
   "id": "fdb2f566",
   "metadata": {},
   "outputs": [],
   "source": [
    "#26 로켓발사1"
   ]
  },
  {
   "cell_type": "code",
   "execution_count": 27,
   "id": "b4adb22c",
   "metadata": {},
   "outputs": [],
   "source": [
    "#27 로켓발사2"
   ]
  },
  {
   "cell_type": "code",
   "execution_count": 28,
   "id": "faf4958b",
   "metadata": {},
   "outputs": [],
   "source": [
    "#28 로켓 발사 10초 전"
   ]
  },
  {
   "cell_type": "code",
   "execution_count": 29,
   "id": "74651afb",
   "metadata": {},
   "outputs": [],
   "source": [
    "#29 1부터 100까지 모두 합한수1"
   ]
  },
  {
   "cell_type": "code",
   "execution_count": 30,
   "id": "fcd2df8b",
   "metadata": {},
   "outputs": [],
   "source": [
    "#30 1부터 100까지 모두 합한수2"
   ]
  },
  {
   "cell_type": "code",
   "execution_count": 31,
   "id": "cd1d44fb",
   "metadata": {},
   "outputs": [],
   "source": [
    "#31 음수 나올 떄까지 반복하기"
   ]
  },
  {
   "cell_type": "code",
   "execution_count": 32,
   "id": "42b3b99f",
   "metadata": {},
   "outputs": [],
   "source": [
    "#32 옆으로 출력하기"
   ]
  },
  {
   "cell_type": "code",
   "execution_count": 33,
   "id": "ad7aa01a",
   "metadata": {},
   "outputs": [],
   "source": [
    "#33 1+2+3+4+5 = 15"
   ]
  },
  {
   "cell_type": "code",
   "execution_count": 34,
   "id": "80b09884",
   "metadata": {},
   "outputs": [],
   "source": [
    "#34 짝수들만 합하기"
   ]
  },
  {
   "cell_type": "code",
   "execution_count": 35,
   "id": "f3c83e11",
   "metadata": {},
   "outputs": [],
   "source": [
    "#35 for반복문과 문자열의 만남"
   ]
  },
  {
   "cell_type": "code",
   "execution_count": 36,
   "id": "d96f11e3",
   "metadata": {},
   "outputs": [],
   "source": [
    "#36 for 반복문과 리스트의 만남"
   ]
  },
  {
   "cell_type": "code",
   "execution_count": 37,
   "id": "3ab05e9d",
   "metadata": {},
   "outputs": [],
   "source": [
    "#37 다음 반복문으로 바로가기"
   ]
  },
  {
   "cell_type": "code",
   "execution_count": 38,
   "id": "2a3dc625",
   "metadata": {},
   "outputs": [],
   "source": [
    "#38 반복문 깨고 바로 나가기"
   ]
  },
  {
   "cell_type": "code",
   "execution_count": 40,
   "id": "cfc50508",
   "metadata": {},
   "outputs": [],
   "source": [
    "#39 가장 작은 숫자 찾기"
   ]
  },
  {
   "cell_type": "code",
   "execution_count": 41,
   "id": "eaf780ef",
   "metadata": {},
   "outputs": [],
   "source": [
    "#40 터널 통과하기2"
   ]
  },
  {
   "cell_type": "code",
   "execution_count": 42,
   "id": "71dc2f64",
   "metadata": {},
   "outputs": [],
   "source": [
    "#41 행운의 숫자 7 모두 찾기"
   ]
  },
  {
   "cell_type": "code",
   "execution_count": 43,
   "id": "1ccb3852",
   "metadata": {},
   "outputs": [],
   "source": [
    "#42 약수 구하기"
   ]
  },
  {
   "cell_type": "code",
   "execution_count": 44,
   "id": "b5d4709b",
   "metadata": {},
   "outputs": [],
   "source": [
    "#43 리스트 최대,최소,평균 구하기"
   ]
  },
  {
   "cell_type": "code",
   "execution_count": 45,
   "id": "41712676",
   "metadata": {},
   "outputs": [],
   "source": [
    "#44 리스트 최대,최소,평균 구하기2"
   ]
  },
  {
   "cell_type": "code",
   "execution_count": 46,
   "id": "0e286735",
   "metadata": {},
   "outputs": [],
   "source": [
    "#45 각 자릿수의 합 구하기"
   ]
  },
  {
   "cell_type": "code",
   "execution_count": 47,
   "id": "d3f40e0c",
   "metadata": {},
   "outputs": [],
   "source": [
    "#46 각 자릿수의 합 구하기2"
   ]
  },
  {
   "cell_type": "code",
   "execution_count": 48,
   "id": "8c8e0951",
   "metadata": {},
   "outputs": [],
   "source": [
    "#47 카이사르 암호"
   ]
  },
  {
   "cell_type": "code",
   "execution_count": 49,
   "id": "3de719d9",
   "metadata": {},
   "outputs": [],
   "source": [
    "#48 소분자는 대문자로, 대문자는 소문자로 변환하기"
   ]
  }
 ],
 "metadata": {
  "kernelspec": {
   "display_name": "Python 3 (ipykernel)",
   "language": "python",
   "name": "python3"
  },
  "language_info": {
   "codemirror_mode": {
    "name": "ipython",
    "version": 3
   },
   "file_extension": ".py",
   "mimetype": "text/x-python",
   "name": "python",
   "nbconvert_exporter": "python",
   "pygments_lexer": "ipython3",
   "version": "3.9.23"
  }
 },
 "nbformat": 4,
 "nbformat_minor": 5
}
